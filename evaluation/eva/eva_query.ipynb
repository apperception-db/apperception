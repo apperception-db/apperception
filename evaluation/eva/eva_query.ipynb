{
 "cells": [
  {
   "cell_type": "code",
   "execution_count": null,
   "metadata": {},
   "outputs": [],
   "source": [
    "import os\n",
    "import time\n",
    "# os.environ[\"PYTORCH_CUDA_ALLOC_CONF\"] = \"max_split_size_mb:1028\"\n",
    "\n",
    "import torch\n",
    "torch.cuda.empty_cache()"
   ]
  },
  {
   "cell_type": "code",
   "execution_count": null,
   "metadata": {},
   "outputs": [],
   "source": [
    "import shutil\n",
    "\n",
    "# delete db\n",
    "try:\n",
    "    shutil.rmtree(\"/home/youse/apperception/eva/evadb_data\", ignore_errors=True)\n",
    "except Exception:\n",
    "    print(\"Dir does not exist\")\n",
    "print(\"deleting db\")"
   ]
  },
  {
   "cell_type": "code",
   "execution_count": null,
   "metadata": {},
   "outputs": [],
   "source": [
    "%pip install --quiet \"evadb[vision,notebook]\"\n",
    "import evadb\n",
    "cursor = evadb.connect().cursor()\n",
    "\"\"\"\n",
    "Issues Encountered:\n",
    "cant have negative numbers in multidimensional arrays\n",
    "cant have camel case words\n",
    "cant have float attributes\n",
    "cant change column types of udf without restarting db and deleting\n",
    "query takes infinitley long when UDF in \n",
    "inner join does not work\n",
    "\"\"\""
   ]
  },
  {
   "cell_type": "code",
   "execution_count": null,
   "metadata": {},
   "outputs": [],
   "source": [
    "### Set up Yolo UDF\n",
    "cursor.query(\"\"\"\n",
    "            CREATE UDF IF NOT EXISTS Yolo\n",
    "            TYPE  ultralytics\n",
    "            'model' 'yolov8m.pt';\n",
    "    \"\"\").df() "
   ]
  },
  {
   "cell_type": "code",
   "execution_count": null,
   "metadata": {},
   "outputs": [],
   "source": [
    "### Set up Monodepth UDF\n",
    "cursor.query(\"\"\" \n",
    "            CREATE UDF IF NOT EXISTS MonodepthDetection\n",
    "            IMPL'/home/youse/apperception/eva/udfs/monodepth_detection.py';\n",
    "    \"\"\").df()"
   ]
  },
  {
   "cell_type": "code",
   "execution_count": null,
   "metadata": {},
   "outputs": [],
   "source": [
    "### Set up Location UDF\n",
    "cursor.query(\"\"\" \n",
    "            CREATE UDF IF NOT EXISTS LocationDetection\n",
    "            IMPL'/home/youse/apperception/eva/udfs/location_detection.py';\n",
    "    \"\"\").df()"
   ]
  },
  {
   "cell_type": "code",
   "execution_count": null,
   "metadata": {},
   "outputs": [],
   "source": [
    "### Set up Q1 Query UDF\n",
    "cursor.query(\"\"\" \n",
    "        CREATE UDF IF NOT EXISTS QE1\n",
    "        IMPL'/home/youse/apperception/eva/udfs/QE1.py';\n",
    "\"\"\").df()\n",
    "\n",
    "### Set up Q2 Query UDF\n",
    "cursor.query(\"\"\" \n",
    "        CREATE UDF IF NOT EXISTS QE2\n",
    "        IMPL'/home/youse/apperception/eva/udfs/QE2.py';\n",
    "\"\"\").df()\n",
    "\n",
    "### Set up Q3 Query UDF\n",
    "cursor.query(\"\"\" \n",
    "        CREATE UDF IF NOT EXISTS QE3\n",
    "        IMPL'/home/youse/apperception/eva/udfs/QE3.py';\n",
    "\"\"\").df()\n",
    "\n",
    "### Set up Q4 Query UDF\n",
    "cursor.query(\"\"\" \n",
    "        CREATE UDF IF NOT EXISTS QE4\n",
    "        IMPL'/home/youse/apperception/eva/udfs/QE4.py';\n",
    "\"\"\").df()\n",
    "\n",
    "### Set up SameVideo UDF\n",
    "cursor.query(\"\"\" \n",
    "        CREATE UDF IF NOT EXISTS SameVideo\n",
    "        IMPL'/home/youse/apperception/eva/udfs/same_video.py';\n",
    "\"\"\").df()"
   ]
  },
  {
   "cell_type": "code",
   "execution_count": null,
   "metadata": {},
   "outputs": [],
   "source": [
    "### Set up SameVideo UDF\n",
    "cursor.query(\"\"\" \n",
    "            CREATE UDF IF NOT EXISTS SameVideo\n",
    "            IMPL'/home/youse/apperception/eva/udfs/same_video.py';\n",
    "    \"\"\").df()"
   ]
  },
  {
   "cell_type": "code",
   "execution_count": null,
   "metadata": {},
   "outputs": [],
   "source": [
    "# Certain attributes are made TEXTs due to issues Eva has with negative numbers\n",
    "cursor.query(\"DROP TABLE IF EXISTS CameraConfigs;\").df()\n",
    "cursor.create_table(\"CameraConfigs\", if_not_exists=True, columns=\"\"\"\n",
    "                cameraid TEXT(15),\n",
    "                framenum INTEGER,\n",
    "                cameratranslation NDARRAY FLOAT32(ANYDIM),\n",
    "                camerarotation TEXT(100),\n",
    "                cameraintrinsic NDARRAY FLOAT32(ANYDIM),\n",
    "                egoheading TEXT(15),\n",
    "                filename TEXT(30)\n",
    "            \"\"\").df()\n"
   ]
  },
  {
   "cell_type": "code",
   "execution_count": null,
   "metadata": {},
   "outputs": [],
   "source": [
    "### Load Data\n",
    "from apperception.database import database\n",
    "import pandas as pd\n",
    "\n",
    "cursor.query(\"DROP TABLE IF EXISTS ObjectDetectionVideos;\").df()\n",
    "\n",
    "with open(\"scene-names.txt\", 'r') as f:\n",
    "    for sceneNumber in [\"0757\"]:\n",
    "        sceneNumber = sceneNumber.strip()\n",
    "        # Load videos\n",
    "        video_name = f\"boston-seaport-scene-{sceneNumber}-CAM_FRONT.mp4\"\n",
    "        scene = f\"scene-{sceneNumber}-CAM_FRONT\"\n",
    "        video_path = \"/data/processed/full-dataset/trainval/videos/\"\n",
    "        cursor.load(file_regex=video_path + video_name, format=\"VIDEO\", table_name='ObjectDetectionVideos').df()\n",
    "\n",
    "        # Add camera configs\n",
    "        result = database.execute(f\"SELECT cameraId, ROW_NUMBER() OVER (Order by frameNum) AS RowNumber, cameraTranslation, cameraRotation, cameraIntrinsic, egoHeading, filename FROM Cameras WHERE cameraId = '{scene}'\")\n",
    "        df = pd.DataFrame()\n",
    "        for r in result:\n",
    "            cameraId, frameNum, cameraTranslation, cameraRotation, cameraIntrinsic, egoHeading, filename = r\n",
    "            cameraTranslation = list(cameraTranslation)\n",
    "            # FrameNums in Eva are zero-indexed, so we subtract one before inserting\n",
    "            cursor.query(f\"\"\"INSERT INTO CameraConfigs (cameraid, framenum, cameratranslation, camerarotation, cameraintrinsic, egoheading, filename) VALUES\n",
    "                                        ('{cameraId}', {frameNum - 1}, {cameraTranslation}, '{cameraRotation}', {cameraIntrinsic}, '{egoHeading}', '{filename}');\"\"\").df()\n",
    "\n",
    "        "
   ]
  },
  {
   "cell_type": "code",
   "execution_count": null,
   "metadata": {},
   "outputs": [],
   "source": [
    "### Run query 1\n",
    "start = time.time()\n",
    "\n",
    "res1 = cursor.query(\"\"\"\n",
    "                SELECT framenum, id, cameraid, filename, name, egoheading, cameratranslation, LocationDetection(Yolo(data), MonodepthDetection(data).depth, cameratranslation, camerarotation, cameraintrinsic), QE1(LocationDetection(Yolo(data), MonodepthDetection(data).depth, cameratranslation, camerarotation, cameraintrinsic), cameratranslation, egoheading).queryresult\n",
    "                    FROM ObjectDetectionVideos JOIN CameraConfigs ON (id = framenum AND SameVideo(name, cameraid).issame)\n",
    "    \"\"\").df()\n",
    "res1 = res1[res1[\"qe1.queryresult\"]]\n",
    "end = time.time()\n",
    "print(\"Query 1 Time:\", format(end-start))"
   ]
  },
  {
   "cell_type": "code",
   "execution_count": null,
   "metadata": {},
   "outputs": [],
   "source": [
    "### Run query 2\n",
    "start = time.time()\n",
    "\n",
    "res2 = cursor.query(\"\"\"\n",
    "                SELECT framenum, id, cameraid, filename, name, egoheading, cameratranslation, LocationDetection(Yolo(data), MonodepthDetection(data).depth, cameratranslation, camerarotation, cameraintrinsic), QE2(LocationDetection(Yolo(data), MonodepthDetection(data).depth, cameratranslation, camerarotation, cameraintrinsic), cameratranslation, egoheading).queryresult\n",
    "                    FROM ObjectDetectionVideos JOIN CameraConfigs ON (id = framenum AND SameVideo(name, cameraid).issame)\n",
    "    \"\"\").df()\n",
    "res2 = res2[res2[\"qe2.queryresult\"]]\n",
    "\n",
    "end = time.time()\n",
    "print(\"Query 2 Time:\", format(end-start))"
   ]
  },
  {
   "cell_type": "code",
   "execution_count": null,
   "metadata": {},
   "outputs": [],
   "source": [
    "### Run query 3\n",
    "start = time.time()\n",
    "\n",
    "res3 = cursor.query(\"\"\"\n",
    "                SELECT framenum, id, cameraid, filename, name, egoheading, cameratranslation, LocationDetection(Yolo(data), MonodepthDetection(data).depth, cameratranslation, camerarotation, cameraintrinsic), QE3(LocationDetection(Yolo(data), MonodepthDetection(data).depth, cameratranslation, camerarotation, cameraintrinsic), cameratranslation, egoheading).queryresult\n",
    "                    FROM ObjectDetectionVideos JOIN CameraConfigs ON (id = framenum AND SameVideo(name, cameraid).issame)\n",
    "    \"\"\").df()\n",
    "res3 = res3[res3[\"qe3.queryresult\"]]\n",
    "\n",
    "end = time.time()\n",
    "print(\"Query 3 Time:\", format(end-start))"
   ]
  },
  {
   "cell_type": "code",
   "execution_count": null,
   "metadata": {},
   "outputs": [],
   "source": [
    "### Run query 4\n",
    "start = time.time()\n",
    "\n",
    "res4 = cursor.query(\"\"\"\n",
    "                SELECT framenum, id, cameraid, filename, name, egoheading, cameratranslation, LocationDetection(Yolo(data), MonodepthDetection(data).depth, cameratranslation, camerarotation, cameraintrinsic), QE4(LocationDetection(Yolo(data), MonodepthDetection(data).depth, cameratranslation, camerarotation, cameraintrinsic), cameratranslation, egoheading).queryresult\n",
    "                    FROM ObjectDetectionVideos JOIN CameraConfigs ON (id = framenum AND SameVideo(name, cameraid).issame)\n",
    "    \"\"\").df()\n",
    "res4= res4[res4[\"qe4.queryresult\"]]\n",
    "\n",
    "end = time.time()\n",
    "print(\"Query 4 Time:\", format(end-start))"
   ]
  },
  {
   "cell_type": "code",
   "execution_count": null,
   "metadata": {},
   "outputs": [],
   "source": [
    "res3"
   ]
  },
  {
   "cell_type": "code",
   "execution_count": null,
   "metadata": {},
   "outputs": [],
   "source": [
    "import cv2\n",
    "import matplotlib.pyplot as plt\n",
    "\n",
    "\n",
    "def displayFrame(row):\n",
    "    prefix = \"/data/raw/full-dataset/trainval/\"\n",
    "    # itemIds = ['scene-0757-CAM_FRONT_obj_44', 'scene-0757-CAM_FRONT_obj_23']\n",
    "    frame_im = cv2.imread(prefix + row['cameraconfigs.filename'])\n",
    "    plt.imshow(frame_im)\n",
    "\n",
    "\n",
    "displayFrame(res3.iloc[1])\n"
   ]
  },
  {
   "cell_type": "code",
   "execution_count": null,
   "metadata": {},
   "outputs": [],
   "source": [
    "res1"
   ]
  }
 ],
 "metadata": {
  "kernelspec": {
   "display_name": "apperception",
   "language": "python",
   "name": "python3"
  },
  "language_info": {
   "codemirror_mode": {
    "name": "ipython",
    "version": 3
   },
   "file_extension": ".py",
   "mimetype": "text/x-python",
   "name": "python",
   "nbconvert_exporter": "python",
   "pygments_lexer": "ipython3",
   "version": "3.10.12"
  }
 },
 "nbformat": 4,
 "nbformat_minor": 2
}
