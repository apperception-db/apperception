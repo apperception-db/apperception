{
 "cells": [
  {
   "cell_type": "code",
   "execution_count": 1,
   "metadata": {},
   "outputs": [],
   "source": [
    "### IMPORTANT!!!\n",
    "### set remote to True if on remote machine\n",
    "### set remote to False if local\n",
    "remote = False\n",
    "\n",
    "data_path = \"../../data/\" if remote else \"../\""
   ]
  },
  {
   "cell_type": "code",
   "execution_count": 2,
   "metadata": {},
   "outputs": [],
   "source": [
    "import json\n",
    "import os\n",
    "import sys\n",
    "sys.path.append(os.path.join(os.getcwd(), \"../apperception\"))\n",
    "\n",
    "### IMPORTANT!!!\n",
    "### edit database connect config in 'road_ingest.py' line 4 if on remote machine\n",
    "from road_ingest import *"
   ]
  },
  {
   "cell_type": "code",
   "execution_count": 4,
   "metadata": {},
   "outputs": [],
   "source": [
    "### To run locally: road_network folder is in apperception drive folder, put it under the root directory\n",
    "\n",
    "with open(data_path + 'road_network/polygon.json', 'r') as f:\n",
    "    polygons = json.load(f)\n",
    "\n",
    "create_polygon_table(polygons)"
   ]
  },
  {
   "cell_type": "code",
   "execution_count": 5,
   "metadata": {},
   "outputs": [],
   "source": [
    "with open(data_path + 'road_network/segment.json', 'r') as f:\n",
    "    segments = json.load(f)\n",
    "\n",
    "create_segment_table(segments)"
   ]
  },
  {
   "cell_type": "code",
   "execution_count": 6,
   "metadata": {},
   "outputs": [],
   "source": [
    "with open(data_path + 'road_network/laneSection.json', 'r') as f:\n",
    "    laneSections = json.load(f)\n",
    "\n",
    "create_lanesection_table(laneSections)"
   ]
  },
  {
   "cell_type": "code",
   "execution_count": 7,
   "metadata": {},
   "outputs": [],
   "source": [
    "with open(data_path + 'road_network/lane.json', 'r') as f:\n",
    "    lanes = json.load(f)\n",
    "\n",
    "create_lane_table(lanes)"
   ]
  },
  {
   "cell_type": "code",
   "execution_count": 8,
   "metadata": {},
   "outputs": [],
   "source": [
    "with open(data_path + 'road_network/lane_laneSec.json', 'r') as f:\n",
    "    lane_laneSec = json.load(f)\n",
    "\n",
    "create_lane_lanesec_table(lane_laneSec)"
   ]
  },
  {
   "cell_type": "code",
   "execution_count": 9,
   "metadata": {},
   "outputs": [],
   "source": [
    "with open(data_path + 'road_network/laneGroup.json', 'r') as f:\n",
    "    laneGroups = json.load(f)\n",
    "\n",
    "create_lanegroup_table(laneGroups)"
   ]
  },
  {
   "cell_type": "code",
   "execution_count": 10,
   "metadata": {},
   "outputs": [],
   "source": [
    "with open(data_path + 'road_network/laneGroup_lane.json', 'r') as f:\n",
    "    laneGroup_lane = json.load(f)\n",
    "\n",
    "create_lanegroup_lane_table(laneGroup_lane)"
   ]
  },
  {
   "cell_type": "code",
   "execution_count": 11,
   "metadata": {},
   "outputs": [],
   "source": [
    "with open(data_path + 'road_network/laneGroup_opposite.json', 'r') as f:\n",
    "    opposite_lanegroup = json.load(f)\n",
    "\n",
    "create_opposite_lanegroup_table(opposite_lanegroup)"
   ]
  },
  {
   "cell_type": "code",
   "execution_count": 12,
   "metadata": {},
   "outputs": [],
   "source": [
    "with open(data_path + 'road_network/road.json', 'r') as f:\n",
    "    roads = json.load(f)\n",
    "\n",
    "create_road_table(roads)"
   ]
  },
  {
   "cell_type": "code",
   "execution_count": 13,
   "metadata": {},
   "outputs": [],
   "source": [
    "with open(data_path + 'road_network/road_laneGroup.json', 'r') as f:\n",
    "    road_laneGroups = json.load(f)\n",
    "\n",
    "create_road_lanegroup_table(road_laneGroups)"
   ]
  },
  {
   "cell_type": "code",
   "execution_count": 14,
   "metadata": {},
   "outputs": [],
   "source": [
    "with open(data_path + 'road_network/road_roadSec.json', 'r') as f:\n",
    "    road_roadSecs = json.load(f)\n",
    "\n",
    "create_road_roadsec_table(road_roadSecs)"
   ]
  },
  {
   "cell_type": "code",
   "execution_count": 15,
   "metadata": {},
   "outputs": [],
   "source": [
    "with open(data_path + 'road_network/roadSection.json', 'r') as f:\n",
    "    roadSections = json.load(f)\n",
    "\n",
    "create_roadsection_table(roadSections)"
   ]
  },
  {
   "cell_type": "code",
   "execution_count": 16,
   "metadata": {},
   "outputs": [],
   "source": [
    "with open(data_path + 'road_network/roadSec_laneSec.json', 'r') as f:\n",
    "    roadSec_laneSecs = json.load(f)\n",
    "\n",
    "create_roadsec_lanesec_table(roadSec_laneSecs)"
   ]
  },
  {
   "cell_type": "code",
   "execution_count": 3,
   "metadata": {},
   "outputs": [],
   "source": [
    "with open(data_path + 'road_network/intersection.json', 'r') as f:\n",
    "    intersections = json.load(f)\n",
    "\n",
    "create_intersection_table(intersections)"
   ]
  }
 ],
 "metadata": {
  "interpreter": {
   "hash": "d1ebbbbebe0b321822a39ecbfca66d0c03abc4d281e3cc2ccaa4a279f64e6234"
  },
  "kernelspec": {
   "display_name": "Python 3.7.4",
   "language": "python",
   "name": "python3"
  },
  "language_info": {
   "codemirror_mode": {
    "name": "ipython",
    "version": 3
   },
   "file_extension": ".py",
   "mimetype": "text/x-python",
   "name": "python",
   "nbconvert_exporter": "python",
   "pygments_lexer": "ipython3",
   "version": "3.7.4"
  },
  "orig_nbformat": 4
 },
 "nbformat": 4,
 "nbformat_minor": 2
}
