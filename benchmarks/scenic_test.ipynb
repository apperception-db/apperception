{
 "cells": [
  {
   "cell_type": "code",
   "execution_count": null,
   "id": "c64f8a04",
   "metadata": {},
   "outputs": [],
   "source": [
    "%cd .."
   ]
  },
  {
   "cell_type": "code",
   "execution_count": null,
   "id": "a644cff5",
   "metadata": {},
   "outputs": [],
   "source": [
    "import os\n",
    "import sys\n",
    "sys.path.append(os.path.join(os.getcwd(),\"apperception\"))\n",
    "\n",
    "### IMPORTS\n",
    "import cv2\n",
    "\n",
    "from world import *\n",
    "from world_executor import *\n",
    "from video_util import *\n",
    "from metadata_util import *\n",
    "import json\n",
    "import pandas as pd\n",
    "\n",
    "from scenic_generate_df import *\n"
   ]
  },
  {
   "cell_type": "code",
   "execution_count": null,
   "id": "230d3b5e",
   "metadata": {},
   "outputs": [],
   "source": [
    "### Directly import all mini data to db without using the API\n",
    "### Make sure you've downloaded the data from drive\n",
    "from scenic_util import *\n",
    "import psycopg2\n",
    "conn = psycopg2.connect(\n",
    "        database=\"mobilitydb\", user=\"docker\", password=\"docker\", host=\"localhost\", port=25432)\n",
    "clean_tables(conn)\n",
    "import_tables(conn)"
   ]
  },
  {
   "cell_type": "code",
   "execution_count": null,
   "id": "923f1ffe",
   "metadata": {},
   "outputs": [],
   "source": [
    "### Let's define some attribute for constructing the world first\n",
    "name = 'ScenicWorld' # world name\n",
    "units = 'metrics'      # world units\n",
    "user_data_dir = os.path.join(\"v1.0-mini\")"
   ]
  },
  {
   "cell_type": "code",
   "execution_count": null,
   "id": "7d950c6f",
   "metadata": {},
   "outputs": [],
   "source": [
    "# generate dataframes from scenic json files\n",
    "# takes 1min to run\n",
    "df_sample_data, df_annotation = scenic_generate_df()"
   ]
  },
  {
   "cell_type": "code",
   "execution_count": null,
   "id": "8b533a16",
   "metadata": {},
   "outputs": [],
   "source": [
    "df_sample_data"
   ]
  },
  {
   "cell_type": "code",
   "execution_count": null,
   "id": "0ab854a0",
   "metadata": {},
   "outputs": [],
   "source": [
    "df_annotation"
   ]
  },
  {
   "cell_type": "code",
   "execution_count": null,
   "id": "6e47833c",
   "metadata": {},
   "outputs": [],
   "source": [
    "scenic_world = World(name=name, units=units)"
   ]
  },
  {
   "cell_type": "code",
   "execution_count": null,
   "id": "8ec55131",
   "metadata": {},
   "outputs": [],
   "source": [
    "### Ingest the camera to the world\n",
    "scene_name = \"scene-0061\"\n",
    "scenic_world_61 = scenic_world.camera(scene_name)"
   ]
  },
  {
   "cell_type": "code",
   "execution_count": null,
   "id": "d117b196",
   "metadata": {},
   "outputs": [],
   "source": [
    "### Call execute on the world to run the detection algorithm and save the real data to the database\n",
    "recognized_scenic_world_61 = scenic_world_61.recognize(scene_name, df_sample_data, df_annotation)\n",
    "recognized_scenic_world_61.execute()"
   ]
  },
  {
   "cell_type": "code",
   "execution_count": null,
   "id": "aa92c3e8",
   "metadata": {},
   "outputs": [],
   "source": [
    "scenes = [\"scene-0103\",\"scene-0553\", \"scene-0655\", \"scene-0757\", \"scene-0796\",\n",
    "          \"scene-0916\", \"scene-1077\", \"scene-1094\", \"scene-1100\"]\n",
    "for scene in scenes:\n",
    "    current_scenic_world = scenic_world.camera(scene)\n",
    "    current_recognized_scenic_world = current_scenic_world.recognize(scene, df_sample_data, df_annotation)\n",
    "    current_recognized_scenic_world.execute()\n"
   ]
  },
  {
   "cell_type": "code",
   "execution_count": null,
   "id": "20e5891a",
   "metadata": {},
   "outputs": [],
   "source": [
    "# the trajectory returned now includes the temporal info instead of just the spatio info\n",
    "car_trajectories = scenic_world.predicate(lambda obj:obj.object_type == \"vehicle.car\").get_trajectory().execute()"
   ]
  },
  {
   "cell_type": "code",
   "execution_count": null,
   "id": "8561179d",
   "metadata": {},
   "outputs": [],
   "source": [
    "print(car_trajectories[0][0])"
   ]
  },
  {
   "cell_type": "code",
   "execution_count": null,
   "id": "48cf27c4",
   "metadata": {},
   "outputs": [],
   "source": [
    "frame_num = scenic_world.trajectory_to_frame_num(car_trajectories)\n",
    "frame_num"
   ]
  },
  {
   "cell_type": "code",
   "execution_count": null,
   "id": "41c8bf00",
   "metadata": {},
   "outputs": [],
   "source": [
    "camera_info = []\n",
    "for cur_frame_num in frame_num:\n",
    "    camera_info.append(scenic_world.get_camera(scene_name, cur_frame_num))\n",
    "camera_info[0]"
   ]
  },
  {
   "cell_type": "code",
   "execution_count": null,
   "id": "1a8aea00",
   "metadata": {},
   "outputs": [],
   "source": [
    "scenic_world.get_overlay_info(car_trajectories, camera_info)"
   ]
  },
  {
   "cell_type": "code",
   "execution_count": null,
   "id": "8c317508",
   "metadata": {},
   "outputs": [],
   "source": [
    "bboxes = scenic_world.predicate(lambda obj:obj.object_type == \"vehicle.car\").get_geo().execute()"
   ]
  },
  {
   "cell_type": "code",
   "execution_count": null,
   "id": "39186ac0",
   "metadata": {},
   "outputs": [],
   "source": [
    "bboxes.shape"
   ]
  },
  {
   "cell_type": "code",
   "execution_count": null,
   "id": "43b9020a",
   "metadata": {},
   "outputs": [],
   "source": [
    "### Save data to picke files ###\n",
    "import pickle\n",
    "\n",
    "sample_data_file = open(\"df_sample_data.pickle\", \"ab\")\n",
    "pickle.dump(df_sample_data, sample_data_file)                     \n",
    "sample_data_file.close()\n",
    "\n",
    "annonation_file = open(\"df_annotation.pickle\", \"ab\")\n",
    "pickle.dump(df_annotation, annonation_file)                     \n",
    "annonation_file.close()"
   ]
  }
 ],
 "metadata": {
  "celltoolbar": "Raw Cell Format",
  "interpreter": {
   "hash": "31f2aee4e71d21fbe5cf8b01ff0e069b9275f58929596ceb00d14d90e3e16cd6"
  },
  "kernelspec": {
   "display_name": "Python 3 (ipykernel)",
   "language": "python",
   "name": "python3"
  },
  "language_info": {
   "codemirror_mode": {
    "name": "ipython",
    "version": 3
   },
   "file_extension": ".py",
   "mimetype": "text/x-python",
   "name": "python",
   "nbconvert_exporter": "python",
   "pygments_lexer": "ipython3",
   "version": "3.8.8"
  }
 },
 "nbformat": 4,
 "nbformat_minor": 5
}
