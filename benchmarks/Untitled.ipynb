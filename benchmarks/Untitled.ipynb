{
 "cells": [
  {
   "cell_type": "code",
   "execution_count": null,
   "id": "79ef7cd4",
   "metadata": {},
   "outputs": [],
   "source": [
    "from utils.segment_hota.map_points_to_segments import map_points_to_segments\n",
    "from utils.segment_hota.detection_accuracy import detection_accuracy\n",
    "from utils.segment_hota.association_accuracy import association_accuracy\n",
    "from utils.segment_hota.types import Polygon, Segment, SegmentDetection\n",
    "from utils.segment_hota.object_type import object_type"
   ]
  },
  {
   "cell_type": "code",
   "execution_count": null,
   "id": "505b32b5",
   "metadata": {},
   "outputs": [],
   "source": [
    "import os\n",
    "import json\n",
    "import shapely.wkt\n",
    "import shapely.wkt\n",
    "import postgis\n",
    "import postgis.geometry"
   ]
  },
  {
   "cell_type": "code",
   "execution_count": null,
   "id": "1cd66ded",
   "metadata": {},
   "outputs": [],
   "source": [
    "with open(os.path.join('/data/apperception-data/processed/nuscenes/full-dataset-v1.0/Mini/annotation_splitted.json'), 'r') as f:\n",
    "    ground_truth_split = json.load(f)\n",
    "    "
   ]
  },
  {
   "cell_type": "code",
   "execution_count": null,
   "id": "d1aaf458",
   "metadata": {},
   "outputs": [],
   "source": [
    "with open(os.path.join('/data/chanwutk/code/apperception/outputs/segment-tracking-without-de-segment.json'), 'r') as f:\n",
    "    prediction_split = json.load(f)\n",
    "# [*prediction_split.values()][0]\n",
    "\n"
   ]
  },
  {
   "cell_type": "code",
   "execution_count": null,
   "id": "97ee9649",
   "metadata": {},
   "outputs": [],
   "source": [
    "[*prediction_split.keys()][0]"
   ]
  },
  {
   "cell_type": "code",
   "execution_count": null,
   "id": "285940ef",
   "metadata": {},
   "outputs": [],
   "source": [
    "with open(os.path.join('/data/chanwutk/code/apperception/outputs/segment-tracking-without-de-frame-id.json'), 'r') as f:\n",
    "    prediction_frame_id_split = json.load(f)\n",
    "# [*prediction_frame_id_split.values()][0]\n",
    "\n"
   ]
  },
  {
   "cell_type": "code",
   "execution_count": null,
   "id": "4ed1066a",
   "metadata": {},
   "outputs": [],
   "source": [
    "[*ground_truth_split.values()][30][1]"
   ]
  },
  {
   "cell_type": "code",
   "execution_count": null,
   "id": "ca6fcaac",
   "metadata": {},
   "outputs": [],
   "source": [
    "[*ground_truth_split.keys()][0]"
   ]
  },
  {
   "cell_type": "code",
   "execution_count": null,
   "id": "95f47176",
   "metadata": {},
   "outputs": [],
   "source": [
    "def format_prediction(prediction_frames, predictions):\n",
    "    out = []\n",
    "    for fid, pds in zip(prediction_frames, predictions):\n",
    "        for oid, pd in pds.items():\n",
    "            road_polygon_info = pd['road_polygon_info']\n",
    "            if road_polygon_info is None:\n",
    "                continue\n",
    "#             print(pd['segment_line'])\n",
    "#             print(fid)\n",
    "            out.append(SegmentDetection(\n",
    "                oid=oid,\n",
    "                did=str(pd['detection_id']),\n",
    "                fid=fid,\n",
    "                timestamp=pd['timestamp'],\n",
    "                segment=Segment(\n",
    "                    id=pd['segment_line'],\n",
    "                    line=shapely.wkb.loads(pd['segment_line'], hex=True),\n",
    "#                     line='',\n",
    "                    polygon=Polygon(\n",
    "                        id=road_polygon_info['id'],\n",
    "                        polygon=shapely.wkt.loads(road_polygon_info['polygon']),\n",
    "                        segments=None,\n",
    "                    ),\n",
    "                ),\n",
    "                location='boston-seaport',\n",
    "                type=pd['type']\n",
    "            ))\n",
    "    return out"
   ]
  },
  {
   "cell_type": "code",
   "execution_count": null,
   "id": "1e0515c3",
   "metadata": {},
   "outputs": [],
   "source": [
    "for name, (sdts, groundtruths) in ground_truth_split.items():\n",
    "    if len(groundtruths) == 0:\n",
    "        continue\n",
    "\n",
    "    locations = set(a['location'] for a in groundtruths)\n",
    "    assert len(locations) == 1, locations\n",
    "    if [*locations][0] != 'boston-seaport':\n",
    "        continue\n",
    "    \n",
    "    pd_keys = name.split('_')\n",
    "    pd_key = f\"{pd_keys[0]}-{'_'.join(pd_keys[1:])}\"\n",
    "    \n",
    "    if pd_key not in prediction_split:\n",
    "        continue\n",
    "\n",
    "    predictions = prediction_split[pd_key]\n",
    "    prediction_frames = prediction_frame_id_split[pd_key]\n",
    "\n",
    "    formatted_predictions = format_prediction(prediction_frames, predictions)\n",
    "    formatted_groundtruths = map_points_to_segments(groundtruths)\n",
    "    \n",
    "    formatted_groundtruths = [\n",
    "        gt\n",
    "        for gt\n",
    "        in formatted_groundtruths\n",
    "        if gt.type.startswith('vehicle') and object_type(gt.type) is not None\n",
    "    ]\n",
    "    for gt in formatted_groundtruths:\n",
    "        t = object_type(gt.type)\n",
    "        assert t is not None, gt.type\n",
    "        gt.type = t\n",
    "    \n",
    "    print(name)\n",
    "    print(len(formatted_groundtruths), len(groundtruths))\n",
    "    print('DetA', detection_accuracy  (formatted_predictions, formatted_groundtruths   ) * 100, '%')\n",
    "    print('AssA', association_accuracy(formatted_predictions, formatted_groundtruths, 0) * 100, '%')\n",
    "    print()\n",
    "    print()"
   ]
  }
 ],
 "metadata": {
  "kernelspec": {
   "display_name": "Python 3",
   "language": "python",
   "name": "python3"
  },
  "language_info": {
   "codemirror_mode": {
    "name": "ipython",
    "version": 3
   },
   "file_extension": ".py",
   "mimetype": "text/x-python",
   "name": "python",
   "nbconvert_exporter": "python",
   "pygments_lexer": "ipython3",
   "version": "3.10.8"
  }
 },
 "nbformat": 4,
 "nbformat_minor": 5
}
