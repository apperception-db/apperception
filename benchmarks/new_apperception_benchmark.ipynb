{
 "cells": [
  {
   "cell_type": "code",
   "execution_count": null,
   "id": "49d6ebd1",
   "metadata": {},
   "outputs": [],
   "source": [
    "# Deleting the .apperception_cache if it exists, as to avoid DB conflict errors\n",
    "import os\n",
    "import shutil\n",
    "\n",
    "dirpath = os.path.join('.apperception_cache')\n",
    "if os.path.exists(dirpath) and os.path.isdir(dirpath):\n",
    "    shutil.rmtree(dirpath)"
   ]
  },
  {
   "cell_type": "code",
   "execution_count": null,
   "id": "04d5291c",
   "metadata": {},
   "outputs": [],
   "source": [
    "import sys\n",
    "sys.path.append(os.path.join(os.getcwd(),\"apperception\"))\n",
    "\n",
    "### IMPORTS\n",
    "import lens\n",
    "import point\n",
    "from new_world import empty_world\n",
    "\n",
    "# Let's define some attribute for constructing the world first\n",
    "name = \"trafficScene\"  # world name\n",
    "units = \"metrics\"  # world units\n",
    "video_file = \"amber_videos/traffic-scene-shorter.mp4\"  # example video file\n",
    "lens_attrs = {\"fov\": 120, \"cam_origin\": (0, 0, 0), \"skew_factor\": 0}\n",
    "point_attrs = {\"p_id\": \"p1\", \"cam_id\": \"cam1\", \"x\": 0, \"y\": 0, \"z\": 0, \"time\": None, \"type\": \"pos\"}\n",
    "camera_attrs = {\"ratio\": 0.5}\n",
    "fps = 30\n",
    "\n",
    "# 1. define a world\n",
    "traffic_world = empty_world(name)\n",
    "\n",
    "# 2. construct a camera\n",
    "fov, res, cam_origin, skew_factor = (\n",
    "    lens_attrs[\"fov\"],\n",
    "    [1280, 720],\n",
    "    lens_attrs[\"cam_origin\"],\n",
    "    lens_attrs[\"skew_factor\"],\n",
    ")\n",
    "cam_lens = lens.PinholeLens(res, cam_origin, fov, skew_factor)\n",
    "\n",
    "pt_id, cam_id, x, y, z, time, pt_type = (\n",
    "    point_attrs[\"p_id\"],\n",
    "    point_attrs[\"cam_id\"],\n",
    "    point_attrs[\"x\"],\n",
    "    point_attrs[\"y\"],\n",
    "    point_attrs[\"z\"],\n",
    "    point_attrs[\"time\"],\n",
    "    point_attrs[\"type\"],\n",
    ")\n",
    "location = point.Point(pt_id, cam_id, (x, y, z), time, pt_type)\n",
    "\n",
    "ratio = camera_attrs[\"ratio\"]\n",
    "\n",
    "# ingest the camera into the world\n",
    "traffic_world = traffic_world.add_camera(\n",
    "    cam_id=cam_id,\n",
    "    location=location,\n",
    "    ratio=ratio,\n",
    "    video_file=video_file,\n",
    "    metadata_identifier=name + \"_\" + cam_id,\n",
    "    lens=cam_lens,\n",
    ")\n",
    "\n",
    "# Call execute on the world to run the detection algorithm and save the real data to the database\n",
    "recognized_world = traffic_world.recognize(cam_id)\n",
    "\n",
    "volume = traffic_world.select_intersection_of_interest_or_use_default(cam_id=cam_id)"
   ]
  },
  {
   "cell_type": "code",
   "execution_count": null,
   "id": "5f1f65fd",
   "metadata": {},
   "outputs": [],
   "source": [
    "cams = traffic_world.get_camera()\n",
    "lens = traffic_world.get_len()\n",
    "# ids = traffic_world.get_id()\n",
    "print(\"cameras are\", cams)\n",
    "print(\"lens are\", lens)\n",
    "# print(\"ids are\", ids)"
   ]
  },
  {
   "cell_type": "code",
   "execution_count": null,
   "id": "3bd024c9",
   "metadata": {},
   "outputs": [],
   "source": [
    "# This piece of code is unsafe, and should not be run if not needed. \n",
    "# It serves for test purposes when one recieves a \"dead kernel\" error.\n",
    "# os.environ[\"KMP_DUPLICATE_LIB_OK\"]=\"TRUE\"\n",
    "\n",
    "filtered_world = recognized_world.filter_traj_type(\"car\").filter_traj_volume(volume).interval(0, fps * 3)\n",
    "filtered_ids = filtered_world.get_traj_key()\n",
    "print(\"filtered_ids are\", filtered_ids)"
   ]
  },
  {
   "cell_type": "code",
   "execution_count": null,
   "id": "6e5d5bc6",
   "metadata": {},
   "outputs": [],
   "source": [
    "trajectory = filtered_world.get_traj()\n",
    "print(\"trajectories are\", trajectory)"
   ]
  },
  {
   "cell_type": "code",
   "execution_count": null,
   "id": "afc827d0",
   "metadata": {},
   "outputs": [],
   "source": [
    "headings = filtered_world.get_headings()\n",
    "print(\"headings are\", headings)"
   ]
  },
  {
   "cell_type": "code",
   "execution_count": null,
   "id": "aca1cfc3",
   "metadata": {},
   "outputs": [],
   "source": [
    "# draw overlay\n",
    "%matplotlib inline\n",
    "import matplotlib.pyplot as plt\n",
    "\n",
    "plt.figure()\n",
    "\n",
    "traffic_world.overlay_trajectory(cam_id, trajectory)\n",
    "plt.show()"
   ]
  },
  {
   "cell_type": "code",
   "execution_count": null,
   "id": "b1f6fc81",
   "metadata": {},
   "outputs": [],
   "source": [
    "# render tracking video\n",
    "filtered_world.get_video([cam_id])"
   ]
  },
  {
   "cell_type": "code",
   "execution_count": null,
   "id": "f8ae640c",
   "metadata": {},
   "outputs": [],
   "source": [
    "times = filtered_world.get_time()\n",
    "print(\"Times are:\", times)"
   ]
  },
  {
   "cell_type": "code",
   "execution_count": null,
   "id": "d2973e30",
   "metadata": {},
   "outputs": [],
   "source": [
    "geos = filtered_world.get_bbox_geo()\n",
    "print(\"Bbox geos are:\",geos)"
   ]
  },
  {
   "cell_type": "code",
   "execution_count": null,
   "id": "a548cc6e",
   "metadata": {},
   "outputs": [],
   "source": [
    "print(\"Trajectory distances are:\")\n",
    "print(filtered_world.get_distance(0, 30))"
   ]
  },
  {
   "cell_type": "code",
   "execution_count": null,
   "id": "c20e8370",
   "metadata": {},
   "outputs": [],
   "source": [
    "print(\"Trajectory speeds are:\")\n",
    "print(filtered_world.get_speed(0, 30))"
   ]
  },
  {
   "cell_type": "code",
   "execution_count": null,
   "id": "8e1aa7af",
   "metadata": {},
   "outputs": [],
   "source": []
  }
 ],
 "metadata": {
  "kernelspec": {
   "display_name": "Python 3",
   "language": "python",
   "name": "python3"
  },
  "language_info": {
   "codemirror_mode": {
    "name": "ipython",
    "version": 3
   },
   "file_extension": ".py",
   "mimetype": "text/x-python",
   "name": "python",
   "nbconvert_exporter": "python",
   "pygments_lexer": "ipython3",
   "version": "3.8.8"
  }
 },
 "nbformat": 4,
 "nbformat_minor": 5
}
