{
 "cells": [
  {
   "cell_type": "code",
   "execution_count": null,
   "metadata": {},
   "outputs": [],
   "source": [
    "cd .."
   ]
  },
  {
   "cell_type": "code",
   "execution_count": null,
   "metadata": {},
   "outputs": [],
   "source": [
    "import pandas as pd\n",
    "import numpy as np\n",
    "from pyquaternion import Quaternion\n",
    "import math\n",
    "from typing import List"
   ]
  },
  {
   "cell_type": "code",
   "execution_count": null,
   "metadata": {},
   "outputs": [],
   "source": [
    "cameras = pd.read_csv(\"data/cameras.csv\")\n",
    "cameras"
   ]
  },
  {
   "cell_type": "code",
   "execution_count": null,
   "metadata": {},
   "outputs": [],
   "source": [
    "# all cameras in experiment are front-facing\n",
    "front_camera_translation = [1.72200568478, 0.00475453292289, 1.49491291905]"
   ]
  },
  {
   "cell_type": "code",
   "execution_count": null,
   "metadata": {},
   "outputs": [],
   "source": [
    "from apperception.database import database\n",
    "\n",
    "query = \"SELECT filename, getX(egoTranslation), getY(egoTranslation), getZ(egoTranslation) FROM Cameras;\"\n",
    "\n",
    "result = database._execute_query(query=query)"
   ]
  },
  {
   "cell_type": "code",
   "execution_count": null,
   "metadata": {},
   "outputs": [],
   "source": [
    "# convert to mapping from filename -> (x, y, z) = egoRotation\n",
    "ego_translations = {}\n",
    "for camera in result:\n",
    "    filename, x, y, z = camera\n",
    "    ego_translations[filename] = [x, y, z]"
   ]
  },
  {
   "cell_type": "code",
   "execution_count": null,
   "metadata": {},
   "outputs": [],
   "source": [
    "def get_ego_translation(camera):\n",
    "    return ego_translations[camera.filename]\n",
    "\n",
    "def get_ego_rotation(camera):\n",
    "    return [float(x) for x in camera.egorotation.strip(\"{\").strip(\"}\").split(\",\")]\n",
    "\n",
    "def normalizeAngle(angle) -> float:\n",
    "    while angle > math.pi:\n",
    "        angle -= math.tau\n",
    "    while angle < -math.pi:\n",
    "        angle += math.tau\n",
    "    assert -math.pi <= angle <= math.pi\n",
    "    return angle\n",
    "\n",
    "def get_heading_from_north(rotation):\n",
    "    yaw = rotation.yaw_pitch_roll[0]\n",
    "    return normalizeAngle(yaw - (math.pi / 2))\n",
    "\n",
    "def get_camera_position(\n",
    "    camera_translation: List[float],\n",
    "    ego_translation: List[float],\n",
    "    ego_rotation: List[float]\n",
    ") -> np.ndarray:\n",
    "    rotated_offset = Quaternion(ego_rotation) \\\n",
    "        .rotate(np.array(camera_translation))\n",
    "    cam_position = np.array(ego_translation) + rotated_offset\n",
    "    return \"Point(\" + \" \".join(map(str, cam_position)) + \")\""
   ]
  },
  {
   "cell_type": "code",
   "execution_count": null,
   "metadata": {},
   "outputs": [],
   "source": [
    "# cameras[cameras[\"filename\"] == 'samples/CAM_FRONT/n008-2018-09-18-13-10-39-0400__CAM_FRONT__1537290952162404.jpg'][\"cameraTranslationAbs\"][94]"
   ]
  },
  {
   "cell_type": "code",
   "execution_count": null,
   "metadata": {},
   "outputs": [],
   "source": [
    "cameras[\"cameraTranslationAbs\"] = cameras.apply(lambda x: get_camera_position(front_camera_translation, get_ego_translation(x), get_ego_rotation(x)), axis=1)"
   ]
  },
  {
   "cell_type": "code",
   "execution_count": null,
   "metadata": {},
   "outputs": [],
   "source": [
    "cameras.to_csv(\"data/cameras.csv\", index=False)"
   ]
  }
 ],
 "metadata": {
  "kernelspec": {
   "display_name": "Python 3.8.8 ('base')",
   "language": "python",
   "name": "python3"
  },
  "language_info": {
   "codemirror_mode": {
    "name": "ipython",
    "version": 3
   },
   "file_extension": ".py",
   "mimetype": "text/x-python",
   "name": "python",
   "nbconvert_exporter": "python",
   "pygments_lexer": "ipython3",
   "version": "3.8.8"
  },
  "vscode": {
   "interpreter": {
    "hash": "5c9f2372a2bfaf539cf701a38e7f23ab828911ee177c2e7bc9c32aa1f4b546df"
   }
  }
 },
 "nbformat": 4,
 "nbformat_minor": 2
}
