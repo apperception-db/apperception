{
 "cells": [
  {
   "cell_type": "code",
   "execution_count": 1,
   "id": "408d6be8",
   "metadata": {},
   "outputs": [
    {
     "name": "stdout",
     "output_type": "stream",
     "text": [
      "/Users/chanwutk/Documents/apperception\n"
     ]
    }
   ],
   "source": [
    "%cd .."
   ]
  },
  {
   "cell_type": "code",
   "execution_count": 2,
   "id": "f64d1954",
   "metadata": {},
   "outputs": [],
   "source": [
    "# Deleting the .apperception_cache if it exists, as to avoid DB conflict errors\n",
    "import os\n",
    "import shutil\n",
    "\n",
    "dirpath = os.path.join('.apperception_cache')\n",
    "if os.path.exists(dirpath) and os.path.isdir(dirpath):\n",
    "    shutil.rmtree(dirpath)\n",
    "\n",
    "dirpath = os.path.join('output')\n",
    "if os.path.exists(dirpath) and os.path.isdir(dirpath):\n",
    "    shutil.rmtree(dirpath)\n",
    "os.mkdir(dirpath)\n",
    "\n",
    "# This piece of code is unsafe, and should not be run if not needed. \n",
    "# It serves for test purposes when one recieves a \"dead kernel\" error.\n",
    "# os.environ[\"KMP_DUPLICATE_LIB_OK\"]=\"TRUE\""
   ]
  },
  {
   "cell_type": "code",
   "execution_count": 3,
   "id": "e582655f",
   "metadata": {},
   "outputs": [],
   "source": [
    "import os\n",
    "import sys\n",
    "import json\n",
    "import pandas as pd\n",
    "import cv2\n",
    "import psycopg2\n",
    "import pickle\n",
    "sys.path.append(os.path.join(os.getcwd(),\"apperception\"))"
   ]
  },
  {
   "cell_type": "code",
   "execution_count": 4,
   "id": "51e7b5ce",
   "metadata": {},
   "outputs": [
    {
     "name": "stdout",
     "output_type": "stream",
     "text": [
      "get backend Qt5Agg\n"
     ]
    },
    {
     "ename": "OperationalError",
     "evalue": "connection to server at \"localhost\" (::1), port 25432 failed: Connection refused\n\tIs the server running on that host and accepting TCP/IP connections?\nconnection to server at \"localhost\" (127.0.0.1), port 25432 failed: Connection refused\n\tIs the server running on that host and accepting TCP/IP connections?\n",
     "output_type": "error",
     "traceback": [
      "\u001b[0;31m---------------------------------------------------------------------------\u001b[0m",
      "\u001b[0;31mOperationalError\u001b[0m                          Traceback (most recent call last)",
      "\u001b[0;32m/var/folders/r2/l4p3593j45gd632ztkryyknr0000gn/T/ipykernel_12404/2763875080.py\u001b[0m in \u001b[0;36m<module>\u001b[0;34m\u001b[0m\n\u001b[0;32m----> 1\u001b[0;31m \u001b[0;32mfrom\u001b[0m \u001b[0mnew_world\u001b[0m \u001b[0;32mimport\u001b[0m \u001b[0mempty_world\u001b[0m\u001b[0;34m,\u001b[0m \u001b[0mWorld\u001b[0m\u001b[0;34m\u001b[0m\u001b[0;34m\u001b[0m\u001b[0m\n\u001b[0m\u001b[1;32m      2\u001b[0m \u001b[0;32mfrom\u001b[0m \u001b[0mcamera\u001b[0m \u001b[0;32mimport\u001b[0m \u001b[0mCamera\u001b[0m\u001b[0;34m\u001b[0m\u001b[0;34m\u001b[0m\u001b[0m\n\u001b[1;32m      3\u001b[0m \u001b[0;32mfrom\u001b[0m \u001b[0mscenic_generate_df\u001b[0m \u001b[0;32mimport\u001b[0m \u001b[0mscenic_generate_df\u001b[0m\u001b[0;34m\u001b[0m\u001b[0;34m\u001b[0m\u001b[0m\n",
      "\u001b[0;32m~/Documents/apperception/apperception/new_world.py\u001b[0m in \u001b[0;36m<module>\u001b[0;34m\u001b[0m\n\u001b[1;32m     37\u001b[0m \u001b[0;34m\u001b[0m\u001b[0m\n\u001b[1;32m     38\u001b[0m \u001b[0;34m\u001b[0m\u001b[0m\n\u001b[0;32m---> 39\u001b[0;31m \u001b[0;32mclass\u001b[0m \u001b[0mWorld\u001b[0m\u001b[0;34m:\u001b[0m\u001b[0;34m\u001b[0m\u001b[0;34m\u001b[0m\u001b[0m\n\u001b[0m\u001b[1;32m     40\u001b[0m     \u001b[0;31m# all worlds share a db instance\u001b[0m\u001b[0;34m\u001b[0m\u001b[0;34m\u001b[0m\u001b[0;34m\u001b[0m\u001b[0m\n\u001b[1;32m     41\u001b[0m     \u001b[0mdb\u001b[0m \u001b[0;34m=\u001b[0m \u001b[0mDatabase\u001b[0m\u001b[0;34m(\u001b[0m\u001b[0;34m)\u001b[0m\u001b[0;34m\u001b[0m\u001b[0;34m\u001b[0m\u001b[0m\n",
      "\u001b[0;32m~/Documents/apperception/apperception/new_world.py\u001b[0m in \u001b[0;36mWorld\u001b[0;34m()\u001b[0m\n\u001b[1;32m     39\u001b[0m \u001b[0;32mclass\u001b[0m \u001b[0mWorld\u001b[0m\u001b[0;34m:\u001b[0m\u001b[0;34m\u001b[0m\u001b[0;34m\u001b[0m\u001b[0m\n\u001b[1;32m     40\u001b[0m     \u001b[0;31m# all worlds share a db instance\u001b[0m\u001b[0;34m\u001b[0m\u001b[0;34m\u001b[0m\u001b[0;34m\u001b[0m\u001b[0m\n\u001b[0;32m---> 41\u001b[0;31m     \u001b[0mdb\u001b[0m \u001b[0;34m=\u001b[0m \u001b[0mDatabase\u001b[0m\u001b[0;34m(\u001b[0m\u001b[0;34m)\u001b[0m\u001b[0;34m\u001b[0m\u001b[0;34m\u001b[0m\u001b[0m\n\u001b[0m\u001b[1;32m     42\u001b[0m     \u001b[0mcamera_nodes\u001b[0m\u001b[0;34m:\u001b[0m \u001b[0mDict\u001b[0m\u001b[0;34m[\u001b[0m\u001b[0mstr\u001b[0m\u001b[0;34m,\u001b[0m \u001b[0mCamera\u001b[0m\u001b[0;34m]\u001b[0m \u001b[0;34m=\u001b[0m \u001b[0;34m{\u001b[0m\u001b[0;34m}\u001b[0m\u001b[0;34m\u001b[0m\u001b[0;34m\u001b[0m\u001b[0m\n\u001b[1;32m     43\u001b[0m \u001b[0;34m\u001b[0m\u001b[0m\n",
      "\u001b[0;32m~/Documents/apperception/apperception/new_db.py\u001b[0m in \u001b[0;36m__init__\u001b[0;34m(self)\u001b[0m\n\u001b[1;32m     20\u001b[0m         \u001b[0;31m# should setup a postgres in docker first\u001b[0m\u001b[0;34m\u001b[0m\u001b[0;34m\u001b[0m\u001b[0;34m\u001b[0m\u001b[0m\n\u001b[1;32m     21\u001b[0m         self.con = psycopg2.connect(\n\u001b[0;32m---> 22\u001b[0;31m             \u001b[0mdbname\u001b[0m\u001b[0;34m=\u001b[0m\u001b[0;34m\"mobilitydb\"\u001b[0m\u001b[0;34m,\u001b[0m \u001b[0muser\u001b[0m\u001b[0;34m=\u001b[0m\u001b[0;34m\"docker\"\u001b[0m\u001b[0;34m,\u001b[0m \u001b[0mhost\u001b[0m\u001b[0;34m=\u001b[0m\u001b[0;34m\"localhost\"\u001b[0m\u001b[0;34m,\u001b[0m \u001b[0mport\u001b[0m\u001b[0;34m=\u001b[0m\u001b[0;34m\"25432\"\u001b[0m\u001b[0;34m,\u001b[0m \u001b[0mpassword\u001b[0m\u001b[0;34m=\u001b[0m\u001b[0;34m\"docker\"\u001b[0m\u001b[0;34m\u001b[0m\u001b[0;34m\u001b[0m\u001b[0m\n\u001b[0m\u001b[1;32m     23\u001b[0m         )\n\u001b[1;32m     24\u001b[0m         \u001b[0mself\u001b[0m\u001b[0;34m.\u001b[0m\u001b[0mcur\u001b[0m \u001b[0;34m=\u001b[0m \u001b[0mself\u001b[0m\u001b[0;34m.\u001b[0m\u001b[0mcon\u001b[0m\u001b[0;34m.\u001b[0m\u001b[0mcursor\u001b[0m\u001b[0;34m(\u001b[0m\u001b[0;34m)\u001b[0m\u001b[0;34m\u001b[0m\u001b[0;34m\u001b[0m\u001b[0m\n",
      "\u001b[0;32m~/Documents/apperception/env/lib/python3.7/site-packages/psycopg2/__init__.py\u001b[0m in \u001b[0;36mconnect\u001b[0;34m(dsn, connection_factory, cursor_factory, **kwargs)\u001b[0m\n\u001b[1;32m    120\u001b[0m \u001b[0;34m\u001b[0m\u001b[0m\n\u001b[1;32m    121\u001b[0m     \u001b[0mdsn\u001b[0m \u001b[0;34m=\u001b[0m \u001b[0m_ext\u001b[0m\u001b[0;34m.\u001b[0m\u001b[0mmake_dsn\u001b[0m\u001b[0;34m(\u001b[0m\u001b[0mdsn\u001b[0m\u001b[0;34m,\u001b[0m \u001b[0;34m**\u001b[0m\u001b[0mkwargs\u001b[0m\u001b[0;34m)\u001b[0m\u001b[0;34m\u001b[0m\u001b[0;34m\u001b[0m\u001b[0m\n\u001b[0;32m--> 122\u001b[0;31m     \u001b[0mconn\u001b[0m \u001b[0;34m=\u001b[0m \u001b[0m_connect\u001b[0m\u001b[0;34m(\u001b[0m\u001b[0mdsn\u001b[0m\u001b[0;34m,\u001b[0m \u001b[0mconnection_factory\u001b[0m\u001b[0;34m=\u001b[0m\u001b[0mconnection_factory\u001b[0m\u001b[0;34m,\u001b[0m \u001b[0;34m**\u001b[0m\u001b[0mkwasync\u001b[0m\u001b[0;34m)\u001b[0m\u001b[0;34m\u001b[0m\u001b[0;34m\u001b[0m\u001b[0m\n\u001b[0m\u001b[1;32m    123\u001b[0m     \u001b[0;32mif\u001b[0m \u001b[0mcursor_factory\u001b[0m \u001b[0;32mis\u001b[0m \u001b[0;32mnot\u001b[0m \u001b[0;32mNone\u001b[0m\u001b[0;34m:\u001b[0m\u001b[0;34m\u001b[0m\u001b[0;34m\u001b[0m\u001b[0m\n\u001b[1;32m    124\u001b[0m         \u001b[0mconn\u001b[0m\u001b[0;34m.\u001b[0m\u001b[0mcursor_factory\u001b[0m \u001b[0;34m=\u001b[0m \u001b[0mcursor_factory\u001b[0m\u001b[0;34m\u001b[0m\u001b[0;34m\u001b[0m\u001b[0m\n",
      "\u001b[0;31mOperationalError\u001b[0m: connection to server at \"localhost\" (::1), port 25432 failed: Connection refused\n\tIs the server running on that host and accepting TCP/IP connections?\nconnection to server at \"localhost\" (127.0.0.1), port 25432 failed: Connection refused\n\tIs the server running on that host and accepting TCP/IP connections?\n"
     ]
    }
   ],
   "source": [
    "from new_world import empty_world, World\n",
    "from camera import Camera\n",
    "from scenic_generate_df import scenic_generate_df"
   ]
  },
  {
   "cell_type": "code",
   "execution_count": null,
   "id": "f6156ab5",
   "metadata": {},
   "outputs": [],
   "source": [
    "World.db.reset()"
   ]
  },
  {
   "cell_type": "code",
   "execution_count": null,
   "id": "0915d633",
   "metadata": {},
   "outputs": [],
   "source": [
    "# conn = psycopg2.connect(database=\"mobilitydb\", user=\"docker\", password=\"docker\", host=\"localhost\", port=25432)\n",
    "# import_tables(conn)"
   ]
  },
  {
   "cell_type": "code",
   "execution_count": null,
   "id": "4641c93d",
   "metadata": {},
   "outputs": [],
   "source": [
    "name = 'ScenicWorld' # world name\n",
    "units = 'metrics'      # world units\n",
    "user_data_dir = os.path.join(\"v1.0-mini\")"
   ]
  },
  {
   "cell_type": "code",
   "execution_count": null,
   "id": "b1794fff-070e-4c7c-94f8-859ffdccc437",
   "metadata": {},
   "outputs": [],
   "source": [
    "# Either uncomment this cell\n",
    "# df_sample_data, df_annotation = scenic_generate_df()\n",
    "# with open('df_sample_data.pickle', \"wb\") as f:\n",
    "#     pickle.dump(df_sample_data, f)\n",
    "# with open('df_annotation.pickle', \"wb\") as f:\n",
    "#     pickle.dump(df_annotation, f)"
   ]
  },
  {
   "cell_type": "code",
   "execution_count": null,
   "id": "b5458d32",
   "metadata": {},
   "outputs": [],
   "source": [
    "# Or uncomment this cell\n",
    "with open('df_sample_data.pickle', \"rb\") as f:\n",
    "    df_sample_data = pickle.loads(f.read())\n",
    "with open('df_annotation.pickle', \"rb\") as f:\n",
    "    df_annotation = pickle.loads(f.read())"
   ]
  },
  {
   "cell_type": "code",
   "execution_count": null,
   "id": "ca3b59fb-c6fc-4d16-8f69-d1d6f6f5a147",
   "metadata": {},
   "outputs": [],
   "source": [
    "df_sample_data"
   ]
  },
  {
   "cell_type": "code",
   "execution_count": null,
   "id": "1962fe82-e33e-46e1-b9cc-48c92de46065",
   "metadata": {},
   "outputs": [],
   "source": [
    "df_annotation"
   ]
  },
  {
   "cell_type": "code",
   "execution_count": null,
   "id": "43aaae6f",
   "metadata": {},
   "outputs": [],
   "source": [
    "world = empty_world(name=name)"
   ]
  },
  {
   "cell_type": "code",
   "execution_count": null,
   "id": "46d2d6f7",
   "metadata": {},
   "outputs": [],
   "source": [
    "from camera_config import fetch_camera_config\n",
    "# scenes = [\"scene-0061\", \"scene-0103\",\"scene-0553\", \"scene-0655\", \"scene-0757\", \"scene-0796\", \"scene-0916\", \"scene-1077\", \"scene-1094\", \"scene-1100\"]\n",
    "scenes = [\"scene-0061\"]\n",
    "for scene in scenes:\n",
    "    config = fetch_camera_config(scene, df_sample_data)\n",
    "    camera = Camera(config=config, id=scene)\n",
    "    world = world.add_camera(camera)\n",
    "    # df_config = df_sample_data[df_sample_data['scene_name'] == scene][['sample_token']]\n",
    "    # df_ann = df_annotation.join(df_config.set_index('sample_token'), on='sample_token', how='inner')\n",
    "    world = world.recognize(camera, df_annotation)"
   ]
  },
  {
   "cell_type": "code",
   "execution_count": null,
   "id": "c11fd0c6",
   "metadata": {},
   "outputs": [],
   "source": [
    "car_trajectories = world.filter_traj_type(object_type='vehicle.car').get_traj()"
   ]
  },
  {
   "cell_type": "code",
   "execution_count": null,
   "id": "6deab18c-6f37-4b51-bcb1-96276db826bd",
   "metadata": {},
   "outputs": [],
   "source": [
    "car_trajectories"
   ]
  },
  {
   "cell_type": "code",
   "execution_count": null,
   "id": "cea335f3-083a-4ad1-8994-0afe77609187",
   "metadata": {},
   "outputs": [],
   "source": []
  }
 ],
 "metadata": {
  "kernelspec": {
   "display_name": "Python 3 (ipykernel)",
   "language": "python",
   "name": "python3"
  },
  "language_info": {
   "codemirror_mode": {
    "name": "ipython",
    "version": 3
   },
   "file_extension": ".py",
   "mimetype": "text/x-python",
   "name": "python",
   "nbconvert_exporter": "python",
   "pygments_lexer": "ipython3",
   "version": "3.7.12"
  }
 },
 "nbformat": 4,
 "nbformat_minor": 5
}
