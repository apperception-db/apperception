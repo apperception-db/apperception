{
 "cells": [
  {
   "cell_type": "code",
   "execution_count": null,
   "id": "408d6be8",
   "metadata": {},
   "outputs": [],
   "source": [
    "%cd .."
   ]
  },
  {
   "cell_type": "code",
   "execution_count": null,
   "id": "f64d1954",
   "metadata": {},
   "outputs": [],
   "source": [
    "# Deleting the .apperception_cache if it exists, as to avoid DB conflict errors\n",
    "import os\n",
    "import shutil\n",
    "\n",
    "dirpath = os.path.join('.apperception_cache')\n",
    "if os.path.exists(dirpath) and os.path.isdir(dirpath):\n",
    "    shutil.rmtree(dirpath)\n",
    "\n",
    "dirpath = os.path.join('output')\n",
    "if os.path.exists(dirpath) and os.path.isdir(dirpath):\n",
    "    shutil.rmtree(dirpath)\n",
    "os.mkdir(dirpath)\n",
    "\n",
    "# This piece of code is unsafe, and should not be run if not needed. \n",
    "# It serves for test purposes when one recieves a \"dead kernel\" error.\n",
    "# os.environ[\"KMP_DUPLICATE_LIB_OK\"]=\"TRUE\""
   ]
  },
  {
   "cell_type": "code",
   "execution_count": null,
   "id": "e582655f",
   "metadata": {},
   "outputs": [],
   "source": [
    "import os\n",
    "import sys\n",
    "import json\n",
    "import pandas as pd\n",
    "import cv2\n",
    "import psycopg2\n",
    "import pickle\n",
    "sys.path.append(os.path.join(os.getcwd(),\"apperception\"))"
   ]
  },
  {
   "cell_type": "code",
   "execution_count": null,
   "id": "51e7b5ce",
   "metadata": {},
   "outputs": [],
   "source": [
    "from new_world import empty_world, World\n",
    "from camera import Camera\n",
    "from scenic_generate_df import scenic_generate_df"
   ]
  },
  {
   "cell_type": "code",
   "execution_count": null,
   "id": "f6156ab5",
   "metadata": {},
   "outputs": [],
   "source": [
    "World.db.reset()"
   ]
  },
  {
   "cell_type": "code",
   "execution_count": null,
   "id": "0915d633",
   "metadata": {},
   "outputs": [],
   "source": [
    "# conn = psycopg2.connect(database=\"mobilitydb\", user=\"docker\", password=\"docker\", host=\"localhost\", port=25432)\n",
    "# import_tables(conn)"
   ]
  },
  {
   "cell_type": "code",
   "execution_count": null,
   "id": "4641c93d",
   "metadata": {},
   "outputs": [],
   "source": [
    "name = 'ScenicWorld' # world name\n",
    "units = 'metrics'      # world units\n",
    "user_data_dir = os.path.join(\"v1.0-mini\")"
   ]
  },
  {
   "cell_type": "code",
   "execution_count": null,
   "id": "b1794fff-070e-4c7c-94f8-859ffdccc437",
   "metadata": {},
   "outputs": [],
   "source": [
    "# Either uncomment this cell\n",
    "# df_sample_data, df_annotation = scenic_generate_df()\n",
    "# with open('df_sample_data.pickle', \"wb\") as f:\n",
    "#     pickle.dump(df_sample_data, f)\n",
    "# with open('df_annotation.pickle', \"wb\") as f:\n",
    "#     pickle.dump(df_annotation, f)"
   ]
  },
  {
   "cell_type": "code",
   "execution_count": null,
   "id": "b5458d32",
   "metadata": {},
   "outputs": [],
   "source": [
    "# Or uncomment this cell\n",
    "with open('df_sample_data.pickle', \"rb\") as f:\n",
    "    df_sample_data = pickle.loads(f.read())\n",
    "with open('df_annotation.pickle', \"rb\") as f:\n",
    "    df_annotation = pickle.loads(f.read())"
   ]
  },
  {
   "cell_type": "code",
   "execution_count": null,
   "id": "ca3b59fb-c6fc-4d16-8f69-d1d6f6f5a147",
   "metadata": {},
   "outputs": [],
   "source": [
    "df_sample_data"
   ]
  },
  {
   "cell_type": "code",
   "execution_count": null,
   "id": "1962fe82-e33e-46e1-b9cc-48c92de46065",
   "metadata": {},
   "outputs": [],
   "source": [
    "df_annotation"
   ]
  },
  {
   "cell_type": "code",
   "execution_count": null,
   "id": "43aaae6f",
   "metadata": {},
   "outputs": [],
   "source": [
    "world = empty_world(name=name)"
   ]
  },
  {
   "cell_type": "code",
   "execution_count": null,
   "id": "46d2d6f7",
   "metadata": {},
   "outputs": [],
   "source": [
    "from camera_config import fetch_camera_config\n",
    "# scenes = [\"scene-0061\", \"scene-0103\",\"scene-0553\", \"scene-0655\", \"scene-0757\", \"scene-0796\", \"scene-0916\", \"scene-1077\", \"scene-1094\", \"scene-1100\"]\n",
    "scenes = [\"scene-0061\"]\n",
    "for scene in scenes:\n",
    "    config = fetch_camera_config(scene, df_sample_data)\n",
    "    camera = Camera(config=config, id=scene)\n",
    "    world = world.add_camera(camera)\n",
    "    # df_config = df_sample_data[df_sample_data['scene_name'] == scene][['sample_token']]\n",
    "    # df_ann = df_annotation.join(df_config.set_index('sample_token'), on='sample_token', how='inner')\n",
    "    world = world.recognize(camera, df_annotation)"
   ]
  },
  {
   "cell_type": "code",
   "execution_count": null,
   "id": "c11fd0c6",
   "metadata": {},
   "outputs": [],
   "source": [
    "car_trajectories = world.filter_traj_type(object_type='vehicle.car').get_traj()"
   ]
  },
  {
   "cell_type": "code",
   "execution_count": null,
   "id": "6deab18c-6f37-4b51-bcb1-96276db826bd",
   "metadata": {},
   "outputs": [],
   "source": [
    "car_trajectories"
   ]
  },
  {
   "cell_type": "code",
   "execution_count": null,
   "id": "cea335f3-083a-4ad1-8994-0afe77609187",
   "metadata": {},
   "outputs": [],
   "source": []
  }
 ],
 "metadata": {
  "kernelspec": {
   "display_name": "Python 3 (ipykernel)",
   "language": "python",
   "name": "python3"
  },
  "language_info": {
   "codemirror_mode": {
    "name": "ipython",
    "version": 3
   },
   "file_extension": ".py",
   "mimetype": "text/x-python",
   "name": "python",
   "nbconvert_exporter": "python",
   "pygments_lexer": "ipython3",
   "version": "3.8.8"
  }
 },
 "nbformat": 4,
 "nbformat_minor": 5
}
