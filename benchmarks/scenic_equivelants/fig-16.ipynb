{
 "cells": [
  {
   "cell_type": "code",
   "execution_count": null,
   "id": "1616758c-14bc-4704-bcfc-d69ccff51c78",
   "metadata": {},
   "outputs": [],
   "source": [
    "%cd ../..\n",
    "# %pip install .\n",
    "import time\n",
    "from os import environ\n",
    "# lanesWithRightLane = filter(lambda i: i._laneToRight, network.laneSections)\n",
    "# egoLane = Uniform(*lanesWithRightLane)\n",
    "\n",
    "# ego = Car on egoLane,\n",
    "#         facing Range(-15, 15) deg relative to roadDirection\n",
    "# cutInCar = Car offset by Range(0, 4) @ Range(0, 5),\n",
    "#             facing -1*Range(15, 30) deg relative to roadDirection"
   ]
  },
  {
   "cell_type": "code",
   "execution_count": null,
   "id": "f68524f7",
   "metadata": {},
   "outputs": [],
   "source": [
    "if environ[\"AP_PORT\"] is None:\n",
    "    environ[\"AP_PORT\"] = str(input('port'))"
   ]
  },
  {
   "cell_type": "code",
   "execution_count": null,
   "id": "b51b9e3a",
   "metadata": {},
   "outputs": [],
   "source": [
    "### Prepare the world for queries ###\n",
    "from apperception.world import empty_world\n",
    "\n",
    "name = 'ScenicWorld' # world name\n",
    "world = empty_world(name=name)\n",
    "\n",
    "### Query ###\n",
    "from apperception.utils import F\n",
    "### filter the cut-in cars first \n",
    "world = world.filter(\"lambda obj1, cam: \" + \n",
    "        \"F.contained(cam.ego, F.road_segment('lanewithrightlane')) and \" +\n",
    "        \"F.angle_between(F.facing_relative(cam.ego, F.road_direction(cam.ego, cam.timestamp, cam.ego), cam.timestamp), -15, 15) and \" +\n",
    "        \"F.like(obj1.object_type, 'vehicle%') and \" +\n",
    "        \"F.convert_camera(obj1, cam.ego, cam.timestamp) > [0,0] and \" + \n",
    "        \"F.convert_camera(obj1, cam.ego, cam.timestamp) < [4,5] and \" + \n",
    "        \"F.angle_between(F.facing_relative(obj1, F.road_direction(obj1.traj, cam.timestamp, cam.ego), cam.timestamp), -30, -15)\")\n",
    "# Then the ego in a lane with right lane\n",
    "# world = world.filter(\"lambda obj, cam:\" +\n",
    "#     \"F.contained(cam.ego, F.road_segment('lanewithrightlane'))\")\n",
    "\n",
    "start = time.time()\n",
    "# keys = world.get_traj_key()\n",
    "id_time_camId_filename = world.get_id_time_camId_filename(num_joined_tables=1)\n",
    "\n",
    "end = time.time()\n",
    "print(format(end-start))"
   ]
  },
  {
   "cell_type": "code",
   "execution_count": null,
   "id": "e6574c20",
   "metadata": {},
   "outputs": [],
   "source": [
    "# database.connection.abort()"
   ]
  },
  {
   "cell_type": "code",
   "execution_count": null,
   "id": "eaef61ee",
   "metadata": {},
   "outputs": [],
   "source": []
  }
 ],
 "metadata": {
  "kernelspec": {
   "display_name": "Python 3 (ipykernel)",
   "language": "python",
   "name": "python3"
  },
  "language_info": {
   "codemirror_mode": {
    "name": "ipython",
    "version": 3
   },
   "file_extension": ".py",
   "mimetype": "text/x-python",
   "name": "python",
   "nbconvert_exporter": "python",
   "pygments_lexer": "ipython3",
   "version": "3.8.12"
  }
 },
 "nbformat": 4,
 "nbformat_minor": 5
}
