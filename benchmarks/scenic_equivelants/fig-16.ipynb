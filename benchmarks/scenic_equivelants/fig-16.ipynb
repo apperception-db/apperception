{
 "cells": [
  {
   "cell_type": "code",
   "execution_count": 1,
   "id": "1616758c-14bc-4704-bcfc-d69ccff51c78",
   "metadata": {},
   "outputs": [
    {
     "name": "stdout",
     "output_type": "stream",
     "text": [
      "/home/eecs/chanwutk/Documents/apperception\n"
     ]
    }
   ],
   "source": [
    "%cd ../..\n",
    "# %pip install .\n",
    "import time\n",
    "from os import environ\n",
    "# lanesWithRightLane = filter(lambda i: i._laneToRight, network.laneSections)\n",
    "# egoLane = Uniform(*lanesWithRightLane)\n",
    "\n",
    "# ego = Car on egoLane,\n",
    "#         facing Range(-15, 15) deg relative to roadDirection\n",
    "# cutInCar = Car offset by Range(0, 4) @ Range(0, 5),\n",
    "#             facing -1*Range(15, 30) deg relative to roadDirection"
   ]
  },
  {
   "cell_type": "code",
   "execution_count": 2,
   "id": "f68524f7",
   "metadata": {},
   "outputs": [],
   "source": [
    "if environ[\"AP_PORT\"] is None:\n",
    "    environ[\"AP_PORT\"] = str(input('port'))"
   ]
  },
  {
   "cell_type": "code",
   "execution_count": null,
   "id": "b51b9e3a",
   "metadata": {},
   "outputs": [
    {
     "name": "stdout",
     "output_type": "stream",
     "text": [
      "execute: filter\n",
      "execute: get_id_time_camId_filename\n",
      "get_id_time_camId_filename \n",
      "        SELECT t0.itemId, cameras.timestamp, cameras.cameraId, cameras.filename\n",
      "        FROM (SELECT * FROM item_general_trajectory) as t0\n",
      "        \n",
      "        JOIN Cameras USING (cameraId)\n",
      "        WHERE (contained(egoTranslation,roadSegment('lanewithrightlane')) AND angleBetween(facingRelative(egoHeading, roadDirection(egoTranslation,egoHeading)),-15,15) AND t0.objectType LIKE 'vehicle%' AND (ConvertCamera(valueAtTimestamp(t0.trajCentroids,timestamp),egoTranslation,egoHeading)>ARRAY[0,0]) AND (ConvertCamera(valueAtTimestamp(t0.trajCentroids,timestamp),egoTranslation,egoHeading)<ARRAY[4,5]) AND angleBetween(facingRelative((valueAtTimestamp(t0.itemHeadings,timestamp))::real, roadDirection(valueAtTimestamp(t0.trajCentroids,timestamp),(valueAtTimestamp(t0.itemHeadings,timestamp))::real)),-30,-15))\n",
      "        \n"
     ]
    }
   ],
   "source": [
    "### Prepare the world for queries ###\n",
    "from apperception.world import empty_world\n",
    "from apperception.predicate import objects, camera as c, arr, lit\n",
    "o = objects[0]\n",
    "\n",
    "name = 'ScenicWorld' # world name\n",
    "world = empty_world(name=name)\n",
    "\n",
    "### Query ###\n",
    "from apperception.utils import F\n",
    "### filter the cut-in cars first \n",
    "\n",
    "world = world.filter(\n",
    "    F.contained(c.ego, F.road_segment('lanewithrightlane')) &\n",
    "    F.angle_between(F.facing_relative(c.ego, F.road_direction(c.ego)), -15, 15) &\n",
    "    F.like(o.type, 'vehicle%') &\n",
    "    (F.convert_camera(o.traj@c.time, c.ego) > arr(0, 0)) &\n",
    "    (F.convert_camera(o.traj@c.time, c.ego) < arr(4,5)) &\n",
    "    F.angle_between(F.facing_relative(o.traj@c.time, F.road_direction(o.traj@c.time)), -30, -15)\n",
    ")\n",
    "\n",
    "start = time.time()\n",
    "# keys = world.get_traj_key()\n",
    "id_time_camId_filename = world.get_id_time_camId_filename(num_joined_tables=1)\n",
    "\n",
    "end = time.time()\n",
    "print(format(end-start))"
   ]
  },
  {
   "cell_type": "code",
   "execution_count": null,
   "id": "e6574c20",
   "metadata": {},
   "outputs": [],
   "source": [
    "# database.connection.abort()"
   ]
  },
  {
   "cell_type": "code",
   "execution_count": null,
   "id": "eaef61ee",
   "metadata": {},
   "outputs": [],
   "source": []
  }
 ],
 "metadata": {
  "kernelspec": {
   "display_name": "Python 3 (ipykernel)",
   "language": "python",
   "name": "python3"
  },
  "language_info": {
   "codemirror_mode": {
    "name": "ipython",
    "version": 3
   },
   "file_extension": ".py",
   "mimetype": "text/x-python",
   "name": "python",
   "nbconvert_exporter": "python",
   "pygments_lexer": "ipython3",
   "version": "3.8.13"
  }
 },
 "nbformat": 4,
 "nbformat_minor": 5
}
