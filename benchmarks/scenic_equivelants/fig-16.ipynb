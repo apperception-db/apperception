{
 "cells": [
  {
   "cell_type": "code",
   "execution_count": null,
   "id": "1616758c-14bc-4704-bcfc-d69ccff51c78",
   "metadata": {},
   "outputs": [],
   "source": [
    "%cd ../..\n",
    "%pip install .\n",
    "# lanesWithRightLane = filter(lambda i: i._laneToRight, network.laneSections)\n",
    "# egoLane = Uniform(*lanesWithRightLane)\n",
    "\n",
    "# ego = Car on egoLane,\n",
    "#         facing Range(-15, 15) deg relative to roadDirection\n",
    "# cutInCar = Car offset by Range(0, 4) @ Range(0, 5),\n",
    "#             facing -1*Range(15, 30) deg relative to roadDirection"
   ]
  }
 ],
 "metadata": {
  "kernelspec": {
   "display_name": "Python 3 (ipykernel)",
   "language": "python",
   "name": "python3"
  },
  "language_info": {
   "codemirror_mode": {
    "name": "ipython",
    "version": 3
   },
   "file_extension": ".py",
   "mimetype": "text/x-python",
   "name": "python",
   "nbconvert_exporter": "python",
   "pygments_lexer": "ipython3",
   "version": "3.8.3"
  }
 },
 "nbformat": 4,
 "nbformat_minor": 5
}
