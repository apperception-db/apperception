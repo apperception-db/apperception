{
 "cells": [
  {
   "cell_type": "code",
   "execution_count": 1,
   "id": "33fce500-7081-4f17-b607-e0ef1638c127",
   "metadata": {},
   "outputs": [
    {
     "name": "stdout",
     "output_type": "stream",
     "text": [
      "/Users/byronhsu/Desktop/apperception\n",
      "Processing /Users/byronhsu/Desktop/apperception\n",
      "\u001b[33m  DEPRECATION: A future pip version will change local packages to be built in-place without first copying to a temporary directory. We recommend you use --use-feature=in-tree-build to test your packages with this new behavior before it becomes the default.\n",
      "   pip 21.3 will remove support for this functionality. You can find discussion regarding this at https://github.com/pypa/pip/issues/7555.\u001b[0m\n",
      "  Installing build dependencies ... \u001b[?25ldone\n",
      "\u001b[?25h  Getting requirements to build wheel ... \u001b[?25ldone\n",
      "\u001b[?25h    Preparing wheel metadata ... \u001b[?25ldone\n",
      "\u001b[?25hRequirement already satisfied: PyYAML<7.0,>=6.0 in /Users/byronhsu/miniconda3/envs/capstone/lib/python3.8/site-packages (from apperception==0.1.0) (6.0)\n",
      "Requirement already satisfied: dill<0.4.0,>=0.3.4 in /Users/byronhsu/miniconda3/envs/capstone/lib/python3.8/site-packages (from apperception==0.1.0) (0.3.4)\n",
      "Requirement already satisfied: Pillow<10.0.0,>=9.1.0 in /Users/byronhsu/miniconda3/envs/capstone/lib/python3.8/site-packages (from apperception==0.1.0) (9.1.0)\n",
      "Requirement already satisfied: matplotlib<4.0.0,>=3.5.1 in /Users/byronhsu/miniconda3/envs/capstone/lib/python3.8/site-packages (from apperception==0.1.0) (3.5.1)\n",
      "Requirement already satisfied: astpretty<3.0.0,>=2.1.0 in /Users/byronhsu/miniconda3/envs/capstone/lib/python3.8/site-packages (from apperception==0.1.0) (2.1.0)\n",
      "Requirement already satisfied: uncompyle6<4.0.0,>=3.8.0 in /Users/byronhsu/miniconda3/envs/capstone/lib/python3.8/site-packages (from apperception==0.1.0) (3.8.0)\n",
      "Requirement already satisfied: numpy<2.0.0,>=1.22.3 in /Users/byronhsu/miniconda3/envs/capstone/lib/python3.8/site-packages (from apperception==0.1.0) (1.22.3)\n",
      "Requirement already satisfied: torch<2.0.0,>=1.11.0 in /Users/byronhsu/miniconda3/envs/capstone/lib/python3.8/site-packages (from apperception==0.1.0) (1.11.0)\n",
      "Requirement already satisfied: decompyle3<4.0.0,>=3.8.0 in /Users/byronhsu/miniconda3/envs/capstone/lib/python3.8/site-packages (from apperception==0.1.0) (3.8.0)\n",
      "Requirement already satisfied: opencv-python<5.0.0,>=4.5.5 in /Users/byronhsu/miniconda3/envs/capstone/lib/python3.8/site-packages (from apperception==0.1.0) (4.5.5.64)\n",
      "Requirement already satisfied: PyQt5<6.0.0,>=5.15.6 in /Users/byronhsu/miniconda3/envs/capstone/lib/python3.8/site-packages (from apperception==0.1.0) (5.15.6)\n",
      "Requirement already satisfied: pyquaternion<0.10.0,>=0.9.9 in /Users/byronhsu/miniconda3/envs/capstone/lib/python3.8/site-packages (from apperception==0.1.0) (0.9.9)\n",
      "Requirement already satisfied: pandas<2.0.0,>=1.4.2 in /Users/byronhsu/miniconda3/envs/capstone/lib/python3.8/site-packages (from apperception==0.1.0) (1.4.2)\n",
      "Requirement already satisfied: PyPika<0.49.0,>=0.48.9 in /Users/byronhsu/miniconda3/envs/capstone/lib/python3.8/site-packages (from apperception==0.1.0) (0.48.9)\n",
      "Requirement already satisfied: psycopg2<3.0.0,>=2.9.3 in /Users/byronhsu/miniconda3/envs/capstone/lib/python3.8/site-packages (from apperception==0.1.0) (2.9.3)\n",
      "Requirement already satisfied: spark-parser<1.9.0,>=1.8.9 in /Users/byronhsu/miniconda3/envs/capstone/lib/python3.8/site-packages (from decompyle3<4.0.0,>=3.8.0->apperception==0.1.0) (1.8.9)\n",
      "Requirement already satisfied: xdis<6.1.0,>=6.0.3 in /Users/byronhsu/miniconda3/envs/capstone/lib/python3.8/site-packages (from decompyle3<4.0.0,>=3.8.0->apperception==0.1.0) (6.0.3)\n",
      "Requirement already satisfied: fonttools>=4.22.0 in /Users/byronhsu/miniconda3/envs/capstone/lib/python3.8/site-packages (from matplotlib<4.0.0,>=3.5.1->apperception==0.1.0) (4.28.1)\n",
      "Requirement already satisfied: packaging>=20.0 in /Users/byronhsu/miniconda3/envs/capstone/lib/python3.8/site-packages (from matplotlib<4.0.0,>=3.5.1->apperception==0.1.0) (21.2)\n",
      "Requirement already satisfied: kiwisolver>=1.0.1 in /Users/byronhsu/miniconda3/envs/capstone/lib/python3.8/site-packages (from matplotlib<4.0.0,>=3.5.1->apperception==0.1.0) (1.3.2)\n",
      "Requirement already satisfied: pyparsing>=2.2.1 in /Users/byronhsu/miniconda3/envs/capstone/lib/python3.8/site-packages (from matplotlib<4.0.0,>=3.5.1->apperception==0.1.0) (2.4.7)\n",
      "Requirement already satisfied: python-dateutil>=2.7 in /Users/byronhsu/miniconda3/envs/capstone/lib/python3.8/site-packages (from matplotlib<4.0.0,>=3.5.1->apperception==0.1.0) (2.8.2)\n",
      "Requirement already satisfied: cycler>=0.10 in /Users/byronhsu/miniconda3/envs/capstone/lib/python3.8/site-packages (from matplotlib<4.0.0,>=3.5.1->apperception==0.1.0) (0.11.0)\n",
      "Requirement already satisfied: pytz>=2020.1 in /Users/byronhsu/miniconda3/envs/capstone/lib/python3.8/site-packages (from pandas<2.0.0,>=1.4.2->apperception==0.1.0) (2021.3)\n",
      "Requirement already satisfied: PyQt5-Qt5>=5.15.2 in /Users/byronhsu/miniconda3/envs/capstone/lib/python3.8/site-packages (from PyQt5<6.0.0,>=5.15.6->apperception==0.1.0) (5.15.2)\n",
      "Requirement already satisfied: PyQt5-sip<13,>=12.8 in /Users/byronhsu/miniconda3/envs/capstone/lib/python3.8/site-packages (from PyQt5<6.0.0,>=5.15.6->apperception==0.1.0) (12.9.0)\n",
      "Requirement already satisfied: six>=1.5 in /Users/byronhsu/miniconda3/envs/capstone/lib/python3.8/site-packages (from python-dateutil>=2.7->matplotlib<4.0.0,>=3.5.1->apperception==0.1.0) (1.16.0)\n",
      "Requirement already satisfied: click in /Users/byronhsu/miniconda3/envs/capstone/lib/python3.8/site-packages (from spark-parser<1.9.0,>=1.8.9->decompyle3<4.0.0,>=3.8.0->apperception==0.1.0) (8.0.3)\n",
      "Requirement already satisfied: typing-extensions in /Users/byronhsu/miniconda3/envs/capstone/lib/python3.8/site-packages (from torch<2.0.0,>=1.11.0->apperception==0.1.0) (4.0.0)\n",
      "Building wheels for collected packages: apperception\n",
      "  Building wheel for apperception (PEP 517) ... \u001b[?25ldone\n",
      "\u001b[?25h  Created wheel for apperception: filename=apperception-0.1.0-py3-none-any.whl size=74729 sha256=ece43d8fda9b2dd9126de98dc2f2193d48a47653d93ed312571eafad99422176\n",
      "  Stored in directory: /private/var/folders/jk/04mdk5z529z3kdnl2cl6ty3h0000gn/T/pip-ephem-wheel-cache-drf8e9rm/wheels/73/ed/08/f70e9954595ae1250cabcf7ad1fe482879fdb2b7b75b94eef9\n",
      "Successfully built apperception\n",
      "Installing collected packages: apperception\n",
      "  Attempting uninstall: apperception\n",
      "    Found existing installation: apperception 0.1.0\n",
      "    Uninstalling apperception-0.1.0:\n",
      "      Successfully uninstalled apperception-0.1.0\n",
      "Successfully installed apperception-0.1.0\n",
      "Note: you may need to restart the kernel to use updated packages.\n"
     ]
    }
   ],
   "source": [
    "%cd ../..\n",
    "%pip install .\n",
    "import time\n",
    "# ego = Car on drivableRoad,\n",
    "#         facing Range(-15, 15) deg relative to roadDirection,\n",
    "#         with visibleDistance 50,\n",
    "#         with viewAngle 135 deg\n",
    "\n",
    "# other1 = Car on intersection,\n",
    "#             facing Range(50, 135) deg relative to ego.heading\n",
    "\n",
    "# other2 = Car on intersection,\n",
    "#             facing -1 * Range(50, 135) deg relative to ego.heading\n",
    "\n",
    "# require abs(relative heading of other1 from other2) > 100 deg\n",
    "# require (distance from ego to intersectionRegion) < 10"
   ]
  },
  {
   "cell_type": "code",
   "execution_count": null,
   "id": "f1a55f21",
   "metadata": {},
   "outputs": [],
   "source": [
    "\"\"\"\n",
    "with (\n",
    "  select *\n",
    "  from item_traj\n",
    "  where item_traj.object_type = 'car'\n",
    ") as cars\n",
    "\n",
    "select *\n",
    "from cars as t1\n",
    "join cars as t2 on t1.cameraId = t2.cameraId\n",
    "join Cameras as cam on t1.cameraId = Cameras.id\n",
    "where\n",
    "  facingRelative(cam.egoHeading, road_direction(cam.ego_translation), cam.timestamp) >= -15 AND\n",
    "  facingRelative(cam.egoHeading, road_direction(cam.ego_translation), cam.timestamp) <= 15 AND\n",
    "  DISTANCE(cam.egoTranslation, t1.centroid, cam.timestamp) < 50 AND\n",
    "  viewAngle(t1.traj, cam.egoHeading, cam.ego_Translation, cam.timestamp) < 135 AND\n",
    "  DISTANCE(cam.egoTranslation, t2.centroid, cam.timestamp) < 50 AND\n",
    "  viewAngle(t2.traj, cam.egoHeading, cam.ego_Translation, cam.timestamp) < 135 AND\n",
    "  contained(t1.traj, road_segment_type(\"intersection\"), cam.timestamp) and\n",
    "  contained(t2.traj, road_segment_type(\"intersection\"), cam.timestamp) and\n",
    "  (facingRelative(t1.heading, cam.egoHeading, cam.timestamp) < -50 ANd\n",
    "  facingRelative(t1.heading, cam.egoHeading, cam.timestamp) > -135) AND\n",
    "  (facingRelative(t2.heading, cam.egoHeading, cam.timestamp) < -50 AND\n",
    "  facingRelative(t2.heading, cam.egoHeading, cam.timestamp) > -135) AND\n",
    "  DISTANCE(cam.egoTranslation, roadSection(\"intersection\"), cam.timestamp) < 10 AND\n",
    "  (facingRelative(t1.heading, t2.heading, cam.timestamp) > 100 OR\n",
    "  facingRelative(t1.heading, t2.heading, cam.timestmap) < -100)\n",
    "\n",
    "\"\"\""
   ]
  },
  {
   "cell_type": "code",
   "execution_count": null,
   "id": "6eda50c4",
   "metadata": {},
   "outputs": [],
   "source": [
    "import matplotlib.pyplot as plt\n",
    "import matplotlib.image as mpimg\n",
    "\n",
    "%matplotlib inline\n",
    "\n",
    "def show_filenames(w, key_and_timestamps):\n",
    "    itemids = []\n",
    "    ts = []\n",
    "    for i in range(len(key_and_timestamps)):\n",
    "        itemids.append(key_and_timestamps[i][0])\n",
    "        ts.append(key_and_timestamps[i][-1])\n",
    "    # clean up the filenames\n",
    "    fnames = set(w.get_filenames_by_itemids_and_timestamps(itemids, ts))\n",
    "    fnames = [fname.split(\"/\")[-1] for fname in fnames]\n",
    "    return fnames\n",
    "\n",
    "def show_images_by_filenames(filenames):\n",
    "    folder = \"./data/experiment_data/\"\n",
    "    for name in filenames:\n",
    "        fname = folder + name\n",
    "        print(fname)\n",
    "        plt.figure()\n",
    "        plt.imshow(mpimg.imread(fname))\n"
   ]
  },
  {
   "cell_type": "code",
   "execution_count": null,
   "id": "6646aa68",
   "metadata": {},
   "outputs": [],
   "source": [
    "### Prepare the world for queries ###\n",
    "from apperception.new_world import *\n",
    "# directly ingest the mini dataset and boston roadnetwork if needed\n",
    "# from apperception.new_db import database\n",
    "# database.reset()\n",
    "# from benchmarks.ingest_scenic_data import ingest_data\n",
    "# ingest_data()\n",
    "\n",
    "name = 'ScenicWorld' # world name\n",
    "world = empty_world(name=name)\n",
    "\n",
    "### Query ###\n",
    "from apperception.utils import F\n",
    "world = world.filter(lambda obj: obj.object_type == 'vehicle.car')\n",
    "def pred(obj1, obj2, cam):\n",
    "    return (\n",
    "        F.facing_relative(cam.ego, F.road_direction(cam.ego, cam.timestamp), cam.timestamp) >= -15 and\n",
    "        F.facing_relative(cam.ego, F.road_direction(cam.ego, cam.timestamp), cam.timestamp) <= 15 and\n",
    "        F.distance(cam.ego, obj1, cam.timestamp) < 50 and\n",
    "        F.viewAngle(obj1, cam.ego, cam.timestamp) < 135 and\n",
    "        F.distance(cam.ego, obj2, cam.timestamp) < 50 and\n",
    "        F.viewAngle(obj2, cam.ego, cam.timestamp) < 135 and\n",
    "        F.contained(obj1.traj, F.road_segment(\"intersection\"), cam.timestamp) and\n",
    "        F.contained(obj2.traj, F.road_segment(\"intersection\"), cam.timestamp) and\n",
    "        (F.facing_relative(obj1, cam.ego, cam.timestamp) >= 50 or\n",
    "            F.facing_relative(obj1, cam.ego, cam.timestamp) <= 135) and\n",
    "        (F.facing_relative(obj2, cam.ego, cam.timestamp) < -50 or\n",
    "            F.facing_relative(obj2, cam.ego, cam.timestamp) > -135) and\n",
    "        F.distance(cam.ego, roadSection(obj1.traj, cam.timestamp)) < 10 and\n",
    "        (F.facing_relative(obj1, obj2, cam.timestamp) > 100 or\n",
    "            F.facing_relative(obj1, obj2, cam.timestamp) < -100)\n",
    "    )\n",
    "world2 = world.filter(\"lambda obj1, obj2, cam: F.facing_relative(cam.ego, F.road_direction(cam.ego, cam.timestamp), cam.timestamp) >= -15 and \" + \n",
    "        \"F.facing_relative(cam.ego, F.road_direction(cam.ego, cam.timestamp), cam.timestamp) <= 15 and \" + \n",
    "        \"F.distance(cam.ego, obj1, cam.timestamp) < 50 and \" +\n",
    "        \"F.view_angle(obj1, cam.ego, cam.timestamp) < 135 and \" +\n",
    "        \"F.distance(cam.ego, obj2, cam.timestamp) < 50 and \" +\n",
    "        \"F.view_angle(obj2, cam.ego, cam.timestamp) < 135 and \" +\n",
    "        \"F.contained(obj1.traj, F.road_segment('intersection'), cam.timestamp) and \" +\n",
    "        \"F.contained(obj2.traj, F.road_segment('intersection'), cam.timestamp) and \" +\n",
    "        \"(F.facing_relative(obj1, cam.ego, cam.timestamp) >= 50 or \" +\n",
    "            \"F.facing_relative(obj1, cam.ego, cam.timestamp) <= 135) and \" +\n",
    "        \"(F.facing_relative(obj2, cam.ego, cam.timestamp) < -50 or \" +\n",
    "            \"F.facing_relative(obj2, cam.ego, cam.timestamp) > -135) and \" +\n",
    "        \"F.distance(cam.ego, obj1, cam.timestamp) < 10 and \" +\n",
    "        \"F.distance(cam.ego, obj2, cam.timestamp) < 10 and \" +\n",
    "        \"(F.facing_relative(obj1, obj2, cam.timestamp) > 100 or \" +\n",
    "            \"F.facing_relative(obj1, obj2, cam.timestamp) < -100)\")\n",
    "\n",
    "start = time.time()\n",
    "\n",
    "# key = world2.get_id_and_time(num_joined_tables=2)\n",
    "\n",
    "end = time.time()\n",
    "print(format(end-start))"
   ]
  },
  {
   "cell_type": "code",
   "execution_count": null,
   "id": "31d382ab",
   "metadata": {},
   "outputs": [],
   "source": [
    "# [*] The answer filename is in the result\n",
    "\n",
    "world2 = world.filter(\"lambda obj1, obj2, cam: \"+ # F.facing_relative(cam.ego, F.road_direction(cam.ego, cam.timestamp), cam.timestamp) >= -15 and \" + \n",
    "#         \"F.facing_relative(cam.ego, F.road_direction(cam.ego, cam.timestamp), cam.timestamp) <= 15 and \" + \n",
    "        \"F.distance(cam.ego, obj1, cam.timestamp) < 50 and \" +\n",
    "#         \"F.view_angle(obj1, cam.ego, cam.timestamp) < 135 and \" +\n",
    "        \"F.distance(cam.ego, obj2, cam.timestamp) < 50 and \" +\n",
    "#         \"F.view_angle(obj2, cam.ego, cam.timestamp) < 135 and \" +\n",
    "        \"F.contained(obj1.traj, F.road_segment('intersection'), cam.timestamp) and \" +\n",
    "        \"F.contained(obj2.traj, F.road_segment('intersection'), cam.timestamp)\"\n",
    "#         \"(F.facing_relative(obj1, cam.ego, cam.timestamp) < -50 or \" +\n",
    "#             \"F.facing_relative(obj1, cam.ego, cam.timestamp) > -135) and \" +\n",
    "#         \"(F.facing_relative(obj2, cam.ego, cam.timestamp) < -50 or \" +\n",
    "#             \"F.facing_relative(obj2, cam.ego, cam.timestamp) > -135) and \" +\n",
    "#         \"F.distance(cam.ego, obj1, cam.timestamp) < 10 and \" +\n",
    "#         \"F.distance(cam.ego, obj2, cam.timestamp) < 10 and \" +\n",
    "#         \"(F.facing_relative(obj1, obj2, cam.timestamp) > 100 or \" +\n",
    "#             \"F.facing_relative(obj1, obj2, cam.timestamp) < -100)\"\n",
    "        )\n",
    "\n",
    "key = world2.get_id_and_time(num_joined_tables=2)\n",
    "\"n008-2018-08-30-15-16-55-0400__CAM_FRONT__1535657118112404.jpg\" in show_filenames(world, key)"
   ]
  },
  {
   "cell_type": "code",
   "execution_count": null,
   "id": "0736f7f9",
   "metadata": {},
   "outputs": [],
   "source": [
    "# [*] The answer filename is NOT in the result\n",
    "\n",
    "world2 = world.filter(\"lambda obj1, obj2, cam: F.facing_relative(cam.ego, F.road_direction(cam.ego, cam.timestamp), cam.timestamp) >= -15 and \" + \n",
    "        \"F.facing_relative(cam.ego, F.road_direction(cam.ego, cam.timestamp), cam.timestamp) <= 15 and \" + \n",
    "        \"F.distance(cam.ego, obj1, cam.timestamp) < 50 and \" +\n",
    "#         \"F.view_angle(obj1, cam.ego, cam.timestamp) < 135 and \" +\n",
    "        \"F.distance(cam.ego, obj2, cam.timestamp) < 50 and \" +\n",
    "#         \"F.view_angle(obj2, cam.ego, cam.timestamp) < 135 and \" +\n",
    "        \"F.contained(obj1.traj, F.road_segment('intersection'), cam.timestamp) and \" +\n",
    "        \"F.contained(obj2.traj, F.road_segment('intersection'), cam.timestamp)\"\n",
    "#         \"(F.facing_relative(obj1, cam.ego, cam.timestamp) < -50 or \" +\n",
    "#             \"F.facing_relative(obj1, cam.ego, cam.timestamp) > -135) and \" +\n",
    "#         \"(F.facing_relative(obj2, cam.ego, cam.timestamp) < -50 or \" +\n",
    "#             \"F.facing_relative(obj2, cam.ego, cam.timestamp) > -135) and \" +\n",
    "#         \"F.distance(cam.ego, obj1, cam.timestamp) < 10 and \" +\n",
    "#         \"F.distance(cam.ego, obj2, cam.timestamp) < 10 and \" +\n",
    "#         \"(F.facing_relative(obj1, obj2, cam.timestamp) > 100 or \" +\n",
    "#             \"F.facing_relative(obj1, obj2, cam.timestamp) < -100)\"\n",
    "        )\n",
    "\n",
    "key = world2.get_id_and_time(num_joined_tables=2)\n",
    "\"n008-2018-08-30-15-16-55-0400__CAM_FRONT__1535657118112404.jpg\" in show_filenames(world, key)"
   ]
  },
  {
   "cell_type": "markdown",
   "id": "162ad8d9",
   "metadata": {},
   "source": [
    "# Database debugging"
   ]
  },
  {
   "cell_type": "code",
   "execution_count": 4,
   "id": "7fb0ebae",
   "metadata": {},
   "outputs": [],
   "source": [
    "from apperception.new_db import database\n",
    "# database.reset()\n",
    "from benchmarks.ingest_scenic_data import ingest_data\n",
    "# ingest_data()"
   ]
  },
  {
   "cell_type": "code",
   "execution_count": 5,
   "id": "8a80edf9",
   "metadata": {},
   "outputs": [
    {
     "data": {
      "text/plain": [
       "[('scene-0757',\n",
       "  '0a7aef80edbc4854bcd781a3becb943c',\n",
       "  1,\n",
       "  'samples/CAM_FRONT/n008-2018-08-30-15-16-55-0400__CAM_FRONT__1535657118112404.jpg',\n",
       "  '0101000080BC7F3AD5558DFB3F29C895367D79733F98001BCF29EBF73F',\n",
       "  [0.50772417, -0.49733922, 0.49837166, -0.4964832],\n",
       "  [[1252.8131, 0.0, 826.58813], [0.0, 1252.8131, 469.98465], [0.0, 0.0, 1.0]],\n",
       "  '0101000080E0ADEE26F25273401F1C4BAE4FE584400000000000000000',\n",
       "  [-0.22968984, 0.010745329, -0.024026645, -0.9729079],\n",
       "  datetime.datetime(2018, 8, 30, 12, 25, 18, 112404, tzinfo=datetime.timezone.utc),\n",
       "  113.99965,\n",
       "  153.41838)]"
      ]
     },
     "execution_count": 5,
     "metadata": {},
     "output_type": "execute_result"
    }
   ],
   "source": [
    "database.cursor.execute(\n",
    "\"\"\"\n",
    "select * from cameras where  position('n008-2018-08-30-15-16-55-0400__CAM_FRONT__1535657118112404.jpg' in filename) > 0 limit 5;\n",
    "\"\"\")\n",
    "database.cursor.fetchall()"
   ]
  },
  {
   "cell_type": "code",
   "execution_count": 6,
   "id": "d50ed698",
   "metadata": {},
   "outputs": [
    {
     "data": {
      "text/plain": [
       "[(72.89963,)]"
      ]
     },
     "execution_count": 6,
     "metadata": {},
     "output_type": "execute_result"
    }
   ],
   "source": [
    "database.cursor.execute(\n",
    "\"\"\"\n",
    "select roadDirection(Cameras.egoTranslation, Cameras.timestamp) from cameras where cameras.cameraid = 'scene-0757' AND cameras.timestamp = '2018-08-30 12:25:18.112404+00';\n",
    "\"\"\")\n",
    "database.cursor.fetchall()"
   ]
  },
  {
   "cell_type": "code",
   "execution_count": 7,
   "id": "d0a95c0c",
   "metadata": {},
   "outputs": [
    {
     "data": {
      "text/plain": [
       "[(153.41838,)]"
      ]
     },
     "execution_count": 7,
     "metadata": {},
     "output_type": "execute_result"
    }
   ],
   "source": [
    "database.cursor.execute(\n",
    "\"\"\"\n",
    "select Cameras.egoHeading from cameras where cameras.cameraid = 'scene-0757' AND cameras.timestamp = '2018-08-30 12:25:18.112404+00';\n",
    "\"\"\"\n",
    ")\n",
    "database.cursor.fetchall()"
   ]
  },
  {
   "cell_type": "code",
   "execution_count": 8,
   "id": "da08b0a8",
   "metadata": {},
   "outputs": [
    {
     "data": {
      "text/plain": [
       "[(80.51875,)]"
      ]
     },
     "execution_count": 8,
     "metadata": {},
     "output_type": "execute_result"
    }
   ],
   "source": [
    "database.cursor.execute(\n",
    "\"\"\"\n",
    "select facingRelative(Cameras.egoHeading, roadDirection(Cameras.egoTranslation, Cameras.timestamp)) from cameras where cameras.cameraid = 'scene-0757' AND cameras.timestamp = '2018-08-30 12:25:18.112404+00';\n",
    "\"\"\")\n",
    "database.cursor.fetchall()"
   ]
  },
  {
   "cell_type": "markdown",
   "id": "7e5e8f20",
   "metadata": {},
   "source": [
    "# Find camera segment_id and heading"
   ]
  },
  {
   "cell_type": "code",
   "execution_count": 23,
   "id": "40f70905",
   "metadata": {},
   "outputs": [],
   "source": [
    "filename = \"n008-2018-08-30-15-16-55-0400__CAM_FRONT__1535657118112404.jpg\"\n",
    "\n",
    "def find_segmentid_and_heading_from_image(filename):\n",
    "    database.cursor.execute(\n",
    "    f\"\"\"\n",
    "    select * from cameras where  position('{filename}' in filename) > 0 limit 5;\n",
    "    \"\"\")\n",
    "    camera_id = database.cursor.fetchall()[0][0]\n",
    "    # print(camera_id)\n",
    "    database.cursor.execute(\n",
    "    f\"\"\"\n",
    "    select ST_asText(egoTranslation) from cameras where cameras.cameraid = '{camera_id}' limit 1;\n",
    "    \"\"\")\n",
    "    \n",
    "    ego_translation = database.cursor.fetchall()[0][0]\n",
    "    # print(ego_translation)\n",
    "    database.cursor.execute(\n",
    "    f\"\"\"\n",
    "    select segmentid, DEGREES(heading) from segment, ST_GeomFromText('{ego_translation}') as point order by ST_distance(segmentLine, point) asc limit 1;\n",
    "    \"\"\")\n",
    "    \n",
    "    out = database.cursor.fetchall()\n",
    "    \n",
    "    segment_id = out[0][0]\n",
    "    heading = out[0][1]\n",
    "    return segment_id, heading"
   ]
  },
  {
   "cell_type": "code",
   "execution_count": 24,
   "id": "41bc6147",
   "metadata": {},
   "outputs": [],
   "source": [
    "filenames = [\"n008-2018-09-18-12-07-26-0400__CAM_FRONT__1537287358412404.jpg\", \"n008-2018-08-30-15-16-55-0400__CAM_FRONT__1535657118112404.jpg\", \"n008-2018-08-30-15-16-55-0400__CAM_FRONT__1535657118612404.jpg\", \"n008-2018-08-30-15-16-55-0400__CAM_FRONT__1535657127612404.jpg\", \"n008-2018-08-30-15-16-55-0400__CAM_FRONT__1535657128112404.jpg\", \"n008-2018-08-30-15-16-55-0400__CAM_FRONT__1535657127112404.jpg\", \"n008-2018-08-30-15-16-55-0400__CAM_FRONT__1535657119112404.jpg\"]\n",
    "df_dict = {\"filename\": [], \"segment_id\": [], \"heading\": []}\n",
    "for filename in filenames:\n",
    "    segment_id, heading = find_segmentid_and_heading_from_image(filename)\n",
    "    df_dict[\"filename\"].append(filename)\n",
    "    df_dict[\"segment_id\"].append(segment_id)\n",
    "    df_dict[\"heading\"].append(heading)\n"
   ]
  },
  {
   "cell_type": "code",
   "execution_count": 26,
   "id": "efd444af",
   "metadata": {},
   "outputs": [
    {
     "data": {
      "text/html": [
       "<div>\n",
       "<style scoped>\n",
       "    .dataframe tbody tr th:only-of-type {\n",
       "        vertical-align: middle;\n",
       "    }\n",
       "\n",
       "    .dataframe tbody tr th {\n",
       "        vertical-align: top;\n",
       "    }\n",
       "\n",
       "    .dataframe thead th {\n",
       "        text-align: right;\n",
       "    }\n",
       "</style>\n",
       "<table border=\"1\" class=\"dataframe\">\n",
       "  <thead>\n",
       "    <tr style=\"text-align: right;\">\n",
       "      <th></th>\n",
       "      <th>filename</th>\n",
       "      <th>segment_id</th>\n",
       "      <th>heading</th>\n",
       "    </tr>\n",
       "  </thead>\n",
       "  <tbody>\n",
       "    <tr>\n",
       "      <th>0</th>\n",
       "      <td>n008-2018-09-18-12-07-26-0400__CAM_FRONT__1537...</td>\n",
       "      <td>2793</td>\n",
       "      <td>-96.534684</td>\n",
       "    </tr>\n",
       "    <tr>\n",
       "      <th>1</th>\n",
       "      <td>n008-2018-08-30-15-16-55-0400__CAM_FRONT__1535...</td>\n",
       "      <td>4652</td>\n",
       "      <td>72.899627</td>\n",
       "    </tr>\n",
       "    <tr>\n",
       "      <th>2</th>\n",
       "      <td>n008-2018-08-30-15-16-55-0400__CAM_FRONT__1535...</td>\n",
       "      <td>4652</td>\n",
       "      <td>72.899627</td>\n",
       "    </tr>\n",
       "    <tr>\n",
       "      <th>3</th>\n",
       "      <td>n008-2018-08-30-15-16-55-0400__CAM_FRONT__1535...</td>\n",
       "      <td>4652</td>\n",
       "      <td>72.899627</td>\n",
       "    </tr>\n",
       "    <tr>\n",
       "      <th>4</th>\n",
       "      <td>n008-2018-08-30-15-16-55-0400__CAM_FRONT__1535...</td>\n",
       "      <td>4652</td>\n",
       "      <td>72.899627</td>\n",
       "    </tr>\n",
       "    <tr>\n",
       "      <th>5</th>\n",
       "      <td>n008-2018-08-30-15-16-55-0400__CAM_FRONT__1535...</td>\n",
       "      <td>4652</td>\n",
       "      <td>72.899627</td>\n",
       "    </tr>\n",
       "    <tr>\n",
       "      <th>6</th>\n",
       "      <td>n008-2018-08-30-15-16-55-0400__CAM_FRONT__1535...</td>\n",
       "      <td>4652</td>\n",
       "      <td>72.899627</td>\n",
       "    </tr>\n",
       "  </tbody>\n",
       "</table>\n",
       "</div>"
      ],
      "text/plain": [
       "                                            filename  segment_id    heading\n",
       "0  n008-2018-09-18-12-07-26-0400__CAM_FRONT__1537...        2793 -96.534684\n",
       "1  n008-2018-08-30-15-16-55-0400__CAM_FRONT__1535...        4652  72.899627\n",
       "2  n008-2018-08-30-15-16-55-0400__CAM_FRONT__1535...        4652  72.899627\n",
       "3  n008-2018-08-30-15-16-55-0400__CAM_FRONT__1535...        4652  72.899627\n",
       "4  n008-2018-08-30-15-16-55-0400__CAM_FRONT__1535...        4652  72.899627\n",
       "5  n008-2018-08-30-15-16-55-0400__CAM_FRONT__1535...        4652  72.899627\n",
       "6  n008-2018-08-30-15-16-55-0400__CAM_FRONT__1535...        4652  72.899627"
      ]
     },
     "metadata": {},
     "output_type": "display_data"
    }
   ],
   "source": [
    "import pandas as pd\n",
    "df = pd.DataFrame(df_dict)\n",
    "display(df)\n",
    "df.to_csv(\"fig-13.csv\", index=False)"
   ]
  },
  {
   "cell_type": "code",
   "execution_count": null,
   "id": "ab7906de",
   "metadata": {},
   "outputs": [],
   "source": []
  }
 ],
 "metadata": {
  "kernelspec": {
   "display_name": "Python 3 (ipykernel)",
   "language": "python",
   "name": "python3"
  },
  "language_info": {
   "codemirror_mode": {
    "name": "ipython",
    "version": 3
   },
   "file_extension": ".py",
   "mimetype": "text/x-python",
   "name": "python",
   "nbconvert_exporter": "python",
   "pygments_lexer": "ipython3",
   "version": "3.8.12"
  }
 },
 "nbformat": 4,
 "nbformat_minor": 5
}
