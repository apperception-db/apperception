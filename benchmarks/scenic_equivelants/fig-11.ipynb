{
 "cells": [
  {
   "cell_type": "code",
   "execution_count": null,
   "id": "5821d7b3-f599-4e85-be69-cedd8ef1c26f",
   "metadata": {},
   "outputs": [],
   "source": [
    "%cd ../..\n",
    "%pip install .\n",
    "# def placeObjs(numPeds):\n",
    "#     for i in range(numPeds):\n",
    "#         Pedestrian offset by Range(-5, 5) @ Range(0, 200),\n",
    "#             facing Range(-120, 120) deg relative to ego.heading\n",
    "\n",
    "# spawn_point = 207.26 @ 8.72\n",
    "# ego = Car at spawn_point,\n",
    "#         with visibleDistance 200\n",
    "\n",
    "# placeObjs(3)"
   ]
  },
  {
   "cell_type": "code",
   "execution_count": null,
   "id": "d64a3f9c",
   "metadata": {},
   "outputs": [],
   "source": [
    "\"\"\"\n",
    "with (\n",
    "  select *\n",
    "  from item_traj\n",
    "  where item_traj.object_type = 'pedestrian'\n",
    ") as pedestrian\n",
    "\n",
    "select *\n",
    "from pedestrian as t1\n",
    "join pedestrian as t2 on t1.cameraId = t2.cameraId\n",
    "join pedestrian as t3 on t2.cameraId = t3.cameraId\n",
    "join Cameras as cam on t1.cameraId = Cameras.id\n",
    "where\n",
    "  facingRelative(t1.heading, cam.egoHeading, cam.timestamp) >= -120 AND\n",
    "  facingRelative(t1.heading, cam.egoHeading, cam.timestamp) < 120 AND\n",
    "  facingRelative(t2.heading, cam.egoHeading, cam.timestamp) >= -120 AND\n",
    "  facingRelative(t2.heading, cam.egoHeading, cam.timestamp) < 120 AND\n",
    "  facingRelative(t3.heading, cam.egoHeading, cam.timestamp) >= -120 AND\n",
    "  facingRelative(t3.heading, cam.egoHeading, cam.timestamp) < 120 AND\n",
    "  convertCamera(t1.centroid, cam.ego_translation, cam.timestamp) > (-5, -5) AND\n",
    "  convertCamera(t1.centroid, cam.ego_translation, cam.timestamp) < (0, 200) AND\n",
    "  convertCamera(t2.centroid, cam.ego_translation, cam.timestamp) > (-5, -5) AND\n",
    "  convertCamera(t2.centroid, cam.ego_translation, cam.timestamp) < (0, 200) AND\n",
    "  convertCamera(t3.centroid, cam.ego_translation, cam.timestamp) > (-5, -5) AND\n",
    "  convertCamera(t3.centroid, cam.ego_translation, cam.timestamp) < (0, 200)\n",
    "\"\"\""
   ]
  },
  {
   "cell_type": "code",
   "execution_count": null,
   "id": "f1addaea",
   "metadata": {},
   "outputs": [],
   "source": [
    "### Prepare the world for queries ###\n",
    "from apperception.new_world import *\n",
    "# directly ingest the mini dataset and boston roadnetwork if needed\n",
    "# from apperception.new_db import database\n",
    "# database.reset()\n",
    "# from benchmarks.ingest_scenic_data import ingest_data\n",
    "# ingest_data()\n",
    "\n",
    "name = 'ScenicWorld' # world name\n",
    "world = empty_world(name=name)\n",
    "\n",
    "### Query ###\n",
    "from apperception.utils import F\n",
    "world = world.predicate(lambda obj: obj.object_type == 'vehicle.pedestrian')\n",
    "def pred(obj1, obj2, obj3, cam):\n",
    "    return (\n",
    "        F.facing_relative(obj1, cam.ego, cam.timestamp) >= -120 and\n",
    "        F.facing_relative(obj1, cam.ego, cam.timestamp) < 120 and\n",
    "        F.facing_relative(obj2, cam.ego, cam.timestamp) >= -120 and\n",
    "        F.facing_relative(obj2, cam.ego, cam.timestamp) < 120 and\n",
    "        F.facing_relative(obj3, cam.ego, cam.timestamp) >= -120 and\n",
    "        F.facing_relative(obj3, cam.ego, cam.timestamp) < 120 and\n",
    "        F.convert_to_cam(obj1.traj, cam.ego, cam.timestamp) >= (-5, -5) and\n",
    "        F.convert_to_cam(obj1.traj, cam.ego, cam.timestamp) <= (0, 200) and\n",
    "        F.convert_to_cam(obj2.traj, cam.ego, cam.timestamp) >= (-5, -5) and\n",
    "        F.convert_to_cam(obj2.traj, cam.ego, cam.timestamp) <= (0, 200) and\n",
    "        F.convert_to_cam(obj3.traj, cam.ego, cam.timestamp) >= (-5, -5) and\n",
    "        F.convert_to_cam(obj3.traj, cam.ego, cam.timestamp) <= (0, 200)\n",
    "    )\n",
    "world = world.predicate(pred)"
   ]
  }
 ],
 "metadata": {
  "kernelspec": {
   "display_name": "Python 3 (ipykernel)",
   "language": "python",
   "name": "python3"
  },
  "language_info": {
   "codemirror_mode": {
    "name": "ipython",
    "version": 3
   },
   "file_extension": ".py",
   "mimetype": "text/x-python",
   "name": "python",
   "nbconvert_exporter": "python",
   "pygments_lexer": "ipython3",
   "version": "3.8.3"
  }
 },
 "nbformat": 4,
 "nbformat_minor": 5
}
