{
 "cells": [
  {
   "cell_type": "code",
   "execution_count": 1,
   "id": "5821d7b3-f599-4e85-be69-cedd8ef1c26f",
   "metadata": {},
   "outputs": [
    {
     "name": "stdout",
     "output_type": "stream",
     "text": [
      "/home/yongming/workspace/research/apperception_new_local/apperception\n",
      "Processing /home/yongming/workspace/research/apperception_new_local/apperception\n",
      "  Installing build dependencies ... \u001b[?25ldone\n",
      "\u001b[?25h  Getting requirements to build wheel ... \u001b[?25ldone\n",
      "\u001b[?25h  Preparing metadata (pyproject.toml) ... \u001b[?25ldone\n",
      "\u001b[?25hRequirement already satisfied: opencv-python<5.0.0,>=4.5.5 in /home/yongming/.pyenv/versions/3.8.3/lib/python3.8/site-packages (from apperception==0.1.0) (4.5.5.64)\n",
      "Requirement already satisfied: dill<0.4.0,>=0.3.4 in /home/yongming/.pyenv/versions/3.8.3/lib/python3.8/site-packages (from apperception==0.1.0) (0.3.4)\n",
      "Requirement already satisfied: torch<2.0.0,>=1.11.0 in /home/yongming/.pyenv/versions/3.8.3/lib/python3.8/site-packages (from apperception==0.1.0) (1.11.0)\n",
      "Requirement already satisfied: uncompyle6<4.0.0,>=3.8.0 in /home/yongming/.pyenv/versions/3.8.3/lib/python3.8/site-packages (from apperception==0.1.0) (3.8.0)\n",
      "Requirement already satisfied: Pillow<10.0.0,>=9.1.0 in /home/yongming/.pyenv/versions/3.8.3/lib/python3.8/site-packages (from apperception==0.1.0) (9.1.0)\n",
      "Requirement already satisfied: PyQt5<6.0.0,>=5.15.6 in /home/yongming/.pyenv/versions/3.8.3/lib/python3.8/site-packages (from apperception==0.1.0) (5.15.6)\n",
      "Requirement already satisfied: numpy<2.0.0,>=1.22.3 in /home/yongming/.pyenv/versions/3.8.3/lib/python3.8/site-packages (from apperception==0.1.0) (1.22.3)\n",
      "Requirement already satisfied: pandas<2.0.0,>=1.4.2 in /home/yongming/.pyenv/versions/3.8.3/lib/python3.8/site-packages (from apperception==0.1.0) (1.4.2)\n",
      "Requirement already satisfied: PyPika<0.49.0,>=0.48.9 in /home/yongming/.pyenv/versions/3.8.3/lib/python3.8/site-packages (from apperception==0.1.0) (0.48.9)\n",
      "Requirement already satisfied: psycopg2<3.0.0,>=2.9.3 in /home/yongming/.pyenv/versions/3.8.3/lib/python3.8/site-packages (from apperception==0.1.0) (2.9.3)\n",
      "Requirement already satisfied: PyYAML<7.0,>=6.0 in /home/yongming/.pyenv/versions/3.8.3/lib/python3.8/site-packages (from apperception==0.1.0) (6.0)\n",
      "Requirement already satisfied: astpretty<3.0.0,>=2.1.0 in /home/yongming/.pyenv/versions/3.8.3/lib/python3.8/site-packages (from apperception==0.1.0) (2.1.0)\n",
      "Requirement already satisfied: pyquaternion<0.10.0,>=0.9.9 in /home/yongming/.pyenv/versions/3.8.3/lib/python3.8/site-packages (from apperception==0.1.0) (0.9.9)\n",
      "Requirement already satisfied: decompyle3<4.0.0,>=3.8.0 in /home/yongming/.pyenv/versions/3.8.3/lib/python3.8/site-packages (from apperception==0.1.0) (3.8.0)\n",
      "Requirement already satisfied: matplotlib<4.0.0,>=3.5.1 in /home/yongming/.pyenv/versions/3.8.3/lib/python3.8/site-packages (from apperception==0.1.0) (3.5.1)\n",
      "Requirement already satisfied: spark-parser<1.9.0,>=1.8.9 in /home/yongming/.pyenv/versions/3.8.3/lib/python3.8/site-packages (from decompyle3<4.0.0,>=3.8.0->apperception==0.1.0) (1.8.9)\n",
      "Requirement already satisfied: xdis<6.1.0,>=6.0.3 in /home/yongming/.pyenv/versions/3.8.3/lib/python3.8/site-packages (from decompyle3<4.0.0,>=3.8.0->apperception==0.1.0) (6.0.3)\n",
      "Requirement already satisfied: packaging>=20.0 in /home/yongming/.pyenv/versions/3.8.3/lib/python3.8/site-packages (from matplotlib<4.0.0,>=3.5.1->apperception==0.1.0) (21.3)\n",
      "Requirement already satisfied: pyparsing>=2.2.1 in /home/yongming/.pyenv/versions/3.8.3/lib/python3.8/site-packages (from matplotlib<4.0.0,>=3.5.1->apperception==0.1.0) (3.0.7)\n",
      "Requirement already satisfied: cycler>=0.10 in /home/yongming/.pyenv/versions/3.8.3/lib/python3.8/site-packages (from matplotlib<4.0.0,>=3.5.1->apperception==0.1.0) (0.11.0)\n",
      "Requirement already satisfied: fonttools>=4.22.0 in /home/yongming/.pyenv/versions/3.8.3/lib/python3.8/site-packages (from matplotlib<4.0.0,>=3.5.1->apperception==0.1.0) (4.31.2)\n",
      "Requirement already satisfied: python-dateutil>=2.7 in /home/yongming/.pyenv/versions/3.8.3/lib/python3.8/site-packages (from matplotlib<4.0.0,>=3.5.1->apperception==0.1.0) (2.8.2)\n",
      "Requirement already satisfied: kiwisolver>=1.0.1 in /home/yongming/.pyenv/versions/3.8.3/lib/python3.8/site-packages (from matplotlib<4.0.0,>=3.5.1->apperception==0.1.0) (1.4.2)\n",
      "Requirement already satisfied: pytz>=2020.1 in /home/yongming/.local/lib/python3.8/site-packages (from pandas<2.0.0,>=1.4.2->apperception==0.1.0) (2022.1)\n",
      "Requirement already satisfied: PyQt5-Qt5>=5.15.2 in /home/yongming/.pyenv/versions/3.8.3/lib/python3.8/site-packages (from PyQt5<6.0.0,>=5.15.6->apperception==0.1.0) (5.15.2)\n",
      "Requirement already satisfied: PyQt5-sip<13,>=12.8 in /home/yongming/.pyenv/versions/3.8.3/lib/python3.8/site-packages (from PyQt5<6.0.0,>=5.15.6->apperception==0.1.0) (12.10.1)\n",
      "Requirement already satisfied: typing-extensions in /home/yongming/.pyenv/versions/3.8.3/lib/python3.8/site-packages (from torch<2.0.0,>=1.11.0->apperception==0.1.0) (4.1.1)\n",
      "Requirement already satisfied: six>=1.5 in /home/yongming/.pyenv/versions/3.8.3/lib/python3.8/site-packages (from python-dateutil>=2.7->matplotlib<4.0.0,>=3.5.1->apperception==0.1.0) (1.16.0)\n",
      "Requirement already satisfied: click in /home/yongming/.pyenv/versions/3.8.3/lib/python3.8/site-packages (from spark-parser<1.9.0,>=1.8.9->decompyle3<4.0.0,>=3.8.0->apperception==0.1.0) (8.1.2)\n",
      "Building wheels for collected packages: apperception\n",
      "  Building wheel for apperception (pyproject.toml) ... \u001b[?25ldone\n",
      "\u001b[?25h  Created wheel for apperception: filename=apperception-0.1.0-py3-none-any.whl size=74298 sha256=fa8aefd07134bb35a7ebbf0eff537e0e353475776c38c1e8691bf9a08adfe29e\n",
      "  Stored in directory: /tmp/pip-ephem-wheel-cache-0fgqlwi7/wheels/a4/33/17/59e20ccef806baa1a68832d19de43f0fe8d640854903fd1772\n",
      "Successfully built apperception\n",
      "Installing collected packages: apperception\n",
      "  Attempting uninstall: apperception\n",
      "    Found existing installation: apperception 0.1.0\n",
      "    Uninstalling apperception-0.1.0:\n",
      "      Successfully uninstalled apperception-0.1.0\n",
      "Successfully installed apperception-0.1.0\n",
      "Note: you may need to restart the kernel to use updated packages.\n"
     ]
    }
   ],
   "source": [
    "%cd ../..\n",
    "%pip install .\n",
    "import time\n",
    "# def placeObjs(numPeds):\n",
    "#     for i in range(numPeds):\n",
    "#         Pedestrian offset by Range(-5, 5) @ Range(0, 200),\n",
    "#             facing Range(-120, 120) deg relative to ego.heading\n",
    "\n",
    "# spawn_point = 207.26 @ 8.72\n",
    "# ego = Car at spawn_point,\n",
    "#         with visibleDistance 200\n",
    "\n",
    "# placeObjs(3)"
   ]
  },
  {
   "cell_type": "code",
   "execution_count": null,
   "id": "d64a3f9c",
   "metadata": {},
   "outputs": [],
   "source": [
    "\"\"\"\n",
    "with (\n",
    "  select *\n",
    "  from item_traj\n",
    "  where item_traj.object_type = 'pedestrian'\n",
    ") as pedestrian\n",
    "\n",
    "select *\n",
    "from pedestrian as t1\n",
    "join pedestrian as t2 on t1.cameraId = t2.cameraId\n",
    "join pedestrian as t3 on t2.cameraId = t3.cameraId\n",
    "join Cameras as cam on t1.cameraId = Cameras.id\n",
    "where\n",
    "  facingRelative(t1.heading, cam.egoHeading, cam.timestamp) >= -120 AND\n",
    "  facingRelative(t1.heading, cam.egoHeading, cam.timestamp) < 120 AND\n",
    "  facingRelative(t2.heading, cam.egoHeading, cam.timestamp) >= -120 AND\n",
    "  facingRelative(t2.heading, cam.egoHeading, cam.timestamp) < 120 AND\n",
    "  facingRelative(t3.heading, cam.egoHeading, cam.timestamp) >= -120 AND\n",
    "  facingRelative(t3.heading, cam.egoHeading, cam.timestamp) < 120 AND\n",
    "  convertCamera(t1.centroid, cam.ego_translation, cam.timestamp) > (-5, -5) AND\n",
    "  convertCamera(t1.centroid, cam.ego_translation, cam.timestamp) < (0, 200) AND\n",
    "  convertCamera(t2.centroid, cam.ego_translation, cam.timestamp) > (-5, -5) AND\n",
    "  convertCamera(t2.centroid, cam.ego_translation, cam.timestamp) < (0, 200) AND\n",
    "  convertCamera(t3.centroid, cam.ego_translation, cam.timestamp) > (-5, -5) AND\n",
    "  convertCamera(t3.centroid, cam.ego_translation, cam.timestamp) < (0, 200)\n",
    "\"\"\""
   ]
  },
  {
   "cell_type": "code",
   "execution_count": 2,
   "id": "f1addaea",
   "metadata": {},
   "outputs": [
    {
     "name": "stdout",
     "output_type": "stream",
     "text": [
      "execute: filter\n",
      "execute: filter\n",
      "execute: get_id_and_time\n",
      "get_id_and_time \n",
      "        SELECT table_0.itemId,table_1.itemId,table_2.itemId, cameras.timestamp\n",
      "        FROM (\n",
      "        SELECT DISTINCT *\n",
      "        FROM (SELECT * FROM item_general_trajectory) as table_0\n",
      "        \n",
      "        \n",
      "        WHERE (table_0.objectType='vehicle.pedestrian')\n",
      "        ) as table_0\n",
      "        JOIN (\n",
      "        SELECT DISTINCT *\n",
      "        FROM (SELECT * FROM item_general_trajectory) as table_0\n",
      "        \n",
      "        \n",
      "        WHERE (table_0.objectType='vehicle.pedestrian')\n",
      "        ) as table_1 ON table_1.cameraId = table_0.cameraId JOIN (\n",
      "        SELECT DISTINCT *\n",
      "        FROM (SELECT * FROM item_general_trajectory) as table_0\n",
      "        \n",
      "        \n",
      "        WHERE (table_0.objectType='vehicle.pedestrian')\n",
      "        ) as table_2 ON table_2.cameraId = table_0.cameraId\n",
      "        JOIN Cameras ON Cameras.cameraId = table_0.cameraId\n",
      "        WHERE ((facingRelative(table_0.itemHeadings, Cameras.egoHeading, Cameras.timestamp)>=(-120)) AND (facingRelative(table_0.itemHeadings, Cameras.egoHeading, Cameras.timestamp)<120) AND (facingRelative(table_1.itemHeadings, Cameras.egoHeading, Cameras.timestamp)>=(-120)) AND (facingRelative(table_1.itemHeadings, Cameras.egoHeading, Cameras.timestamp)<120) AND (facingRelative(table_2.itemHeadings, Cameras.egoHeading, Cameras.timestamp)>=(-120)) AND (facingRelative(table_2.itemHeadings, Cameras.egoHeading, Cameras.timestamp)<120) AND (ConvertCamera(table_0.trajCentroids, Cameras.egoTranslation, Cameras.egoHeading, Cameras.timestamp)>=ARRAY[(-5),(-5)]) AND (ConvertCamera(table_0.trajCentroids, Cameras.egoTranslation, Cameras.egoHeading, Cameras.timestamp)<=ARRAY[0,200]) AND (ConvertCamera(table_1.trajCentroids, Cameras.egoTranslation, Cameras.egoHeading, Cameras.timestamp)>=ARRAY[(-5),(-5)]) AND (ConvertCamera(table_1.trajCentroids, Cameras.egoTranslation, Cameras.egoHeading, Cameras.timestamp)<=ARRAY[0,200]) AND (ConvertCamera(table_2.trajCentroids, Cameras.egoTranslation, Cameras.egoHeading, Cameras.timestamp)>=ARRAY[(-5),(-5)]) AND (ConvertCamera(table_2.trajCentroids, Cameras.egoTranslation, Cameras.egoHeading, Cameras.timestamp)<=ARRAY[0,200]))\n",
      "        \n",
      "done execute node\n",
      "1.1433777809143066\n"
     ]
    }
   ],
   "source": [
    "### Prepare the world for queries ###\n",
    "from apperception.new_world import *\n",
    "# directly ingest the mini dataset and boston roadnetwork if needed\n",
    "# from apperception.new_db import database\n",
    "# database.reset()\n",
    "# from benchmarks.ingest_scenic_data import ingest_data\n",
    "# ingest_data()\n",
    "\n",
    "name = 'ScenicWorld' # world name\n",
    "world = empty_world(name=name)\n",
    "\n",
    "### Query ###\n",
    "from apperception.utils import F\n",
    "world = world.filter(lambda obj: obj.object_type == 'vehicle.pedestrian')\n",
    "def pred(obj1, obj2, obj3, cam):\n",
    "    return (\n",
    "        F.facing_relative(obj1, cam.ego, cam.timestamp) >= -120 and\n",
    "        F.facing_relative(obj1, cam.ego, cam.timestamp) < 120 and\n",
    "        F.facing_relative(obj2, cam.ego, cam.timestamp) >= -120 and\n",
    "        F.facing_relative(obj2, cam.ego, cam.timestamp) < 120 and\n",
    "        F.facing_relative(obj3, cam.ego, cam.timestamp) >= -120 and\n",
    "        F.facing_relative(obj3, cam.ego, cam.timestamp) < 120 and\n",
    "        F.convert_camera(obj1.traj, cam.ego, cam.timestamp) >= [-5, -5] and\n",
    "        F.convert_camera(obj1.traj, cam.ego, cam.timestamp) <= [0, 200] and\n",
    "        F.convert_camera(obj2.traj, cam.ego, cam.timestamp) >= [-5, -5] and\n",
    "        F.convert_camera(obj2.traj, cam.ego, cam.timestamp) <= [0, 200] and\n",
    "        F.convert_camera(obj3.traj, cam.ego, cam.timestamp) >= [-5, -5] and\n",
    "        F.convert_camera(obj3.traj, cam.ego, cam.timestamp) <= [0, 200]\n",
    "    )\n",
    "world = world.filter(pred)\n",
    "\n",
    "start = time.time()\n",
    "\n",
    "key = world.get_id_and_time(num_joined_tables=3)\n",
    "\n",
    "end = time.time()\n",
    "print(format(end-start))"
   ]
  },
  {
   "cell_type": "code",
   "execution_count": 3,
   "id": "f4c11f80",
   "metadata": {},
   "outputs": [
    {
     "data": {
      "text/plain": [
       "[]"
      ]
     },
     "execution_count": 3,
     "metadata": {},
     "output_type": "execute_result"
    }
   ],
   "source": [
    "key"
   ]
  },
  {
   "cell_type": "code",
   "execution_count": null,
   "id": "2bd32086",
   "metadata": {},
   "outputs": [],
   "source": []
  }
 ],
 "metadata": {
  "kernelspec": {
   "display_name": "Python 3 (ipykernel)",
   "language": "python",
   "name": "python3"
  },
  "language_info": {
   "codemirror_mode": {
    "name": "ipython",
    "version": 3
   },
   "file_extension": ".py",
   "mimetype": "text/x-python",
   "name": "python",
   "nbconvert_exporter": "python",
   "pygments_lexer": "ipython3",
   "version": "3.8.3"
  }
 },
 "nbformat": 4,
 "nbformat_minor": 5
}
