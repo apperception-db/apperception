{
 "cells": [
  {
   "cell_type": "code",
   "execution_count": 1,
   "id": "df1a5b5f-16b0-488b-8e95-98d5da600d09",
   "metadata": {},
   "outputs": [
    {
     "name": "stdout",
     "output_type": "stream",
     "text": [
      "/home/yongming/workspace/research/apperception_new_local/apperception\n",
      "Processing /home/yongming/workspace/research/apperception_new_local/apperception\n",
      "  Installing build dependencies ... \u001b[?25ldone\n",
      "\u001b[?25h  Getting requirements to build wheel ... \u001b[?25ldone\n",
      "\u001b[?25h  Preparing metadata (pyproject.toml) ... \u001b[?25ldone\n",
      "\u001b[?25hRequirement already satisfied: matplotlib<4.0.0,>=3.5.1 in /home/yongming/.pyenv/versions/3.8.3/envs/venv/lib/python3.8/site-packages (from apperception==0.1.0) (3.5.1)\n",
      "Requirement already satisfied: PyQt5<6.0.0,>=5.15.6 in /home/yongming/.pyenv/versions/3.8.3/envs/venv/lib/python3.8/site-packages (from apperception==0.1.0) (5.15.6)\n",
      "Requirement already satisfied: numpy<2.0.0,>=1.22.3 in /home/yongming/.pyenv/versions/3.8.3/envs/venv/lib/python3.8/site-packages (from apperception==0.1.0) (1.22.3)\n",
      "Requirement already satisfied: pyquaternion<0.10.0,>=0.9.9 in /home/yongming/.pyenv/versions/3.8.3/envs/venv/lib/python3.8/site-packages (from apperception==0.1.0) (0.9.9)\n",
      "Requirement already satisfied: dill<0.4.0,>=0.3.4 in /home/yongming/.pyenv/versions/3.8.3/envs/venv/lib/python3.8/site-packages (from apperception==0.1.0) (0.3.4)\n",
      "Requirement already satisfied: opencv-python<5.0.0,>=4.5.5 in /home/yongming/.pyenv/versions/3.8.3/envs/venv/lib/python3.8/site-packages (from apperception==0.1.0) (4.5.5.64)\n",
      "Requirement already satisfied: uncompyle6<4.0.0,>=3.8.0 in /home/yongming/.pyenv/versions/3.8.3/envs/venv/lib/python3.8/site-packages (from apperception==0.1.0) (3.8.0)\n",
      "Requirement already satisfied: astpretty<3.0.0,>=2.1.0 in /home/yongming/.pyenv/versions/3.8.3/envs/venv/lib/python3.8/site-packages (from apperception==0.1.0) (2.1.0)\n",
      "Requirement already satisfied: PyYAML<7.0,>=6.0 in /home/yongming/.pyenv/versions/3.8.3/envs/venv/lib/python3.8/site-packages (from apperception==0.1.0) (6.0)\n",
      "Requirement already satisfied: pandas<2.0.0,>=1.4.2 in /home/yongming/.pyenv/versions/3.8.3/envs/venv/lib/python3.8/site-packages (from apperception==0.1.0) (1.4.2)\n",
      "Requirement already satisfied: decompyle3<4.0.0,>=3.8.0 in /home/yongming/.pyenv/versions/3.8.3/envs/venv/lib/python3.8/site-packages (from apperception==0.1.0) (3.8.0)\n",
      "Requirement already satisfied: psycopg2<3.0.0,>=2.9.3 in /home/yongming/.pyenv/versions/3.8.3/envs/venv/lib/python3.8/site-packages (from apperception==0.1.0) (2.9.3)\n",
      "Requirement already satisfied: Pillow<10.0.0,>=9.1.0 in /home/yongming/.pyenv/versions/3.8.3/envs/venv/lib/python3.8/site-packages (from apperception==0.1.0) (9.1.0)\n",
      "Requirement already satisfied: PyPika<0.49.0,>=0.48.9 in /home/yongming/.pyenv/versions/3.8.3/envs/venv/lib/python3.8/site-packages (from apperception==0.1.0) (0.48.9)\n",
      "Requirement already satisfied: torch<2.0.0,>=1.11.0 in /home/yongming/.pyenv/versions/3.8.3/envs/venv/lib/python3.8/site-packages (from apperception==0.1.0) (1.11.0)\n",
      "Requirement already satisfied: xdis<6.1.0,>=6.0.3 in /home/yongming/.pyenv/versions/3.8.3/envs/venv/lib/python3.8/site-packages (from decompyle3<4.0.0,>=3.8.0->apperception==0.1.0) (6.0.3)\n",
      "Requirement already satisfied: spark-parser<1.9.0,>=1.8.9 in /home/yongming/.pyenv/versions/3.8.3/envs/venv/lib/python3.8/site-packages (from decompyle3<4.0.0,>=3.8.0->apperception==0.1.0) (1.8.9)\n",
      "Requirement already satisfied: cycler>=0.10 in /home/yongming/.pyenv/versions/3.8.3/envs/venv/lib/python3.8/site-packages (from matplotlib<4.0.0,>=3.5.1->apperception==0.1.0) (0.11.0)\n",
      "Requirement already satisfied: python-dateutil>=2.7 in /home/yongming/.pyenv/versions/3.8.3/envs/venv/lib/python3.8/site-packages (from matplotlib<4.0.0,>=3.5.1->apperception==0.1.0) (2.8.2)\n",
      "Requirement already satisfied: pyparsing>=2.2.1 in /home/yongming/.pyenv/versions/3.8.3/envs/venv/lib/python3.8/site-packages (from matplotlib<4.0.0,>=3.5.1->apperception==0.1.0) (3.0.8)\n",
      "Requirement already satisfied: fonttools>=4.22.0 in /home/yongming/.pyenv/versions/3.8.3/envs/venv/lib/python3.8/site-packages (from matplotlib<4.0.0,>=3.5.1->apperception==0.1.0) (4.32.0)\n",
      "Requirement already satisfied: packaging>=20.0 in /home/yongming/.pyenv/versions/3.8.3/envs/venv/lib/python3.8/site-packages (from matplotlib<4.0.0,>=3.5.1->apperception==0.1.0) (21.3)\n",
      "Requirement already satisfied: kiwisolver>=1.0.1 in /home/yongming/.pyenv/versions/3.8.3/envs/venv/lib/python3.8/site-packages (from matplotlib<4.0.0,>=3.5.1->apperception==0.1.0) (1.4.2)\n",
      "Requirement already satisfied: pytz>=2020.1 in /home/yongming/.pyenv/versions/3.8.3/envs/venv/lib/python3.8/site-packages (from pandas<2.0.0,>=1.4.2->apperception==0.1.0) (2022.1)\n",
      "Requirement already satisfied: PyQt5-sip<13,>=12.8 in /home/yongming/.pyenv/versions/3.8.3/envs/venv/lib/python3.8/site-packages (from PyQt5<6.0.0,>=5.15.6->apperception==0.1.0) (12.10.1)\n",
      "Requirement already satisfied: PyQt5-Qt5>=5.15.2 in /home/yongming/.pyenv/versions/3.8.3/envs/venv/lib/python3.8/site-packages (from PyQt5<6.0.0,>=5.15.6->apperception==0.1.0) (5.15.2)\n",
      "Requirement already satisfied: typing-extensions in /home/yongming/.pyenv/versions/3.8.3/envs/venv/lib/python3.8/site-packages (from torch<2.0.0,>=1.11.0->apperception==0.1.0) (4.2.0)\n",
      "Requirement already satisfied: six>=1.5 in /home/yongming/.pyenv/versions/3.8.3/envs/venv/lib/python3.8/site-packages (from python-dateutil>=2.7->matplotlib<4.0.0,>=3.5.1->apperception==0.1.0) (1.16.0)\n",
      "Requirement already satisfied: click in /home/yongming/.pyenv/versions/3.8.3/envs/venv/lib/python3.8/site-packages (from spark-parser<1.9.0,>=1.8.9->decompyle3<4.0.0,>=3.8.0->apperception==0.1.0) (8.1.2)\n",
      "Building wheels for collected packages: apperception\n",
      "  Building wheel for apperception (pyproject.toml) ... \u001b[?25ldone\n",
      "\u001b[?25h  Created wheel for apperception: filename=apperception-0.1.0-py3-none-any.whl size=73572 sha256=40ec0dabeacacf27f001096d1d4a2f1f072200e8e75923daa4d7d4c6e92a7032\n",
      "  Stored in directory: /tmp/pip-ephem-wheel-cache-f_x0bnkc/wheels/a4/33/17/59e20ccef806baa1a68832d19de43f0fe8d640854903fd1772\n",
      "Successfully built apperception\n",
      "Installing collected packages: apperception\n",
      "  Attempting uninstall: apperception\n",
      "    Found existing installation: apperception 0.1.0\n",
      "    Uninstalling apperception-0.1.0:\n",
      "      Successfully uninstalled apperception-0.1.0\n",
      "Successfully installed apperception-0.1.0\n",
      "Note: you may need to restart the kernel to use updated packages.\n"
     ]
    }
   ],
   "source": [
    "%cd ../..\n",
    "%pip install .\n",
    "import time\n",
    "# def placeObjs(car, numCars):\n",
    "#     for i in range(numCars):\n",
    "#         car = Car ahead of car by Range(4, 5)\n",
    "#         leftCar = Car left of car by Normal(2, 0.1), facing roadDirection\n",
    "#         rightCar = Car right of car by Normal(3, 0.1), facing Range(0, 10) deg relative to ego.heading\n",
    "#     return leftCar, rightCar\n",
    "\n",
    "# spawn_point = 207.26 @ 8.72\n",
    "# ego = Car at spawn_point, with visible_distance 200\n",
    "\n",
    "# leftCar, rightCar = placeObjs(ego, 2)\n",
    "# require (distance to leftCar) < 200\n",
    "# require (distance to rightCar) < 200"
   ]
  },
  {
   "cell_type": "code",
   "execution_count": 2,
   "id": "31b8fce9-3fd5-4a5f-a27f-f3cc4e177c11",
   "metadata": {},
   "outputs": [
    {
     "data": {
      "text/plain": [
       "'\\nNeed to implement:\\n  SQL function getX(tgeompoints, timestamptz)\\n  SQL function getX(geometry)\\n  SQL function road_direction(tgeompoint, timestamptz)\\n  SQL function road_direction(geometry)\\n  SQL function facingRelative(tfloat, real, timestamptz)\\n  SQL function facingRelative(real, real)\\n  SQL function distance(geometry, tgeompoint, timestamptz)\\n  SQL function distance(geometry, geometry)\\n'"
      ]
     },
     "execution_count": 2,
     "metadata": {},
     "output_type": "execute_result"
    }
   ],
   "source": [
    "\"\"\"\n",
    "with (\n",
    "  select *\n",
    "  from item_traj\n",
    "  where item_traj.object_type = 'car'\n",
    ") as cars\n",
    "\n",
    "select *\n",
    "from cars as t1\n",
    "join cars as t2 on t1.cameraId = t2.cameraId\n",
    "join Cameras as cam on t1.cameraId = Cameras.id\n",
    "where\n",
    "  getX(t1.traj, cam.timestamp) < getX(cam.egoTranslation, cam.timestamp) AND\n",
    "  getX(t2.traj, cam.timestamp) > getX(cam.egoTranslation, cam.timestamp) AND\n",
    "  facingRelative(t1.heading, road_direction(t1.centroid, cam.timestamp), cam.timestamp) = 0 AND\n",
    "  facingRelative(t2.heading, cam.egoHeading, cam.timestamp) >= 0 AND\n",
    "  facingRelative(t2.heading, cam.egoHeading, cam.timestamp) < 10 AND\n",
    "  DISTANCE(cam.egoTranslation, t1.centroid, cam.timestamp) < 200 AND\n",
    "  DISTANCE(cam.egoTranslation, t2.centroid, cam.timestamp) < 200\n",
    "\"\"\"\n",
    "\"\"\"\n",
    "Need to implement:\n",
    "  SQL function getX(tgeompoints, timestamptz)\n",
    "  SQL function getX(geometry)\n",
    "  SQL function road_direction(tgeompoint, timestamptz)\n",
    "  SQL function road_direction(geometry)\n",
    "  SQL function facingRelative(tfloat, real, timestamptz)\n",
    "  SQL function facingRelative(real, real)\n",
    "  SQL function distance(geometry, tgeompoint, timestamptz)\n",
    "  SQL function distance(geometry, geometry)\n",
    "\"\"\""
   ]
  },
  {
   "cell_type": "code",
   "execution_count": 2,
   "id": "322bbd6d",
   "metadata": {},
   "outputs": [],
   "source": [
    "### Prepare the world for queries ###\n",
    "from apperception.new_world import *\n",
    "# directly ingest the mini dataset and boston roadnetwork if needed\n",
    "# from apperception.new_db import database\n",
    "# database.reset()\n",
    "# from benchmarks.ingest_scenic_data import ingest_data\n",
    "# ingest_data()\n",
    "\n",
    "name = 'ScenicWorld' # world name\n",
    "world = empty_world(name=name)\n",
    "\n",
    "# ### Query ###\n",
    "from apperception.utils import F\n",
    "car_world = world.filter(lambda obj: obj.object_type == 'vehicle.car')\n",
    "\n",
    "def pred_1(obj1, obj2, cam):\n",
    "    return (\n",
    "        F.get_x(obj1.traj, cam.timestamp) < F.get_x(cam.ego, cam.timestamp) and\n",
    "        F.get_x(obj2.traj, cam.timestamp) > F.get_x(cam.ego, cam.timestamp)\n",
    "    )\n",
    "world_1 = car_world.filter(pred_1)"
   ]
  },
  {
   "cell_type": "code",
   "execution_count": null,
   "id": "5bba7f9f",
   "metadata": {},
   "outputs": [
    {
     "name": "stdout",
     "output_type": "stream",
     "text": [
      "execute: filter\n",
      "execute: filter\n",
      "execute: get_traj_key\n",
      "get_traj_key \n",
      "        SELECT itemId FROM (\n",
      "        SELECT DISTINCT table_0.*\n",
      "        FROM (\n",
      "        SELECT DISTINCT table_0.*\n",
      "        FROM (SELECT * FROM item_general_trajectory) as table_0\n",
      "        \n",
      "        JOIN Cameras ON Cameras.cameraId = table_0.cameraId\n",
      "        WHERE (table_0.objectType='vehicle.car')\n",
      "        ) as table_0\n",
      "        JOIN (\n",
      "        SELECT DISTINCT table_0.*\n",
      "        FROM (SELECT * FROM item_general_trajectory) as table_0\n",
      "        \n",
      "        JOIN Cameras ON Cameras.cameraId = table_0.cameraId\n",
      "        WHERE (table_0.objectType='vehicle.car')\n",
      "        ) as table_1 ON table_1.cameraId = table_0.cameraId\n",
      "        JOIN Cameras ON Cameras.cameraId = table_0.cameraId\n",
      "        WHERE ((getX(table_0.trajCentroids, Cameras.timestamp)<getX(Cameras.egoTranslation, Cameras.timestamp)) AND (getX(table_1.trajCentroids, Cameras.timestamp)>getX(Cameras.egoTranslation, Cameras.timestamp)))\n",
      "        ) as final\n",
      "        \n"
     ]
    }
   ],
   "source": [
    "start = time.time()\n",
    "\n",
    "key_1 = world_1.get_traj_key()\n",
    "\n",
    "end = time.time()\n",
    "print(format(end-start))"
   ]
  },
  {
   "cell_type": "code",
   "execution_count": null,
   "id": "6e298cf8",
   "metadata": {},
   "outputs": [],
   "source": [
    "def pred_2(obj1, obj2, cam):\n",
    "    return (\n",
    "#         F.facing_relative(obj1, F.road_direction(obj1, cam.timestamp), cam.timestamp) == 0\n",
    "        F.facing_relative(obj2, cam.ego, cam.timestamp) >= 0 and\n",
    "        F.facing_relative(obj2, cam.ego, cam.timestamp) < 10\n",
    "    )\n",
    "world_2 = car_world.filter(pred_2)"
   ]
  },
  {
   "cell_type": "code",
   "execution_count": null,
   "id": "d8a40939",
   "metadata": {},
   "outputs": [],
   "source": [
    "start = time.time()\n",
    "\n",
    "key_2 = world_2.get_traj_key()\n",
    "\n",
    "end = time.time()\n",
    "print(format(end-start))"
   ]
  },
  {
   "cell_type": "code",
   "execution_count": null,
   "id": "0397ddab",
   "metadata": {},
   "outputs": [],
   "source": [
    "def pred_3(obj1, obj2, cam):\n",
    "    return (\n",
    "        F.distance(cam.ego, obj1, cam.timestamp) < 200 and\n",
    "        F.distance(cam.ego, obj2, cam.timestamp) < 200\n",
    "    )\n",
    "world_3 = car_world.filter(pred_3)"
   ]
  },
  {
   "cell_type": "code",
   "execution_count": null,
   "id": "4b16f938",
   "metadata": {},
   "outputs": [],
   "source": [
    "start = time.time()\n",
    "\n",
    "key_3 = world_3.get_traj_key()\n",
    "\n",
    "end = time.time()\n",
    "print(format(end-start))"
   ]
  },
  {
   "cell_type": "code",
   "execution_count": 3,
   "id": "4cabb934",
   "metadata": {},
   "outputs": [
    {
     "name": "stdout",
     "output_type": "stream",
     "text": [
      "execute: filter\n",
      "execute: filter\n",
      "execute: get_traj_key\n",
      "get_traj_key \n",
      "        SELECT itemId FROM (\n",
      "        SELECT DISTINCT table_0.*\n",
      "        FROM (\n",
      "        SELECT DISTINCT table_0.*\n",
      "        FROM (SELECT * FROM item_general_trajectory) as table_0\n",
      "        \n",
      "        JOIN Cameras ON Cameras.cameraId = table_0.cameraId\n",
      "        WHERE (table_0.objectType='vehicle.car')\n",
      "        ) as table_0\n",
      "        JOIN (\n",
      "        SELECT DISTINCT table_0.*\n",
      "        FROM (SELECT * FROM item_general_trajectory) as table_0\n",
      "        \n",
      "        JOIN Cameras ON Cameras.cameraId = table_0.cameraId\n",
      "        WHERE (table_0.objectType='vehicle.car')\n",
      "        ) as table_1 ON table_1.cameraId = table_0.cameraId\n",
      "        JOIN Cameras ON Cameras.cameraId = table_0.cameraId\n",
      "        WHERE ((getX(table_0.trajCentroids, Cameras.timestamp)<getX(Cameras.egoTranslation, Cameras.timestamp)) AND (getX(table_1.trajCentroids, Cameras.timestamp)>getX(Cameras.egoTranslation, Cameras.timestamp)) AND (facingRelative(table_1.itemHeadings, Cameras.egoHeading, Cameras.timestamp)>=0) AND (facingRelative(table_1.itemHeadings, Cameras.egoHeading, Cameras.timestamp)<10) AND (distance(Cameras.egoTranslation, table_0.trajCentroids, Cameras.timestamp)<200) AND (distance(Cameras.egoTranslation, table_1.trajCentroids, Cameras.timestamp)<200))\n",
      "        ) as final\n",
      "        \n",
      "done execute node\n",
      "207.21358013153076\n"
     ]
    }
   ],
   "source": [
    "def pred(obj1, obj2, cam):\n",
    "    return (\n",
    "        F.get_x(obj1.traj, cam.timestamp) < F.get_x(cam.ego, cam.timestamp) and\n",
    "        F.get_x(obj2.traj, cam.timestamp) > F.get_x(cam.ego, cam.timestamp) and\n",
    "#         F.facing_relative(obj1, F.road_direction(obj1, cam.timestamp), cam.timestamp) == 0 and\n",
    "        F.facing_relative(obj2, cam.ego, cam.timestamp) >= 0 and\n",
    "        F.facing_relative(obj2, cam.ego, cam.timestamp) < 10 and\n",
    "        F.distance(cam.ego, obj1, cam.timestamp) < 200 and\n",
    "        F.distance(cam.ego, obj2, cam.timestamp) < 200\n",
    "    )\n",
    "final_world = car_world.filter(pred)\n",
    "start = time.time()\n",
    "final_world.get_traj_key()\n",
    "end = time.time()\n",
    "print(format(end-start))"
   ]
  },
  {
   "cell_type": "code",
   "execution_count": null,
   "id": "7012ef19",
   "metadata": {},
   "outputs": [],
   "source": []
  }
 ],
 "metadata": {
  "kernelspec": {
   "display_name": "Python 3 (ipykernel)",
   "language": "python",
   "name": "python3"
  },
  "language_info": {
   "codemirror_mode": {
    "name": "ipython",
    "version": 3
   },
   "file_extension": ".py",
   "mimetype": "text/x-python",
   "name": "python",
   "nbconvert_exporter": "python",
   "pygments_lexer": "ipython3",
   "version": "3.8.3"
  }
 },
 "nbformat": 4,
 "nbformat_minor": 5
}
