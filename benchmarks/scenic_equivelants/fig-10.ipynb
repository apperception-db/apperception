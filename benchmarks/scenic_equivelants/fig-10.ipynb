{
 "cells": [
  {
   "cell_type": "code",
   "execution_count": null,
   "id": "df1a5b5f-16b0-488b-8e95-98d5da600d09",
   "metadata": {},
   "outputs": [],
   "source": [
    "%cd ../..\n",
    "%pip install .\n",
    "import time\n",
    "# def placeObjs(car, numCars):\n",
    "#     for i in range(numCars):\n",
    "#         car = Car ahead of car by Range(4, 5)\n",
    "#         leftCar = Car left of car by Normal(2, 0.1), facing roadDirection\n",
    "#         rightCar = Car right of car by Normal(3, 0.1), facing Range(0, 10) deg relative to ego.heading\n",
    "#     return leftCar, rightCar\n",
    "\n",
    "# spawn_point = 207.26 @ 8.72\n",
    "# ego = Car at spawn_point, with visible_distance 200\n",
    "\n",
    "# leftCar, rightCar = placeObjs(ego, 2)\n",
    "# require (distance to leftCar) < 200\n",
    "# require (distance to rightCar) < 200"
   ]
  },
  {
   "cell_type": "code",
   "execution_count": null,
   "id": "31b8fce9-3fd5-4a5f-a27f-f3cc4e177c11",
   "metadata": {},
   "outputs": [],
   "source": [
    "\"\"\"\n",
    "with (\n",
    "  select *\n",
    "  from item_traj\n",
    "  where item_traj.object_type = 'car'\n",
    ") as cars\n",
    "\n",
    "select *\n",
    "from cars as t1\n",
    "join cars as t2 on t1.cameraId = t2.cameraId\n",
    "join Cameras as cam on t1.cameraId = Cameras.id\n",
    "where\n",
    "  getX(t1.traj, cam.timestamp) < getX(cam.egoTranslation, cam.timestamp) AND\n",
    "  getX(t2.traj, cam.timestamp) > getX(cam.egoTranslation, cam.timestamp) AND\n",
    "  facingRelative(t1.heading, road_direction(t1.centroid, cam.timestamp), cam.timestamp) = 0 AND\n",
    "  facingRelative(t2.heading, cam.egoHeading, cam.timestamp) >= 0 AND\n",
    "  facingRelative(t2.heading, cam.egoHeading, cam.timestamp) < 10 AND\n",
    "  DISTANCE(cam.egoTranslation, t1.centroid, cam.timestamp) < 200 AND\n",
    "  DISTANCE(cam.egoTranslation, t2.centroid, cam.timestamp) < 200\n",
    "\"\"\"\n",
    "\"\"\"\n",
    "Need to implement:\n",
    "  SQL function getX(tgeompoints, timestamptz)\n",
    "  SQL function getX(geometry)\n",
    "  SQL function road_direction(tgeompoint, timestamptz)\n",
    "  SQL function road_direction(geometry)\n",
    "  SQL function facingRelative(tfloat, real, timestamptz)\n",
    "  SQL function facingRelative(real, real)\n",
    "  SQL function distance(geometry, tgeompoint, timestamptz)\n",
    "  SQL function distance(geometry, geometry)\n",
    "\"\"\""
   ]
  },
  {
   "cell_type": "code",
   "execution_count": null,
   "id": "322bbd6d",
   "metadata": {},
   "outputs": [],
   "source": [
    "### Prepare the world for queries ###\n",
    "from apperception.new_world import *\n",
    "# directly ingest the mini dataset and boston roadnetwork if needed\n",
    "# from apperception.new_db import database\n",
    "# database.reset()\n",
    "# from benchmarks.ingest_scenic_data import ingest_data\n",
    "# ingest_data()\n",
    "\n",
    "name = 'ScenicWorld' # world name\n",
    "world = empty_world(name=name)\n",
    "\n",
    "# ### Query ###\n",
    "from apperception.utils import F\n",
    "car_world = world.filter(lambda obj: obj.object_type == 'vehicle.car')\n",
    "\n",
    "def pred_1(obj1, obj2, cam):\n",
    "    return (\n",
    "        F.get_x(obj1.traj, cam.timestamp) < F.get_x(cam.ego, cam.timestamp) and\n",
    "        F.get_x(obj2.traj, cam.timestamp) > F.get_x(cam.ego, cam.timestamp)\n",
    "    )\n",
    "world_1 = car_world.filter(pred_1)"
   ]
  },
  {
   "cell_type": "code",
   "execution_count": null,
   "id": "5bba7f9f",
   "metadata": {},
   "outputs": [],
   "source": [
    "start = time.time()\n",
    "\n",
    "key_1 = world_1.get_traj_key()\n",
    "\n",
    "end = time.time()\n",
    "print(format(end-start))"
   ]
  },
  {
   "cell_type": "code",
   "execution_count": null,
   "id": "6e298cf8",
   "metadata": {},
   "outputs": [],
   "source": [
    "def pred_2(obj1, obj2, cam):\n",
    "    return (\n",
    "        F.facing_relative(obj1, F.road_direction(obj1, cam.timestamp), cam.timestamp) == 0\n",
    "#         F.facing_relative(obj2, cam.ego, cam.timestamp) >= 0 and\n",
    "#         F.facing_relative(obj2, cam.ego, cam.timestamp) < 10\n",
    "    )\n",
    "world_2 = car_world.filter(pred_2)"
   ]
  },
  {
   "cell_type": "code",
   "execution_count": null,
   "id": "d8a40939",
   "metadata": {},
   "outputs": [],
   "source": [
    "start = time.time()\n",
    "\n",
    "key_2 = world_2.get_traj_key()\n",
    "\n",
    "end = time.time()\n",
    "print(format(end-start))"
   ]
  },
  {
   "cell_type": "code",
   "execution_count": null,
   "id": "0397ddab",
   "metadata": {},
   "outputs": [],
   "source": [
    "def pred_3(obj1, obj2, cam):\n",
    "    return (\n",
    "        F.distance(cam.ego, obj1, cam.timestamp) < 200 and\n",
    "        F.distance(cam.ego, obj2, cam.timestamp) < 200\n",
    "    )\n",
    "world_3 = car_world.filter(pred_3)"
   ]
  },
  {
   "cell_type": "code",
   "execution_count": null,
   "id": "4b16f938",
   "metadata": {},
   "outputs": [],
   "source": [
    "start = time.time()\n",
    "\n",
    "key_3 = world_3.get_traj_key()\n",
    "\n",
    "end = time.time()\n",
    "print(format(end-start))"
   ]
  },
  {
   "cell_type": "code",
   "execution_count": null,
   "id": "4cabb934",
   "metadata": {},
   "outputs": [],
   "source": [
    "def pred(obj1, obj2, cam):\n",
    "    return (\n",
    "        F.get_x(obj1.traj, cam.timestamp) < F.get_x(cam.ego, cam.timestamp) and\n",
    "        F.get_x(obj2.traj, cam.timestamp) > F.get_x(cam.ego, cam.timestamp) and\n",
    "        F.facing_relative(obj1, F.road_direction(obj1, cam.timestamp), cam.timestamp) == 0 and\n",
    "        F.facing_relative(obj2, cam.ego, cam.timestamp) >= 0 and\n",
    "        F.facing_relative(obj2, cam.ego, cam.timestamp) < 10 and\n",
    "        F.distance(cam.ego, obj1, cam.timestamp) < 200 and\n",
    "        F.distance(cam.ego, obj2, cam.timestamp) < 200\n",
    "    )\n",
    "final_world = car_world.filter(pred)\n",
    "final_world.get_traj_key"
   ]
  }
 ],
 "metadata": {
  "kernelspec": {
   "display_name": "Python 3 (ipykernel)",
   "language": "python",
   "name": "python3"
  },
  "language_info": {
   "codemirror_mode": {
    "name": "ipython",
    "version": 3
   },
   "file_extension": ".py",
   "mimetype": "text/x-python",
   "name": "python",
   "nbconvert_exporter": "python",
   "pygments_lexer": "ipython3",
   "version": "3.8.3"
  }
 },
 "nbformat": 4,
 "nbformat_minor": 5
}
