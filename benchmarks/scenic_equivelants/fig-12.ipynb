{
 "cells": [
  {
   "cell_type": "code",
   "execution_count": 1,
   "id": "5e564f2b-e214-4d07-bade-bf55c8190b6b",
   "metadata": {},
   "outputs": [
    {
     "name": "stdout",
     "output_type": "stream",
     "text": [
      "/home/eecs/chanwutk/Documents/apperception\n"
     ]
    }
   ],
   "source": [
    "%cd ../..\n",
    "# %pip install .\n",
    "import time\n",
    "from os import environ\n",
    "# ego = Car on drivableRoad,\n",
    "#         facing Range(-15, 15) deg relative to roadDirection,\n",
    "#         with visibleDistance 50, \n",
    "#         with viewAngle 135 deg\n",
    "# ped = Pedestrian on roadsOrIntersections,\n",
    "#         with regionContainedIn roadRegion,\n",
    "#         facing Range(-180, 180) deg\n",
    "\n",
    "# require abs(relative heading of ped from ego) > 70 deg"
   ]
  },
  {
   "cell_type": "code",
   "execution_count": 2,
   "id": "90a9d504-225b-4e92-bd7d-c49e70caa983",
   "metadata": {},
   "outputs": [],
   "source": [
    "if \"AP_PORT\" not in environ:\n",
    "    environ[\"AP_PORT\"] = str(input('port'))\n",
    "# README command uses port=25432"
   ]
  },
  {
   "cell_type": "code",
   "execution_count": 3,
   "id": "5efbe6fd",
   "metadata": {},
   "outputs": [
    {
     "data": {
      "text/plain": [
       "<connection object at 0x7f3c9aa677c0; dsn: 'user=docker password=xxx dbname=mobilitydb host=localhost port=25442', closed: 0>"
      ]
     },
     "execution_count": 3,
     "metadata": {},
     "output_type": "execute_result"
    }
   ],
   "source": [
    "from apperception.world import empty_world\n",
    "from apperception.database import database\n",
    "from apperception.utils import F\n",
    "from apperception.predicate import objects, camera, lit\n",
    "database.connection"
   ]
  },
  {
   "cell_type": "code",
   "execution_count": 4,
   "id": "a5b38598",
   "metadata": {
    "tags": []
   },
   "outputs": [
    {
     "name": "stdout",
     "output_type": "stream",
     "text": [
      "execute: filter\n",
      "execute: get_id_time_camId_filename\n",
      "get_id_time_camId_filename \n",
      "        SELECT t0.itemId, cameras.timestamp, cameras.cameraId, cameras.filename\n",
      "        FROM (SELECT * FROM item_general_trajectory) as t0\n",
      "        \n",
      "        JOIN Cameras USING (cameraId)\n",
      "        WHERE (t0.objectType LIKE 'human.pedestrian%' AND contained(egoTranslation,roadSegment('road')) AND (containedMargin(objectBBox(t0.itemId, timestamp),roadSegment('road'),0.5) OR contained(valueAtTimestamp(t0.translations,timestamp),roadSegment('road'))) AND angleExcluding(facingRelative((valueAtTimestamp(t0.itemHeadings,timestamp))::real, egoHeading),-70,70) AND angleBetween(facingRelative(egoHeading, roadDirection(egoTranslation,egoHeading)),-15,15) AND (distance(cameraTranslationAbs,valueAtTimestamp(t0.trajCentroids,timestamp))<50) AND (viewAngle(valueAtTimestamp(t0.translations,timestamp),cameraHeading,cameraTranslation)<35))\n",
      "        \n",
      "done execute node\n",
      "Result length: 83\n",
      "10.204400539398193\n"
     ]
    }
   ],
   "source": [
    "name = 'ScenicWorld' # world name\n",
    "world = empty_world(name=name)\n",
    "\n",
    "o = objects[0]\n",
    "c = camera\n",
    "world = world.filter(\n",
    "    F.like(o.type, lit('human.pedestrian%')) &\n",
    "    F.contained(c.ego, F.road_segment('road')) &\n",
    "    (F.contained_margin(o.bbox@c.time, F.road_segment('road'), lit(0.50)) | F.contained(o.trans@c.time, F.road_segment('road'))) &\n",
    "    F.angle_excluding(F.facing_relative(o.traj@c.time, c.ego), lit(-70), lit(70)) &\n",
    "    F.angle_between(F.facing_relative(c.ego, F.road_direction(c.ego, c.ego)), lit(-15), lit(15)) &\n",
    "    (F.distance(c.camAbs, o.traj@c.time) < lit(50)) &\n",
    "    (F.view_angle(o.trans@c.time, c.cam) < lit(35))\n",
    ")\n",
    "\n",
    "start = time.time()\n",
    "# keys = world.get_traj_key()\n",
    "id_time_camId_filename = world.get_id_time_camId_filename(num_joined_tables=1)\n",
    "\n",
    "end = time.time()\n",
    "print(format(end-start))"
   ]
  },
  {
   "cell_type": "code",
   "execution_count": 5,
   "id": "36cdfb3a",
   "metadata": {},
   "outputs": [],
   "source": [
    "resultImages = dict() # maping from image -> (itemId, timestamp, camId) that it was found at\n",
    "for result in id_time_camId_filename:\n",
    "    itemId, timestamp, camId, filename = result\n",
    "    filename = filename.split(\"/\")[-1] # use split so that prefix path is not included in filename\n",
    "    resultImages[filename] = (itemId, timestamp, camId)"
   ]
  },
  {
   "cell_type": "code",
   "execution_count": 6,
   "id": "0f8a64ad-189b-40cd-8e65-fd973b05a818",
   "metadata": {},
   "outputs": [],
   "source": [
    "from matplotlib import pyplot as plt\n",
    "import matplotlib.image as mpimg\n",
    "%matplotlib inline\n",
    "import os\n",
    "import random\n",
    "\n",
    "experiment_data_dir =  \"data/nuscenes/experiment_data\"\n",
    "# experiment_data_dir = '/work/apperception/data/nuScenes/full-dataset-v1.0/Trainval/experiment_data'\n",
    "def show_images(images, sample=None):\n",
    "    if sample is not None:\n",
    "        images = [i for i in images]\n",
    "        random.shuffle(images)\n",
    "        images = images[:sample]\n",
    "    \n",
    "    plt.figure(figsize=(60,30))\n",
    "    columns = 3\n",
    "\n",
    "    for i, image in enumerate(images):\n",
    "        print(\"image\", image)\n",
    "        img = mpimg.imread(os.path.join(experiment_data_dir, image))\n",
    "        print(\"loaded\")\n",
    "        plt.subplot(len(images) // columns + 1, columns, i + 1)\n",
    "        plt.imshow(img)"
   ]
  },
  {
   "cell_type": "code",
   "execution_count": 7,
   "id": "9c6eae8c-f909-4a93-a25d-c875fec61b1b",
   "metadata": {},
   "outputs": [],
   "source": [
    "# show_images(list(resultImages.keys()), sample=10)"
   ]
  },
  {
   "cell_type": "code",
   "execution_count": 8,
   "id": "6e03f1c3",
   "metadata": {},
   "outputs": [],
   "source": [
    "expected_imgs = [\n",
    "    'n008-2018-05-21-11-06-59-0400__CAM_FRONT__1526915471412465.jpg',\n",
    "    'n008-2018-07-27-12-07-38-0400__CAM_FRONT__1532707917112404.jpg',\n",
    "    'n008-2018-08-27-11-48-51-0400__CAM_FRONT__1535385153162404.jpg',\n",
    "    'n008-2018-08-27-11-48-51-0400__CAM_FRONT__1535385153662404.jpg',\n",
    "    'n008-2018-08-27-11-48-51-0400__CAM_FRONT__1535385154162404.jpg',\n",
    "    'n008-2018-08-27-11-48-51-0400__CAM_FRONT__1535385154662404.jpg',\n",
    "    'n008-2018-08-27-11-48-51-0400__CAM_FRONT__1535385155162404.jpg',\n",
    "    'n008-2018-08-27-11-48-51-0400__CAM_FRONT__1535385158662404.jpg',\n",
    "    'n008-2018-08-27-11-48-51-0400__CAM_FRONT__1535385159162404.jpg',\n",
    "    'n008-2018-08-27-11-48-51-0400__CAM_FRONT__1535385159662404.jpg',\n",
    "    'n008-2018-08-30-15-16-55-0400__CAM_FRONT__1535656805162404.jpg',\n",
    "    'n008-2018-08-30-15-16-55-0400__CAM_FRONT__1535656805662415.jpg',\n",
    "    'n008-2018-08-30-15-16-55-0400__CAM_FRONT__1535656806162404.jpg',\n",
    "    'n008-2018-08-30-15-16-55-0400__CAM_FRONT__1535656806612404.jpg',\n",
    "    'n008-2018-08-30-15-16-55-0400__CAM_FRONT__1535656807162404.jpg',\n",
    "    'n008-2018-08-30-15-16-55-0400__CAM_FRONT__1535656807662404.jpg',\n",
    "    'n008-2018-08-30-15-16-55-0400__CAM_FRONT__1535656808162404.jpg',\n",
    "    'n008-2018-08-30-15-52-26-0400__CAM_FRONT__1535659404362404.jpg',\n",
    "    'n008-2018-08-30-15-52-26-0400__CAM_FRONT__1535659404762404.jpg',\n",
    "    'n008-2018-08-30-15-52-26-0400__CAM_FRONT__1535659405262404.jpg',\n",
    "    'n008-2018-08-30-15-52-26-0400__CAM_FRONT__1535659405762404.jpg',\n",
    "    'n008-2018-08-30-15-52-26-0400__CAM_FRONT__1535659406262404.jpg',\n",
    "    'n008-2018-08-31-11-19-57-0400__CAM_FRONT__1535728830362404.jpg',\n",
    "    'n008-2018-08-31-11-19-57-0400__CAM_FRONT__1535729326412404.jpg',\n",
    "    'n008-2018-08-31-11-19-57-0400__CAM_FRONT__1535729326912404.jpg',\n",
    "    'n008-2018-08-31-11-19-57-0400__CAM_FRONT__1535729327412404.jpg',\n",
    "    'n008-2018-08-31-11-19-57-0400__CAM_FRONT__1535729327912404.jpg',\n",
    "    'n008-2018-08-31-11-19-57-0400__CAM_FRONT__1535729328412404.jpg',\n",
    "    'n008-2018-08-31-11-19-57-0400__CAM_FRONT__1535729328912404.jpg',\n",
    "    'n008-2018-08-31-11-19-57-0400__CAM_FRONT__1535729329412404.jpg',\n",
    "    'n008-2018-08-31-11-19-57-0400__CAM_FRONT__1535729329912795.jpg',\n",
    "    'n008-2018-08-31-11-19-57-0400__CAM_FRONT__1535729330362404.jpg',\n",
    "    'n008-2018-08-31-11-37-23-0400__CAM_FRONT__1535730293412404.jpg',\n",
    "    'n008-2018-08-31-11-56-46-0400__CAM_FRONT__1535731236162404.jpg',\n",
    "    'n008-2018-08-31-11-56-46-0400__CAM_FRONT__1535731236662404.jpg',\n",
    "    'n008-2018-08-31-11-56-46-0400__CAM_FRONT__1535731237112404.jpg',\n",
    "    'n008-2018-08-31-11-56-46-0400__CAM_FRONT__1535731237612404.jpg',\n",
    "    'n008-2018-09-18-13-41-50-0400__CAM_FRONT__1537293291162404.jpg',\n",
    "    'n008-2018-09-18-13-41-50-0400__CAM_FRONT__1537293291662404.jpg',\n",
    "    'n008-2018-09-18-13-41-50-0400__CAM_FRONT__1537293292162404.jpg',\n",
    "    'n008-2018-09-18-13-41-50-0400__CAM_FRONT__1537293292662404.jpg',\n",
    "    'n008-2018-09-18-13-41-50-0400__CAM_FRONT__1537293293162404.jpg',\n",
    "    'n008-2018-09-18-13-41-50-0400__CAM_FRONT__1537293293662404.jpg',\n",
    "    'n008-2018-09-18-15-26-58-0400__CAM_FRONT__1537299143862404.jpg',\n",
    "    'n008-2018-09-18-15-26-58-0400__CAM_FRONT__1537299144362404.jpg',\n",
    "    'n008-2018-09-18-15-26-58-0400__CAM_FRONT__1537299144862404.jpg',\n",
    "    'n008-2018-09-18-15-26-58-0400__CAM_FRONT__1537299145362404.jpg',\n",
    "    'n008-2018-09-18-15-26-58-0400__CAM_FRONT__1537299145862404.jpg',\n",
    "    'n008-2018-09-18-15-26-58-0400__CAM_FRONT__1537299146362404.jpg',\n",
    "    'n008-2018-09-18-15-26-58-0400__CAM_FRONT__1537299146862404.jpg',\n",
    "    'n008-2018-09-18-15-26-58-0400__CAM_FRONT__1537299147362404.jpg',\n",
    "    'n008-2018-09-18-15-26-58-0400__CAM_FRONT__1537299147862404.jpg',\n",
    "    'n008-2018-09-18-15-26-58-0400__CAM_FRONT__1537299148362404.jpg',\n",
    "    'n008-2018-09-18-15-26-58-0400__CAM_FRONT__1537299148862404.jpg',\n",
    "    'n008-2018-09-18-15-26-58-0400__CAM_FRONT__1537299149412404.jpg',\n",
    "    'n008-2018-09-18-15-26-58-0400__CAM_FRONT__1537299229362404.jpg',\n",
    "    'n008-2018-09-18-15-26-58-0400__CAM_FRONT__1537299239112404.jpg',\n",
    "    'n008-2018-09-18-15-26-58-0400__CAM_FRONT__1537299240112404.jpg',\n",
    "]"
   ]
  },
  {
   "cell_type": "code",
   "execution_count": 9,
   "id": "b75b0d99-492d-4015-b2ad-0b04c37b30d0",
   "metadata": {},
   "outputs": [],
   "source": [
    "# show_images(expected_imgs, sample=10)"
   ]
  },
  {
   "cell_type": "code",
   "execution_count": 10,
   "id": "fee5fd3c",
   "metadata": {},
   "outputs": [
    {
     "name": "stdout",
     "output_type": "stream",
     "text": [
      "Percentage of expected results missing from query:  42 / 58 = 72.41379310344827 %\n",
      "image n008-2018-08-31-11-19-57-0400__CAM_FRONT__1535729328412404.jpg\n"
     ]
    },
    {
     "ename": "FileNotFoundError",
     "evalue": "[Errno 2] No such file or directory: 'data/nuscenes/experiment_data/n008-2018-08-31-11-19-57-0400__CAM_FRONT__1535729328412404.jpg'",
     "output_type": "error",
     "traceback": [
      "\u001b[0;31m---------------------------------------------------------------------------\u001b[0m",
      "\u001b[0;31mFileNotFoundError\u001b[0m                         Traceback (most recent call last)",
      "Input \u001b[0;32mIn [10]\u001b[0m, in \u001b[0;36m<cell line: 8>\u001b[0;34m()\u001b[0m\n\u001b[1;32m      6\u001b[0m         missing_images\u001b[38;5;241m.\u001b[39mappend(expected_img)\n\u001b[1;32m      7\u001b[0m \u001b[38;5;28mprint\u001b[39m(\u001b[38;5;124m\"\u001b[39m\u001b[38;5;124mPercentage of expected results missing from query: \u001b[39m\u001b[38;5;124m\"\u001b[39m, missing, \u001b[38;5;124m\"\u001b[39m\u001b[38;5;124m/\u001b[39m\u001b[38;5;124m\"\u001b[39m, \u001b[38;5;28mlen\u001b[39m(expected_imgs), \u001b[38;5;124m\"\u001b[39m\u001b[38;5;124m=\u001b[39m\u001b[38;5;124m\"\u001b[39m, \u001b[38;5;241m100\u001b[39m \u001b[38;5;241m*\u001b[39m missing \u001b[38;5;241m/\u001b[39m \u001b[38;5;28mlen\u001b[39m(expected_imgs), \u001b[38;5;124m\"\u001b[39m\u001b[38;5;124m%\u001b[39m\u001b[38;5;124m\"\u001b[39m)\n\u001b[0;32m----> 8\u001b[0m \u001b[43mshow_images\u001b[49m\u001b[43m(\u001b[49m\u001b[43mmissing_images\u001b[49m\u001b[43m,\u001b[49m\u001b[43m \u001b[49m\u001b[43msample\u001b[49m\u001b[38;5;241;43m=\u001b[39;49m\u001b[38;5;241;43m10\u001b[39;49m\u001b[43m)\u001b[49m\n",
      "Input \u001b[0;32mIn [6]\u001b[0m, in \u001b[0;36mshow_images\u001b[0;34m(images, sample)\u001b[0m\n\u001b[1;32m     18\u001b[0m \u001b[38;5;28;01mfor\u001b[39;00m i, image \u001b[38;5;129;01min\u001b[39;00m \u001b[38;5;28menumerate\u001b[39m(images):\n\u001b[1;32m     19\u001b[0m     \u001b[38;5;28mprint\u001b[39m(\u001b[38;5;124m\"\u001b[39m\u001b[38;5;124mimage\u001b[39m\u001b[38;5;124m\"\u001b[39m, image)\n\u001b[0;32m---> 20\u001b[0m     img \u001b[38;5;241m=\u001b[39m \u001b[43mmpimg\u001b[49m\u001b[38;5;241;43m.\u001b[39;49m\u001b[43mimread\u001b[49m\u001b[43m(\u001b[49m\u001b[43mos\u001b[49m\u001b[38;5;241;43m.\u001b[39;49m\u001b[43mpath\u001b[49m\u001b[38;5;241;43m.\u001b[39;49m\u001b[43mjoin\u001b[49m\u001b[43m(\u001b[49m\u001b[43mexperiment_data_dir\u001b[49m\u001b[43m,\u001b[49m\u001b[43m \u001b[49m\u001b[43mimage\u001b[49m\u001b[43m)\u001b[49m\u001b[43m)\u001b[49m\n\u001b[1;32m     21\u001b[0m     \u001b[38;5;28mprint\u001b[39m(\u001b[38;5;124m\"\u001b[39m\u001b[38;5;124mloaded\u001b[39m\u001b[38;5;124m\"\u001b[39m)\n\u001b[1;32m     22\u001b[0m     plt\u001b[38;5;241m.\u001b[39msubplot(\u001b[38;5;28mlen\u001b[39m(images) \u001b[38;5;241m/\u001b[39m\u001b[38;5;241m/\u001b[39m columns \u001b[38;5;241m+\u001b[39m \u001b[38;5;241m1\u001b[39m, columns, i \u001b[38;5;241m+\u001b[39m \u001b[38;5;241m1\u001b[39m)\n",
      "File \u001b[0;32m~/Documents/apperception/.venv/lib/python3.8/site-packages/matplotlib/image.py:1560\u001b[0m, in \u001b[0;36mimread\u001b[0;34m(fname, format)\u001b[0m\n\u001b[1;32m   1558\u001b[0m                 response \u001b[38;5;241m=\u001b[39m io\u001b[38;5;241m.\u001b[39mBytesIO(response\u001b[38;5;241m.\u001b[39mread())\n\u001b[1;32m   1559\u001b[0m             \u001b[38;5;28;01mreturn\u001b[39;00m imread(response, \u001b[38;5;28mformat\u001b[39m\u001b[38;5;241m=\u001b[39mext)\n\u001b[0;32m-> 1560\u001b[0m \u001b[38;5;28;01mwith\u001b[39;00m \u001b[43mimg_open\u001b[49m\u001b[43m(\u001b[49m\u001b[43mfname\u001b[49m\u001b[43m)\u001b[49m \u001b[38;5;28;01mas\u001b[39;00m image:\n\u001b[1;32m   1561\u001b[0m     \u001b[38;5;28;01mreturn\u001b[39;00m (_pil_png_to_float_array(image)\n\u001b[1;32m   1562\u001b[0m             \u001b[38;5;28;01mif\u001b[39;00m \u001b[38;5;28misinstance\u001b[39m(image, PIL\u001b[38;5;241m.\u001b[39mPngImagePlugin\u001b[38;5;241m.\u001b[39mPngImageFile) \u001b[38;5;28;01melse\u001b[39;00m\n\u001b[1;32m   1563\u001b[0m             pil_to_array(image))\n",
      "File \u001b[0;32m~/Documents/apperception/.venv/lib/python3.8/site-packages/PIL/Image.py:3068\u001b[0m, in \u001b[0;36mopen\u001b[0;34m(fp, mode, formats)\u001b[0m\n\u001b[1;32m   3065\u001b[0m     filename \u001b[38;5;241m=\u001b[39m fp\n\u001b[1;32m   3067\u001b[0m \u001b[38;5;28;01mif\u001b[39;00m filename:\n\u001b[0;32m-> 3068\u001b[0m     fp \u001b[38;5;241m=\u001b[39m \u001b[43mbuiltins\u001b[49m\u001b[38;5;241;43m.\u001b[39;49m\u001b[43mopen\u001b[49m\u001b[43m(\u001b[49m\u001b[43mfilename\u001b[49m\u001b[43m,\u001b[49m\u001b[43m \u001b[49m\u001b[38;5;124;43m\"\u001b[39;49m\u001b[38;5;124;43mrb\u001b[39;49m\u001b[38;5;124;43m\"\u001b[39;49m\u001b[43m)\u001b[49m\n\u001b[1;32m   3069\u001b[0m     exclusive_fp \u001b[38;5;241m=\u001b[39m \u001b[38;5;28;01mTrue\u001b[39;00m\n\u001b[1;32m   3071\u001b[0m \u001b[38;5;28;01mtry\u001b[39;00m:\n",
      "\u001b[0;31mFileNotFoundError\u001b[0m: [Errno 2] No such file or directory: 'data/nuscenes/experiment_data/n008-2018-08-31-11-19-57-0400__CAM_FRONT__1535729328412404.jpg'"
     ]
    },
    {
     "data": {
      "text/plain": [
       "<Figure size 4320x2160 with 0 Axes>"
      ]
     },
     "metadata": {},
     "output_type": "display_data"
    }
   ],
   "source": [
    "missing = 0\n",
    "missing_images = []\n",
    "for expected_img in expected_imgs:\n",
    "    if expected_img not in resultImages.keys():\n",
    "        missing += 1\n",
    "        missing_images.append(expected_img)\n",
    "print(\"Percentage of expected results missing from query: \", missing, \"/\", len(expected_imgs), \"=\", 100 * missing / len(expected_imgs), \"%\")\n",
    "show_images(missing_images, sample=10)"
   ]
  },
  {
   "cell_type": "code",
   "execution_count": 11,
   "id": "104623e9-7c09-4ff1-945c-53b11c7b8bf1",
   "metadata": {},
   "outputs": [
    {
     "name": "stdout",
     "output_type": "stream",
     "text": [
      "Percentage of images in query but not in expected results:  33 / 49 = 67.34693877551021 %\n",
      "image n008-2018-09-18-13-41-50-0400__CAM_FRONT__1537292946912404.jpg\n"
     ]
    },
    {
     "ename": "FileNotFoundError",
     "evalue": "[Errno 2] No such file or directory: 'data/nuscenes/experiment_data/n008-2018-09-18-13-41-50-0400__CAM_FRONT__1537292946912404.jpg'",
     "output_type": "error",
     "traceback": [
      "\u001b[0;31m---------------------------------------------------------------------------\u001b[0m",
      "\u001b[0;31mFileNotFoundError\u001b[0m                         Traceback (most recent call last)",
      "Input \u001b[0;32mIn [11]\u001b[0m, in \u001b[0;36m<cell line: 8>\u001b[0;34m()\u001b[0m\n\u001b[1;32m      6\u001b[0m         extra_images[img] \u001b[38;5;241m=\u001b[39m resultImages[img]\n\u001b[1;32m      7\u001b[0m \u001b[38;5;28mprint\u001b[39m(\u001b[38;5;124m\"\u001b[39m\u001b[38;5;124mPercentage of images in query but not in expected results: \u001b[39m\u001b[38;5;124m\"\u001b[39m, extra, \u001b[38;5;124m\"\u001b[39m\u001b[38;5;124m/\u001b[39m\u001b[38;5;124m\"\u001b[39m, \u001b[38;5;28mlen\u001b[39m(resultImages\u001b[38;5;241m.\u001b[39mkeys()), \u001b[38;5;124m\"\u001b[39m\u001b[38;5;124m=\u001b[39m\u001b[38;5;124m\"\u001b[39m, \u001b[38;5;241m100\u001b[39m \u001b[38;5;241m*\u001b[39m extra \u001b[38;5;241m/\u001b[39m \u001b[38;5;28mlen\u001b[39m(resultImages\u001b[38;5;241m.\u001b[39mkeys()), \u001b[38;5;124m\"\u001b[39m\u001b[38;5;124m%\u001b[39m\u001b[38;5;124m\"\u001b[39m)\n\u001b[0;32m----> 8\u001b[0m \u001b[43mshow_images\u001b[49m\u001b[43m(\u001b[49m\u001b[43mextra_images\u001b[49m\u001b[38;5;241;43m.\u001b[39;49m\u001b[43mkeys\u001b[49m\u001b[43m(\u001b[49m\u001b[43m)\u001b[49m\u001b[43m,\u001b[49m\u001b[43m \u001b[49m\u001b[43msample\u001b[49m\u001b[38;5;241;43m=\u001b[39;49m\u001b[38;5;241;43m10\u001b[39;49m\u001b[43m)\u001b[49m\n",
      "Input \u001b[0;32mIn [6]\u001b[0m, in \u001b[0;36mshow_images\u001b[0;34m(images, sample)\u001b[0m\n\u001b[1;32m     18\u001b[0m \u001b[38;5;28;01mfor\u001b[39;00m i, image \u001b[38;5;129;01min\u001b[39;00m \u001b[38;5;28menumerate\u001b[39m(images):\n\u001b[1;32m     19\u001b[0m     \u001b[38;5;28mprint\u001b[39m(\u001b[38;5;124m\"\u001b[39m\u001b[38;5;124mimage\u001b[39m\u001b[38;5;124m\"\u001b[39m, image)\n\u001b[0;32m---> 20\u001b[0m     img \u001b[38;5;241m=\u001b[39m \u001b[43mmpimg\u001b[49m\u001b[38;5;241;43m.\u001b[39;49m\u001b[43mimread\u001b[49m\u001b[43m(\u001b[49m\u001b[43mos\u001b[49m\u001b[38;5;241;43m.\u001b[39;49m\u001b[43mpath\u001b[49m\u001b[38;5;241;43m.\u001b[39;49m\u001b[43mjoin\u001b[49m\u001b[43m(\u001b[49m\u001b[43mexperiment_data_dir\u001b[49m\u001b[43m,\u001b[49m\u001b[43m \u001b[49m\u001b[43mimage\u001b[49m\u001b[43m)\u001b[49m\u001b[43m)\u001b[49m\n\u001b[1;32m     21\u001b[0m     \u001b[38;5;28mprint\u001b[39m(\u001b[38;5;124m\"\u001b[39m\u001b[38;5;124mloaded\u001b[39m\u001b[38;5;124m\"\u001b[39m)\n\u001b[1;32m     22\u001b[0m     plt\u001b[38;5;241m.\u001b[39msubplot(\u001b[38;5;28mlen\u001b[39m(images) \u001b[38;5;241m/\u001b[39m\u001b[38;5;241m/\u001b[39m columns \u001b[38;5;241m+\u001b[39m \u001b[38;5;241m1\u001b[39m, columns, i \u001b[38;5;241m+\u001b[39m \u001b[38;5;241m1\u001b[39m)\n",
      "File \u001b[0;32m~/Documents/apperception/.venv/lib/python3.8/site-packages/matplotlib/image.py:1560\u001b[0m, in \u001b[0;36mimread\u001b[0;34m(fname, format)\u001b[0m\n\u001b[1;32m   1558\u001b[0m                 response \u001b[38;5;241m=\u001b[39m io\u001b[38;5;241m.\u001b[39mBytesIO(response\u001b[38;5;241m.\u001b[39mread())\n\u001b[1;32m   1559\u001b[0m             \u001b[38;5;28;01mreturn\u001b[39;00m imread(response, \u001b[38;5;28mformat\u001b[39m\u001b[38;5;241m=\u001b[39mext)\n\u001b[0;32m-> 1560\u001b[0m \u001b[38;5;28;01mwith\u001b[39;00m \u001b[43mimg_open\u001b[49m\u001b[43m(\u001b[49m\u001b[43mfname\u001b[49m\u001b[43m)\u001b[49m \u001b[38;5;28;01mas\u001b[39;00m image:\n\u001b[1;32m   1561\u001b[0m     \u001b[38;5;28;01mreturn\u001b[39;00m (_pil_png_to_float_array(image)\n\u001b[1;32m   1562\u001b[0m             \u001b[38;5;28;01mif\u001b[39;00m \u001b[38;5;28misinstance\u001b[39m(image, PIL\u001b[38;5;241m.\u001b[39mPngImagePlugin\u001b[38;5;241m.\u001b[39mPngImageFile) \u001b[38;5;28;01melse\u001b[39;00m\n\u001b[1;32m   1563\u001b[0m             pil_to_array(image))\n",
      "File \u001b[0;32m~/Documents/apperception/.venv/lib/python3.8/site-packages/PIL/Image.py:3068\u001b[0m, in \u001b[0;36mopen\u001b[0;34m(fp, mode, formats)\u001b[0m\n\u001b[1;32m   3065\u001b[0m     filename \u001b[38;5;241m=\u001b[39m fp\n\u001b[1;32m   3067\u001b[0m \u001b[38;5;28;01mif\u001b[39;00m filename:\n\u001b[0;32m-> 3068\u001b[0m     fp \u001b[38;5;241m=\u001b[39m \u001b[43mbuiltins\u001b[49m\u001b[38;5;241;43m.\u001b[39;49m\u001b[43mopen\u001b[49m\u001b[43m(\u001b[49m\u001b[43mfilename\u001b[49m\u001b[43m,\u001b[49m\u001b[43m \u001b[49m\u001b[38;5;124;43m\"\u001b[39;49m\u001b[38;5;124;43mrb\u001b[39;49m\u001b[38;5;124;43m\"\u001b[39;49m\u001b[43m)\u001b[49m\n\u001b[1;32m   3069\u001b[0m     exclusive_fp \u001b[38;5;241m=\u001b[39m \u001b[38;5;28;01mTrue\u001b[39;00m\n\u001b[1;32m   3071\u001b[0m \u001b[38;5;28;01mtry\u001b[39;00m:\n",
      "\u001b[0;31mFileNotFoundError\u001b[0m: [Errno 2] No such file or directory: 'data/nuscenes/experiment_data/n008-2018-09-18-13-41-50-0400__CAM_FRONT__1537292946912404.jpg'"
     ]
    },
    {
     "data": {
      "text/plain": [
       "<Figure size 4320x2160 with 0 Axes>"
      ]
     },
     "metadata": {},
     "output_type": "display_data"
    }
   ],
   "source": [
    "extra = 0\n",
    "extra_images = {}\n",
    "for img in resultImages.keys():\n",
    "    if img not in expected_imgs:\n",
    "        extra += 1\n",
    "        extra_images[img] = resultImages[img]\n",
    "print(\"Percentage of images in query but not in expected results: \", extra, \"/\", len(resultImages.keys()), \"=\", 100 * extra / len(resultImages.keys()), \"%\")\n",
    "show_images(extra_images.keys(), sample=10)"
   ]
  },
  {
   "cell_type": "code",
   "execution_count": 12,
   "id": "9a00375f",
   "metadata": {},
   "outputs": [],
   "source": [
    "######## Getting info about tthe extra images ########"
   ]
  },
  {
   "cell_type": "code",
   "execution_count": 13,
   "id": "81fbbd79",
   "metadata": {},
   "outputs": [
    {
     "ename": "UndefinedFunction",
     "evalue": "function getx(tgeompoint, timestamp with time zone) does not exist\nLINE 1: ...raTranslationAbs), 'Pedestrian: ',table_0.itemId, getX(table...\n                                                             ^\nHINT:  No function matches the given name and argument types. You might need to add explicit type casts.\n",
     "output_type": "error",
     "traceback": [
      "\u001b[0;31m---------------------------------------------------------------------------\u001b[0m",
      "\u001b[0;31mUndefinedFunction\u001b[0m                         Traceback (most recent call last)",
      "Input \u001b[0;32mIn [13]\u001b[0m, in \u001b[0;36m<cell line: 2>\u001b[0;34m()\u001b[0m\n\u001b[1;32m      4\u001b[0m prefix \u001b[38;5;241m=\u001b[39m \u001b[38;5;124m\"\u001b[39m\u001b[38;5;124msamples/CAM_FRONT/\u001b[39m\u001b[38;5;124m\"\u001b[39m\n\u001b[1;32m      5\u001b[0m query \u001b[38;5;241m=\u001b[39m \u001b[38;5;124mf\u001b[39m\u001b[38;5;124m\"\u001b[39m\u001b[38;5;124mSELECT viewAngle(table_0.translations, Cameras.cameraHeading, Cameras.cameraTranslationAbs, Cameras.timestamp), \u001b[39m\u001b[38;5;130;01m\\'\u001b[39;00m\u001b[38;5;124mCameras: \u001b[39m\u001b[38;5;130;01m\\'\u001b[39;00m\u001b[38;5;124m, Cameras.filename, roadDirection(Cameras.egoTranslation, Cameras.timestamp, Cameras.egoHeading), Cameras.egoHeading, \u001b[39m\u001b[38;5;130;01m\\'\u001b[39;00m\u001b[38;5;124mEgo Translation: \u001b[39m\u001b[38;5;130;01m\\'\u001b[39;00m\u001b[38;5;124m, ST_X(Cameras.egoTranslation), ST_Y(Cameras.egoTranslation), ST_Z(Cameras.egoTranslation), \u001b[39m\u001b[38;5;130;01m\\'\u001b[39;00m\u001b[38;5;124mCam Translation: \u001b[39m\u001b[38;5;130;01m\\'\u001b[39;00m\u001b[38;5;124m, ST_X(Cameras.cameraTranslationAbs), ST_Y(Cameras.cameraTranslationAbs), ST_Z(Cameras.cameraTranslationAbs), \u001b[39m\u001b[38;5;130;01m\\'\u001b[39;00m\u001b[38;5;124mPedestrian: \u001b[39m\u001b[38;5;130;01m\\'\u001b[39;00m\u001b[38;5;124m,table_0.itemId, getX(table_0.trajCentroids, Cameras.timestamp), getY(table_0.trajCentroids, Cameras.timestamp), ST_Z(valueAtTimestamp(table_0.trajCentroids, Cameras.timestamp)), valueAtTimestamp(table_0.itemHeadings, Cameras.timestamp), roadDirection(CAST(getX(table_0.trajCentroids, Cameras.timestamp) AS real), CAST(getY(table_0.trajCentroids, Cameras.timestamp) AS real), -9.99) FROM Item_General_Trajectory AS table_0, Cameras\u001b[39m\u001b[38;5;124m\"\u001b[39m \u001b[38;5;241m+\u001b[39m \\\n\u001b[1;32m      6\u001b[0m             \u001b[38;5;124mf\u001b[39m\u001b[38;5;124m\"\u001b[39m\u001b[38;5;124m WHERE Cameras.filename = \u001b[39m\u001b[38;5;130;01m\\'\u001b[39;00m\u001b[38;5;132;01m{\u001b[39;00mprefix \u001b[38;5;241m+\u001b[39m img\u001b[38;5;132;01m}\u001b[39;00m\u001b[38;5;130;01m\\'\u001b[39;00m\u001b[38;5;124m AND table_0.itemId = \u001b[39m\u001b[38;5;130;01m\\'\u001b[39;00m\u001b[38;5;132;01m{\u001b[39;00mitemId\u001b[38;5;132;01m}\u001b[39;00m\u001b[38;5;130;01m\\'\u001b[39;00m\u001b[38;5;124m\"\u001b[39m\n\u001b[0;32m----> 7\u001b[0m result \u001b[38;5;241m=\u001b[39m \u001b[43mdatabase\u001b[49m\u001b[38;5;241;43m.\u001b[39;49m\u001b[43m_execute_query\u001b[49m\u001b[43m(\u001b[49m\u001b[43mquery\u001b[49m\u001b[43m)\u001b[49m\n\u001b[1;32m      8\u001b[0m \u001b[38;5;28mprint\u001b[39m(result)\n",
      "File \u001b[0;32m~/Documents/apperception/apperception/database.py:192\u001b[0m, in \u001b[0;36mDatabase._execute_query\u001b[0;34m(self, query)\u001b[0m\n\u001b[1;32m    190\u001b[0m \u001b[38;5;28;01mexcept\u001b[39;00m psycopg2\u001b[38;5;241m.\u001b[39merrors\u001b[38;5;241m.\u001b[39mDatabaseError \u001b[38;5;28;01mas\u001b[39;00m error:\n\u001b[1;32m    191\u001b[0m     \u001b[38;5;28mself\u001b[39m\u001b[38;5;241m.\u001b[39mconnection\u001b[38;5;241m.\u001b[39mrollback()\n\u001b[0;32m--> 192\u001b[0m     \u001b[38;5;28;01mraise\u001b[39;00m error\n",
      "File \u001b[0;32m~/Documents/apperception/apperception/database.py:188\u001b[0m, in \u001b[0;36mDatabase._execute_query\u001b[0;34m(self, query)\u001b[0m\n\u001b[1;32m    186\u001b[0m \u001b[38;5;28;01mdef\u001b[39;00m \u001b[38;5;21m_execute_query\u001b[39m(\u001b[38;5;28mself\u001b[39m, query: \u001b[38;5;28mstr\u001b[39m) \u001b[38;5;241m-\u001b[39m\u001b[38;5;241m>\u001b[39m List[\u001b[38;5;28mtuple\u001b[39m]:\n\u001b[1;32m    187\u001b[0m     \u001b[38;5;28;01mtry\u001b[39;00m:\n\u001b[0;32m--> 188\u001b[0m         \u001b[38;5;28;43mself\u001b[39;49m\u001b[38;5;241;43m.\u001b[39;49m\u001b[43mcursor\u001b[49m\u001b[38;5;241;43m.\u001b[39;49m\u001b[43mexecute\u001b[49m\u001b[43m(\u001b[49m\u001b[43mquery\u001b[49m\u001b[43m)\u001b[49m\n\u001b[1;32m    189\u001b[0m         \u001b[38;5;28;01mreturn\u001b[39;00m \u001b[38;5;28mself\u001b[39m\u001b[38;5;241m.\u001b[39mcursor\u001b[38;5;241m.\u001b[39mfetchall()\n\u001b[1;32m    190\u001b[0m     \u001b[38;5;28;01mexcept\u001b[39;00m psycopg2\u001b[38;5;241m.\u001b[39merrors\u001b[38;5;241m.\u001b[39mDatabaseError \u001b[38;5;28;01mas\u001b[39;00m error:\n",
      "\u001b[0;31mUndefinedFunction\u001b[0m: function getx(tgeompoint, timestamp with time zone) does not exist\nLINE 1: ...raTranslationAbs), 'Pedestrian: ',table_0.itemId, getX(table...\n                                                             ^\nHINT:  No function matches the given name and argument types. You might need to add explicit type casts.\n"
     ]
    }
   ],
   "source": [
    "from apperception.database import database\n",
    "for img in extra_images:\n",
    "    itemId, timestamp, camId = extra_images[img]\n",
    "    prefix = \"samples/CAM_FRONT/\"\n",
    "    query = f\"SELECT viewAngle(table_0.translations, Cameras.cameraHeading, Cameras.cameraTranslationAbs, Cameras.timestamp), \\'Cameras: \\', Cameras.filename, roadDirection(Cameras.egoTranslation, Cameras.timestamp, Cameras.egoHeading), Cameras.egoHeading, \\'Ego Translation: \\', ST_X(Cameras.egoTranslation), ST_Y(Cameras.egoTranslation), ST_Z(Cameras.egoTranslation), \\'Cam Translation: \\', ST_X(Cameras.cameraTranslationAbs), ST_Y(Cameras.cameraTranslationAbs), ST_Z(Cameras.cameraTranslationAbs), \\'Pedestrian: \\',table_0.itemId, getX(table_0.trajCentroids, Cameras.timestamp), getY(table_0.trajCentroids, Cameras.timestamp), ST_Z(valueAtTimestamp(table_0.trajCentroids, Cameras.timestamp)), valueAtTimestamp(table_0.itemHeadings, Cameras.timestamp), roadDirection(CAST(getX(table_0.trajCentroids, Cameras.timestamp) AS real), CAST(getY(table_0.trajCentroids, Cameras.timestamp) AS real), -9.99) FROM Item_General_Trajectory AS table_0, Cameras\" + \\\n",
    "                f\" WHERE Cameras.filename = \\'{prefix + img}\\' AND table_0.itemId = \\'{itemId}\\'\"\n",
    "    result = database._execute_query(query)\n",
    "    print(result)"
   ]
  },
  {
   "cell_type": "code",
   "execution_count": 14,
   "id": "5bb14000",
   "metadata": {},
   "outputs": [],
   "source": [
    "######## Seeing what predicates are not being satisfied for missing images ########"
   ]
  },
  {
   "cell_type": "code",
   "execution_count": 15,
   "id": "a0ffaaec-1cbe-48c3-8aa0-80982756c7c9",
   "metadata": {},
   "outputs": [],
   "source": [
    "# We assume for now that there is no problem with the commented out predicates, since they are relativley simple\n",
    "predicates = [\n",
    "    # \"(table_0.objectType LIKE 'human.pedestrian%')\",\n",
    "    \"contained(Cameras.egoTranslation, roadSegment('road'))\",\n",
    "    \"(contained(table_0.translations, roadSegment('road'), Cameras.timestamp) OR contained(table_0.translations, roadSegment('intersection'), Cameras.timestamp))\",\n",
    "    \"(containedMargin(objectBBox(table_0.itemId, Cameras.timestamp), roadSegment('road'), 0.60, Cameras.timestamp) OR containedMargin(objectBBox(table_0.itemId, Cameras.timestamp), roadSegment('intersection'), 0.5, Cameras.timestamp))\",\n",
    "    \"angleExcluding(facingRelative(table_0.itemHeadings, Cameras.egoHeading, Cameras.timestamp), (-70), 70)\",\n",
    "    \"angleBetween(facingRelative(Cameras.egoHeading, roadDirection(Cameras.egoTranslation, Cameras.timestamp, Cameras.egoHeading), Cameras.timestamp), (-15), 15)\",\n",
    "    # \"(distance(Cameras.egoTranslation, table_0.trajCentroids, Cameras.timestamp)<50)\",\n",
    "    # \"(viewAngle(table_0.trajCentroids, Cameras.egoHeading, Cameras.egoTranslation, Cameras.timestamp)<135)\"\n",
    "    \n",
    "]"
   ]
  },
  {
   "cell_type": "code",
   "execution_count": 16,
   "id": "85118369-323c-4ff2-9c32-aa43093a0159",
   "metadata": {},
   "outputs": [
    {
     "name": "stdout",
     "output_type": "stream",
     "text": [
      "[(True,)]\n",
      "[(True,)]\n",
      "[(True,)]\n",
      "[(True,)]\n",
      "[(True,)]\n",
      "[(True,), (True,)]\n",
      "[]\n",
      "(contained(table_0.translations, roadSegment('road'), Cameras.timestamp) OR contained(table_0.translations, roadSegment('intersection'), Cameras.timestamp))\n",
      "[(False, 'samples/CAM_FRONT/n008-2018-08-27-11-48-51-0400__CAM_FRONT__1535385153162404.jpg', 'c24e096fcf4c4e55b74892bddc982eaa', 'STBOX ZT((2153.495244698027,919.030510704958,0.020500000000000185,2018-08-27 08:52:33.162404+00),(2153.6974703240962,919.7931546560656,0.020500000000000185,2018-08-27 08:52:33.162404+00))', 0.15422615048069907), (False, 'samples/CAM_FRONT/n008-2018-08-27-11-48-51-0400__CAM_FRONT__1535385153162404.jpg', '69c08f8de9eb4af1ade1a6f85f9421fd', 'STBOX ZT((2154.2170801681277,918.6168837443242,0.15599999999999992,2018-08-27 08:52:33.162404+00),(2154.4577577781233,919.4550115914018,0.15599999999999992,2018-08-27 08:52:33.162404+00))', 0.20171860710538148)]\n",
      "[]\n",
      "(containedMargin(objectBBox(table_0.itemId, Cameras.timestamp), roadSegment('road'), 0.60, Cameras.timestamp) OR containedMargin(objectBBox(table_0.itemId, Cameras.timestamp), roadSegment('intersection'), 0.5, Cameras.timestamp))\n",
      "[(False, 'samples/CAM_FRONT/n008-2018-08-27-11-48-51-0400__CAM_FRONT__1535385153162404.jpg', 'c24e096fcf4c4e55b74892bddc982eaa', 'STBOX ZT((2153.495244698027,919.030510704958,0.020500000000000185,2018-08-27 08:52:33.162404+00),(2153.6974703240962,919.7931546560656,0.020500000000000185,2018-08-27 08:52:33.162404+00))', 0.15422615048069907), (False, 'samples/CAM_FRONT/n008-2018-08-27-11-48-51-0400__CAM_FRONT__1535385153162404.jpg', '69c08f8de9eb4af1ade1a6f85f9421fd', 'STBOX ZT((2154.2170801681277,918.6168837443242,0.15599999999999992,2018-08-27 08:52:33.162404+00),(2154.4577577781233,919.4550115914018,0.15599999999999992,2018-08-27 08:52:33.162404+00))', 0.20171860710538148)]\n",
      "[(True,), (True,)]\n",
      "[(True,), (True,)]\n",
      "[(True,), (True,)]\n",
      "[(True,)]\n",
      "[]\n",
      "(containedMargin(objectBBox(table_0.itemId, Cameras.timestamp), roadSegment('road'), 0.60, Cameras.timestamp) OR containedMargin(objectBBox(table_0.itemId, Cameras.timestamp), roadSegment('intersection'), 0.5, Cameras.timestamp))\n",
      "[(False, 'samples/CAM_FRONT/n008-2018-08-27-11-48-51-0400__CAM_FRONT__1535385153662404.jpg', 'c24e096fcf4c4e55b74892bddc982eaa', 'STBOX ZT((2153.3307535836,918.4436585701117,0.023500000000000187,2018-08-27 08:52:33.662404+00),(2153.557561203759,919.1993564617575,0.023500000000000187,2018-08-27 08:52:33.662404+00))', 0.17139804036334416), (False, 'samples/CAM_FRONT/n008-2018-08-27-11-48-51-0400__CAM_FRONT__1535385153662404.jpg', '69c08f8de9eb4af1ade1a6f85f9421fd', 'STBOX ZT((2154.0509643421174,917.9829283632644,0.1050000000000001,2018-08-27 08:52:33.662404+00),(2154.34235816351,918.8048003976188,0.1050000000000001,2018-08-27 08:52:33.662404+00))', 0.23948843278644044)]\n",
      "[(True,), (True,)]\n",
      "[(True,), (True,)]\n",
      "[(True,), (True,)]\n",
      "[(True,), (True,)]\n",
      "[(True,), (True,)]\n",
      "[(True,), (True,)]\n",
      "[(True,), (True,)]\n",
      "[(True,), (True,)]\n",
      "[(True,), (True,)]\n",
      "[(True,), (True,)]\n",
      "[(True,), (True,)]\n",
      "[(True,), (True,)]\n",
      "[(True,), (True,)]\n",
      "[(True,), (True,)]\n",
      "[(True,), (True,)]\n",
      "[(True,), (True,)]\n",
      "[(True,), (True,)]\n",
      "[(True,), (True,)]\n",
      "[(True,), (True,)]\n",
      "[(True,), (True,)]\n",
      "[(True,), (True,)]\n",
      "[(True,), (True,)]\n",
      "[(True,), (True,)]\n",
      "[(True,), (True,)]\n",
      "[(True,), (True,)]\n",
      "[(True,), (True,)]\n",
      "[(True,), (True,)]\n",
      "[(True,), (True,)]\n",
      "[(True,), (True,)]\n",
      "[(True,), (True,)]\n",
      "[(True,), (True,)]\n",
      "[(True,), (True,)]\n",
      "[(True,), (True,)]\n",
      "[(True,), (True,)]\n",
      "[(True,)]\n",
      "[(True,), (True,)]\n",
      "[(True,), (True,)]\n",
      "[(True,), (True,)]\n",
      "[(True,), (True,)]\n",
      "[(True,), (True,)]\n",
      "[(True,), (True,)]\n",
      "[(True,), (True,)]\n",
      "[(True,), (True,)]\n",
      "[(True,), (True,)]\n",
      "[(True,), (True,)]\n",
      "[(True,), (True,)]\n",
      "[(True,), (True,)]\n",
      "[(True,), (True,)]\n",
      "[(True,), (True,)]\n",
      "[(True,), (True,)]\n",
      "[(True,), (True,)]\n",
      "[(True,), (True,)]\n",
      "[(True,), (True,)]\n",
      "[(True,)]\n",
      "[(True,)]\n",
      "[(True,), (True,)]\n",
      "[(True,), (True,)]\n",
      "[(True,), (True,)]\n",
      "[(True,)]\n",
      "[(True,)]\n",
      "[(True,), (True,)]\n",
      "[(True,), (True,)]\n",
      "[(True,), (True,)]\n",
      "[(True,)]\n",
      "[(True,)]\n",
      "[(True,), (True,)]\n",
      "[(True,), (True,)]\n",
      "[(True,)]\n",
      "[(True,)]\n",
      "[(True,)]\n",
      "[(True,)]\n",
      "[(True,)]\n",
      "[(True,)]\n",
      "[(True,)]\n",
      "[(True,)]\n",
      "[(True,)]\n",
      "[(True,)]\n",
      "[(True,)]\n",
      "[(True,)]\n",
      "[(True,)]\n",
      "[(True,)]\n",
      "[(True,)]\n",
      "[(True,)]\n",
      "[(True,)]\n",
      "[(True,)]\n",
      "[(True,)]\n",
      "[(True,)]\n",
      "[(True,)]\n",
      "[(True,)]\n",
      "[(True,)]\n",
      "[(True,)]\n",
      "[(True,)]\n",
      "[(True,), (True,)]\n",
      "[(True,)]\n",
      "[(True,)]\n",
      "[(True,), (True,)]\n",
      "[(True,), (True,)]\n",
      "[(True,)]\n",
      "[(True,)]\n",
      "[(True,)]\n",
      "[(True,)]\n",
      "[(True,)]\n",
      "[(True,)]\n",
      "[(True,)]\n",
      "[(True,)]\n",
      "[(True,)]\n",
      "[(True,)]\n",
      "[(True,)]\n",
      "[(True,)]\n",
      "[(True,)]\n",
      "[(True,)]\n",
      "[(True,)]\n",
      "[(True,)]\n",
      "[(True,)]\n",
      "[(True,)]\n",
      "[(True,)]\n",
      "[(True,)]\n",
      "[(True,)]\n",
      "[(True,)]\n",
      "[(True,)]\n",
      "[(True,)]\n",
      "[(True,)]\n",
      "[(True,)]\n",
      "[(True,)]\n",
      "[(True,)]\n",
      "[(True,)]\n",
      "[(True,)]\n",
      "[(True,)]\n",
      "[(True,)]\n",
      "[(True,)]\n",
      "[(True,)]\n",
      "[(True,)]\n",
      "[(True,)]\n",
      "[(True,)]\n",
      "[(True,)]\n",
      "[(True,)]\n",
      "[(True,)]\n",
      "[(True,)]\n",
      "[(True,)]\n",
      "[(True,)]\n",
      "[(True,)]\n",
      "[(True,)]\n",
      "[(True,)]\n",
      "[(True,)]\n",
      "[(True,)]\n",
      "[(True,)]\n",
      "[(True,)]\n",
      "[(True,), (True,)]\n",
      "[(True,)]\n",
      "[(True,)]\n",
      "[(True,)]\n",
      "[(True,), (True,)]\n",
      "[(True,)]\n",
      "[(True,)]\n",
      "[(True,)]\n",
      "[(True,)]\n",
      "[(True,)]\n",
      "[(True,), (True,)]\n",
      "[(True,)]\n",
      "[(True,)]\n",
      "[(True,)]\n",
      "[(True,), (True,)]\n",
      "[(True,), (True,)]\n",
      "[(True,)]\n",
      "[(True,)]\n",
      "[(True,)]\n",
      "[(True,), (True,)]\n",
      "[(True,)]\n",
      "[(True,)]\n",
      "[(True,)]\n",
      "[(True,)]\n",
      "[(True,)]\n",
      "[(True,)]\n",
      "[(True,)]\n",
      "[(True,)]\n",
      "[(True,)]\n",
      "[(True,)]\n",
      "[(True,)]\n",
      "[(True,)]\n",
      "[(True,)]\n",
      "[(True,)]\n",
      "[(True,)]\n",
      "[(True,)]\n",
      "[(True,)]\n",
      "[(True,)]\n",
      "[(True,)]\n",
      "[(True,)]\n",
      "[(True,)]\n",
      "[(True,)]\n",
      "[(True,)]\n",
      "[(True,)]\n",
      "[(True,)]\n",
      "[(True,)]\n",
      "[(True,)]\n",
      "[(True,)]\n",
      "[(True,)]\n",
      "[(True,)]\n"
     ]
    }
   ],
   "source": [
    "from apperception.database import database\n",
    "preds_missed = {}\n",
    "for img in missing_images:    \n",
    "    prefix = \"samples/CAM_FRONT/\"\n",
    "    query = f\"SELECT COUNT(*) FROM Item_General_Trajectory AS table_0, Cameras\" + \\\n",
    "                f\" WHERE Cameras.filename = \\'{prefix + img}\\' AND (table_0.objectType LIKE 'human.pedestrian%') AND (distance(Cameras.cameraTranslationAbs, table_0.trajCentroids, Cameras.timestamp)<50) AND (viewAngle(table_0.trajCentroids, Cameras.egoHeading, Cameras.cameraTranslationAbs, Cameras.timestamp)<135)\" \n",
    "    database.cursor.execute(query)\n",
    "    result = database.cursor.fetchall()\n",
    "    num_peds = result[0][0]\n",
    "    # For now we only take a look at images with one pedestrian (so that we know that that one pedestrian is the one that is supposed to satisfy the condition)\n",
    "    # (if still experiencing problems after fixing the errors with the images with only one pedestrian, we can expand)\n",
    "    if num_peds != -1:\n",
    "        # print(\"------\", img, \"------\")\n",
    "        for predicate in predicates:\n",
    "            prefix = \"samples/CAM_FRONT/\"\n",
    "            query = f\"SELECT true FROM Item_General_Trajectory AS table_0, Cameras\" + \\\n",
    "                        f\" WHERE Cameras.filename = \\'{prefix + img}\\' AND (table_0.objectType LIKE 'human.pedestrian%') AND (distance(Cameras.egoTranslation, table_0.trajCentroids, Cameras.timestamp)<50) AND (viewAngle(table_0.trajCentroids, Cameras.egoHeading, Cameras.egoTranslation, Cameras.timestamp)<35) AND \" + \\\n",
    "                        predicate \n",
    "            result = database._execute_query(query)\n",
    "            print(result)\n",
    "            # if the predictae was not satisfied\n",
    "            if len(result) == 0: \n",
    "                if predicate not in preds_missed:\n",
    "                    preds_missed[predicate] = 0\n",
    "                preds_missed[predicate] += 1\n",
    "                print(predicate)\n",
    "                query = f\"SELECT {predicate}, Cameras.filename, table_0.itemId, objectBBox(table_0.itemId, Cameras.timestamp), ST_Area(objectBBox(table_0.itemId, Cameras.timestamp)::box3d::geometry) FROM Item_General_Trajectory AS table_0, Cameras\" + \\\n",
    "                        f\" WHERE Cameras.filename = \\'{prefix + img}\\' AND (table_0.objectType LIKE 'human.pedestrian%') AND (distance(Cameras.egoTranslation, table_0.trajCentroids, Cameras.timestamp)<50) AND (viewAngle(table_0.trajCentroids, Cameras.egoHeading, Cameras.egoTranslation, Cameras.timestamp)<35)\" \n",
    "                result = database._execute_query(query)\n",
    "                print(result)\n",
    "\n",
    "            "
   ]
  },
  {
   "cell_type": "code",
   "execution_count": null,
   "id": "140b3f1b",
   "metadata": {},
   "outputs": [],
   "source": [
    "for pred in preds_missed:\n",
    "    print(pred, preds_missed[pred])"
   ]
  },
  {
   "cell_type": "code",
   "execution_count": null,
   "id": "391e51a3",
   "metadata": {},
   "outputs": [],
   "source": []
  }
 ],
 "metadata": {
  "interpreter": {
   "hash": "5c9f2372a2bfaf539cf701a38e7f23ab828911ee177c2e7bc9c32aa1f4b546df"
  },
  "kernelspec": {
   "display_name": "Python 3 (ipykernel)",
   "language": "python",
   "name": "python3"
  },
  "language_info": {
   "codemirror_mode": {
    "name": "ipython",
    "version": 3
   },
   "file_extension": ".py",
   "mimetype": "text/x-python",
   "name": "python",
   "nbconvert_exporter": "python",
   "pygments_lexer": "ipython3",
   "version": "3.8.13"
  }
 },
 "nbformat": 4,
 "nbformat_minor": 5
}
