{
 "cells": [
  {
   "cell_type": "code",
   "execution_count": 1,
   "id": "5e564f2b-e214-4d07-bade-bf55c8190b6b",
   "metadata": {},
   "outputs": [
    {
     "name": "stdout",
     "output_type": "stream",
     "text": [
      "/home/yongming/workspace/research/apperception_new_local/apperception\n"
     ]
    }
   ],
   "source": [
    "%cd ../..\n",
    "# %pip install .\n",
    "import time\n",
    "from os import environ\n",
    "# ego = Car on drivableRoad,\n",
    "#         facing Range(-15, 15) deg relative to roadDirection,\n",
    "#         with visibleDistance 50, \n",
    "#         with viewAngle 135 deg\n",
    "# ped = Pedestrian on roadsOrIntersections,\n",
    "#         with regionContainedIn roadRegion,\n",
    "#         facing Range(-180, 180) deg\n",
    "\n",
    "# require abs(relative heading of ped from ego) > 70 deg"
   ]
  },
  {
   "cell_type": "code",
   "execution_count": 2,
   "id": "90a9d504-225b-4e92-bd7d-c49e70caa983",
   "metadata": {},
   "outputs": [
    {
     "name": "stdout",
     "output_type": "stream",
     "text": [
      "port25432\n"
     ]
    }
   ],
   "source": [
    "environ['AP_PORT'] = str(input('port')) # README command uses port=25432"
   ]
  },
  {
   "cell_type": "code",
   "execution_count": null,
   "id": "5efbe6fd",
   "metadata": {},
   "outputs": [],
   "source": [
    "\"\"\"\n",
    "with (\n",
    "  select *\n",
    "  from item_traj\n",
    "  where item_traj.object_type = 'pedestrian'\n",
    ") as pedestrians\n",
    "\n",
    "select *\n",
    "from pedestrians as t1\n",
    "join Cameras as cam on t1.cameraId = Cameras.id\n",
    "where\n",
    "  t1.heading < 180 and t1.heading > -180 and\n",
    "  (contained(t1.traj, road_segment(\"roads\"), cam.timestamp) or\n",
    "   contained(t1.traj, road_segment(\"Intersections\"), cam.timestamp)) and\n",
    "  (facingRelative(t1.heading, cam.egoHeading, cam.timestamp) < -70 OR\n",
    "  facingRelative(t1.heading, cam.egoHeading, cam.timestamp) > 70) AND\n",
    "  facingRelative(cam.egoHeading, road_direction(cam.ego_translation, Cameras.egoHeading), cam.timestamp) >= -15 AND\n",
    "  facingRelative(cam.egoHeading, road_direction(cam.ego_translation, Cameras.egoHeading), cam.timestamp) <= 15 AND\n",
    "  DISTANCE(cam.egoTranslation, t1.centroid, cam.timestamp) < 50 AND\n",
    "  viewAngle(t1.traj, cam.egoHeading, cam.ego_translation, cam.timestamp) < 135\n",
    "\"\"\""
   ]
  },
  {
   "cell_type": "code",
   "execution_count": 3,
   "id": "a5b38598",
   "metadata": {
    "tags": []
   },
   "outputs": [
    {
     "name": "stdout",
     "output_type": "stream",
     "text": [
      "execute: filter\n",
      "execute: get_id_time_camId_filename\n",
      "get_id_time_camId_filename \n",
      "        SELECT table_0.itemId, cameras.timestamp, cameras.cameraId, cameras.filename\n",
      "        FROM (SELECT * FROM item_general_trajectory) as table_0\n",
      "        \n",
      "        JOIN Cameras USING (cameraId)\n",
      "        WHERE ((table_0.objectType LIKE 'human.pedestrian%') AND contained(Cameras.egoTranslation, roadSegment('road')) AND (contained(table_0.trajCentroids, roadSegment('lane'), Cameras.timestamp) OR contained(table_0.trajCentroids, roadSegment('intersection'), Cameras.timestamp)) AND ((facingRelative(table_0.itemHeadings, Cameras.egoHeading, Cameras.timestamp)<(-70)) OR (facingRelative(table_0.itemHeadings, Cameras.egoHeading, Cameras.timestamp)>=70)) AND (facingRelative(Cameras.egoHeading, roadDirection(Cameras.egoTranslation, Cameras.timestamp, Cameras.egoHeading), Cameras.timestamp)>=(-15)) AND (facingRelative(Cameras.egoHeading, roadDirection(Cameras.egoTranslation, Cameras.timestamp, Cameras.egoHeading), Cameras.timestamp)<=15) AND (distance(Cameras.egoTranslation, table_0.trajCentroids, Cameras.timestamp)<50) AND (viewAngle(table_0.trajCentroids, Cameras.egoHeading, Cameras.egoTranslation, Cameras.timestamp)<67.5))\n",
      "        \n",
      "done execute node\n",
      "[('93447c5bd75b4862995b0a4b12b0459f', datetime.datetime(2018, 8, 31, 8, 44, 48, 512404, tzinfo=datetime.timezone.utc), 'scene-0557', 'samples/CAM_FRONT/n008-2018-08-31-11-37-23-0400__CAM_FRONT__1535730288512404.jpg'), ('93447c5bd75b4862995b0a4b12b0459f', datetime.datetime(2018, 8, 31, 8, 44, 49, 12404, tzinfo=datetime.timezone.utc), 'scene-0557', 'samples/CAM_FRONT/n008-2018-08-31-11-37-23-0400__CAM_FRONT__1535730289012404.jpg'), ('93447c5bd75b4862995b0a4b12b0459f', datetime.datetime(2018, 8, 31, 8, 44, 49, 512404, tzinfo=datetime.timezone.utc), 'scene-0557', 'samples/CAM_FRONT/n008-2018-08-31-11-37-23-0400__CAM_FRONT__1535730289512404.jpg'), ('93447c5bd75b4862995b0a4b12b0459f', datetime.datetime(2018, 8, 31, 8, 44, 50, 12404, tzinfo=datetime.timezone.utc), 'scene-0557', 'samples/CAM_FRONT/n008-2018-08-31-11-37-23-0400__CAM_FRONT__1535730290012404.jpg'), ('93447c5bd75b4862995b0a4b12b0459f', datetime.datetime(2018, 8, 31, 8, 44, 50, 512404, tzinfo=datetime.timezone.utc), 'scene-0557', 'samples/CAM_FRONT/n008-2018-08-31-11-37-23-0400__CAM_FRONT__1535730290512404.jpg'), ('93447c5bd75b4862995b0a4b12b0459f', datetime.datetime(2018, 8, 31, 8, 44, 51, 12404, tzinfo=datetime.timezone.utc), 'scene-0557', 'samples/CAM_FRONT/n008-2018-08-31-11-37-23-0400__CAM_FRONT__1535730291012404.jpg'), ('93447c5bd75b4862995b0a4b12b0459f', datetime.datetime(2018, 8, 31, 8, 44, 51, 512404, tzinfo=datetime.timezone.utc), 'scene-0557', 'samples/CAM_FRONT/n008-2018-08-31-11-37-23-0400__CAM_FRONT__1535730291512404.jpg'), ('93447c5bd75b4862995b0a4b12b0459f', datetime.datetime(2018, 8, 31, 8, 44, 53, 412404, tzinfo=datetime.timezone.utc), 'scene-0557', 'samples/CAM_FRONT/n008-2018-08-31-11-37-23-0400__CAM_FRONT__1535730293412404.jpg'), ('7f18369f5ba24fab92bbbf5f9d826982', datetime.datetime(2018, 8, 30, 13, 1, 18, 662404, tzinfo=datetime.timezone.utc), 'scene-0536', 'samples/CAM_FRONT/n008-2018-08-30-15-52-26-0400__CAM_FRONT__1535659278662404.jpg'), ('7f18369f5ba24fab92bbbf5f9d826982', datetime.datetime(2018, 8, 30, 13, 1, 19, 662404, tzinfo=datetime.timezone.utc), 'scene-0536', 'samples/CAM_FRONT/n008-2018-08-30-15-52-26-0400__CAM_FRONT__1535659279662404.jpg'), ('7698ecec52b54ee1942669935cab22e2', datetime.datetime(2018, 8, 30, 13, 1, 19, 662404, tzinfo=datetime.timezone.utc), 'scene-0536', 'samples/CAM_FRONT/n008-2018-08-30-15-52-26-0400__CAM_FRONT__1535659279662404.jpg'), ('bb0082b12b124714920cc4b2c4b52c7a', datetime.datetime(2018, 8, 30, 13, 1, 19, 662404, tzinfo=datetime.timezone.utc), 'scene-0536', 'samples/CAM_FRONT/n008-2018-08-30-15-52-26-0400__CAM_FRONT__1535659279662404.jpg'), ('03da828f5890478b9d07e532ef6e8c4f', datetime.datetime(2018, 8, 30, 13, 1, 19, 662404, tzinfo=datetime.timezone.utc), 'scene-0536', 'samples/CAM_FRONT/n008-2018-08-30-15-52-26-0400__CAM_FRONT__1535659279662404.jpg'), ('5b48a7ebade149d5b8156b0d69f133d2', datetime.datetime(2018, 8, 30, 13, 1, 19, 662404, tzinfo=datetime.timezone.utc), 'scene-0536', 'samples/CAM_FRONT/n008-2018-08-30-15-52-26-0400__CAM_FRONT__1535659279662404.jpg'), ('9a53e7375ff243eea5b0be842bd82b24', datetime.datetime(2018, 9, 18, 10, 15, 51, 612404, tzinfo=datetime.timezone.utc), 'scene-0577', 'samples/CAM_FRONT/n008-2018-09-18-13-10-39-0400__CAM_FRONT__1537290951612404.jpg'), ('9a53e7375ff243eea5b0be842bd82b24', datetime.datetime(2018, 9, 18, 10, 15, 52, 162404, tzinfo=datetime.timezone.utc), 'scene-0577', 'samples/CAM_FRONT/n008-2018-09-18-13-10-39-0400__CAM_FRONT__1537290952162404.jpg'), ('be985ebf526d4b4ea2ade4413e15a591', datetime.datetime(2018, 9, 18, 10, 18, 51, 412404, tzinfo=datetime.timezone.utc), 'scene-0582', 'samples/CAM_FRONT/n008-2018-09-18-13-10-39-0400__CAM_FRONT__1537291131412404.jpg'), ('b24a5fea4d534aa79e9190d96ba62e39', datetime.datetime(2018, 8, 31, 8, 20, 30, 362404, tzinfo=datetime.timezone.utc), 'scene-0284', 'samples/CAM_FRONT/n008-2018-08-31-11-19-57-0400__CAM_FRONT__1535728830362404.jpg'), ('6f03dae6876e4052815ec30af32ba6b6', datetime.datetime(2018, 8, 28, 13, 24, 48, 262404, tzinfo=datetime.timezone.utc), 'scene-0321', 'samples/CAM_FRONT/n008-2018-08-28-16-16-48-0400__CAM_FRONT__1535487888262404.jpg'), ('e097b3e6543341c588e5061f1796aabf', datetime.datetime(2018, 8, 28, 13, 24, 48, 262404, tzinfo=datetime.timezone.utc), 'scene-0321', 'samples/CAM_FRONT/n008-2018-08-28-16-16-48-0400__CAM_FRONT__1535487888262404.jpg'), ('64370754a3444d1dba44e667cf9ffee5', datetime.datetime(2018, 8, 28, 13, 24, 48, 262404, tzinfo=datetime.timezone.utc), 'scene-0321', 'samples/CAM_FRONT/n008-2018-08-28-16-16-48-0400__CAM_FRONT__1535487888262404.jpg'), ('6f03dae6876e4052815ec30af32ba6b6', datetime.datetime(2018, 8, 28, 13, 24, 48, 762404, tzinfo=datetime.timezone.utc), 'scene-0321', 'samples/CAM_FRONT/n008-2018-08-28-16-16-48-0400__CAM_FRONT__1535487888762404.jpg'), ('e097b3e6543341c588e5061f1796aabf', datetime.datetime(2018, 8, 28, 13, 24, 48, 762404, tzinfo=datetime.timezone.utc), 'scene-0321', 'samples/CAM_FRONT/n008-2018-08-28-16-16-48-0400__CAM_FRONT__1535487888762404.jpg'), ('64370754a3444d1dba44e667cf9ffee5', datetime.datetime(2018, 8, 28, 13, 24, 48, 762404, tzinfo=datetime.timezone.utc), 'scene-0321', 'samples/CAM_FRONT/n008-2018-08-28-16-16-48-0400__CAM_FRONT__1535487888762404.jpg'), ('31f1dca26e0a4306b74d45280a1a6d64', datetime.datetime(2018, 8, 28, 10, 53, 59, 762404, tzinfo=datetime.timezone.utc), 'scene-0510', 'samples/CAM_FRONT/n008-2018-08-28-13-40-50-0400__CAM_FRONT__1535478839762404.jpg'), ('c24e096fcf4c4e55b74892bddc982eaa', datetime.datetime(2018, 8, 27, 8, 52, 34, 162404, tzinfo=datetime.timezone.utc), 'scene-0658', 'samples/CAM_FRONT/n008-2018-08-27-11-48-51-0400__CAM_FRONT__1535385154162404.jpg'), ('69c08f8de9eb4af1ade1a6f85f9421fd', datetime.datetime(2018, 8, 27, 8, 52, 34, 162404, tzinfo=datetime.timezone.utc), 'scene-0658', 'samples/CAM_FRONT/n008-2018-08-27-11-48-51-0400__CAM_FRONT__1535385154162404.jpg'), ('c24e096fcf4c4e55b74892bddc982eaa', datetime.datetime(2018, 8, 27, 8, 52, 34, 662404, tzinfo=datetime.timezone.utc), 'scene-0658', 'samples/CAM_FRONT/n008-2018-08-27-11-48-51-0400__CAM_FRONT__1535385154662404.jpg'), ('69c08f8de9eb4af1ade1a6f85f9421fd', datetime.datetime(2018, 8, 27, 8, 52, 34, 662404, tzinfo=datetime.timezone.utc), 'scene-0658', 'samples/CAM_FRONT/n008-2018-08-27-11-48-51-0400__CAM_FRONT__1535385154662404.jpg'), ('c24e096fcf4c4e55b74892bddc982eaa', datetime.datetime(2018, 8, 27, 8, 52, 35, 162404, tzinfo=datetime.timezone.utc), 'scene-0658', 'samples/CAM_FRONT/n008-2018-08-27-11-48-51-0400__CAM_FRONT__1535385155162404.jpg'), ('69c08f8de9eb4af1ade1a6f85f9421fd', datetime.datetime(2018, 8, 27, 8, 52, 35, 162404, tzinfo=datetime.timezone.utc), 'scene-0658', 'samples/CAM_FRONT/n008-2018-08-27-11-48-51-0400__CAM_FRONT__1535385155162404.jpg'), ('c24e096fcf4c4e55b74892bddc982eaa', datetime.datetime(2018, 8, 27, 8, 52, 38, 662404, tzinfo=datetime.timezone.utc), 'scene-0658', 'samples/CAM_FRONT/n008-2018-08-27-11-48-51-0400__CAM_FRONT__1535385158662404.jpg'), ('69c08f8de9eb4af1ade1a6f85f9421fd', datetime.datetime(2018, 8, 27, 8, 52, 38, 662404, tzinfo=datetime.timezone.utc), 'scene-0658', 'samples/CAM_FRONT/n008-2018-08-27-11-48-51-0400__CAM_FRONT__1535385158662404.jpg'), ('c24e096fcf4c4e55b74892bddc982eaa', datetime.datetime(2018, 8, 27, 8, 52, 39, 162404, tzinfo=datetime.timezone.utc), 'scene-0658', 'samples/CAM_FRONT/n008-2018-08-27-11-48-51-0400__CAM_FRONT__1535385159162404.jpg'), ('69c08f8de9eb4af1ade1a6f85f9421fd', datetime.datetime(2018, 8, 27, 8, 52, 39, 162404, tzinfo=datetime.timezone.utc), 'scene-0658', 'samples/CAM_FRONT/n008-2018-08-27-11-48-51-0400__CAM_FRONT__1535385159162404.jpg'), ('c24e096fcf4c4e55b74892bddc982eaa', datetime.datetime(2018, 8, 27, 8, 52, 39, 662404, tzinfo=datetime.timezone.utc), 'scene-0658', 'samples/CAM_FRONT/n008-2018-08-27-11-48-51-0400__CAM_FRONT__1535385159662404.jpg'), ('69c08f8de9eb4af1ade1a6f85f9421fd', datetime.datetime(2018, 8, 27, 8, 52, 39, 662404, tzinfo=datetime.timezone.utc), 'scene-0658', 'samples/CAM_FRONT/n008-2018-08-27-11-48-51-0400__CAM_FRONT__1535385159662404.jpg'), ('7b9f7f28f36c4b23adfa800e08df2a5b', datetime.datetime(2018, 8, 1, 12, 20, 5, 412404, tzinfo=datetime.timezone.utc), 'scene-0094', 'samples/CAM_FRONT/n008-2018-08-01-15-16-36-0400__CAM_FRONT__1533151205412404.jpg'), ('7b9f7f28f36c4b23adfa800e08df2a5b', datetime.datetime(2018, 8, 1, 12, 20, 5, 912404, tzinfo=datetime.timezone.utc), 'scene-0094', 'samples/CAM_FRONT/n008-2018-08-01-15-16-36-0400__CAM_FRONT__1533151205912404.jpg'), ('7b9f7f28f36c4b23adfa800e08df2a5b', datetime.datetime(2018, 8, 1, 12, 20, 6, 412404, tzinfo=datetime.timezone.utc), 'scene-0094', 'samples/CAM_FRONT/n008-2018-08-01-15-16-36-0400__CAM_FRONT__1533151206412404.jpg'), ('bc395b4c15564c58bb0070a8662583a5', datetime.datetime(2018, 8, 31, 8, 26, 0, 412404, tzinfo=datetime.timezone.utc), 'scene-0293', 'samples/CAM_FRONT/n008-2018-08-31-11-19-57-0400__CAM_FRONT__1535729160412404.jpg'), ('7fc63169a8294127b76f9398cf0f3e49', datetime.datetime(2018, 8, 31, 8, 26, 0, 412404, tzinfo=datetime.timezone.utc), 'scene-0293', 'samples/CAM_FRONT/n008-2018-08-31-11-19-57-0400__CAM_FRONT__1535729160412404.jpg'), ('3e4e15b6d6b54fca9710b09ed52dea16', datetime.datetime(2018, 8, 31, 8, 26, 0, 412404, tzinfo=datetime.timezone.utc), 'scene-0293', 'samples/CAM_FRONT/n008-2018-08-31-11-19-57-0400__CAM_FRONT__1535729160412404.jpg'), ('4443549517964fb18544e096bc1eaade', datetime.datetime(2018, 8, 31, 8, 26, 0, 412404, tzinfo=datetime.timezone.utc), 'scene-0293', 'samples/CAM_FRONT/n008-2018-08-31-11-19-57-0400__CAM_FRONT__1535729160412404.jpg'), ('2b2538ac9fd04cf2a9f254f64fcdc6e5', datetime.datetime(2018, 8, 31, 8, 26, 0, 412404, tzinfo=datetime.timezone.utc), 'scene-0293', 'samples/CAM_FRONT/n008-2018-08-31-11-19-57-0400__CAM_FRONT__1535729160412404.jpg'), ('bc395b4c15564c58bb0070a8662583a5', datetime.datetime(2018, 8, 31, 8, 26, 1, 862404, tzinfo=datetime.timezone.utc), 'scene-0293', 'samples/CAM_FRONT/n008-2018-08-31-11-19-57-0400__CAM_FRONT__1535729161862404.jpg'), ('7fc63169a8294127b76f9398cf0f3e49', datetime.datetime(2018, 8, 31, 8, 26, 1, 862404, tzinfo=datetime.timezone.utc), 'scene-0293', 'samples/CAM_FRONT/n008-2018-08-31-11-19-57-0400__CAM_FRONT__1535729161862404.jpg'), ('4443549517964fb18544e096bc1eaade', datetime.datetime(2018, 8, 31, 8, 26, 1, 862404, tzinfo=datetime.timezone.utc), 'scene-0293', 'samples/CAM_FRONT/n008-2018-08-31-11-19-57-0400__CAM_FRONT__1535729161862404.jpg'), ('2b2538ac9fd04cf2a9f254f64fcdc6e5', datetime.datetime(2018, 8, 31, 8, 26, 1, 862404, tzinfo=datetime.timezone.utc), 'scene-0293', 'samples/CAM_FRONT/n008-2018-08-31-11-19-57-0400__CAM_FRONT__1535729161862404.jpg'), ('8ddf99e397a048e0ae26767155a0ccdd', datetime.datetime(2018, 9, 18, 10, 3, 8, 512404, tzinfo=datetime.timezone.utc), 'scene-0476', 'samples/CAM_FRONT/n008-2018-09-18-12-53-31-0400__CAM_FRONT__1537290188512404.jpg'), ('ed8ca01cd6da455bb2852ff4e18ed07f', datetime.datetime(2018, 9, 18, 10, 3, 8, 512404, tzinfo=datetime.timezone.utc), 'scene-0476', 'samples/CAM_FRONT/n008-2018-09-18-12-53-31-0400__CAM_FRONT__1537290188512404.jpg'), ('9238a548b9e04f418cfcab5ab6c7e598', datetime.datetime(2018, 9, 18, 10, 3, 8, 512404, tzinfo=datetime.timezone.utc), 'scene-0476', 'samples/CAM_FRONT/n008-2018-09-18-12-53-31-0400__CAM_FRONT__1537290188512404.jpg'), ('c1585912b1b54727be81c39e5309e3c0', datetime.datetime(2018, 9, 18, 10, 3, 8, 512404, tzinfo=datetime.timezone.utc), 'scene-0476', 'samples/CAM_FRONT/n008-2018-09-18-12-53-31-0400__CAM_FRONT__1537290188512404.jpg'), ('8ddf99e397a048e0ae26767155a0ccdd', datetime.datetime(2018, 9, 18, 10, 3, 9, 12404, tzinfo=datetime.timezone.utc), 'scene-0476', 'samples/CAM_FRONT/n008-2018-09-18-12-53-31-0400__CAM_FRONT__1537290189012404.jpg'), ('ed8ca01cd6da455bb2852ff4e18ed07f', datetime.datetime(2018, 9, 18, 10, 3, 9, 12404, tzinfo=datetime.timezone.utc), 'scene-0476', 'samples/CAM_FRONT/n008-2018-09-18-12-53-31-0400__CAM_FRONT__1537290189012404.jpg'), ('c1585912b1b54727be81c39e5309e3c0', datetime.datetime(2018, 9, 18, 10, 3, 9, 12404, tzinfo=datetime.timezone.utc), 'scene-0476', 'samples/CAM_FRONT/n008-2018-09-18-12-53-31-0400__CAM_FRONT__1537290189012404.jpg'), ('8ddf99e397a048e0ae26767155a0ccdd', datetime.datetime(2018, 9, 18, 10, 3, 9, 512404, tzinfo=datetime.timezone.utc), 'scene-0476', 'samples/CAM_FRONT/n008-2018-09-18-12-53-31-0400__CAM_FRONT__1537290189512404.jpg'), ('c1585912b1b54727be81c39e5309e3c0', datetime.datetime(2018, 9, 18, 10, 3, 9, 512404, tzinfo=datetime.timezone.utc), 'scene-0476', 'samples/CAM_FRONT/n008-2018-09-18-12-53-31-0400__CAM_FRONT__1537290189512404.jpg'), ('0e6c86fa12d44f13b18b838659bc0397', datetime.datetime(2018, 8, 31, 8, 27, 44, 412404, tzinfo=datetime.timezone.utc), 'scene-0298', 'samples/CAM_FRONT/n008-2018-08-31-11-19-57-0400__CAM_FRONT__1535729264412404.jpg'), ('0e6c86fa12d44f13b18b838659bc0397', datetime.datetime(2018, 8, 31, 8, 27, 44, 912404, tzinfo=datetime.timezone.utc), 'scene-0298', 'samples/CAM_FRONT/n008-2018-08-31-11-19-57-0400__CAM_FRONT__1535729264912404.jpg'), ('0e6c86fa12d44f13b18b838659bc0397', datetime.datetime(2018, 8, 31, 8, 27, 45, 412404, tzinfo=datetime.timezone.utc), 'scene-0298', 'samples/CAM_FRONT/n008-2018-08-31-11-19-57-0400__CAM_FRONT__1535729265412404.jpg'), ('6c053c7967e24439ac1f0faf25cedb60', datetime.datetime(2018, 8, 31, 8, 27, 47, 912404, tzinfo=datetime.timezone.utc), 'scene-0298', 'samples/CAM_FRONT/n008-2018-08-31-11-19-57-0400__CAM_FRONT__1535729267912404.jpg'), ('5c4be7224ace4241a2f35478fe6a8d29', datetime.datetime(2018, 8, 31, 8, 27, 57, 12404, tzinfo=datetime.timezone.utc), 'scene-0298', 'samples/CAM_FRONT/n008-2018-08-31-11-19-57-0400__CAM_FRONT__1535729277012404.jpg'), ('1a72d5cb311840c5902ad7c5b24b3b06', datetime.datetime(2018, 8, 31, 8, 27, 57, 12404, tzinfo=datetime.timezone.utc), 'scene-0298', 'samples/CAM_FRONT/n008-2018-08-31-11-19-57-0400__CAM_FRONT__1535729277012404.jpg'), ('4f22904ecb214280b38d27fbbf4eca33', datetime.datetime(2018, 8, 30, 12, 34, 54, 12404, tzinfo=datetime.timezone.utc), 'scene-0777', 'samples/CAM_FRONT/n008-2018-08-30-15-31-50-0400__CAM_FRONT__1535657694012404.jpg'), ('4f22904ecb214280b38d27fbbf4eca33', datetime.datetime(2018, 8, 30, 12, 34, 54, 512404, tzinfo=datetime.timezone.utc), 'scene-0777', 'samples/CAM_FRONT/n008-2018-08-30-15-31-50-0400__CAM_FRONT__1535657694512404.jpg'), ('4f22904ecb214280b38d27fbbf4eca33', datetime.datetime(2018, 8, 30, 12, 34, 55, 12404, tzinfo=datetime.timezone.utc), 'scene-0777', 'samples/CAM_FRONT/n008-2018-08-30-15-31-50-0400__CAM_FRONT__1535657695012404.jpg'), ('4b086f653d5a47a79f73f1d4a4d956d8', datetime.datetime(2018, 8, 30, 12, 25, 18, 112404, tzinfo=datetime.timezone.utc), 'scene-0757', 'samples/CAM_FRONT/n008-2018-08-30-15-16-55-0400__CAM_FRONT__1535657118112404.jpg'), ('4b086f653d5a47a79f73f1d4a4d956d8', datetime.datetime(2018, 8, 30, 12, 25, 18, 612404, tzinfo=datetime.timezone.utc), 'scene-0757', 'samples/CAM_FRONT/n008-2018-08-30-15-16-55-0400__CAM_FRONT__1535657118612404.jpg'), ('3c16d6997c70488ab7e9dfd0fbec962e', datetime.datetime(2018, 8, 30, 12, 25, 19, 112404, tzinfo=datetime.timezone.utc), 'scene-0757', 'samples/CAM_FRONT/n008-2018-08-30-15-16-55-0400__CAM_FRONT__1535657119112404.jpg'), ('4b086f653d5a47a79f73f1d4a4d956d8', datetime.datetime(2018, 8, 30, 12, 25, 19, 112404, tzinfo=datetime.timezone.utc), 'scene-0757', 'samples/CAM_FRONT/n008-2018-08-30-15-16-55-0400__CAM_FRONT__1535657119112404.jpg'), ('e8a2ed72b3554c98b18f6b20530a7020', datetime.datetime(2018, 8, 30, 13, 3, 24, 362404, tzinfo=datetime.timezone.utc), 'scene-0541', 'samples/CAM_FRONT/n008-2018-08-30-15-52-26-0400__CAM_FRONT__1535659404362404.jpg'), ('e8a2ed72b3554c98b18f6b20530a7020', datetime.datetime(2018, 8, 30, 13, 3, 24, 762404, tzinfo=datetime.timezone.utc), 'scene-0541', 'samples/CAM_FRONT/n008-2018-08-30-15-52-26-0400__CAM_FRONT__1535659404762404.jpg'), ('e8a2ed72b3554c98b18f6b20530a7020', datetime.datetime(2018, 8, 30, 13, 3, 25, 262404, tzinfo=datetime.timezone.utc), 'scene-0541', 'samples/CAM_FRONT/n008-2018-08-30-15-52-26-0400__CAM_FRONT__1535659405262404.jpg'), ('e8a2ed72b3554c98b18f6b20530a7020', datetime.datetime(2018, 8, 30, 13, 3, 25, 762404, tzinfo=datetime.timezone.utc), 'scene-0541', 'samples/CAM_FRONT/n008-2018-08-30-15-52-26-0400__CAM_FRONT__1535659405762404.jpg'), ('e8a2ed72b3554c98b18f6b20530a7020', datetime.datetime(2018, 8, 30, 13, 3, 26, 262404, tzinfo=datetime.timezone.utc), 'scene-0541', 'samples/CAM_FRONT/n008-2018-08-30-15-52-26-0400__CAM_FRONT__1535659406262404.jpg'), ('72373ff2f1d54ebda6b440228a88463f', datetime.datetime(2018, 8, 30, 13, 3, 27, 512404, tzinfo=datetime.timezone.utc), 'scene-0542', 'samples/CAM_FRONT/n008-2018-08-30-15-52-26-0400__CAM_FRONT__1535659407512404.jpg'), ('0fa11cc97e854be182ddc8dc7f95a41b', datetime.datetime(2018, 9, 18, 12, 13, 2, 662404, tzinfo=datetime.timezone.utc), 'scene-0905', 'samples/CAM_FRONT/n008-2018-09-18-15-12-01-0400__CAM_FRONT__1537297982662404.jpg'), ('581f991651ac4245aa56d030f080396a', datetime.datetime(2018, 9, 18, 12, 13, 2, 662404, tzinfo=datetime.timezone.utc), 'scene-0905', 'samples/CAM_FRONT/n008-2018-09-18-15-12-01-0400__CAM_FRONT__1537297982662404.jpg'), ('d667c3ebb5d34aaf930572d02d4905e4', datetime.datetime(2018, 8, 30, 12, 56, 27, 862404, tzinfo=datetime.timezone.utc), 'scene-0531', 'samples/CAM_FRONT/n008-2018-08-30-15-52-26-0400__CAM_FRONT__1535658987862404.jpg'), ('371c4fb1a7454570a6bdacdbbcdd7d5c', datetime.datetime(2018, 7, 27, 9, 11, 57, 112404, tzinfo=datetime.timezone.utc), 'scene-0224', 'samples/CAM_FRONT/n008-2018-07-27-12-07-38-0400__CAM_FRONT__1532707917112404.jpg'), ('a3d8c3e90842475fb15fa3f78febdad4', datetime.datetime(2018, 9, 18, 9, 55, 41, 512404, tzinfo=datetime.timezone.utc), 'scene-0457', 'samples/CAM_FRONT/n008-2018-09-18-12-53-31-0400__CAM_FRONT__1537289741512404.jpg'), ('f98255abcaa4448f8e8293516f45c47a', datetime.datetime(2018, 9, 18, 10, 54, 51, 162404, tzinfo=datetime.timezone.utc), 'scene-0598', 'samples/CAM_FRONT/n008-2018-09-18-13-41-50-0400__CAM_FRONT__1537293291162404.jpg'), ('f98255abcaa4448f8e8293516f45c47a', datetime.datetime(2018, 9, 18, 10, 54, 51, 662404, tzinfo=datetime.timezone.utc), 'scene-0598', 'samples/CAM_FRONT/n008-2018-09-18-13-41-50-0400__CAM_FRONT__1537293291662404.jpg'), ('f98255abcaa4448f8e8293516f45c47a', datetime.datetime(2018, 9, 18, 10, 54, 52, 162404, tzinfo=datetime.timezone.utc), 'scene-0598', 'samples/CAM_FRONT/n008-2018-09-18-13-41-50-0400__CAM_FRONT__1537293292162404.jpg'), ('f98255abcaa4448f8e8293516f45c47a', datetime.datetime(2018, 9, 18, 10, 54, 52, 662404, tzinfo=datetime.timezone.utc), 'scene-0598', 'samples/CAM_FRONT/n008-2018-09-18-13-41-50-0400__CAM_FRONT__1537293292662404.jpg'), ('f98255abcaa4448f8e8293516f45c47a', datetime.datetime(2018, 9, 18, 10, 54, 53, 162404, tzinfo=datetime.timezone.utc), 'scene-0598', 'samples/CAM_FRONT/n008-2018-09-18-13-41-50-0400__CAM_FRONT__1537293293162404.jpg'), ('f98255abcaa4448f8e8293516f45c47a', datetime.datetime(2018, 9, 18, 10, 54, 53, 662404, tzinfo=datetime.timezone.utc), 'scene-0598', 'samples/CAM_FRONT/n008-2018-09-18-13-41-50-0400__CAM_FRONT__1537293293662404.jpg'), ('1b2ffdc364c0402dad9decd6290fbb47', datetime.datetime(2018, 8, 31, 8, 28, 46, 412404, tzinfo=datetime.timezone.utc), 'scene-0301', 'samples/CAM_FRONT/n008-2018-08-31-11-19-57-0400__CAM_FRONT__1535729326412404.jpg'), ('1b2ffdc364c0402dad9decd6290fbb47', datetime.datetime(2018, 8, 31, 8, 28, 46, 912404, tzinfo=datetime.timezone.utc), 'scene-0301', 'samples/CAM_FRONT/n008-2018-08-31-11-19-57-0400__CAM_FRONT__1535729326912404.jpg'), ('1b2ffdc364c0402dad9decd6290fbb47', datetime.datetime(2018, 8, 31, 8, 28, 47, 412404, tzinfo=datetime.timezone.utc), 'scene-0301', 'samples/CAM_FRONT/n008-2018-08-31-11-19-57-0400__CAM_FRONT__1535729327412404.jpg'), ('1b2ffdc364c0402dad9decd6290fbb47', datetime.datetime(2018, 8, 31, 8, 28, 47, 912404, tzinfo=datetime.timezone.utc), 'scene-0301', 'samples/CAM_FRONT/n008-2018-08-31-11-19-57-0400__CAM_FRONT__1535729327912404.jpg'), ('1b2ffdc364c0402dad9decd6290fbb47', datetime.datetime(2018, 8, 31, 8, 28, 48, 412404, tzinfo=datetime.timezone.utc), 'scene-0301', 'samples/CAM_FRONT/n008-2018-08-31-11-19-57-0400__CAM_FRONT__1535729328412404.jpg'), ('1b2ffdc364c0402dad9decd6290fbb47', datetime.datetime(2018, 8, 31, 8, 28, 48, 912404, tzinfo=datetime.timezone.utc), 'scene-0301', 'samples/CAM_FRONT/n008-2018-08-31-11-19-57-0400__CAM_FRONT__1535729328912404.jpg'), ('1b2ffdc364c0402dad9decd6290fbb47', datetime.datetime(2018, 8, 31, 8, 28, 49, 412404, tzinfo=datetime.timezone.utc), 'scene-0301', 'samples/CAM_FRONT/n008-2018-08-31-11-19-57-0400__CAM_FRONT__1535729329412404.jpg'), ('1b2ffdc364c0402dad9decd6290fbb47', datetime.datetime(2018, 8, 31, 8, 28, 49, 912795, tzinfo=datetime.timezone.utc), 'scene-0301', 'samples/CAM_FRONT/n008-2018-08-31-11-19-57-0400__CAM_FRONT__1535729329912795.jpg'), ('1b2ffdc364c0402dad9decd6290fbb47', datetime.datetime(2018, 8, 31, 8, 28, 50, 362404, tzinfo=datetime.timezone.utc), 'scene-0301', 'samples/CAM_FRONT/n008-2018-08-31-11-19-57-0400__CAM_FRONT__1535729330362404.jpg'), ('1b2ffdc364c0402dad9decd6290fbb47', datetime.datetime(2018, 8, 31, 8, 28, 52, 362404, tzinfo=datetime.timezone.utc), 'scene-0301', 'samples/CAM_FRONT/n008-2018-08-31-11-19-57-0400__CAM_FRONT__1535729332362404.jpg'), ('b3c3434187e7432c9b904a8607a220da', datetime.datetime(2018, 8, 31, 8, 28, 52, 362404, tzinfo=datetime.timezone.utc), 'scene-0301', 'samples/CAM_FRONT/n008-2018-08-31-11-19-57-0400__CAM_FRONT__1535729332362404.jpg'), ('1b2ffdc364c0402dad9decd6290fbb47', datetime.datetime(2018, 8, 31, 8, 28, 52, 862404, tzinfo=datetime.timezone.utc), 'scene-0301', 'samples/CAM_FRONT/n008-2018-08-31-11-19-57-0400__CAM_FRONT__1535729332862404.jpg'), ('b3c3434187e7432c9b904a8607a220da', datetime.datetime(2018, 8, 31, 8, 28, 52, 862404, tzinfo=datetime.timezone.utc), 'scene-0301', 'samples/CAM_FRONT/n008-2018-08-31-11-19-57-0400__CAM_FRONT__1535729332862404.jpg'), ('1b2ffdc364c0402dad9decd6290fbb47', datetime.datetime(2018, 8, 31, 8, 28, 53, 362404, tzinfo=datetime.timezone.utc), 'scene-0301', 'samples/CAM_FRONT/n008-2018-08-31-11-19-57-0400__CAM_FRONT__1535729333362404.jpg'), ('b3c3434187e7432c9b904a8607a220da', datetime.datetime(2018, 8, 31, 8, 28, 53, 362404, tzinfo=datetime.timezone.utc), 'scene-0301', 'samples/CAM_FRONT/n008-2018-08-31-11-19-57-0400__CAM_FRONT__1535729333362404.jpg'), ('1b2ffdc364c0402dad9decd6290fbb47', datetime.datetime(2018, 8, 31, 8, 28, 53, 912404, tzinfo=datetime.timezone.utc), 'scene-0301', 'samples/CAM_FRONT/n008-2018-08-31-11-19-57-0400__CAM_FRONT__1535729333912404.jpg'), ('b3c3434187e7432c9b904a8607a220da', datetime.datetime(2018, 8, 31, 8, 28, 53, 912404, tzinfo=datetime.timezone.utc), 'scene-0301', 'samples/CAM_FRONT/n008-2018-08-31-11-19-57-0400__CAM_FRONT__1535729333912404.jpg'), ('1b2ffdc364c0402dad9decd6290fbb47', datetime.datetime(2018, 8, 31, 8, 28, 54, 412404, tzinfo=datetime.timezone.utc), 'scene-0301', 'samples/CAM_FRONT/n008-2018-08-31-11-19-57-0400__CAM_FRONT__1535729334412404.jpg'), ('b3c3434187e7432c9b904a8607a220da', datetime.datetime(2018, 8, 31, 8, 28, 54, 412404, tzinfo=datetime.timezone.utc), 'scene-0301', 'samples/CAM_FRONT/n008-2018-08-31-11-19-57-0400__CAM_FRONT__1535729334412404.jpg'), ('c7050c05a85f43ef8526be903f30d083', datetime.datetime(2018, 8, 1, 12, 26, 32, 862404, tzinfo=datetime.timezone.utc), 'scene-0102', 'samples/CAM_FRONT/n008-2018-08-01-15-16-36-0400__CAM_FRONT__1533151592862404.jpg'), ('0419cfbf72d4436fa2cf3dddcbe2d201', datetime.datetime(2018, 8, 1, 12, 26, 32, 862404, tzinfo=datetime.timezone.utc), 'scene-0102', 'samples/CAM_FRONT/n008-2018-08-01-15-16-36-0400__CAM_FRONT__1533151592862404.jpg'), ('bbc92c236ffe43e0b5f84ad3e195b935', datetime.datetime(2018, 8, 1, 12, 26, 32, 862404, tzinfo=datetime.timezone.utc), 'scene-0102', 'samples/CAM_FRONT/n008-2018-08-01-15-16-36-0400__CAM_FRONT__1533151592862404.jpg'), ('81b14369aa5b4f8e841f7b8ad2a6b4ea', datetime.datetime(2018, 8, 1, 12, 26, 32, 862404, tzinfo=datetime.timezone.utc), 'scene-0102', 'samples/CAM_FRONT/n008-2018-08-01-15-16-36-0400__CAM_FRONT__1533151592862404.jpg'), ('c7050c05a85f43ef8526be903f30d083', datetime.datetime(2018, 8, 1, 12, 26, 33, 362404, tzinfo=datetime.timezone.utc), 'scene-0102', 'samples/CAM_FRONT/n008-2018-08-01-15-16-36-0400__CAM_FRONT__1533151593362404.jpg'), ('0419cfbf72d4436fa2cf3dddcbe2d201', datetime.datetime(2018, 8, 1, 12, 26, 33, 362404, tzinfo=datetime.timezone.utc), 'scene-0102', 'samples/CAM_FRONT/n008-2018-08-01-15-16-36-0400__CAM_FRONT__1533151593362404.jpg'), ('bbc92c236ffe43e0b5f84ad3e195b935', datetime.datetime(2018, 8, 1, 12, 26, 33, 362404, tzinfo=datetime.timezone.utc), 'scene-0102', 'samples/CAM_FRONT/n008-2018-08-01-15-16-36-0400__CAM_FRONT__1533151593362404.jpg'), ('49ef8a7c3ffa471590d11c9a356b3f85', datetime.datetime(2018, 8, 1, 12, 26, 33, 362404, tzinfo=datetime.timezone.utc), 'scene-0102', 'samples/CAM_FRONT/n008-2018-08-01-15-16-36-0400__CAM_FRONT__1533151593362404.jpg'), ('81b14369aa5b4f8e841f7b8ad2a6b4ea', datetime.datetime(2018, 8, 1, 12, 26, 33, 362404, tzinfo=datetime.timezone.utc), 'scene-0102', 'samples/CAM_FRONT/n008-2018-08-01-15-16-36-0400__CAM_FRONT__1533151593362404.jpg'), ('a79d5443b4a94dabb849d6e2ad858982', datetime.datetime(2018, 8, 1, 12, 26, 39, 862404, tzinfo=datetime.timezone.utc), 'scene-0102', 'samples/CAM_FRONT/n008-2018-08-01-15-16-36-0400__CAM_FRONT__1533151599862404.jpg'), ('cea86fa542bc48b5a7436b101d5a5db6', datetime.datetime(2018, 8, 1, 12, 26, 39, 862404, tzinfo=datetime.timezone.utc), 'scene-0102', 'samples/CAM_FRONT/n008-2018-08-01-15-16-36-0400__CAM_FRONT__1533151599862404.jpg'), ('7244ef2d7394451abfeb57bb33de8adb', datetime.datetime(2018, 9, 18, 12, 32, 23, 862404, tzinfo=datetime.timezone.utc), 'scene-0813', 'samples/CAM_FRONT/n008-2018-09-18-15-26-58-0400__CAM_FRONT__1537299143862404.jpg'), ('7244ef2d7394451abfeb57bb33de8adb', datetime.datetime(2018, 9, 18, 12, 32, 24, 362404, tzinfo=datetime.timezone.utc), 'scene-0813', 'samples/CAM_FRONT/n008-2018-09-18-15-26-58-0400__CAM_FRONT__1537299144362404.jpg'), ('7244ef2d7394451abfeb57bb33de8adb', datetime.datetime(2018, 9, 18, 12, 32, 24, 862404, tzinfo=datetime.timezone.utc), 'scene-0813', 'samples/CAM_FRONT/n008-2018-09-18-15-26-58-0400__CAM_FRONT__1537299144862404.jpg'), ('7244ef2d7394451abfeb57bb33de8adb', datetime.datetime(2018, 9, 18, 12, 32, 25, 362404, tzinfo=datetime.timezone.utc), 'scene-0813', 'samples/CAM_FRONT/n008-2018-09-18-15-26-58-0400__CAM_FRONT__1537299145362404.jpg'), ('7244ef2d7394451abfeb57bb33de8adb', datetime.datetime(2018, 9, 18, 12, 32, 25, 862404, tzinfo=datetime.timezone.utc), 'scene-0813', 'samples/CAM_FRONT/n008-2018-09-18-15-26-58-0400__CAM_FRONT__1537299145862404.jpg'), ('7244ef2d7394451abfeb57bb33de8adb', datetime.datetime(2018, 9, 18, 12, 32, 26, 362404, tzinfo=datetime.timezone.utc), 'scene-0813', 'samples/CAM_FRONT/n008-2018-09-18-15-26-58-0400__CAM_FRONT__1537299146362404.jpg'), ('7244ef2d7394451abfeb57bb33de8adb', datetime.datetime(2018, 9, 18, 12, 32, 26, 862404, tzinfo=datetime.timezone.utc), 'scene-0813', 'samples/CAM_FRONT/n008-2018-09-18-15-26-58-0400__CAM_FRONT__1537299146862404.jpg'), ('7244ef2d7394451abfeb57bb33de8adb', datetime.datetime(2018, 9, 18, 12, 32, 27, 362404, tzinfo=datetime.timezone.utc), 'scene-0813', 'samples/CAM_FRONT/n008-2018-09-18-15-26-58-0400__CAM_FRONT__1537299147362404.jpg'), ('7244ef2d7394451abfeb57bb33de8adb', datetime.datetime(2018, 9, 18, 12, 32, 27, 862404, tzinfo=datetime.timezone.utc), 'scene-0813', 'samples/CAM_FRONT/n008-2018-09-18-15-26-58-0400__CAM_FRONT__1537299147862404.jpg'), ('7244ef2d7394451abfeb57bb33de8adb', datetime.datetime(2018, 9, 18, 12, 32, 28, 362404, tzinfo=datetime.timezone.utc), 'scene-0813', 'samples/CAM_FRONT/n008-2018-09-18-15-26-58-0400__CAM_FRONT__1537299148362404.jpg'), ('7244ef2d7394451abfeb57bb33de8adb', datetime.datetime(2018, 9, 18, 12, 32, 28, 862404, tzinfo=datetime.timezone.utc), 'scene-0813', 'samples/CAM_FRONT/n008-2018-09-18-15-26-58-0400__CAM_FRONT__1537299148862404.jpg'), ('7244ef2d7394451abfeb57bb33de8adb', datetime.datetime(2018, 9, 18, 12, 32, 29, 412404, tzinfo=datetime.timezone.utc), 'scene-0813', 'samples/CAM_FRONT/n008-2018-09-18-15-26-58-0400__CAM_FRONT__1537299149412404.jpg'), ('45b47fcf8c9b4c17999f4ff3feadca92', datetime.datetime(2018, 9, 18, 10, 2, 48, 362404, tzinfo=datetime.timezone.utc), 'scene-0475', 'samples/CAM_FRONT/n008-2018-09-18-12-53-31-0400__CAM_FRONT__1537290168362404.jpg'), ('d93cc32d1b0d4dad95bfb9e146580c19', datetime.datetime(2018, 9, 18, 10, 2, 48, 362404, tzinfo=datetime.timezone.utc), 'scene-0475', 'samples/CAM_FRONT/n008-2018-09-18-12-53-31-0400__CAM_FRONT__1537290168362404.jpg'), ('83a6cc15209345d5a2987c901b753c25', datetime.datetime(2018, 9, 18, 10, 2, 48, 362404, tzinfo=datetime.timezone.utc), 'scene-0475', 'samples/CAM_FRONT/n008-2018-09-18-12-53-31-0400__CAM_FRONT__1537290168362404.jpg'), ('45b47fcf8c9b4c17999f4ff3feadca92', datetime.datetime(2018, 9, 18, 10, 2, 48, 862404, tzinfo=datetime.timezone.utc), 'scene-0475', 'samples/CAM_FRONT/n008-2018-09-18-12-53-31-0400__CAM_FRONT__1537290168862404.jpg'), ('d93cc32d1b0d4dad95bfb9e146580c19', datetime.datetime(2018, 9, 18, 10, 2, 48, 862404, tzinfo=datetime.timezone.utc), 'scene-0475', 'samples/CAM_FRONT/n008-2018-09-18-12-53-31-0400__CAM_FRONT__1537290168862404.jpg'), ('83a6cc15209345d5a2987c901b753c25', datetime.datetime(2018, 9, 18, 10, 2, 48, 862404, tzinfo=datetime.timezone.utc), 'scene-0475', 'samples/CAM_FRONT/n008-2018-09-18-12-53-31-0400__CAM_FRONT__1537290168862404.jpg'), ('2fe325de43054797a1b6c92e4bbac3bb', datetime.datetime(2018, 9, 18, 12, 33, 49, 362404, tzinfo=datetime.timezone.utc), 'scene-0816', 'samples/CAM_FRONT/n008-2018-09-18-15-26-58-0400__CAM_FRONT__1537299229362404.jpg'), ('fad9ff01047349a595412ba5be48ad41', datetime.datetime(2018, 9, 18, 12, 33, 59, 112404, tzinfo=datetime.timezone.utc), 'scene-0816', 'samples/CAM_FRONT/n008-2018-09-18-15-26-58-0400__CAM_FRONT__1537299239112404.jpg'), ('fad9ff01047349a595412ba5be48ad41', datetime.datetime(2018, 9, 18, 12, 34, 0, 112404, tzinfo=datetime.timezone.utc), 'scene-0816', 'samples/CAM_FRONT/n008-2018-09-18-15-26-58-0400__CAM_FRONT__1537299240112404.jpg'), ('33b17ff65a144c4fbcf976bfd37b03e3', datetime.datetime(2018, 8, 31, 8, 28, 1, 512404, tzinfo=datetime.timezone.utc), 'scene-0299', 'samples/CAM_FRONT/n008-2018-08-31-11-19-57-0400__CAM_FRONT__1535729281512404.jpg'), ('1fcd6a77d18e4a579e905e29f314e8b7', datetime.datetime(2018, 8, 31, 9, 0, 36, 162404, tzinfo=datetime.timezone.utc), 'scene-0392', 'samples/CAM_FRONT/n008-2018-08-31-11-56-46-0400__CAM_FRONT__1535731236162404.jpg'), ('1fcd6a77d18e4a579e905e29f314e8b7', datetime.datetime(2018, 8, 31, 9, 0, 36, 662404, tzinfo=datetime.timezone.utc), 'scene-0392', 'samples/CAM_FRONT/n008-2018-08-31-11-56-46-0400__CAM_FRONT__1535731236662404.jpg'), ('1fcd6a77d18e4a579e905e29f314e8b7', datetime.datetime(2018, 8, 31, 9, 0, 37, 112404, tzinfo=datetime.timezone.utc), 'scene-0392', 'samples/CAM_FRONT/n008-2018-08-31-11-56-46-0400__CAM_FRONT__1535731237112404.jpg'), ('1fcd6a77d18e4a579e905e29f314e8b7', datetime.datetime(2018, 8, 31, 9, 0, 37, 612404, tzinfo=datetime.timezone.utc), 'scene-0392', 'samples/CAM_FRONT/n008-2018-08-31-11-56-46-0400__CAM_FRONT__1535731237612404.jpg'), ('c6e303c0a71b49d99626a80fd0b4e827', datetime.datetime(2018, 5, 21, 8, 11, 11, 412465, tzinfo=datetime.timezone.utc), 'scene-0168', 'samples/CAM_FRONT/n008-2018-05-21-11-06-59-0400__CAM_FRONT__1526915471412465.jpg'), ('baae5f7bd0b8432eac525991a9cc9b69', datetime.datetime(2018, 8, 30, 12, 20, 5, 162404, tzinfo=datetime.timezone.utc), 'scene-0746', 'samples/CAM_FRONT/n008-2018-08-30-15-16-55-0400__CAM_FRONT__1535656805162404.jpg'), ('baae5f7bd0b8432eac525991a9cc9b69', datetime.datetime(2018, 8, 30, 12, 20, 5, 662415, tzinfo=datetime.timezone.utc), 'scene-0746', 'samples/CAM_FRONT/n008-2018-08-30-15-16-55-0400__CAM_FRONT__1535656805662415.jpg'), ('9fff49bd2ddb4719ad65a60d9ae6df63', datetime.datetime(2018, 8, 30, 12, 20, 6, 162404, tzinfo=datetime.timezone.utc), 'scene-0746', 'samples/CAM_FRONT/n008-2018-08-30-15-16-55-0400__CAM_FRONT__1535656806162404.jpg'), ('baae5f7bd0b8432eac525991a9cc9b69', datetime.datetime(2018, 8, 30, 12, 20, 6, 162404, tzinfo=datetime.timezone.utc), 'scene-0746', 'samples/CAM_FRONT/n008-2018-08-30-15-16-55-0400__CAM_FRONT__1535656806162404.jpg'), ('9fff49bd2ddb4719ad65a60d9ae6df63', datetime.datetime(2018, 8, 30, 12, 20, 6, 612404, tzinfo=datetime.timezone.utc), 'scene-0746', 'samples/CAM_FRONT/n008-2018-08-30-15-16-55-0400__CAM_FRONT__1535656806612404.jpg'), ('baae5f7bd0b8432eac525991a9cc9b69', datetime.datetime(2018, 8, 30, 12, 20, 6, 612404, tzinfo=datetime.timezone.utc), 'scene-0746', 'samples/CAM_FRONT/n008-2018-08-30-15-16-55-0400__CAM_FRONT__1535656806612404.jpg'), ('9fff49bd2ddb4719ad65a60d9ae6df63', datetime.datetime(2018, 8, 30, 12, 20, 7, 162404, tzinfo=datetime.timezone.utc), 'scene-0746', 'samples/CAM_FRONT/n008-2018-08-30-15-16-55-0400__CAM_FRONT__1535656807162404.jpg'), ('9fff49bd2ddb4719ad65a60d9ae6df63', datetime.datetime(2018, 8, 30, 12, 20, 7, 662404, tzinfo=datetime.timezone.utc), 'scene-0746', 'samples/CAM_FRONT/n008-2018-08-30-15-16-55-0400__CAM_FRONT__1535656807662404.jpg'), ('9fff49bd2ddb4719ad65a60d9ae6df63', datetime.datetime(2018, 8, 30, 12, 20, 8, 162404, tzinfo=datetime.timezone.utc), 'scene-0746', 'samples/CAM_FRONT/n008-2018-08-30-15-16-55-0400__CAM_FRONT__1535656808162404.jpg'), ('9fff49bd2ddb4719ad65a60d9ae6df63', datetime.datetime(2018, 8, 30, 12, 20, 8, 662404, tzinfo=datetime.timezone.utc), 'scene-0746', 'samples/CAM_FRONT/n008-2018-08-30-15-16-55-0400__CAM_FRONT__1535656808662404.jpg'), ('45d59b706b6d413bb9cf0ce9d97a9f98', datetime.datetime(2018, 8, 21, 9, 3, 0, 862404, tzinfo=datetime.timezone.utc), 'scene-0250', 'samples/CAM_FRONT/n008-2018-08-21-11-53-44-0400__CAM_FRONT__1534867380862404.jpg'), ('85efa4182f5d4d5abbf3a650270a7e45', datetime.datetime(2018, 8, 6, 12, 21, 9, 662404, tzinfo=datetime.timezone.utc), 'scene-0262', 'samples/CAM_FRONT/n008-2018-08-06-15-06-32-0400__CAM_FRONT__1533583269662404.jpg'), ('85efa4182f5d4d5abbf3a650270a7e45', datetime.datetime(2018, 8, 6, 12, 21, 10, 662404, tzinfo=datetime.timezone.utc), 'scene-0262', 'samples/CAM_FRONT/n008-2018-08-06-15-06-32-0400__CAM_FRONT__1533583270662404.jpg')]\n",
      "20.307298183441162\n"
     ]
    }
   ],
   "source": [
    "### Prepare the world for queries ###\n",
    "from apperception.world import empty_world\n",
    "# directly ingest the mini dataset and boston roadnetwork if needed\n",
    "# from apperception.database import database\n",
    "# database.reset()\n",
    "# from benchmarks.ingest_scenic_data import ingest_data\n",
    "# ingest_data()\n",
    "\n",
    "name = 'ScenicWorld' # world name\n",
    "world = empty_world(name=name)\n",
    "\n",
    "### Query ###\n",
    "from apperception.utils import F\n",
    "# world = world.filter(lambda obj: obj.object_type == 'human.pedestrian.adult' or\n",
    "#                                  obj.object_type == 'human.pedestrian.wheelchair' or\n",
    "#                                  obj.object_type == 'human.pedestrian.personal_mobility' or\n",
    "#                                  obj.object_type == 'human.pedestrian.construction_worker' or\n",
    "#                                  obj.object_type == 'human.pedestrian.police_officer' or\n",
    "#                                  obj.object_type == 'human.pedestrian.child' or\n",
    "#                                  obj.object_type == 'human.pedestrian.stroller')\n",
    "def pred(obj1, cam):\n",
    "    return (\n",
    "        obj1.heading < 180 and obj1.heading > -180 and\n",
    "        F.contained(cam.ego, F.road_segment(\"road\"), cam.timestamp) and\n",
    "        (F.contained(obj1.traj, F.road_segment(\"road\"), cam.timestamp) or\n",
    "            F.contained(obj1.traj, F.road_segment(\"intersection\"))) and\n",
    "        (F.facing_relative(obj1, cam.ego, cam.timestamp) < -70 or\n",
    "            F.facing_relative(obj1, cam.ego, cam.timestamp) >= 70) and\n",
    "        F.facing_relative(cam.ego, F.road_direction(cam.ego, cam.timestamp), cam.timestamp) >= -15 and\n",
    "        F.facing_relative(cam.ego, F.road_direction(cam.ego, cam.timestamp), cam.timestamp) <= 15 and\n",
    "        F.distance(cam.ego, obj1, cam.timestamp) < 50 and\n",
    "        F.viewAngle(obj1, cam.ego, cam.timestamp) < 135\n",
    "    )\n",
    "\n",
    "# With road direction\n",
    "world = world.filter(\"lambda obj1, cam: \" +\n",
    "        \"F.like(obj1.object_type, 'human.pedestrian%') and \" +\n",
    "        \"F.contained(cam.ego, F.road_segment('road')) and \" +\n",
    "        \"(F.contained(obj1.traj, F.road_segment('lane'), cam.timestamp) or \" + \n",
    "            \"F.contained(obj1.traj, F.road_segment('intersection'), cam.timestamp)) and \" +\n",
    "        \"(F.facing_relative(obj1, cam.ego, cam.timestamp) < -70 or \" + \n",
    "            \"F.facing_relative(obj1, cam.ego, cam.timestamp) >= 70) and \" + \n",
    "        \"F.facing_relative(cam.ego, F.road_direction(cam.ego, cam.timestamp, cam.ego), cam.timestamp) >= -15 and \" +\n",
    "        \"F.facing_relative(cam.ego, F.road_direction(cam.ego, cam.timestamp, cam.ego), cam.timestamp) <= 15 and \" +\n",
    "        \"F.distance(cam.ego, obj1, cam.timestamp) < 50 and \" +\n",
    "        \"F.view_angle(obj1, cam.ego, cam.timestamp) < 67.5\")\n",
    "\n",
    "start = time.time()\n",
    "# keys = world.get_traj_key()\n",
    "id_time_camId_filename = world.get_id_time_camId_filename(num_joined_tables=1)\n",
    "\n",
    "end = time.time()\n",
    "print(format(end-start))"
   ]
  },
  {
   "cell_type": "code",
   "execution_count": 4,
   "id": "36cdfb3a",
   "metadata": {},
   "outputs": [],
   "source": [
    "resultImages = dict() # maping from image -> (itemId, timestamp, camId) that it was found at\n",
    "for result in id_time_camId_filename:\n",
    "    itemId, timestamp, camId, filename = result\n",
    "    filename = filename.split(\"/\")[-1] # use split so that prefix path is not included in filename\n",
    "    resultImages[filename] = (itemId, timestamp, camId)"
   ]
  },
  {
   "cell_type": "code",
   "execution_count": 5,
   "id": "0f8a64ad-189b-40cd-8e65-fd973b05a818",
   "metadata": {},
   "outputs": [],
   "source": [
    "from matplotlib import pyplot as plt\n",
    "import matplotlib.image as mpimg\n",
    "%matplotlib inline\n",
    "import os\n",
    "import random\n",
    "\n",
    "experiment_data_dir =  \"data/nuscenes/experiment_data\"\n",
    "# experiment_data_dir = '/work/apperception/data/nuScenes/full-dataset-v1.0/Trainval/experiment_data'\n",
    "def show_images(images, sample=None):\n",
    "    if sample is not None:\n",
    "        images = [i for i in images]\n",
    "        random.shuffle(images)\n",
    "        images = images[:sample]\n",
    "    \n",
    "    plt.figure(figsize=(60,30))\n",
    "    columns = 3\n",
    "\n",
    "    for i, image in enumerate(images):\n",
    "        print(\"image\", image)\n",
    "        img = mpimg.imread(os.path.join(experiment_data_dir, image))\n",
    "        print(\"loaded\")\n",
    "        plt.subplot(len(images) // columns + 1, columns, i + 1)\n",
    "        plt.imshow(img)"
   ]
  },
  {
   "cell_type": "code",
   "execution_count": 6,
   "id": "9c6eae8c-f909-4a93-a25d-c875fec61b1b",
   "metadata": {},
   "outputs": [
    {
     "name": "stdout",
     "output_type": "stream",
     "text": [
      "image n008-2018-09-18-15-26-58-0400__CAM_FRONT__1537299148862404.jpg\n"
     ]
    },
    {
     "ename": "FileNotFoundError",
     "evalue": "[Errno 2] No such file or directory: 'data/nuscenes/experiment_data/n008-2018-09-18-15-26-58-0400__CAM_FRONT__1537299148862404.jpg'",
     "output_type": "error",
     "traceback": [
      "\u001b[0;31m---------------------------------------------------------------------------\u001b[0m",
      "\u001b[0;31mFileNotFoundError\u001b[0m                         Traceback (most recent call last)",
      "Input \u001b[0;32mIn [6]\u001b[0m, in \u001b[0;36m<cell line: 1>\u001b[0;34m()\u001b[0m\n\u001b[0;32m----> 1\u001b[0m \u001b[43mshow_images\u001b[49m\u001b[43m(\u001b[49m\u001b[38;5;28;43mlist\u001b[39;49m\u001b[43m(\u001b[49m\u001b[43mresultImages\u001b[49m\u001b[38;5;241;43m.\u001b[39;49m\u001b[43mkeys\u001b[49m\u001b[43m(\u001b[49m\u001b[43m)\u001b[49m\u001b[43m)\u001b[49m\u001b[43m,\u001b[49m\u001b[43m \u001b[49m\u001b[43msample\u001b[49m\u001b[38;5;241;43m=\u001b[39;49m\u001b[38;5;241;43m10\u001b[39;49m\u001b[43m)\u001b[49m\n",
      "Input \u001b[0;32mIn [5]\u001b[0m, in \u001b[0;36mshow_images\u001b[0;34m(images, sample)\u001b[0m\n\u001b[1;32m     18\u001b[0m \u001b[38;5;28;01mfor\u001b[39;00m i, image \u001b[38;5;129;01min\u001b[39;00m \u001b[38;5;28menumerate\u001b[39m(images):\n\u001b[1;32m     19\u001b[0m     \u001b[38;5;28mprint\u001b[39m(\u001b[38;5;124m\"\u001b[39m\u001b[38;5;124mimage\u001b[39m\u001b[38;5;124m\"\u001b[39m, image)\n\u001b[0;32m---> 20\u001b[0m     img \u001b[38;5;241m=\u001b[39m \u001b[43mmpimg\u001b[49m\u001b[38;5;241;43m.\u001b[39;49m\u001b[43mimread\u001b[49m\u001b[43m(\u001b[49m\u001b[43mos\u001b[49m\u001b[38;5;241;43m.\u001b[39;49m\u001b[43mpath\u001b[49m\u001b[38;5;241;43m.\u001b[39;49m\u001b[43mjoin\u001b[49m\u001b[43m(\u001b[49m\u001b[43mexperiment_data_dir\u001b[49m\u001b[43m,\u001b[49m\u001b[43m \u001b[49m\u001b[43mimage\u001b[49m\u001b[43m)\u001b[49m\u001b[43m)\u001b[49m\n\u001b[1;32m     21\u001b[0m     \u001b[38;5;28mprint\u001b[39m(\u001b[38;5;124m\"\u001b[39m\u001b[38;5;124mloaded\u001b[39m\u001b[38;5;124m\"\u001b[39m)\n\u001b[1;32m     22\u001b[0m     plt\u001b[38;5;241m.\u001b[39msubplot(\u001b[38;5;28mlen\u001b[39m(images) \u001b[38;5;241m/\u001b[39m\u001b[38;5;241m/\u001b[39m columns \u001b[38;5;241m+\u001b[39m \u001b[38;5;241m1\u001b[39m, columns, i \u001b[38;5;241m+\u001b[39m \u001b[38;5;241m1\u001b[39m)\n",
      "File \u001b[0;32m~/.pyenv/versions/3.8.3/lib/python3.8/site-packages/matplotlib/image.py:1560\u001b[0m, in \u001b[0;36mimread\u001b[0;34m(fname, format)\u001b[0m\n\u001b[1;32m   1558\u001b[0m                 response \u001b[38;5;241m=\u001b[39m io\u001b[38;5;241m.\u001b[39mBytesIO(response\u001b[38;5;241m.\u001b[39mread())\n\u001b[1;32m   1559\u001b[0m             \u001b[38;5;28;01mreturn\u001b[39;00m imread(response, \u001b[38;5;28mformat\u001b[39m\u001b[38;5;241m=\u001b[39mext)\n\u001b[0;32m-> 1560\u001b[0m \u001b[38;5;28;01mwith\u001b[39;00m \u001b[43mimg_open\u001b[49m\u001b[43m(\u001b[49m\u001b[43mfname\u001b[49m\u001b[43m)\u001b[49m \u001b[38;5;28;01mas\u001b[39;00m image:\n\u001b[1;32m   1561\u001b[0m     \u001b[38;5;28;01mreturn\u001b[39;00m (_pil_png_to_float_array(image)\n\u001b[1;32m   1562\u001b[0m             \u001b[38;5;28;01mif\u001b[39;00m \u001b[38;5;28misinstance\u001b[39m(image, PIL\u001b[38;5;241m.\u001b[39mPngImagePlugin\u001b[38;5;241m.\u001b[39mPngImageFile) \u001b[38;5;28;01melse\u001b[39;00m\n\u001b[1;32m   1563\u001b[0m             pil_to_array(image))\n",
      "File \u001b[0;32m~/.pyenv/versions/3.8.3/lib/python3.8/site-packages/PIL/Image.py:3068\u001b[0m, in \u001b[0;36mopen\u001b[0;34m(fp, mode, formats)\u001b[0m\n\u001b[1;32m   3065\u001b[0m     filename \u001b[38;5;241m=\u001b[39m fp\n\u001b[1;32m   3067\u001b[0m \u001b[38;5;28;01mif\u001b[39;00m filename:\n\u001b[0;32m-> 3068\u001b[0m     fp \u001b[38;5;241m=\u001b[39m \u001b[43mbuiltins\u001b[49m\u001b[38;5;241;43m.\u001b[39;49m\u001b[43mopen\u001b[49m\u001b[43m(\u001b[49m\u001b[43mfilename\u001b[49m\u001b[43m,\u001b[49m\u001b[43m \u001b[49m\u001b[38;5;124;43m\"\u001b[39;49m\u001b[38;5;124;43mrb\u001b[39;49m\u001b[38;5;124;43m\"\u001b[39;49m\u001b[43m)\u001b[49m\n\u001b[1;32m   3069\u001b[0m     exclusive_fp \u001b[38;5;241m=\u001b[39m \u001b[38;5;28;01mTrue\u001b[39;00m\n\u001b[1;32m   3071\u001b[0m \u001b[38;5;28;01mtry\u001b[39;00m:\n",
      "\u001b[0;31mFileNotFoundError\u001b[0m: [Errno 2] No such file or directory: 'data/nuscenes/experiment_data/n008-2018-09-18-15-26-58-0400__CAM_FRONT__1537299148862404.jpg'"
     ]
    },
    {
     "data": {
      "text/plain": [
       "<Figure size 4320x2160 with 0 Axes>"
      ]
     },
     "metadata": {},
     "output_type": "display_data"
    }
   ],
   "source": [
    "show_images(list(resultImages.keys()), sample=10)"
   ]
  },
  {
   "cell_type": "code",
   "execution_count": null,
   "id": "6e03f1c3",
   "metadata": {},
   "outputs": [],
   "source": [
    "expected_imgs = ['n008-2018-05-21-11-06-59-0400__CAM_FRONT__1526915471412465.jpg', 'n008-2018-07-27-12-07-38-0400__CAM_FRONT__1532707917112404.jpg', 'n008-2018-08-27-11-48-51-0400__CAM_FRONT__1535385153162404.jpg', 'n008-2018-08-27-11-48-51-0400__CAM_FRONT__1535385153662404.jpg', 'n008-2018-08-27-11-48-51-0400__CAM_FRONT__1535385154162404.jpg', 'n008-2018-08-27-11-48-51-0400__CAM_FRONT__1535385154662404.jpg', 'n008-2018-08-27-11-48-51-0400__CAM_FRONT__1535385155162404.jpg', 'n008-2018-08-27-11-48-51-0400__CAM_FRONT__1535385158662404.jpg', 'n008-2018-08-27-11-48-51-0400__CAM_FRONT__1535385159162404.jpg', 'n008-2018-08-27-11-48-51-0400__CAM_FRONT__1535385159662404.jpg', 'n008-2018-08-30-15-16-55-0400__CAM_FRONT__1535656805162404.jpg', 'n008-2018-08-30-15-16-55-0400__CAM_FRONT__1535656805662415.jpg', 'n008-2018-08-30-15-16-55-0400__CAM_FRONT__1535656806162404.jpg', 'n008-2018-08-30-15-16-55-0400__CAM_FRONT__1535656806612404.jpg', 'n008-2018-08-30-15-16-55-0400__CAM_FRONT__1535656807162404.jpg', 'n008-2018-08-30-15-16-55-0400__CAM_FRONT__1535656807662404.jpg', 'n008-2018-08-30-15-16-55-0400__CAM_FRONT__1535656808162404.jpg', 'n008-2018-08-30-15-52-26-0400__CAM_FRONT__1535659404362404.jpg', 'n008-2018-08-30-15-52-26-0400__CAM_FRONT__1535659404762404.jpg', 'n008-2018-08-30-15-52-26-0400__CAM_FRONT__1535659405262404.jpg', 'n008-2018-08-30-15-52-26-0400__CAM_FRONT__1535659405762404.jpg', 'n008-2018-08-30-15-52-26-0400__CAM_FRONT__1535659406262404.jpg', 'n008-2018-08-31-11-19-57-0400__CAM_FRONT__1535728830362404.jpg', 'n008-2018-08-31-11-19-57-0400__CAM_FRONT__1535729326412404.jpg', 'n008-2018-08-31-11-19-57-0400__CAM_FRONT__1535729326912404.jpg', 'n008-2018-08-31-11-19-57-0400__CAM_FRONT__1535729327412404.jpg', 'n008-2018-08-31-11-19-57-0400__CAM_FRONT__1535729327912404.jpg', 'n008-2018-08-31-11-19-57-0400__CAM_FRONT__1535729328412404.jpg', 'n008-2018-08-31-11-19-57-0400__CAM_FRONT__1535729328912404.jpg', 'n008-2018-08-31-11-19-57-0400__CAM_FRONT__1535729329412404.jpg', 'n008-2018-08-31-11-19-57-0400__CAM_FRONT__1535729329912795.jpg', 'n008-2018-08-31-11-19-57-0400__CAM_FRONT__1535729330362404.jpg', 'n008-2018-08-31-11-37-23-0400__CAM_FRONT__1535730293412404.jpg', 'n008-2018-08-31-11-56-46-0400__CAM_FRONT__1535731236162404.jpg', 'n008-2018-08-31-11-56-46-0400__CAM_FRONT__1535731236662404.jpg', 'n008-2018-08-31-11-56-46-0400__CAM_FRONT__1535731237112404.jpg', 'n008-2018-08-31-11-56-46-0400__CAM_FRONT__1535731237612404.jpg', 'n008-2018-09-18-13-41-50-0400__CAM_FRONT__1537293291162404.jpg', 'n008-2018-09-18-13-41-50-0400__CAM_FRONT__1537293291662404.jpg', 'n008-2018-09-18-13-41-50-0400__CAM_FRONT__1537293292162404.jpg', 'n008-2018-09-18-13-41-50-0400__CAM_FRONT__1537293292662404.jpg', 'n008-2018-09-18-13-41-50-0400__CAM_FRONT__1537293293162404.jpg', 'n008-2018-09-18-13-41-50-0400__CAM_FRONT__1537293293662404.jpg', 'n008-2018-09-18-15-26-58-0400__CAM_FRONT__1537299143862404.jpg', 'n008-2018-09-18-15-26-58-0400__CAM_FRONT__1537299144362404.jpg', 'n008-2018-09-18-15-26-58-0400__CAM_FRONT__1537299144862404.jpg', 'n008-2018-09-18-15-26-58-0400__CAM_FRONT__1537299145362404.jpg', 'n008-2018-09-18-15-26-58-0400__CAM_FRONT__1537299145862404.jpg', 'n008-2018-09-18-15-26-58-0400__CAM_FRONT__1537299146362404.jpg', 'n008-2018-09-18-15-26-58-0400__CAM_FRONT__1537299146862404.jpg', 'n008-2018-09-18-15-26-58-0400__CAM_FRONT__1537299147362404.jpg', 'n008-2018-09-18-15-26-58-0400__CAM_FRONT__1537299147862404.jpg', 'n008-2018-09-18-15-26-58-0400__CAM_FRONT__1537299148362404.jpg', 'n008-2018-09-18-15-26-58-0400__CAM_FRONT__1537299148862404.jpg', 'n008-2018-09-18-15-26-58-0400__CAM_FRONT__1537299149412404.jpg', 'n008-2018-09-18-15-26-58-0400__CAM_FRONT__1537299229362404.jpg', 'n008-2018-09-18-15-26-58-0400__CAM_FRONT__1537299239112404.jpg', 'n008-2018-09-18-15-26-58-0400__CAM_FRONT__1537299240112404.jpg']"
   ]
  },
  {
   "cell_type": "code",
   "execution_count": null,
   "id": "b75b0d99-492d-4015-b2ad-0b04c37b30d0",
   "metadata": {},
   "outputs": [],
   "source": [
    "show_images(expected_imgs, sample=10)"
   ]
  },
  {
   "cell_type": "code",
   "execution_count": null,
   "id": "fee5fd3c",
   "metadata": {},
   "outputs": [],
   "source": [
    "missing = 0\n",
    "missing_images = []\n",
    "for expected_img in expected_imgs:\n",
    "    if expected_img not in resultImages.keys():\n",
    "        missing += 1\n",
    "        missing_images.append(expected_img)\n",
    "print(\"Percentage of expected results missing from query: \", missing, \"/\", len(expected_imgs), \"=\", 100 * missing / len(expected_imgs), \"%\")\n",
    "show_images(missing_images, sample=10)"
   ]
  },
  {
   "cell_type": "code",
   "execution_count": null,
   "id": "104623e9-7c09-4ff1-945c-53b11c7b8bf1",
   "metadata": {},
   "outputs": [],
   "source": [
    "extra = 0\n",
    "extra_images = {}\n",
    "for img in resultImages.keys():\n",
    "    if img not in expected_imgs:\n",
    "        extra += 1\n",
    "        extra_images[img] = resultImages[img]\n",
    "print(\"Percentage of images in query but not in expected results: \", extra, \"/\", len(resultImages.keys()), \"=\", 100 * extra / len(resultImages.keys()), \"%\")\n",
    "show_images(extra_images.keys(), sample=10)"
   ]
  },
  {
   "cell_type": "code",
   "execution_count": null,
   "id": "9a00375f",
   "metadata": {},
   "outputs": [],
   "source": [
    "######## Getting info about tthe extra images ########"
   ]
  },
  {
   "cell_type": "code",
   "execution_count": null,
   "id": "81fbbd79",
   "metadata": {},
   "outputs": [],
   "source": [
    "from apperception.database import database\n",
    "for img in extra_images:\n",
    "    itemId, timestamp, camId = extra_images[img]\n",
    "    prefix = \"samples/CAM_FRONT/\"\n",
    "    query = f\"SELECT \\'Cameras: \\', Cameras.filename, roadDirection(Cameras.egoTranslation, Cameras.timestamp, Cameras.egoHeading), Cameras.egoHeading, ST_X(Cameras.egoTranslation), ST_Y(Cameras.egoTranslation), ST_Z(Cameras.egoTranslation), \\'Pedestrian: \\', getX(table_0.trajCentroids, Cameras.timestamp), getY(table_0.trajCentroids, Cameras.timestamp), ST_Z(valueAtTimestamp(table_0.trajCentroids, Cameras.timestamp)), valueAtTimestamp(table_0.itemHeadings, Cameras.timestamp) FROM Item_General_Trajectory AS table_0, Cameras\" + \\\n",
    "                f\" WHERE Cameras.filename = \\'{prefix + img}\\' AND table_0.itemId = \\'{itemId}\\'\"\n",
    "    database.cursor.execute(query)\n",
    "    result = database.cursor.fetchall()\n",
    "    print(result)"
   ]
  },
  {
   "cell_type": "code",
   "execution_count": null,
   "id": "5bb14000",
   "metadata": {},
   "outputs": [],
   "source": [
    "######## Seeing what predicates are not being satisfied for missing images ########"
   ]
  },
  {
   "cell_type": "code",
   "execution_count": null,
   "id": "a0ffaaec-1cbe-48c3-8aa0-80982756c7c9",
   "metadata": {},
   "outputs": [],
   "source": [
    "# We assume for now that there is no problem with the commented out predicates, since they are relativley simple\n",
    "predicates = [\n",
    "    # \"(table_0.objectType LIKE 'human.pedestrian%')\",\n",
    "    \"contained(Cameras.egoTranslation, roadSegment('road'))\",\n",
    "    \"(contained(table_0.trajCentroids, roadSegment('road'), Cameras.timestamp) OR contained(table_0.trajCentroids, roadSegment('intersection'), Cameras.timestamp))\",\n",
    "    \"((facingRelative(table_0.itemHeadings, Cameras.egoHeading, Cameras.timestamp)<(-70)) OR (facingRelative(table_0.itemHeadings, Cameras.egoHeading, Cameras.timestamp)>=70))\",\n",
    "    \"(facingRelative(Cameras.egoHeading, roadDirection(Cameras.egoTranslation, Cameras.timestamp, Cameras.egoHeading), Cameras.timestamp)>=(-15))\",\n",
    "    \"(facingRelative(Cameras.egoHeading, roadDirection(Cameras.egoTranslation, Cameras.timestamp, Cameras.egoHeading), Cameras.timestamp)<=15)\",\n",
    "    # \"(distance(Cameras.egoTranslation, table_0.trajCentroids, Cameras.timestamp)<50)\",\n",
    "    # \"(viewAngle(table_0.trajCentroids, Cameras.egoHeading, Cameras.egoTranslation, Cameras.timestamp)<135)\"\n",
    "]"
   ]
  },
  {
   "cell_type": "code",
   "execution_count": null,
   "id": "85118369-323c-4ff2-9c32-aa43093a0159",
   "metadata": {},
   "outputs": [],
   "source": [
    "from apperception.database import database\n",
    "preds_missed = {}\n",
    "for img in missing_images:    \n",
    "    prefix = \"samples/CAM_FRONT/\"\n",
    "    query = f\"SELECT COUNT(*) FROM Item_General_Trajectory AS table_0, Cameras\" + \\\n",
    "                f\" WHERE Cameras.filename = \\'{prefix + img}\\' AND (table_0.objectType LIKE 'human.pedestrian%') AND (distance(Cameras.egoTranslation, table_0.trajCentroids, Cameras.timestamp)<50) AND (viewAngle(table_0.trajCentroids, Cameras.egoHeading, Cameras.egoTranslation, Cameras.timestamp)<135)\" \n",
    "    database.cursor.execute(query)\n",
    "    result = database.cursor.fetchall()\n",
    "    num_peds = result[0][0]\n",
    "    # For now we only take a look at images with one pedestrian (so that we know that that one pedestrian is the one that is supposed to satisfy the condition)\n",
    "    # (if still experiencing problems after fixing the errors with the images with only one pedestrian, we can expand)\n",
    "    if num_peds != -1:\n",
    "        # print(\"------\", img, \"------\")\n",
    "        for predicate in predicates:\n",
    "            prefix = \"samples/CAM_FRONT/\"\n",
    "            query = f\"SELECT true FROM Item_General_Trajectory AS table_0, Cameras\" + \\\n",
    "                        f\" WHERE Cameras.filename = \\'{prefix + img}\\' AND (table_0.objectType LIKE 'human.pedestrian%') AND (distance(Cameras.egoTranslation, table_0.trajCentroids, Cameras.timestamp)<50) AND (viewAngle(table_0.trajCentroids, Cameras.egoHeading, Cameras.egoTranslation, Cameras.timestamp)<135) AND \" + \\\n",
    "                        predicate \n",
    "            database.cursor.execute(query)\n",
    "            result = database.cursor.fetchall()\n",
    "            print(result)\n",
    "            # if the predictae was not satisfied\n",
    "            if len(result) == 0: \n",
    "                if predicate not in preds_missed:\n",
    "                    preds_missed[predicate] = 0\n",
    "                preds_missed[predicate] += 1\n",
    "                print(predicate)\n",
    "                query = f\"SELECT {predicate}, facingRelative(Cameras.egoHeading, roadDirection(Cameras.egoTranslation, Cameras.timestamp, Cameras.egoHeading), Cameras.timestamp), roadDirection(Cameras.egoTranslation, Cameras.timestamp, Cameras.egoHeading), ST_X(Cameras.egoTranslation), ST_Y(Cameras.egoTranslation), ST_Z(Cameras.egoTranslation), Cameras.egoHeading FROM Item_General_Trajectory AS table_0, Cameras\" + \\\n",
    "                        f\" WHERE Cameras.filename = \\'{prefix + img}\\' AND (table_0.objectType LIKE 'human.pedestrian%') AND (distance(Cameras.egoTranslation, table_0.trajCentroids, Cameras.timestamp)<50) AND (viewAngle(table_0.trajCentroids, Cameras.egoHeading, Cameras.egoTranslation, Cameras.timestamp)<135)\" \n",
    "                database.cursor.execute(query)\n",
    "                result = database.cursor.fetchall()\n",
    "                print(result)\n",
    "\n",
    "            "
   ]
  },
  {
   "cell_type": "code",
   "execution_count": null,
   "id": "140b3f1b",
   "metadata": {},
   "outputs": [],
   "source": [
    "for pred in preds_missed:\n",
    "    print(pred, preds_missed[pred])"
   ]
  },
  {
   "cell_type": "code",
   "execution_count": null,
   "id": "391e51a3",
   "metadata": {},
   "outputs": [],
   "source": []
  }
 ],
 "metadata": {
  "interpreter": {
   "hash": "5c9f2372a2bfaf539cf701a38e7f23ab828911ee177c2e7bc9c32aa1f4b546df"
  },
  "kernelspec": {
   "display_name": "Python 3 (ipykernel)",
   "language": "python",
   "name": "python3"
  },
  "language_info": {
   "codemirror_mode": {
    "name": "ipython",
    "version": 3
   },
   "file_extension": ".py",
   "mimetype": "text/x-python",
   "name": "python",
   "nbconvert_exporter": "python",
   "pygments_lexer": "ipython3",
   "version": "3.8.3"
  }
 },
 "nbformat": 4,
 "nbformat_minor": 5
}
