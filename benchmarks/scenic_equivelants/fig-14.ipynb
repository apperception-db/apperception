{
 "cells": [
  {
   "cell_type": "code",
   "execution_count": null,
   "id": "da2a4075-d7d2-47b4-ba3e-e38942f27acd",
   "metadata": {},
   "outputs": [],
   "source": [
    "%cd ../..\n",
    "# %pip install .\n",
    "import time\n",
    "from os import environ\n",
    "# offset = Uniform(-1, 1) * Range(90, 180) deg\n",
    "\n",
    "# ego = Car on drivableRoad,\n",
    "#         facing offset relative to roadDirection,\n",
    "#         with visibleDistance 50,\n",
    "#         with viewAngle 135 deg\n",
    "\n",
    "# otherCar = Car on visible road,\n",
    "#             facing Range(-15, 15) deg relative to roadDirection\n",
    "\n",
    "# require (distance from ego to otherCar) < 10"
   ]
  },
  {
   "cell_type": "code",
   "execution_count": null,
   "id": "f97df501",
   "metadata": {},
   "outputs": [],
   "source": [
    "environ['AP_PORT'] = str(input('port')) # README command uses port=25432"
   ]
  },
  {
   "cell_type": "code",
   "execution_count": null,
   "id": "563f35bd-868e-4f01-87d5-37eb00adc206",
   "metadata": {},
   "outputs": [],
   "source": [
    "\"\"\"\n",
    "with (\n",
    "  select *\n",
    "  from item_traj\n",
    "  where item_traj.object_type = 'car'\n",
    ") as cars\n",
    "\n",
    "select *\n",
    "from cars as otherCar\n",
    "join Cameras as cam on t1.cameraId = Cameras.id\n",
    "where\n",
    "  TODO: ego facing relative to road direction????\n",
    "  DISTANCE(cam.egoTranslation, otherCar.trajCentroids, cam.timestamp) < 50 AND\n",
    "  viewAngle(otherCar.traj, cam.egoHeading, cam.ego_Translation, cam.timestamp) < 135 AND\n",
    "  contained(otherCar.traj, road_segment_type(\"visibleRoad\"), cam.timestamp) and\n",
    "  facingRelative(otherCar.heading, road_direction(valueAtTimestamp(otherCar.trajCentroids, cam.timestamp)), cam.timestamp) >= -15 AND\n",
    "  facingRelative(otherCar.heading, road_direction(valueAtTimestamp(otherCar.trajCentroids, cam.timestamp)), cam.timestamp) < 15 AND\n",
    "  DISTANCE(cam.egoTranslation, otherCar.centroid, cam.timestamp) < 10 AND\n",
    "\"\"\""
   ]
  },
  {
   "cell_type": "code",
   "execution_count": null,
   "id": "e5c4ff55-c1d8-4963-a199-f182444a4c9e",
   "metadata": {},
   "outputs": [],
   "source": [
    "### Prepare the world for queries ###\n",
    "from apperception.world import empty_world\n",
    "import numpy as np\n",
    "# directly ingest the mini dataset and boston roadnetwork if needed\n",
    "# from apperception.new_db import database\n",
    "# database.reset()\n",
    "# from benchmarks.ingest_scenic_data import ingest_data\n",
    "# ingest_data()\n",
    "\n",
    "name = 'ScenicWorld' # world name\n",
    "world = empty_world(name=name)\n",
    "\n",
    "### Query ###\n",
    "from apperception.utils import F\n",
    "world = world.filter(lambda obj: obj.object_type == 'vehicle.car')\n",
    "random_sample = np.random.uniform(-1,1)\n",
    "facing_range = (random_sample*90, random_sample*180) \n",
    "def pred(otherCar, cam):\n",
    "    return (\n",
    "        # TODO: ego facing `offset` relative to road direction??\n",
    "        F.distance(cam.ego, obj1, cam.timestamp) < 50 and \n",
    "        F.view_angle(obj1, cam.ego, cam.timestamp) < 67.5 and \n",
    "        F.facing_relative(cam.ego, F.road_direction(cam.ego, cam.timestamp, cam.ego), cam.timestamp) > {facing_range[0]} and \n",
    "        F.facing_relative(cam.ego, F.road_direction(cam.ego, cam.timestamp, cam.ego), cam.timestamp) < {facing_range[1]} and \n",
    "        F.contained(cam.ego, F.road_segment('road')) and \n",
    "        F.contained(obj1.traj, F.road_segment('road'), cam.timestamp) and \n",
    "        F.facing_relative(obj1, F.road_direction(obj1.traj, cam.timestamp, cam.ego), cam.timestamp) >= -15 and \n",
    "        F.facing_relative(obj1, F.road_direction(obj1.traj, cam.timestamp, cam.ego), cam.timestamp) < 15 and\n",
    "        F.distance(cam.ego, obj1, cam.timestamp) < 10\n",
    "    )\n",
    "world = world.filter(\"lambda obj1, cam: \" + \n",
    "        \"F.distance(cam.ego, obj1, cam.timestamp) < 50 and \" +\n",
    "        \"F.view_angle(obj1, cam.ego, cam.timestamp) < 67.5 and \" +\n",
    "        f\"F.facing_relative(cam.ego, F.road_direction(cam.ego, cam.timestamp, cam.ego), cam.timestamp) > {facing_range[0]} and \" +\n",
    "        f\"F.facing_relative(cam.ego, F.road_direction(cam.ego, cam.timestamp, cam.ego), cam.timestamp) < {facing_range[1]} and \" +\n",
    "        \"F.contained(cam.ego, F.road_segment('road')) and \" +\n",
    "        \"F.contained(obj1.traj, F.road_segment('road'), cam.timestamp) and \" +\n",
    "        \"F.facing_relative(obj1, F.road_direction(obj1.traj, cam.timestamp, cam.ego), cam.timestamp) >= -15 and \" +\n",
    "        \"F.facing_relative(obj1, F.road_direction(obj1.traj, cam.timestamp, cam.ego), cam.timestamp) < 15 and \" +\n",
    "        \"F.distance(cam.ego, obj1, cam.timestamp) < 10\")\n",
    "\n",
    "start = time.time()\n",
    "# keys = world.get_traj_key()\n",
    "id_time_camId_filename = world.get_id_time_camId_filename(num_joined_tables=1)\n",
    "\n",
    "end = time.time()\n",
    "print(format(end-start))"
   ]
  },
  {
   "cell_type": "code",
   "execution_count": null,
   "id": "c356d070",
   "metadata": {},
   "outputs": [],
   "source": []
  }
 ],
 "metadata": {
  "kernelspec": {
   "display_name": "Python 3 (ipykernel)",
   "language": "python",
   "name": "python3"
  },
  "language_info": {
   "codemirror_mode": {
    "name": "ipython",
    "version": 3
   },
   "file_extension": ".py",
   "mimetype": "text/x-python",
   "name": "python",
   "nbconvert_exporter": "python",
   "pygments_lexer": "ipython3",
   "version": "3.8.3"
  }
 },
 "nbformat": 4,
 "nbformat_minor": 5
}
