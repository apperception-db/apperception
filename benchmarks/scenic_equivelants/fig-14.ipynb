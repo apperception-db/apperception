{
 "cells": [
  {
   "cell_type": "code",
   "execution_count": 1,
   "id": "da2a4075-d7d2-47b4-ba3e-e38942f27acd",
   "metadata": {},
   "outputs": [
    {
     "name": "stdout",
     "output_type": "stream",
     "text": [
      "/home/youse/apperception\n"
     ]
    }
   ],
   "source": [
    "%cd ../..\n",
    "# %pip install .\n",
    "import time\n",
    "from os import environ\n",
    "# offset = Uniform(-1, 1) * Range(90, 180) deg\n",
    "\n",
    "# ego = Car on drivableRoad,\n",
    "#         facing offset relative to roadDirection,\n",
    "#         with visibleDistance 50,\n",
    "#         with viewAngle 135 deg\n",
    "\n",
    "# otherCar = Car on visible road,\n",
    "#             facing Range(-15, 15) deg relative to roadDirection\n",
    "\n",
    "# require (distance from ego to otherCar) < 10"
   ]
  },
  {
   "cell_type": "code",
   "execution_count": 3,
   "id": "f97df501",
   "metadata": {},
   "outputs": [],
   "source": [
    "if \"AP_PORT\" not in environ:\n",
    "    environ[\"AP_PORT\"] = \"25432\" # str(input('port'))\n",
    "# README command uses port=25432"
   ]
  },
  {
   "cell_type": "code",
   "execution_count": null,
   "id": "563f35bd-868e-4f01-87d5-37eb00adc206",
   "metadata": {},
   "outputs": [],
   "source": [
    "\"\"\"\n",
    "with (\n",
    "  select *\n",
    "  from item_traj\n",
    "  where item_traj.object_type = 'car'\n",
    ") as cars\n",
    "\n",
    "select *\n",
    "from cars as otherCar\n",
    "join Cameras as cam on t1.cameraId = Cameras.id\n",
    "where\n",
    "  TODO: ego facing relative to road direction????\n",
    "  DISTANCE(cam.egoTranslation, otherCar.trajCentroids, cam.timestamp) < 50 AND\n",
    "  viewAngle(otherCar.traj, cam.egoHeading, cam.ego_Translation, cam.timestamp) < 135 AND\n",
    "  contained(otherCar.traj, road_segment_type(\"visibleRoad\"), cam.timestamp) and\n",
    "  facingRelative(otherCar.heading, road_direction(valueAtTimestamp(otherCar.trajCentroids, cam.timestamp)), cam.timestamp) >= -15 AND\n",
    "  facingRelative(otherCar.heading, road_direction(valueAtTimestamp(otherCar.trajCentroids, cam.timestamp)), cam.timestamp) < 15 AND\n",
    "  DISTANCE(cam.egoTranslation, otherCar.centroid, cam.timestamp) < 10 AND\n",
    "\"\"\""
   ]
  },
  {
   "cell_type": "code",
   "execution_count": 4,
   "id": "96d969ea-e93e-4e94-8844-5073af38c8a6",
   "metadata": {},
   "outputs": [
    {
     "data": {
      "text/plain": [
       "<apperception.database.Database at 0x7f96d1f19690>"
      ]
     },
     "execution_count": 4,
     "metadata": {},
     "output_type": "execute_result"
    }
   ],
   "source": [
    "from apperception.world import empty_world\n",
    "from apperception.utils import F\n",
    "from apperception.database import database\n",
    "from apperception.predicate import camera, objects\n",
    "import numpy as np\n",
    "database"
   ]
  },
  {
   "cell_type": "code",
   "execution_count": 12,
   "id": "e5c4ff55-c1d8-4963-a199-f182444a4c9e",
   "metadata": {},
   "outputs": [
    {
     "name": "stdout",
     "output_type": "stream",
     "text": [
      "execute: filter\n",
      "execute: get_id_time_camId_filename\n",
      "get_id_time_camId_filename \n",
      "        SELECT t0.itemId, cameras.timestamp, cameras.cameraId, cameras.filename\n",
      "        FROM (SELECT * FROM item_general_trajectory) as t0\n",
      "        \n",
      "        JOIN Cameras USING (cameraId)\n",
      "        WHERE (filename LIKE 'samples/CAM_FRONT/%' AND (t0.objectType LIKE 'vehicle.car' OR t0.objectType LIKE 'vehicle.truck' OR t0.objectType LIKE 'vehicle.bus.rigid') AND (ST_Distance(egoTranslation,valueAtTimestamp(t0.translations,timestamp))<50) AND (viewAngle(valueAtTimestamp(t0.translations,timestamp),egoHeading,egoTranslation)<35.0))\n",
      "        \n",
      "done execute node\n",
      "Result length: 816\n",
      "0.10247206687927246\n"
     ]
    }
   ],
   "source": [
    "name = 'ScenicWorld' # world name\n",
    "world = empty_world(name=name)\n",
    "\n",
    "obj1 = objects[0]\n",
    "cam = camera\n",
    "world = world.filter(\n",
    "    (F.like(cam.filename, 'samples/CAM_FRONT/%')) & \n",
    "    (F.like(obj1.type, 'vehicle.car') | F.like(obj1.type, 'vehicle.truck') | F.like(obj1.type, 'vehicle.bus.rigid')) & ########\n",
    "    (F.distance(cam.ego, obj1.trans@cam.timestamp) < 50) & ########\n",
    "    (F.view_angle(obj1.trans@cam.time, cam.ego) < 70 / 2) & ########\n",
    "    F.angle_between(F.facing_relative(cam.ego, F.road_direction(cam.ego, cam.ego)), -180, -90) & ########\n",
    "    # F.contained(cam.ego, F.road_segment('road')) &\n",
    "    # F.contained(obj1.trans@cam.time, F.road_segment('road')) &\n",
    "    # F.angle_between(F.facing_relative(obj1.trans@cam.time, F.road_direction(obj1.traj@cam.time, obj1.trans@cam.time)), -15, 15) & ########\n",
    "    # (F.distance(cam.ego, obj1.trans@cam.time) < 10) ########\n",
    ")\n",
    "\n",
    "start = time.time()\n",
    "# keys = world.get_traj_key()\n",
    "id_time_camId_filename = world.get_id_time_camId_filename(num_joined_tables=1)\n",
    "\n",
    "end = time.time()\n",
    "print(format(end-start))"
   ]
  },
  {
   "cell_type": "code",
   "execution_count": null,
   "id": "6cccd3da",
   "metadata": {},
   "outputs": [],
   "source": [
    "resultImages = dict() # maping from image -> (itemId, timestamp, camId) that it was found at\n",
    "for result in id_time_camId_filename:\n",
    "    itemId, timestamp, camId, filename = result\n",
    "    filename = filename.split(\"/\")[-1] # use split so that prefix path is not included in filename\n",
    "    resultImages[filename] = (itemId, timestamp, camId)"
   ]
  },
  {
   "cell_type": "code",
   "execution_count": null,
   "id": "c356d070",
   "metadata": {},
   "outputs": [],
   "source": [
    "from show_images import show_images\n",
    "%matplotlib inline\n",
    "\n",
    "# data_dir =  \"data/nuscenes/experiment_data\"\n",
    "data_dir = '/work/apperception/data/nuScenes/full-dataset-v1.0/Trainval/experiment_data'\n",
    "# data_dir = '/Users/chanwutk/Documents/experiment_data'"
   ]
  },
  {
   "cell_type": "code",
   "execution_count": null,
   "id": "a5128938",
   "metadata": {},
   "outputs": [],
   "source": [
    "show_images(data_dir, list(resultImages.keys()), sample=10)"
   ]
  },
  {
   "cell_type": "code",
   "execution_count": null,
   "id": "e78112ec",
   "metadata": {},
   "outputs": [],
   "source": [
    "expected_imgs = [\n",
    "    \"n008-2018-08-30-15-16-55-0400__CAM_FRONT__1535657491612404.jpg\",\n",
    "    \"n008-2018-08-30-15-16-55-0400__CAM_FRONT__1535657492112404.jpg\"\n",
    "]\n",
    "show_images(data_dir, expected_imgs, sample=10)"
   ]
  },
  {
   "cell_type": "code",
   "execution_count": null,
   "id": "164f9b61",
   "metadata": {},
   "outputs": [],
   "source": [
    "### Getting info about the expected images\n",
    "from apperception.database import database\n",
    "for img in expected_imgs:\n",
    "    prefix = \"samples/CAM_FRONT/\"\n",
    "    query = f\"\"\"SELECT Distinct \\'Cameras: \\', Cameras.filename, roadDirection(Cameras.egoTranslation, Cameras.timestamp, Cameras.egoHeading), \n",
    "    Cameras.egoHeading, facingRelative(Cameras.egoHeading, roadDirection(Cameras.egoTranslation, Cameras.timestamp, Cameras.egoHeading), Cameras.timestamp),\n",
    "     ST_X(Cameras.egoTranslation), ST_Y(Cameras.egoTranslation), ST_Z(Cameras.egoTranslation),\n",
    "    \\'Cars: \\', table_0.itemId, getX(table_0.trajCentroids, Cameras.timestamp), getY(table_0.trajCentroids, Cameras.timestamp), \n",
    "    ST_Z(valueAtTimestamp(table_0.trajCentroids, Cameras.timestamp)), \n",
    "    \\'Distance: \\', distance(Cameras.egoTranslation, table_0.trajCentroids, Cameras.timestamp),\n",
    "    \\'CarHeading:\\', valueAtTimestamp(table_0.itemHeadings, Cameras.timestamp),\n",
    "    \\'RoadDirection for car:\\', roadDirection(table_0.trajCentroids, Cameras.timestamp, valueAtTimestamp(table_0.itemHeadings, Cameras.timestamp)::real),\n",
    "    \\'facingRelative:\\', facingRelative(table_0.itemHeadings, roadDirection(table_0.trajCentroids, Cameras.timestamp, valueAtTimestamp(table_0.itemHeadings, Cameras.timestamp)::real), Cameras.timestamp) \n",
    "    FROM Item_General_Trajectory AS table_0, Cameras\n",
    "                WHERE Cameras.filename = \\'{prefix + img}\\' AND table_0.cameraId = Cameras.cameraId AND table_0.objectType LIKE 'vehicle%'\"\"\"\n",
    "    database.cursor.execute(query)\n",
    "    result = database.cursor.fetchall()\n",
    "    print(result)"
   ]
  },
  {
   "cell_type": "code",
   "execution_count": null,
   "id": "826cecee",
   "metadata": {},
   "outputs": [],
   "source": [
    "from apperception.database import database\n",
    "query = f\"\"\"SELECT elementId FROM SegmentPolygon WHERE contained(st_point(1269.1763045216746, 911.0066718975124), elementPolygon)\n",
    "            AND (SELECT id FROM Road WHERE id = elementId) IS NOT NULL;\"\"\"\n",
    "database.cursor.execute(query)\n",
    "result = database.cursor.fetchall()\n",
    "print(result)"
   ]
  },
  {
   "cell_type": "code",
   "execution_count": null,
   "id": "046aa181",
   "metadata": {},
   "outputs": [],
   "source": [
    "from apperception.database import database\n",
    "query = f\"\"\"SELECT ST_Distance(st_point(1269.1763045216746, 911.0066718975124), st_point(1248.3893859608852, 947.7008533706982));\"\"\"\n",
    "database.cursor.execute(query)\n",
    "result = database.cursor.fetchall()\n",
    "print(result)"
   ]
  },
  {
   "cell_type": "code",
   "execution_count": null,
   "id": "7806aef5",
   "metadata": {},
   "outputs": [],
   "source": [
    "122.09787+48.640766"
   ]
  },
  {
   "cell_type": "code",
   "execution_count": null,
   "id": "f495093c",
   "metadata": {},
   "outputs": [],
   "source": [
    "360-(122.09787+48.640766)"
   ]
  },
  {
   "cell_type": "code",
   "execution_count": null,
   "id": "c73afa44",
   "metadata": {},
   "outputs": [],
   "source": []
  },
  {
   "cell_type": "code",
   "execution_count": null,
   "id": "c0d10f8d-c118-4328-859c-21934622ff73",
   "metadata": {},
   "outputs": [],
   "source": []
  },
  {
   "cell_type": "code",
   "execution_count": null,
   "id": "d7450ef5-dcef-4837-bd26-5c134cd051d4",
   "metadata": {},
   "outputs": [],
   "source": []
  }
 ],
 "metadata": {
  "kernelspec": {
   "display_name": "Python 3 (ipykernel)",
   "language": "python",
   "name": "python3"
  },
  "language_info": {
   "codemirror_mode": {
    "name": "ipython",
    "version": 3
   },
   "file_extension": ".py",
   "mimetype": "text/x-python",
   "name": "python",
   "nbconvert_exporter": "python",
   "pygments_lexer": "ipython3",
   "version": "3.10.11"
  }
 },
 "nbformat": 4,
 "nbformat_minor": 5
}
