{
 "cells": [
  {
   "cell_type": "code",
   "execution_count": 1,
   "id": "e26bc69f",
   "metadata": {},
   "outputs": [
    {
     "ename": "ModuleNotFoundError",
     "evalue": "No module named 'world'",
     "output_type": "error",
     "traceback": [
      "\u001b[0;31m---------------------------------------------------------------------------\u001b[0m",
      "\u001b[0;31mModuleNotFoundError\u001b[0m                       Traceback (most recent call last)",
      "Input \u001b[0;32mIn [1]\u001b[0m, in \u001b[0;36m<cell line: 8>\u001b[0;34m()\u001b[0m\n\u001b[1;32m      5\u001b[0m \u001b[38;5;66;03m### IMPORTS\u001b[39;00m\n\u001b[1;32m      6\u001b[0m \u001b[38;5;28;01mimport\u001b[39;00m \u001b[38;5;21;01mcv2\u001b[39;00m\n\u001b[0;32m----> 8\u001b[0m \u001b[38;5;28;01mfrom\u001b[39;00m \u001b[38;5;21;01mworld\u001b[39;00m \u001b[38;5;28;01mimport\u001b[39;00m \u001b[38;5;241m*\u001b[39m\n\u001b[1;32m      9\u001b[0m \u001b[38;5;28;01mfrom\u001b[39;00m \u001b[38;5;21;01mworld_executor\u001b[39;00m \u001b[38;5;28;01mimport\u001b[39;00m \u001b[38;5;241m*\u001b[39m\n\u001b[1;32m     10\u001b[0m \u001b[38;5;28;01mfrom\u001b[39;00m \u001b[38;5;21;01mvideo_util\u001b[39;00m \u001b[38;5;28;01mimport\u001b[39;00m \u001b[38;5;241m*\u001b[39m\n",
      "\u001b[0;31mModuleNotFoundError\u001b[0m: No module named 'world'"
     ]
    }
   ],
   "source": [
    "import os\n",
    "import sys\n",
    "sys.path.append(os.path.join(os.getcwd(),\"apperception\"))\n",
    "\n",
    "### IMPORTS\n",
    "import cv2\n",
    "\n",
    "from world import *\n",
    "from world_executor import *\n",
    "from video_util import *\n",
    "from metadata_util import *\n",
    "import lens\n",
    "import point\n",
    "\n"
   ]
  },
  {
   "cell_type": "code",
   "execution_count": null,
   "id": "06d4a2bd",
   "metadata": {},
   "outputs": [],
   "source": [
    "### Let's define some attribute for constructing the world first\n",
    "name = 'traffic_scene' # world name\n",
    "units = 'metrics'      # world units\n",
    "video_file = \"./amber_videos/traffic-scene-shorter.mp4\" #example video file\n",
    "lens_attrs = {'fov': 120, \n",
    "              'cam_origin': (0, 0, 0), \n",
    "              'skew_factor': 0}\n",
    "point_attrs = {'p_id': 'p1', \n",
    "               'cam_id': 'cam1', \n",
    "               'x': 0,\n",
    "               'y': 0, \n",
    "               'z': 0,\n",
    "               'time': None, \n",
    "               'type':'pos'}\n",
    "camera_attrs = {'ratio': 0.5}\n",
    "fps = 30\n"
   ]
  },
  {
   "cell_type": "code",
   "execution_count": null,
   "id": "b13fe5a7",
   "metadata": {},
   "outputs": [],
   "source": [
    "### First we define a world\n",
    "traffic_world = World(name=name, units=units)\n",
    "\n",
    "### Use TASM if it's available on the machine\n",
    "# traffic_world = World(name=name, units=units, enable_tasm=True)"
   ]
  },
  {
   "cell_type": "code",
   "execution_count": null,
   "id": "9900a7fb",
   "metadata": {},
   "outputs": [],
   "source": [
    "### Secondly we construct the camera\n",
    "fov, res, cam_origin, skew_factor = lens_attrs['fov'], [1280, 720], lens_attrs['cam_origin'], lens_attrs['skew_factor']\n",
    "cam_lens = lens.PinholeLens(res, cam_origin, fov, skew_factor)\n",
    "\n",
    "pt_id, cam_id, x, y, z, time, pt_type = point_attrs['p_id'], point_attrs['cam_id'], point_attrs['x'], point_attrs['y'], point_attrs['z'], point_attrs['time'], point_attrs['type']\n",
    "location = point.Point(pt_id, cam_id, x, y, z, time, pt_type)\n",
    "\n",
    "ratio = camera_attrs['ratio']"
   ]
  },
  {
   "cell_type": "code",
   "execution_count": null,
   "id": "266ebde9",
   "metadata": {},
   "outputs": [],
   "source": [
    "### Ingest the camera to the world\n",
    "traffic_world = traffic_world.camera(cam_id=cam_id, \n",
    "                               location=location, \n",
    "                               ratio=ratio, \n",
    "                               video_file=video_file, \n",
    "                               metadata_identifier=name+\"_\"+cam_id, \n",
    "                               lens=cam_lens)"
   ]
  },
  {
   "cell_type": "code",
   "execution_count": null,
   "id": "f8797a49",
   "metadata": {},
   "outputs": [],
   "source": [
    "### Call execute on the world to run the detection algorithm and save the real data to the database\n",
    "recognized_world = traffic_world.recognize(cam_id)\n",
    "recognized_world.execute()"
   ]
  },
  {
   "cell_type": "code",
   "execution_count": null,
   "id": "d6a54aa5",
   "metadata": {},
   "outputs": [],
   "source": [
    "volume = traffic_world.select_intersection_of_interest_or_use_default(cam_id=cam_id)\n",
    "filtered_world = traffic_world.predicate(lambda obj:obj.object_type == \"car\").predicate(lambda obj:obj.location in volume, {\"volume\":volume})\n",
    "filtered_world = filtered_world.interval([0,fps*4])\n",
    " \n",
    "### to get the trajectory and the video over the entire trajectory(amber case)\n",
    "filtered_ids = filtered_world.selectkey(distinct = True).execute()\n",
    "print(\"filtered_ids are\", filtered_ids)\n",
    "print(len(filtered_ids))\n",
    "if len(filtered_ids)>0:\n",
    "    id_array = [e[0] for e in filtered_ids]\n",
    "    ### Fetch the trajectory of these items\n",
    "    trajectory = traffic_world.predicate(lambda obj: obj.object_id in id_array, {\"id_array\":id_array}).get_trajectory(distinct=True).execute()\n",
    "    traffic_world.overlay_trajectory(cam_id, trajectory)\n",
    "    ### Get the videos of these items\n",
    "    entire_video = traffic_world.predicate(lambda obj: obj.object_id in id_array, {\"id_array\":id_array}).get_video()\n",
    "    entire_video.execute()"
   ]
  },
  {
   "cell_type": "code",
   "execution_count": null,
   "id": "8b117867",
   "metadata": {},
   "outputs": [],
   "source": []
  }
 ],
 "metadata": {
  "celltoolbar": "Raw Cell Format",
  "interpreter": {
   "hash": "31f2aee4e71d21fbe5cf8b01ff0e069b9275f58929596ceb00d14d90e3e16cd6"
  },
  "kernelspec": {
   "display_name": "Python 3 (ipykernel)",
   "language": "python",
   "name": "python3"
  },
  "language_info": {
   "codemirror_mode": {
    "name": "ipython",
    "version": 3
   },
   "file_extension": ".py",
   "mimetype": "text/x-python",
   "name": "python",
   "nbconvert_exporter": "python",
   "pygments_lexer": "ipython3",
   "version": "3.10.2"
  }
 },
 "nbformat": 4,
 "nbformat_minor": 5
}
