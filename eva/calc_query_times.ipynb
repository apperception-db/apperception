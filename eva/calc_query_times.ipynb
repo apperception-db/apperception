{
 "cells": [
  {
   "cell_type": "code",
   "execution_count": 1,
   "metadata": {},
   "outputs": [],
   "source": [
    "files = [\"eva-times-CAM_FRONT.txt\", \"eva-times-CAM_FRONT_LEFT.txt\", \"eva-times-CAM_FRONT_RIGHT.txt\"]"
   ]
  },
  {
   "cell_type": "code",
   "execution_count": 2,
   "metadata": {},
   "outputs": [],
   "source": [
    "queryTimes = {\n",
    "    \"q1\": 0,\n",
    "    \"q2\": 0,\n",
    "    \"q3\": 0,\n",
    "    \"q4\": 0\n",
    "}\n",
    "    \n",
    "queryCounts = {\n",
    "    \"q1\": 0,\n",
    "    \"q2\": 0,\n",
    "    \"q3\": 0,\n",
    "    \"q4\": 0\n",
    "}"
   ]
  },
  {
   "cell_type": "code",
   "execution_count": 3,
   "metadata": {},
   "outputs": [],
   "source": [
    "for file in files:\n",
    "    with open(file, 'r') as f:\n",
    "        for line in f.readlines()[0:320]:\n",
    "            time = float(line.split(\" \")[-1])\n",
    "            for query in queryTimes:\n",
    "                if query in line:\n",
    "                    queryTimes[query] += time\n",
    "                    queryCounts[query] += 1"
   ]
  },
  {
   "cell_type": "code",
   "execution_count": 4,
   "metadata": {},
   "outputs": [
    {
     "name": "stdout",
     "output_type": "stream",
     "text": [
      "q1 average runtime: 138.03228037556013\n",
      "q2 average runtime: 235.90346724390983\n",
      "q3 average runtime: 127.75012515187264\n",
      "q4 average runtime: 236.17635889152686\n"
     ]
    }
   ],
   "source": [
    "for query in queryTimes:\n",
    "    averageTime = queryTimes[query] / queryCounts[query]\n",
    "    print(f\"{query} average runtime: {averageTime}\")"
   ]
  }
 ],
 "metadata": {
  "kernelspec": {
   "display_name": "apperception",
   "language": "python",
   "name": "python3"
  },
  "language_info": {
   "codemirror_mode": {
    "name": "ipython",
    "version": 3
   },
   "file_extension": ".py",
   "mimetype": "text/x-python",
   "name": "python",
   "nbconvert_exporter": "python",
   "pygments_lexer": "ipython3",
   "version": "3.10.12"
  },
  "orig_nbformat": 4
 },
 "nbformat": 4,
 "nbformat_minor": 2
}
