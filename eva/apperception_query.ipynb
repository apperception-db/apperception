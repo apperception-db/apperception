{
 "cells": [
  {
   "cell_type": "code",
   "execution_count": 1,
   "metadata": {},
   "outputs": [
    {
     "name": "stdout",
     "output_type": "stream",
     "text": [
      "/home/youse/apperception\n"
     ]
    }
   ],
   "source": [
    "%cd ..\n",
    "import os\n",
    "import time"
   ]
  },
  {
   "cell_type": "code",
   "execution_count": 2,
   "metadata": {},
   "outputs": [
    {
     "name": "stdout",
     "output_type": "stream",
     "text": [
      "CUDA is available.\n",
      " > 0: Tesla T4\n",
      "   1: Tesla T4\n"
     ]
    }
   ],
   "source": [
    "from apperception.database import database\n",
    "from apperception.world import empty_world\n",
    "from apperception.utils import F\n",
    "from apperception.predicate import camera, objects\n",
    "from optimized_ingestion.utils.preprocess import preprocess\n",
    "database.connection\n",
    "from optimized_ingestion.cache import disable_cache\n",
    "disable_cache()"
   ]
  },
  {
   "cell_type": "code",
   "execution_count": 3,
   "metadata": {},
   "outputs": [],
   "source": [
    "NUSCENES_PROCESSED_DATA = \"NUSCENES_PROCESSED_DATA\"\n",
    "DATA_DIR = \"/data/processed/full-dataset/trainval\"\n",
    "NUSCENES_RAW_DATA = \"NUSCENES_RAW_DATA\"\n",
    "RAW_DATA_DIR = \"/data/raw/full-dataset/trainval\""
   ]
  },
  {
   "cell_type": "code",
   "execution_count": 4,
   "metadata": {},
   "outputs": [],
   "source": [
    "import cv2\n",
    "from os.path import exists\n",
    "def construct_video(frames, name, size=(1600, 900), base=False, vid_name=None, vid_prefix=False):\n",
    "    unique_frames = []\n",
    "    for f in frames:\n",
    "        if f not in unique_frames:\n",
    "            unique_frames.append(f)\n",
    "    fourcc = cv2.VideoWriter_fourcc(*'mp4v')\n",
    "    vid_name = \"./outputs/\" + name + \".mp4\"\n",
    "    display_video = cv2.VideoWriter(vid_name,fourcc, 1, size)\n",
    "    for frame in unique_frames:\n",
    "        if vid_prefix:\n",
    "            img_path = os.path.join(RAW_DATA_DIR, 'sweeps/CAM_FRONT', frame)\n",
    "            if not exists(img_path):\n",
    "                img_path = os.path.join(RAW_DATA_DIR, 'samples/CAM_FRONT', frame)\n",
    "        else:\n",
    "            img_path = os.path.join(RAW_DATA_DIR, frame)\n",
    "        img = cv2.imread(img_path)\n",
    "        display_video.write(img)\n",
    "\n",
    "    display_video.release()"
   ]
  },
  {
   "cell_type": "code",
   "execution_count": 5,
   "metadata": {},
   "outputs": [],
   "source": [
    "########################## QUERY 1 ##########################"
   ]
  },
  {
   "cell_type": "code",
   "execution_count": 6,
   "metadata": {},
   "outputs": [],
   "source": [
    "name = 'ScenicWorld'\n",
    "world = empty_world(name=name)\n",
    "\n",
    "obj1 = objects[0]\n",
    "cam = camera\n",
    "\n",
    "world = world.filter(\n",
    "    (F.like(obj1.type, 'car') | F.like(obj1.type, 'truck') | F.like(obj1.type, 'bus')) &\n",
    "    F.contains_all('intersection', [obj1.trans]@cam.time)\n",
    ")\n"
   ]
  },
  {
   "cell_type": "code",
   "execution_count": 7,
   "metadata": {},
   "outputs": [
    {
     "name": "stdout",
     "output_type": "stream",
     "text": [
      "scene-0757-CAM_FRONT --------------------------------------------------------------------------------\n"
     ]
    },
    {
     "name": "stderr",
     "output_type": "stream",
     "text": [
      "100%|██████████| 8/8 [00:04<00:00,  1.94it/s]\n"
     ]
    },
    {
     "name": "stdout",
     "output_type": "stream",
     "text": [
      "Time taken to insert trajectories: 0.1367337703704834\n",
      "scene-0245-CAM_FRONT --------------------------------------------------------------------------------\n"
     ]
    },
    {
     "name": "stderr",
     "output_type": "stream",
     "text": [
      "100%|██████████| 8/8 [00:04<00:00,  1.76it/s]\n"
     ]
    },
    {
     "name": "stdout",
     "output_type": "stream",
     "text": [
      "Time taken to insert trajectories: 0.5488710403442383\n",
      "num_video:  2\n",
      "total preprocess time 55.82843232154846\n",
      "execute: filter\n",
      "execute: get_id_time_camId_filename\n",
      "get_id_time_camId_filename \n",
      "        SELECT t0.itemId, cameras.timestamp, cameras.cameraId, cameras.filename\n",
      "        FROM (SELECT * FROM item_general_trajectory) as t0\n",
      "        \n",
      "        JOIN Cameras USING (cameraId)\n",
      "        WHERE ((t0.objectType LIKE 'car' OR t0.objectType LIKE 'truck' OR t0.objectType LIKE 'bus') AND (EXISTS(SELECT 1\n",
      "            FROM SegmentPolygon\n",
      "            WHERE\n",
      "                SegmentPolygon.__RoadType__intersection__ AND\n",
      "                ST_Covers(SegmentPolygon.elementPolygon, valueAtTimestamp(t0.translations,timestamp))\n",
      "        )))\n",
      "        \n",
      "done execute node\n",
      "Result length: 611\n",
      "optimized query time: 0.3503577709197998\n"
     ]
    }
   ],
   "source": [
    "preprocess(world, DATA_DIR, ['scene-0757-CAM_FRONT', 'scene-0245-CAM_FRONT'], base=False)\n",
    "\n",
    "optimized_query_start = time.time()\n",
    "id_time_camId_filename = world.get_id_time_camId_filename(1)\n",
    "print(f'optimized query time: {time.time()-optimized_query_start}')"
   ]
  },
  {
   "cell_type": "code",
   "execution_count": 8,
   "metadata": {},
   "outputs": [],
   "source": [
    "optimized_results = [e[3] for e in id_time_camId_filename]\n",
    "construct_video(optimized_results, name=\"query-1\")"
   ]
  },
  {
   "cell_type": "code",
   "execution_count": 9,
   "metadata": {},
   "outputs": [],
   "source": [
    "########################## QUERY 2 ##########################"
   ]
  },
  {
   "cell_type": "code",
   "execution_count": 10,
   "metadata": {},
   "outputs": [],
   "source": [
    "name = 'ScenicWorld'\n",
    "world = empty_world(name=name)\n",
    "\n",
    "obj1 = objects[0]\n",
    "cam = camera\n",
    "\n",
    "world = world.filter(\n",
    "    (F.like(obj1.type, 'bus')) &\n",
    "    (F.convert_camera(obj1.traj@cam.time, cam.ego) > [-10, 0]) &\n",
    "    (F.convert_camera(obj1.traj@cam.time, cam.ego) < [-1, 50])\n",
    ")\n"
   ]
  },
  {
   "cell_type": "code",
   "execution_count": 11,
   "metadata": {},
   "outputs": [
    {
     "name": "stdout",
     "output_type": "stream",
     "text": [
      "scene-0757-CAM_FRONT --------------------------------------------------------------------------------\n"
     ]
    },
    {
     "name": "stderr",
     "output_type": "stream",
     "text": [
      "100%|██████████| 8/8 [00:04<00:00,  1.82it/s]\n"
     ]
    },
    {
     "name": "stdout",
     "output_type": "stream",
     "text": [
      "Time taken to insert trajectories: 0.01667475700378418\n",
      "scene-0245-CAM_FRONT --------------------------------------------------------------------------------\n"
     ]
    },
    {
     "name": "stderr",
     "output_type": "stream",
     "text": [
      "100%|██████████| 8/8 [00:04<00:00,  1.67it/s]\n"
     ]
    },
    {
     "name": "stdout",
     "output_type": "stream",
     "text": [
      "Time taken to insert trajectories: 2.384185791015625e-07\n",
      "num_video:  2\n",
      "total preprocess time 25.704602241516113\n",
      "execute: filter\n",
      "execute: get_id_time_camId_filename\n",
      "get_id_time_camId_filename \n",
      "        SELECT t0.itemId, cameras.timestamp, cameras.cameraId, cameras.filename\n",
      "        FROM (SELECT * FROM item_general_trajectory) as t0\n",
      "        \n",
      "        JOIN Cameras USING (cameraId)\n",
      "        WHERE (t0.objectType LIKE 'bus' AND (ConvertCamera(valueAtTimestamp(t0.trajCentroids,timestamp),egoTranslation,egoHeading)>ARRAY[-10,0]) AND (ConvertCamera(valueAtTimestamp(t0.trajCentroids,timestamp),egoTranslation,egoHeading)<ARRAY[-1,50]))\n",
      "        \n",
      "done execute node\n",
      "Result length: 46\n",
      "optimized query time: 0.017928361892700195\n"
     ]
    }
   ],
   "source": [
    "preprocess(world, DATA_DIR, ['scene-0757-CAM_FRONT', 'scene-0245-CAM_FRONT'], base=False)\n",
    "\n",
    "optimized_query_start = time.time()\n",
    "id_time_camId_filename = world.get_id_time_camId_filename(1)\n",
    "print(f'optimized query time: {time.time()-optimized_query_start}')"
   ]
  },
  {
   "cell_type": "code",
   "execution_count": 13,
   "metadata": {},
   "outputs": [],
   "source": [
    "optimized_results = [e[3] for e in id_time_camId_filename]\n",
    "construct_video(optimized_results, name=\"query-2\")"
   ]
  },
  {
   "cell_type": "code",
   "execution_count": null,
   "metadata": {},
   "outputs": [],
   "source": []
  }
 ],
 "metadata": {
  "kernelspec": {
   "display_name": "apperception",
   "language": "python",
   "name": "python3"
  },
  "language_info": {
   "codemirror_mode": {
    "name": "ipython",
    "version": 3
   },
   "file_extension": ".py",
   "mimetype": "text/x-python",
   "name": "python",
   "nbconvert_exporter": "python",
   "pygments_lexer": "ipython3",
   "version": "3.10.12"
  },
  "orig_nbformat": 4
 },
 "nbformat": 4,
 "nbformat_minor": 2
}
