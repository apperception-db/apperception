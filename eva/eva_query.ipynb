{
 "cells": [
  {
   "cell_type": "code",
   "execution_count": 1,
   "metadata": {},
   "outputs": [
    {
     "name": "stdout",
     "output_type": "stream",
     "text": [
      "Note: you may need to restart the kernel to use updated packages.\n"
     ]
    }
   ],
   "source": [
    "%pip install --quiet \"evadb[vision,notebook]\"\n",
    "import evadb\n",
    "cursor = evadb.connect().cursor()"
   ]
  },
  {
   "cell_type": "code",
   "execution_count": 2,
   "metadata": {},
   "outputs": [
    {
     "data": {
      "text/html": [
       "<div>\n",
       "<style scoped>\n",
       "    .dataframe tbody tr th:only-of-type {\n",
       "        vertical-align: middle;\n",
       "    }\n",
       "\n",
       "    .dataframe tbody tr th {\n",
       "        vertical-align: top;\n",
       "    }\n",
       "\n",
       "    .dataframe thead th {\n",
       "        text-align: right;\n",
       "    }\n",
       "</style>\n",
       "<table border=\"1\" class=\"dataframe\">\n",
       "  <thead>\n",
       "    <tr style=\"text-align: right;\">\n",
       "      <th></th>\n",
       "      <th>0</th>\n",
       "    </tr>\n",
       "  </thead>\n",
       "  <tbody>\n",
       "    <tr>\n",
       "      <th>0</th>\n",
       "      <td>UDF Yolo already exists, nothing added.</td>\n",
       "    </tr>\n",
       "  </tbody>\n",
       "</table>\n",
       "</div>"
      ],
      "text/plain": [
       "                                         0\n",
       "0  UDF Yolo already exists, nothing added."
      ]
     },
     "execution_count": 2,
     "metadata": {},
     "output_type": "execute_result"
    }
   ],
   "source": [
    "### Set up Yolo UDF\n",
    "cursor.query(\"\"\"\n",
    "            CREATE UDF IF NOT EXISTS Yolo\n",
    "            TYPE  ultralytics\n",
    "            'model' 'yolov8m.pt';\n",
    "    \"\"\").df() "
   ]
  },
  {
   "cell_type": "code",
   "execution_count": 3,
   "metadata": {},
   "outputs": [
    {
     "data": {
      "text/html": [
       "<div>\n",
       "<style scoped>\n",
       "    .dataframe tbody tr th:only-of-type {\n",
       "        vertical-align: middle;\n",
       "    }\n",
       "\n",
       "    .dataframe tbody tr th {\n",
       "        vertical-align: top;\n",
       "    }\n",
       "\n",
       "    .dataframe thead th {\n",
       "        text-align: right;\n",
       "    }\n",
       "</style>\n",
       "<table border=\"1\" class=\"dataframe\">\n",
       "  <thead>\n",
       "    <tr style=\"text-align: right;\">\n",
       "      <th></th>\n",
       "      <th>0</th>\n",
       "    </tr>\n",
       "  </thead>\n",
       "  <tbody>\n",
       "    <tr>\n",
       "      <th>0</th>\n",
       "      <td>UDF MonodepthDetection already exists, nothing...</td>\n",
       "    </tr>\n",
       "  </tbody>\n",
       "</table>\n",
       "</div>"
      ],
      "text/plain": [
       "                                                   0\n",
       "0  UDF MonodepthDetection already exists, nothing..."
      ]
     },
     "execution_count": 3,
     "metadata": {},
     "output_type": "execute_result"
    }
   ],
   "source": [
    "### Set up Monodepth UDF\n",
    "cursor.query(\"\"\" \n",
    "            CREATE UDF IF NOT EXISTS MonodepthDetection\n",
    "            IMPL'/home/youse/apperception/eva/udfs/monodepth_detection.py';\n",
    "    \"\"\").df()"
   ]
  },
  {
   "cell_type": "code",
   "execution_count": null,
   "metadata": {},
   "outputs": [],
   "source": [
    "### Set up location UDF\n",
    "cursor.query(\"\"\" \n",
    "            CREATE UDF MonodepthDetection\n",
    "            IMPL'/home/youse/apperception/eva/udfs/monodepth_detection.py';\n",
    "    \"\"\").df()"
   ]
  },
  {
   "cell_type": "code",
   "execution_count": null,
   "metadata": {},
   "outputs": [],
   "source": [
    "### Set up intersection query UDF"
   ]
  },
  {
   "cell_type": "code",
   "execution_count": 1,
   "metadata": {},
   "outputs": [
    {
     "ename": "NameError",
     "evalue": "name 'cursor' is not defined",
     "output_type": "error",
     "traceback": [
      "\u001b[0;31m---------------------------------------------------------------------------\u001b[0m",
      "\u001b[0;31mNameError\u001b[0m                                 Traceback (most recent call last)",
      "Cell \u001b[0;32mIn[1], line 5\u001b[0m\n\u001b[1;32m      3\u001b[0m scene \u001b[39m=\u001b[39m \u001b[39m\"\u001b[39m\u001b[39mscene-0757\u001b[39m\u001b[39m\"\u001b[39m\n\u001b[1;32m      4\u001b[0m video_path \u001b[39m=\u001b[39m \u001b[39m\"\u001b[39m\u001b[39m/data/processed/full-dataset/mini/videos/\u001b[39m\u001b[39m\"\u001b[39m\n\u001b[0;32m----> 5\u001b[0m cursor\u001b[39m.\u001b[39mquery(\u001b[39m\"\u001b[39m\u001b[39mDROP TABLE IF EXISTS ObjectDetectionVideos;\u001b[39m\u001b[39m\"\u001b[39m)\u001b[39m.\u001b[39mdf()\n\u001b[1;32m      6\u001b[0m cursor\u001b[39m.\u001b[39mload(file_regex\u001b[39m=\u001b[39mvideo_path \u001b[39m+\u001b[39m video_name, \u001b[39mformat\u001b[39m\u001b[39m=\u001b[39m\u001b[39m\"\u001b[39m\u001b[39mVIDEO\u001b[39m\u001b[39m\"\u001b[39m, table_name\u001b[39m=\u001b[39m\u001b[39m'\u001b[39m\u001b[39mObjectDetectionVideos\u001b[39m\u001b[39m'\u001b[39m)\u001b[39m.\u001b[39mdf()\n",
      "\u001b[0;31mNameError\u001b[0m: name 'cursor' is not defined"
     ]
    }
   ],
   "source": [
    "### Load video\n",
    "video_name = \"boston-seaport-scene-0757-CAM_FRONT.mp4\"\n",
    "scene = \"scene-0757\"\n",
    "video_path = \"/data/processed/full-dataset/mini/videos/\"\n",
    "cursor.query(\"DROP TABLE IF EXISTS ObjectDetectionVideos;\").df()\n",
    "cursor.load(file_regex=video_path + video_name, format=\"VIDEO\", table_name='ObjectDetectionVideos').df()"
   ]
  },
  {
   "cell_type": "code",
   "execution_count": 11,
   "metadata": {},
   "outputs": [
    {
     "name": "stdout",
     "output_type": "stream",
     "text": [
      "/\n"
     ]
    },
    {
     "data": {
      "text/plain": [
       "[('scene-0757',\n",
       "  1,\n",
       "  <Point POINT(307.6273244693186 669.5056617266097 1)>,\n",
       "  [-0.58233327, -0.37710914, -0.61586994, -0.37333748],\n",
       "  [[1252.8131, 0.0, 826.58813], [0.0, 1252.8131, 469.98465], [0.0, 0.0, 1.0]]),\n",
       " ('scene-0757',\n",
       "  2,\n",
       "  <Point POINT(307.62887572825804 669.5058308426003 1)>,\n",
       "  [-0.58236444, -0.37700972, -0.6158898, -0.37335646],\n",
       "  [[1252.8131, 0.0, 826.58813], [0.0, 1252.8131, 469.98465], [0.0, 0.0, 1.0]]),\n",
       " ('scene-0757',\n",
       "  3,\n",
       "  <Point POINT(307.62913264675615 669.506507995929 1)>,\n",
       "  [-0.58237135, -0.37695903, -0.61591053, -0.37336275],\n",
       "  [[1252.8131, 0.0, 826.58813], [0.0, 1252.8131, 469.98465], [0.0, 0.0, 1.0]]),\n",
       " ('scene-0757',\n",
       "  4,\n",
       "  <Point POINT(307.62999528129836 669.5087524629632 1)>,\n",
       "  [-0.58247054, -0.37664166, -0.61586624, -0.3736013],\n",
       "  [[1252.8131, 0.0, 826.58813], [0.0, 1252.8131, 469.98465], [0.0, 0.0, 1.0]]),\n",
       " ('scene-0757',\n",
       "  5,\n",
       "  <Point POINT(307.6298703153587 669.5088518241006 1)>,\n",
       "  [-0.5824467, -0.3766154, -0.61588967, -0.37362626],\n",
       "  [[1252.8131, 0.0, 826.58813], [0.0, 1252.8131, 469.98465], [0.0, 0.0, 1.0]]),\n",
       " ('scene-0757',\n",
       "  6,\n",
       "  <Point POINT(307.6299812523815 669.5087779729736 1)>,\n",
       "  [-0.5824917, -0.37657553, -0.6158645, -0.37363777],\n",
       "  [[1252.8131, 0.0, 826.58813], [0.0, 1252.8131, 469.98465], [0.0, 0.0, 1.0]]),\n",
       " ('scene-0757',\n",
       "  7,\n",
       "  <Point POINT(307.6301210769293 669.5088799674534 1)>,\n",
       "  [-0.5825103, -0.37657624, -0.6158622, -0.3736119],\n",
       "  [[1252.8131, 0.0, 826.58813], [0.0, 1252.8131, 469.98465], [0.0, 0.0, 1.0]]),\n",
       " ('scene-0757',\n",
       "  8,\n",
       "  <Point POINT(307.63027297801875 669.5087958204904 1)>,\n",
       "  [-0.5825487, -0.376584, -0.6158251, -0.37360534],\n",
       "  [[1252.8131, 0.0, 826.58813], [0.0, 1252.8131, 469.98465], [0.0, 0.0, 1.0]]),\n",
       " ('scene-0757',\n",
       "  9,\n",
       "  <Point POINT(307.6303616154356 669.5085958899753 1)>,\n",
       "  [-0.5826164, -0.37655672, -0.61576694, -0.3736231],\n",
       "  [[1252.8131, 0.0, 826.58813], [0.0, 1252.8131, 469.98465], [0.0, 0.0, 1.0]])]"
      ]
     },
     "execution_count": 11,
     "metadata": {},
     "output_type": "execute_result"
    }
   ],
   "source": [
    "### Add Camera Configs\n",
    "%cd ..\n",
    "from apperception.database import database\n",
    "result = database.execute(f\"SELECT cameraId, frameNum, cameraTranslation, cameraRotation, cameraIntrinsic FROM Cameras WHERE cameraId = '{scene}'\")\n",
    "\n",
    "for r in result:\n",
    "    camera_config = {\n",
    "         \"cameraId\": r[0],\n",
    "         \"frameNum\": r[1],\n",
    "         \"cameraTranslation\": r[2],\n",
    "         \"cameraRotation\": r[3],\n",
    "         \"cameraIntrinsic\": r[4]\n",
    "     }\n",
    "    "
   ]
  },
  {
   "cell_type": "code",
   "execution_count": 8,
   "metadata": {},
   "outputs": [
    {
     "data": {
      "text/html": [
       "<div>\n",
       "<style scoped>\n",
       "    .dataframe tbody tr th:only-of-type {\n",
       "        vertical-align: middle;\n",
       "    }\n",
       "\n",
       "    .dataframe tbody tr th {\n",
       "        vertical-align: top;\n",
       "    }\n",
       "\n",
       "    .dataframe thead th {\n",
       "        text-align: right;\n",
       "    }\n",
       "</style>\n",
       "<table border=\"1\" class=\"dataframe\">\n",
       "  <thead>\n",
       "    <tr style=\"text-align: right;\">\n",
       "      <th></th>\n",
       "      <th>objectdetectionvideos.id</th>\n",
       "      <th>yolo.labels</th>\n",
       "      <th>yolo.bboxes</th>\n",
       "      <th>yolo.scores</th>\n",
       "    </tr>\n",
       "  </thead>\n",
       "  <tbody>\n",
       "    <tr>\n",
       "      <th>0</th>\n",
       "      <td>0</td>\n",
       "      <td>[traffic light, traffic light]</td>\n",
       "      <td>[[1209.5908203125, 363.62115478515625, 1228.27...</td>\n",
       "      <td>[0.44, 0.42]</td>\n",
       "    </tr>\n",
       "    <tr>\n",
       "      <th>1</th>\n",
       "      <td>1</td>\n",
       "      <td>[truck, traffic light, traffic light, car]</td>\n",
       "      <td>[[1254.342529296875, 425.235595703125, 1471.82...</td>\n",
       "      <td>[0.56, 0.55, 0.35, 0.31]</td>\n",
       "    </tr>\n",
       "    <tr>\n",
       "      <th>2</th>\n",
       "      <td>2</td>\n",
       "      <td>[truck, traffic light]</td>\n",
       "      <td>[[1262.8585205078125, 426.02020263671875, 1470...</td>\n",
       "      <td>[0.48, 0.35]</td>\n",
       "    </tr>\n",
       "    <tr>\n",
       "      <th>3</th>\n",
       "      <td>3</td>\n",
       "      <td>[truck, traffic light]</td>\n",
       "      <td>[[1277.282958984375, 429.562744140625, 1503.24...</td>\n",
       "      <td>[0.56, 0.44]</td>\n",
       "    </tr>\n",
       "    <tr>\n",
       "      <th>4</th>\n",
       "      <td>4</td>\n",
       "      <td>[truck, traffic light, traffic light]</td>\n",
       "      <td>[[1275.486083984375, 423.3941650390625, 1532.6...</td>\n",
       "      <td>[0.67, 0.58, 0.39]</td>\n",
       "    </tr>\n",
       "    <tr>\n",
       "      <th>...</th>\n",
       "      <td>...</td>\n",
       "      <td>...</td>\n",
       "      <td>...</td>\n",
       "      <td>...</td>\n",
       "    </tr>\n",
       "    <tr>\n",
       "      <th>232</th>\n",
       "      <td>232</td>\n",
       "      <td>[car, car, traffic light, truck, traffic light...</td>\n",
       "      <td>[[740.5250244140625, 414.62310791015625, 1099....</td>\n",
       "      <td>[0.88, 0.83, 0.69, 0.6, 0.59, 0.51, 0.46]</td>\n",
       "    </tr>\n",
       "    <tr>\n",
       "      <th>233</th>\n",
       "      <td>233</td>\n",
       "      <td>[car, car, traffic light, traffic light, person]</td>\n",
       "      <td>[[768.5474853515625, 416.8846130371094, 1049.6...</td>\n",
       "      <td>[0.89, 0.85, 0.66, 0.58, 0.47]</td>\n",
       "    </tr>\n",
       "    <tr>\n",
       "      <th>234</th>\n",
       "      <td>234</td>\n",
       "      <td>[car, traffic light, car, traffic light, truck]</td>\n",
       "      <td>[[514.0872192382812, 429.6484375, 904.81982421...</td>\n",
       "      <td>[0.76, 0.67, 0.66, 0.59, 0.45]</td>\n",
       "    </tr>\n",
       "    <tr>\n",
       "      <th>235</th>\n",
       "      <td>235</td>\n",
       "      <td>[car, traffic light, traffic light, truck, per...</td>\n",
       "      <td>[[576.6544189453125, 428.54644775390625, 969.3...</td>\n",
       "      <td>[0.72, 0.69, 0.61, 0.52, 0.41]</td>\n",
       "    </tr>\n",
       "    <tr>\n",
       "      <th>236</th>\n",
       "      <td>236</td>\n",
       "      <td>[truck, person, traffic light, car, traffic li...</td>\n",
       "      <td>[[640.05322265625, 428.22540283203125, 1037.35...</td>\n",
       "      <td>[0.77, 0.68, 0.65, 0.63, 0.58, 0.43, 0.31]</td>\n",
       "    </tr>\n",
       "  </tbody>\n",
       "</table>\n",
       "<p>237 rows × 4 columns</p>\n",
       "</div>"
      ],
      "text/plain": [
       "     objectdetectionvideos.id  \\\n",
       "0                           0   \n",
       "1                           1   \n",
       "2                           2   \n",
       "3                           3   \n",
       "4                           4   \n",
       "..                        ...   \n",
       "232                       232   \n",
       "233                       233   \n",
       "234                       234   \n",
       "235                       235   \n",
       "236                       236   \n",
       "\n",
       "                                           yolo.labels  \\\n",
       "0                       [traffic light, traffic light]   \n",
       "1           [truck, traffic light, traffic light, car]   \n",
       "2                               [truck, traffic light]   \n",
       "3                               [truck, traffic light]   \n",
       "4                [truck, traffic light, traffic light]   \n",
       "..                                                 ...   \n",
       "232  [car, car, traffic light, truck, traffic light...   \n",
       "233   [car, car, traffic light, traffic light, person]   \n",
       "234    [car, traffic light, car, traffic light, truck]   \n",
       "235  [car, traffic light, traffic light, truck, per...   \n",
       "236  [truck, person, traffic light, car, traffic li...   \n",
       "\n",
       "                                           yolo.bboxes  \\\n",
       "0    [[1209.5908203125, 363.62115478515625, 1228.27...   \n",
       "1    [[1254.342529296875, 425.235595703125, 1471.82...   \n",
       "2    [[1262.8585205078125, 426.02020263671875, 1470...   \n",
       "3    [[1277.282958984375, 429.562744140625, 1503.24...   \n",
       "4    [[1275.486083984375, 423.3941650390625, 1532.6...   \n",
       "..                                                 ...   \n",
       "232  [[740.5250244140625, 414.62310791015625, 1099....   \n",
       "233  [[768.5474853515625, 416.8846130371094, 1049.6...   \n",
       "234  [[514.0872192382812, 429.6484375, 904.81982421...   \n",
       "235  [[576.6544189453125, 428.54644775390625, 969.3...   \n",
       "236  [[640.05322265625, 428.22540283203125, 1037.35...   \n",
       "\n",
       "                                    yolo.scores  \n",
       "0                                  [0.44, 0.42]  \n",
       "1                      [0.56, 0.55, 0.35, 0.31]  \n",
       "2                                  [0.48, 0.35]  \n",
       "3                                  [0.56, 0.44]  \n",
       "4                            [0.67, 0.58, 0.39]  \n",
       "..                                          ...  \n",
       "232   [0.88, 0.83, 0.69, 0.6, 0.59, 0.51, 0.46]  \n",
       "233              [0.89, 0.85, 0.66, 0.58, 0.47]  \n",
       "234              [0.76, 0.67, 0.66, 0.59, 0.45]  \n",
       "235              [0.72, 0.69, 0.61, 0.52, 0.41]  \n",
       "236  [0.77, 0.68, 0.65, 0.63, 0.58, 0.43, 0.31]  \n",
       "\n",
       "[237 rows x 4 columns]"
      ]
     },
     "execution_count": 8,
     "metadata": {},
     "output_type": "execute_result"
    }
   ],
   "source": [
    "cursor.query(\"SELECT id, Yolo(data) FROM ObjectDetectionVideos\").df()"
   ]
  },
  {
   "cell_type": "code",
   "execution_count": 6,
   "metadata": {},
   "outputs": [
    {
     "ename": "UnexpectedToken",
     "evalue": "Unexpected token Token('COMMA', ',') at line 3, column 52.\nExpected one of: \n\t* ID\n\t* REVERSE_QUOTE_ID\nPrevious tokens: [Token('DOT', '.')]\n",
     "output_type": "error",
     "traceback": [
      "\u001b[0;31m---------------------------------------------------------------------------\u001b[0m",
      "\u001b[0;31mUnexpectedCharacters\u001b[0m                      Traceback (most recent call last)",
      "File \u001b[0;32m~/miniconda3/envs/apperception/lib/python3.10/site-packages/lark/lexer.py:590\u001b[0m, in \u001b[0;36mContextualLexer.lex\u001b[0;34m(self, lexer_state, parser_state)\u001b[0m\n\u001b[1;32m    589\u001b[0m         lexer \u001b[39m=\u001b[39m \u001b[39mself\u001b[39m\u001b[39m.\u001b[39mlexers[parser_state\u001b[39m.\u001b[39mposition]\n\u001b[0;32m--> 590\u001b[0m         \u001b[39myield\u001b[39;00m lexer\u001b[39m.\u001b[39;49mnext_token(lexer_state, parser_state)\n\u001b[1;32m    591\u001b[0m \u001b[39mexcept\u001b[39;00m \u001b[39mEOFError\u001b[39;00m:\n",
      "File \u001b[0;32m~/miniconda3/envs/apperception/lib/python3.10/site-packages/lark/lexer.py:528\u001b[0m, in \u001b[0;36mBasicLexer.next_token\u001b[0;34m(self, lex_state, parser_state)\u001b[0m\n\u001b[1;32m    527\u001b[0m         allowed \u001b[39m=\u001b[39m {\u001b[39m\"\u001b[39m\u001b[39m<END-OF-FILE>\u001b[39m\u001b[39m\"\u001b[39m}\n\u001b[0;32m--> 528\u001b[0m     \u001b[39mraise\u001b[39;00m UnexpectedCharacters(lex_state\u001b[39m.\u001b[39mtext, line_ctr\u001b[39m.\u001b[39mchar_pos, line_ctr\u001b[39m.\u001b[39mline, line_ctr\u001b[39m.\u001b[39mcolumn,\n\u001b[1;32m    529\u001b[0m                                allowed\u001b[39m=\u001b[39mallowed, token_history\u001b[39m=\u001b[39mlex_state\u001b[39m.\u001b[39mlast_token \u001b[39mand\u001b[39;00m [lex_state\u001b[39m.\u001b[39mlast_token],\n\u001b[1;32m    530\u001b[0m                                state\u001b[39m=\u001b[39mparser_state, terminals_by_name\u001b[39m=\u001b[39m\u001b[39mself\u001b[39m\u001b[39m.\u001b[39mterminals_by_name)\n\u001b[1;32m    532\u001b[0m value, type_ \u001b[39m=\u001b[39m res\n",
      "\u001b[0;31mUnexpectedCharacters\u001b[0m: No terminal matches ',' in the current parser context, at line 3 col 52\n\n WHERE Intersection(Location(Yolo(data)., MonodepthDetection(data)));\n                                        ^\nExpected one of: \n\t* ID\n\t* REVERSE_QUOTE_ID\n\nPrevious tokens: Token('DOT', '.')\n",
      "\nDuring handling of the above exception, another exception occurred:\n",
      "\u001b[0;31mUnexpectedToken\u001b[0m                           Traceback (most recent call last)",
      "Cell \u001b[0;32mIn[6], line 2\u001b[0m\n\u001b[1;32m      1\u001b[0m \u001b[39m### Run query\u001b[39;00m\n\u001b[0;32m----> 2\u001b[0m cursor\u001b[39m.\u001b[39;49mquery(\u001b[39m\"\"\"\u001b[39;49m\n\u001b[1;32m      3\u001b[0m \u001b[39m            SELECT id, Yolo(data) FROM ObjectDetectionVideos\u001b[39;49m\n\u001b[1;32m      4\u001b[0m \u001b[39m            WHERE Intersection(Location(Yolo(data)., MonodepthDetection(data)))\u001b[39;49m\n\u001b[1;32m      5\u001b[0m \u001b[39m\"\"\"\u001b[39;49m)\u001b[39m.\u001b[39mdf()\n",
      "File \u001b[0;32m~/miniconda3/envs/apperception/lib/python3.10/site-packages/evadb/interfaces/relational/db.py:442\u001b[0m, in \u001b[0;36mEvaDBCursor.query\u001b[0;34m(self, sql_query)\u001b[0m\n\u001b[1;32m    424\u001b[0m \u001b[39mdef\u001b[39;00m \u001b[39mquery\u001b[39m(\u001b[39mself\u001b[39m, sql_query: \u001b[39mstr\u001b[39m) \u001b[39m-\u001b[39m\u001b[39m>\u001b[39m EvaDBQuery:\n\u001b[1;32m    425\u001b[0m \u001b[39m    \u001b[39m\u001b[39m\"\"\"\u001b[39;00m\n\u001b[1;32m    426\u001b[0m \u001b[39m    Executes a SQL query.\u001b[39;00m\n\u001b[1;32m    427\u001b[0m \n\u001b[0;32m   (...)\u001b[0m\n\u001b[1;32m    440\u001b[0m \u001b[39m        2     5     6\u001b[39;00m\n\u001b[1;32m    441\u001b[0m \u001b[39m    \"\"\"\u001b[39;00m\n\u001b[0;32m--> 442\u001b[0m     stmt \u001b[39m=\u001b[39m parse_query(sql_query)\n\u001b[1;32m    443\u001b[0m     \u001b[39mreturn\u001b[39;00m EvaDBQuery(\u001b[39mself\u001b[39m\u001b[39m.\u001b[39m_evadb, stmt)\n",
      "File \u001b[0;32m~/miniconda3/envs/apperception/lib/python3.10/site-packages/evadb/parser/utils.py:142\u001b[0m, in \u001b[0;36mparse_query\u001b[0;34m(query)\u001b[0m\n\u001b[1;32m    141\u001b[0m \u001b[39mdef\u001b[39;00m \u001b[39mparse_query\u001b[39m(query):\n\u001b[0;32m--> 142\u001b[0m     stmt \u001b[39m=\u001b[39m Parser()\u001b[39m.\u001b[39;49mparse(query)\n\u001b[1;32m    143\u001b[0m     \u001b[39massert\u001b[39;00m \u001b[39mlen\u001b[39m(stmt) \u001b[39m==\u001b[39m \u001b[39m1\u001b[39m\n\u001b[1;32m    144\u001b[0m     \u001b[39mreturn\u001b[39;00m stmt[\u001b[39m0\u001b[39m]\n",
      "File \u001b[0;32m~/miniconda3/envs/apperception/lib/python3.10/site-packages/evadb/parser/parser.py:38\u001b[0m, in \u001b[0;36mParser.parse\u001b[0;34m(self, query_string)\u001b[0m\n\u001b[1;32m     37\u001b[0m \u001b[39mdef\u001b[39;00m \u001b[39mparse\u001b[39m(\u001b[39mself\u001b[39m, query_string: \u001b[39mstr\u001b[39m) \u001b[39m-\u001b[39m\u001b[39m>\u001b[39m \u001b[39mlist\u001b[39m:\n\u001b[0;32m---> 38\u001b[0m     lark_output \u001b[39m=\u001b[39m \u001b[39mself\u001b[39;49m\u001b[39m.\u001b[39;49m_lark_parser\u001b[39m.\u001b[39;49mparse(query_string)\n\u001b[1;32m     39\u001b[0m     \u001b[39mreturn\u001b[39;00m lark_output\n",
      "File \u001b[0;32m~/miniconda3/envs/apperception/lib/python3.10/site-packages/evadb/parser/lark_parser.py:49\u001b[0m, in \u001b[0;36mLarkParser.parse\u001b[0;34m(self, query_string)\u001b[0m\n\u001b[1;32m     46\u001b[0m \u001b[39mif\u001b[39;00m \u001b[39mnot\u001b[39;00m query_string\u001b[39m.\u001b[39mendswith(\u001b[39m\"\u001b[39m\u001b[39m;\u001b[39m\u001b[39m\"\u001b[39m):\n\u001b[1;32m     47\u001b[0m     query_string \u001b[39m+\u001b[39m\u001b[39m=\u001b[39m \u001b[39m\"\u001b[39m\u001b[39m;\u001b[39m\u001b[39m\"\u001b[39m\n\u001b[0;32m---> 49\u001b[0m tree \u001b[39m=\u001b[39m \u001b[39mself\u001b[39;49m\u001b[39m.\u001b[39;49m_parser\u001b[39m.\u001b[39;49mparse(query_string)\n\u001b[1;32m     50\u001b[0m output \u001b[39m=\u001b[39m LarkInterpreter(query_string)\u001b[39m.\u001b[39mvisit(tree)\n\u001b[1;32m     52\u001b[0m \u001b[39m# convert output to list if it is a single element\u001b[39;00m\n",
      "File \u001b[0;32m~/miniconda3/envs/apperception/lib/python3.10/site-packages/lark/lark.py:645\u001b[0m, in \u001b[0;36mLark.parse\u001b[0;34m(self, text, start, on_error)\u001b[0m\n\u001b[1;32m    627\u001b[0m \u001b[39mdef\u001b[39;00m \u001b[39mparse\u001b[39m(\u001b[39mself\u001b[39m, text: \u001b[39mstr\u001b[39m, start: Optional[\u001b[39mstr\u001b[39m]\u001b[39m=\u001b[39m\u001b[39mNone\u001b[39;00m, on_error: \u001b[39m'\u001b[39m\u001b[39mOptional[Callable[[UnexpectedInput], bool]]\u001b[39m\u001b[39m'\u001b[39m\u001b[39m=\u001b[39m\u001b[39mNone\u001b[39;00m) \u001b[39m-\u001b[39m\u001b[39m>\u001b[39m \u001b[39m'\u001b[39m\u001b[39mParseTree\u001b[39m\u001b[39m'\u001b[39m:\n\u001b[1;32m    628\u001b[0m \u001b[39m    \u001b[39m\u001b[39m\"\"\"Parse the given text, according to the options provided.\u001b[39;00m\n\u001b[1;32m    629\u001b[0m \n\u001b[1;32m    630\u001b[0m \u001b[39m    Parameters:\u001b[39;00m\n\u001b[0;32m   (...)\u001b[0m\n\u001b[1;32m    643\u001b[0m \n\u001b[1;32m    644\u001b[0m \u001b[39m    \"\"\"\u001b[39;00m\n\u001b[0;32m--> 645\u001b[0m     \u001b[39mreturn\u001b[39;00m \u001b[39mself\u001b[39;49m\u001b[39m.\u001b[39;49mparser\u001b[39m.\u001b[39;49mparse(text, start\u001b[39m=\u001b[39;49mstart, on_error\u001b[39m=\u001b[39;49mon_error)\n",
      "File \u001b[0;32m~/miniconda3/envs/apperception/lib/python3.10/site-packages/lark/parser_frontends.py:96\u001b[0m, in \u001b[0;36mParsingFrontend.parse\u001b[0;34m(self, text, start, on_error)\u001b[0m\n\u001b[1;32m     94\u001b[0m kw \u001b[39m=\u001b[39m {} \u001b[39mif\u001b[39;00m on_error \u001b[39mis\u001b[39;00m \u001b[39mNone\u001b[39;00m \u001b[39melse\u001b[39;00m {\u001b[39m'\u001b[39m\u001b[39mon_error\u001b[39m\u001b[39m'\u001b[39m: on_error}\n\u001b[1;32m     95\u001b[0m stream \u001b[39m=\u001b[39m \u001b[39mself\u001b[39m\u001b[39m.\u001b[39m_make_lexer_thread(text)\n\u001b[0;32m---> 96\u001b[0m \u001b[39mreturn\u001b[39;00m \u001b[39mself\u001b[39;49m\u001b[39m.\u001b[39;49mparser\u001b[39m.\u001b[39;49mparse(stream, chosen_start, \u001b[39m*\u001b[39;49m\u001b[39m*\u001b[39;49mkw)\n",
      "File \u001b[0;32m~/miniconda3/envs/apperception/lib/python3.10/site-packages/lark/parsers/lalr_parser.py:41\u001b[0m, in \u001b[0;36mLALR_Parser.parse\u001b[0;34m(self, lexer, start, on_error)\u001b[0m\n\u001b[1;32m     39\u001b[0m \u001b[39mdef\u001b[39;00m \u001b[39mparse\u001b[39m(\u001b[39mself\u001b[39m, lexer, start, on_error\u001b[39m=\u001b[39m\u001b[39mNone\u001b[39;00m):\n\u001b[1;32m     40\u001b[0m     \u001b[39mtry\u001b[39;00m:\n\u001b[0;32m---> 41\u001b[0m         \u001b[39mreturn\u001b[39;00m \u001b[39mself\u001b[39;49m\u001b[39m.\u001b[39;49mparser\u001b[39m.\u001b[39;49mparse(lexer, start)\n\u001b[1;32m     42\u001b[0m     \u001b[39mexcept\u001b[39;00m UnexpectedInput \u001b[39mas\u001b[39;00m e:\n\u001b[1;32m     43\u001b[0m         \u001b[39mif\u001b[39;00m on_error \u001b[39mis\u001b[39;00m \u001b[39mNone\u001b[39;00m:\n",
      "File \u001b[0;32m~/miniconda3/envs/apperception/lib/python3.10/site-packages/lark/parsers/lalr_parser.py:171\u001b[0m, in \u001b[0;36m_Parser.parse\u001b[0;34m(self, lexer, start, value_stack, state_stack, start_interactive)\u001b[0m\n\u001b[1;32m    169\u001b[0m \u001b[39mif\u001b[39;00m start_interactive:\n\u001b[1;32m    170\u001b[0m     \u001b[39mreturn\u001b[39;00m InteractiveParser(\u001b[39mself\u001b[39m, parser_state, parser_state\u001b[39m.\u001b[39mlexer)\n\u001b[0;32m--> 171\u001b[0m \u001b[39mreturn\u001b[39;00m \u001b[39mself\u001b[39;49m\u001b[39m.\u001b[39;49mparse_from_state(parser_state)\n",
      "File \u001b[0;32m~/miniconda3/envs/apperception/lib/python3.10/site-packages/lark/parsers/lalr_parser.py:193\u001b[0m, in \u001b[0;36m_Parser.parse_from_state\u001b[0;34m(self, state, last_token)\u001b[0m\n\u001b[1;32m    191\u001b[0m     \u001b[39mexcept\u001b[39;00m \u001b[39mNameError\u001b[39;00m:\n\u001b[1;32m    192\u001b[0m         \u001b[39mpass\u001b[39;00m\n\u001b[0;32m--> 193\u001b[0m     \u001b[39mraise\u001b[39;00m e\n\u001b[1;32m    194\u001b[0m \u001b[39mexcept\u001b[39;00m \u001b[39mException\u001b[39;00m \u001b[39mas\u001b[39;00m e:\n\u001b[1;32m    195\u001b[0m     \u001b[39mif\u001b[39;00m \u001b[39mself\u001b[39m\u001b[39m.\u001b[39mdebug:\n",
      "File \u001b[0;32m~/miniconda3/envs/apperception/lib/python3.10/site-packages/lark/parsers/lalr_parser.py:183\u001b[0m, in \u001b[0;36m_Parser.parse_from_state\u001b[0;34m(self, state, last_token)\u001b[0m\n\u001b[1;32m    181\u001b[0m \u001b[39mtry\u001b[39;00m:\n\u001b[1;32m    182\u001b[0m     token \u001b[39m=\u001b[39m last_token\n\u001b[0;32m--> 183\u001b[0m     \u001b[39mfor\u001b[39;00m token \u001b[39min\u001b[39;00m state\u001b[39m.\u001b[39mlexer\u001b[39m.\u001b[39mlex(state):\n\u001b[1;32m    184\u001b[0m         state\u001b[39m.\u001b[39mfeed_token(token)\n\u001b[1;32m    186\u001b[0m     end_token \u001b[39m=\u001b[39m Token\u001b[39m.\u001b[39mnew_borrow_pos(\u001b[39m'\u001b[39m\u001b[39m$END\u001b[39m\u001b[39m'\u001b[39m, \u001b[39m'\u001b[39m\u001b[39m'\u001b[39m, token) \u001b[39mif\u001b[39;00m token \u001b[39melse\u001b[39;00m Token(\u001b[39m'\u001b[39m\u001b[39m$END\u001b[39m\u001b[39m'\u001b[39m, \u001b[39m'\u001b[39m\u001b[39m'\u001b[39m, \u001b[39m0\u001b[39m, \u001b[39m1\u001b[39m, \u001b[39m1\u001b[39m)\n",
      "File \u001b[0;32m~/miniconda3/envs/apperception/lib/python3.10/site-packages/lark/lexer.py:599\u001b[0m, in \u001b[0;36mContextualLexer.lex\u001b[0;34m(self, lexer_state, parser_state)\u001b[0m\n\u001b[1;32m    597\u001b[0m     last_token \u001b[39m=\u001b[39m lexer_state\u001b[39m.\u001b[39mlast_token  \u001b[39m# Save last_token. Calling root_lexer.next_token will change this to the wrong token\u001b[39;00m\n\u001b[1;32m    598\u001b[0m     token \u001b[39m=\u001b[39m \u001b[39mself\u001b[39m\u001b[39m.\u001b[39mroot_lexer\u001b[39m.\u001b[39mnext_token(lexer_state, parser_state)\n\u001b[0;32m--> 599\u001b[0m     \u001b[39mraise\u001b[39;00m UnexpectedToken(token, e\u001b[39m.\u001b[39mallowed, state\u001b[39m=\u001b[39mparser_state, token_history\u001b[39m=\u001b[39m[last_token], terminals_by_name\u001b[39m=\u001b[39m\u001b[39mself\u001b[39m\u001b[39m.\u001b[39mroot_lexer\u001b[39m.\u001b[39mterminals_by_name)\n\u001b[1;32m    600\u001b[0m \u001b[39mexcept\u001b[39;00m UnexpectedCharacters:\n\u001b[1;32m    601\u001b[0m     \u001b[39mraise\u001b[39;00m e\n",
      "\u001b[0;31mUnexpectedToken\u001b[0m: Unexpected token Token('COMMA', ',') at line 3, column 52.\nExpected one of: \n\t* ID\n\t* REVERSE_QUOTE_ID\nPrevious tokens: [Token('DOT', '.')]\n"
     ]
    }
   ],
   "source": [
    "### Run query\n",
    "cursor.query(\"\"\"\n",
    "            SELECT id, Yolo(data) FROM ObjectDetectionVideos\n",
    "            WHERE Intersection(Location(Yolo(data)., MonodepthDetection(data)))\n",
    "\"\"\").df()\n"
   ]
  },
  {
   "cell_type": "code",
   "execution_count": null,
   "metadata": {},
   "outputs": [],
   "source": []
  }
 ],
 "metadata": {
  "kernelspec": {
   "display_name": "apperception",
   "language": "python",
   "name": "python3"
  },
  "language_info": {
   "codemirror_mode": {
    "name": "ipython",
    "version": 3
   },
   "file_extension": ".py",
   "mimetype": "text/x-python",
   "name": "python",
   "nbconvert_exporter": "python",
   "pygments_lexer": "ipython3",
   "version": "3.10.12"
  },
  "orig_nbformat": 4
 },
 "nbformat": 4,
 "nbformat_minor": 2
}
