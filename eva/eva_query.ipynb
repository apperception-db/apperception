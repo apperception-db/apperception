{
 "cells": [
  {
   "cell_type": "code",
   "execution_count": null,
   "metadata": {},
   "outputs": [],
   "source": [
    "%pip install --quiet \"evadb[vision,notebook]\"\n",
    "import evadb\n",
    "cursor = evadb.connect().cursor()\n",
    "\"\"\"\n",
    "Issues Encountered:\n",
    "cant have negative numbers in multidimensional arrays\n",
    "cant have camel case words\n",
    "cant have float attributes\n",
    "cant change column types of udf without restarting db and deleting\n",
    "query takes infinitley long when UDF in \n",
    "inner join does not work\n",
    "\"\"\""
   ]
  },
  {
   "cell_type": "code",
   "execution_count": null,
   "metadata": {},
   "outputs": [],
   "source": [
    "### Set up Yolo UDF\n",
    "cursor.query(\"\"\"\n",
    "            CREATE UDF IF NOT EXISTS Yolo\n",
    "            TYPE  ultralytics\n",
    "            'model' 'yolov8m.pt';\n",
    "    \"\"\").df() "
   ]
  },
  {
   "cell_type": "code",
   "execution_count": null,
   "metadata": {},
   "outputs": [],
   "source": [
    "### Set up Monodepth UDF\n",
    "cursor.query(\"\"\" \n",
    "            CREATE UDF IF NOT EXISTS MonodepthDetection\n",
    "            IMPL'/home/youse/apperception/eva/udfs/monodepth_detection.py';\n",
    "    \"\"\").df()"
   ]
  },
  {
   "cell_type": "code",
   "execution_count": null,
   "metadata": {},
   "outputs": [],
   "source": [
    "### Set up Location UDF\n",
    "cursor.query(\"\"\" \n",
    "            CREATE UDF IF NOT EXISTS LocationDetection\n",
    "            IMPL'/home/youse/apperception/eva/udfs/location_detection.py';\n",
    "    \"\"\").df()"
   ]
  },
  {
   "cell_type": "code",
   "execution_count": null,
   "metadata": {},
   "outputs": [],
   "source": [
    "### Set up Intersection Query UDF\n",
    "cursor.query(\"\"\" \n",
    "            CREATE UDF IF NOT EXISTS IntersectionQuery\n",
    "            IMPL'/home/youse/apperception/eva/udfs/intersection_query.py';\n",
    "    \"\"\").df()"
   ]
  },
  {
   "cell_type": "code",
   "execution_count": null,
   "metadata": {},
   "outputs": [],
   "source": [
    "### Set up SameVideo UDF\n",
    "cursor.query(\"\"\" \n",
    "            CREATE UDF IF NOT EXISTS SameVideo\n",
    "            IMPL'/home/youse/apperception/eva/udfs/same_video.py';\n",
    "    \"\"\").df()"
   ]
  },
  {
   "cell_type": "code",
   "execution_count": null,
   "metadata": {},
   "outputs": [],
   "source": [
    "# Certain attributes are made TEXTs due to issues Eva has with negative numbers\n",
    "cursor.query(\"DROP TABLE IF EXISTS CameraConfigs;\").df()\n",
    "cursor.create_table(\"CameraConfigs\", if_not_exists=True, columns=\"\"\"\n",
    "                cameraid TEXT(15),\n",
    "                framenum INTEGER,\n",
    "                cameratranslation NDARRAY FLOAT32(ANYDIM),\n",
    "                camerarotation TEXT(100),\n",
    "                cameraintrinsic NDARRAY FLOAT32(ANYDIM),\n",
    "                egoheading TEXT(15),\n",
    "                filename TEXT(30)\n",
    "            \"\"\").df()\n"
   ]
  },
  {
   "cell_type": "code",
   "execution_count": null,
   "metadata": {},
   "outputs": [],
   "source": [
    "### Load Data\n",
    "from apperception.database import database\n",
    "import pandas as pd\n",
    "\n",
    "with open(\"scene-names.txt\", 'r') as f:\n",
    "    for sceneNumber in f.readlines():\n",
    "        sceneNumber = sceneNumber.strip()\n",
    "        # Load videos\n",
    "        video_name = f\"boston-seaport-scene-{sceneNumber}-CAM_FRONT.mp4\"\n",
    "        scene = f\"scene-{sceneNumber}-CAM_FRONT\"\n",
    "        video_path = \"/data/processed/full-dataset/trainval/videos/\"\n",
    "        cursor.query(\"DROP TABLE IF EXISTS ObjectDetectionVideos;\").df()\n",
    "        cursor.load(file_regex=video_path + video_name, format=\"VIDEO\", table_name='ObjectDetectionVideos').df()\n",
    "\n",
    "        # Add camera configs\n",
    "        result = database.execute(f\"SELECT cameraId, frameNum, cameraTranslation, cameraRotation, cameraIntrinsic, egoHeading, filename FROM Cameras WHERE cameraId = '{scene}'\")\n",
    "        df = pd.DataFrame()\n",
    "        for r in result:\n",
    "            cameraId, frameNum, cameraTranslation, cameraRotation, cameraIntrinsic, egoHeading, filename = r\n",
    "            cameraTranslation = list(cameraTranslation)\n",
    "            # FrameNums in Eva are zero-indexed, so we subtract one before inserting\n",
    "            cursor.query(f\"\"\"INSERT INTO CameraConfigs (cameraid, framenum, cameratranslation, camerarotation, cameraintrinsic, egoheading, filename) VALUES\n",
    "                                        ('{cameraId}', {frameNum - 1}, {cameraTranslation}, '{cameraRotation}', {cameraIntrinsic}, '{egoHeading}', '{filename}');\"\"\").df()\n",
    "\n",
    "        "
   ]
  },
  {
   "cell_type": "code",
   "execution_count": null,
   "metadata": {},
   "outputs": [],
   "source": [
    "### Run query\n",
    "res = cursor.query(\"\"\"\n",
    "            SELECT framenum, id, cameraid, filename, name, egoheading, IntersectionQuery(LocationDetection(Yolo(data), MonodepthDetection(data).depth, cameratranslation, camerarotation, cameraintrinsic)) \n",
    "                FROM ObjectDetectionVideos JOIN CameraConfigs ON (id = framenum AND SameVideo(name, cameraid).issame)\n",
    "                WHERE IntersectionQuery(LocationDetection(Yolo(data), MonodepthDetection(data).depth, cameratranslation, camerarotation, cameraintrinsic)).queryresult = 1\n",
    "\"\"\").df()"
   ]
  },
  {
   "cell_type": "code",
   "execution_count": null,
   "metadata": {},
   "outputs": [],
   "source": [
    "pd.set_option('display.max_colwidth', None)\n",
    "res"
   ]
  },
  {
   "cell_type": "code",
   "execution_count": null,
   "metadata": {},
   "outputs": [],
   "source": [
    "import cv2\n",
    "import matplotlib.pyplot as plt\n",
    "\n",
    "def displayFrame(row):\n",
    "    prefix = \"/data/raw/full-dataset/mini/\"\n",
    "    # itemIds = ['scene-0757-CAM_FRONT_obj_44', 'scene-0757-CAM_FRONT_obj_23']\n",
    "    frame_im = cv2.imread(prefix + row['cameraconfigs.filename'])\n",
    "    plt.imshow(frame_im)\n",
    "\n",
    "res.apply(displayFrame, axis=1)"
   ]
  }
 ],
 "metadata": {
  "kernelspec": {
   "display_name": "apperception",
   "language": "python",
   "name": "python3"
  },
  "language_info": {
   "codemirror_mode": {
    "name": "ipython",
    "version": 3
   },
   "file_extension": ".py",
   "mimetype": "text/x-python",
   "name": "python",
   "nbconvert_exporter": "python",
   "pygments_lexer": "ipython3",
   "version": "3.10.12"
  },
  "orig_nbformat": 4
 },
 "nbformat": 4,
 "nbformat_minor": 2
}
