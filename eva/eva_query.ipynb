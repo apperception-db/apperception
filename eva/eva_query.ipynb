{
 "cells": [
  {
   "cell_type": "code",
   "execution_count": 1,
   "metadata": {},
   "outputs": [
    {
     "name": "stdout",
     "output_type": "stream",
     "text": [
      "Note: you may need to restart the kernel to use updated packages.\n"
     ]
    },
    {
     "data": {
      "text/plain": [
       "'\\nIssues Encountered:\\ncant have negative numbers in multidimensional arrays\\ncant have camel case words\\ncant have float attributes\\n'"
      ]
     },
     "execution_count": 1,
     "metadata": {},
     "output_type": "execute_result"
    }
   ],
   "source": [
    "%pip install --quiet \"evadb[vision,notebook]\"\n",
    "import evadb\n",
    "cursor = evadb.connect().cursor()\n",
    "\"\"\"\n",
    "Issues Encountered:\n",
    "cant have negative numbers in multidimensional arrays\n",
    "cant have camel case words\n",
    "cant have float attributes\n",
    "\"\"\""
   ]
  },
  {
   "cell_type": "code",
   "execution_count": 2,
   "metadata": {},
   "outputs": [
    {
     "data": {
      "text/html": [
       "<div>\n",
       "<style scoped>\n",
       "    .dataframe tbody tr th:only-of-type {\n",
       "        vertical-align: middle;\n",
       "    }\n",
       "\n",
       "    .dataframe tbody tr th {\n",
       "        vertical-align: top;\n",
       "    }\n",
       "\n",
       "    .dataframe thead th {\n",
       "        text-align: right;\n",
       "    }\n",
       "</style>\n",
       "<table border=\"1\" class=\"dataframe\">\n",
       "  <thead>\n",
       "    <tr style=\"text-align: right;\">\n",
       "      <th></th>\n",
       "      <th>0</th>\n",
       "    </tr>\n",
       "  </thead>\n",
       "  <tbody>\n",
       "    <tr>\n",
       "      <th>0</th>\n",
       "      <td>UDF Yolo already exists, nothing added.</td>\n",
       "    </tr>\n",
       "  </tbody>\n",
       "</table>\n",
       "</div>"
      ],
      "text/plain": [
       "                                         0\n",
       "0  UDF Yolo already exists, nothing added."
      ]
     },
     "execution_count": 2,
     "metadata": {},
     "output_type": "execute_result"
    }
   ],
   "source": [
    "### Set up Yolo UDF\n",
    "cursor.query(\"\"\"\n",
    "            CREATE UDF IF NOT EXISTS Yolo\n",
    "            TYPE  ultralytics\n",
    "            'model' 'yolov8m.pt';\n",
    "    \"\"\").df() "
   ]
  },
  {
   "cell_type": "code",
   "execution_count": 3,
   "metadata": {},
   "outputs": [
    {
     "data": {
      "text/html": [
       "<div>\n",
       "<style scoped>\n",
       "    .dataframe tbody tr th:only-of-type {\n",
       "        vertical-align: middle;\n",
       "    }\n",
       "\n",
       "    .dataframe tbody tr th {\n",
       "        vertical-align: top;\n",
       "    }\n",
       "\n",
       "    .dataframe thead th {\n",
       "        text-align: right;\n",
       "    }\n",
       "</style>\n",
       "<table border=\"1\" class=\"dataframe\">\n",
       "  <thead>\n",
       "    <tr style=\"text-align: right;\">\n",
       "      <th></th>\n",
       "      <th>0</th>\n",
       "    </tr>\n",
       "  </thead>\n",
       "  <tbody>\n",
       "    <tr>\n",
       "      <th>0</th>\n",
       "      <td>UDF MonodepthDetection already exists, nothing...</td>\n",
       "    </tr>\n",
       "  </tbody>\n",
       "</table>\n",
       "</div>"
      ],
      "text/plain": [
       "                                                   0\n",
       "0  UDF MonodepthDetection already exists, nothing..."
      ]
     },
     "execution_count": 3,
     "metadata": {},
     "output_type": "execute_result"
    }
   ],
   "source": [
    "### Set up Monodepth UDF\n",
    "cursor.query(\"\"\" \n",
    "            CREATE UDF IF NOT EXISTS MonodepthDetection\n",
    "            IMPL'/home/youse/apperception/eva/udfs/monodepth_detection.py';\n",
    "    \"\"\").df()"
   ]
  },
  {
   "cell_type": "code",
   "execution_count": 4,
   "metadata": {},
   "outputs": [
    {
     "data": {
      "text/html": [
       "<div>\n",
       "<style scoped>\n",
       "    .dataframe tbody tr th:only-of-type {\n",
       "        vertical-align: middle;\n",
       "    }\n",
       "\n",
       "    .dataframe tbody tr th {\n",
       "        vertical-align: top;\n",
       "    }\n",
       "\n",
       "    .dataframe thead th {\n",
       "        text-align: right;\n",
       "    }\n",
       "</style>\n",
       "<table border=\"1\" class=\"dataframe\">\n",
       "  <thead>\n",
       "    <tr style=\"text-align: right;\">\n",
       "      <th></th>\n",
       "      <th>0</th>\n",
       "    </tr>\n",
       "  </thead>\n",
       "  <tbody>\n",
       "    <tr>\n",
       "      <th>0</th>\n",
       "      <td>Number of loaded VIDEO: 1</td>\n",
       "    </tr>\n",
       "  </tbody>\n",
       "</table>\n",
       "</div>"
      ],
      "text/plain": [
       "                           0\n",
       "0  Number of loaded VIDEO: 1"
      ]
     },
     "execution_count": 4,
     "metadata": {},
     "output_type": "execute_result"
    }
   ],
   "source": [
    "### Load video\n",
    "video_name = \"boston-seaport-scene-0757-CAM_FRONT.mp4\"\n",
    "scene = \"scene-0757\"\n",
    "video_path = \"/data/processed/full-dataset/mini/videos/\"\n",
    "cursor.query(\"DROP TABLE IF EXISTS ObjectDetectionVideos;\").df()\n",
    "cursor.load(file_regex=video_path + video_name, format=\"VIDEO\", table_name='ObjectDetectionVideos').df()"
   ]
  },
  {
   "cell_type": "code",
   "execution_count": 5,
   "metadata": {},
   "outputs": [
    {
     "data": {
      "text/html": [
       "<div>\n",
       "<style scoped>\n",
       "    .dataframe tbody tr th:only-of-type {\n",
       "        vertical-align: middle;\n",
       "    }\n",
       "\n",
       "    .dataframe tbody tr th {\n",
       "        vertical-align: top;\n",
       "    }\n",
       "\n",
       "    .dataframe thead th {\n",
       "        text-align: right;\n",
       "    }\n",
       "</style>\n",
       "<table border=\"1\" class=\"dataframe\">\n",
       "  <thead>\n",
       "    <tr style=\"text-align: right;\">\n",
       "      <th></th>\n",
       "    </tr>\n",
       "  </thead>\n",
       "  <tbody>\n",
       "  </tbody>\n",
       "</table>\n",
       "</div>"
      ],
      "text/plain": [
       "Empty DataFrame\n",
       "Columns: []\n",
       "Index: []"
      ]
     },
     "execution_count": 5,
     "metadata": {},
     "output_type": "execute_result"
    }
   ],
   "source": [
    "cursor.query(\"DROP TABLE IF EXISTS CameraConfigs;\").df()\n",
    "cursor.create_table(\"CameraConfigs\", if_not_exists=True, columns=\"\"\"\n",
    "                cameraid TEXT(15),\n",
    "                framenum INTEGER,\n",
    "                cameratranslation NDARRAY FLOAT32(ANYDIM),\n",
    "                camerarotation TEXT(100),\n",
    "                cameraintrinsic NDARRAY FLOAT32(ANYDIM),\n",
    "                egoheading INTEGER\n",
    "            \"\"\").df()\n"
   ]
  },
  {
   "cell_type": "code",
   "execution_count": 6,
   "metadata": {},
   "outputs": [
    {
     "name": "stdout",
     "output_type": "stream",
     "text": [
      "/home/youse/apperception\n"
     ]
    },
    {
     "data": {
      "text/html": [
       "<div>\n",
       "<style scoped>\n",
       "    .dataframe tbody tr th:only-of-type {\n",
       "        vertical-align: middle;\n",
       "    }\n",
       "\n",
       "    .dataframe tbody tr th {\n",
       "        vertical-align: top;\n",
       "    }\n",
       "\n",
       "    .dataframe thead th {\n",
       "        text-align: right;\n",
       "    }\n",
       "</style>\n",
       "<table border=\"1\" class=\"dataframe\">\n",
       "  <thead>\n",
       "    <tr style=\"text-align: right;\">\n",
       "      <th></th>\n",
       "    </tr>\n",
       "  </thead>\n",
       "  <tbody>\n",
       "  </tbody>\n",
       "</table>\n",
       "</div>"
      ],
      "text/plain": [
       "Empty DataFrame\n",
       "Columns: []\n",
       "Index: []"
      ]
     },
     "execution_count": 6,
     "metadata": {},
     "output_type": "execute_result"
    }
   ],
   "source": [
    "### Add Camera Configs\n",
    "%cd ..\n",
    "from apperception.database import database\n",
    "import pandas as pd\n",
    "\n",
    "\n",
    "result = database.execute(f\"SELECT cameraId, frameNum, cameraTranslation, cameraRotation, cameraIntrinsic, egoHeading FROM Cameras WHERE cameraId = '{scene}'\")\n",
    "df = pd.DataFrame()\n",
    "for r in result:\n",
    "    cameraId, frameNum, cameraTranslation, cameraRotation, cameraIntrinsic, egoHeading = r\n",
    "    cameraTranslation = list(cameraTranslation)\n",
    "    cursor.query(f\"\"\"INSERT INTO CameraConfigs (cameraid, framenum, cameratranslation, camerarotation, cameraintrinsic, egoheading) VALUES\n",
    "                                ('{cameraId}', {frameNum}, {cameraTranslation}, '{cameraRotation}', {cameraIntrinsic}, {egoHeading});\"\"\").df()\n",
    "df\n",
    "    "
   ]
  },
  {
   "cell_type": "code",
   "execution_count": 7,
   "metadata": {},
   "outputs": [
    {
     "data": {
      "text/html": [
       "<div>\n",
       "<style scoped>\n",
       "    .dataframe tbody tr th:only-of-type {\n",
       "        vertical-align: middle;\n",
       "    }\n",
       "\n",
       "    .dataframe tbody tr th {\n",
       "        vertical-align: top;\n",
       "    }\n",
       "\n",
       "    .dataframe thead th {\n",
       "        text-align: right;\n",
       "    }\n",
       "</style>\n",
       "<table border=\"1\" class=\"dataframe\">\n",
       "  <thead>\n",
       "    <tr style=\"text-align: right;\">\n",
       "      <th></th>\n",
       "      <th>objectdetectionvideos.id</th>\n",
       "      <th>cameraconfigs.egoheading</th>\n",
       "    </tr>\n",
       "  </thead>\n",
       "  <tbody>\n",
       "    <tr>\n",
       "      <th>0</th>\n",
       "      <td>1</td>\n",
       "      <td>63.418377</td>\n",
       "    </tr>\n",
       "    <tr>\n",
       "      <th>1</th>\n",
       "      <td>2</td>\n",
       "      <td>63.410492</td>\n",
       "    </tr>\n",
       "    <tr>\n",
       "      <th>2</th>\n",
       "      <td>3</td>\n",
       "      <td>63.406160</td>\n",
       "    </tr>\n",
       "    <tr>\n",
       "      <th>3</th>\n",
       "      <td>4</td>\n",
       "      <td>63.397694</td>\n",
       "    </tr>\n",
       "    <tr>\n",
       "      <th>4</th>\n",
       "      <td>5</td>\n",
       "      <td>63.397503</td>\n",
       "    </tr>\n",
       "    <tr>\n",
       "      <th>5</th>\n",
       "      <td>6</td>\n",
       "      <td>63.394688</td>\n",
       "    </tr>\n",
       "    <tr>\n",
       "      <th>6</th>\n",
       "      <td>7</td>\n",
       "      <td>63.392323</td>\n",
       "    </tr>\n",
       "    <tr>\n",
       "      <th>7</th>\n",
       "      <td>8</td>\n",
       "      <td>63.392437</td>\n",
       "    </tr>\n",
       "    <tr>\n",
       "      <th>8</th>\n",
       "      <td>9</td>\n",
       "      <td>63.391420</td>\n",
       "    </tr>\n",
       "  </tbody>\n",
       "</table>\n",
       "</div>"
      ],
      "text/plain": [
       "   objectdetectionvideos.id  cameraconfigs.egoheading\n",
       "0                         1                 63.418377\n",
       "1                         2                 63.410492\n",
       "2                         3                 63.406160\n",
       "3                         4                 63.397694\n",
       "4                         5                 63.397503\n",
       "5                         6                 63.394688\n",
       "6                         7                 63.392323\n",
       "7                         8                 63.392437\n",
       "8                         9                 63.391420"
      ]
     },
     "execution_count": 7,
     "metadata": {},
     "output_type": "execute_result"
    }
   ],
   "source": [
    "cursor.query(\"SELECT id, egoheading FROM ObjectDetectionVideos JOIN CameraConfigs ON id = framenum\").df()"
   ]
  },
  {
   "cell_type": "code",
   "execution_count": 6,
   "metadata": {},
   "outputs": [
    {
     "ename": "UnexpectedToken",
     "evalue": "Unexpected token Token('COMMA', ',') at line 3, column 52.\nExpected one of: \n\t* ID\n\t* REVERSE_QUOTE_ID\nPrevious tokens: [Token('DOT', '.')]\n",
     "output_type": "error",
     "traceback": [
      "\u001b[0;31m---------------------------------------------------------------------------\u001b[0m",
      "\u001b[0;31mUnexpectedCharacters\u001b[0m                      Traceback (most recent call last)",
      "File \u001b[0;32m~/miniconda3/envs/apperception/lib/python3.10/site-packages/lark/lexer.py:590\u001b[0m, in \u001b[0;36mContextualLexer.lex\u001b[0;34m(self, lexer_state, parser_state)\u001b[0m\n\u001b[1;32m    589\u001b[0m         lexer \u001b[39m=\u001b[39m \u001b[39mself\u001b[39m\u001b[39m.\u001b[39mlexers[parser_state\u001b[39m.\u001b[39mposition]\n\u001b[0;32m--> 590\u001b[0m         \u001b[39myield\u001b[39;00m lexer\u001b[39m.\u001b[39;49mnext_token(lexer_state, parser_state)\n\u001b[1;32m    591\u001b[0m \u001b[39mexcept\u001b[39;00m \u001b[39mEOFError\u001b[39;00m:\n",
      "File \u001b[0;32m~/miniconda3/envs/apperception/lib/python3.10/site-packages/lark/lexer.py:528\u001b[0m, in \u001b[0;36mBasicLexer.next_token\u001b[0;34m(self, lex_state, parser_state)\u001b[0m\n\u001b[1;32m    527\u001b[0m         allowed \u001b[39m=\u001b[39m {\u001b[39m\"\u001b[39m\u001b[39m<END-OF-FILE>\u001b[39m\u001b[39m\"\u001b[39m}\n\u001b[0;32m--> 528\u001b[0m     \u001b[39mraise\u001b[39;00m UnexpectedCharacters(lex_state\u001b[39m.\u001b[39mtext, line_ctr\u001b[39m.\u001b[39mchar_pos, line_ctr\u001b[39m.\u001b[39mline, line_ctr\u001b[39m.\u001b[39mcolumn,\n\u001b[1;32m    529\u001b[0m                                allowed\u001b[39m=\u001b[39mallowed, token_history\u001b[39m=\u001b[39mlex_state\u001b[39m.\u001b[39mlast_token \u001b[39mand\u001b[39;00m [lex_state\u001b[39m.\u001b[39mlast_token],\n\u001b[1;32m    530\u001b[0m                                state\u001b[39m=\u001b[39mparser_state, terminals_by_name\u001b[39m=\u001b[39m\u001b[39mself\u001b[39m\u001b[39m.\u001b[39mterminals_by_name)\n\u001b[1;32m    532\u001b[0m value, type_ \u001b[39m=\u001b[39m res\n",
      "\u001b[0;31mUnexpectedCharacters\u001b[0m: No terminal matches ',' in the current parser context, at line 3 col 52\n\n WHERE Intersection(Location(Yolo(data)., MonodepthDetection(data)));\n                                        ^\nExpected one of: \n\t* ID\n\t* REVERSE_QUOTE_ID\n\nPrevious tokens: Token('DOT', '.')\n",
      "\nDuring handling of the above exception, another exception occurred:\n",
      "\u001b[0;31mUnexpectedToken\u001b[0m                           Traceback (most recent call last)",
      "Cell \u001b[0;32mIn[6], line 2\u001b[0m\n\u001b[1;32m      1\u001b[0m \u001b[39m### Run query\u001b[39;00m\n\u001b[0;32m----> 2\u001b[0m cursor\u001b[39m.\u001b[39;49mquery(\u001b[39m\"\"\"\u001b[39;49m\n\u001b[1;32m      3\u001b[0m \u001b[39m            SELECT id, Yolo(data) FROM ObjectDetectionVideos\u001b[39;49m\n\u001b[1;32m      4\u001b[0m \u001b[39m            WHERE Intersection(Location(Yolo(data)., MonodepthDetection(data)))\u001b[39;49m\n\u001b[1;32m      5\u001b[0m \u001b[39m\"\"\"\u001b[39;49m)\u001b[39m.\u001b[39mdf()\n",
      "File \u001b[0;32m~/miniconda3/envs/apperception/lib/python3.10/site-packages/evadb/interfaces/relational/db.py:442\u001b[0m, in \u001b[0;36mEvaDBCursor.query\u001b[0;34m(self, sql_query)\u001b[0m\n\u001b[1;32m    424\u001b[0m \u001b[39mdef\u001b[39;00m \u001b[39mquery\u001b[39m(\u001b[39mself\u001b[39m, sql_query: \u001b[39mstr\u001b[39m) \u001b[39m-\u001b[39m\u001b[39m>\u001b[39m EvaDBQuery:\n\u001b[1;32m    425\u001b[0m \u001b[39m    \u001b[39m\u001b[39m\"\"\"\u001b[39;00m\n\u001b[1;32m    426\u001b[0m \u001b[39m    Executes a SQL query.\u001b[39;00m\n\u001b[1;32m    427\u001b[0m \n\u001b[0;32m   (...)\u001b[0m\n\u001b[1;32m    440\u001b[0m \u001b[39m        2     5     6\u001b[39;00m\n\u001b[1;32m    441\u001b[0m \u001b[39m    \"\"\"\u001b[39;00m\n\u001b[0;32m--> 442\u001b[0m     stmt \u001b[39m=\u001b[39m parse_query(sql_query)\n\u001b[1;32m    443\u001b[0m     \u001b[39mreturn\u001b[39;00m EvaDBQuery(\u001b[39mself\u001b[39m\u001b[39m.\u001b[39m_evadb, stmt)\n",
      "File \u001b[0;32m~/miniconda3/envs/apperception/lib/python3.10/site-packages/evadb/parser/utils.py:142\u001b[0m, in \u001b[0;36mparse_query\u001b[0;34m(query)\u001b[0m\n\u001b[1;32m    141\u001b[0m \u001b[39mdef\u001b[39;00m \u001b[39mparse_query\u001b[39m(query):\n\u001b[0;32m--> 142\u001b[0m     stmt \u001b[39m=\u001b[39m Parser()\u001b[39m.\u001b[39;49mparse(query)\n\u001b[1;32m    143\u001b[0m     \u001b[39massert\u001b[39;00m \u001b[39mlen\u001b[39m(stmt) \u001b[39m==\u001b[39m \u001b[39m1\u001b[39m\n\u001b[1;32m    144\u001b[0m     \u001b[39mreturn\u001b[39;00m stmt[\u001b[39m0\u001b[39m]\n",
      "File \u001b[0;32m~/miniconda3/envs/apperception/lib/python3.10/site-packages/evadb/parser/parser.py:38\u001b[0m, in \u001b[0;36mParser.parse\u001b[0;34m(self, query_string)\u001b[0m\n\u001b[1;32m     37\u001b[0m \u001b[39mdef\u001b[39;00m \u001b[39mparse\u001b[39m(\u001b[39mself\u001b[39m, query_string: \u001b[39mstr\u001b[39m) \u001b[39m-\u001b[39m\u001b[39m>\u001b[39m \u001b[39mlist\u001b[39m:\n\u001b[0;32m---> 38\u001b[0m     lark_output \u001b[39m=\u001b[39m \u001b[39mself\u001b[39;49m\u001b[39m.\u001b[39;49m_lark_parser\u001b[39m.\u001b[39;49mparse(query_string)\n\u001b[1;32m     39\u001b[0m     \u001b[39mreturn\u001b[39;00m lark_output\n",
      "File \u001b[0;32m~/miniconda3/envs/apperception/lib/python3.10/site-packages/evadb/parser/lark_parser.py:49\u001b[0m, in \u001b[0;36mLarkParser.parse\u001b[0;34m(self, query_string)\u001b[0m\n\u001b[1;32m     46\u001b[0m \u001b[39mif\u001b[39;00m \u001b[39mnot\u001b[39;00m query_string\u001b[39m.\u001b[39mendswith(\u001b[39m\"\u001b[39m\u001b[39m;\u001b[39m\u001b[39m\"\u001b[39m):\n\u001b[1;32m     47\u001b[0m     query_string \u001b[39m+\u001b[39m\u001b[39m=\u001b[39m \u001b[39m\"\u001b[39m\u001b[39m;\u001b[39m\u001b[39m\"\u001b[39m\n\u001b[0;32m---> 49\u001b[0m tree \u001b[39m=\u001b[39m \u001b[39mself\u001b[39;49m\u001b[39m.\u001b[39;49m_parser\u001b[39m.\u001b[39;49mparse(query_string)\n\u001b[1;32m     50\u001b[0m output \u001b[39m=\u001b[39m LarkInterpreter(query_string)\u001b[39m.\u001b[39mvisit(tree)\n\u001b[1;32m     52\u001b[0m \u001b[39m# convert output to list if it is a single element\u001b[39;00m\n",
      "File \u001b[0;32m~/miniconda3/envs/apperception/lib/python3.10/site-packages/lark/lark.py:645\u001b[0m, in \u001b[0;36mLark.parse\u001b[0;34m(self, text, start, on_error)\u001b[0m\n\u001b[1;32m    627\u001b[0m \u001b[39mdef\u001b[39;00m \u001b[39mparse\u001b[39m(\u001b[39mself\u001b[39m, text: \u001b[39mstr\u001b[39m, start: Optional[\u001b[39mstr\u001b[39m]\u001b[39m=\u001b[39m\u001b[39mNone\u001b[39;00m, on_error: \u001b[39m'\u001b[39m\u001b[39mOptional[Callable[[UnexpectedInput], bool]]\u001b[39m\u001b[39m'\u001b[39m\u001b[39m=\u001b[39m\u001b[39mNone\u001b[39;00m) \u001b[39m-\u001b[39m\u001b[39m>\u001b[39m \u001b[39m'\u001b[39m\u001b[39mParseTree\u001b[39m\u001b[39m'\u001b[39m:\n\u001b[1;32m    628\u001b[0m \u001b[39m    \u001b[39m\u001b[39m\"\"\"Parse the given text, according to the options provided.\u001b[39;00m\n\u001b[1;32m    629\u001b[0m \n\u001b[1;32m    630\u001b[0m \u001b[39m    Parameters:\u001b[39;00m\n\u001b[0;32m   (...)\u001b[0m\n\u001b[1;32m    643\u001b[0m \n\u001b[1;32m    644\u001b[0m \u001b[39m    \"\"\"\u001b[39;00m\n\u001b[0;32m--> 645\u001b[0m     \u001b[39mreturn\u001b[39;00m \u001b[39mself\u001b[39;49m\u001b[39m.\u001b[39;49mparser\u001b[39m.\u001b[39;49mparse(text, start\u001b[39m=\u001b[39;49mstart, on_error\u001b[39m=\u001b[39;49mon_error)\n",
      "File \u001b[0;32m~/miniconda3/envs/apperception/lib/python3.10/site-packages/lark/parser_frontends.py:96\u001b[0m, in \u001b[0;36mParsingFrontend.parse\u001b[0;34m(self, text, start, on_error)\u001b[0m\n\u001b[1;32m     94\u001b[0m kw \u001b[39m=\u001b[39m {} \u001b[39mif\u001b[39;00m on_error \u001b[39mis\u001b[39;00m \u001b[39mNone\u001b[39;00m \u001b[39melse\u001b[39;00m {\u001b[39m'\u001b[39m\u001b[39mon_error\u001b[39m\u001b[39m'\u001b[39m: on_error}\n\u001b[1;32m     95\u001b[0m stream \u001b[39m=\u001b[39m \u001b[39mself\u001b[39m\u001b[39m.\u001b[39m_make_lexer_thread(text)\n\u001b[0;32m---> 96\u001b[0m \u001b[39mreturn\u001b[39;00m \u001b[39mself\u001b[39;49m\u001b[39m.\u001b[39;49mparser\u001b[39m.\u001b[39;49mparse(stream, chosen_start, \u001b[39m*\u001b[39;49m\u001b[39m*\u001b[39;49mkw)\n",
      "File \u001b[0;32m~/miniconda3/envs/apperception/lib/python3.10/site-packages/lark/parsers/lalr_parser.py:41\u001b[0m, in \u001b[0;36mLALR_Parser.parse\u001b[0;34m(self, lexer, start, on_error)\u001b[0m\n\u001b[1;32m     39\u001b[0m \u001b[39mdef\u001b[39;00m \u001b[39mparse\u001b[39m(\u001b[39mself\u001b[39m, lexer, start, on_error\u001b[39m=\u001b[39m\u001b[39mNone\u001b[39;00m):\n\u001b[1;32m     40\u001b[0m     \u001b[39mtry\u001b[39;00m:\n\u001b[0;32m---> 41\u001b[0m         \u001b[39mreturn\u001b[39;00m \u001b[39mself\u001b[39;49m\u001b[39m.\u001b[39;49mparser\u001b[39m.\u001b[39;49mparse(lexer, start)\n\u001b[1;32m     42\u001b[0m     \u001b[39mexcept\u001b[39;00m UnexpectedInput \u001b[39mas\u001b[39;00m e:\n\u001b[1;32m     43\u001b[0m         \u001b[39mif\u001b[39;00m on_error \u001b[39mis\u001b[39;00m \u001b[39mNone\u001b[39;00m:\n",
      "File \u001b[0;32m~/miniconda3/envs/apperception/lib/python3.10/site-packages/lark/parsers/lalr_parser.py:171\u001b[0m, in \u001b[0;36m_Parser.parse\u001b[0;34m(self, lexer, start, value_stack, state_stack, start_interactive)\u001b[0m\n\u001b[1;32m    169\u001b[0m \u001b[39mif\u001b[39;00m start_interactive:\n\u001b[1;32m    170\u001b[0m     \u001b[39mreturn\u001b[39;00m InteractiveParser(\u001b[39mself\u001b[39m, parser_state, parser_state\u001b[39m.\u001b[39mlexer)\n\u001b[0;32m--> 171\u001b[0m \u001b[39mreturn\u001b[39;00m \u001b[39mself\u001b[39;49m\u001b[39m.\u001b[39;49mparse_from_state(parser_state)\n",
      "File \u001b[0;32m~/miniconda3/envs/apperception/lib/python3.10/site-packages/lark/parsers/lalr_parser.py:193\u001b[0m, in \u001b[0;36m_Parser.parse_from_state\u001b[0;34m(self, state, last_token)\u001b[0m\n\u001b[1;32m    191\u001b[0m     \u001b[39mexcept\u001b[39;00m \u001b[39mNameError\u001b[39;00m:\n\u001b[1;32m    192\u001b[0m         \u001b[39mpass\u001b[39;00m\n\u001b[0;32m--> 193\u001b[0m     \u001b[39mraise\u001b[39;00m e\n\u001b[1;32m    194\u001b[0m \u001b[39mexcept\u001b[39;00m \u001b[39mException\u001b[39;00m \u001b[39mas\u001b[39;00m e:\n\u001b[1;32m    195\u001b[0m     \u001b[39mif\u001b[39;00m \u001b[39mself\u001b[39m\u001b[39m.\u001b[39mdebug:\n",
      "File \u001b[0;32m~/miniconda3/envs/apperception/lib/python3.10/site-packages/lark/parsers/lalr_parser.py:183\u001b[0m, in \u001b[0;36m_Parser.parse_from_state\u001b[0;34m(self, state, last_token)\u001b[0m\n\u001b[1;32m    181\u001b[0m \u001b[39mtry\u001b[39;00m:\n\u001b[1;32m    182\u001b[0m     token \u001b[39m=\u001b[39m last_token\n\u001b[0;32m--> 183\u001b[0m     \u001b[39mfor\u001b[39;00m token \u001b[39min\u001b[39;00m state\u001b[39m.\u001b[39mlexer\u001b[39m.\u001b[39mlex(state):\n\u001b[1;32m    184\u001b[0m         state\u001b[39m.\u001b[39mfeed_token(token)\n\u001b[1;32m    186\u001b[0m     end_token \u001b[39m=\u001b[39m Token\u001b[39m.\u001b[39mnew_borrow_pos(\u001b[39m'\u001b[39m\u001b[39m$END\u001b[39m\u001b[39m'\u001b[39m, \u001b[39m'\u001b[39m\u001b[39m'\u001b[39m, token) \u001b[39mif\u001b[39;00m token \u001b[39melse\u001b[39;00m Token(\u001b[39m'\u001b[39m\u001b[39m$END\u001b[39m\u001b[39m'\u001b[39m, \u001b[39m'\u001b[39m\u001b[39m'\u001b[39m, \u001b[39m0\u001b[39m, \u001b[39m1\u001b[39m, \u001b[39m1\u001b[39m)\n",
      "File \u001b[0;32m~/miniconda3/envs/apperception/lib/python3.10/site-packages/lark/lexer.py:599\u001b[0m, in \u001b[0;36mContextualLexer.lex\u001b[0;34m(self, lexer_state, parser_state)\u001b[0m\n\u001b[1;32m    597\u001b[0m     last_token \u001b[39m=\u001b[39m lexer_state\u001b[39m.\u001b[39mlast_token  \u001b[39m# Save last_token. Calling root_lexer.next_token will change this to the wrong token\u001b[39;00m\n\u001b[1;32m    598\u001b[0m     token \u001b[39m=\u001b[39m \u001b[39mself\u001b[39m\u001b[39m.\u001b[39mroot_lexer\u001b[39m.\u001b[39mnext_token(lexer_state, parser_state)\n\u001b[0;32m--> 599\u001b[0m     \u001b[39mraise\u001b[39;00m UnexpectedToken(token, e\u001b[39m.\u001b[39mallowed, state\u001b[39m=\u001b[39mparser_state, token_history\u001b[39m=\u001b[39m[last_token], terminals_by_name\u001b[39m=\u001b[39m\u001b[39mself\u001b[39m\u001b[39m.\u001b[39mroot_lexer\u001b[39m.\u001b[39mterminals_by_name)\n\u001b[1;32m    600\u001b[0m \u001b[39mexcept\u001b[39;00m UnexpectedCharacters:\n\u001b[1;32m    601\u001b[0m     \u001b[39mraise\u001b[39;00m e\n",
      "\u001b[0;31mUnexpectedToken\u001b[0m: Unexpected token Token('COMMA', ',') at line 3, column 52.\nExpected one of: \n\t* ID\n\t* REVERSE_QUOTE_ID\nPrevious tokens: [Token('DOT', '.')]\n"
     ]
    }
   ],
   "source": [
    "### Run query\n",
    "cursor.query(\"\"\"\n",
    "            SELECT id, Yolo(data) FROM ObjectDetectionVideos\n",
    "            WHERE Intersection(Location(Yolo(data)., MonodepthDetection(data)))\n",
    "\"\"\").df()\n"
   ]
  },
  {
   "cell_type": "code",
   "execution_count": null,
   "metadata": {},
   "outputs": [],
   "source": []
  }
 ],
 "metadata": {
  "kernelspec": {
   "display_name": "apperception",
   "language": "python",
   "name": "python3"
  },
  "language_info": {
   "codemirror_mode": {
    "name": "ipython",
    "version": 3
   },
   "file_extension": ".py",
   "mimetype": "text/x-python",
   "name": "python",
   "nbconvert_exporter": "python",
   "pygments_lexer": "ipython3",
   "version": "3.10.12"
  },
  "orig_nbformat": 4
 },
 "nbformat": 4,
 "nbformat_minor": 2
}
