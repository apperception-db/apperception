{
 "cells": [
  {
   "cell_type": "code",
   "execution_count": 4,
   "id": "3a4ea91f",
   "metadata": {},
   "outputs": [],
   "source": [
    "import os\n",
    "import sys\n",
    "import time\n",
    "sys.path.append(os.path.abspath(os.path.join(os.getcwd(), os.pardir)))\n",
    "from detection_estimation.segment_mapping import *\n",
    "import matplotlib.pyplot as plt\n",
    "from apperception.utils import fetch_camera_config, fetch_camera_trajectory"
   ]
  },
  {
   "cell_type": "code",
   "execution_count": null,
   "id": "ae32e753",
   "metadata": {},
   "outputs": [],
   "source": []
  },
  {
   "cell_type": "code",
   "execution_count": 5,
   "id": "ad4f95a7",
   "metadata": {},
   "outputs": [],
   "source": [
    "# test_config = fetch_camera_config('samples/CAM_FRONT/n008-2018-08-27-11-48-51-0400__CAM_FRONT__1535385108912404.jpg', database)\n",
    "# test_config"
   ]
  },
  {
   "cell_type": "code",
   "execution_count": 6,
   "id": "e1f3e155",
   "metadata": {
    "scrolled": true
   },
   "outputs": [],
   "source": [
    "# mapping = map_imgsegment_roadsegment(test_config)"
   ]
  },
  {
   "cell_type": "code",
   "execution_count": 7,
   "id": "a081db0c",
   "metadata": {},
   "outputs": [],
   "source": [
    "# test_file_path = '/home/yongming/workspace/research/apperception/v1.0-mini/samples/CAM_FRONT/n008-2018-08-27-11-48-51-0400__CAM_FRONT__1535385108912404.jpg'\n",
    "# visualization(test_file_path, test_config, mapping)"
   ]
  },
  {
   "cell_type": "code",
   "execution_count": 8,
   "id": "d8abf4e6",
   "metadata": {},
   "outputs": [
    {
     "name": "stdout",
     "output_type": "stream",
     "text": [
      "[Errno 2] No such file or directory: '../Yolov5_StrongSORT_OSNet'\n",
      "/data/chanwutk/code/apperception/optimization_playground\n"
     ]
    },
    {
     "ename": "ModuleNotFoundError",
     "evalue": "No module named 'sample_frame_tracker'",
     "output_type": "error",
     "traceback": [
      "\u001b[0;31m---------------------------------------------------------------------------\u001b[0m",
      "\u001b[0;31mModuleNotFoundError\u001b[0m                       Traceback (most recent call last)",
      "Cell \u001b[0;32mIn [8], line 2\u001b[0m\n\u001b[1;32m      1\u001b[0m get_ipython()\u001b[38;5;241m.\u001b[39mrun_line_magic(\u001b[38;5;124m'\u001b[39m\u001b[38;5;124mcd\u001b[39m\u001b[38;5;124m'\u001b[39m, \u001b[38;5;124m'\u001b[39m\u001b[38;5;124m../Yolov5_StrongSORT_OSNet\u001b[39m\u001b[38;5;124m'\u001b[39m)\n\u001b[0;32m----> 2\u001b[0m \u001b[38;5;28;01mimport\u001b[39;00m \u001b[38;5;21;01msample_frame_tracker\u001b[39;00m\n",
      "\u001b[0;31mModuleNotFoundError\u001b[0m: No module named 'sample_frame_tracker'"
     ]
    }
   ],
   "source": [
    "%cd ../Yolov5_StrongSORT_OSNet\n",
    "import sample_frame_tracker\n",
    "# full_img_detection = sample_frame_tracker.run(test_file_path, save_vid=True, detect_only=True)\n",
    "# full_img_detection"
   ]
  },
  {
   "cell_type": "code",
   "execution_count": 9,
   "id": "a96223b4",
   "metadata": {},
   "outputs": [],
   "source": [
    "def display_detection(test_file_path, full_img_detection):\n",
    "    import cv2\n",
    "    test_frame = cv2.imread(test_file_path)\n",
    "    for obj_idx, detection in full_img_detection.items():\n",
    "        obj_cls, bbox = detection\n",
    "        if obj_cls == 'car':\n",
    "            x,y,w,h = list(map(int,bbox))\n",
    "            cv2.rectangle(test_frame,(x-w//2,y-h//2),(x+w//2,y+h//2),(0,255,0),2)\n",
    "            cv2.putText(test_frame, '_'.join([obj_cls, str(obj_idx)]), (x+w//2+5,y+h//2+5),0,0.3,(0,255,0))\n",
    "    cv2.imshow('detection', test_frame)\n",
    "    cv2.waitKey(0)\n",
    "    cv2.destroyAllWindows()"
   ]
  },
  {
   "cell_type": "code",
   "execution_count": 10,
   "id": "6e94f5a8",
   "metadata": {},
   "outputs": [],
   "source": [
    "from detection_estimation.utils import *\n",
    "import matplotlib.pyplot as plt"
   ]
  },
  {
   "cell_type": "code",
   "execution_count": 11,
   "id": "b6e8f502",
   "metadata": {},
   "outputs": [],
   "source": [
    "# ego car trajectory\n",
    "def prepare_ego(test_video):\n",
    "    ego_trajectory = get_ego_trajectory(test_video)\n",
    "    video_trajectory = fetch_camera_trajectory(test_video, database)\n",
    "    sorted_ego_configs = [fetch_camera_config(e['fileName'], database) for e in video_trajectory]\n",
    "    return sorted_ego_configs, ego_trajectory"
   ]
  },
  {
   "cell_type": "code",
   "execution_count": 9,
   "id": "72b0672d",
   "metadata": {},
   "outputs": [],
   "source": [
    "# ego_speed = get_ego_speed(ego_trajectory)"
   ]
  },
  {
   "cell_type": "code",
   "execution_count": 10,
   "id": "8f57a456",
   "metadata": {},
   "outputs": [],
   "source": [
    "# [time_to_nearest_frame(test_video, point.timestamp) for point in ego_trajectory]"
   ]
  },
  {
   "cell_type": "code",
   "execution_count": 11,
   "id": "8d6659ca",
   "metadata": {},
   "outputs": [],
   "source": [
    "import datetime\n",
    "# test_timestamp = datetime.datetime(2018, 8, 27, 8, 51, 32, 162404, tzinfo=datetime.timezone.utc)\n",
    "# timestamp_to_nearest_trajectory(ego_trajectory, test_timestamp)"
   ]
  },
  {
   "cell_type": "code",
   "execution_count": 12,
   "id": "764ed7ba",
   "metadata": {},
   "outputs": [],
   "source": [
    "# test_point = [1772, 865, 0.0]\n",
    "# point_to_nearest_trajectory(test_point, ego_trajectory)"
   ]
  },
  {
   "cell_type": "code",
   "execution_count": 13,
   "id": "d0fa4e88",
   "metadata": {},
   "outputs": [],
   "source": [
    "from detection_estimation.sample_plan_algorithms import *"
   ]
  },
  {
   "cell_type": "code",
   "execution_count": 14,
   "id": "73351a20",
   "metadata": {},
   "outputs": [],
   "source": [
    "base_dir = '/home/yongming/workspace/research/apperception_new_local/boston-seaport'\n",
    "test_img_base_dir = '/home/yongming/workspace/research/apperception/v1.0-mini/'"
   ]
  },
  {
   "cell_type": "code",
   "execution_count": 15,
   "id": "af8f35b9",
   "metadata": {},
   "outputs": [],
   "source": [
    "# import pickle\n",
    "# with open(os.path.join(base_dir, f'frames.pickle'), \"rb\") as f:\n",
    "#     df_sample_data = pickle.loads(f.read())\n",
    "# df_sample_data\n",
    "# i = 0\n",
    "# for frame in df_sample_data['scene-0655-CAM_FRONT']['frames']:\n",
    "#     if frame[2] == 1194:\n",
    "#         print(i)\n",
    "#         break\n",
    "#     i += 1"
   ]
  },
  {
   "cell_type": "code",
   "execution_count": 16,
   "id": "848684da",
   "metadata": {},
   "outputs": [],
   "source": [
    "from detection_estimation.detection_estimation import *\n",
    "# ### Integration\n",
    "# target_config_idx = 218\n",
    "# video = 'scene-0655-CAM_FRONT'\n",
    "# configs = df_sample_data[video]\n",
    "# sorted_ego_config = [dict(zip(configs['columns'], frame))\n",
    "#                      for frame in configs['frames']]\n",
    "# len(sorted_ego_config)\n",
    "# # all_car_loc3d = "
   ]
  },
  {
   "cell_type": "code",
   "execution_count": 17,
   "id": "3071563e",
   "metadata": {},
   "outputs": [],
   "source": [
    "# current_ego_config = sorted_ego_config[target_config_idx]"
   ]
  },
  {
   "cell_type": "code",
   "execution_count": 18,
   "id": "6e88fbab",
   "metadata": {},
   "outputs": [],
   "source": [
    "car_loc3d_ground_truth = [(1991, 874), (1949.181, 873.164)]"
   ]
  },
  {
   "cell_type": "code",
   "execution_count": 19,
   "id": "8942c719",
   "metadata": {},
   "outputs": [],
   "source": [
    "from shapely.geometry import Point, Polygon\n",
    "def generate_sample_plan_once(video, ego_config, mapping, next_frame_num, car_loc3d=None, target_car_detection=None, all_detection_info=None):\n",
    "    if all_detection_info is None:\n",
    "        assert target_car_detection and car_loc3d\n",
    "        x,y,w,h = list(map(int, target_car_detection))\n",
    "        car_loc2d = (x, y+h//2)\n",
    "        car_bbox2d = (x-w//2,y-h//2,x+w//2,y+h//2)\n",
    "        car_bbox3d = None\n",
    "        all_detections = []\n",
    "        all_detections.append(obj_detection('car_1', car_loc3d, car_loc2d, car_bbox3d, car_bbox2d))\n",
    "        all_detection_info = construct_all_detection_info(\n",
    "            current_frame, cam_segment_mapping, ego_trajectory, ego_config, all_detections)\n",
    "    if all_detection_info:\n",
    "        print(all_detection_info[0].road_type)\n",
    "    next_sample_plan = generate_sample_plan(video, next_frame_num, all_detection_info,  50)\n",
    "    next_frame = None\n",
    "    if next_sample_plan.get_next_sample_frame_info():\n",
    "        next_sample_frame_name, next_sample_frame_num, next_sample_frame_time = (\n",
    "            next_sample_plan.get_next_sample_frame_info())\n",
    "        print(\"next frame name\", next_sample_frame_name)\n",
    "        print(\"next frame num\", next_sample_frame_num)\n",
    "    #     print(next_sample_plan.action)\n",
    "        next_frame = cv2.imread(test_img_base_dir+next_sample_frame_name)\n",
    "#         cv2.imshow(\"next_frame\", next_frame)\n",
    "#         cv2.waitKey(0)\n",
    "#         cv2.destroyAllWindows()\n",
    "    return next_sample_plan, next_frame\n"
   ]
  },
  {
   "cell_type": "code",
   "execution_count": 20,
   "id": "b40ad4a8",
   "metadata": {},
   "outputs": [],
   "source": [
    "def construct_estimated_all_detection_info(current_frame, cam_segment_mapping, ego_config, ego_trajectory):\n",
    "    all_detections = []\n",
    "    full_img_detection = sample_frame_tracker.run(current_frame, save_vid=True, detect_only=True)\n",
    "#     display_detection(current_frame, full_img_detection)\n",
    "    for obj_idx, detection in full_img_detection.items():\n",
    "        obj_cls, bbox = detection\n",
    "        x,y,w,h = list(map(int,bbox))\n",
    "        car_loc2d = (x,y+h//2)\n",
    "#         print(car_loc2d)\n",
    "        car_bbox2d = (x-w//2,y-h//2,x+w//2,y+h//2)\n",
    "        car_bbox3d = None\n",
    "        estimate_3d = detection_to_img_segment(car_loc2d, cam_segment_mapping)\n",
    "        if estimate_3d and estimate_3d.road_segment_info.segment_type in ['lane', 'laneSection']:\n",
    "            car_loc3d = tuple(Polygon(estimate_3d.road_segment_info.segment_polygon).centroid.coords)\n",
    "#             print(tuple(car_loc3d))\n",
    "            all_detections.append(obj_detection('car_1', car_loc3d, car_loc2d, car_bbox3d, car_bbox2d))\n",
    "    print(\"all_detections\", all_detections)\n",
    "    all_detection_info = construct_all_detection_info(\n",
    "        current_frame, cam_segment_mapping, ego_trajectory, ego_config, all_detections)\n",
    "    return all_detection_info"
   ]
  },
  {
   "cell_type": "code",
   "execution_count": 21,
   "id": "71f2624b",
   "metadata": {},
   "outputs": [],
   "source": [
    "def dry_run(sorted_ego_configs, start_frame_num, ego_trajectory, video):\n",
    "    skipped_frame_num = []\n",
    "    next_frame_num = start_frame_num\n",
    "    action_type_counts = {}\n",
    "    fourcc = cv2.VideoWriter_fourcc(*'mp4v')\n",
    "    display_video = cv2.VideoWriter(f'sampled_frames_{video.replace(\"/\", \"_\")}.avi',fourcc, 10, (1600, 900))\n",
    "    start_time = time.time()\n",
    "    total_detection_time = 0\n",
    "    total_sample_plan_time = 0\n",
    "    for i in range(len(sorted_ego_configs)-1):\n",
    "        current_ego_config = sorted_ego_configs[i]\n",
    "        if current_ego_config['frameNum'] != next_frame_num:\n",
    "            skipped_frame_num.append(current_ego_config['frameNum'])\n",
    "            continue\n",
    "        next_frame_num = sorted_ego_configs[i+1]['frameNum']\n",
    "        cam_segment_mapping = map_imgsegment_roadsegment(current_ego_config)\n",
    "        print(\"mapping length\", len(cam_segment_mapping))\n",
    "        current_frame = test_img_base_dir + current_ego_config['fileName']\n",
    "        display_video.write(cv2.imread(current_frame))\n",
    "        start_detection_time = time.time()\n",
    "        all_detection_info = construct_estimated_all_detection_info(\n",
    "            current_frame, cam_segment_mapping, current_ego_config, ego_trajectory)\n",
    "        total_detection_time += time.time()-start_detection_time\n",
    "        start_generate_sample_plan = time.time()\n",
    "        next_sample_plan, next_frame = generate_sample_plan_once(\n",
    "            video, current_ego_config, cam_segment_mapping, next_frame_num, all_detection_info=all_detection_info)\n",
    "        total_sample_plan_time += time.time() - start_generate_sample_plan\n",
    "        next_action_type = next_sample_plan.get_action_type()\n",
    "        if next_action_type not in action_type_counts:\n",
    "            action_type_counts[next_action_type] = 1\n",
    "        else:\n",
    "            action_type_counts[next_action_type] += 1\n",
    "        next_frame_num = next_sample_plan.get_next_frame_num(next_frame_num)\n",
    "    display_video.release()\n",
    "    print(\"sorted_ego_config_length\", len(sorted_ego_configs))\n",
    "    print(\"number of skipped\", len(skipped_frame_num))\n",
    "    print(skipped_frame_num)\n",
    "    print(action_type_counts)\n",
    "    total_run_time = time.time()-start_time\n",
    "    num_runs = len(sorted_ego_configs) - len(skipped_frame_num)\n",
    "    print(\"total_run_time\", total_run_time)\n",
    "    print(\"avg run time\", total_run_time/num_runs)\n",
    "    print(\"total_detection_time\", total_detection_time)\n",
    "    print(\"avg detection time\", total_detection_time/num_runs)\n",
    "    print(\"total_generate_sample_plan_time\", total_sample_plan_time)\n",
    "    print(\"avg generate_sample_plan time\", total_sample_plan_time/num_runs)"
   ]
  },
  {
   "cell_type": "code",
   "execution_count": 22,
   "id": "b25f486a",
   "metadata": {},
   "outputs": [
    {
     "name": "stderr",
     "output_type": "stream",
     "text": [
      "/home/yongming/workspace/research/apperception_new_local/apperception/optimization_playground/detection_estimation/utils.py:45: ShapelyDeprecationWarning: Iteration over multi-part geometries is deprecated and will be removed in Shapely 2.0. Use the `geoms` property to access the constituent parts of a multi-part geometry.\n",
      "  a, b = line.boundary\n"
     ]
    },
    {
     "name": "stdout",
     "output_type": "stream",
     "text": [
      "total mapping time:  0.2646017074584961\n",
      "mapping length 43\n",
      "Model: osnet_x0_25\n",
      "- params: 203,568\n",
      "- flops: 82,316,000\n",
      "Successfully loaded pretrained weights from \"osnet_x0_25_msmt17.pt\"\n",
      "** The following layers are discarded due to unmatched keys or layer size: ['classifier.weight', 'classifier.bias']\n",
      "all_detections [obj_detection(id='car_1', car_loc3d=((1810.3982084033205, 860.0461031162465),), car_loc2d=(1058, 532), car_bbox3d=None, car_bbox2d=(970, 466, 1146, 532)), obj_detection(id='car_1', car_loc3d=((1758.9680235211245, 866.051795447452),), car_loc2d=(826, 492), car_bbox3d=None, car_bbox2d=(810, 474, 842, 492)), obj_detection(id='car_1', car_loc3d=((1884.6902160362843, 872.6426751594242),), car_loc2d=(786, 493), car_bbox3d=None, car_bbox2d=(769, 475, 803, 493))]\n",
      "lane\n",
      "next frame name sweeps/CAM_FRONT/n008-2018-08-27-11-48-51-0400__CAM_FRONT__1535385092262404.jpg\n",
      "next frame num 27\n"
     ]
    },
    {
     "name": "stderr",
     "output_type": "stream",
     "text": [
      "/home/yongming/workspace/research/apperception_new_local/apperception/optimization_playground/detection_estimation/utils.py:45: ShapelyDeprecationWarning: Iteration over multi-part geometries is deprecated and will be removed in Shapely 2.0. Use the `geoms` property to access the constituent parts of a multi-part geometry.\n",
      "  a, b = line.boundary\n"
     ]
    },
    {
     "name": "stdout",
     "output_type": "stream",
     "text": [
      "total mapping time:  0.3152017593383789\n",
      "mapping length 43\n",
      "Model: osnet_x0_25\n",
      "- params: 203,568\n",
      "- flops: 82,316,000\n",
      "Successfully loaded pretrained weights from \"osnet_x0_25_msmt17.pt\"\n",
      "** The following layers are discarded due to unmatched keys or layer size: ['classifier.weight', 'classifier.bias']\n",
      "all_detections [obj_detection(id='car_1', car_loc3d=((1810.3982084033205, 860.0461031162465),), car_loc2d=(1079, 533), car_bbox3d=None, car_bbox2d=(999, 469, 1159, 533)), obj_detection(id='car_1', car_loc3d=((1884.6902160362843, 872.6426751594242),), car_loc2d=(785, 493), car_bbox3d=None, car_bbox2d=(770, 475, 800, 493)), obj_detection(id='car_1', car_loc3d=((1758.9680235211245, 866.051795447452),), car_loc2d=(830, 493), car_bbox3d=None, car_bbox2d=(813, 473, 847, 493))]\n",
      "lane\n",
      "next frame name sweeps/CAM_FRONT/n008-2018-08-27-11-48-51-0400__CAM_FRONT__1535385092412404.jpg\n",
      "next frame num 51\n"
     ]
    },
    {
     "name": "stderr",
     "output_type": "stream",
     "text": [
      "/home/yongming/workspace/research/apperception_new_local/apperception/optimization_playground/detection_estimation/utils.py:45: ShapelyDeprecationWarning: Iteration over multi-part geometries is deprecated and will be removed in Shapely 2.0. Use the `geoms` property to access the constituent parts of a multi-part geometry.\n",
      "  a, b = line.boundary\n"
     ]
    },
    {
     "name": "stdout",
     "output_type": "stream",
     "text": [
      "total mapping time:  0.29831790924072266\n",
      "mapping length 43\n",
      "Model: osnet_x0_25\n",
      "- params: 203,568\n",
      "- flops: 82,316,000\n",
      "Successfully loaded pretrained weights from \"osnet_x0_25_msmt17.pt\"\n",
      "** The following layers are discarded due to unmatched keys or layer size: ['classifier.weight', 'classifier.bias']\n",
      "all_detections [obj_detection(id='car_1', car_loc3d=((1758.9680235211245, 866.051795447452),), car_loc2d=(828, 497), car_bbox3d=None, car_bbox2d=(812, 477, 844, 497))]\n",
      "lane\n",
      "next frame name sweeps/CAM_FRONT/n008-2018-08-27-11-48-51-0400__CAM_FRONT__1535385092912404.jpg\n",
      "next frame num 130\n"
     ]
    },
    {
     "name": "stderr",
     "output_type": "stream",
     "text": [
      "/home/yongming/workspace/research/apperception_new_local/apperception/optimization_playground/detection_estimation/utils.py:45: ShapelyDeprecationWarning: Iteration over multi-part geometries is deprecated and will be removed in Shapely 2.0. Use the `geoms` property to access the constituent parts of a multi-part geometry.\n",
      "  a, b = line.boundary\n"
     ]
    },
    {
     "name": "stdout",
     "output_type": "stream",
     "text": [
      "total mapping time:  0.20048141479492188\n",
      "mapping length 27\n",
      "Model: osnet_x0_25\n",
      "- params: 203,568\n",
      "- flops: 82,316,000\n",
      "Successfully loaded pretrained weights from \"osnet_x0_25_msmt17.pt\"\n",
      "** The following layers are discarded due to unmatched keys or layer size: ['classifier.weight', 'classifier.bias']\n",
      "all_detections [obj_detection(id='car_1', car_loc3d=((1884.6902160362843, 872.6426751594242),), car_loc2d=(784, 500), car_bbox3d=None, car_bbox2d=(766, 480, 802, 500))]\n",
      "lane\n",
      "next frame name samples/CAM_FRONT/n008-2018-08-27-11-48-51-0400__CAM_FRONT__1535385093612404.jpg\n",
      "next frame num 239\n"
     ]
    },
    {
     "name": "stderr",
     "output_type": "stream",
     "text": [
      "/home/yongming/workspace/research/apperception_new_local/apperception/optimization_playground/detection_estimation/utils.py:45: ShapelyDeprecationWarning: Iteration over multi-part geometries is deprecated and will be removed in Shapely 2.0. Use the `geoms` property to access the constituent parts of a multi-part geometry.\n",
      "  a, b = line.boundary\n"
     ]
    },
    {
     "name": "stdout",
     "output_type": "stream",
     "text": [
      "total mapping time:  0.2082970142364502\n",
      "mapping length 25\n",
      "Model: osnet_x0_25\n",
      "- params: 203,568\n",
      "- flops: 82,316,000\n",
      "Successfully loaded pretrained weights from \"osnet_x0_25_msmt17.pt\"\n",
      "** The following layers are discarded due to unmatched keys or layer size: ['classifier.weight', 'classifier.bias']\n",
      "all_detections []\n",
      "total mapping time:  0.18761110305786133\n",
      "mapping length 25\n"
     ]
    },
    {
     "name": "stderr",
     "output_type": "stream",
     "text": [
      "/home/yongming/workspace/research/apperception_new_local/apperception/optimization_playground/detection_estimation/utils.py:45: ShapelyDeprecationWarning: Iteration over multi-part geometries is deprecated and will be removed in Shapely 2.0. Use the `geoms` property to access the constituent parts of a multi-part geometry.\n",
      "  a, b = line.boundary\n"
     ]
    },
    {
     "name": "stdout",
     "output_type": "stream",
     "text": [
      "Model: osnet_x0_25\n",
      "- params: 203,568\n",
      "- flops: 82,316,000\n",
      "Successfully loaded pretrained weights from \"osnet_x0_25_msmt17.pt\"\n",
      "** The following layers are discarded due to unmatched keys or layer size: ['classifier.weight', 'classifier.bias']\n",
      "all_detections [obj_detection(id='car_1', car_loc3d=((1884.6902160362843, 872.6426751594242),), car_loc2d=(780, 498), car_bbox3d=None, car_bbox2d=(764, 476, 796, 498))]\n",
      "lane\n",
      "next frame name samples/CAM_FRONT/n008-2018-08-27-11-48-51-0400__CAM_FRONT__1535385094112404.jpg\n",
      "next frame num 317\n"
     ]
    },
    {
     "name": "stderr",
     "output_type": "stream",
     "text": [
      "/home/yongming/workspace/research/apperception_new_local/apperception/optimization_playground/detection_estimation/utils.py:45: ShapelyDeprecationWarning: Iteration over multi-part geometries is deprecated and will be removed in Shapely 2.0. Use the `geoms` property to access the constituent parts of a multi-part geometry.\n",
      "  a, b = line.boundary\n"
     ]
    },
    {
     "name": "stdout",
     "output_type": "stream",
     "text": [
      "total mapping time:  0.20786166191101074\n",
      "mapping length 30\n",
      "Model: osnet_x0_25\n",
      "- params: 203,568\n",
      "- flops: 82,316,000\n",
      "Successfully loaded pretrained weights from \"osnet_x0_25_msmt17.pt\"\n",
      "** The following layers are discarded due to unmatched keys or layer size: ['classifier.weight', 'classifier.bias']\n",
      "all_detections [obj_detection(id='car_1', car_loc3d=((1884.6902160362843, 872.6426751594242),), car_loc2d=(777, 495), car_bbox3d=None, car_bbox2d=(761, 473, 793, 495)), obj_detection(id='car_1', car_loc3d=((1792.2387632936693, 866.2860758544127),), car_loc2d=(836, 493), car_bbox3d=None, car_bbox2d=(821, 473, 851, 493))]\n",
      "lane\n",
      "next frame name sweeps/CAM_FRONT/n008-2018-08-27-11-48-51-0400__CAM_FRONT__1535385094362404.jpg\n",
      "next frame num 358\n"
     ]
    },
    {
     "name": "stderr",
     "output_type": "stream",
     "text": [
      "/home/yongming/workspace/research/apperception_new_local/apperception/optimization_playground/detection_estimation/utils.py:45: ShapelyDeprecationWarning: Iteration over multi-part geometries is deprecated and will be removed in Shapely 2.0. Use the `geoms` property to access the constituent parts of a multi-part geometry.\n",
      "  a, b = line.boundary\n"
     ]
    },
    {
     "name": "stdout",
     "output_type": "stream",
     "text": [
      "total mapping time:  0.20419859886169434\n",
      "mapping length 30\n",
      "Model: osnet_x0_25\n",
      "- params: 203,568\n",
      "- flops: 82,316,000\n",
      "Successfully loaded pretrained weights from \"osnet_x0_25_msmt17.pt\"\n",
      "** The following layers are discarded due to unmatched keys or layer size: ['classifier.weight', 'classifier.bias']\n",
      "all_detections [obj_detection(id='car_1', car_loc3d=((1884.6902160362843, 872.6426751594242),), car_loc2d=(768, 498), car_bbox3d=None, car_bbox2d=(741, 474, 795, 498)), obj_detection(id='car_1', car_loc3d=((1792.2387632936693, 866.2860758544127),), car_loc2d=(837, 493), car_bbox3d=None, car_bbox2d=(823, 473, 851, 493))]\n",
      "lane\n",
      "next frame name sweeps/CAM_FRONT/n008-2018-08-27-11-48-51-0400__CAM_FRONT__1535385094612404.jpg\n",
      "next frame num 397\n"
     ]
    },
    {
     "name": "stderr",
     "output_type": "stream",
     "text": [
      "/home/yongming/workspace/research/apperception_new_local/apperception/optimization_playground/detection_estimation/utils.py:45: ShapelyDeprecationWarning: Iteration over multi-part geometries is deprecated and will be removed in Shapely 2.0. Use the `geoms` property to access the constituent parts of a multi-part geometry.\n",
      "  a, b = line.boundary\n"
     ]
    },
    {
     "name": "stdout",
     "output_type": "stream",
     "text": [
      "total mapping time:  0.21256232261657715\n",
      "mapping length 30\n",
      "Model: osnet_x0_25\n",
      "- params: 203,568\n",
      "- flops: 82,316,000\n",
      "Successfully loaded pretrained weights from \"osnet_x0_25_msmt17.pt\"\n",
      "** The following layers are discarded due to unmatched keys or layer size: ['classifier.weight', 'classifier.bias']\n",
      "all_detections [obj_detection(id='car_1', car_loc3d=((1792.2387632936693, 866.2860758544127),), car_loc2d=(841, 496), car_bbox3d=None, car_bbox2d=(827, 478, 855, 496))]\n",
      "lane\n",
      "next frame name sweeps/CAM_FRONT/n008-2018-08-27-11-48-51-0400__CAM_FRONT__1535385094862404.jpg\n",
      "next frame num 437\n"
     ]
    },
    {
     "name": "stderr",
     "output_type": "stream",
     "text": [
      "/home/yongming/workspace/research/apperception_new_local/apperception/optimization_playground/detection_estimation/utils.py:45: ShapelyDeprecationWarning: Iteration over multi-part geometries is deprecated and will be removed in Shapely 2.0. Use the `geoms` property to access the constituent parts of a multi-part geometry.\n",
      "  a, b = line.boundary\n"
     ]
    },
    {
     "name": "stdout",
     "output_type": "stream",
     "text": [
      "total mapping time:  0.2148144245147705\n",
      "mapping length 22\n",
      "Model: osnet_x0_25\n",
      "- params: 203,568\n",
      "- flops: 82,316,000\n",
      "Successfully loaded pretrained weights from \"osnet_x0_25_msmt17.pt\"\n",
      "** The following layers are discarded due to unmatched keys or layer size: ['classifier.weight', 'classifier.bias']\n",
      "all_detections [obj_detection(id='car_1', car_loc3d=((1840.0557722899414, 871.6466297656302),), car_loc2d=(764, 510), car_bbox3d=None, car_bbox2d=(738, 478, 790, 510))]\n",
      "lane\n",
      "next frame name sweeps/CAM_FRONT/n008-2018-08-27-11-48-51-0400__CAM_FRONT__1535385095012404.jpg\n",
      "next frame num 463\n"
     ]
    },
    {
     "name": "stderr",
     "output_type": "stream",
     "text": [
      "/home/yongming/workspace/research/apperception_new_local/apperception/optimization_playground/detection_estimation/utils.py:45: ShapelyDeprecationWarning: Iteration over multi-part geometries is deprecated and will be removed in Shapely 2.0. Use the `geoms` property to access the constituent parts of a multi-part geometry.\n",
      "  a, b = line.boundary\n"
     ]
    },
    {
     "name": "stdout",
     "output_type": "stream",
     "text": [
      "total mapping time:  0.4012308120727539\n",
      "mapping length 43\n",
      "Model: osnet_x0_25\n",
      "- params: 203,568\n",
      "- flops: 82,316,000\n",
      "Successfully loaded pretrained weights from \"osnet_x0_25_msmt17.pt\"\n",
      "** The following layers are discarded due to unmatched keys or layer size: ['classifier.weight', 'classifier.bias']\n",
      "all_detections [obj_detection(id='car_1', car_loc3d=((1840.0557722899414, 871.6466297656302),), car_loc2d=(755, 513), car_bbox3d=None, car_bbox2d=(730, 481, 780, 513)), obj_detection(id='car_1', car_loc3d=((1914.9664084334593, 869.7293497060274),), car_loc2d=(843, 498), car_bbox3d=None, car_bbox2d=(830, 478, 856, 498))]\n",
      "lane\n",
      "next frame name sweeps/CAM_FRONT/n008-2018-08-27-11-48-51-0400__CAM_FRONT__1535385095662404.jpg\n",
      "next frame num 566\n"
     ]
    },
    {
     "name": "stderr",
     "output_type": "stream",
     "text": [
      "/home/yongming/workspace/research/apperception_new_local/apperception/optimization_playground/detection_estimation/utils.py:45: ShapelyDeprecationWarning: Iteration over multi-part geometries is deprecated and will be removed in Shapely 2.0. Use the `geoms` property to access the constituent parts of a multi-part geometry.\n",
      "  a, b = line.boundary\n"
     ]
    },
    {
     "name": "stdout",
     "output_type": "stream",
     "text": [
      "total mapping time:  0.3985898494720459\n",
      "mapping length 43\n",
      "Model: osnet_x0_25\n",
      "- params: 203,568\n",
      "- flops: 82,316,000\n",
      "Successfully loaded pretrained weights from \"osnet_x0_25_msmt17.pt\"\n",
      "** The following layers are discarded due to unmatched keys or layer size: ['classifier.weight', 'classifier.bias']\n",
      "all_detections [obj_detection(id='car_1', car_loc3d=((1840.0557722899414, 871.6466297656302),), car_loc2d=(735, 528), car_bbox3d=None, car_bbox2d=(704, 482, 766, 528)), obj_detection(id='car_1', car_loc3d=((1884.795349035151, 869.0106721305141),), car_loc2d=(853, 507), car_bbox3d=None, car_bbox2d=(837, 483, 869, 507))]\n",
      "lane\n",
      "next frame name sweeps/CAM_FRONT/n008-2018-08-27-11-48-51-0400__CAM_FRONT__1535385096912413.jpg\n",
      "next frame num 763\n"
     ]
    },
    {
     "name": "stderr",
     "output_type": "stream",
     "text": [
      "/home/yongming/workspace/research/apperception_new_local/apperception/optimization_playground/detection_estimation/utils.py:45: ShapelyDeprecationWarning: Iteration over multi-part geometries is deprecated and will be removed in Shapely 2.0. Use the `geoms` property to access the constituent parts of a multi-part geometry.\n",
      "  a, b = line.boundary\n"
     ]
    },
    {
     "name": "stdout",
     "output_type": "stream",
     "text": [
      "total mapping time:  0.3496286869049072\n",
      "mapping length 32\n",
      "Model: osnet_x0_25\n",
      "- params: 203,568\n",
      "- flops: 82,316,000\n",
      "Successfully loaded pretrained weights from \"osnet_x0_25_msmt17.pt\"\n",
      "** The following layers are discarded due to unmatched keys or layer size: ['classifier.weight', 'classifier.bias']\n",
      "all_detections []\n"
     ]
    },
    {
     "name": "stderr",
     "output_type": "stream",
     "text": [
      "/home/yongming/workspace/research/apperception_new_local/apperception/optimization_playground/detection_estimation/utils.py:45: ShapelyDeprecationWarning: Iteration over multi-part geometries is deprecated and will be removed in Shapely 2.0. Use the `geoms` property to access the constituent parts of a multi-part geometry.\n",
      "  a, b = line.boundary\n"
     ]
    },
    {
     "name": "stdout",
     "output_type": "stream",
     "text": [
      "total mapping time:  0.3930349349975586\n",
      "mapping length 32\n",
      "Model: osnet_x0_25\n",
      "- params: 203,568\n",
      "- flops: 82,316,000\n",
      "Successfully loaded pretrained weights from \"osnet_x0_25_msmt17.pt\"\n",
      "** The following layers are discarded due to unmatched keys or layer size: ['classifier.weight', 'classifier.bias']\n",
      "all_detections []\n"
     ]
    },
    {
     "name": "stderr",
     "output_type": "stream",
     "text": [
      "/home/yongming/workspace/research/apperception_new_local/apperception/optimization_playground/detection_estimation/utils.py:45: ShapelyDeprecationWarning: Iteration over multi-part geometries is deprecated and will be removed in Shapely 2.0. Use the `geoms` property to access the constituent parts of a multi-part geometry.\n",
      "  a, b = line.boundary\n"
     ]
    },
    {
     "name": "stdout",
     "output_type": "stream",
     "text": [
      "total mapping time:  0.2485487461090088\n",
      "mapping length 32\n",
      "Model: osnet_x0_25\n",
      "- params: 203,568\n",
      "- flops: 82,316,000\n",
      "Successfully loaded pretrained weights from \"osnet_x0_25_msmt17.pt\"\n",
      "** The following layers are discarded due to unmatched keys or layer size: ['classifier.weight', 'classifier.bias']\n",
      "all_detections []\n"
     ]
    },
    {
     "name": "stderr",
     "output_type": "stream",
     "text": [
      "/home/yongming/workspace/research/apperception_new_local/apperception/optimization_playground/detection_estimation/utils.py:45: ShapelyDeprecationWarning: Iteration over multi-part geometries is deprecated and will be removed in Shapely 2.0. Use the `geoms` property to access the constituent parts of a multi-part geometry.\n",
      "  a, b = line.boundary\n"
     ]
    },
    {
     "name": "stdout",
     "output_type": "stream",
     "text": [
      "total mapping time:  0.21434855461120605\n",
      "mapping length 32\n",
      "Model: osnet_x0_25\n",
      "- params: 203,568\n",
      "- flops: 82,316,000\n",
      "Successfully loaded pretrained weights from \"osnet_x0_25_msmt17.pt\"\n",
      "** The following layers are discarded due to unmatched keys or layer size: ['classifier.weight', 'classifier.bias']\n",
      "all_detections []\n"
     ]
    },
    {
     "name": "stderr",
     "output_type": "stream",
     "text": [
      "/home/yongming/workspace/research/apperception_new_local/apperception/optimization_playground/detection_estimation/utils.py:45: ShapelyDeprecationWarning: Iteration over multi-part geometries is deprecated and will be removed in Shapely 2.0. Use the `geoms` property to access the constituent parts of a multi-part geometry.\n",
      "  a, b = line.boundary\n"
     ]
    },
    {
     "name": "stdout",
     "output_type": "stream",
     "text": [
      "total mapping time:  0.3789982795715332\n",
      "mapping length 31\n",
      "Model: osnet_x0_25\n",
      "- params: 203,568\n",
      "- flops: 82,316,000\n",
      "Successfully loaded pretrained weights from \"osnet_x0_25_msmt17.pt\"\n",
      "** The following layers are discarded due to unmatched keys or layer size: ['classifier.weight', 'classifier.bias']\n",
      "all_detections []\n"
     ]
    },
    {
     "name": "stderr",
     "output_type": "stream",
     "text": [
      "/home/yongming/workspace/research/apperception_new_local/apperception/optimization_playground/detection_estimation/utils.py:45: ShapelyDeprecationWarning: Iteration over multi-part geometries is deprecated and will be removed in Shapely 2.0. Use the `geoms` property to access the constituent parts of a multi-part geometry.\n",
      "  a, b = line.boundary\n"
     ]
    },
    {
     "name": "stdout",
     "output_type": "stream",
     "text": [
      "total mapping time:  0.2669203281402588\n",
      "mapping length 31\n",
      "Model: osnet_x0_25\n",
      "- params: 203,568\n",
      "- flops: 82,316,000\n",
      "Successfully loaded pretrained weights from \"osnet_x0_25_msmt17.pt\"\n",
      "** The following layers are discarded due to unmatched keys or layer size: ['classifier.weight', 'classifier.bias']\n",
      "all_detections []\n"
     ]
    },
    {
     "name": "stderr",
     "output_type": "stream",
     "text": [
      "/home/yongming/workspace/research/apperception_new_local/apperception/optimization_playground/detection_estimation/utils.py:45: ShapelyDeprecationWarning: Iteration over multi-part geometries is deprecated and will be removed in Shapely 2.0. Use the `geoms` property to access the constituent parts of a multi-part geometry.\n",
      "  a, b = line.boundary\n",
      "/home/yongming/workspace/research/apperception_new_local/apperception/optimization_playground/detection_estimation/utils.py:85: ShapelyDeprecationWarning: Iteration over multi-part geometries is deprecated and will be removed in Shapely 2.0. Use the `geoms` property to access the constituent parts of a multi-part geometry.\n",
      "  for intersect in intersection:\n"
     ]
    },
    {
     "name": "stdout",
     "output_type": "stream",
     "text": [
      "total mapping time:  0.2921590805053711\n",
      "mapping length 32\n",
      "Model: osnet_x0_25\n",
      "- params: 203,568\n",
      "- flops: 82,316,000\n",
      "Successfully loaded pretrained weights from \"osnet_x0_25_msmt17.pt\"\n",
      "** The following layers are discarded due to unmatched keys or layer size: ['classifier.weight', 'classifier.bias']\n",
      "all_detections []\n"
     ]
    },
    {
     "name": "stderr",
     "output_type": "stream",
     "text": [
      "/home/yongming/workspace/research/apperception_new_local/apperception/optimization_playground/detection_estimation/utils.py:45: ShapelyDeprecationWarning: Iteration over multi-part geometries is deprecated and will be removed in Shapely 2.0. Use the `geoms` property to access the constituent parts of a multi-part geometry.\n",
      "  a, b = line.boundary\n"
     ]
    },
    {
     "name": "stdout",
     "output_type": "stream",
     "text": [
      "total mapping time:  0.24833321571350098\n",
      "mapping length 32\n",
      "Model: osnet_x0_25\n",
      "- params: 203,568\n",
      "- flops: 82,316,000\n",
      "Successfully loaded pretrained weights from \"osnet_x0_25_msmt17.pt\"\n",
      "** The following layers are discarded due to unmatched keys or layer size: ['classifier.weight', 'classifier.bias']\n",
      "all_detections []\n"
     ]
    },
    {
     "name": "stderr",
     "output_type": "stream",
     "text": [
      "/home/yongming/workspace/research/apperception_new_local/apperception/optimization_playground/detection_estimation/utils.py:45: ShapelyDeprecationWarning: Iteration over multi-part geometries is deprecated and will be removed in Shapely 2.0. Use the `geoms` property to access the constituent parts of a multi-part geometry.\n",
      "  a, b = line.boundary\n"
     ]
    },
    {
     "name": "stdout",
     "output_type": "stream",
     "text": [
      "total mapping time:  0.4104955196380615\n",
      "mapping length 45\n",
      "Model: osnet_x0_25\n",
      "- params: 203,568\n",
      "- flops: 82,316,000\n",
      "Successfully loaded pretrained weights from \"osnet_x0_25_msmt17.pt\"\n",
      "** The following layers are discarded due to unmatched keys or layer size: ['classifier.weight', 'classifier.bias']\n",
      "all_detections [obj_detection(id='car_1', car_loc3d=((1839.9707355596638, 868.0084638351562),), car_loc2d=(865, 487), car_bbox3d=None, car_bbox2d=(852, 467, 878, 487))]\n",
      "lane\n",
      "next frame name sweeps/CAM_FRONT/n008-2018-08-27-11-48-51-0400__CAM_FRONT__1535385099112404.jpg\n",
      "next frame num 1112\n"
     ]
    },
    {
     "name": "stderr",
     "output_type": "stream",
     "text": [
      "/home/yongming/workspace/research/apperception_new_local/apperception/optimization_playground/detection_estimation/utils.py:45: ShapelyDeprecationWarning: Iteration over multi-part geometries is deprecated and will be removed in Shapely 2.0. Use the `geoms` property to access the constituent parts of a multi-part geometry.\n",
      "  a, b = line.boundary\n"
     ]
    },
    {
     "name": "stdout",
     "output_type": "stream",
     "text": [
      "total mapping time:  0.46069908142089844\n",
      "mapping length 43\n",
      "Model: osnet_x0_25\n",
      "- params: 203,568\n",
      "- flops: 82,316,000\n",
      "Successfully loaded pretrained weights from \"osnet_x0_25_msmt17.pt\"\n",
      "** The following layers are discarded due to unmatched keys or layer size: ['classifier.weight', 'classifier.bias']\n",
      "all_detections [obj_detection(id='car_1', car_loc3d=((1972.356772971168, 874.6494952773176),), car_loc2d=(806, 494), car_bbox3d=None, car_bbox2d=(792, 476, 820, 494))]\n",
      "lane\n",
      "next frame name sweeps/CAM_FRONT/n008-2018-08-27-11-48-51-0400__CAM_FRONT__1535385100612404.jpg\n",
      "next frame num 1346\n"
     ]
    },
    {
     "name": "stderr",
     "output_type": "stream",
     "text": [
      "/home/yongming/workspace/research/apperception_new_local/apperception/optimization_playground/detection_estimation/utils.py:45: ShapelyDeprecationWarning: Iteration over multi-part geometries is deprecated and will be removed in Shapely 2.0. Use the `geoms` property to access the constituent parts of a multi-part geometry.\n",
      "  a, b = line.boundary\n",
      "/home/yongming/workspace/research/apperception_new_local/apperception/optimization_playground/detection_estimation/utils.py:85: ShapelyDeprecationWarning: Iteration over multi-part geometries is deprecated and will be removed in Shapely 2.0. Use the `geoms` property to access the constituent parts of a multi-part geometry.\n",
      "  for intersect in intersection:\n"
     ]
    },
    {
     "name": "stdout",
     "output_type": "stream",
     "text": [
      "total mapping time:  0.36666393280029297\n",
      "mapping length 43\n",
      "Model: osnet_x0_25\n",
      "- params: 203,568\n",
      "- flops: 82,316,000\n",
      "Successfully loaded pretrained weights from \"osnet_x0_25_msmt17.pt\"\n",
      "** The following layers are discarded due to unmatched keys or layer size: ['classifier.weight', 'classifier.bias']\n",
      "all_detections []\n"
     ]
    },
    {
     "name": "stderr",
     "output_type": "stream",
     "text": [
      "/home/yongming/workspace/research/apperception_new_local/apperception/optimization_playground/detection_estimation/utils.py:45: ShapelyDeprecationWarning: Iteration over multi-part geometries is deprecated and will be removed in Shapely 2.0. Use the `geoms` property to access the constituent parts of a multi-part geometry.\n",
      "  a, b = line.boundary\n",
      "/home/yongming/workspace/research/apperception_new_local/apperception/optimization_playground/detection_estimation/utils.py:85: ShapelyDeprecationWarning: Iteration over multi-part geometries is deprecated and will be removed in Shapely 2.0. Use the `geoms` property to access the constituent parts of a multi-part geometry.\n",
      "  for intersect in intersection:\n"
     ]
    },
    {
     "name": "stdout",
     "output_type": "stream",
     "text": [
      "total mapping time:  0.35140347480773926\n",
      "mapping length 43\n",
      "Model: osnet_x0_25\n",
      "- params: 203,568\n",
      "- flops: 82,316,000\n",
      "Successfully loaded pretrained weights from \"osnet_x0_25_msmt17.pt\"\n",
      "** The following layers are discarded due to unmatched keys or layer size: ['classifier.weight', 'classifier.bias']\n",
      "all_detections [obj_detection(id='car_1', car_loc3d=((1914.8829541031619, 873.3757827536206),), car_loc2d=(715, 510), car_bbox3d=None, car_bbox2d=(689, 474, 741, 510))]\n",
      "lane\n",
      "next frame name sweeps/CAM_FRONT/n008-2018-08-27-11-48-51-0400__CAM_FRONT__1535385101262404.jpg\n",
      "next frame num 1449\n"
     ]
    },
    {
     "name": "stderr",
     "output_type": "stream",
     "text": [
      "/home/yongming/workspace/research/apperception_new_local/apperception/optimization_playground/detection_estimation/utils.py:45: ShapelyDeprecationWarning: Iteration over multi-part geometries is deprecated and will be removed in Shapely 2.0. Use the `geoms` property to access the constituent parts of a multi-part geometry.\n",
      "  a, b = line.boundary\n"
     ]
    },
    {
     "name": "stdout",
     "output_type": "stream",
     "text": [
      "total mapping time:  0.32883501052856445\n",
      "mapping length 42\n",
      "Model: osnet_x0_25\n",
      "- params: 203,568\n",
      "- flops: 82,316,000\n",
      "Successfully loaded pretrained weights from \"osnet_x0_25_msmt17.pt\"\n",
      "** The following layers are discarded due to unmatched keys or layer size: ['classifier.weight', 'classifier.bias']\n",
      "all_detections []\n"
     ]
    },
    {
     "name": "stderr",
     "output_type": "stream",
     "text": [
      "/home/yongming/workspace/research/apperception_new_local/apperception/optimization_playground/detection_estimation/utils.py:45: ShapelyDeprecationWarning: Iteration over multi-part geometries is deprecated and will be removed in Shapely 2.0. Use the `geoms` property to access the constituent parts of a multi-part geometry.\n",
      "  a, b = line.boundary\n"
     ]
    },
    {
     "name": "stdout",
     "output_type": "stream",
     "text": [
      "total mapping time:  0.33611273765563965\n",
      "mapping length 43\n",
      "Model: osnet_x0_25\n",
      "- params: 203,568\n",
      "- flops: 82,316,000\n",
      "Successfully loaded pretrained weights from \"osnet_x0_25_msmt17.pt\"\n",
      "** The following layers are discarded due to unmatched keys or layer size: ['classifier.weight', 'classifier.bias']\n",
      "all_detections [obj_detection(id='car_1', car_loc3d=((1914.8829541031619, 873.3757827536206),), car_loc2d=(703, 513), car_bbox3d=None, car_bbox2d=(672, 469, 734, 513))]\n",
      "lane\n",
      "next frame name sweeps/CAM_FRONT/n008-2018-08-27-11-48-51-0400__CAM_FRONT__1535385102012404.jpg\n",
      "next frame num 1566\n"
     ]
    },
    {
     "name": "stderr",
     "output_type": "stream",
     "text": [
      "/home/yongming/workspace/research/apperception_new_local/apperception/optimization_playground/detection_estimation/utils.py:45: ShapelyDeprecationWarning: Iteration over multi-part geometries is deprecated and will be removed in Shapely 2.0. Use the `geoms` property to access the constituent parts of a multi-part geometry.\n",
      "  a, b = line.boundary\n",
      "/home/yongming/workspace/research/apperception_new_local/apperception/optimization_playground/detection_estimation/utils.py:85: ShapelyDeprecationWarning: Iteration over multi-part geometries is deprecated and will be removed in Shapely 2.0. Use the `geoms` property to access the constituent parts of a multi-part geometry.\n",
      "  for intersect in intersection:\n"
     ]
    },
    {
     "name": "stdout",
     "output_type": "stream",
     "text": [
      "total mapping time:  0.33342623710632324\n",
      "mapping length 42\n",
      "Model: osnet_x0_25\n",
      "- params: 203,568\n",
      "- flops: 82,316,000\n",
      "Successfully loaded pretrained weights from \"osnet_x0_25_msmt17.pt\"\n",
      "** The following layers are discarded due to unmatched keys or layer size: ['classifier.weight', 'classifier.bias']\n",
      "all_detections [obj_detection(id='car_1', car_loc3d=((1914.8829541031619, 873.3757827536206),), car_loc2d=(714, 501), car_bbox3d=None, car_bbox2d=(682, 453, 746, 501))]\n",
      "lane\n",
      "next frame name sweeps/CAM_FRONT/n008-2018-08-27-11-48-51-0400__CAM_FRONT__1535385102662404.jpg\n",
      "next frame num 1668\n"
     ]
    },
    {
     "name": "stderr",
     "output_type": "stream",
     "text": [
      "/home/yongming/workspace/research/apperception_new_local/apperception/optimization_playground/detection_estimation/utils.py:45: ShapelyDeprecationWarning: Iteration over multi-part geometries is deprecated and will be removed in Shapely 2.0. Use the `geoms` property to access the constituent parts of a multi-part geometry.\n",
      "  a, b = line.boundary\n",
      "/home/yongming/workspace/research/apperception_new_local/apperception/optimization_playground/detection_estimation/utils.py:85: ShapelyDeprecationWarning: Iteration over multi-part geometries is deprecated and will be removed in Shapely 2.0. Use the `geoms` property to access the constituent parts of a multi-part geometry.\n",
      "  for intersect in intersection:\n"
     ]
    },
    {
     "name": "stdout",
     "output_type": "stream",
     "text": [
      "total mapping time:  0.3056814670562744\n",
      "mapping length 41\n",
      "Model: osnet_x0_25\n",
      "- params: 203,568\n",
      "- flops: 82,316,000\n",
      "Successfully loaded pretrained weights from \"osnet_x0_25_msmt17.pt\"\n",
      "** The following layers are discarded due to unmatched keys or layer size: ['classifier.weight', 'classifier.bias']\n",
      "all_detections [obj_detection(id='car_1', car_loc3d=((1914.8829541031619, 873.3757827536206),), car_loc2d=(718, 519), car_bbox3d=None, car_bbox2d=(685, 471, 751, 519)), obj_detection(id='car_1', car_loc3d=((1914.8829541031619, 873.3757827536206),), car_loc2d=(721, 519), car_bbox3d=None, car_bbox2d=(690, 471, 752, 519))]\n",
      "lane\n",
      "next frame name sweeps/CAM_FRONT/n008-2018-08-27-11-48-51-0400__CAM_FRONT__1535385103162404.jpg\n",
      "next frame num 1749\n"
     ]
    },
    {
     "name": "stderr",
     "output_type": "stream",
     "text": [
      "/home/yongming/workspace/research/apperception_new_local/apperception/optimization_playground/detection_estimation/utils.py:45: ShapelyDeprecationWarning: Iteration over multi-part geometries is deprecated and will be removed in Shapely 2.0. Use the `geoms` property to access the constituent parts of a multi-part geometry.\n",
      "  a, b = line.boundary\n",
      "/home/yongming/workspace/research/apperception_new_local/apperception/optimization_playground/detection_estimation/utils.py:85: ShapelyDeprecationWarning: Iteration over multi-part geometries is deprecated and will be removed in Shapely 2.0. Use the `geoms` property to access the constituent parts of a multi-part geometry.\n",
      "  for intersect in intersection:\n"
     ]
    },
    {
     "name": "stdout",
     "output_type": "stream",
     "text": [
      "total mapping time:  0.7746765613555908\n",
      "mapping length 64\n",
      "Model: osnet_x0_25\n",
      "- params: 203,568\n",
      "- flops: 82,316,000\n",
      "Successfully loaded pretrained weights from \"osnet_x0_25_msmt17.pt\"\n",
      "** The following layers are discarded due to unmatched keys or layer size: ['classifier.weight', 'classifier.bias']\n",
      "all_detections [obj_detection(id='car_1', car_loc3d=((1914.8829541031619, 873.3757827536206),), car_loc2d=(725, 512), car_bbox3d=None, car_bbox2d=(690, 456, 760, 512))]\n",
      "lane\n",
      "next frame name sweeps/CAM_FRONT/n008-2018-08-27-11-48-51-0400__CAM_FRONT__1535385103762404.jpg\n",
      "next frame num 1843\n"
     ]
    },
    {
     "name": "stderr",
     "output_type": "stream",
     "text": [
      "/home/yongming/workspace/research/apperception_new_local/apperception/optimization_playground/detection_estimation/utils.py:45: ShapelyDeprecationWarning: Iteration over multi-part geometries is deprecated and will be removed in Shapely 2.0. Use the `geoms` property to access the constituent parts of a multi-part geometry.\n",
      "  a, b = line.boundary\n",
      "/home/yongming/workspace/research/apperception_new_local/apperception/optimization_playground/detection_estimation/utils.py:85: ShapelyDeprecationWarning: Iteration over multi-part geometries is deprecated and will be removed in Shapely 2.0. Use the `geoms` property to access the constituent parts of a multi-part geometry.\n",
      "  for intersect in intersection:\n"
     ]
    },
    {
     "name": "stdout",
     "output_type": "stream",
     "text": [
      "total mapping time:  0.6979737281799316\n",
      "mapping length 63\n",
      "Model: osnet_x0_25\n",
      "- params: 203,568\n",
      "- flops: 82,316,000\n",
      "Successfully loaded pretrained weights from \"osnet_x0_25_msmt17.pt\"\n",
      "** The following layers are discarded due to unmatched keys or layer size: ['classifier.weight', 'classifier.bias']\n",
      "all_detections [obj_detection(id='car_1', car_loc3d=((1914.8829541031619, 873.3757827536206),), car_loc2d=(720, 538), car_bbox3d=None, car_bbox2d=(677, 474, 763, 538))]\n",
      "lane\n",
      "next frame name samples/CAM_FRONT/n008-2018-08-27-11-48-51-0400__CAM_FRONT__1535385104412404.jpg\n",
      "next frame num 1949\n"
     ]
    },
    {
     "name": "stderr",
     "output_type": "stream",
     "text": [
      "/home/yongming/workspace/research/apperception_new_local/apperception/optimization_playground/detection_estimation/utils.py:45: ShapelyDeprecationWarning: Iteration over multi-part geometries is deprecated and will be removed in Shapely 2.0. Use the `geoms` property to access the constituent parts of a multi-part geometry.\n",
      "  a, b = line.boundary\n"
     ]
    },
    {
     "name": "stdout",
     "output_type": "stream",
     "text": [
      "total mapping time:  0.8397731781005859\n",
      "mapping length 61\n",
      "Model: osnet_x0_25\n",
      "- params: 203,568\n",
      "- flops: 82,316,000\n",
      "Successfully loaded pretrained weights from \"osnet_x0_25_msmt17.pt\"\n",
      "** The following layers are discarded due to unmatched keys or layer size: ['classifier.weight', 'classifier.bias']\n",
      "all_detections [obj_detection(id='car_1', car_loc3d=((1914.8829541031619, 873.3757827536206),), car_loc2d=(781, 527), car_bbox3d=None, car_bbox2d=(773, 493, 789, 527)), obj_detection(id='car_1', car_loc3d=((1900.0438147510804, 880.6944960294375),), car_loc2d=(413, 534), car_bbox3d=None, car_bbox2d=(286, 438, 540, 534))]\n",
      "lane\n",
      "next frame name sweeps/CAM_FRONT/n008-2018-08-27-11-48-51-0400__CAM_FRONT__1535385104662404.jpg\n",
      "next frame num 1988\n"
     ]
    },
    {
     "name": "stderr",
     "output_type": "stream",
     "text": [
      "/home/yongming/workspace/research/apperception_new_local/apperception/optimization_playground/detection_estimation/utils.py:45: ShapelyDeprecationWarning: Iteration over multi-part geometries is deprecated and will be removed in Shapely 2.0. Use the `geoms` property to access the constituent parts of a multi-part geometry.\n",
      "  a, b = line.boundary\n"
     ]
    },
    {
     "name": "stdout",
     "output_type": "stream",
     "text": [
      "total mapping time:  0.7175426483154297\n",
      "mapping length 61\n",
      "Model: osnet_x0_25\n",
      "- params: 203,568\n",
      "- flops: 82,316,000\n",
      "Successfully loaded pretrained weights from \"osnet_x0_25_msmt17.pt\"\n",
      "** The following layers are discarded due to unmatched keys or layer size: ['classifier.weight', 'classifier.bias']\n",
      "all_detections [obj_detection(id='car_1', car_loc3d=((1914.8829541031619, 873.3757827536206),), car_loc2d=(677, 533), car_bbox3d=None, car_bbox2d=(628, 455, 726, 533)), obj_detection(id='car_1', car_loc3d=((1900.0438147510804, 880.6944960294375),), car_loc2d=(385, 543), car_bbox3d=None, car_bbox2d=(253, 413, 517, 543)), obj_detection(id='car_1', car_loc3d=((1914.8829541031619, 873.3757827536206),), car_loc2d=(774, 526), car_bbox3d=None, car_bbox2d=(765, 488, 783, 526))]\n",
      "lane\n",
      "next frame name samples/CAM_FRONT/n008-2018-08-27-11-48-51-0400__CAM_FRONT__1535385104912404.jpg\n",
      "next frame num 2026\n"
     ]
    },
    {
     "name": "stderr",
     "output_type": "stream",
     "text": [
      "/home/yongming/workspace/research/apperception_new_local/apperception/optimization_playground/detection_estimation/utils.py:45: ShapelyDeprecationWarning: Iteration over multi-part geometries is deprecated and will be removed in Shapely 2.0. Use the `geoms` property to access the constituent parts of a multi-part geometry.\n",
      "  a, b = line.boundary\n"
     ]
    },
    {
     "name": "stdout",
     "output_type": "stream",
     "text": [
      "total mapping time:  0.7350845336914062\n",
      "mapping length 66\n",
      "Model: osnet_x0_25\n",
      "- params: 203,568\n",
      "- flops: 82,316,000\n",
      "Successfully loaded pretrained weights from \"osnet_x0_25_msmt17.pt\"\n",
      "** The following layers are discarded due to unmatched keys or layer size: ['classifier.weight', 'classifier.bias']\n"
     ]
    },
    {
     "name": "stderr",
     "output_type": "stream",
     "text": [
      "/home/yongming/workspace/research/apperception_new_local/apperception/optimization_playground/detection_estimation/utils.py:45: ShapelyDeprecationWarning: Iteration over multi-part geometries is deprecated and will be removed in Shapely 2.0. Use the `geoms` property to access the constituent parts of a multi-part geometry.\n",
      "  a, b = line.boundary\n",
      "TopologyException: Input geom 1 is invalid: Self-intersection at 1902.9833080953297 882.54139685454481\n",
      "Self-intersection at or near point 1902.9833080953297 882.54139685454481\n"
     ]
    },
    {
     "name": "stdout",
     "output_type": "stream",
     "text": [
      "all_detections [obj_detection(id='car_1', car_loc3d=((1914.8829541031619, 873.3757827536206),), car_loc2d=(664, 549), car_bbox3d=None, car_bbox2d=(611, 459, 717, 549)), obj_detection(id='car_1', car_loc3d=((1900.6347723897259, 879.0371752935228),), car_loc2d=(342, 557), car_bbox3d=None, car_bbox2d=(184, 437, 500, 557))]\n",
      "lane\n",
      "next frame name sweeps/CAM_FRONT/n008-2018-08-27-11-48-51-0400__CAM_FRONT__1535385105512404.jpg\n",
      "next frame num 2120\n",
      "total mapping time:  0.7414085865020752\n",
      "mapping length 66\n",
      "Model: osnet_x0_25\n",
      "- params: 203,568\n",
      "- flops: 82,316,000\n",
      "Successfully loaded pretrained weights from \"osnet_x0_25_msmt17.pt\"\n",
      "** The following layers are discarded due to unmatched keys or layer size: ['classifier.weight', 'classifier.bias']\n"
     ]
    },
    {
     "name": "stderr",
     "output_type": "stream",
     "text": [
      "/home/yongming/workspace/research/apperception_new_local/apperception/optimization_playground/detection_estimation/utils.py:45: ShapelyDeprecationWarning: Iteration over multi-part geometries is deprecated and will be removed in Shapely 2.0. Use the `geoms` property to access the constituent parts of a multi-part geometry.\n",
      "  a, b = line.boundary\n",
      "TopologyException: Input geom 1 is invalid: Self-intersection at 1902.9833080953297 882.54139685454481\n",
      "Self-intersection at or near point 1902.9833080953297 882.54139685454481\n"
     ]
    },
    {
     "name": "stdout",
     "output_type": "stream",
     "text": [
      "all_detections [obj_detection(id='car_1', car_loc3d=((1914.8829541031619, 873.3757827536206),), car_loc2d=(610, 557), car_bbox3d=None, car_bbox2d=(534, 461, 686, 557)), obj_detection(id='car_1', car_loc3d=((1900.6347723897259, 879.0371752935228),), car_loc2d=(214, 565), car_bbox3d=None, car_bbox2d=(0, 415, 428, 565))]\n",
      "lane\n",
      "next frame name sweeps/CAM_FRONT/n008-2018-08-27-11-48-51-0400__CAM_FRONT__1535385106162404.jpg\n",
      "next frame num 2222\n",
      "total mapping time:  0.7268157005310059\n",
      "mapping length 61\n",
      "Model: osnet_x0_25\n",
      "- params: 203,568\n",
      "- flops: 82,316,000\n",
      "Successfully loaded pretrained weights from \"osnet_x0_25_msmt17.pt\"\n",
      "** The following layers are discarded due to unmatched keys or layer size: ['classifier.weight', 'classifier.bias']\n",
      "all_detections [obj_detection(id='car_1', car_loc3d=((1914.8829541031619, 873.3757827536206),), car_loc2d=(541, 564), car_bbox3d=None, car_bbox2d=(435, 436, 647, 564))]\n",
      "lane\n",
      "next frame name sweeps/CAM_FRONT/n008-2018-08-27-11-48-51-0400__CAM_FRONT__1535385106762404.jpg\n",
      "next frame num 2317\n"
     ]
    },
    {
     "name": "stderr",
     "output_type": "stream",
     "text": [
      "/home/yongming/workspace/research/apperception_new_local/apperception/optimization_playground/detection_estimation/utils.py:45: ShapelyDeprecationWarning: Iteration over multi-part geometries is deprecated and will be removed in Shapely 2.0. Use the `geoms` property to access the constituent parts of a multi-part geometry.\n",
      "  a, b = line.boundary\n"
     ]
    },
    {
     "name": "stdout",
     "output_type": "stream",
     "text": [
      "total mapping time:  0.8110146522521973\n",
      "mapping length 61\n",
      "Model: osnet_x0_25\n",
      "- params: 203,568\n",
      "- flops: 82,316,000\n",
      "Successfully loaded pretrained weights from \"osnet_x0_25_msmt17.pt\"\n",
      "** The following layers are discarded due to unmatched keys or layer size: ['classifier.weight', 'classifier.bias']\n",
      "all_detections [obj_detection(id='car_1', car_loc3d=((1914.8829541031619, 873.3757827536206),), car_loc2d=(459, 601), car_bbox3d=None, car_bbox2d=(314, 435, 604, 601))]\n",
      "lane\n",
      "next frame name sweeps/CAM_FRONT/n008-2018-08-27-11-48-51-0400__CAM_FRONT__1535385107362404.jpg\n",
      "next frame num 2411\n"
     ]
    },
    {
     "name": "stderr",
     "output_type": "stream",
     "text": [
      "/home/yongming/workspace/research/apperception_new_local/apperception/optimization_playground/detection_estimation/utils.py:45: ShapelyDeprecationWarning: Iteration over multi-part geometries is deprecated and will be removed in Shapely 2.0. Use the `geoms` property to access the constituent parts of a multi-part geometry.\n",
      "  a, b = line.boundary\n",
      "/home/yongming/workspace/research/apperception_new_local/apperception/optimization_playground/detection_estimation/utils.py:85: ShapelyDeprecationWarning: Iteration over multi-part geometries is deprecated and will be removed in Shapely 2.0. Use the `geoms` property to access the constituent parts of a multi-part geometry.\n",
      "  for intersect in intersection:\n"
     ]
    },
    {
     "name": "stdout",
     "output_type": "stream",
     "text": [
      "total mapping time:  0.9105303287506104\n",
      "mapping length 68\n",
      "Model: osnet_x0_25\n",
      "- params: 203,568\n",
      "- flops: 82,316,000\n",
      "Successfully loaded pretrained weights from \"osnet_x0_25_msmt17.pt\"\n",
      "** The following layers are discarded due to unmatched keys or layer size: ['classifier.weight', 'classifier.bias']\n",
      "all_detections [obj_detection(id='car_1', car_loc3d=((1931.91239670335, 886.3316907920956),), car_loc2d=(46, 523), car_bbox3d=None, car_bbox2d=(6, 447, 86, 523))]\n",
      "lane\n",
      "next frame name sweeps/CAM_FRONT/n008-2018-08-27-11-48-51-0400__CAM_FRONT__1535385107612404.jpg\n",
      "next frame num 2450\n"
     ]
    },
    {
     "name": "stderr",
     "output_type": "stream",
     "text": [
      "/home/yongming/workspace/research/apperception_new_local/apperception/optimization_playground/detection_estimation/utils.py:45: ShapelyDeprecationWarning: Iteration over multi-part geometries is deprecated and will be removed in Shapely 2.0. Use the `geoms` property to access the constituent parts of a multi-part geometry.\n",
      "  a, b = line.boundary\n",
      "/home/yongming/workspace/research/apperception_new_local/apperception/optimization_playground/detection_estimation/utils.py:85: ShapelyDeprecationWarning: Iteration over multi-part geometries is deprecated and will be removed in Shapely 2.0. Use the `geoms` property to access the constituent parts of a multi-part geometry.\n",
      "  for intersect in intersection:\n"
     ]
    },
    {
     "name": "stdout",
     "output_type": "stream",
     "text": [
      "total mapping time:  0.7521004676818848\n",
      "mapping length 68\n",
      "Model: osnet_x0_25\n",
      "- params: 203,568\n",
      "- flops: 82,316,000\n",
      "Successfully loaded pretrained weights from \"osnet_x0_25_msmt17.pt\"\n",
      "** The following layers are discarded due to unmatched keys or layer size: ['classifier.weight', 'classifier.bias']\n",
      "all_detections []\n"
     ]
    },
    {
     "name": "stderr",
     "output_type": "stream",
     "text": [
      "/home/yongming/workspace/research/apperception_new_local/apperception/optimization_playground/detection_estimation/utils.py:45: ShapelyDeprecationWarning: Iteration over multi-part geometries is deprecated and will be removed in Shapely 2.0. Use the `geoms` property to access the constituent parts of a multi-part geometry.\n",
      "  a, b = line.boundary\n",
      "/home/yongming/workspace/research/apperception_new_local/apperception/optimization_playground/detection_estimation/utils.py:85: ShapelyDeprecationWarning: Iteration over multi-part geometries is deprecated and will be removed in Shapely 2.0. Use the `geoms` property to access the constituent parts of a multi-part geometry.\n",
      "  for intersect in intersection:\n"
     ]
    },
    {
     "name": "stdout",
     "output_type": "stream",
     "text": [
      "total mapping time:  0.7843153476715088\n",
      "mapping length 68\n",
      "Model: osnet_x0_25\n",
      "- params: 203,568\n",
      "- flops: 82,316,000\n",
      "Successfully loaded pretrained weights from \"osnet_x0_25_msmt17.pt\"\n",
      "** The following layers are discarded due to unmatched keys or layer size: ['classifier.weight', 'classifier.bias']\n",
      "all_detections []\n"
     ]
    },
    {
     "name": "stderr",
     "output_type": "stream",
     "text": [
      "/home/yongming/workspace/research/apperception_new_local/apperception/optimization_playground/detection_estimation/utils.py:45: ShapelyDeprecationWarning: Iteration over multi-part geometries is deprecated and will be removed in Shapely 2.0. Use the `geoms` property to access the constituent parts of a multi-part geometry.\n",
      "  a, b = line.boundary\n",
      "/home/yongming/workspace/research/apperception_new_local/apperception/optimization_playground/detection_estimation/utils.py:85: ShapelyDeprecationWarning: Iteration over multi-part geometries is deprecated and will be removed in Shapely 2.0. Use the `geoms` property to access the constituent parts of a multi-part geometry.\n",
      "  for intersect in intersection:\n"
     ]
    },
    {
     "name": "stdout",
     "output_type": "stream",
     "text": [
      "total mapping time:  0.8346855640411377\n",
      "mapping length 67\n",
      "Model: osnet_x0_25\n",
      "- params: 203,568\n",
      "- flops: 82,316,000\n",
      "Successfully loaded pretrained weights from \"osnet_x0_25_msmt17.pt\"\n",
      "** The following layers are discarded due to unmatched keys or layer size: ['classifier.weight', 'classifier.bias']\n",
      "all_detections []\n"
     ]
    },
    {
     "name": "stderr",
     "output_type": "stream",
     "text": [
      "/home/yongming/workspace/research/apperception_new_local/apperception/optimization_playground/detection_estimation/utils.py:45: ShapelyDeprecationWarning: Iteration over multi-part geometries is deprecated and will be removed in Shapely 2.0. Use the `geoms` property to access the constituent parts of a multi-part geometry.\n",
      "  a, b = line.boundary\n",
      "/home/yongming/workspace/research/apperception_new_local/apperception/optimization_playground/detection_estimation/utils.py:85: ShapelyDeprecationWarning: Iteration over multi-part geometries is deprecated and will be removed in Shapely 2.0. Use the `geoms` property to access the constituent parts of a multi-part geometry.\n",
      "  for intersect in intersection:\n"
     ]
    },
    {
     "name": "stdout",
     "output_type": "stream",
     "text": [
      "total mapping time:  0.7926990985870361\n",
      "mapping length 67\n",
      "Model: osnet_x0_25\n",
      "- params: 203,568\n",
      "- flops: 82,316,000\n",
      "Successfully loaded pretrained weights from \"osnet_x0_25_msmt17.pt\"\n",
      "** The following layers are discarded due to unmatched keys or layer size: ['classifier.weight', 'classifier.bias']\n",
      "all_detections [obj_detection(id='car_1', car_loc3d=((1972.356772971168, 874.6494952773176),), car_loc2d=(781, 496), car_bbox3d=None, car_bbox2d=(764, 472, 798, 496))]\n",
      "lane\n",
      "next frame name sweeps/CAM_FRONT/n008-2018-08-27-11-48-51-0400__CAM_FRONT__1535385108512404.jpg\n",
      "next frame num 2585\n"
     ]
    },
    {
     "name": "stderr",
     "output_type": "stream",
     "text": [
      "/home/yongming/workspace/research/apperception_new_local/apperception/optimization_playground/detection_estimation/utils.py:45: ShapelyDeprecationWarning: Iteration over multi-part geometries is deprecated and will be removed in Shapely 2.0. Use the `geoms` property to access the constituent parts of a multi-part geometry.\n",
      "  a, b = line.boundary\n"
     ]
    },
    {
     "name": "stdout",
     "output_type": "stream",
     "text": [
      "total mapping time:  1.447481632232666\n",
      "mapping length 91\n",
      "Model: osnet_x0_25\n",
      "- params: 203,568\n",
      "- flops: 82,316,000\n",
      "Successfully loaded pretrained weights from \"osnet_x0_25_msmt17.pt\"\n",
      "** The following layers are discarded due to unmatched keys or layer size: ['classifier.weight', 'classifier.bias']\n",
      "all_detections [obj_detection(id='car_1', car_loc3d=((1972.356772971168, 874.6494952773176),), car_loc2d=(774, 497), car_bbox3d=None, car_bbox2d=(756, 467, 792, 497))]\n",
      "lane\n",
      "next frame name sweeps/CAM_FRONT/n008-2018-08-27-11-48-51-0400__CAM_FRONT__1535385110012404.jpg\n",
      "next frame num 2826\n"
     ]
    },
    {
     "name": "stderr",
     "output_type": "stream",
     "text": [
      "/home/yongming/workspace/research/apperception_new_local/apperception/optimization_playground/detection_estimation/utils.py:45: ShapelyDeprecationWarning: Iteration over multi-part geometries is deprecated and will be removed in Shapely 2.0. Use the `geoms` property to access the constituent parts of a multi-part geometry.\n",
      "  a, b = line.boundary\n"
     ]
    },
    {
     "name": "stdout",
     "output_type": "stream",
     "text": [
      "total mapping time:  0.9953773021697998\n",
      "mapping length 76\n",
      "Model: osnet_x0_25\n",
      "- params: 203,568\n",
      "- flops: 82,316,000\n",
      "Successfully loaded pretrained weights from \"osnet_x0_25_msmt17.pt\"\n",
      "** The following layers are discarded due to unmatched keys or layer size: ['classifier.weight', 'classifier.bias']\n",
      "all_detections [obj_detection(id='car_1', car_loc3d=((1972.356772971168, 874.6494952773176),), car_loc2d=(739, 509), car_bbox3d=None, car_bbox2d=(703, 453, 775, 509))]\n",
      "lane\n",
      "next frame name sweeps/CAM_FRONT/n008-2018-08-27-11-48-51-0400__CAM_FRONT__1535385110862404.jpg\n",
      "next frame num 2956\n"
     ]
    },
    {
     "name": "stderr",
     "output_type": "stream",
     "text": [
      "/home/yongming/workspace/research/apperception_new_local/apperception/optimization_playground/detection_estimation/utils.py:45: ShapelyDeprecationWarning: Iteration over multi-part geometries is deprecated and will be removed in Shapely 2.0. Use the `geoms` property to access the constituent parts of a multi-part geometry.\n",
      "  a, b = line.boundary\n"
     ]
    },
    {
     "name": "stdout",
     "output_type": "stream",
     "text": [
      "total mapping time:  0.859342098236084\n",
      "mapping length 57\n",
      "Model: osnet_x0_25\n",
      "- params: 203,568\n",
      "- flops: 82,316,000\n",
      "Successfully loaded pretrained weights from \"osnet_x0_25_msmt17.pt\"\n",
      "** The following layers are discarded due to unmatched keys or layer size: ['classifier.weight', 'classifier.bias']\n",
      "all_detections [obj_detection(id='car_1', car_loc3d=((1972.356772971168, 874.6494952773176),), car_loc2d=(684, 549), car_bbox3d=None, car_bbox2d=(623, 453, 745, 549))]\n",
      "lane\n"
     ]
    },
    {
     "name": "stderr",
     "output_type": "stream",
     "text": [
      "/home/yongming/workspace/research/apperception_new_local/apperception/optimization_playground/detection_estimation/utils.py:45: ShapelyDeprecationWarning: Iteration over multi-part geometries is deprecated and will be removed in Shapely 2.0. Use the `geoms` property to access the constituent parts of a multi-part geometry.\n",
      "  a, b = line.boundary\n"
     ]
    },
    {
     "name": "stdout",
     "output_type": "stream",
     "text": [
      "total mapping time:  0.8328063488006592\n",
      "mapping length 57\n",
      "Model: osnet_x0_25\n",
      "- params: 203,568\n",
      "- flops: 82,316,000\n",
      "Successfully loaded pretrained weights from \"osnet_x0_25_msmt17.pt\"\n",
      "** The following layers are discarded due to unmatched keys or layer size: ['classifier.weight', 'classifier.bias']\n",
      "all_detections [obj_detection(id='car_1', car_loc3d=((1972.356772971168, 874.6494952773176),), car_loc2d=(678, 550), car_bbox3d=None, car_bbox2d=(613, 450, 743, 550))]\n",
      "lane\n"
     ]
    },
    {
     "name": "stderr",
     "output_type": "stream",
     "text": [
      "/home/yongming/workspace/research/apperception_new_local/apperception/optimization_playground/detection_estimation/utils.py:45: ShapelyDeprecationWarning: Iteration over multi-part geometries is deprecated and will be removed in Shapely 2.0. Use the `geoms` property to access the constituent parts of a multi-part geometry.\n",
      "  a, b = line.boundary\n"
     ]
    },
    {
     "name": "stdout",
     "output_type": "stream",
     "text": [
      "total mapping time:  0.8429522514343262\n",
      "mapping length 57\n",
      "Model: osnet_x0_25\n",
      "- params: 203,568\n",
      "- flops: 82,316,000\n",
      "Successfully loaded pretrained weights from \"osnet_x0_25_msmt17.pt\"\n",
      "** The following layers are discarded due to unmatched keys or layer size: ['classifier.weight', 'classifier.bias']\n",
      "all_detections [obj_detection(id='car_1', car_loc3d=((1972.356772971168, 874.6494952773176),), car_loc2d=(664, 556), car_bbox3d=None, car_bbox2d=(594, 448, 734, 556))]\n",
      "lane\n"
     ]
    },
    {
     "name": "stderr",
     "output_type": "stream",
     "text": [
      "/home/yongming/workspace/research/apperception_new_local/apperception/optimization_playground/detection_estimation/utils.py:45: ShapelyDeprecationWarning: Iteration over multi-part geometries is deprecated and will be removed in Shapely 2.0. Use the `geoms` property to access the constituent parts of a multi-part geometry.\n",
      "  a, b = line.boundary\n"
     ]
    },
    {
     "name": "stdout",
     "output_type": "stream",
     "text": [
      "total mapping time:  0.9003217220306396\n",
      "mapping length 57\n",
      "Model: osnet_x0_25\n",
      "- params: 203,568\n",
      "- flops: 82,316,000\n",
      "Successfully loaded pretrained weights from \"osnet_x0_25_msmt17.pt\"\n",
      "** The following layers are discarded due to unmatched keys or layer size: ['classifier.weight', 'classifier.bias']\n",
      "all_detections [obj_detection(id='car_1', car_loc3d=((2054.228685288684, 858.414282187199),), car_loc2d=(1111, 505), car_bbox3d=None, car_bbox2d=(1091, 477, 1131, 505))]\n",
      "lane\n"
     ]
    },
    {
     "name": "stderr",
     "output_type": "stream",
     "text": [
      "/home/yongming/workspace/research/apperception_new_local/apperception/optimization_playground/detection_estimation/utils.py:45: ShapelyDeprecationWarning: Iteration over multi-part geometries is deprecated and will be removed in Shapely 2.0. Use the `geoms` property to access the constituent parts of a multi-part geometry.\n",
      "  a, b = line.boundary\n"
     ]
    },
    {
     "name": "stdout",
     "output_type": "stream",
     "text": [
      "total mapping time:  0.9277088642120361\n",
      "mapping length 57\n",
      "Model: osnet_x0_25\n",
      "- params: 203,568\n",
      "- flops: 82,316,000\n",
      "Successfully loaded pretrained weights from \"osnet_x0_25_msmt17.pt\"\n",
      "** The following layers are discarded due to unmatched keys or layer size: ['classifier.weight', 'classifier.bias']\n",
      "all_detections []\n"
     ]
    },
    {
     "name": "stderr",
     "output_type": "stream",
     "text": [
      "/home/yongming/workspace/research/apperception_new_local/apperception/optimization_playground/detection_estimation/utils.py:45: ShapelyDeprecationWarning: Iteration over multi-part geometries is deprecated and will be removed in Shapely 2.0. Use the `geoms` property to access the constituent parts of a multi-part geometry.\n",
      "  a, b = line.boundary\n"
     ]
    },
    {
     "name": "stdout",
     "output_type": "stream",
     "text": [
      "total mapping time:  0.9272370338439941\n",
      "mapping length 57\n",
      "Model: osnet_x0_25\n",
      "- params: 203,568\n",
      "- flops: 82,316,000\n",
      "Successfully loaded pretrained weights from \"osnet_x0_25_msmt17.pt\"\n",
      "** The following layers are discarded due to unmatched keys or layer size: ['classifier.weight', 'classifier.bias']\n",
      "all_detections []\n"
     ]
    },
    {
     "name": "stderr",
     "output_type": "stream",
     "text": [
      "/home/yongming/workspace/research/apperception_new_local/apperception/optimization_playground/detection_estimation/utils.py:45: ShapelyDeprecationWarning: Iteration over multi-part geometries is deprecated and will be removed in Shapely 2.0. Use the `geoms` property to access the constituent parts of a multi-part geometry.\n",
      "  a, b = line.boundary\n"
     ]
    },
    {
     "name": "stdout",
     "output_type": "stream",
     "text": [
      "total mapping time:  0.9185504913330078\n",
      "mapping length 57\n",
      "Model: osnet_x0_25\n",
      "- params: 203,568\n",
      "- flops: 82,316,000\n",
      "Successfully loaded pretrained weights from \"osnet_x0_25_msmt17.pt\"\n",
      "** The following layers are discarded due to unmatched keys or layer size: ['classifier.weight', 'classifier.bias']\n",
      "all_detections []\n"
     ]
    },
    {
     "name": "stderr",
     "output_type": "stream",
     "text": [
      "/home/yongming/workspace/research/apperception_new_local/apperception/optimization_playground/detection_estimation/utils.py:45: ShapelyDeprecationWarning: Iteration over multi-part geometries is deprecated and will be removed in Shapely 2.0. Use the `geoms` property to access the constituent parts of a multi-part geometry.\n",
      "  a, b = line.boundary\n"
     ]
    },
    {
     "name": "stdout",
     "output_type": "stream",
     "text": [
      "total mapping time:  0.7918155193328857\n",
      "mapping length 57\n",
      "Model: osnet_x0_25\n",
      "- params: 203,568\n",
      "- flops: 82,316,000\n",
      "Successfully loaded pretrained weights from \"osnet_x0_25_msmt17.pt\"\n",
      "** The following layers are discarded due to unmatched keys or layer size: ['classifier.weight', 'classifier.bias']\n",
      "all_detections []\n"
     ]
    },
    {
     "name": "stderr",
     "output_type": "stream",
     "text": [
      "/home/yongming/workspace/research/apperception_new_local/apperception/optimization_playground/detection_estimation/utils.py:45: ShapelyDeprecationWarning: Iteration over multi-part geometries is deprecated and will be removed in Shapely 2.0. Use the `geoms` property to access the constituent parts of a multi-part geometry.\n",
      "  a, b = line.boundary\n"
     ]
    },
    {
     "name": "stdout",
     "output_type": "stream",
     "text": [
      "total mapping time:  0.7939267158508301\n",
      "mapping length 57\n",
      "Model: osnet_x0_25\n",
      "- params: 203,568\n",
      "- flops: 82,316,000\n",
      "Successfully loaded pretrained weights from \"osnet_x0_25_msmt17.pt\"\n",
      "** The following layers are discarded due to unmatched keys or layer size: ['classifier.weight', 'classifier.bias']\n",
      "all_detections []\n"
     ]
    },
    {
     "name": "stderr",
     "output_type": "stream",
     "text": [
      "/home/yongming/workspace/research/apperception_new_local/apperception/optimization_playground/detection_estimation/utils.py:45: ShapelyDeprecationWarning: Iteration over multi-part geometries is deprecated and will be removed in Shapely 2.0. Use the `geoms` property to access the constituent parts of a multi-part geometry.\n",
      "  a, b = line.boundary\n"
     ]
    },
    {
     "name": "stdout",
     "output_type": "stream",
     "text": [
      "total mapping time:  0.8257570266723633\n",
      "mapping length 57\n",
      "Model: osnet_x0_25\n",
      "- params: 203,568\n",
      "- flops: 82,316,000\n",
      "Successfully loaded pretrained weights from \"osnet_x0_25_msmt17.pt\"\n",
      "** The following layers are discarded due to unmatched keys or layer size: ['classifier.weight', 'classifier.bias']\n",
      "all_detections []\n"
     ]
    },
    {
     "name": "stderr",
     "output_type": "stream",
     "text": [
      "/home/yongming/workspace/research/apperception_new_local/apperception/optimization_playground/detection_estimation/utils.py:45: ShapelyDeprecationWarning: Iteration over multi-part geometries is deprecated and will be removed in Shapely 2.0. Use the `geoms` property to access the constituent parts of a multi-part geometry.\n",
      "  a, b = line.boundary\n"
     ]
    },
    {
     "name": "stdout",
     "output_type": "stream",
     "text": [
      "total mapping time:  0.7872545719146729\n",
      "mapping length 58\n",
      "Model: osnet_x0_25\n",
      "- params: 203,568\n",
      "- flops: 82,316,000\n",
      "Successfully loaded pretrained weights from \"osnet_x0_25_msmt17.pt\"\n",
      "** The following layers are discarded due to unmatched keys or layer size: ['classifier.weight', 'classifier.bias']\n",
      "all_detections []\n"
     ]
    },
    {
     "name": "stderr",
     "output_type": "stream",
     "text": [
      "/home/yongming/workspace/research/apperception_new_local/apperception/optimization_playground/detection_estimation/utils.py:45: ShapelyDeprecationWarning: Iteration over multi-part geometries is deprecated and will be removed in Shapely 2.0. Use the `geoms` property to access the constituent parts of a multi-part geometry.\n",
      "  a, b = line.boundary\n"
     ]
    },
    {
     "name": "stdout",
     "output_type": "stream",
     "text": [
      "total mapping time:  0.8464281558990479\n",
      "mapping length 58\n",
      "Model: osnet_x0_25\n",
      "- params: 203,568\n",
      "- flops: 82,316,000\n",
      "Successfully loaded pretrained weights from \"osnet_x0_25_msmt17.pt\"\n",
      "** The following layers are discarded due to unmatched keys or layer size: ['classifier.weight', 'classifier.bias']\n",
      "all_detections []\n"
     ]
    },
    {
     "name": "stderr",
     "output_type": "stream",
     "text": [
      "/home/yongming/workspace/research/apperception_new_local/apperception/optimization_playground/detection_estimation/utils.py:45: ShapelyDeprecationWarning: Iteration over multi-part geometries is deprecated and will be removed in Shapely 2.0. Use the `geoms` property to access the constituent parts of a multi-part geometry.\n",
      "  a, b = line.boundary\n"
     ]
    },
    {
     "name": "stdout",
     "output_type": "stream",
     "text": [
      "total mapping time:  0.6866118907928467\n",
      "mapping length 58\n",
      "Model: osnet_x0_25\n",
      "- params: 203,568\n",
      "- flops: 82,316,000\n",
      "Successfully loaded pretrained weights from \"osnet_x0_25_msmt17.pt\"\n",
      "** The following layers are discarded due to unmatched keys or layer size: ['classifier.weight', 'classifier.bias']\n",
      "all_detections []\n",
      "sorted_ego_config_length 237\n",
      "number of skipped 180\n",
      "[13, 41, 66, 81, 90, 105, 118, 143, 160, 168, 185, 199, 210, 224, 263, 278, 289, 303, 328, 342, 367, 384, 408, 421, 446, 477, 488, 502, 515, 527, 541, 557, 582, 596, 607, 636, 645, 660, 674, 685, 698, 713, 722, 737, 752, 883, 896, 912, 921, 937, 952, 962, 977, 990, 1002, 1015, 1032, 1042, 1057, 1071, 1082, 1096, 1121, 1137, 1150, 1161, 1174, 1189, 1198, 1214, 1229, 1239, 1253, 1266, 1277, 1290, 1306, 1315, 1331, 1370, 1386, 1395, 1411, 1425, 1435, 1474, 1487, 1502, 1514, 1527, 1542, 1551, 1582, 1591, 1607, 1620, 1631, 1644, 1658, 1684, 1698, 1709, 1723, 1738, 1763, 1778, 1789, 1803, 1818, 1829, 1859, 1868, 1884, 1898, 1909, 1924, 1937, 1962, 1978, 2002, 2017, 2041, 2056, 2066, 2081, 2095, 2105, 2136, 2143, 2159, 2172, 2184, 2197, 2212, 2237, 2252, 2261, 2277, 2292, 2302, 2332, 2342, 2357, 2371, 2382, 2396, 2421, 2436, 2506, 2522, 2531, 2547, 2560, 2572, 2602, 2610, 2627, 2641, 2652, 2666, 2680, 2691, 2706, 2721, 2730, 2745, 2759, 2770, 2785, 2801, 2810, 2839, 2851, 2864, 2878, 2887, 2903, 2917, 2929, 2941]\n",
      "{'car_exit_segment': 20, 'ego_exit_segment': 8, None: 27, 'meet_up': 1}\n",
      "total_run_time 68.98414993286133\n",
      "avg run time 1.2102482444361637\n",
      "total_detection_time 31.918983459472656\n",
      "avg detection time 0.5599821659556606\n",
      "total_generate_sample_plan_time 2.0482518672943115\n",
      "avg generate_sample_plan time 0.035934243285865114\n"
     ]
    }
   ],
   "source": [
    "test_video1 = 'CAM_FRONT/n008-2018-08-27'\n",
    "sorted_ego_configs1, ego_trajectory1 = prepare_ego(test_video1)\n",
    "dry_run(sorted_ego_configs1, 2, ego_trajectory1, test_video1)\n"
   ]
  },
  {
   "cell_type": "code",
   "execution_count": 23,
   "id": "c133465f",
   "metadata": {
    "scrolled": true
   },
   "outputs": [
    {
     "name": "stderr",
     "output_type": "stream",
     "text": [
      "/home/yongming/workspace/research/apperception_new_local/apperception/optimization_playground/detection_estimation/utils.py:45: ShapelyDeprecationWarning: Iteration over multi-part geometries is deprecated and will be removed in Shapely 2.0. Use the `geoms` property to access the constituent parts of a multi-part geometry.\n",
      "  a, b = line.boundary\n"
     ]
    },
    {
     "name": "stdout",
     "output_type": "stream",
     "text": [
      "total mapping time:  0.4129672050476074\n",
      "mapping length 60\n",
      "Model: osnet_x0_25\n",
      "- params: 203,568\n",
      "- flops: 82,316,000\n",
      "Successfully loaded pretrained weights from \"osnet_x0_25_msmt17.pt\"\n",
      "** The following layers are discarded due to unmatched keys or layer size: ['classifier.weight', 'classifier.bias']\n",
      "all_detections [obj_detection(id='car_1', car_loc3d=((615.4809011304164, 1637.3069001205674),), car_loc2d=(1036, 531), car_bbox3d=None, car_bbox2d=(999, 483, 1073, 531)), obj_detection(id='car_1', car_loc3d=((548.168727975707, 1674.931277335449),), car_loc2d=(827, 526), car_bbox3d=None, car_bbox2d=(802, 484, 852, 526)), obj_detection(id='car_1', car_loc3d=((548.168727975707, 1674.931277335449),), car_loc2d=(885, 528), car_bbox3d=None, car_bbox2d=(853, 480, 917, 528)), obj_detection(id='car_1', car_loc3d=((618.8886816744962, 1640.5713210085441),), car_loc2d=(599, 554), car_bbox3d=None, car_bbox2d=(586, 482, 612, 554)), obj_detection(id='car_1', car_loc3d=((618.8886816744962, 1640.5713210085441),), car_loc2d=(550, 550), car_bbox3d=None, car_bbox2d=(537, 488, 563, 550))]\n",
      "lane\n",
      "next frame name samples/CAM_FRONT/n008-2018-08-01-15-16-36-0400__CAM_FRONT__1533151604012404.jpg\n",
      "next frame num 82\n"
     ]
    },
    {
     "name": "stderr",
     "output_type": "stream",
     "text": [
      "/home/yongming/workspace/research/apperception_new_local/apperception/optimization_playground/detection_estimation/utils.py:45: ShapelyDeprecationWarning: Iteration over multi-part geometries is deprecated and will be removed in Shapely 2.0. Use the `geoms` property to access the constituent parts of a multi-part geometry.\n",
      "  a, b = line.boundary\n"
     ]
    },
    {
     "name": "stdout",
     "output_type": "stream",
     "text": [
      "total mapping time:  0.3781287670135498\n",
      "mapping length 58\n",
      "Model: osnet_x0_25\n",
      "- params: 203,568\n",
      "- flops: 82,316,000\n",
      "Successfully loaded pretrained weights from \"osnet_x0_25_msmt17.pt\"\n",
      "** The following layers are discarded due to unmatched keys or layer size: ['classifier.weight', 'classifier.bias']\n",
      "all_detections [obj_detection(id='car_1', car_loc3d=((619.4950977561506, 1639.892146379212),), car_loc2d=(540, 565), car_bbox3d=None, car_bbox2d=(527, 479, 553, 565)), obj_detection(id='car_1', car_loc3d=((548.168727975707, 1674.931277335449),), car_loc2d=(832, 539), car_bbox3d=None, car_bbox2d=(775, 479, 889, 539)), obj_detection(id='car_1', car_loc3d=((645.48790554265, 1618.5684959928494),), car_loc2d=(889, 496), car_bbox3d=None, car_bbox2d=(871, 472, 907, 496)), obj_detection(id='car_1', car_loc3d=((642.4554891057132, 1615.0472191851095),), car_loc2d=(962, 502), car_bbox3d=None, car_bbox2d=(944, 472, 980, 502))]\n",
      "lane\n",
      "next frame name samples/CAM_FRONT/n008-2018-08-01-15-16-36-0400__CAM_FRONT__1533151604512404.jpg\n",
      "next frame num 162\n"
     ]
    },
    {
     "name": "stderr",
     "output_type": "stream",
     "text": [
      "/home/yongming/workspace/research/apperception_new_local/apperception/optimization_playground/detection_estimation/utils.py:45: ShapelyDeprecationWarning: Iteration over multi-part geometries is deprecated and will be removed in Shapely 2.0. Use the `geoms` property to access the constituent parts of a multi-part geometry.\n",
      "  a, b = line.boundary\n"
     ]
    },
    {
     "name": "stdout",
     "output_type": "stream",
     "text": [
      "total mapping time:  0.36525559425354004\n",
      "mapping length 59\n",
      "Model: osnet_x0_25\n",
      "- params: 203,568\n",
      "- flops: 82,316,000\n",
      "Successfully loaded pretrained weights from \"osnet_x0_25_msmt17.pt\"\n",
      "** The following layers are discarded due to unmatched keys or layer size: ['classifier.weight', 'classifier.bias']\n",
      "all_detections [obj_detection(id='car_1', car_loc3d=((548.168727975707, 1674.931277335449),), car_loc2d=(775, 565), car_bbox3d=None, car_bbox2d=(724, 483, 826, 565)), obj_detection(id='car_1', car_loc3d=((642.4554891057132, 1615.0472191851095),), car_loc2d=(925, 511), car_bbox3d=None, car_bbox2d=(903, 475, 947, 511)), obj_detection(id='car_1', car_loc3d=((548.168727975707, 1674.931277335449),), car_loc2d=(851, 505), car_bbox3d=None, car_bbox2d=(835, 479, 867, 505)), obj_detection(id='car_1', car_loc3d=((548.168727975707, 1674.931277335449),), car_loc2d=(838, 509), car_bbox3d=None, car_bbox2d=(820, 479, 856, 509))]\n",
      "lane\n",
      "next frame name sweeps/CAM_FRONT/n008-2018-08-01-15-16-36-0400__CAM_FRONT__1533151605162404.jpg\n",
      "next frame num 265\n"
     ]
    },
    {
     "name": "stderr",
     "output_type": "stream",
     "text": [
      "/home/yongming/workspace/research/apperception_new_local/apperception/optimization_playground/detection_estimation/utils.py:45: ShapelyDeprecationWarning: Iteration over multi-part geometries is deprecated and will be removed in Shapely 2.0. Use the `geoms` property to access the constituent parts of a multi-part geometry.\n",
      "  a, b = line.boundary\n"
     ]
    },
    {
     "name": "stdout",
     "output_type": "stream",
     "text": [
      "total mapping time:  0.3536515235900879\n",
      "mapping length 48\n",
      "Model: osnet_x0_25\n",
      "- params: 203,568\n",
      "- flops: 82,316,000\n",
      "Successfully loaded pretrained weights from \"osnet_x0_25_msmt17.pt\"\n",
      "** The following layers are discarded due to unmatched keys or layer size: ['classifier.weight', 'classifier.bias']\n",
      "all_detections [obj_detection(id='car_1', car_loc3d=((548.168727975707, 1674.931277335449),), car_loc2d=(1004, 511), car_bbox3d=None, car_bbox2d=(972, 459, 1036, 511)), obj_detection(id='car_1', car_loc3d=((548.168727975707, 1674.931277335449),), car_loc2d=(870, 500), car_bbox3d=None, car_bbox2d=(843, 460, 897, 500)), obj_detection(id='car_1', car_loc3d=((548.168727975707, 1674.931277335449),), car_loc2d=(910, 470), car_bbox3d=None, car_bbox2d=(894, 442, 926, 470)), obj_detection(id='car_1', car_loc3d=((548.168727975707, 1674.931277335449),), car_loc2d=(804, 487), car_bbox3d=None, car_bbox2d=(783, 457, 825, 487)), obj_detection(id='car_1', car_loc3d=((548.168727975707, 1674.931277335449),), car_loc2d=(822, 480), car_bbox3d=None, car_bbox2d=(805, 454, 839, 480))]\n",
      "lane\n",
      "next frame name sweeps/CAM_FRONT/n008-2018-08-01-15-16-36-0400__CAM_FRONT__1533151606662404.jpg\n",
      "next frame num 503\n"
     ]
    },
    {
     "name": "stderr",
     "output_type": "stream",
     "text": [
      "/home/yongming/workspace/research/apperception_new_local/apperception/optimization_playground/detection_estimation/utils.py:45: ShapelyDeprecationWarning: Iteration over multi-part geometries is deprecated and will be removed in Shapely 2.0. Use the `geoms` property to access the constituent parts of a multi-part geometry.\n",
      "  a, b = line.boundary\n"
     ]
    },
    {
     "name": "stdout",
     "output_type": "stream",
     "text": [
      "total mapping time:  0.22083497047424316\n",
      "mapping length 33\n",
      "Model: osnet_x0_25\n",
      "- params: 203,568\n",
      "- flops: 82,316,000\n",
      "Successfully loaded pretrained weights from \"osnet_x0_25_msmt17.pt\"\n",
      "** The following layers are discarded due to unmatched keys or layer size: ['classifier.weight', 'classifier.bias']\n",
      "all_detections [obj_detection(id='car_1', car_loc3d=((642.4554891057132, 1615.0472191851095),), car_loc2d=(924, 488), car_bbox3d=None, car_bbox2d=(894, 438, 954, 488)), obj_detection(id='car_1', car_loc3d=((645.48790554265, 1618.5684959928494),), car_loc2d=(479, 546), car_bbox3d=None, car_bbox2d=(399, 460, 559, 546))]\n",
      "lane\n",
      "next frame name sweeps/CAM_FRONT/n008-2018-08-01-15-16-36-0400__CAM_FRONT__1533151607262404.jpg\n",
      "next frame num 596\n"
     ]
    },
    {
     "name": "stderr",
     "output_type": "stream",
     "text": [
      "/home/yongming/workspace/research/apperception_new_local/apperception/optimization_playground/detection_estimation/utils.py:45: ShapelyDeprecationWarning: Iteration over multi-part geometries is deprecated and will be removed in Shapely 2.0. Use the `geoms` property to access the constituent parts of a multi-part geometry.\n",
      "  a, b = line.boundary\n"
     ]
    },
    {
     "name": "stdout",
     "output_type": "stream",
     "text": [
      "total mapping time:  0.17551708221435547\n",
      "mapping length 36\n",
      "Model: osnet_x0_25\n",
      "- params: 203,568\n",
      "- flops: 82,316,000\n",
      "Successfully loaded pretrained weights from \"osnet_x0_25_msmt17.pt\"\n",
      "** The following layers are discarded due to unmatched keys or layer size: ['classifier.weight', 'classifier.bias']\n",
      "all_detections []\n",
      "total mapping time:  0.19234633445739746\n",
      "mapping length 35\n"
     ]
    },
    {
     "name": "stderr",
     "output_type": "stream",
     "text": [
      "/home/yongming/workspace/research/apperception_new_local/apperception/optimization_playground/detection_estimation/utils.py:45: ShapelyDeprecationWarning: Iteration over multi-part geometries is deprecated and will be removed in Shapely 2.0. Use the `geoms` property to access the constituent parts of a multi-part geometry.\n",
      "  a, b = line.boundary\n"
     ]
    },
    {
     "name": "stdout",
     "output_type": "stream",
     "text": [
      "Model: osnet_x0_25\n",
      "- params: 203,568\n",
      "- flops: 82,316,000\n",
      "Successfully loaded pretrained weights from \"osnet_x0_25_msmt17.pt\"\n",
      "** The following layers are discarded due to unmatched keys or layer size: ['classifier.weight', 'classifier.bias']\n",
      "all_detections []\n",
      "total mapping time:  0.19839048385620117\n",
      "mapping length 35\n"
     ]
    },
    {
     "name": "stderr",
     "output_type": "stream",
     "text": [
      "/home/yongming/workspace/research/apperception_new_local/apperception/optimization_playground/detection_estimation/utils.py:45: ShapelyDeprecationWarning: Iteration over multi-part geometries is deprecated and will be removed in Shapely 2.0. Use the `geoms` property to access the constituent parts of a multi-part geometry.\n",
      "  a, b = line.boundary\n"
     ]
    },
    {
     "name": "stdout",
     "output_type": "stream",
     "text": [
      "Model: osnet_x0_25\n",
      "- params: 203,568\n",
      "- flops: 82,316,000\n",
      "Successfully loaded pretrained weights from \"osnet_x0_25_msmt17.pt\"\n",
      "** The following layers are discarded due to unmatched keys or layer size: ['classifier.weight', 'classifier.bias']\n",
      "all_detections [obj_detection(id='car_1', car_loc3d=((645.7815955106389, 1618.2647024723365),), car_loc2d=(315, 608), car_bbox3d=None, car_bbox2d=(209, 490, 421, 608))]\n",
      "lane\n",
      "next frame name samples/CAM_FRONT/n008-2018-08-01-15-16-36-0400__CAM_FRONT__1533151608012404.jpg\n",
      "next frame num 714\n"
     ]
    },
    {
     "name": "stderr",
     "output_type": "stream",
     "text": [
      "/home/yongming/workspace/research/apperception_new_local/apperception/optimization_playground/detection_estimation/utils.py:45: ShapelyDeprecationWarning: Iteration over multi-part geometries is deprecated and will be removed in Shapely 2.0. Use the `geoms` property to access the constituent parts of a multi-part geometry.\n",
      "  a, b = line.boundary\n"
     ]
    },
    {
     "name": "stdout",
     "output_type": "stream",
     "text": [
      "total mapping time:  0.20242071151733398\n",
      "mapping length 35\n",
      "Model: osnet_x0_25\n",
      "- params: 203,568\n",
      "- flops: 82,316,000\n",
      "Successfully loaded pretrained weights from \"osnet_x0_25_msmt17.pt\"\n",
      "** The following layers are discarded due to unmatched keys or layer size: ['classifier.weight', 'classifier.bias']\n",
      "all_detections []\n",
      "total mapping time:  0.16537857055664062\n",
      "mapping length 35\n"
     ]
    },
    {
     "name": "stderr",
     "output_type": "stream",
     "text": [
      "/home/yongming/workspace/research/apperception_new_local/apperception/optimization_playground/detection_estimation/utils.py:45: ShapelyDeprecationWarning: Iteration over multi-part geometries is deprecated and will be removed in Shapely 2.0. Use the `geoms` property to access the constituent parts of a multi-part geometry.\n",
      "  a, b = line.boundary\n"
     ]
    },
    {
     "name": "stdout",
     "output_type": "stream",
     "text": [
      "Model: osnet_x0_25\n",
      "- params: 203,568\n",
      "- flops: 82,316,000\n",
      "Successfully loaded pretrained weights from \"osnet_x0_25_msmt17.pt\"\n",
      "** The following layers are discarded due to unmatched keys or layer size: ['classifier.weight', 'classifier.bias']\n",
      "all_detections []\n",
      "total mapping time:  0.18453311920166016\n",
      "mapping length 35\n"
     ]
    },
    {
     "name": "stderr",
     "output_type": "stream",
     "text": [
      "/home/yongming/workspace/research/apperception_new_local/apperception/optimization_playground/detection_estimation/utils.py:45: ShapelyDeprecationWarning: Iteration over multi-part geometries is deprecated and will be removed in Shapely 2.0. Use the `geoms` property to access the constituent parts of a multi-part geometry.\n",
      "  a, b = line.boundary\n"
     ]
    },
    {
     "name": "stdout",
     "output_type": "stream",
     "text": [
      "Model: osnet_x0_25\n",
      "- params: 203,568\n",
      "- flops: 82,316,000\n",
      "Successfully loaded pretrained weights from \"osnet_x0_25_msmt17.pt\"\n",
      "** The following layers are discarded due to unmatched keys or layer size: ['classifier.weight', 'classifier.bias']\n",
      "all_detections []\n",
      "total mapping time:  0.16639924049377441\n",
      "mapping length 35\n"
     ]
    },
    {
     "name": "stderr",
     "output_type": "stream",
     "text": [
      "/home/yongming/workspace/research/apperception_new_local/apperception/optimization_playground/detection_estimation/utils.py:45: ShapelyDeprecationWarning: Iteration over multi-part geometries is deprecated and will be removed in Shapely 2.0. Use the `geoms` property to access the constituent parts of a multi-part geometry.\n",
      "  a, b = line.boundary\n"
     ]
    },
    {
     "name": "stdout",
     "output_type": "stream",
     "text": [
      "Model: osnet_x0_25\n",
      "- params: 203,568\n",
      "- flops: 82,316,000\n",
      "Successfully loaded pretrained weights from \"osnet_x0_25_msmt17.pt\"\n",
      "** The following layers are discarded due to unmatched keys or layer size: ['classifier.weight', 'classifier.bias']\n",
      "all_detections []\n",
      "total mapping time:  0.1605980396270752\n",
      "mapping length 32\n"
     ]
    },
    {
     "name": "stderr",
     "output_type": "stream",
     "text": [
      "/home/yongming/workspace/research/apperception_new_local/apperception/optimization_playground/detection_estimation/utils.py:45: ShapelyDeprecationWarning: Iteration over multi-part geometries is deprecated and will be removed in Shapely 2.0. Use the `geoms` property to access the constituent parts of a multi-part geometry.\n",
      "  a, b = line.boundary\n"
     ]
    },
    {
     "name": "stdout",
     "output_type": "stream",
     "text": [
      "Model: osnet_x0_25\n",
      "- params: 203,568\n",
      "- flops: 82,316,000\n",
      "Successfully loaded pretrained weights from \"osnet_x0_25_msmt17.pt\"\n",
      "** The following layers are discarded due to unmatched keys or layer size: ['classifier.weight', 'classifier.bias']\n",
      "all_detections []\n",
      "total mapping time:  0.18601369857788086\n",
      "mapping length 32\n"
     ]
    },
    {
     "name": "stderr",
     "output_type": "stream",
     "text": [
      "/home/yongming/workspace/research/apperception_new_local/apperception/optimization_playground/detection_estimation/utils.py:45: ShapelyDeprecationWarning: Iteration over multi-part geometries is deprecated and will be removed in Shapely 2.0. Use the `geoms` property to access the constituent parts of a multi-part geometry.\n",
      "  a, b = line.boundary\n"
     ]
    },
    {
     "name": "stdout",
     "output_type": "stream",
     "text": [
      "Model: osnet_x0_25\n",
      "- params: 203,568\n",
      "- flops: 82,316,000\n",
      "Successfully loaded pretrained weights from \"osnet_x0_25_msmt17.pt\"\n",
      "** The following layers are discarded due to unmatched keys or layer size: ['classifier.weight', 'classifier.bias']\n",
      "all_detections []\n",
      "total mapping time:  0.17302346229553223\n",
      "mapping length 32\n"
     ]
    },
    {
     "name": "stderr",
     "output_type": "stream",
     "text": [
      "/home/yongming/workspace/research/apperception_new_local/apperception/optimization_playground/detection_estimation/utils.py:45: ShapelyDeprecationWarning: Iteration over multi-part geometries is deprecated and will be removed in Shapely 2.0. Use the `geoms` property to access the constituent parts of a multi-part geometry.\n",
      "  a, b = line.boundary\n"
     ]
    },
    {
     "name": "stdout",
     "output_type": "stream",
     "text": [
      "Model: osnet_x0_25\n",
      "- params: 203,568\n",
      "- flops: 82,316,000\n",
      "Successfully loaded pretrained weights from \"osnet_x0_25_msmt17.pt\"\n",
      "** The following layers are discarded due to unmatched keys or layer size: ['classifier.weight', 'classifier.bias']\n",
      "all_detections []\n"
     ]
    },
    {
     "name": "stderr",
     "output_type": "stream",
     "text": [
      "/home/yongming/workspace/research/apperception_new_local/apperception/optimization_playground/detection_estimation/utils.py:45: ShapelyDeprecationWarning: Iteration over multi-part geometries is deprecated and will be removed in Shapely 2.0. Use the `geoms` property to access the constituent parts of a multi-part geometry.\n",
      "  a, b = line.boundary\n"
     ]
    },
    {
     "name": "stdout",
     "output_type": "stream",
     "text": [
      "total mapping time:  0.21153926849365234\n",
      "mapping length 48\n",
      "Model: osnet_x0_25\n",
      "- params: 203,568\n",
      "- flops: 82,316,000\n",
      "Successfully loaded pretrained weights from \"osnet_x0_25_msmt17.pt\"\n",
      "** The following layers are discarded due to unmatched keys or layer size: ['classifier.weight', 'classifier.bias']\n",
      "all_detections [obj_detection(id='car_1', car_loc3d=((642.4554891057132, 1615.0472191851095),), car_loc2d=(890, 510), car_bbox3d=None, car_bbox2d=(862, 462, 918, 510))]\n",
      "lane\n",
      "next frame name sweeps/CAM_FRONT/n008-2018-08-01-15-16-36-0400__CAM_FRONT__1533151609262404.jpg\n",
      "next frame num 911\n"
     ]
    },
    {
     "name": "stderr",
     "output_type": "stream",
     "text": [
      "/home/yongming/workspace/research/apperception_new_local/apperception/optimization_playground/detection_estimation/utils.py:45: ShapelyDeprecationWarning: Iteration over multi-part geometries is deprecated and will be removed in Shapely 2.0. Use the `geoms` property to access the constituent parts of a multi-part geometry.\n",
      "  a, b = line.boundary\n"
     ]
    },
    {
     "name": "stdout",
     "output_type": "stream",
     "text": [
      "total mapping time:  0.22137069702148438\n",
      "mapping length 41\n",
      "Model: osnet_x0_25\n",
      "- params: 203,568\n",
      "- flops: 82,316,000\n",
      "Successfully loaded pretrained weights from \"osnet_x0_25_msmt17.pt\"\n",
      "** The following layers are discarded due to unmatched keys or layer size: ['classifier.weight', 'classifier.bias']\n",
      "all_detections [obj_detection(id='car_1', car_loc3d=((642.4554891057132, 1615.0472191851095),), car_loc2d=(888, 494), car_bbox3d=None, car_bbox2d=(860, 450, 916, 494))]\n",
      "lane\n",
      "next frame name samples/CAM_FRONT/n008-2018-08-01-15-16-36-0400__CAM_FRONT__1533151609912404.jpg\n",
      "next frame num 1014\n"
     ]
    },
    {
     "name": "stderr",
     "output_type": "stream",
     "text": [
      "/home/yongming/workspace/research/apperception_new_local/apperception/optimization_playground/detection_estimation/utils.py:45: ShapelyDeprecationWarning: Iteration over multi-part geometries is deprecated and will be removed in Shapely 2.0. Use the `geoms` property to access the constituent parts of a multi-part geometry.\n",
      "  a, b = line.boundary\n"
     ]
    },
    {
     "name": "stdout",
     "output_type": "stream",
     "text": [
      "total mapping time:  0.3549020290374756\n",
      "mapping length 41\n",
      "Model: osnet_x0_25\n",
      "- params: 203,568\n",
      "- flops: 82,316,000\n",
      "Successfully loaded pretrained weights from \"osnet_x0_25_msmt17.pt\"\n",
      "** The following layers are discarded due to unmatched keys or layer size: ['classifier.weight', 'classifier.bias']\n",
      "all_detections [obj_detection(id='car_1', car_loc3d=((642.4554891057132, 1615.0472191851095),), car_loc2d=(887, 495), car_bbox3d=None, car_bbox2d=(860, 451, 914, 495))]\n",
      "lane\n",
      "next frame name sweeps/CAM_FRONT/n008-2018-08-01-15-16-36-0400__CAM_FRONT__1533151610612404.jpg\n",
      "next frame num 1122\n"
     ]
    },
    {
     "name": "stderr",
     "output_type": "stream",
     "text": [
      "/home/yongming/workspace/research/apperception_new_local/apperception/optimization_playground/detection_estimation/utils.py:45: ShapelyDeprecationWarning: Iteration over multi-part geometries is deprecated and will be removed in Shapely 2.0. Use the `geoms` property to access the constituent parts of a multi-part geometry.\n",
      "  a, b = line.boundary\n"
     ]
    },
    {
     "name": "stdout",
     "output_type": "stream",
     "text": [
      "total mapping time:  0.25465965270996094\n",
      "mapping length 39\n",
      "Model: osnet_x0_25\n",
      "- params: 203,568\n",
      "- flops: 82,316,000\n",
      "Successfully loaded pretrained weights from \"osnet_x0_25_msmt17.pt\"\n",
      "** The following layers are discarded due to unmatched keys or layer size: ['classifier.weight', 'classifier.bias']\n",
      "all_detections [obj_detection(id='car_1', car_loc3d=((642.4554891057132, 1615.0472191851095),), car_loc2d=(884, 491), car_bbox3d=None, car_bbox2d=(861, 451, 907, 491))]\n",
      "lane\n",
      "next frame name sweeps/CAM_FRONT/n008-2018-08-01-15-16-36-0400__CAM_FRONT__1533151611262404.jpg\n",
      "next frame num 1225\n"
     ]
    },
    {
     "name": "stderr",
     "output_type": "stream",
     "text": [
      "/home/yongming/workspace/research/apperception_new_local/apperception/optimization_playground/detection_estimation/utils.py:45: ShapelyDeprecationWarning: Iteration over multi-part geometries is deprecated and will be removed in Shapely 2.0. Use the `geoms` property to access the constituent parts of a multi-part geometry.\n",
      "  a, b = line.boundary\n"
     ]
    },
    {
     "name": "stdout",
     "output_type": "stream",
     "text": [
      "total mapping time:  0.2685966491699219\n",
      "mapping length 39\n",
      "Model: osnet_x0_25\n",
      "- params: 203,568\n",
      "- flops: 82,316,000\n",
      "Successfully loaded pretrained weights from \"osnet_x0_25_msmt17.pt\"\n",
      "** The following layers are discarded due to unmatched keys or layer size: ['classifier.weight', 'classifier.bias']\n",
      "all_detections [obj_detection(id='car_1', car_loc3d=((642.4554891057132, 1615.0472191851095),), car_loc2d=(883, 496), car_bbox3d=None, car_bbox2d=(862, 458, 904, 496))]\n",
      "lane\n",
      "next frame name sweeps/CAM_FRONT/n008-2018-08-01-15-16-36-0400__CAM_FRONT__1533151611912404.jpg\n",
      "next frame num 1331\n"
     ]
    },
    {
     "name": "stderr",
     "output_type": "stream",
     "text": [
      "/home/yongming/workspace/research/apperception_new_local/apperception/optimization_playground/detection_estimation/utils.py:45: ShapelyDeprecationWarning: Iteration over multi-part geometries is deprecated and will be removed in Shapely 2.0. Use the `geoms` property to access the constituent parts of a multi-part geometry.\n",
      "  a, b = line.boundary\n"
     ]
    },
    {
     "name": "stdout",
     "output_type": "stream",
     "text": [
      "total mapping time:  0.24779582023620605\n",
      "mapping length 39\n",
      "Model: osnet_x0_25\n",
      "- params: 203,568\n",
      "- flops: 82,316,000\n",
      "Successfully loaded pretrained weights from \"osnet_x0_25_msmt17.pt\"\n",
      "** The following layers are discarded due to unmatched keys or layer size: ['classifier.weight', 'classifier.bias']\n",
      "all_detections [obj_detection(id='car_1', car_loc3d=((642.4554891057132, 1615.0472191851095),), car_loc2d=(1435, 757), car_bbox3d=None, car_bbox2d=(1274, 481, 1596, 757)), obj_detection(id='car_1', car_loc3d=((642.4554891057132, 1615.0472191851095),), car_loc2d=(879, 499), car_bbox3d=None, car_bbox2d=(859, 467, 899, 499))]\n",
      "lane\n",
      "next frame name sweeps/CAM_FRONT/n008-2018-08-01-15-16-36-0400__CAM_FRONT__1533151612612404.jpg\n",
      "next frame num 1437\n"
     ]
    },
    {
     "name": "stderr",
     "output_type": "stream",
     "text": [
      "/home/yongming/workspace/research/apperception_new_local/apperception/optimization_playground/detection_estimation/utils.py:45: ShapelyDeprecationWarning: Iteration over multi-part geometries is deprecated and will be removed in Shapely 2.0. Use the `geoms` property to access the constituent parts of a multi-part geometry.\n",
      "  a, b = line.boundary\n"
     ]
    },
    {
     "name": "stdout",
     "output_type": "stream",
     "text": [
      "total mapping time:  0.24138188362121582\n",
      "mapping length 39\n",
      "Model: osnet_x0_25\n",
      "- params: 203,568\n",
      "- flops: 82,316,000\n",
      "Successfully loaded pretrained weights from \"osnet_x0_25_msmt17.pt\"\n",
      "** The following layers are discarded due to unmatched keys or layer size: ['classifier.weight', 'classifier.bias']\n",
      "all_detections [obj_detection(id='car_1', car_loc3d=((642.4554891057132, 1615.0472191851095),), car_loc2d=(764, 631), car_bbox3d=None, car_bbox2d=(602, 461, 926, 631)), obj_detection(id='car_1', car_loc3d=((642.4554891057132, 1615.0472191851095),), car_loc2d=(1460, 782), car_bbox3d=None, car_bbox2d=(1322, 484, 1598, 782)), obj_detection(id='car_1', car_loc3d=((642.4554891057132, 1615.0472191851095),), car_loc2d=(876, 497), car_bbox3d=None, car_bbox2d=(856, 467, 896, 497))]\n",
      "lane\n",
      "next frame name sweeps/CAM_FRONT/n008-2018-08-01-15-16-36-0400__CAM_FRONT__1533151613262404.jpg\n",
      "next frame num 1543\n"
     ]
    },
    {
     "name": "stderr",
     "output_type": "stream",
     "text": [
      "/home/yongming/workspace/research/apperception_new_local/apperception/optimization_playground/detection_estimation/utils.py:45: ShapelyDeprecationWarning: Iteration over multi-part geometries is deprecated and will be removed in Shapely 2.0. Use the `geoms` property to access the constituent parts of a multi-part geometry.\n",
      "  a, b = line.boundary\n"
     ]
    },
    {
     "name": "stdout",
     "output_type": "stream",
     "text": [
      "total mapping time:  0.24245142936706543\n",
      "mapping length 39\n",
      "Model: osnet_x0_25\n",
      "- params: 203,568\n",
      "- flops: 82,316,000\n",
      "Successfully loaded pretrained weights from \"osnet_x0_25_msmt17.pt\"\n",
      "** The following layers are discarded due to unmatched keys or layer size: ['classifier.weight', 'classifier.bias']\n",
      "all_detections [obj_detection(id='car_1', car_loc3d=((642.4554891057132, 1615.0472191851095),), car_loc2d=(858, 608), car_bbox3d=None, car_bbox2d=(753, 460, 963, 608)), obj_detection(id='car_1', car_loc3d=((736.4570932870629, 1564.663622038146),), car_loc2d=(719, 508), car_bbox3d=None, car_bbox2d=(696, 468, 742, 508))]\n",
      "lane\n",
      "next frame name samples/CAM_FRONT/n008-2018-08-01-15-16-36-0400__CAM_FRONT__1533151613912404.jpg\n",
      "next frame num 1646\n"
     ]
    },
    {
     "name": "stderr",
     "output_type": "stream",
     "text": [
      "/home/yongming/workspace/research/apperception_new_local/apperception/optimization_playground/detection_estimation/utils.py:45: ShapelyDeprecationWarning: Iteration over multi-part geometries is deprecated and will be removed in Shapely 2.0. Use the `geoms` property to access the constituent parts of a multi-part geometry.\n",
      "  a, b = line.boundary\n",
      "/home/yongming/workspace/research/apperception_new_local/apperception/optimization_playground/detection_estimation/utils.py:85: ShapelyDeprecationWarning: Iteration over multi-part geometries is deprecated and will be removed in Shapely 2.0. Use the `geoms` property to access the constituent parts of a multi-part geometry.\n",
      "  for intersect in intersection:\n"
     ]
    },
    {
     "name": "stdout",
     "output_type": "stream",
     "text": [
      "total mapping time:  0.1995551586151123\n",
      "mapping length 39\n",
      "Model: osnet_x0_25\n",
      "- params: 203,568\n",
      "- flops: 82,316,000\n",
      "Successfully loaded pretrained weights from \"osnet_x0_25_msmt17.pt\"\n",
      "** The following layers are discarded due to unmatched keys or layer size: ['classifier.weight', 'classifier.bias']\n",
      "all_detections [obj_detection(id='car_1', car_loc3d=((642.4554891057132, 1615.0472191851095),), car_loc2d=(908, 586), car_bbox3d=None, car_bbox2d=(832, 458, 984, 586))]\n",
      "lane\n",
      "next frame name sweeps/CAM_FRONT/n008-2018-08-01-15-16-36-0400__CAM_FRONT__1533151614612404.jpg\n",
      "next frame num 1752\n"
     ]
    },
    {
     "name": "stderr",
     "output_type": "stream",
     "text": [
      "/home/yongming/workspace/research/apperception_new_local/apperception/optimization_playground/detection_estimation/utils.py:45: ShapelyDeprecationWarning: Iteration over multi-part geometries is deprecated and will be removed in Shapely 2.0. Use the `geoms` property to access the constituent parts of a multi-part geometry.\n",
      "  a, b = line.boundary\n"
     ]
    },
    {
     "name": "stdout",
     "output_type": "stream",
     "text": [
      "total mapping time:  0.26476311683654785\n",
      "mapping length 40\n",
      "Model: osnet_x0_25\n",
      "- params: 203,568\n",
      "- flops: 82,316,000\n",
      "Successfully loaded pretrained weights from \"osnet_x0_25_msmt17.pt\"\n",
      "** The following layers are discarded due to unmatched keys or layer size: ['classifier.weight', 'classifier.bias']\n",
      "all_detections [obj_detection(id='car_1', car_loc3d=((736.4570932870629, 1564.663622038146),), car_loc2d=(716, 513), car_bbox3d=None, car_bbox2d=(692, 471, 740, 513))]\n",
      "lane\n"
     ]
    },
    {
     "name": "stderr",
     "output_type": "stream",
     "text": [
      "/home/yongming/workspace/research/apperception_new_local/apperception/optimization_playground/detection_estimation/utils.py:45: ShapelyDeprecationWarning: Iteration over multi-part geometries is deprecated and will be removed in Shapely 2.0. Use the `geoms` property to access the constituent parts of a multi-part geometry.\n",
      "  a, b = line.boundary\n",
      "/home/yongming/workspace/research/apperception_new_local/apperception/optimization_playground/detection_estimation/utils.py:85: ShapelyDeprecationWarning: Iteration over multi-part geometries is deprecated and will be removed in Shapely 2.0. Use the `geoms` property to access the constituent parts of a multi-part geometry.\n",
      "  for intersect in intersection:\n"
     ]
    },
    {
     "name": "stdout",
     "output_type": "stream",
     "text": [
      "total mapping time:  0.1946423053741455\n",
      "mapping length 40\n",
      "Model: osnet_x0_25\n",
      "- params: 203,568\n",
      "- flops: 82,316,000\n",
      "Successfully loaded pretrained weights from \"osnet_x0_25_msmt17.pt\"\n",
      "** The following layers are discarded due to unmatched keys or layer size: ['classifier.weight', 'classifier.bias']\n",
      "all_detections []\n"
     ]
    },
    {
     "name": "stderr",
     "output_type": "stream",
     "text": [
      "/home/yongming/workspace/research/apperception_new_local/apperception/optimization_playground/detection_estimation/utils.py:45: ShapelyDeprecationWarning: Iteration over multi-part geometries is deprecated and will be removed in Shapely 2.0. Use the `geoms` property to access the constituent parts of a multi-part geometry.\n",
      "  a, b = line.boundary\n",
      "/home/yongming/workspace/research/apperception_new_local/apperception/optimization_playground/detection_estimation/utils.py:85: ShapelyDeprecationWarning: Iteration over multi-part geometries is deprecated and will be removed in Shapely 2.0. Use the `geoms` property to access the constituent parts of a multi-part geometry.\n",
      "  for intersect in intersection:\n"
     ]
    },
    {
     "name": "stdout",
     "output_type": "stream",
     "text": [
      "total mapping time:  0.24986767768859863\n",
      "mapping length 40\n",
      "Model: osnet_x0_25\n",
      "- params: 203,568\n",
      "- flops: 82,316,000\n",
      "Successfully loaded pretrained weights from \"osnet_x0_25_msmt17.pt\"\n",
      "** The following layers are discarded due to unmatched keys or layer size: ['classifier.weight', 'classifier.bias']\n",
      "all_detections []\n"
     ]
    },
    {
     "name": "stderr",
     "output_type": "stream",
     "text": [
      "/home/yongming/workspace/research/apperception_new_local/apperception/optimization_playground/detection_estimation/utils.py:45: ShapelyDeprecationWarning: Iteration over multi-part geometries is deprecated and will be removed in Shapely 2.0. Use the `geoms` property to access the constituent parts of a multi-part geometry.\n",
      "  a, b = line.boundary\n",
      "/home/yongming/workspace/research/apperception_new_local/apperception/optimization_playground/detection_estimation/utils.py:85: ShapelyDeprecationWarning: Iteration over multi-part geometries is deprecated and will be removed in Shapely 2.0. Use the `geoms` property to access the constituent parts of a multi-part geometry.\n",
      "  for intersect in intersection:\n"
     ]
    },
    {
     "name": "stdout",
     "output_type": "stream",
     "text": [
      "total mapping time:  0.22597336769104004\n",
      "mapping length 40\n",
      "Model: osnet_x0_25\n",
      "- params: 203,568\n",
      "- flops: 82,316,000\n",
      "Successfully loaded pretrained weights from \"osnet_x0_25_msmt17.pt\"\n",
      "** The following layers are discarded due to unmatched keys or layer size: ['classifier.weight', 'classifier.bias']\n",
      "all_detections []\n"
     ]
    },
    {
     "name": "stderr",
     "output_type": "stream",
     "text": [
      "/home/yongming/workspace/research/apperception_new_local/apperception/optimization_playground/detection_estimation/utils.py:45: ShapelyDeprecationWarning: Iteration over multi-part geometries is deprecated and will be removed in Shapely 2.0. Use the `geoms` property to access the constituent parts of a multi-part geometry.\n",
      "  a, b = line.boundary\n",
      "/home/yongming/workspace/research/apperception_new_local/apperception/optimization_playground/detection_estimation/utils.py:85: ShapelyDeprecationWarning: Iteration over multi-part geometries is deprecated and will be removed in Shapely 2.0. Use the `geoms` property to access the constituent parts of a multi-part geometry.\n",
      "  for intersect in intersection:\n"
     ]
    },
    {
     "name": "stdout",
     "output_type": "stream",
     "text": [
      "total mapping time:  0.26027512550354004\n",
      "mapping length 40\n",
      "Model: osnet_x0_25\n",
      "- params: 203,568\n",
      "- flops: 82,316,000\n",
      "Successfully loaded pretrained weights from \"osnet_x0_25_msmt17.pt\"\n",
      "** The following layers are discarded due to unmatched keys or layer size: ['classifier.weight', 'classifier.bias']\n",
      "all_detections [obj_detection(id='car_1', car_loc3d=((736.4570932870629, 1564.663622038146),), car_loc2d=(715, 513), car_bbox3d=None, car_bbox2d=(692, 471, 738, 513))]\n",
      "lane\n"
     ]
    },
    {
     "name": "stderr",
     "output_type": "stream",
     "text": [
      "/home/yongming/workspace/research/apperception_new_local/apperception/optimization_playground/detection_estimation/utils.py:45: ShapelyDeprecationWarning: Iteration over multi-part geometries is deprecated and will be removed in Shapely 2.0. Use the `geoms` property to access the constituent parts of a multi-part geometry.\n",
      "  a, b = line.boundary\n",
      "/home/yongming/workspace/research/apperception_new_local/apperception/optimization_playground/detection_estimation/utils.py:85: ShapelyDeprecationWarning: Iteration over multi-part geometries is deprecated and will be removed in Shapely 2.0. Use the `geoms` property to access the constituent parts of a multi-part geometry.\n",
      "  for intersect in intersection:\n"
     ]
    },
    {
     "name": "stdout",
     "output_type": "stream",
     "text": [
      "total mapping time:  0.26091504096984863\n",
      "mapping length 40\n",
      "Model: osnet_x0_25\n",
      "- params: 203,568\n",
      "- flops: 82,316,000\n",
      "Successfully loaded pretrained weights from \"osnet_x0_25_msmt17.pt\"\n",
      "** The following layers are discarded due to unmatched keys or layer size: ['classifier.weight', 'classifier.bias']\n",
      "all_detections [obj_detection(id='car_1', car_loc3d=((736.4570932870629, 1564.663622038146),), car_loc2d=(713, 513), car_bbox3d=None, car_bbox2d=(690, 471, 736, 513))]\n",
      "lane\n"
     ]
    },
    {
     "name": "stderr",
     "output_type": "stream",
     "text": [
      "/home/yongming/workspace/research/apperception_new_local/apperception/optimization_playground/detection_estimation/utils.py:45: ShapelyDeprecationWarning: Iteration over multi-part geometries is deprecated and will be removed in Shapely 2.0. Use the `geoms` property to access the constituent parts of a multi-part geometry.\n",
      "  a, b = line.boundary\n",
      "/home/yongming/workspace/research/apperception_new_local/apperception/optimization_playground/detection_estimation/utils.py:85: ShapelyDeprecationWarning: Iteration over multi-part geometries is deprecated and will be removed in Shapely 2.0. Use the `geoms` property to access the constituent parts of a multi-part geometry.\n",
      "  for intersect in intersection:\n"
     ]
    },
    {
     "name": "stdout",
     "output_type": "stream",
     "text": [
      "total mapping time:  0.2595832347869873\n",
      "mapping length 40\n",
      "Model: osnet_x0_25\n",
      "- params: 203,568\n",
      "- flops: 82,316,000\n",
      "Successfully loaded pretrained weights from \"osnet_x0_25_msmt17.pt\"\n",
      "** The following layers are discarded due to unmatched keys or layer size: ['classifier.weight', 'classifier.bias']\n",
      "all_detections [obj_detection(id='car_1', car_loc3d=((736.4570932870629, 1564.663622038146),), car_loc2d=(714, 513), car_bbox3d=None, car_bbox2d=(690, 473, 738, 513))]\n",
      "lane\n"
     ]
    },
    {
     "name": "stderr",
     "output_type": "stream",
     "text": [
      "/home/yongming/workspace/research/apperception_new_local/apperception/optimization_playground/detection_estimation/utils.py:45: ShapelyDeprecationWarning: Iteration over multi-part geometries is deprecated and will be removed in Shapely 2.0. Use the `geoms` property to access the constituent parts of a multi-part geometry.\n",
      "  a, b = line.boundary\n",
      "/home/yongming/workspace/research/apperception_new_local/apperception/optimization_playground/detection_estimation/utils.py:85: ShapelyDeprecationWarning: Iteration over multi-part geometries is deprecated and will be removed in Shapely 2.0. Use the `geoms` property to access the constituent parts of a multi-part geometry.\n",
      "  for intersect in intersection:\n"
     ]
    },
    {
     "name": "stdout",
     "output_type": "stream",
     "text": [
      "total mapping time:  0.23244047164916992\n",
      "mapping length 40\n",
      "Model: osnet_x0_25\n",
      "- params: 203,568\n",
      "- flops: 82,316,000\n",
      "Successfully loaded pretrained weights from \"osnet_x0_25_msmt17.pt\"\n",
      "** The following layers are discarded due to unmatched keys or layer size: ['classifier.weight', 'classifier.bias']\n",
      "all_detections []\n"
     ]
    },
    {
     "name": "stderr",
     "output_type": "stream",
     "text": [
      "/home/yongming/workspace/research/apperception_new_local/apperception/optimization_playground/detection_estimation/utils.py:45: ShapelyDeprecationWarning: Iteration over multi-part geometries is deprecated and will be removed in Shapely 2.0. Use the `geoms` property to access the constituent parts of a multi-part geometry.\n",
      "  a, b = line.boundary\n",
      "/home/yongming/workspace/research/apperception_new_local/apperception/optimization_playground/detection_estimation/utils.py:85: ShapelyDeprecationWarning: Iteration over multi-part geometries is deprecated and will be removed in Shapely 2.0. Use the `geoms` property to access the constituent parts of a multi-part geometry.\n",
      "  for intersect in intersection:\n"
     ]
    },
    {
     "name": "stdout",
     "output_type": "stream",
     "text": [
      "total mapping time:  0.24914789199829102\n",
      "mapping length 40\n",
      "Model: osnet_x0_25\n",
      "- params: 203,568\n",
      "- flops: 82,316,000\n",
      "Successfully loaded pretrained weights from \"osnet_x0_25_msmt17.pt\"\n",
      "** The following layers are discarded due to unmatched keys or layer size: ['classifier.weight', 'classifier.bias']\n",
      "all_detections []\n",
      "total mapping time:  0.20069265365600586\n"
     ]
    },
    {
     "name": "stderr",
     "output_type": "stream",
     "text": [
      "/home/yongming/workspace/research/apperception_new_local/apperception/optimization_playground/detection_estimation/utils.py:45: ShapelyDeprecationWarning: Iteration over multi-part geometries is deprecated and will be removed in Shapely 2.0. Use the `geoms` property to access the constituent parts of a multi-part geometry.\n",
      "  a, b = line.boundary\n",
      "/home/yongming/workspace/research/apperception_new_local/apperception/optimization_playground/detection_estimation/utils.py:85: ShapelyDeprecationWarning: Iteration over multi-part geometries is deprecated and will be removed in Shapely 2.0. Use the `geoms` property to access the constituent parts of a multi-part geometry.\n",
      "  for intersect in intersection:\n"
     ]
    },
    {
     "name": "stdout",
     "output_type": "stream",
     "text": [
      "mapping length 40\n",
      "Model: osnet_x0_25\n",
      "- params: 203,568\n",
      "- flops: 82,316,000\n",
      "Successfully loaded pretrained weights from \"osnet_x0_25_msmt17.pt\"\n",
      "** The following layers are discarded due to unmatched keys or layer size: ['classifier.weight', 'classifier.bias']\n",
      "all_detections [obj_detection(id='car_1', car_loc3d=((736.4570932870629, 1564.663622038146),), car_loc2d=(711, 515), car_bbox3d=None, car_bbox2d=(688, 473, 734, 515))]\n",
      "lane\n"
     ]
    },
    {
     "name": "stderr",
     "output_type": "stream",
     "text": [
      "/home/yongming/workspace/research/apperception_new_local/apperception/optimization_playground/detection_estimation/utils.py:45: ShapelyDeprecationWarning: Iteration over multi-part geometries is deprecated and will be removed in Shapely 2.0. Use the `geoms` property to access the constituent parts of a multi-part geometry.\n",
      "  a, b = line.boundary\n",
      "/home/yongming/workspace/research/apperception_new_local/apperception/optimization_playground/detection_estimation/utils.py:85: ShapelyDeprecationWarning: Iteration over multi-part geometries is deprecated and will be removed in Shapely 2.0. Use the `geoms` property to access the constituent parts of a multi-part geometry.\n",
      "  for intersect in intersection:\n"
     ]
    },
    {
     "name": "stdout",
     "output_type": "stream",
     "text": [
      "total mapping time:  0.25981664657592773\n",
      "mapping length 40\n",
      "Model: osnet_x0_25\n",
      "- params: 203,568\n",
      "- flops: 82,316,000\n",
      "Successfully loaded pretrained weights from \"osnet_x0_25_msmt17.pt\"\n",
      "** The following layers are discarded due to unmatched keys or layer size: ['classifier.weight', 'classifier.bias']\n",
      "all_detections [obj_detection(id='car_1', car_loc3d=((687.5019146385094, 1576.3385317678726),), car_loc2d=(946, 552), car_bbox3d=None, car_bbox2d=(894, 466, 998, 552))]\n",
      "lane\n",
      "next frame name samples/CAM_FRONT/n008-2018-08-01-15-16-36-0400__CAM_FRONT__1533151616412404.jpg\n",
      "next frame num 2040\n"
     ]
    },
    {
     "name": "stderr",
     "output_type": "stream",
     "text": [
      "/home/yongming/workspace/research/apperception_new_local/apperception/optimization_playground/detection_estimation/utils.py:45: ShapelyDeprecationWarning: Iteration over multi-part geometries is deprecated and will be removed in Shapely 2.0. Use the `geoms` property to access the constituent parts of a multi-part geometry.\n",
      "  a, b = line.boundary\n"
     ]
    },
    {
     "name": "stdout",
     "output_type": "stream",
     "text": [
      "total mapping time:  0.2560694217681885\n",
      "mapping length 39\n",
      "Model: osnet_x0_25\n",
      "- params: 203,568\n",
      "- flops: 82,316,000\n",
      "Successfully loaded pretrained weights from \"osnet_x0_25_msmt17.pt\"\n",
      "** The following layers are discarded due to unmatched keys or layer size: ['classifier.weight', 'classifier.bias']\n",
      "all_detections [obj_detection(id='car_1', car_loc3d=((687.5019146385094, 1576.3385317678726),), car_loc2d=(935, 544), car_bbox3d=None, car_bbox2d=(893, 474, 977, 544))]\n",
      "lane\n",
      "next frame name sweeps/CAM_FRONT/n008-2018-08-01-15-16-36-0400__CAM_FRONT__1533151617512404.jpg\n",
      "next frame num 2210\n"
     ]
    },
    {
     "name": "stderr",
     "output_type": "stream",
     "text": [
      "/home/yongming/workspace/research/apperception_new_local/apperception/optimization_playground/detection_estimation/utils.py:45: ShapelyDeprecationWarning: Iteration over multi-part geometries is deprecated and will be removed in Shapely 2.0. Use the `geoms` property to access the constituent parts of a multi-part geometry.\n",
      "  a, b = line.boundary\n",
      "/home/yongming/workspace/research/apperception_new_local/apperception/optimization_playground/detection_estimation/utils.py:85: ShapelyDeprecationWarning: Iteration over multi-part geometries is deprecated and will be removed in Shapely 2.0. Use the `geoms` property to access the constituent parts of a multi-part geometry.\n",
      "  for intersect in intersection:\n"
     ]
    },
    {
     "name": "stdout",
     "output_type": "stream",
     "text": [
      "total mapping time:  0.23214268684387207\n",
      "mapping length 32\n",
      "Model: osnet_x0_25\n",
      "- params: 203,568\n",
      "- flops: 82,316,000\n",
      "Successfully loaded pretrained weights from \"osnet_x0_25_msmt17.pt\"\n",
      "** The following layers are discarded due to unmatched keys or layer size: ['classifier.weight', 'classifier.bias']\n",
      "all_detections [obj_detection(id='car_1', car_loc3d=((687.5019146385094, 1576.3385317678726),), car_loc2d=(912, 546), car_bbox3d=None, car_bbox2d=(874, 488, 950, 546))]\n",
      "lane\n",
      "next frame name sweeps/CAM_FRONT/n008-2018-08-01-15-16-36-0400__CAM_FRONT__1533151618512404.jpg\n",
      "next frame num 2366\n"
     ]
    },
    {
     "name": "stderr",
     "output_type": "stream",
     "text": [
      "/home/yongming/workspace/research/apperception_new_local/apperception/optimization_playground/detection_estimation/utils.py:45: ShapelyDeprecationWarning: Iteration over multi-part geometries is deprecated and will be removed in Shapely 2.0. Use the `geoms` property to access the constituent parts of a multi-part geometry.\n",
      "  a, b = line.boundary\n"
     ]
    },
    {
     "name": "stdout",
     "output_type": "stream",
     "text": [
      "total mapping time:  0.2241225242614746\n",
      "mapping length 37\n",
      "Model: osnet_x0_25\n",
      "- params: 203,568\n",
      "- flops: 82,316,000\n",
      "Successfully loaded pretrained weights from \"osnet_x0_25_msmt17.pt\"\n",
      "** The following layers are discarded due to unmatched keys or layer size: ['classifier.weight', 'classifier.bias']\n",
      "all_detections [obj_detection(id='car_1', car_loc3d=((712.0948640676032, 1554.7660721968286),), car_loc2d=(897, 533), car_bbox3d=None, car_bbox2d=(864, 483, 930, 533))]\n",
      "lane\n",
      "next frame name sweeps/CAM_FRONT/n008-2018-08-01-15-16-36-0400__CAM_FRONT__1533151619162404.jpg\n",
      "next frame num 2469\n"
     ]
    },
    {
     "name": "stderr",
     "output_type": "stream",
     "text": [
      "/home/yongming/workspace/research/apperception_new_local/apperception/optimization_playground/detection_estimation/utils.py:45: ShapelyDeprecationWarning: Iteration over multi-part geometries is deprecated and will be removed in Shapely 2.0. Use the `geoms` property to access the constituent parts of a multi-part geometry.\n",
      "  a, b = line.boundary\n"
     ]
    },
    {
     "name": "stdout",
     "output_type": "stream",
     "text": [
      "total mapping time:  0.1921672821044922\n",
      "mapping length 36\n",
      "Model: osnet_x0_25\n",
      "- params: 203,568\n",
      "- flops: 82,316,000\n",
      "Successfully loaded pretrained weights from \"osnet_x0_25_msmt17.pt\"\n",
      "** The following layers are discarded due to unmatched keys or layer size: ['classifier.weight', 'classifier.bias']\n",
      "all_detections [obj_detection(id='car_1', car_loc3d=((712.0948640676032, 1554.7660721968286),), car_loc2d=(890, 532), car_bbox3d=None, car_bbox2d=(858, 482, 922, 532)), obj_detection(id='car_1', car_loc3d=((692.0359155683578, 1578.1208580935452),), car_loc2d=(447, 606), car_bbox3d=None, car_bbox2d=(425, 542, 469, 606))]\n",
      "lane\n",
      "next frame name sweeps/CAM_FRONT/n008-2018-08-01-15-16-36-0400__CAM_FRONT__1533151619362404.jpg\n",
      "next frame num 2500\n"
     ]
    },
    {
     "name": "stderr",
     "output_type": "stream",
     "text": [
      "/home/yongming/workspace/research/apperception_new_local/apperception/optimization_playground/detection_estimation/utils.py:45: ShapelyDeprecationWarning: Iteration over multi-part geometries is deprecated and will be removed in Shapely 2.0. Use the `geoms` property to access the constituent parts of a multi-part geometry.\n",
      "  a, b = line.boundary\n"
     ]
    },
    {
     "name": "stdout",
     "output_type": "stream",
     "text": [
      "total mapping time:  0.18963003158569336\n",
      "mapping length 32\n",
      "Model: osnet_x0_25\n",
      "- params: 203,568\n",
      "- flops: 82,316,000\n",
      "Successfully loaded pretrained weights from \"osnet_x0_25_msmt17.pt\"\n",
      "** The following layers are discarded due to unmatched keys or layer size: ['classifier.weight', 'classifier.bias']\n",
      "all_detections [obj_detection(id='car_1', car_loc3d=((749.0654936630655, 1529.1136572934306),), car_loc2d=(751, 522), car_bbox3d=None, car_bbox2d=(727, 482, 775, 522)), obj_detection(id='car_1', car_loc3d=((712.0948640676032, 1554.7660721968286),), car_loc2d=(887, 529), car_bbox3d=None, car_bbox2d=(855, 477, 919, 529)), obj_detection(id='car_1', car_loc3d=((692.0359155683578, 1578.1208580935452),), car_loc2d=(380, 626), car_bbox3d=None, car_bbox2d=(349, 538, 411, 626))]\n",
      "lane\n",
      "next frame name sweeps/CAM_FRONT/n008-2018-08-01-15-16-36-0400__CAM_FRONT__1533151620012404.jpg\n",
      "next frame num 2606\n"
     ]
    },
    {
     "name": "stderr",
     "output_type": "stream",
     "text": [
      "/home/yongming/workspace/research/apperception_new_local/apperception/optimization_playground/detection_estimation/utils.py:45: ShapelyDeprecationWarning: Iteration over multi-part geometries is deprecated and will be removed in Shapely 2.0. Use the `geoms` property to access the constituent parts of a multi-part geometry.\n",
      "  a, b = line.boundary\n"
     ]
    },
    {
     "name": "stdout",
     "output_type": "stream",
     "text": [
      "total mapping time:  0.18906855583190918\n",
      "mapping length 29\n",
      "Model: osnet_x0_25\n",
      "- params: 203,568\n",
      "- flops: 82,316,000\n",
      "Successfully loaded pretrained weights from \"osnet_x0_25_msmt17.pt\"\n",
      "** The following layers are discarded due to unmatched keys or layer size: ['classifier.weight', 'classifier.bias']\n",
      "all_detections [obj_detection(id='car_1', car_loc3d=((715.4230810897625, 1558.1658004638898),), car_loc2d=(734, 533), car_bbox3d=None, car_bbox2d=(709, 477, 759, 533))]\n",
      "lane\n",
      "next frame name sweeps/CAM_FRONT/n008-2018-08-01-15-16-36-0400__CAM_FRONT__1533151620362404.jpg\n",
      "next frame num 2655\n"
     ]
    },
    {
     "name": "stderr",
     "output_type": "stream",
     "text": [
      "/home/yongming/workspace/research/apperception_new_local/apperception/optimization_playground/detection_estimation/utils.py:45: ShapelyDeprecationWarning: Iteration over multi-part geometries is deprecated and will be removed in Shapely 2.0. Use the `geoms` property to access the constituent parts of a multi-part geometry.\n",
      "  a, b = line.boundary\n",
      "/home/yongming/workspace/research/apperception_new_local/apperception/optimization_playground/detection_estimation/utils.py:85: ShapelyDeprecationWarning: Iteration over multi-part geometries is deprecated and will be removed in Shapely 2.0. Use the `geoms` property to access the constituent parts of a multi-part geometry.\n",
      "  for intersect in intersection:\n"
     ]
    },
    {
     "name": "stdout",
     "output_type": "stream",
     "text": [
      "total mapping time:  0.3010718822479248\n",
      "mapping length 41\n",
      "Model: osnet_x0_25\n",
      "- params: 203,568\n",
      "- flops: 82,316,000\n",
      "Successfully loaded pretrained weights from \"osnet_x0_25_msmt17.pt\"\n",
      "** The following layers are discarded due to unmatched keys or layer size: ['classifier.weight', 'classifier.bias']\n",
      "all_detections [obj_detection(id='car_1', car_loc3d=((715.4230810897625, 1558.1658004638898),), car_loc2d=(720, 538), car_bbox3d=None, car_bbox2d=(687, 476, 753, 538)), obj_detection(id='car_1', car_loc3d=((687.5019146385094, 1576.3385317678726),), car_loc2d=(879, 520), car_bbox3d=None, car_bbox2d=(849, 474, 909, 520))]\n",
      "lane\n"
     ]
    },
    {
     "name": "stderr",
     "output_type": "stream",
     "text": [
      "/home/yongming/workspace/research/apperception_new_local/apperception/optimization_playground/detection_estimation/utils.py:45: ShapelyDeprecationWarning: Iteration over multi-part geometries is deprecated and will be removed in Shapely 2.0. Use the `geoms` property to access the constituent parts of a multi-part geometry.\n",
      "  a, b = line.boundary\n",
      "/home/yongming/workspace/research/apperception_new_local/apperception/optimization_playground/detection_estimation/utils.py:85: ShapelyDeprecationWarning: Iteration over multi-part geometries is deprecated and will be removed in Shapely 2.0. Use the `geoms` property to access the constituent parts of a multi-part geometry.\n",
      "  for intersect in intersection:\n"
     ]
    },
    {
     "name": "stdout",
     "output_type": "stream",
     "text": [
      "total mapping time:  0.30506229400634766\n",
      "mapping length 41\n",
      "Model: osnet_x0_25\n",
      "- params: 203,568\n",
      "- flops: 82,316,000\n",
      "Successfully loaded pretrained weights from \"osnet_x0_25_msmt17.pt\"\n",
      "** The following layers are discarded due to unmatched keys or layer size: ['classifier.weight', 'classifier.bias']\n",
      "all_detections [obj_detection(id='car_1', car_loc3d=((715.4230810897625, 1558.1658004638898),), car_loc2d=(718, 538), car_bbox3d=None, car_bbox2d=(685, 478, 751, 538)), obj_detection(id='car_1', car_loc3d=((687.5019146385094, 1576.3385317678726),), car_loc2d=(879, 520), car_bbox3d=None, car_bbox2d=(849, 474, 909, 520))]\n",
      "lane\n"
     ]
    },
    {
     "name": "stderr",
     "output_type": "stream",
     "text": [
      "/home/yongming/workspace/research/apperception_new_local/apperception/optimization_playground/detection_estimation/utils.py:45: ShapelyDeprecationWarning: Iteration over multi-part geometries is deprecated and will be removed in Shapely 2.0. Use the `geoms` property to access the constituent parts of a multi-part geometry.\n",
      "  a, b = line.boundary\n",
      "/home/yongming/workspace/research/apperception_new_local/apperception/optimization_playground/detection_estimation/utils.py:85: ShapelyDeprecationWarning: Iteration over multi-part geometries is deprecated and will be removed in Shapely 2.0. Use the `geoms` property to access the constituent parts of a multi-part geometry.\n",
      "  for intersect in intersection:\n"
     ]
    },
    {
     "name": "stdout",
     "output_type": "stream",
     "text": [
      "total mapping time:  0.29217529296875\n",
      "mapping length 41\n",
      "Model: osnet_x0_25\n",
      "- params: 203,568\n",
      "- flops: 82,316,000\n",
      "Successfully loaded pretrained weights from \"osnet_x0_25_msmt17.pt\"\n",
      "** The following layers are discarded due to unmatched keys or layer size: ['classifier.weight', 'classifier.bias']\n",
      "all_detections [obj_detection(id='car_1', car_loc3d=((715.4230810897625, 1558.1658004638898),), car_loc2d=(714, 543), car_bbox3d=None, car_bbox2d=(677, 479, 751, 543)), obj_detection(id='car_1', car_loc3d=((687.5019146385094, 1576.3385317678726),), car_loc2d=(878, 519), car_bbox3d=None, car_bbox2d=(849, 475, 907, 519)), obj_detection(id='car_1', car_loc3d=((687.5019146385094, 1576.3385317678726),), car_loc2d=(843, 500), car_bbox3d=None, car_bbox2d=(828, 472, 858, 500))]\n",
      "lane\n"
     ]
    },
    {
     "name": "stderr",
     "output_type": "stream",
     "text": [
      "/home/yongming/workspace/research/apperception_new_local/apperception/optimization_playground/detection_estimation/utils.py:45: ShapelyDeprecationWarning: Iteration over multi-part geometries is deprecated and will be removed in Shapely 2.0. Use the `geoms` property to access the constituent parts of a multi-part geometry.\n",
      "  a, b = line.boundary\n",
      "/home/yongming/workspace/research/apperception_new_local/apperception/optimization_playground/detection_estimation/utils.py:85: ShapelyDeprecationWarning: Iteration over multi-part geometries is deprecated and will be removed in Shapely 2.0. Use the `geoms` property to access the constituent parts of a multi-part geometry.\n",
      "  for intersect in intersection:\n"
     ]
    },
    {
     "name": "stdout",
     "output_type": "stream",
     "text": [
      "total mapping time:  0.31339144706726074\n",
      "mapping length 41\n",
      "Model: osnet_x0_25\n",
      "- params: 203,568\n",
      "- flops: 82,316,000\n",
      "Successfully loaded pretrained weights from \"osnet_x0_25_msmt17.pt\"\n",
      "** The following layers are discarded due to unmatched keys or layer size: ['classifier.weight', 'classifier.bias']\n",
      "all_detections [obj_detection(id='car_1', car_loc3d=((715.4230810897625, 1558.1658004638898),), car_loc2d=(709, 546), car_bbox3d=None, car_bbox2d=(672, 482, 746, 546)), obj_detection(id='car_1', car_loc3d=((687.5019146385094, 1576.3385317678726),), car_loc2d=(878, 519), car_bbox3d=None, car_bbox2d=(849, 475, 907, 519)), obj_detection(id='car_1', car_loc3d=((744.777968055767, 1519.4513720645464),), car_loc2d=(957, 513), car_bbox3d=None, car_bbox2d=(942, 473, 972, 513)), obj_detection(id='car_1', car_loc3d=((687.5019146385094, 1576.3385317678726),), car_loc2d=(842, 500), car_bbox3d=None, car_bbox2d=(826, 472, 858, 500))]\n",
      "lane\n"
     ]
    },
    {
     "name": "stderr",
     "output_type": "stream",
     "text": [
      "/home/yongming/workspace/research/apperception_new_local/apperception/optimization_playground/detection_estimation/utils.py:45: ShapelyDeprecationWarning: Iteration over multi-part geometries is deprecated and will be removed in Shapely 2.0. Use the `geoms` property to access the constituent parts of a multi-part geometry.\n",
      "  a, b = line.boundary\n",
      "/home/yongming/workspace/research/apperception_new_local/apperception/optimization_playground/detection_estimation/utils.py:85: ShapelyDeprecationWarning: Iteration over multi-part geometries is deprecated and will be removed in Shapely 2.0. Use the `geoms` property to access the constituent parts of a multi-part geometry.\n",
      "  for intersect in intersection:\n"
     ]
    },
    {
     "name": "stdout",
     "output_type": "stream",
     "text": [
      "total mapping time:  0.31870174407958984\n",
      "mapping length 41\n",
      "Model: osnet_x0_25\n",
      "- params: 203,568\n",
      "- flops: 82,316,000\n",
      "Successfully loaded pretrained weights from \"osnet_x0_25_msmt17.pt\"\n",
      "** The following layers are discarded due to unmatched keys or layer size: ['classifier.weight', 'classifier.bias']\n",
      "all_detections [obj_detection(id='car_1', car_loc3d=((687.5019146385094, 1576.3385317678726),), car_loc2d=(878, 518), car_bbox3d=None, car_bbox2d=(849, 474, 907, 518)), obj_detection(id='car_1', car_loc3d=((744.777968055767, 1519.4513720645464),), car_loc2d=(958, 513), car_bbox3d=None, car_bbox2d=(943, 475, 973, 513))]\n",
      "lane\n"
     ]
    },
    {
     "name": "stderr",
     "output_type": "stream",
     "text": [
      "/home/yongming/workspace/research/apperception_new_local/apperception/optimization_playground/detection_estimation/utils.py:45: ShapelyDeprecationWarning: Iteration over multi-part geometries is deprecated and will be removed in Shapely 2.0. Use the `geoms` property to access the constituent parts of a multi-part geometry.\n",
      "  a, b = line.boundary\n"
     ]
    },
    {
     "name": "stdout",
     "output_type": "stream",
     "text": [
      "total mapping time:  0.3290998935699463\n",
      "mapping length 41\n",
      "Model: osnet_x0_25\n",
      "- params: 203,568\n",
      "- flops: 82,316,000\n",
      "Successfully loaded pretrained weights from \"osnet_x0_25_msmt17.pt\"\n",
      "** The following layers are discarded due to unmatched keys or layer size: ['classifier.weight', 'classifier.bias']\n",
      "all_detections [obj_detection(id='car_1', car_loc3d=((687.5019146385094, 1576.3385317678726),), car_loc2d=(878, 519), car_bbox3d=None, car_bbox2d=(849, 477, 907, 519)), obj_detection(id='car_1', car_loc3d=((744.777968055767, 1519.4513720645464),), car_loc2d=(958, 513), car_bbox3d=None, car_bbox2d=(943, 473, 973, 513))]\n",
      "lane\n"
     ]
    },
    {
     "name": "stderr",
     "output_type": "stream",
     "text": [
      "/home/yongming/workspace/research/apperception_new_local/apperception/optimization_playground/detection_estimation/utils.py:45: ShapelyDeprecationWarning: Iteration over multi-part geometries is deprecated and will be removed in Shapely 2.0. Use the `geoms` property to access the constituent parts of a multi-part geometry.\n",
      "  a, b = line.boundary\n"
     ]
    },
    {
     "name": "stdout",
     "output_type": "stream",
     "text": [
      "total mapping time:  0.28633713722229004\n",
      "mapping length 41\n",
      "Model: osnet_x0_25\n",
      "- params: 203,568\n",
      "- flops: 82,316,000\n",
      "Successfully loaded pretrained weights from \"osnet_x0_25_msmt17.pt\"\n",
      "** The following layers are discarded due to unmatched keys or layer size: ['classifier.weight', 'classifier.bias']\n",
      "all_detections [obj_detection(id='car_1', car_loc3d=((687.5019146385094, 1576.3385317678726),), car_loc2d=(878, 519), car_bbox3d=None, car_bbox2d=(849, 475, 907, 519)), obj_detection(id='car_1', car_loc3d=((744.777968055767, 1519.4513720645464),), car_loc2d=(956, 513), car_bbox3d=None, car_bbox2d=(942, 475, 970, 513))]\n",
      "lane\n"
     ]
    },
    {
     "name": "stderr",
     "output_type": "stream",
     "text": [
      "/home/yongming/workspace/research/apperception_new_local/apperception/optimization_playground/detection_estimation/utils.py:45: ShapelyDeprecationWarning: Iteration over multi-part geometries is deprecated and will be removed in Shapely 2.0. Use the `geoms` property to access the constituent parts of a multi-part geometry.\n",
      "  a, b = line.boundary\n"
     ]
    },
    {
     "name": "stdout",
     "output_type": "stream",
     "text": [
      "total mapping time:  0.2955052852630615\n",
      "mapping length 41\n",
      "Model: osnet_x0_25\n",
      "- params: 203,568\n",
      "- flops: 82,316,000\n",
      "Successfully loaded pretrained weights from \"osnet_x0_25_msmt17.pt\"\n",
      "** The following layers are discarded due to unmatched keys or layer size: ['classifier.weight', 'classifier.bias']\n",
      "all_detections [obj_detection(id='car_1', car_loc3d=((687.5019146385094, 1576.3385317678726),), car_loc2d=(881, 518), car_bbox3d=None, car_bbox2d=(854, 476, 908, 518)), obj_detection(id='car_1', car_loc3d=((744.777968055767, 1519.4513720645464),), car_loc2d=(928, 505), car_bbox3d=None, car_bbox2d=(908, 473, 948, 505)), obj_detection(id='car_1', car_loc3d=((744.777968055767, 1519.4513720645464),), car_loc2d=(949, 510), car_bbox3d=None, car_bbox2d=(929, 474, 969, 510))]\n",
      "lane\n"
     ]
    },
    {
     "name": "stderr",
     "output_type": "stream",
     "text": [
      "/home/yongming/workspace/research/apperception_new_local/apperception/optimization_playground/detection_estimation/utils.py:45: ShapelyDeprecationWarning: Iteration over multi-part geometries is deprecated and will be removed in Shapely 2.0. Use the `geoms` property to access the constituent parts of a multi-part geometry.\n",
      "  a, b = line.boundary\n"
     ]
    },
    {
     "name": "stdout",
     "output_type": "stream",
     "text": [
      "total mapping time:  0.30309438705444336\n",
      "mapping length 41\n",
      "Model: osnet_x0_25\n",
      "- params: 203,568\n",
      "- flops: 82,316,000\n",
      "Successfully loaded pretrained weights from \"osnet_x0_25_msmt17.pt\"\n",
      "** The following layers are discarded due to unmatched keys or layer size: ['classifier.weight', 'classifier.bias']\n",
      "all_detections [obj_detection(id='car_1', car_loc3d=((687.5019146385094, 1576.3385317678726),), car_loc2d=(878, 516), car_bbox3d=None, car_bbox2d=(850, 476, 906, 516)), obj_detection(id='car_1', car_loc3d=((744.777968055767, 1519.4513720645464),), car_loc2d=(955, 511), car_bbox3d=None, car_bbox2d=(940, 473, 970, 511))]\n",
      "lane\n"
     ]
    },
    {
     "name": "stderr",
     "output_type": "stream",
     "text": [
      "/home/yongming/workspace/research/apperception_new_local/apperception/optimization_playground/detection_estimation/utils.py:45: ShapelyDeprecationWarning: Iteration over multi-part geometries is deprecated and will be removed in Shapely 2.0. Use the `geoms` property to access the constituent parts of a multi-part geometry.\n",
      "  a, b = line.boundary\n"
     ]
    },
    {
     "name": "stdout",
     "output_type": "stream",
     "text": [
      "total mapping time:  0.3199498653411865\n",
      "mapping length 41\n",
      "Model: osnet_x0_25\n",
      "- params: 203,568\n",
      "- flops: 82,316,000\n",
      "Successfully loaded pretrained weights from \"osnet_x0_25_msmt17.pt\"\n",
      "** The following layers are discarded due to unmatched keys or layer size: ['classifier.weight', 'classifier.bias']\n",
      "all_detections [obj_detection(id='car_1', car_loc3d=((687.5019146385094, 1576.3385317678726),), car_loc2d=(877, 514), car_bbox3d=None, car_bbox2d=(849, 470, 905, 514)), obj_detection(id='car_1', car_loc3d=((744.777968055767, 1519.4513720645464),), car_loc2d=(953, 510), car_bbox3d=None, car_bbox2d=(937, 472, 969, 510))]\n",
      "lane\n"
     ]
    },
    {
     "name": "stderr",
     "output_type": "stream",
     "text": [
      "/home/yongming/workspace/research/apperception_new_local/apperception/optimization_playground/detection_estimation/utils.py:45: ShapelyDeprecationWarning: Iteration over multi-part geometries is deprecated and will be removed in Shapely 2.0. Use the `geoms` property to access the constituent parts of a multi-part geometry.\n",
      "  a, b = line.boundary\n"
     ]
    },
    {
     "name": "stdout",
     "output_type": "stream",
     "text": [
      "total mapping time:  0.28388428688049316\n",
      "mapping length 41\n",
      "Model: osnet_x0_25\n",
      "- params: 203,568\n",
      "- flops: 82,316,000\n",
      "Successfully loaded pretrained weights from \"osnet_x0_25_msmt17.pt\"\n",
      "** The following layers are discarded due to unmatched keys or layer size: ['classifier.weight', 'classifier.bias']\n",
      "all_detections [obj_detection(id='car_1', car_loc3d=((687.5019146385094, 1576.3385317678726),), car_loc2d=(877, 513), car_bbox3d=None, car_bbox2d=(848, 469, 906, 513)), obj_detection(id='car_1', car_loc3d=((744.777968055767, 1519.4513720645464),), car_loc2d=(930, 504), car_bbox3d=None, car_bbox2d=(912, 472, 948, 504)), obj_detection(id='car_1', car_loc3d=((744.777968055767, 1519.4513720645464),), car_loc2d=(953, 510), car_bbox3d=None, car_bbox2d=(938, 472, 968, 510)), obj_detection(id='car_1', car_loc3d=((730.7364787561393, 1556.0959890031118),), car_loc2d=(575, 529), car_bbox3d=None, car_bbox2d=(552, 481, 598, 529))]\n",
      "lane\n"
     ]
    },
    {
     "name": "stderr",
     "output_type": "stream",
     "text": [
      "/home/yongming/workspace/research/apperception_new_local/apperception/optimization_playground/detection_estimation/utils.py:45: ShapelyDeprecationWarning: Iteration over multi-part geometries is deprecated and will be removed in Shapely 2.0. Use the `geoms` property to access the constituent parts of a multi-part geometry.\n",
      "  a, b = line.boundary\n"
     ]
    },
    {
     "name": "stdout",
     "output_type": "stream",
     "text": [
      "total mapping time:  0.3065972328186035\n",
      "mapping length 41\n",
      "Model: osnet_x0_25\n",
      "- params: 203,568\n",
      "- flops: 82,316,000\n",
      "Successfully loaded pretrained weights from \"osnet_x0_25_msmt17.pt\"\n",
      "** The following layers are discarded due to unmatched keys or layer size: ['classifier.weight', 'classifier.bias']\n",
      "all_detections [obj_detection(id='car_1', car_loc3d=((687.5019146385094, 1576.3385317678726),), car_loc2d=(876, 516), car_bbox3d=None, car_bbox2d=(848, 472, 904, 516)), obj_detection(id='car_1', car_loc3d=((744.777968055767, 1519.4513720645464),), car_loc2d=(956, 510), car_bbox3d=None, car_bbox2d=(943, 472, 969, 510))]\n",
      "lane\n"
     ]
    },
    {
     "name": "stderr",
     "output_type": "stream",
     "text": [
      "/home/yongming/workspace/research/apperception_new_local/apperception/optimization_playground/detection_estimation/utils.py:45: ShapelyDeprecationWarning: Iteration over multi-part geometries is deprecated and will be removed in Shapely 2.0. Use the `geoms` property to access the constituent parts of a multi-part geometry.\n",
      "  a, b = line.boundary\n"
     ]
    },
    {
     "name": "stdout",
     "output_type": "stream",
     "text": [
      "total mapping time:  0.31461000442504883\n",
      "mapping length 41\n",
      "Model: osnet_x0_25\n",
      "- params: 203,568\n",
      "- flops: 82,316,000\n",
      "Successfully loaded pretrained weights from \"osnet_x0_25_msmt17.pt\"\n",
      "** The following layers are discarded due to unmatched keys or layer size: ['classifier.weight', 'classifier.bias']\n",
      "all_detections [obj_detection(id='car_1', car_loc3d=((687.5019146385094, 1576.3385317678726),), car_loc2d=(877, 516), car_bbox3d=None, car_bbox2d=(849, 474, 905, 516)), obj_detection(id='car_1', car_loc3d=((744.777968055767, 1519.4513720645464),), car_loc2d=(954, 510), car_bbox3d=None, car_bbox2d=(938, 474, 970, 510))]\n",
      "lane\n"
     ]
    },
    {
     "name": "stderr",
     "output_type": "stream",
     "text": [
      "/home/yongming/workspace/research/apperception_new_local/apperception/optimization_playground/detection_estimation/utils.py:45: ShapelyDeprecationWarning: Iteration over multi-part geometries is deprecated and will be removed in Shapely 2.0. Use the `geoms` property to access the constituent parts of a multi-part geometry.\n",
      "  a, b = line.boundary\n"
     ]
    },
    {
     "name": "stdout",
     "output_type": "stream",
     "text": [
      "total mapping time:  0.3222355842590332\n",
      "mapping length 41\n",
      "Model: osnet_x0_25\n",
      "- params: 203,568\n",
      "- flops: 82,316,000\n",
      "Successfully loaded pretrained weights from \"osnet_x0_25_msmt17.pt\"\n",
      "** The following layers are discarded due to unmatched keys or layer size: ['classifier.weight', 'classifier.bias']\n",
      "all_detections [obj_detection(id='car_1', car_loc3d=((687.5019146385094, 1576.3385317678726),), car_loc2d=(877, 518), car_bbox3d=None, car_bbox2d=(849, 478, 905, 518)), obj_detection(id='car_1', car_loc3d=((744.777968055767, 1519.4513720645464),), car_loc2d=(932, 508), car_bbox3d=None, car_bbox2d=(910, 476, 954, 508))]\n",
      "lane\n"
     ]
    },
    {
     "name": "stderr",
     "output_type": "stream",
     "text": [
      "/home/yongming/workspace/research/apperception_new_local/apperception/optimization_playground/detection_estimation/utils.py:45: ShapelyDeprecationWarning: Iteration over multi-part geometries is deprecated and will be removed in Shapely 2.0. Use the `geoms` property to access the constituent parts of a multi-part geometry.\n",
      "  a, b = line.boundary\n"
     ]
    },
    {
     "name": "stdout",
     "output_type": "stream",
     "text": [
      "total mapping time:  0.2623636722564697\n",
      "mapping length 41\n",
      "Model: osnet_x0_25\n",
      "- params: 203,568\n",
      "- flops: 82,316,000\n",
      "Successfully loaded pretrained weights from \"osnet_x0_25_msmt17.pt\"\n",
      "** The following layers are discarded due to unmatched keys or layer size: ['classifier.weight', 'classifier.bias']\n",
      "all_detections [obj_detection(id='car_1', car_loc3d=((687.5019146385094, 1576.3385317678726),), car_loc2d=(880, 520), car_bbox3d=None, car_bbox2d=(852, 478, 908, 520)), obj_detection(id='car_1', car_loc3d=((744.777968055767, 1519.4513720645464),), car_loc2d=(974, 518), car_bbox3d=None, car_bbox2d=(957, 474, 991, 518)), obj_detection(id='car_1', car_loc3d=((744.777968055767, 1519.4513720645464),), car_loc2d=(948, 513), car_bbox3d=None, car_bbox2d=(929, 477, 967, 513))]\n",
      "lane\n"
     ]
    },
    {
     "name": "stderr",
     "output_type": "stream",
     "text": [
      "/home/yongming/workspace/research/apperception_new_local/apperception/optimization_playground/detection_estimation/utils.py:45: ShapelyDeprecationWarning: Iteration over multi-part geometries is deprecated and will be removed in Shapely 2.0. Use the `geoms` property to access the constituent parts of a multi-part geometry.\n",
      "  a, b = line.boundary\n"
     ]
    },
    {
     "name": "stdout",
     "output_type": "stream",
     "text": [
      "total mapping time:  0.28440308570861816\n",
      "mapping length 41\n",
      "Model: osnet_x0_25\n",
      "- params: 203,568\n",
      "- flops: 82,316,000\n",
      "Successfully loaded pretrained weights from \"osnet_x0_25_msmt17.pt\"\n",
      "** The following layers are discarded due to unmatched keys or layer size: ['classifier.weight', 'classifier.bias']\n",
      "all_detections [obj_detection(id='car_1', car_loc3d=((687.5019146385094, 1576.3385317678726),), car_loc2d=(880, 521), car_bbox3d=None, car_bbox2d=(851, 477, 909, 521)), obj_detection(id='car_1', car_loc3d=((744.777968055767, 1519.4513720645464),), car_loc2d=(973, 518), car_bbox3d=None, car_bbox2d=(956, 476, 990, 518))]\n",
      "lane\n"
     ]
    },
    {
     "name": "stderr",
     "output_type": "stream",
     "text": [
      "/home/yongming/workspace/research/apperception_new_local/apperception/optimization_playground/detection_estimation/utils.py:45: ShapelyDeprecationWarning: Iteration over multi-part geometries is deprecated and will be removed in Shapely 2.0. Use the `geoms` property to access the constituent parts of a multi-part geometry.\n",
      "  a, b = line.boundary\n"
     ]
    },
    {
     "name": "stdout",
     "output_type": "stream",
     "text": [
      "total mapping time:  0.2580528259277344\n",
      "mapping length 41\n",
      "Model: osnet_x0_25\n",
      "- params: 203,568\n",
      "- flops: 82,316,000\n",
      "Successfully loaded pretrained weights from \"osnet_x0_25_msmt17.pt\"\n",
      "** The following layers are discarded due to unmatched keys or layer size: ['classifier.weight', 'classifier.bias']\n",
      "all_detections [obj_detection(id='car_1', car_loc3d=((687.5019146385094, 1576.3385317678726),), car_loc2d=(877, 519), car_bbox3d=None, car_bbox2d=(849, 475, 905, 519)), obj_detection(id='car_1', car_loc3d=((744.777968055767, 1519.4513720645464),), car_loc2d=(934, 510), car_bbox3d=None, car_bbox2d=(914, 478, 954, 510)), obj_detection(id='car_1', car_loc3d=((744.777968055767, 1519.4513720645464),), car_loc2d=(948, 512), car_bbox3d=None, car_bbox2d=(929, 478, 967, 512)), obj_detection(id='car_1', car_loc3d=((744.777968055767, 1519.4513720645464),), car_loc2d=(972, 517), car_bbox3d=None, car_bbox2d=(956, 477, 988, 517))]\n",
      "lane\n"
     ]
    },
    {
     "name": "stderr",
     "output_type": "stream",
     "text": [
      "/home/yongming/workspace/research/apperception_new_local/apperception/optimization_playground/detection_estimation/utils.py:45: ShapelyDeprecationWarning: Iteration over multi-part geometries is deprecated and will be removed in Shapely 2.0. Use the `geoms` property to access the constituent parts of a multi-part geometry.\n",
      "  a, b = line.boundary\n"
     ]
    },
    {
     "name": "stdout",
     "output_type": "stream",
     "text": [
      "total mapping time:  0.3000328540802002\n",
      "mapping length 39\n",
      "Model: osnet_x0_25\n",
      "- params: 203,568\n",
      "- flops: 82,316,000\n",
      "Successfully loaded pretrained weights from \"osnet_x0_25_msmt17.pt\"\n",
      "** The following layers are discarded due to unmatched keys or layer size: ['classifier.weight', 'classifier.bias']\n",
      "all_detections [obj_detection(id='car_1', car_loc3d=((687.5019146385094, 1576.3385317678726),), car_loc2d=(877, 519), car_bbox3d=None, car_bbox2d=(849, 477, 905, 519)), obj_detection(id='car_1', car_loc3d=((744.777968055767, 1519.4513720645464),), car_loc2d=(948, 513), car_bbox3d=None, car_bbox2d=(929, 479, 967, 513)), obj_detection(id='car_1', car_loc3d=((744.777968055767, 1519.4513720645464),), car_loc2d=(972, 518), car_bbox3d=None, car_bbox2d=(954, 478, 990, 518))]\n",
      "lane\n"
     ]
    },
    {
     "name": "stderr",
     "output_type": "stream",
     "text": [
      "/home/yongming/workspace/research/apperception_new_local/apperception/optimization_playground/detection_estimation/utils.py:45: ShapelyDeprecationWarning: Iteration over multi-part geometries is deprecated and will be removed in Shapely 2.0. Use the `geoms` property to access the constituent parts of a multi-part geometry.\n",
      "  a, b = line.boundary\n"
     ]
    },
    {
     "name": "stdout",
     "output_type": "stream",
     "text": [
      "total mapping time:  0.24942946434020996\n",
      "mapping length 39\n",
      "Model: osnet_x0_25\n",
      "- params: 203,568\n",
      "- flops: 82,316,000\n",
      "Successfully loaded pretrained weights from \"osnet_x0_25_msmt17.pt\"\n",
      "** The following layers are discarded due to unmatched keys or layer size: ['classifier.weight', 'classifier.bias']\n",
      "all_detections [obj_detection(id='car_1', car_loc3d=((687.5019146385094, 1576.3385317678726),), car_loc2d=(877, 525), car_bbox3d=None, car_bbox2d=(848, 481, 906, 525)), obj_detection(id='car_1', car_loc3d=((744.777968055767, 1519.4513720645464),), car_loc2d=(933, 514), car_bbox3d=None, car_bbox2d=(915, 480, 951, 514))]\n",
      "lane\n"
     ]
    },
    {
     "name": "stderr",
     "output_type": "stream",
     "text": [
      "/home/yongming/workspace/research/apperception_new_local/apperception/optimization_playground/detection_estimation/utils.py:45: ShapelyDeprecationWarning: Iteration over multi-part geometries is deprecated and will be removed in Shapely 2.0. Use the `geoms` property to access the constituent parts of a multi-part geometry.\n",
      "  a, b = line.boundary\n"
     ]
    },
    {
     "name": "stdout",
     "output_type": "stream",
     "text": [
      "total mapping time:  0.2863450050354004\n",
      "mapping length 39\n",
      "Model: osnet_x0_25\n",
      "- params: 203,568\n",
      "- flops: 82,316,000\n",
      "Successfully loaded pretrained weights from \"osnet_x0_25_msmt17.pt\"\n",
      "** The following layers are discarded due to unmatched keys or layer size: ['classifier.weight', 'classifier.bias']\n",
      "all_detections [obj_detection(id='car_1', car_loc3d=((687.5019146385094, 1576.3385317678726),), car_loc2d=(877, 528), car_bbox3d=None, car_bbox2d=(848, 482, 906, 528))]\n",
      "lane\n"
     ]
    },
    {
     "name": "stderr",
     "output_type": "stream",
     "text": [
      "/home/yongming/workspace/research/apperception_new_local/apperception/optimization_playground/detection_estimation/utils.py:45: ShapelyDeprecationWarning: Iteration over multi-part geometries is deprecated and will be removed in Shapely 2.0. Use the `geoms` property to access the constituent parts of a multi-part geometry.\n",
      "  a, b = line.boundary\n"
     ]
    },
    {
     "name": "stdout",
     "output_type": "stream",
     "text": [
      "total mapping time:  0.25943422317504883\n",
      "mapping length 39\n",
      "Model: osnet_x0_25\n",
      "- params: 203,568\n",
      "- flops: 82,316,000\n",
      "Successfully loaded pretrained weights from \"osnet_x0_25_msmt17.pt\"\n",
      "** The following layers are discarded due to unmatched keys or layer size: ['classifier.weight', 'classifier.bias']\n",
      "all_detections [obj_detection(id='car_1', car_loc3d=((745.7063084178615, 1522.755975416549),), car_loc2d=(877, 524), car_bbox3d=None, car_bbox2d=(848, 482, 906, 524))]\n",
      "lane\n"
     ]
    },
    {
     "name": "stderr",
     "output_type": "stream",
     "text": [
      "/home/yongming/workspace/research/apperception_new_local/apperception/optimization_playground/detection_estimation/utils.py:45: ShapelyDeprecationWarning: Iteration over multi-part geometries is deprecated and will be removed in Shapely 2.0. Use the `geoms` property to access the constituent parts of a multi-part geometry.\n",
      "  a, b = line.boundary\n"
     ]
    },
    {
     "name": "stdout",
     "output_type": "stream",
     "text": [
      "total mapping time:  0.30635714530944824\n",
      "mapping length 39\n",
      "Model: osnet_x0_25\n",
      "- params: 203,568\n",
      "- flops: 82,316,000\n",
      "Successfully loaded pretrained weights from \"osnet_x0_25_msmt17.pt\"\n",
      "** The following layers are discarded due to unmatched keys or layer size: ['classifier.weight', 'classifier.bias']\n",
      "all_detections [obj_detection(id='car_1', car_loc3d=((687.5019146385094, 1576.3385317678726),), car_loc2d=(876, 516), car_bbox3d=None, car_bbox2d=(848, 472, 904, 516)), obj_detection(id='car_1', car_loc3d=((744.777968055767, 1519.4513720645464),), car_loc2d=(967, 514), car_bbox3d=None, car_bbox2d=(945, 472, 989, 514))]\n",
      "lane\n"
     ]
    },
    {
     "name": "stderr",
     "output_type": "stream",
     "text": [
      "/home/yongming/workspace/research/apperception_new_local/apperception/optimization_playground/detection_estimation/utils.py:45: ShapelyDeprecationWarning: Iteration over multi-part geometries is deprecated and will be removed in Shapely 2.0. Use the `geoms` property to access the constituent parts of a multi-part geometry.\n",
      "  a, b = line.boundary\n"
     ]
    },
    {
     "name": "stdout",
     "output_type": "stream",
     "text": [
      "total mapping time:  0.2474358081817627\n",
      "mapping length 39\n",
      "Model: osnet_x0_25\n",
      "- params: 203,568\n",
      "- flops: 82,316,000\n",
      "Successfully loaded pretrained weights from \"osnet_x0_25_msmt17.pt\"\n",
      "** The following layers are discarded due to unmatched keys or layer size: ['classifier.weight', 'classifier.bias']\n",
      "all_detections [obj_detection(id='car_1', car_loc3d=((687.5019146385094, 1576.3385317678726),), car_loc2d=(875, 511), car_bbox3d=None, car_bbox2d=(848, 465, 902, 511)), obj_detection(id='car_1', car_loc3d=((744.777968055767, 1519.4513720645464),), car_loc2d=(952, 504), car_bbox3d=None, car_bbox2d=(930, 468, 974, 504)), obj_detection(id='car_1', car_loc3d=((744.777968055767, 1519.4513720645464),), car_loc2d=(968, 510), car_bbox3d=None, car_bbox2d=(951, 470, 985, 510))]\n",
      "lane\n"
     ]
    },
    {
     "name": "stderr",
     "output_type": "stream",
     "text": [
      "/home/yongming/workspace/research/apperception_new_local/apperception/optimization_playground/detection_estimation/utils.py:45: ShapelyDeprecationWarning: Iteration over multi-part geometries is deprecated and will be removed in Shapely 2.0. Use the `geoms` property to access the constituent parts of a multi-part geometry.\n",
      "  a, b = line.boundary\n"
     ]
    },
    {
     "name": "stdout",
     "output_type": "stream",
     "text": [
      "total mapping time:  0.2865324020385742\n",
      "mapping length 39\n",
      "Model: osnet_x0_25\n",
      "- params: 203,568\n",
      "- flops: 82,316,000\n",
      "Successfully loaded pretrained weights from \"osnet_x0_25_msmt17.pt\"\n",
      "** The following layers are discarded due to unmatched keys or layer size: ['classifier.weight', 'classifier.bias']\n",
      "all_detections [obj_detection(id='car_1', car_loc3d=((687.5019146385094, 1576.3385317678726),), car_loc2d=(875, 511), car_bbox3d=None, car_bbox2d=(848, 467, 902, 511))]\n",
      "lane\n"
     ]
    },
    {
     "name": "stderr",
     "output_type": "stream",
     "text": [
      "/home/yongming/workspace/research/apperception_new_local/apperception/optimization_playground/detection_estimation/utils.py:45: ShapelyDeprecationWarning: Iteration over multi-part geometries is deprecated and will be removed in Shapely 2.0. Use the `geoms` property to access the constituent parts of a multi-part geometry.\n",
      "  a, b = line.boundary\n",
      "/home/yongming/workspace/research/apperception_new_local/apperception/optimization_playground/detection_estimation/utils.py:85: ShapelyDeprecationWarning: Iteration over multi-part geometries is deprecated and will be removed in Shapely 2.0. Use the `geoms` property to access the constituent parts of a multi-part geometry.\n",
      "  for intersect in intersection:\n"
     ]
    },
    {
     "name": "stdout",
     "output_type": "stream",
     "text": [
      "total mapping time:  0.26761794090270996\n",
      "mapping length 39\n",
      "Model: osnet_x0_25\n",
      "- params: 203,568\n",
      "- flops: 82,316,000\n",
      "Successfully loaded pretrained weights from \"osnet_x0_25_msmt17.pt\"\n",
      "** The following layers are discarded due to unmatched keys or layer size: ['classifier.weight', 'classifier.bias']\n",
      "all_detections [obj_detection(id='car_1', car_loc3d=((687.5019146385094, 1576.3385317678726),), car_loc2d=(877, 518), car_bbox3d=None, car_bbox2d=(849, 474, 905, 518))]\n",
      "lane\n"
     ]
    },
    {
     "name": "stderr",
     "output_type": "stream",
     "text": [
      "/home/yongming/workspace/research/apperception_new_local/apperception/optimization_playground/detection_estimation/utils.py:45: ShapelyDeprecationWarning: Iteration over multi-part geometries is deprecated and will be removed in Shapely 2.0. Use the `geoms` property to access the constituent parts of a multi-part geometry.\n",
      "  a, b = line.boundary\n",
      "/home/yongming/workspace/research/apperception_new_local/apperception/optimization_playground/detection_estimation/utils.py:85: ShapelyDeprecationWarning: Iteration over multi-part geometries is deprecated and will be removed in Shapely 2.0. Use the `geoms` property to access the constituent parts of a multi-part geometry.\n",
      "  for intersect in intersection:\n"
     ]
    },
    {
     "name": "stdout",
     "output_type": "stream",
     "text": [
      "total mapping time:  0.30632710456848145\n",
      "mapping length 39\n",
      "Model: osnet_x0_25\n",
      "- params: 203,568\n",
      "- flops: 82,316,000\n",
      "Successfully loaded pretrained weights from \"osnet_x0_25_msmt17.pt\"\n",
      "** The following layers are discarded due to unmatched keys or layer size: ['classifier.weight', 'classifier.bias']\n",
      "all_detections [obj_detection(id='car_1', car_loc3d=((687.5019146385094, 1576.3385317678726),), car_loc2d=(876, 522), car_bbox3d=None, car_bbox2d=(848, 478, 904, 522))]\n",
      "lane\n"
     ]
    },
    {
     "name": "stderr",
     "output_type": "stream",
     "text": [
      "/home/yongming/workspace/research/apperception_new_local/apperception/optimization_playground/detection_estimation/utils.py:45: ShapelyDeprecationWarning: Iteration over multi-part geometries is deprecated and will be removed in Shapely 2.0. Use the `geoms` property to access the constituent parts of a multi-part geometry.\n",
      "  a, b = line.boundary\n",
      "/home/yongming/workspace/research/apperception_new_local/apperception/optimization_playground/detection_estimation/utils.py:85: ShapelyDeprecationWarning: Iteration over multi-part geometries is deprecated and will be removed in Shapely 2.0. Use the `geoms` property to access the constituent parts of a multi-part geometry.\n",
      "  for intersect in intersection:\n"
     ]
    },
    {
     "name": "stdout",
     "output_type": "stream",
     "text": [
      "total mapping time:  0.31458282470703125\n",
      "mapping length 39\n",
      "Model: osnet_x0_25\n",
      "- params: 203,568\n",
      "- flops: 82,316,000\n",
      "Successfully loaded pretrained weights from \"osnet_x0_25_msmt17.pt\"\n",
      "** The following layers are discarded due to unmatched keys or layer size: ['classifier.weight', 'classifier.bias']\n",
      "all_detections [obj_detection(id='car_1', car_loc3d=((687.5019146385094, 1576.3385317678726),), car_loc2d=(877, 521), car_bbox3d=None, car_bbox2d=(850, 479, 904, 521)), obj_detection(id='car_1', car_loc3d=((744.777968055767, 1519.4513720645464),), car_loc2d=(981, 522), car_bbox3d=None, car_bbox2d=(952, 476, 1010, 522))]\n",
      "lane\n"
     ]
    },
    {
     "name": "stderr",
     "output_type": "stream",
     "text": [
      "/home/yongming/workspace/research/apperception_new_local/apperception/optimization_playground/detection_estimation/utils.py:45: ShapelyDeprecationWarning: Iteration over multi-part geometries is deprecated and will be removed in Shapely 2.0. Use the `geoms` property to access the constituent parts of a multi-part geometry.\n",
      "  a, b = line.boundary\n",
      "/home/yongming/workspace/research/apperception_new_local/apperception/optimization_playground/detection_estimation/utils.py:85: ShapelyDeprecationWarning: Iteration over multi-part geometries is deprecated and will be removed in Shapely 2.0. Use the `geoms` property to access the constituent parts of a multi-part geometry.\n",
      "  for intersect in intersection:\n"
     ]
    },
    {
     "name": "stdout",
     "output_type": "stream",
     "text": [
      "total mapping time:  0.2899599075317383\n",
      "mapping length 43\n",
      "Model: osnet_x0_25\n",
      "- params: 203,568\n",
      "- flops: 82,316,000\n",
      "Successfully loaded pretrained weights from \"osnet_x0_25_msmt17.pt\"\n",
      "** The following layers are discarded due to unmatched keys or layer size: ['classifier.weight', 'classifier.bias']\n",
      "all_detections [obj_detection(id='car_1', car_loc3d=((687.5019146385094, 1576.3385317678726),), car_loc2d=(878, 520), car_bbox3d=None, car_bbox2d=(851, 478, 905, 520)), obj_detection(id='car_1', car_loc3d=((744.777968055767, 1519.4513720645464),), car_loc2d=(976, 520), car_bbox3d=None, car_bbox2d=(951, 476, 1001, 520))]\n",
      "lane\n"
     ]
    },
    {
     "name": "stderr",
     "output_type": "stream",
     "text": [
      "/home/yongming/workspace/research/apperception_new_local/apperception/optimization_playground/detection_estimation/utils.py:45: ShapelyDeprecationWarning: Iteration over multi-part geometries is deprecated and will be removed in Shapely 2.0. Use the `geoms` property to access the constituent parts of a multi-part geometry.\n",
      "  a, b = line.boundary\n",
      "/home/yongming/workspace/research/apperception_new_local/apperception/optimization_playground/detection_estimation/utils.py:85: ShapelyDeprecationWarning: Iteration over multi-part geometries is deprecated and will be removed in Shapely 2.0. Use the `geoms` property to access the constituent parts of a multi-part geometry.\n",
      "  for intersect in intersection:\n"
     ]
    },
    {
     "name": "stdout",
     "output_type": "stream",
     "text": [
      "total mapping time:  0.28183746337890625\n",
      "mapping length 43\n",
      "Model: osnet_x0_25\n",
      "- params: 203,568\n",
      "- flops: 82,316,000\n",
      "Successfully loaded pretrained weights from \"osnet_x0_25_msmt17.pt\"\n",
      "** The following layers are discarded due to unmatched keys or layer size: ['classifier.weight', 'classifier.bias']\n",
      "all_detections [obj_detection(id='car_1', car_loc3d=((744.777968055767, 1519.4513720645464),), car_loc2d=(954, 515), car_bbox3d=None, car_bbox2d=(931, 477, 977, 515)), obj_detection(id='car_1', car_loc3d=((687.5019146385094, 1576.3385317678726),), car_loc2d=(880, 521), car_bbox3d=None, car_bbox2d=(853, 479, 907, 521)), obj_detection(id='car_1', car_loc3d=((730.7364787561393, 1556.0959890031118),), car_loc2d=(493, 552), car_bbox3d=None, car_bbox2d=(457, 506, 529, 552)), obj_detection(id='car_1', car_loc3d=((744.777968055767, 1519.4513720645464),), car_loc2d=(972, 522), car_bbox3d=None, car_bbox2d=(947, 476, 997, 522))]\n",
      "lane\n",
      "sorted_ego_config_length 229\n",
      "number of skipped 158\n",
      "[18, 27, 43, 57, 68, 96, 108, 121, 138, 145, 176, 187, 201, 214, 226, 239, 256, 281, 295, 307, 320, 334, 345, 359, 376, 384, 401, 415, 424, 438, 451, 463, 477, 493, 516, 531, 541, 556, 571, 581, 636, 650, 660, 688, 699, 816, 831, 846, 856, 871, 886, 896, 925, 935, 949, 964, 974, 990, 1004, 1029, 1044, 1053, 1069, 1083, 1094, 1108, 1132, 1146, 1161, 1171, 1187, 1200, 1212, 1241, 1250, 1266, 1281, 1291, 1306, 1319, 1344, 1361, 1368, 1385, 1398, 1410, 1423, 1448, 1462, 1479, 1489, 1504, 1517, 1529, 1558, 1568, 1583, 1598, 1608, 1622, 1637, 1661, 1674, 1698, 1713, 1723, 1738, 1897, 1913, 1922, 1938, 1951, 1962, 1976, 1990, 2001, 2016, 2030, 2054, 2068, 2079, 2093, 2109, 2118, 2134, 2147, 2157, 2171, 2185, 2225, 2235, 2248, 2262, 2272, 2286, 2301, 2311, 2326, 2341, 2350, 2381, 2391, 2406, 2419, 2431, 2444, 2461, 2487, 2512, 2525, 2538, 2550, 2563, 2581, 2588, 2617, 2628, 2641]\n",
      "{'car_exit_segment': 18, 'ego_exit_segment': 4, None: 48}\n",
      "total_run_time 66.34341382980347\n",
      "avg run time 0.9344142792930066\n",
      "total_detection_time 41.99688220024109\n",
      "avg detection time 0.5915053831019872\n",
      "total_generate_sample_plan_time 2.615060329437256\n",
      "avg generate_sample_plan time 0.036831835625876844\n"
     ]
    },
    {
     "name": "stderr",
     "output_type": "stream",
     "text": [
      "/home/yongming/workspace/research/apperception_new_local/apperception/optimization_playground/detection_estimation/utils.py:45: ShapelyDeprecationWarning: Iteration over multi-part geometries is deprecated and will be removed in Shapely 2.0. Use the `geoms` property to access the constituent parts of a multi-part geometry.\n",
      "  a, b = line.boundary\n"
     ]
    }
   ],
   "source": [
    "test_video2 = 'CAM_FRONT/n008-2018-08-01'\n",
    "sorted_ego_configs2, ego_trajectory2 = prepare_ego(test_video2)\n",
    "dry_run(sorted_ego_configs2, 2, ego_trajectory2, test_video2)\n"
   ]
  },
  {
   "cell_type": "code",
   "execution_count": null,
   "id": "fa5ef874",
   "metadata": {},
   "outputs": [],
   "source": []
  }
 ],
 "metadata": {
  "kernelspec": {
   "display_name": "Python (apperception)",
   "language": "python",
   "name": "apperception"
  },
  "language_info": {
   "codemirror_mode": {
    "name": "ipython",
    "version": 3
   },
   "file_extension": ".py",
   "mimetype": "text/x-python",
   "name": "python",
   "nbconvert_exporter": "python",
   "pygments_lexer": "ipython3",
   "version": "3.10.6"
  },
  "vscode": {
   "interpreter": {
    "hash": "ef986073a7322f2daa7cef2e5604e6018e5522cc159657af8e7aa863491a7631"
   }
  }
 },
 "nbformat": 4,
 "nbformat_minor": 5
}
