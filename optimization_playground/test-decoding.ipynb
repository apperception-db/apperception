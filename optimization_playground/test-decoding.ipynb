{
 "cells": [
  {
   "cell_type": "code",
   "execution_count": 1,
   "id": "c7971bec",
   "metadata": {},
   "outputs": [],
   "source": [
    "import cv2\n",
    "import time\n",
    "import os\n",
    "import json"
   ]
  },
  {
   "cell_type": "code",
   "execution_count": 2,
   "id": "1e65582b",
   "metadata": {},
   "outputs": [
    {
     "data": {
      "text/plain": [
       "'/Users/chanwutk/Documents/apperception/data/v1.0-mini'"
      ]
     },
     "execution_count": 2,
     "metadata": {},
     "output_type": "execute_result"
    }
   ],
   "source": [
    "DIR = os.environ['NUSCENE_DATA']\n",
    "DIR"
   ]
  },
  {
   "cell_type": "code",
   "execution_count": 3,
   "id": "70ef05bf",
   "metadata": {},
   "outputs": [
    {
     "data": {
      "text/plain": [
       "'/Users/chanwutk/Documents/apperception/data/v1.0-mini/videos'"
      ]
     },
     "execution_count": 3,
     "metadata": {},
     "output_type": "execute_result"
    }
   ],
   "source": [
    "VIDEO = DIR + '/videos'\n",
    "VIDEO"
   ]
  },
  {
   "cell_type": "code",
   "execution_count": 4,
   "id": "c35c89bc",
   "metadata": {},
   "outputs": [],
   "source": [
    "video = VIDEO + '/scene-0061-CAM_FRONT-2018-7-23-20-28-47-612460.avi'"
   ]
  },
  {
   "cell_type": "code",
   "execution_count": 5,
   "id": "b349de7f",
   "metadata": {},
   "outputs": [
    {
     "name": "stdout",
     "output_type": "stream",
     "text": [
      "0.9842889308929443\n"
     ]
    }
   ],
   "source": [
    "start = time.time()\n",
    "\n",
    "frames = []\n",
    "cap = cv2.VideoCapture(video)\n",
    "while cap.isOpened():\n",
    "    ret, f = cap.read()\n",
    "    if not ret:\n",
    "        break\n",
    "    frames.append(f)\n",
    "#     print(f.shape)\n",
    "cap.release()\n",
    "cv2.destroyAllWindows()\n",
    "print(time.time() - start)"
   ]
  },
  {
   "cell_type": "code",
   "execution_count": 6,
   "id": "9687c2b6",
   "metadata": {},
   "outputs": [],
   "source": [
    "TEST = DIR + '/test.mp4'"
   ]
  },
  {
   "cell_type": "code",
   "execution_count": 7,
   "id": "0f9bddea",
   "metadata": {},
   "outputs": [
    {
     "name": "stdout",
     "output_type": "stream",
     "text": [
      "0\n",
      "1\n",
      "2\n",
      "3\n",
      "4\n"
     ]
    }
   ],
   "source": [
    "writer = cv2.VideoWriter(TEST, cv2.VideoWriter_fourcc(*'mp4v'), 60, (1600, 900))\n",
    "for i in range(5):\n",
    "    print(i)\n",
    "    for f in frames:\n",
    "        writer.write(f)\n",
    "writer.release()\n",
    "cv2.destroyAllWindows()"
   ]
  },
  {
   "cell_type": "code",
   "execution_count": 8,
   "id": "b3a1aa8a",
   "metadata": {},
   "outputs": [
    {
     "data": {
      "text/plain": [
       "1915"
      ]
     },
     "execution_count": 8,
     "metadata": {},
     "output_type": "execute_result"
    }
   ],
   "source": [
    "cap = cv2.VideoCapture(TEST)\n",
    "num_frames = int(cap.get(cv2.CAP_PROP_FRAME_COUNT))\n",
    "cap.release()\n",
    "cv2.destroyAllWindows()\n",
    "num_frames"
   ]
  },
  {
   "cell_type": "code",
   "execution_count": null,
   "id": "de431fa2",
   "metadata": {},
   "outputs": [
    {
     "name": "stdout",
     "output_type": "stream",
     "text": [
      "1\n",
      "2.465726137161255 29.265038013458252 1.1993441581726074\n",
      "2\n",
      "1.5435001850128174 14.891470909118652 1.1415801048278809\n",
      "3\n",
      "1.227112054824829 10.390491962432861 1.1664800643920898\n",
      "4\n",
      "1.3069870471954346 7.460694074630737 1.1731410026550293\n",
      "5\n",
      "1.0698869228363037 6.113755941390991 1.2020089626312256\n",
      "6\n",
      "1.032799243927002 5.039836168289185 1.1842002868652344\n",
      "7\n",
      "0.982720136642456 4.506204843521118 1.1836421489715576\n",
      "8\n",
      "1.0877790451049805 3.562808036804199 1.1892719268798828\n",
      "9\n",
      "1.0443150997161865 3.434014081954956 1.1871788501739502\n",
      "10\n",
      "1.017754077911377 2.9395549297332764 1.1920249462127686\n",
      "11\n",
      "0.9762458801269531 2.7954790592193604 1.1848888397216797\n",
      "12\n",
      "0.9796848297119141 2.6589932441711426 1.1646840572357178\n",
      "13\n",
      "0.9103171825408936 2.3231592178344727 1.1703979969024658\n",
      "14\n",
      "0.8896501064300537 2.0294599533081055 1.1232831478118896\n",
      "15\n",
      "0.8747053146362305 1.974989891052246 1.130944013595581\n",
      "16\n",
      "0.9202570915222168 1.7217931747436523 1.1493439674377441\n",
      "17\n",
      "0.913489818572998 1.727790117263794 1.1669387817382812\n",
      "18\n",
      "0.9165098667144775 1.5942769050598145 1.1142959594726562\n",
      "19\n",
      "0.8968830108642578 1.5234971046447754 1.119508981704712\n",
      "20\n",
      "0.9101991653442383 1.3934311866760254 1.18687105178833\n",
      "21\n",
      "0.9147589206695557 1.5019278526306152 1.1696560382843018\n",
      "22\n",
      "0.9223499298095703 1.3948709964752197 1.172482967376709\n",
      "23\n",
      "0.9127271175384521 1.3417370319366455 1.1775150299072266\n",
      "24\n",
      "0.9418160915374756 1.3310718536376953 1.2036311626434326\n",
      "25\n",
      "0.9491822719573975 1.262397050857544 1.1949479579925537\n",
      "26\n",
      "0.907634973526001 1.143463373184204 1.1835923194885254\n",
      "27\n",
      "0.9151632785797119 1.1439130306243896 1.173874855041504\n",
      "28\n",
      "0.9033567905426025 1.0148098468780518 1.145158052444458\n",
      "29\n",
      "0.8892197608947754 1.0448460578918457 1.1394717693328857\n",
      "30\n",
      "0.873258113861084 0.9860873222351074 1.1276378631591797\n",
      "31\n",
      "0.8509111404418945 0.9458150863647461 1.1203668117523193\n",
      "32\n",
      "0.8648228645324707 0.8688571453094482 1.1216671466827393\n",
      "33\n",
      "0.8569180965423584 0.9226949214935303 1.1190431118011475\n",
      "34\n",
      "0.8540947437286377 0.8509480953216553 1.118175983428955\n",
      "35\n",
      "0.85219407081604 0.8381807804107666 1.1152031421661377\n",
      "36\n",
      "0.8632709980010986 0.8577117919921875 1.1256489753723145\n",
      "37\n",
      "0.8471782207489014 0.8034989833831787 1.1207501888275146\n",
      "38\n",
      "0.8510000705718994 0.7711789608001709 1.122126817703247\n",
      "39\n"
     ]
    }
   ],
   "source": [
    "rec = []\n",
    "for i in range(1, 1000):\n",
    "    print(i)\n",
    "    start = time.time()\n",
    "    cap = cv2.VideoCapture(TEST)\n",
    "    idx = 0\n",
    "    while cap.isOpened():\n",
    "        ret = cap.grab()\n",
    "        if not ret:\n",
    "            break\n",
    "        if idx % i == 0:\n",
    "            f = cap.retrieve()\n",
    "    #     print(f.shape)\n",
    "        idx += 1\n",
    "    cap.release()\n",
    "    cv2.destroyAllWindows()\n",
    "    t1 = time.time() - start\n",
    "    \n",
    "    \n",
    "    \n",
    "    start = time.time()\n",
    "    cap = cv2.VideoCapture(TEST)\n",
    "    idx = 0\n",
    "    while cap.isOpened():\n",
    "        cap.set(cv2.CAP_PROP_POS_FRAMES, idx)\n",
    "        ret, f = cap.read()\n",
    "        if not ret:\n",
    "            break\n",
    "        idx += i\n",
    "    cap.release()\n",
    "    cv2.destroyAllWindows()\n",
    "    t2 = time.time() - start\n",
    "    \n",
    "    \n",
    "    \n",
    "    start = time.time()\n",
    "    frames = []\n",
    "    cap = cv2.VideoCapture(video)\n",
    "    while cap.isOpened():\n",
    "        ret, f = cap.read()\n",
    "        if not ret:\n",
    "            break\n",
    "        frames.append(f)\n",
    "    #     print(f.shape)\n",
    "    cap.release()\n",
    "    cv2.destroyAllWindows()\n",
    "    t3 = time.time() - start\n",
    "    \n",
    "    \n",
    "    rec.append({\n",
    "        \"skip\": i,\n",
    "        \"type\": \"sequence\",\n",
    "        \"time\": t1\n",
    "    })\n",
    "    rec.append({\n",
    "        \"skip\": i,\n",
    "        \"type\": \"random\",\n",
    "        \"time\": t2\n",
    "    })\n",
    "    rec.append({\n",
    "        \"skip\": i,\n",
    "        \"type\": \"all\",\n",
    "        \"time\": t3\n",
    "    })\n",
    "    print(t1, t2, t3)"
   ]
  },
  {
   "cell_type": "code",
   "execution_count": 13,
   "id": "e9cad9fe",
   "metadata": {},
   "outputs": [],
   "source": [
    "with open('./test.json', 'w') as f:\n",
    "    json.dump(rec, f)"
   ]
  }
 ],
 "metadata": {
  "kernelspec": {
   "display_name": "Python 3 (ipykernel)",
   "language": "python",
   "name": "python3"
  },
  "language_info": {
   "codemirror_mode": {
    "name": "ipython",
    "version": 3
   },
   "file_extension": ".py",
   "mimetype": "text/x-python",
   "name": "python",
   "nbconvert_exporter": "python",
   "pygments_lexer": "ipython3",
   "version": "3.10.6"
  }
 },
 "nbformat": 4,
 "nbformat_minor": 5
}
