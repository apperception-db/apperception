{
 "cells": [
  {
   "cell_type": "code",
   "execution_count": 1,
   "id": "ac69e379",
   "metadata": {},
   "outputs": [],
   "source": [
    "import os\n",
    "import sys\n",
    "sys.path.append(os.path.join(os.getcwd(),\"apperception\"))\n",
    "\n",
    "### IMPORTS\n",
    "import cv2\n",
    "\n",
    "from scenic_world import *\n",
    "from world_executor import *\n",
    "from video_util import *\n",
    "from metadata_util import *\n",
    "import json\n",
    "import pandas as pd\n",
    "\n",
    "from scenic_generate_df import *\n"
   ]
  },
  {
   "cell_type": "code",
   "execution_count": 2,
   "id": "c3bd0bc2",
   "metadata": {},
   "outputs": [],
   "source": [
    "### Let's define some attribute for constructing the world first\n",
    "name = 'ScenicWorld' # world name\n",
    "units = 'metrics'      # world units\n",
    "user_data_dir = os.path.join(\"v1.0-mini\")\n"
   ]
  },
  {
   "cell_type": "code",
   "execution_count": null,
   "id": "01c91100",
   "metadata": {},
   "outputs": [],
   "source": [
    "# generate dataframes from scenic json files\n",
    "# takes 1min to run\n",
    "df_sample_data, df_annotation = scenic_generate_df()"
   ]
  },
  {
   "cell_type": "code",
   "execution_count": 3,
   "id": "8721832d",
   "metadata": {},
   "outputs": [],
   "source": [
    "scenic_world = ScenicWorld(name=name, units=units)"
   ]
  },
  {
   "cell_type": "code",
   "execution_count": 4,
   "id": "b09a2632",
   "metadata": {},
   "outputs": [],
   "source": [
    "### Ingest the camera to the world\n",
    "scene_name = \"scene-0061\"\n",
    "scenic_world = scenic_world.scenic_camera(scene_name)"
   ]
  },
  {
   "cell_type": "code",
   "execution_count": 5,
   "id": "38170a10",
   "metadata": {},
   "outputs": [
    {
     "name": "stdout",
     "output_type": "stream",
     "text": [
      "Worlds Table created successfully........\n",
      "New world inserted successfully........\n",
      "Camera Table created successfully........\n",
      "New camera inserted successfully.........\n",
      "Recognization done, saving to database......\n"
     ]
    }
   ],
   "source": [
    "### Call execute on the world to run the detection algorithm and save the real data to the database\n",
    "recognized_scenic_world = scenic_world.recognize(scene_name, df_sample_data, df_annotation)\n",
    "recognized_scenic_world.execute()"
   ]
  },
  {
   "cell_type": "code",
   "execution_count": null,
   "id": "7a6d62a3",
   "metadata": {},
   "outputs": [],
   "source": []
  }
 ],
 "metadata": {
  "celltoolbar": "Raw Cell Format",
  "interpreter": {
   "hash": "31f2aee4e71d21fbe5cf8b01ff0e069b9275f58929596ceb00d14d90e3e16cd6"
  },
  "kernelspec": {
   "display_name": "Python 3 (ipykernel)",
   "language": "python",
   "name": "python3"
  },
  "language_info": {
   "codemirror_mode": {
    "name": "ipython",
    "version": 3
   },
   "file_extension": ".py",
   "mimetype": "text/x-python",
   "name": "python",
   "nbconvert_exporter": "python",
   "pygments_lexer": "ipython3",
   "version": "3.7.4"
  }
 },
 "nbformat": 4,
 "nbformat_minor": 5
}
