{
 "cells": [
  {
   "cell_type": "code",
   "execution_count": 2,
   "source": [
    "import os\n",
    "import sys\n",
    "sys.path.append(os.path.join(os.getcwd(),\"apperception\"))\n",
    "\n",
    "### IMPORTS\n",
    "import cv2\n",
    "\n",
    "from scenic_world import *\n",
    "from world_executor import *\n",
    "from video_util import *\n",
    "from metadata_util import *\n",
    "import json\n",
    "import pandas as pd\n",
    "\n",
    "from scenic_generate_df import *\n"
   ],
   "outputs": [],
   "metadata": {}
  },
  {
   "cell_type": "code",
   "execution_count": 3,
   "source": [
    "### Let's define some attribute for constructing the world first\n",
    "name = 'ScenicWorld' # world name\n",
    "units = 'metrics'      # world units\n",
    "user_data_dir = os.path.join(\"v1.0-mini\")"
   ],
   "outputs": [],
   "metadata": {}
  },
  {
   "cell_type": "code",
   "execution_count": 5,
   "source": [
    "# generate dataframes from scenic json files\n",
    "# takes 1min to run\n",
    "df_sample_data, df_annotation = scenic_generate_df()"
   ],
   "outputs": [],
   "metadata": {}
  },
  {
   "cell_type": "code",
   "execution_count": 6,
   "source": [
    "scenic_world = ScenicWorld(name=name, units=units)"
   ],
   "outputs": [],
   "metadata": {}
  },
  {
   "cell_type": "code",
   "execution_count": 7,
   "source": [
    "### Ingest the camera to the world\n",
    "scene_name = \"scene-0061\"\n",
    "scenic_world = scenic_world.scenic_camera(scene_name)"
   ],
   "outputs": [],
   "metadata": {}
  },
  {
   "cell_type": "code",
   "execution_count": 8,
   "source": [
    "### Call execute on the world to run the detection algorithm and save the real data to the database\n",
    "recognized_scenic_world = scenic_world.recognize(scene_name, df_sample_data, df_annotation)\n",
    "recognized_scenic_world.execute()"
   ],
   "outputs": [
    {
     "output_type": "stream",
     "name": "stdout",
     "text": [
      "Worlds Table created successfully........\n",
      "New world inserted successfully........\n",
      "Camera Table created successfully........\n",
      "New camera inserted successfully.........\n",
      "Recognization done, saving to database......\n"
     ]
    }
   ],
   "metadata": {}
  },
  {
   "cell_type": "code",
   "execution_count": 4,
   "source": [
    "# the trajectory returned now includes the temporal info instead of just the spatio info\n",
    "car_trajectories = scenic_world.predicate(lambda obj:obj.object_type == \"vehicle.car\").get_trajectory().execute()"
   ],
   "outputs": [
    {
     "output_type": "stream",
     "name": "stdout",
     "text": [
      "Module(body=[Return(value=Compare(left=Attribute(value=Name(id='obj', ctx=Load()), attr='object_type', ctx=Load()), ops=[Eq()], comparators=[Str(s='vehicle.car')]))])\n",
      "Worlds Table created successfully........\n",
      "New world inserted successfully........\n",
      "atPeriodSet(Test_Scenic_Item_General_Trajectory.trajCentroids,'{[0001-01-01 00:00:00, 9999-12-31 23:59:59.999999)}')\n",
      "asMFJSON(atPeriodSet(Test_Scenic_Item_General_Trajectory.trajCentroids,'{[0001-01-01 00:00:00, 9999-12-31 23:59:59.999999)}'))::json\n",
      "SELECT asMFJSON(atPeriodSet(Test_Scenic_Item_General_Trajectory.trajCentroids,'{[0001-01-01 00:00:00, 9999-12-31 23:59:59.999999)}'))::json From Test_Scenic_Item_General_Trajectory  Where Test_Scenic_Item_General_Trajectory.objectType='vehicle.car';\n",
      "\n"
     ]
    }
   ],
   "metadata": {}
  },
  {
   "cell_type": "code",
   "execution_count": null,
   "source": [
    "print(car_trajectories[0][0])"
   ],
   "outputs": [],
   "metadata": {}
  },
  {
   "cell_type": "code",
   "execution_count": 8,
   "source": [
    "bboxes = scenic_world.predicate(lambda obj:obj.object_type == \"vehicle.car\").get_geo().execute()"
   ],
   "outputs": [
    {
     "output_type": "stream",
     "name": "stdout",
     "text": [
      "Module(body=[Return(value=Compare(left=Attribute(value=Name(id='obj', ctx=Load()), attr='object_type', ctx=Load()), ops=[Eq()], comparators=[Str(s='vehicle.car')]))])\n",
      "Module(body=[Return(value=Compare(left=Call(func=Name(id='Tmin', ctx=Load()), args=[Attribute(value=Name(id='obj', ctx=Load()), attr='location', ctx=Load())], keywords=[]), ops=[GtE()], comparators=[Name(id='start', ctx=Load())]))])\n",
      "Module(body=[Return(value=Compare(left=Call(func=Name(id='Tmax', ctx=Load()), args=[Attribute(value=Name(id='obj', ctx=Load()), attr='location', ctx=Load())], keywords=[]), ops=[Lt()], comparators=[Name(id='end', ctx=Load())]))])\n",
      "Worlds Table created successfully........\n",
      "New world inserted successfully........\n",
      "Xmin(Test_Scenic_General_Bbox.trajBbox)\n",
      "Ymin(Test_Scenic_General_Bbox.trajBbox)\n",
      "Zmin(Test_Scenic_General_Bbox.trajBbox)\n",
      "Xmax(Test_Scenic_General_Bbox.trajBbox)\n",
      "Ymax(Test_Scenic_General_Bbox.trajBbox)\n",
      "Zmax(Test_Scenic_General_Bbox.trajBbox)\n",
      "SELECT Xmin(Test_Scenic_General_Bbox.trajBbox), Ymin(Test_Scenic_General_Bbox.trajBbox), Zmin(Test_Scenic_General_Bbox.trajBbox), Xmax(Test_Scenic_General_Bbox.trajBbox), Ymax(Test_Scenic_General_Bbox.trajBbox), Zmax(Test_Scenic_General_Bbox.trajBbox) From Test_Scenic_Item_General_Trajectory INNER JOIN Test_Scenic_General_Bbox USING(itemId)  Where Test_Scenic_Item_General_Trajectory.objectType='vehicle.car' AND Tmin(Test_Scenic_General_Bbox.trajBbox)>='0001-01-01 00:00:00' AND Tmax(Test_Scenic_General_Bbox.trajBbox)<'9999-12-31 23:59:59.999999';\n",
      "\n"
     ]
    }
   ],
   "metadata": {}
  },
  {
   "cell_type": "code",
   "execution_count": 9,
   "source": [
    "bboxes.shape"
   ],
   "outputs": [
    {
     "output_type": "execute_result",
     "data": {
      "text/plain": [
       "(2004, 6)"
      ]
     },
     "metadata": {},
     "execution_count": 9
    }
   ],
   "metadata": {}
  },
  {
   "cell_type": "code",
   "execution_count": 13,
   "source": [
    "import psycopg2\n",
    "conn = psycopg2.connect(\n",
    "        database=\"mobilitydb\", user=\"docker\", password=\"docker\", host=\"localhost\", port=25432)"
   ],
   "outputs": [],
   "metadata": {}
  },
  {
   "cell_type": "code",
   "execution_count": 14,
   "source": [
    "from scenic_util import *\n",
    "export_tables(conn)"
   ],
   "outputs": [
    {
     "output_type": "error",
     "ename": "NameError",
     "evalue": "name 'con' is not defined",
     "traceback": [
      "\u001b[0;31m---------------------------------------------------------------------------\u001b[0m",
      "\u001b[0;31mNameError\u001b[0m                                 Traceback (most recent call last)",
      "\u001b[0;32m/tmp/ipykernel_31415/795569161.py\u001b[0m in \u001b[0;36m<module>\u001b[0;34m\u001b[0m\n\u001b[1;32m      1\u001b[0m \u001b[0;32mfrom\u001b[0m \u001b[0mscenic_util\u001b[0m \u001b[0;32mimport\u001b[0m \u001b[0;34m*\u001b[0m\u001b[0;34m\u001b[0m\u001b[0;34m\u001b[0m\u001b[0m\n\u001b[0;32m----> 2\u001b[0;31m \u001b[0mexport_tables\u001b[0m\u001b[0;34m(\u001b[0m\u001b[0mcon\u001b[0m\u001b[0;34m)\u001b[0m\u001b[0;34m\u001b[0m\u001b[0;34m\u001b[0m\u001b[0m\n\u001b[0m",
      "\u001b[0;31mNameError\u001b[0m: name 'con' is not defined"
     ]
    }
   ],
   "metadata": {}
  },
  {
   "cell_type": "code",
   "execution_count": 15,
   "source": [
    "cur = conn.cursor()\n",
    "cur.execute(CREATE_CAMERA_SQL)\n",
    "cur.execute(CREATE_BBOXES_SQL)\n",
    "cur.execute(CREATE_ITEMTRAJ_SQL)\n",
    "conn.commit()\n",
    "with open('test_camera.csv', 'r') as camera_f:\n",
    "    cur.copy_expert(file=camera_f, sql=\"COPY test_scenic_cameras FROM STDIN CSV HEADER DELIMITER as ','\")\n",
    "with open('test_trajectory.csv', 'r') as trajectory_f:\n",
    "    cur.copy_expert(file=trajectory_f, sql=\"COPY test_scenic_item_general_trajectory FROM STDIN CSV HEADER DELIMITER as ','\")\n",
    "with open('test_bbox.csv', 'r') as bbox_f:\n",
    "    cur.copy_expert(file=bbox_f, sql=\"COPY test_scenic_general_bbox FROM STDIN CSV HEADER DELIMITER as ','\")\n",
    "\n",
    "conn.commit()"
   ],
   "outputs": [],
   "metadata": {}
  },
  {
   "cell_type": "code",
   "execution_count": null,
   "source": [],
   "outputs": [],
   "metadata": {}
  }
 ],
 "metadata": {
  "celltoolbar": "Raw Cell Format",
  "interpreter": {
   "hash": "31f2aee4e71d21fbe5cf8b01ff0e069b9275f58929596ceb00d14d90e3e16cd6"
  },
  "kernelspec": {
   "name": "python3",
   "display_name": "Python 3.7.11 64-bit"
  },
  "language_info": {
   "codemirror_mode": {
    "name": "ipython",
    "version": 3
   },
   "file_extension": ".py",
   "mimetype": "text/x-python",
   "name": "python",
   "nbconvert_exporter": "python",
   "pygments_lexer": "ipython3",
   "version": "3.7.11"
  }
 },
 "nbformat": 4,
 "nbformat_minor": 5
}