{
 "cells": [
  {
   "cell_type": "code",
   "execution_count": 1,
   "id": "1e4a2f48",
   "metadata": {},
   "outputs": [],
   "source": [
    "!cd .."
   ]
  },
  {
   "cell_type": "code",
   "execution_count": 2,
   "id": "f3835792",
   "metadata": {},
   "outputs": [],
   "source": [
    "from apperception.utils import ingest_road\n",
    "from apperception.database import database"
   ]
  },
  {
   "cell_type": "code",
   "execution_count": 3,
   "id": "f5759aef",
   "metadata": {},
   "outputs": [
    {
     "name": "stdout",
     "output_type": "stream",
     "text": [
      "Create Table polygon\n",
      "Create Table segment\n",
      "Create Table laneSection\n",
      "Create Table lane\n",
      "Create Table lane_LaneSec\n",
      "Create Table laneGroup\n",
      "Create Table laneGroup_Lane\n",
      "Create Table laneGroup_opposite\n",
      "Create Table road\n",
      "Create Table road_laneGroup\n",
      "Create Table road_roadSec\n",
      "Create Table roadSection\n",
      "Create Table roadSec_laneSec\n",
      "Create Table intersection\n",
      "singapore-queenstown\n",
      "Location: singapore-queenstown\n",
      "Ingesting polygon\n",
      "Ingesting segment\n",
      "Ingesting laneSection\n",
      "Ingesting lane\n",
      "Ingesting lane_LaneSec\n",
      "Ingesting laneGroup\n",
      "Ingesting laneGroup_Lane\n",
      "Ingesting laneGroup_opposite\n",
      "Ingesting road\n",
      "Ingesting road_laneGroup\n",
      "Ingesting road_roadSec\n",
      "Ingesting roadSection\n",
      "Ingesting roadSec_laneSec\n",
      "Ingesting intersection\n",
      "singapore-onenorth\n",
      "Location: singapore-onenorth\n",
      "Ingesting polygon\n",
      "Ingesting segment\n",
      "Ingesting laneSection\n",
      "Ingesting lane\n",
      "Ingesting lane_LaneSec\n",
      "Ingesting laneGroup\n",
      "Ingesting laneGroup_Lane\n",
      "Ingesting laneGroup_opposite\n",
      "Ingesting road\n",
      "Ingesting road_laneGroup\n",
      "Ingesting road_roadSec\n",
      "Ingesting roadSection\n",
      "Ingesting roadSec_laneSec\n",
      "Ingesting intersection\n",
      "singapore-hollandvillage\n",
      "Location: singapore-hollandvillage\n",
      "Ingesting polygon\n",
      "Ingesting segment\n",
      "Ingesting laneSection\n",
      "Ingesting lane\n",
      "Ingesting lane_LaneSec\n",
      "Ingesting laneGroup\n",
      "Ingesting laneGroup_Lane\n",
      "Ingesting laneGroup_opposite\n",
      "Ingesting road\n",
      "Ingesting road_laneGroup\n",
      "Ingesting road_roadSec\n",
      "Ingesting roadSection\n",
      "Ingesting roadSec_laneSec\n",
      "Ingesting intersection\n",
      "boston-seaport\n",
      "Location: boston-seaport\n",
      "Ingesting polygon\n",
      "Ingesting segment\n",
      "Ingesting laneSection\n",
      "Ingesting lane\n",
      "Ingesting lane_LaneSec\n",
      "Ingesting laneGroup\n",
      "Ingesting laneGroup_Lane\n",
      "Ingesting laneGroup_opposite\n",
      "Ingesting road\n",
      "Ingesting road_laneGroup\n",
      "Ingesting road_roadSec\n",
      "Ingesting roadSection\n",
      "Ingesting roadSec_laneSec\n",
      "Ingesting intersection\n",
      "adding segment types\n",
      "altered table\n",
      "added type: lane\n",
      "added type: intersection\n",
      "added type: lanegroup\n",
      "added type: road\n",
      "added type: lanesection\n",
      "added type: roadsection\n"
     ]
    }
   ],
   "source": [
    "ingest_road(database, '/data/apperception-data/processed/road-network/')"
   ]
  }
 ],
 "metadata": {
  "kernelspec": {
   "display_name": "Python 3",
   "language": "python",
   "name": "python3"
  },
  "language_info": {
   "codemirror_mode": {
    "name": "ipython",
    "version": 3
   },
   "file_extension": ".py",
   "mimetype": "text/x-python",
   "name": "python",
   "nbconvert_exporter": "python",
   "pygments_lexer": "ipython3",
   "version": "3.10.8"
  }
 },
 "nbformat": 4,
 "nbformat_minor": 5
}
