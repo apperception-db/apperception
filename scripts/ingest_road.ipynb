{
 "cells": [
  {
   "cell_type": "code",
   "execution_count": null,
   "id": "1e4a2f48",
   "metadata": {},
   "outputs": [],
   "source": [
    "!cd .."
   ]
  },
  {
   "cell_type": "code",
   "execution_count": null,
   "id": "f3835792",
   "metadata": {},
   "outputs": [],
   "source": [
    "from apperception.utils import ingest_road\n",
    "from apperception.database import database\n",
    "import os"
   ]
  },
  {
   "cell_type": "code",
   "execution_count": null,
   "id": "825bc061",
   "metadata": {},
   "outputs": [],
   "source": [
    "road_dir = os.environ['NUSCENES_PROCESSED_ROAD']"
   ]
  },
  {
   "cell_type": "code",
   "execution_count": null,
   "id": "f5759aef",
   "metadata": {},
   "outputs": [],
   "source": [
    "ingest_road(database, os.path.join(road_dir, 'boston-seaport'))\n",
    "# ingest_road(database, '/data/apperception-data/processed/road-network/')"
   ]
  },
  {
   "cell_type": "code",
   "execution_count": null,
   "id": "82b0b8e7",
   "metadata": {},
   "outputs": [],
   "source": [
    "# database.sql(\"\"\"\n",
    "# SELECT *\n",
    "# FROM segment\n",
    "# LIMIT 1\n",
    "# \"\"\")"
   ]
  },
  {
   "cell_type": "code",
   "execution_count": null,
   "id": "1cf022aa",
   "metadata": {},
   "outputs": [],
   "source": [
    "database.sql('''\n",
    "SELECT\n",
    "    tablename,\n",
    "    indexname,\n",
    "    indexdef\n",
    "FROM\n",
    "    pg_indexes\n",
    "WHERE\n",
    "    schemaname = 'public'\n",
    "ORDER BY\n",
    "    tablename,\n",
    "    indexname;\n",
    "''')"
   ]
  },
  {
   "cell_type": "code",
   "execution_count": null,
   "id": "77d54b66",
   "metadata": {},
   "outputs": [],
   "source": []
  }
 ],
 "metadata": {
  "kernelspec": {
   "display_name": "Python 3 (ipykernel)",
   "language": "python",
   "name": "python3"
  },
  "language_info": {
   "codemirror_mode": {
    "name": "ipython",
    "version": 3
   },
   "file_extension": ".py",
   "mimetype": "text/x-python",
   "name": "python",
   "nbconvert_exporter": "python",
   "pygments_lexer": "ipython3",
   "version": "3.10.9"
  }
 },
 "nbformat": 4,
 "nbformat_minor": 5
}
