{
 "cells": [
  {
   "cell_type": "code",
   "execution_count": null,
   "id": "1e4a2f48",
   "metadata": {},
   "outputs": [],
   "source": [
    "!cd .."
   ]
  },
  {
   "cell_type": "code",
   "execution_count": null,
   "id": "f3835792",
   "metadata": {},
   "outputs": [],
   "source": [
    "from apperception.utils import ingest_road\n",
    "from apperception.database import database"
   ]
  },
  {
   "cell_type": "code",
   "execution_count": null,
   "id": "f5759aef",
   "metadata": {},
   "outputs": [],
   "source": [
    "ingest_road(database, '/data/apperception-data/processed/road-network/')"
   ]
  }
 ],
 "metadata": {
  "kernelspec": {
   "display_name": "Python 3",
   "language": "python",
   "name": "python3"
  },
  "language_info": {
   "codemirror_mode": {
    "name": "ipython",
    "version": 3
   },
   "file_extension": ".py",
   "mimetype": "text/x-python",
   "name": "python",
   "nbconvert_exporter": "python",
   "pygments_lexer": "ipython3",
   "version": "3.10.8"
  }
 },
 "nbformat": 4,
 "nbformat_minor": 5
}
