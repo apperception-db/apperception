{
 "cells": [
  {
   "cell_type": "code",
   "execution_count": null,
   "id": "bee80330-cede-4b6c-8567-83f0490d8df6",
   "metadata": {
    "tags": []
   },
   "outputs": [],
   "source": [
    "import time\n",
    "\n",
    "from apperception.database import database\n",
    "from apperception.utils import ingest_road"
   ]
  },
  {
   "cell_type": "code",
   "execution_count": null,
   "id": "bfb1dc73-f8b4-486c-a005-46cef77b9928",
   "metadata": {
    "tags": []
   },
   "outputs": [],
   "source": [
    "ts = []\n",
    "for _ in range(20):\n",
    "    print(_)\n",
    "    t = time.time()\n",
    "    ingest_road(database, '../data/scenic/road-network/boston-seaport')\n",
    "    ts.append(time.time() - t)"
   ]
  },
  {
   "cell_type": "code",
   "execution_count": null,
   "id": "508bd027-0d60-4be0-a806-e731b267ca4c",
   "metadata": {
    "tags": []
   },
   "outputs": [],
   "source": [
    "ts"
   ]
  },
  {
   "cell_type": "code",
   "execution_count": null,
   "id": "e0e217a0-46a8-4146-8353-b7192fbc71a6",
   "metadata": {
    "tags": []
   },
   "outputs": [],
   "source": [
    "sum(ts) / len(ts)"
   ]
  },
  {
   "cell_type": "markdown",
   "id": "577f3441-f364-4aff-bf66-ff24258af733",
   "metadata": {},
   "source": [
    "average runtime = 2.2629338979721068"
   ]
  },
  {
   "cell_type": "code",
   "execution_count": null,
   "id": "7d7e2591-161a-499e-8a7f-ee67625be406",
   "metadata": {},
   "outputs": [],
   "source": []
  }
 ],
 "metadata": {
  "kernelspec": {
   "display_name": "Python 3 (ipykernel)",
   "language": "python",
   "name": "python3"
  },
  "language_info": {
   "codemirror_mode": {
    "name": "ipython",
    "version": 3
   },
   "file_extension": ".py",
   "mimetype": "text/x-python",
   "name": "python",
   "nbconvert_exporter": "python",
   "pygments_lexer": "ipython3",
   "version": "3.10.12"
  }
 },
 "nbformat": 4,
 "nbformat_minor": 5
}
