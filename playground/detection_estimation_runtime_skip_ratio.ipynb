{
 "cells": [
  {
   "cell_type": "code",
   "execution_count": 1,
   "id": "c5c9badc",
   "metadata": {
    "execution": {
     "iopub.execute_input": "2022-12-08T00:15:43.617706Z",
     "iopub.status.busy": "2022-12-08T00:15:43.616466Z",
     "iopub.status.idle": "2022-12-08T00:15:48.654505Z",
     "shell.execute_reply": "2022-12-08T00:15:48.653531Z"
    }
   },
   "outputs": [
    {
     "name": "stdout",
     "output_type": "stream",
     "text": [
      "/home/yongming/apperception\n"
     ]
    }
   ],
   "source": [
    "%cd ..\n",
    "import os\n",
    "import time\n",
    "import json"
   ]
  },
  {
   "cell_type": "code",
   "execution_count": 2,
   "id": "152abe6c",
   "metadata": {},
   "outputs": [
    {
     "name": "stderr",
     "output_type": "stream",
     "text": [
      "YOLOv5 🚀 2023-4-10 Python-3.10.6 torch-2.0.0+cu117 CUDA:0 (Tesla T4, 14966MiB)\n",
      "\n",
      "Using cache found in /home/yongming/apperception/weights/ultralytics_yolov5_master\n"
     ]
    },
    {
     "name": "stdout",
     "output_type": "stream",
     "text": [
      "Using cuda:0\n"
     ]
    },
    {
     "name": "stderr",
     "output_type": "stream",
     "text": [
      "\u001b[31m\u001b[1mrequirements:\u001b[0m YOLOv5 requirement \"setuptools>=65.5.1\" not found, attempting AutoUpdate...\n",
      "Defaulting to user installation because normal site-packages is not writeable\n",
      "Requirement already satisfied: setuptools>=65.5.1 in /usr/local/lib/python3.10/dist-packages (67.6.1)\n",
      "\n",
      "\u001b[31m\u001b[1mrequirements:\u001b[0m 1 package updated per /home/yongming/apperception/weights/ultralytics_yolov5_master/requirements.txt\n",
      "\u001b[31m\u001b[1mrequirements:\u001b[0m ⚠️ \u001b[1mRestart runtime or rerun command for updates to take effect\u001b[0m\n",
      "\n",
      "YOLOv5 🚀 2023-4-10 Python-3.10.6 torch-2.0.0+cu117 CUDA:0 (Tesla T4, 14966MiB)\n",
      "\n",
      "Fusing layers... \n",
      "YOLOv5s summary: 213 layers, 7225885 parameters, 0 gradients\n",
      "Adding AutoShape... \n"
     ]
    }
   ],
   "source": [
    "from apperception.database import database\n",
    "from apperception.world import empty_world\n",
    "from apperception.utils import F\n",
    "from apperception.predicate import camera, objects\n",
    "from optimized_ingestion.utils.preprocess import preprocess\n",
    "database.connection\n",
    "from optimized_ingestion.cache import disable_cache\n",
    "disable_cache()"
   ]
  },
  {
   "cell_type": "code",
   "execution_count": 3,
   "id": "066065fc",
   "metadata": {},
   "outputs": [],
   "source": [
    "NUSCENES_PROCESSED_DATA = \"NUSCENES_PROCESSED_DATA\"\n",
    "if NUSCENES_PROCESSED_DATA in os.environ:\n",
    "    DATA_DIR = os.environ[NUSCENES_PROCESSED_DATA]\n",
    "else:\n",
    "    DATA_DIR = \"/data/processed/full-dataset/trainval\"\n",
    "NUSCENES_RAW_DATA = \"NUSCENES_RAW_DATA\"\n",
    "if NUSCENES_RAW_DATA in os.environ:\n",
    "    RAW_DATA_DIR = os.environ[NUSCENES_RAW_DATA]\n",
    "else:\n",
    "    RAW_DATA_DIR = \"/data/full-dataset/trainval\""
   ]
  },
  {
   "cell_type": "code",
   "execution_count": 4,
   "id": "847750d9",
   "metadata": {},
   "outputs": [],
   "source": [
    "video_set = []"
   ]
  },
  {
   "cell_type": "code",
   "execution_count": 5,
   "id": "ad2c3614",
   "metadata": {},
   "outputs": [],
   "source": [
    "def bechmark_detection_estimation_gain(world,video_names=[], path_suffix=None):\n",
    "    base_benchmark_path = f'./outputs/base_pipeline_benchmark{\"_\"+path_suffix if path_suffix else \"\"}.json'\n",
    "    ### base pipeline\n",
    "    preprocess(world, DATA_DIR, video_names,\n",
    "               benchmark_path=base_benchmark_path)\n",
    "    ### detection estimation benchmark\n",
    "    for skip_ratio in [0.1 * i for i in range(1,10)]:\n",
    "        print(f\"current skip ratio{skip_ratio}\")\n",
    "        optimize_benchmark_path = f'./outputs/detection_estimation_pipeline_{int(skip_ratio*10)}{\"_\"+path_suffix if path_suffix else \"\"}.json'\n",
    "        preprocess(world, DATA_DIR, video_names,\n",
    "                   base=False,\n",
    "                   benchmark_path=optimize_benchmark_path,\n",
    "                   skip_ratio=skip_ratio)\n",
    "    "
   ]
  },
  {
   "cell_type": "code",
   "execution_count": 6,
   "id": "533a4ce8",
   "metadata": {},
   "outputs": [],
   "source": [
    "name = 'ScenicWorld' # world name\n",
    "world = empty_world(name=name)"
   ]
  },
  {
   "cell_type": "code",
   "execution_count": 7,
   "id": "72817974",
   "metadata": {},
   "outputs": [
    {
     "name": "stderr",
     "output_type": "stream",
     "text": [
      "YOLOv5 🚀 2023-4-10 Python-3.10.6 torch-2.0.0+cu117 CUDA:0 (Tesla T4, 14966MiB)\n",
      "\n",
      "\u001b[31m\u001b[1mrequirements:\u001b[0m YOLOv5 requirement \"setuptools>=65.5.1\" not found, attempting AutoUpdate...\n",
      "Defaulting to user installation because normal site-packages is not writeable\n",
      "Requirement already satisfied: setuptools>=65.5.1 in /usr/local/lib/python3.10/dist-packages (67.6.1)\n",
      "\n",
      "\u001b[31m\u001b[1mrequirements:\u001b[0m 1 package updated per /home/yongming/apperception/weights/ultralytics_yolov5_master/requirements.txt\n",
      "\u001b[31m\u001b[1mrequirements:\u001b[0m ⚠️ \u001b[1mRestart runtime or rerun command for updates to take effect\u001b[0m\n",
      "\n",
      "YOLOv5 🚀 2023-4-10 Python-3.10.6 torch-2.0.0+cu117 CUDA:0 (Tesla T4, 14966MiB)\n",
      "\n",
      "Fusing layers... \n",
      "YOLOv5s summary: 213 layers, 7225885 parameters, 0 gradients\n",
      "Adding AutoShape... \n"
     ]
    },
    {
     "name": "stdout",
     "output_type": "stream",
     "text": [
      "scene-0103-CAM_FRONT --------------------------------------------------------------------------------\n"
     ]
    },
    {
     "name": "stderr",
     "output_type": "stream",
     "text": [
      "100%|█████████████████████████████████████████████████████████████████████████████████████████████████████████████████████████████████████████████████████████| 4/4 [00:05<00:00,  1.33s/it]\n",
      "YOLOv5 🚀 2023-4-10 Python-3.10.6 torch-2.0.0+cu117 CUDA:0 (Tesla T4, 14966MiB)\n",
      "\n",
      "Downloading...\n",
      "From: https://drive.google.com/uc?id=1Kkx2zW89jq_NETu4u42CFZTMVD5Hwm6e\n",
      "To: /home/yongming/apperception/weights/osnet_x0_25_msmt17.pt\n",
      "100%|██████████████████████████████████████████████████████████████████████████████████████████████████████████████████████████████████████████████████| 9.34M/9.34M [00:00<00:00, 25.2MB/s]\n"
     ]
    },
    {
     "name": "stdout",
     "output_type": "stream",
     "text": [
      "Successfully loaded pretrained weights from \"/home/yongming/apperception/weights/osnet_x0_25_msmt17.pt\"\n",
      "** The following layers are discarded due to unmatched keys or layer size: ['classifier.weight', 'classifier.bias']\n",
      "NOTICE:  table \"cameras\" does not exist, skipping\n",
      "\n",
      "NOTICE:  table \"item_general_trajectory\" does not exist, skipping\n",
      "\n",
      "error video: scene-0103-CAM_FRONT with skip ratio 0\n",
      "scene-0103-CAM_FRONT_RIGHT --------------------------------------------------------------------------------\n"
     ]
    },
    {
     "name": "stderr",
     "output_type": "stream",
     "text": [
      "100%|█████████████████████████████████████████████████████████████████████████████████████████████████████████████████████████████████████████████████████████| 4/4 [00:05<00:00,  1.41s/it]\n",
      "YOLOv5 🚀 2023-4-10 Python-3.10.6 torch-2.0.0+cu117 CUDA:0 (Tesla T4, 14966MiB)\n",
      "\n"
     ]
    },
    {
     "name": "stdout",
     "output_type": "stream",
     "text": [
      "Successfully loaded pretrained weights from \"/home/yongming/apperception/weights/osnet_x0_25_msmt17.pt\"\n",
      "** The following layers are discarded due to unmatched keys or layer size: ['classifier.weight', 'classifier.bias']\n",
      "NOTICE:  table \"cameras\" does not exist, skipping\n",
      "\n",
      "NOTICE:  table \"item_general_trajectory\" does not exist, skipping\n",
      "\n",
      "error video: scene-0103-CAM_FRONT_RIGHT with skip ratio 0\n",
      "scene-0103-CAM_BACK_RIGHT --------------------------------------------------------------------------------\n"
     ]
    },
    {
     "name": "stderr",
     "output_type": "stream",
     "text": [
      "100%|█████████████████████████████████████████████████████████████████████████████████████████████████████████████████████████████████████████████████████████| 4/4 [00:05<00:00,  1.41s/it]\n",
      "YOLOv5 🚀 2023-4-10 Python-3.10.6 torch-2.0.0+cu117 CUDA:0 (Tesla T4, 14966MiB)\n",
      "\n"
     ]
    },
    {
     "name": "stdout",
     "output_type": "stream",
     "text": [
      "Successfully loaded pretrained weights from \"/home/yongming/apperception/weights/osnet_x0_25_msmt17.pt\"\n",
      "** The following layers are discarded due to unmatched keys or layer size: ['classifier.weight', 'classifier.bias']\n",
      "NOTICE:  table \"cameras\" does not exist, skipping\n",
      "\n",
      "NOTICE:  table \"item_general_trajectory\" does not exist, skipping\n",
      "\n",
      "error video: scene-0103-CAM_BACK_RIGHT with skip ratio 0\n",
      "scene-0103-CAM_BACK --------------------------------------------------------------------------------\n"
     ]
    },
    {
     "name": "stderr",
     "output_type": "stream",
     "text": [
      "100%|█████████████████████████████████████████████████████████████████████████████████████████████████████████████████████████████████████████████████████████| 4/4 [00:05<00:00,  1.42s/it]\n",
      "YOLOv5 🚀 2023-4-10 Python-3.10.6 torch-2.0.0+cu117 CUDA:0 (Tesla T4, 14966MiB)\n",
      "\n"
     ]
    },
    {
     "name": "stdout",
     "output_type": "stream",
     "text": [
      "Successfully loaded pretrained weights from \"/home/yongming/apperception/weights/osnet_x0_25_msmt17.pt\"\n",
      "** The following layers are discarded due to unmatched keys or layer size: ['classifier.weight', 'classifier.bias']\n",
      "NOTICE:  table \"cameras\" does not exist, skipping\n",
      "\n",
      "NOTICE:  table \"item_general_trajectory\" does not exist, skipping\n",
      "\n",
      "error video: scene-0103-CAM_BACK with skip ratio 0\n",
      "scene-0103-CAM_BACK_LEFT --------------------------------------------------------------------------------\n"
     ]
    },
    {
     "name": "stderr",
     "output_type": "stream",
     "text": [
      "100%|█████████████████████████████████████████████████████████████████████████████████████████████████████████████████████████████████████████████████████████| 4/4 [00:05<00:00,  1.37s/it]\n",
      "YOLOv5 🚀 2023-4-10 Python-3.10.6 torch-2.0.0+cu117 CUDA:0 (Tesla T4, 14966MiB)\n",
      "\n"
     ]
    },
    {
     "name": "stdout",
     "output_type": "stream",
     "text": [
      "Successfully loaded pretrained weights from \"/home/yongming/apperception/weights/osnet_x0_25_msmt17.pt\"\n",
      "** The following layers are discarded due to unmatched keys or layer size: ['classifier.weight', 'classifier.bias']\n",
      "NOTICE:  table \"cameras\" does not exist, skipping\n",
      "\n",
      "NOTICE:  table \"item_general_trajectory\" does not exist, skipping\n",
      "\n",
      "error video: scene-0103-CAM_BACK_LEFT with skip ratio 0\n",
      "scene-0103-CAM_FRONT_LEFT --------------------------------------------------------------------------------\n"
     ]
    },
    {
     "name": "stderr",
     "output_type": "stream",
     "text": [
      "100%|█████████████████████████████████████████████████████████████████████████████████████████████████████████████████████████████████████████████████████████| 4/4 [00:05<00:00,  1.45s/it]\n",
      "YOLOv5 🚀 2023-4-10 Python-3.10.6 torch-2.0.0+cu117 CUDA:0 (Tesla T4, 14966MiB)\n",
      "\n"
     ]
    },
    {
     "name": "stdout",
     "output_type": "stream",
     "text": [
      "Successfully loaded pretrained weights from \"/home/yongming/apperception/weights/osnet_x0_25_msmt17.pt\"\n",
      "** The following layers are discarded due to unmatched keys or layer size: ['classifier.weight', 'classifier.bias']\n",
      "NOTICE:  table \"cameras\" does not exist, skipping\n",
      "\n",
      "NOTICE:  table \"item_general_trajectory\" does not exist, skipping\n",
      "\n",
      "error video: scene-0103-CAM_FRONT_LEFT with skip ratio 0\n",
      "scene-0553-CAM_FRONT --------------------------------------------------------------------------------\n"
     ]
    },
    {
     "name": "stderr",
     "output_type": "stream",
     "text": [
      "100%|█████████████████████████████████████████████████████████████████████████████████████████████████████████████████████████████████████████████████████████| 4/4 [00:05<00:00,  1.47s/it]\n",
      "YOLOv5 🚀 2023-4-10 Python-3.10.6 torch-2.0.0+cu117 CUDA:0 (Tesla T4, 14966MiB)\n",
      "\n"
     ]
    },
    {
     "name": "stdout",
     "output_type": "stream",
     "text": [
      "Successfully loaded pretrained weights from \"/home/yongming/apperception/weights/osnet_x0_25_msmt17.pt\"\n",
      "** The following layers are discarded due to unmatched keys or layer size: ['classifier.weight', 'classifier.bias']\n",
      "NOTICE:  table \"cameras\" does not exist, skipping\n",
      "\n",
      "NOTICE:  table \"item_general_trajectory\" does not exist, skipping\n",
      "\n",
      "error video: scene-0553-CAM_FRONT with skip ratio 0\n",
      "scene-0553-CAM_FRONT_RIGHT --------------------------------------------------------------------------------\n"
     ]
    },
    {
     "name": "stderr",
     "output_type": "stream",
     "text": [
      "100%|█████████████████████████████████████████████████████████████████████████████████████████████████████████████████████████████████████████████████████████| 4/4 [00:05<00:00,  1.44s/it]\n",
      "YOLOv5 🚀 2023-4-10 Python-3.10.6 torch-2.0.0+cu117 CUDA:0 (Tesla T4, 14966MiB)\n",
      "\n"
     ]
    },
    {
     "name": "stdout",
     "output_type": "stream",
     "text": [
      "Successfully loaded pretrained weights from \"/home/yongming/apperception/weights/osnet_x0_25_msmt17.pt\"\n",
      "** The following layers are discarded due to unmatched keys or layer size: ['classifier.weight', 'classifier.bias']\n",
      "NOTICE:  table \"cameras\" does not exist, skipping\n",
      "\n",
      "NOTICE:  table \"item_general_trajectory\" does not exist, skipping\n",
      "\n",
      "error video: scene-0553-CAM_FRONT_RIGHT with skip ratio 0\n",
      "scene-0553-CAM_BACK_RIGHT --------------------------------------------------------------------------------\n"
     ]
    },
    {
     "name": "stderr",
     "output_type": "stream",
     "text": [
      "100%|█████████████████████████████████████████████████████████████████████████████████████████████████████████████████████████████████████████████████████████| 4/4 [00:05<00:00,  1.47s/it]\n",
      "YOLOv5 🚀 2023-4-10 Python-3.10.6 torch-2.0.0+cu117 CUDA:0 (Tesla T4, 14966MiB)\n",
      "\n"
     ]
    },
    {
     "name": "stdout",
     "output_type": "stream",
     "text": [
      "Successfully loaded pretrained weights from \"/home/yongming/apperception/weights/osnet_x0_25_msmt17.pt\"\n",
      "** The following layers are discarded due to unmatched keys or layer size: ['classifier.weight', 'classifier.bias']\n",
      "NOTICE:  table \"cameras\" does not exist, skipping\n",
      "\n",
      "NOTICE:  table \"item_general_trajectory\" does not exist, skipping\n",
      "\n",
      "error video: scene-0553-CAM_BACK_RIGHT with skip ratio 0\n",
      "scene-0553-CAM_BACK --------------------------------------------------------------------------------\n"
     ]
    },
    {
     "name": "stderr",
     "output_type": "stream",
     "text": [
      "100%|█████████████████████████████████████████████████████████████████████████████████████████████████████████████████████████████████████████████████████████| 4/4 [00:06<00:00,  1.52s/it]\n",
      "YOLOv5 🚀 2023-4-10 Python-3.10.6 torch-2.0.0+cu117 CUDA:0 (Tesla T4, 14966MiB)\n",
      "\n"
     ]
    },
    {
     "name": "stdout",
     "output_type": "stream",
     "text": [
      "Successfully loaded pretrained weights from \"/home/yongming/apperception/weights/osnet_x0_25_msmt17.pt\"\n",
      "** The following layers are discarded due to unmatched keys or layer size: ['classifier.weight', 'classifier.bias']\n",
      "NOTICE:  table \"cameras\" does not exist, skipping\n",
      "\n",
      "NOTICE:  table \"item_general_trajectory\" does not exist, skipping\n",
      "\n",
      "error video: scene-0553-CAM_BACK with skip ratio 0\n",
      "scene-0553-CAM_BACK_LEFT --------------------------------------------------------------------------------\n"
     ]
    },
    {
     "name": "stderr",
     "output_type": "stream",
     "text": [
      "100%|█████████████████████████████████████████████████████████████████████████████████████████████████████████████████████████████████████████████████████████| 4/4 [00:05<00:00,  1.48s/it]\n",
      "YOLOv5 🚀 2023-4-10 Python-3.10.6 torch-2.0.0+cu117 CUDA:0 (Tesla T4, 14966MiB)\n",
      "\n"
     ]
    },
    {
     "name": "stdout",
     "output_type": "stream",
     "text": [
      "Successfully loaded pretrained weights from \"/home/yongming/apperception/weights/osnet_x0_25_msmt17.pt\"\n",
      "** The following layers are discarded due to unmatched keys or layer size: ['classifier.weight', 'classifier.bias']\n",
      "NOTICE:  table \"cameras\" does not exist, skipping\n",
      "\n",
      "NOTICE:  table \"item_general_trajectory\" does not exist, skipping\n",
      "\n",
      "error video: scene-0553-CAM_BACK_LEFT with skip ratio 0\n",
      "scene-0553-CAM_FRONT_LEFT --------------------------------------------------------------------------------\n"
     ]
    },
    {
     "name": "stderr",
     "output_type": "stream",
     "text": [
      "100%|█████████████████████████████████████████████████████████████████████████████████████████████████████████████████████████████████████████████████████████| 4/4 [00:06<00:00,  1.65s/it]\n",
      "YOLOv5 🚀 2023-4-10 Python-3.10.6 torch-2.0.0+cu117 CUDA:0 (Tesla T4, 14966MiB)\n",
      "\n"
     ]
    },
    {
     "name": "stdout",
     "output_type": "stream",
     "text": [
      "Successfully loaded pretrained weights from \"/home/yongming/apperception/weights/osnet_x0_25_msmt17.pt\"\n",
      "** The following layers are discarded due to unmatched keys or layer size: ['classifier.weight', 'classifier.bias']\n",
      "NOTICE:  table \"cameras\" does not exist, skipping\n",
      "\n",
      "NOTICE:  table \"item_general_trajectory\" does not exist, skipping\n",
      "\n",
      "error video: scene-0553-CAM_FRONT_LEFT with skip ratio 0\n",
      "scene-0655-CAM_FRONT --------------------------------------------------------------------------------\n"
     ]
    },
    {
     "name": "stderr",
     "output_type": "stream",
     "text": [
      "100%|█████████████████████████████████████████████████████████████████████████████████████████████████████████████████████████████████████████████████████████| 4/4 [00:06<00:00,  1.54s/it]\n",
      "YOLOv5 🚀 2023-4-10 Python-3.10.6 torch-2.0.0+cu117 CUDA:0 (Tesla T4, 14966MiB)\n",
      "\n"
     ]
    },
    {
     "name": "stdout",
     "output_type": "stream",
     "text": [
      "Successfully loaded pretrained weights from \"/home/yongming/apperception/weights/osnet_x0_25_msmt17.pt\"\n",
      "** The following layers are discarded due to unmatched keys or layer size: ['classifier.weight', 'classifier.bias']\n",
      "NOTICE:  table \"cameras\" does not exist, skipping\n",
      "\n",
      "NOTICE:  table \"item_general_trajectory\" does not exist, skipping\n",
      "\n",
      "error video: scene-0655-CAM_FRONT with skip ratio 0\n",
      "scene-0655-CAM_FRONT_RIGHT --------------------------------------------------------------------------------\n"
     ]
    },
    {
     "name": "stderr",
     "output_type": "stream",
     "text": [
      "100%|█████████████████████████████████████████████████████████████████████████████████████████████████████████████████████████████████████████████████████████| 4/4 [00:06<00:00,  1.58s/it]\n",
      "YOLOv5 🚀 2023-4-10 Python-3.10.6 torch-2.0.0+cu117 CUDA:0 (Tesla T4, 14966MiB)\n",
      "\n"
     ]
    },
    {
     "name": "stdout",
     "output_type": "stream",
     "text": [
      "Successfully loaded pretrained weights from \"/home/yongming/apperception/weights/osnet_x0_25_msmt17.pt\"\n",
      "** The following layers are discarded due to unmatched keys or layer size: ['classifier.weight', 'classifier.bias']\n",
      "NOTICE:  table \"cameras\" does not exist, skipping\n",
      "\n",
      "NOTICE:  table \"item_general_trajectory\" does not exist, skipping\n",
      "\n",
      "error video: scene-0655-CAM_FRONT_RIGHT with skip ratio 0\n",
      "scene-0655-CAM_BACK_RIGHT --------------------------------------------------------------------------------\n"
     ]
    },
    {
     "name": "stderr",
     "output_type": "stream",
     "text": [
      "100%|█████████████████████████████████████████████████████████████████████████████████████████████████████████████████████████████████████████████████████████| 4/4 [00:07<00:00,  1.81s/it]\n",
      "YOLOv5 🚀 2023-4-10 Python-3.10.6 torch-2.0.0+cu117 CUDA:0 (Tesla T4, 14966MiB)\n",
      "\n"
     ]
    },
    {
     "name": "stdout",
     "output_type": "stream",
     "text": [
      "Successfully loaded pretrained weights from \"/home/yongming/apperception/weights/osnet_x0_25_msmt17.pt\"\n",
      "** The following layers are discarded due to unmatched keys or layer size: ['classifier.weight', 'classifier.bias']\n",
      "NOTICE:  table \"cameras\" does not exist, skipping\n",
      "\n",
      "NOTICE:  table \"item_general_trajectory\" does not exist, skipping\n",
      "\n",
      "error video: scene-0655-CAM_BACK_RIGHT with skip ratio 0\n",
      "scene-0655-CAM_BACK --------------------------------------------------------------------------------\n"
     ]
    },
    {
     "name": "stderr",
     "output_type": "stream",
     "text": [
      "100%|█████████████████████████████████████████████████████████████████████████████████████████████████████████████████████████████████████████████████████████| 4/4 [00:06<00:00,  1.53s/it]\n",
      "YOLOv5 🚀 2023-4-10 Python-3.10.6 torch-2.0.0+cu117 CUDA:0 (Tesla T4, 14966MiB)\n",
      "\n"
     ]
    },
    {
     "name": "stdout",
     "output_type": "stream",
     "text": [
      "Successfully loaded pretrained weights from \"/home/yongming/apperception/weights/osnet_x0_25_msmt17.pt\"\n",
      "** The following layers are discarded due to unmatched keys or layer size: ['classifier.weight', 'classifier.bias']\n",
      "NOTICE:  table \"cameras\" does not exist, skipping\n",
      "\n",
      "NOTICE:  table \"item_general_trajectory\" does not exist, skipping\n",
      "\n",
      "error video: scene-0655-CAM_BACK with skip ratio 0\n",
      "scene-0655-CAM_BACK_LEFT --------------------------------------------------------------------------------\n"
     ]
    },
    {
     "name": "stderr",
     "output_type": "stream",
     "text": [
      "100%|█████████████████████████████████████████████████████████████████████████████████████████████████████████████████████████████████████████████████████████| 4/4 [00:06<00:00,  1.62s/it]\n",
      "YOLOv5 🚀 2023-4-10 Python-3.10.6 torch-2.0.0+cu117 CUDA:0 (Tesla T4, 14966MiB)\n",
      "\n"
     ]
    },
    {
     "name": "stdout",
     "output_type": "stream",
     "text": [
      "Successfully loaded pretrained weights from \"/home/yongming/apperception/weights/osnet_x0_25_msmt17.pt\"\n",
      "** The following layers are discarded due to unmatched keys or layer size: ['classifier.weight', 'classifier.bias']\n",
      "NOTICE:  table \"cameras\" does not exist, skipping\n",
      "\n",
      "NOTICE:  table \"item_general_trajectory\" does not exist, skipping\n",
      "\n",
      "error video: scene-0655-CAM_BACK_LEFT with skip ratio 0\n",
      "scene-0655-CAM_FRONT_LEFT --------------------------------------------------------------------------------\n"
     ]
    },
    {
     "name": "stderr",
     "output_type": "stream",
     "text": [
      "100%|█████████████████████████████████████████████████████████████████████████████████████████████████████████████████████████████████████████████████████████| 4/4 [00:07<00:00,  1.82s/it]\n",
      "YOLOv5 🚀 2023-4-10 Python-3.10.6 torch-2.0.0+cu117 CUDA:0 (Tesla T4, 14966MiB)\n",
      "\n"
     ]
    },
    {
     "name": "stdout",
     "output_type": "stream",
     "text": [
      "Successfully loaded pretrained weights from \"/home/yongming/apperception/weights/osnet_x0_25_msmt17.pt\"\n",
      "** The following layers are discarded due to unmatched keys or layer size: ['classifier.weight', 'classifier.bias']\n",
      "NOTICE:  table \"cameras\" does not exist, skipping\n",
      "\n",
      "NOTICE:  table \"item_general_trajectory\" does not exist, skipping\n",
      "\n",
      "error video: scene-0655-CAM_FRONT_LEFT with skip ratio 0\n",
      "scene-0757-CAM_FRONT --------------------------------------------------------------------------------\n"
     ]
    },
    {
     "name": "stderr",
     "output_type": "stream",
     "text": [
      "100%|█████████████████████████████████████████████████████████████████████████████████████████████████████████████████████████████████████████████████████████| 4/4 [00:06<00:00,  1.51s/it]\n",
      "YOLOv5 🚀 2023-4-10 Python-3.10.6 torch-2.0.0+cu117 CUDA:0 (Tesla T4, 14966MiB)\n",
      "\n"
     ]
    },
    {
     "name": "stdout",
     "output_type": "stream",
     "text": [
      "Successfully loaded pretrained weights from \"/home/yongming/apperception/weights/osnet_x0_25_msmt17.pt\"\n",
      "** The following layers are discarded due to unmatched keys or layer size: ['classifier.weight', 'classifier.bias']\n",
      "NOTICE:  table \"cameras\" does not exist, skipping\n",
      "\n",
      "NOTICE:  table \"item_general_trajectory\" does not exist, skipping\n",
      "\n",
      "error video: scene-0757-CAM_FRONT with skip ratio 0\n",
      "scene-0757-CAM_FRONT_RIGHT --------------------------------------------------------------------------------\n"
     ]
    },
    {
     "name": "stderr",
     "output_type": "stream",
     "text": [
      "100%|█████████████████████████████████████████████████████████████████████████████████████████████████████████████████████████████████████████████████████████| 4/4 [00:06<00:00,  1.59s/it]\n",
      "YOLOv5 🚀 2023-4-10 Python-3.10.6 torch-2.0.0+cu117 CUDA:0 (Tesla T4, 14966MiB)\n",
      "\n"
     ]
    },
    {
     "name": "stdout",
     "output_type": "stream",
     "text": [
      "Successfully loaded pretrained weights from \"/home/yongming/apperception/weights/osnet_x0_25_msmt17.pt\"\n",
      "** The following layers are discarded due to unmatched keys or layer size: ['classifier.weight', 'classifier.bias']\n",
      "NOTICE:  table \"cameras\" does not exist, skipping\n",
      "\n",
      "NOTICE:  table \"item_general_trajectory\" does not exist, skipping\n",
      "\n",
      "error video: scene-0757-CAM_FRONT_RIGHT with skip ratio 0\n",
      "scene-0757-CAM_BACK_RIGHT --------------------------------------------------------------------------------\n"
     ]
    },
    {
     "name": "stderr",
     "output_type": "stream",
     "text": [
      "100%|█████████████████████████████████████████████████████████████████████████████████████████████████████████████████████████████████████████████████████████| 4/4 [00:06<00:00,  1.67s/it]\n",
      "YOLOv5 🚀 2023-4-10 Python-3.10.6 torch-2.0.0+cu117 CUDA:0 (Tesla T4, 14966MiB)\n",
      "\n"
     ]
    },
    {
     "name": "stdout",
     "output_type": "stream",
     "text": [
      "Successfully loaded pretrained weights from \"/home/yongming/apperception/weights/osnet_x0_25_msmt17.pt\"\n",
      "** The following layers are discarded due to unmatched keys or layer size: ['classifier.weight', 'classifier.bias']\n",
      "NOTICE:  table \"cameras\" does not exist, skipping\n",
      "\n",
      "NOTICE:  table \"item_general_trajectory\" does not exist, skipping\n",
      "\n",
      "error video: scene-0757-CAM_BACK_RIGHT with skip ratio 0\n",
      "scene-0757-CAM_BACK --------------------------------------------------------------------------------\n"
     ]
    },
    {
     "name": "stderr",
     "output_type": "stream",
     "text": [
      "100%|█████████████████████████████████████████████████████████████████████████████████████████████████████████████████████████████████████████████████████████| 4/4 [00:06<00:00,  1.59s/it]\n",
      "YOLOv5 🚀 2023-4-10 Python-3.10.6 torch-2.0.0+cu117 CUDA:0 (Tesla T4, 14966MiB)\n",
      "\n"
     ]
    },
    {
     "name": "stdout",
     "output_type": "stream",
     "text": [
      "Successfully loaded pretrained weights from \"/home/yongming/apperception/weights/osnet_x0_25_msmt17.pt\"\n",
      "** The following layers are discarded due to unmatched keys or layer size: ['classifier.weight', 'classifier.bias']\n",
      "NOTICE:  table \"cameras\" does not exist, skipping\n",
      "\n",
      "NOTICE:  table \"item_general_trajectory\" does not exist, skipping\n",
      "\n",
      "error video: scene-0757-CAM_BACK with skip ratio 0\n",
      "scene-0757-CAM_BACK_LEFT --------------------------------------------------------------------------------\n"
     ]
    },
    {
     "name": "stderr",
     "output_type": "stream",
     "text": [
      "100%|█████████████████████████████████████████████████████████████████████████████████████████████████████████████████████████████████████████████████████████| 4/4 [00:07<00:00,  1.84s/it]\n",
      "YOLOv5 🚀 2023-4-10 Python-3.10.6 torch-2.0.0+cu117 CUDA:0 (Tesla T4, 14966MiB)\n",
      "\n"
     ]
    },
    {
     "name": "stdout",
     "output_type": "stream",
     "text": [
      "Successfully loaded pretrained weights from \"/home/yongming/apperception/weights/osnet_x0_25_msmt17.pt\"\n",
      "** The following layers are discarded due to unmatched keys or layer size: ['classifier.weight', 'classifier.bias']\n",
      "NOTICE:  table \"cameras\" does not exist, skipping\n",
      "\n",
      "NOTICE:  table \"item_general_trajectory\" does not exist, skipping\n",
      "\n",
      "error video: scene-0757-CAM_BACK_LEFT with skip ratio 0\n",
      "scene-0757-CAM_FRONT_LEFT --------------------------------------------------------------------------------\n"
     ]
    },
    {
     "name": "stderr",
     "output_type": "stream",
     "text": [
      "100%|█████████████████████████████████████████████████████████████████████████████████████████████████████████████████████████████████████████████████████████| 4/4 [00:06<00:00,  1.64s/it]\n",
      "YOLOv5 🚀 2023-4-10 Python-3.10.6 torch-2.0.0+cu117 CUDA:0 (Tesla T4, 14966MiB)\n",
      "\n"
     ]
    },
    {
     "name": "stdout",
     "output_type": "stream",
     "text": [
      "Successfully loaded pretrained weights from \"/home/yongming/apperception/weights/osnet_x0_25_msmt17.pt\"\n",
      "** The following layers are discarded due to unmatched keys or layer size: ['classifier.weight', 'classifier.bias']\n",
      "NOTICE:  table \"cameras\" does not exist, skipping\n",
      "\n",
      "NOTICE:  table \"item_general_trajectory\" does not exist, skipping\n",
      "\n",
      "error video: scene-0757-CAM_FRONT_LEFT with skip ratio 0\n",
      "num_video:  24\n",
      "total preprocess time 746.93252825737\n"
     ]
    },
    {
     "ename": "FileNotFoundError",
     "evalue": "[Errno 2] No such file or directory: './outputs/base_pipeline_benchmark.json'",
     "output_type": "error",
     "traceback": [
      "\u001b[0;31m---------------------------------------------------------------------------\u001b[0m",
      "\u001b[0;31mFileNotFoundError\u001b[0m                         Traceback (most recent call last)",
      "Cell \u001b[0;32mIn [7], line 1\u001b[0m\n\u001b[0;32m----> 1\u001b[0m \u001b[43mbechmark_detection_estimation_gain\u001b[49m\u001b[43m(\u001b[49m\u001b[43mworld\u001b[49m\u001b[43m)\u001b[49m\n",
      "Cell \u001b[0;32mIn [5], line 4\u001b[0m, in \u001b[0;36mbechmark_detection_estimation_gain\u001b[0;34m(world, video_names, path_suffix)\u001b[0m\n\u001b[1;32m      2\u001b[0m base_benchmark_path \u001b[38;5;241m=\u001b[39m \u001b[38;5;124mf\u001b[39m\u001b[38;5;124m'\u001b[39m\u001b[38;5;124m./outputs/base_pipeline_benchmark\u001b[39m\u001b[38;5;132;01m{\u001b[39;00m\u001b[38;5;124m\"\u001b[39m\u001b[38;5;124m_\u001b[39m\u001b[38;5;124m\"\u001b[39m\u001b[38;5;241m+\u001b[39mpath_suffix \u001b[38;5;28;01mif\u001b[39;00m path_suffix \u001b[38;5;28;01melse\u001b[39;00m \u001b[38;5;124m\"\u001b[39m\u001b[38;5;124m\"\u001b[39m\u001b[38;5;132;01m}\u001b[39;00m\u001b[38;5;124m.json\u001b[39m\u001b[38;5;124m'\u001b[39m\n\u001b[1;32m      3\u001b[0m \u001b[38;5;66;03m### base pipeline\u001b[39;00m\n\u001b[0;32m----> 4\u001b[0m \u001b[43mpreprocess\u001b[49m\u001b[43m(\u001b[49m\u001b[43mworld\u001b[49m\u001b[43m,\u001b[49m\u001b[43m \u001b[49m\u001b[43mDATA_DIR\u001b[49m\u001b[43m,\u001b[49m\u001b[43m \u001b[49m\u001b[43mvideo_names\u001b[49m\u001b[43m,\u001b[49m\n\u001b[1;32m      5\u001b[0m \u001b[43m           \u001b[49m\u001b[43mbenchmark_path\u001b[49m\u001b[38;5;241;43m=\u001b[39;49m\u001b[43mbase_benchmark_path\u001b[49m\u001b[43m)\u001b[49m\n\u001b[1;32m      6\u001b[0m \u001b[38;5;66;03m### detection estimation benchmark\u001b[39;00m\n\u001b[1;32m      7\u001b[0m \u001b[38;5;28;01mfor\u001b[39;00m skip_ratio \u001b[38;5;129;01min\u001b[39;00m [\u001b[38;5;241m0.1\u001b[39m \u001b[38;5;241m*\u001b[39m i \u001b[38;5;28;01mfor\u001b[39;00m i \u001b[38;5;129;01min\u001b[39;00m \u001b[38;5;28mrange\u001b[39m(\u001b[38;5;241m1\u001b[39m,\u001b[38;5;241m10\u001b[39m)]:\n",
      "File \u001b[0;32m~/apperception/optimized_ingestion/utils/preprocess.py:79\u001b[0m, in \u001b[0;36mpreprocess\u001b[0;34m(world, data_dir, video_names, base, benchmark_path, skip_ratio)\u001b[0m\n\u001b[1;32m     76\u001b[0m     benchmarks\u001b[38;5;241m.\u001b[39mappend({\u001b[38;5;124m'\u001b[39m\u001b[38;5;124maverage runtime\u001b[39m\u001b[38;5;124m'\u001b[39m: \u001b[38;5;28msum\u001b[39m([b[\u001b[38;5;124m'\u001b[39m\u001b[38;5;124mtotal_runtime\u001b[39m\u001b[38;5;124m'\u001b[39m] \u001b[38;5;28;01mfor\u001b[39;00m b \u001b[38;5;129;01min\u001b[39;00m benchmarks]) \u001b[38;5;241m/\u001b[39m num_video})\n\u001b[1;32m     77\u001b[0m     benchmarks\u001b[38;5;241m.\u001b[39mappend({\u001b[38;5;124m'\u001b[39m\u001b[38;5;124mnumber of videos\u001b[39m\u001b[38;5;124m'\u001b[39m: num_video})\n\u001b[0;32m---> 79\u001b[0m \u001b[38;5;28;01mwith\u001b[39;00m \u001b[38;5;28;43mopen\u001b[39;49m\u001b[43m(\u001b[49m\u001b[43mbenchmark_path\u001b[49m\u001b[43m,\u001b[49m\u001b[43m \u001b[49m\u001b[38;5;124;43m\"\u001b[39;49m\u001b[38;5;124;43mw\u001b[39;49m\u001b[38;5;124;43m\"\u001b[39;49m\u001b[43m)\u001b[49m \u001b[38;5;28;01mas\u001b[39;00m f3:\n\u001b[1;32m     80\u001b[0m     json\u001b[38;5;241m.\u001b[39mdump(benchmarks, f3)\n",
      "\u001b[0;31mFileNotFoundError\u001b[0m: [Errno 2] No such file or directory: './outputs/base_pipeline_benchmark.json'"
     ]
    }
   ],
   "source": [
    "bechmark_detection_estimation_gain(world)"
   ]
  },
  {
   "cell_type": "code",
   "execution_count": null,
   "id": "f98facc1",
   "metadata": {},
   "outputs": [],
   "source": [
    "obj1 = objects[0]\n",
    "cam = camera\n",
    "car_world = empty_world(name=name).filter(\n",
    "    (F.like(obj1.type, 'car') | F.like(obj1.type, 'truck') | F.like(obj1.type, 'bus'))\n",
    ")"
   ]
  },
  {
   "cell_type": "code",
   "execution_count": null,
   "id": "f86f6407",
   "metadata": {},
   "outputs": [],
   "source": [
    "bechmark_detection_estimation_gain(car_world, path_suffix=\"only_car\")"
   ]
  },
  {
   "cell_type": "code",
   "execution_count": null,
   "id": "dedbf69e",
   "metadata": {},
   "outputs": [],
   "source": [
    "with open('./outputs/base_pipeline_benchmark.json') as benchmark_file:\n",
    "    benchmark_content = benchmark_file.read()\n",
    "\n",
    "parsed_json = json.loads(benchmark_content)\n",
    "baseline_total_runtime = parsed_json[0]['total_runtime']\n",
    "baseline_avg_runtime = parsed_json[1]['average runtime']\n",
    "baseline_stage_runtimes = parsed_json[0]['stage_runtimes']\n",
    "for stage_runtime in baseline_stage_runtimes:\n",
    "    if stage_runtime['stage'] == 'Tracking2D.StrongSORT':\n",
    "        baseline_strong_sort_runtime = sum([r['runtime'] for r in stage_runtime['runtimes']])\n",
    "\n",
    "# num_videos = parsed_json[2]['number of videos']\n",
    "print(baseline_total_runtime)\n",
    "print(baseline_avg_runtime)\n",
    "print(baseline_strong_sort_runetime)"
   ]
  },
  {
   "cell_type": "code",
   "execution_count": 1,
   "id": "e1f94e2a",
   "metadata": {},
   "outputs": [
    {
     "ename": "FileNotFoundError",
     "evalue": "[Errno 2] No such file or directory: './outputs/detection_estimation_pipeline_1.json'",
     "output_type": "error",
     "traceback": [
      "\u001b[0;31m---------------------------------------------------------------------------\u001b[0m",
      "\u001b[0;31mFileNotFoundError\u001b[0m                         Traceback (most recent call last)",
      "Cell \u001b[0;32mIn [1], line 9\u001b[0m\n\u001b[1;32m      7\u001b[0m only_car_strong_sort_runtimes \u001b[38;5;241m=\u001b[39m []\n\u001b[1;32m      8\u001b[0m \u001b[38;5;28;01mfor\u001b[39;00m i \u001b[38;5;129;01min\u001b[39;00m skip_ratios:\n\u001b[0;32m----> 9\u001b[0m     \u001b[38;5;28;01mwith\u001b[39;00m \u001b[38;5;28;43mopen\u001b[39;49m\u001b[43m(\u001b[49m\u001b[38;5;124;43mf\u001b[39;49m\u001b[38;5;124;43m'\u001b[39;49m\u001b[38;5;124;43m./outputs/detection_estimation_pipeline_\u001b[39;49m\u001b[38;5;132;43;01m{\u001b[39;49;00m\u001b[43mi\u001b[49m\u001b[38;5;132;43;01m}\u001b[39;49;00m\u001b[38;5;124;43m.json\u001b[39;49m\u001b[38;5;124;43m'\u001b[39;49m\u001b[43m)\u001b[49m \u001b[38;5;28;01mas\u001b[39;00m benchmark_file:\n\u001b[1;32m     10\u001b[0m         benchmark_content \u001b[38;5;241m=\u001b[39m benchmark_file\u001b[38;5;241m.\u001b[39mread()\n\u001b[1;32m     12\u001b[0m     parsed_json \u001b[38;5;241m=\u001b[39m json\u001b[38;5;241m.\u001b[39mloads(benchmark_content)\n",
      "\u001b[0;31mFileNotFoundError\u001b[0m: [Errno 2] No such file or directory: './outputs/detection_estimation_pipeline_1.json'"
     ]
    }
   ],
   "source": [
    "skip_ratios = [i for i in range(1, 10)]\n",
    "all_obj_total_runtimes = []\n",
    "all_obj_avg_runtimes = []\n",
    "all_obj_strong_sort_runtimes = []\n",
    "only_car_total_runtimes = []\n",
    "only_car_avg_runtimes = []\n",
    "only_car_strong_sort_runtimes = []\n",
    "for i in skip_ratios:\n",
    "    with open(f'./outputs/detection_estimation_pipeline_{i}.json') as benchmark_file:\n",
    "        benchmark_content = benchmark_file.read()\n",
    "\n",
    "    parsed_json = json.loads(benchmark_content)\n",
    "    all_obj_total_runtimes.append(parsed_json[0]['total_runtime'])\n",
    "    all_obj_avg_runtimes.append(parsed_json[1]['average runtime'])\n",
    "    all_obj_stage_runtimes = parsed_json[0]['staged_runtimes']\n",
    "    for stage_runtime in all_obj_stage_runtimes:\n",
    "        if stage_runtime['stage'] == 'Tracking2D.StrongSORT':\n",
    "            all_obj_strong_sort_runtimes.append(sum([r['runtime'] for r in stage_runtime['runtimes']]))\n",
    "\n",
    "    with open(f'./outputs/detection_estimation_pipeline_{i}_only_car.json') as benchmark_file:\n",
    "        benchmark_content = benchmark_file.read()\n",
    "\n",
    "    parsed_json = json.loads(benchmark_content)\n",
    "    only_car_total_runtimes.append(parsed_json[0]['total_runtime'])\n",
    "    only_car_avg_runtimes.append(parsed_json[1]['average runtime'])\n",
    "    only_car_stage_runetimes = parsed_json[0]['staged_runtimes']\n",
    "    for stage_runtime in only_car_stage_runetimes:\n",
    "        if stage_runtime['stage'] == 'Tracking2D.StrongSORT':\n",
    "            only_car_strong_sort_runtimes.append(sum([r['runtime'] for r in stage_runtime['runtimes']]))\n",
    "\n",
    "print(all_obj_total_runtimes)\n",
    "print(all_obj_avg_runtimes)\n",
    "print(only_car_total_runtimes)\n",
    "print(only_car_avg_runtimes)\n",
    "print(all_obj_strong_sort_runtimes)\n",
    "print(only_car_strong_sort_runtimes)"
   ]
  },
  {
   "cell_type": "code",
   "execution_count": null,
   "id": "56c4643e",
   "metadata": {},
   "outputs": [],
   "source": [
    "import matplotlib.pyplot as plt\n",
    "print(f'number of videos {num_videos}')\n",
    "fig, ax = plt.subplots()\n",
    "ax.plot(skip_ratios, len(skip_ratios)*[baseline_total_runtime], label='baseline')\n",
    "ax.plot(skip_ratios, all_obj_total_runtimes, label='all obj')\n",
    "ax.plot(skip_ratios, only_car_total_runtimes, label='only car')\n",
    "legend = ax.legend(loc='upper center', shadow=True)\n",
    "plt.ylabel('total run time')\n",
    "plt.show()"
   ]
  },
  {
   "cell_type": "code",
   "execution_count": null,
   "id": "8a81e44a",
   "metadata": {},
   "outputs": [],
   "source": [
    "import matplotlib.pyplot as plt\n",
    "print(f'number of videos {num_videos}')\n",
    "fig, ax = plt.subplots()\n",
    "ax.plot(skip_ratios, len(skip_ratios)*[baseline_total_runtime/baseline_total_runtime], label='baseline')\n",
    "ax.plot(skip_ratios, [e/baseline_total_runtime for e in all_obj_total_runtimes], label='all obj')\n",
    "ax.plot(skip_ratios, [e/baseline_total_runtime for e in only_car_total_runtimes], label='only car')\n",
    "legend = ax.legend(loc='upper center', shadow=True)\n",
    "plt.ylabel('total run time/baseline total run time')\n",
    "plt.show()"
   ]
  },
  {
   "cell_type": "code",
   "execution_count": null,
   "id": "cacc43bc",
   "metadata": {},
   "outputs": [],
   "source": [
    "import matplotlib.pyplot as plt\n",
    "print(f'number of videos {num_videos}')\n",
    "fig, ax = plt.subplots()\n",
    "ax.plot(skip_ratios, len(skip_ratios)*[baseline_avg_runtime], label='baseline')\n",
    "ax.plot(skip_ratios, all_obj_avg_runtimes, label='all obj')\n",
    "ax.plot(skip_ratios, only_car_avg_runtimes, label='only car')\n",
    "legend = ax.legend(loc='upper center', shadow=True)\n",
    "plt.ylabel('avg run time')\n",
    "plt.show()"
   ]
  },
  {
   "cell_type": "code",
   "execution_count": null,
   "id": "6b8cb8b9",
   "metadata": {},
   "outputs": [],
   "source": [
    "import matplotlib.pyplot as plt\n",
    "print(f'number of videos {num_videos}')\n",
    "fig, ax = plt.subplots()\n",
    "ax.plot(skip_ratios, len(skip_ratios)*[baseline_strong_sort_runetime], label='baseline')\n",
    "ax.plot(skip_ratios, all_obj_strong_sort_runetime, label='all obj')\n",
    "ax.plot(skip_ratios, only_car_strong_sort_runetime, label='only car')\n",
    "legend = ax.legend(loc='upper center', shadow=True)\n",
    "plt.ylabel('strongsort run time')\n",
    "plt.show()"
   ]
  }
 ],
 "metadata": {
  "kernelspec": {
   "display_name": "Python 3 (ipykernel)",
   "language": "python",
   "name": "python3"
  },
  "language_info": {
   "codemirror_mode": {
    "name": "ipython",
    "version": 3
   },
   "file_extension": ".py",
   "mimetype": "text/x-python",
   "name": "python",
   "nbconvert_exporter": "python",
   "pygments_lexer": "ipython3",
   "version": "3.10.6"
  },
  "vscode": {
   "interpreter": {
    "hash": "31f2aee4e71d21fbe5cf8b01ff0e069b9275f58929596ceb00d14d90e3e16cd6"
   }
  }
 },
 "nbformat": 4,
 "nbformat_minor": 5
}
