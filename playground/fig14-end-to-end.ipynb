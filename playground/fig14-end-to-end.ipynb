{
 "cells": [
  {
   "cell_type": "code",
   "execution_count": null,
   "id": "c5c9badc",
   "metadata": {
    "execution": {
     "iopub.execute_input": "2022-12-08T00:15:43.617706Z",
     "iopub.status.busy": "2022-12-08T00:15:43.616466Z",
     "iopub.status.idle": "2022-12-08T00:15:48.654505Z",
     "shell.execute_reply": "2022-12-08T00:15:48.653531Z"
    }
   },
   "outputs": [],
   "source": [
    "%cd ..\n",
    "import os\n",
    "import time"
   ]
  },
  {
   "cell_type": "code",
   "execution_count": null,
   "id": "152abe6c",
   "metadata": {},
   "outputs": [],
   "source": [
    "from apperception.database import database\n",
    "from apperception.world import empty_world\n",
    "from apperception.utils import F\n",
    "from apperception.predicate import camera, objects\n",
    "from optimized_ingestion.utils.preprocess import preprocess\n",
    "database.connection\n",
    "from optimized_ingestion.cache import disable_cache\n",
    "disable_cache()"
   ]
  },
  {
   "cell_type": "code",
   "execution_count": null,
   "id": "066065fc",
   "metadata": {},
   "outputs": [],
   "source": [
    "NUSCENES_PROCESSED_DATA_FULL = \"NUSCENES_PROCESSED_DATA_FULL\"\n",
    "if NUSCENES_PROCESSED_DATA_FULL in os.environ:\n",
    "    DATA_DIR = os.environ[NUSCENES_PROCESSED_DATA_FULL]\n",
    "else:\n",
    "    DATA_DIR = \"/data/apperception-data/processed/nuscenes/full-dataset-v1.0/Trainval\"\n",
    "NUSCENES_RAW_DATA_FULL = \"NUSCENES_RAW_DATA_FULL\"\n",
    "if NUSCENES_RAW_DATA_FULL in os.environ:\n",
    "    RAW_DATA_DIR = os.environ[NUSCENES_RAW_DATA_FULL]\n",
    "else:\n",
    "    RAW_DATA_DIR = \"/work/apperception/data/raw/nuScenes/full-dataset-v1.0/Trainval\""
   ]
  },
  {
   "cell_type": "code",
   "execution_count": null,
   "id": "54d11576",
   "metadata": {},
   "outputs": [],
   "source": [
    "import cv2\n",
    "def construct_video(frames, size=(1600, 900), base=False, vid_name=None):\n",
    "    unique_frames = []\n",
    "    for f in frames:\n",
    "        if f not in unique_frames:\n",
    "            unique_frames.append(f)\n",
    "    fourcc = cv2.VideoWriter_fourcc(*'mp4v')\n",
    "    vid_name = \"./outputs/fig14_\"+vid_name if vid_name else f\"./outputs/{'fig14_base' if base else 'fig14_optimized'}.avi\"\n",
    "    display_video = cv2.VideoWriter(vid_name,fourcc, 1, size)\n",
    "    for frame in unique_frames:\n",
    "        img_path = os.path.join(RAW_DATA_DIR, frame)\n",
    "        img = cv2.imread(img_path)\n",
    "        display_video.write(img)\n",
    "\n",
    "    display_video.release()"
   ]
  },
  {
   "cell_type": "code",
   "execution_count": null,
   "id": "533a4ce8",
   "metadata": {},
   "outputs": [],
   "source": [
    "name = 'ScenicWorld' # world name\n",
    "world = empty_world(name=name)\n",
    "\n",
    "obj1 = objects[0]\n",
    "cam = camera\n",
    "world = world.filter(\n",
    "    (F.like(obj1.type, 'car') | F.like(obj1.type, 'truck') | F.like(obj1.type, 'bus')) &\n",
    "    (F.distance(cam.ego, obj1.trans@cam.timestamp) < 50) &\n",
    "    (F.view_angle(obj1.trans@cam.time, cam.ego) < 70 / 2) &\n",
    "    F.angle_between(F.facing_relative(cam.ego, F.road_direction(cam.ego, cam.ego)), -180, -90) &\n",
    "    F.contained(cam.ego, F.road_segment('road')) &\n",
    "    F.contained(obj1.trans@cam.time, F.road_segment('road')) &\n",
    "    F.angle_between(F.facing_relative(obj1.trans@cam.time, F.road_direction(obj1.traj@cam.time, cam.ego)), -15, 15) &\n",
    "    (F.distance(cam.ego, obj1.trans@cam.time) < 10)\n",
    ")"
   ]
  },
  {
   "cell_type": "code",
   "execution_count": null,
   "id": "0e9d1495",
   "metadata": {},
   "outputs": [],
   "source": [
    "preprocess(world, DATA_DIR, base=False, benchmark_path=\"./outputs/fig14_full_optimization.txt\")"
   ]
  },
  {
   "cell_type": "code",
   "execution_count": null,
   "id": "b48cc5af",
   "metadata": {},
   "outputs": [],
   "source": [
    "import shapely\n",
    "extend_line = shapely.geometry.LineString([(1190.2551876969633,921.7528591561929), (1190.9155903849717,922.50377079525)])\n",
    "polygon_points = list(map(shapely.geometry.Point, [(1218.119877490335, 950.0193724149779), (1218.0194019524067, 949.7184794265356), (1217.7629714489142, 947.9125798056587), (1214.2723391730558, 943.6692407213698), (1187.9419320255877, 929.5604088522862), (1188.5609617879406, 929.8039367181402), (1211.1843021612417, 955.7313308551293), (1211.4738751317575, 956.048997716631), (1213.8033793080144, 953.7450882131476), (1216.2430133445678, 951.4612151907936), (1217.429678325924, 950.4265496073891), (1218.119877490335, 950.0193724149779)]))\n",
    "polygon = shapely.geometry.Polygon(polygon_points)\n",
    "polygon.contains(shapely.geometry.Point((1185.38623046875, 919.1126708984375)))"
   ]
  },
  {
   "cell_type": "code",
   "execution_count": null,
   "id": "f9066684",
   "metadata": {},
   "outputs": [],
   "source": [
    "optimized_query_start = time.time()\n",
    "id_time_camId_filename = world.get_id_time_camId_filename(1)\n",
    "print(f'optimized query time: {time.time()-optimized_query_start}')"
   ]
  },
  {
   "cell_type": "code",
   "execution_count": null,
   "id": "fa63b7dd",
   "metadata": {},
   "outputs": [],
   "source": [
    "id_time_camId_filename"
   ]
  },
  {
   "cell_type": "code",
   "execution_count": null,
   "id": "3d2c3459",
   "metadata": {},
   "outputs": [],
   "source": [
    "optimized_results = [e[3] for e in id_time_camId_filename]\n",
    "construct_video(optimized_results)"
   ]
  },
  {
   "cell_type": "code",
   "execution_count": null,
   "id": "c749a878",
   "metadata": {},
   "outputs": [],
   "source": [
    "preprocess(world, DATA_DIR, ['scene-0769-CAM_FRONT'])\n"
   ]
  },
  {
   "cell_type": "code",
   "execution_count": null,
   "id": "65e0355c",
   "metadata": {},
   "outputs": [],
   "source": [
    "base_query_start = time.time()\n",
    "id_time_camId_filename_base = world.get_id_time_camId_filename(1)\n",
    "print(f'base query time: {time.time()-base_query_start}')"
   ]
  },
  {
   "cell_type": "code",
   "execution_count": null,
   "id": "a256fe62",
   "metadata": {},
   "outputs": [],
   "source": [
    "id_time_camId_filename_base"
   ]
  },
  {
   "cell_type": "code",
   "execution_count": null,
   "id": "469cee14",
   "metadata": {},
   "outputs": [],
   "source": [
    "base_results = [e[3] for e in id_time_camId_filename_base]\n",
    "construct_video(base_results, base=True)"
   ]
  },
  {
   "cell_type": "code",
   "execution_count": null,
   "id": "05df2df9",
   "metadata": {},
   "outputs": [],
   "source": [
    "base_results"
   ]
  },
  {
   "cell_type": "code",
   "execution_count": null,
   "id": "0435d503",
   "metadata": {},
   "outputs": [],
   "source": [
    "false_negative = [f for f in base_results if f not in optimized_results]\n",
    "print(len(false_negative))\n",
    "construct_video(false_negative, vid_name=\"false_negative.avi\")"
   ]
  },
  {
   "cell_type": "code",
   "execution_count": null,
   "id": "d0fcdfc5",
   "metadata": {},
   "outputs": [],
   "source": [
    "false_positive = [f for f in optimized_results if f not in base_results]\n",
    "print(len(false_positive))\n",
    "construct_video(false_positive, vid_name=\"false_positive.avi\")"
   ]
  },
  {
   "cell_type": "code",
   "execution_count": null,
   "id": "22661168",
   "metadata": {},
   "outputs": [],
   "source": [
    "investigation = [[217, 1205.0, 198.0, 391.0, 525.0], [104, 1198.0, 192.0, 390.0, 520.0]]"
   ]
  },
  {
   "cell_type": "code",
   "execution_count": null,
   "id": "8fb4a28e",
   "metadata": {},
   "outputs": [],
   "source": [
    "import matplotlib.pyplot as plt\n",
    "import matplotlib.patches as patches\n",
    "from PIL import Image\n",
    "\n",
    "im = Image.open('/work/apperception/data/raw/nuScenes/full-dataset-v1.0/Trainval/sweeps/CAM_FRONT/n008-2018-08-30-15-16-55-0400__CAM_FRONT__1535657490862404.jpg')\n",
    "\n",
    "# Create figure and axes\n",
    "fig, ax = plt.subplots()\n",
    "\n",
    "# Display the image\n",
    "ax.imshow(im)\n",
    "\n",
    "# Create a Rectangle patch\n",
    "for obj in investigation:\n",
    "    obj_id = obj[0]\n",
    "    x,y,w,h = obj[1:5]\n",
    "    plt.text(x, y+15, 'obj'+str(obj_id))\n",
    "    rect = patches.Rectangle((x, y), w, h, linewidth=1, edgecolor='r', facecolor='none')\n",
    "\n",
    "    # Add the patch to the Axes\n",
    "    ax.add_patch(rect)\n",
    "\n",
    "plt.show()"
   ]
  },
  {
   "cell_type": "code",
   "execution_count": null,
   "id": "f98facc1",
   "metadata": {},
   "outputs": [],
   "source": []
  }
 ],
 "metadata": {
  "kernelspec": {
   "display_name": "Python 3 (ipykernel)",
   "language": "python",
   "name": "python3"
  },
  "language_info": {
   "codemirror_mode": {
    "name": "ipython",
    "version": 3
   },
   "file_extension": ".py",
   "mimetype": "text/x-python",
   "name": "python",
   "nbconvert_exporter": "python",
   "pygments_lexer": "ipython3",
   "version": "3.10.8"
  },
  "vscode": {
   "interpreter": {
    "hash": "31f2aee4e71d21fbe5cf8b01ff0e069b9275f58929596ceb00d14d90e3e16cd6"
   }
  }
 },
 "nbformat": 4,
 "nbformat_minor": 5
}
