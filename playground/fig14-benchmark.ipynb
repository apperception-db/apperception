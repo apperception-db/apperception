{
 "cells": [
  {
   "cell_type": "code",
   "execution_count": null,
   "id": "5d0f59d0",
   "metadata": {},
   "outputs": [],
   "source": [
    "### FIG 14 ###\n",
    "# offset = Uniform(-1, 1) * Range(90, 180) deg\n",
    "\n",
    "# ego = Car on drivableRoad,\n",
    "#         facing offset relative to roadDirection,\n",
    "#         with visibleDistance 50,\n",
    "#         with viewAngle 135 deg\n",
    "\n",
    "# otherCar = Car on visible road,\n",
    "#             facing Range(-15, 15) deg relative to roadDirection\n",
    "\n",
    "# require (distance from ego to otherCar) < 10"
   ]
  },
  {
   "cell_type": "code",
   "execution_count": null,
   "id": "9c657998",
   "metadata": {},
   "outputs": [],
   "source": [
    "%cd .."
   ]
  },
  {
   "cell_type": "code",
   "execution_count": null,
   "id": "c5c9badc",
   "metadata": {
    "execution": {
     "iopub.execute_input": "2022-12-08T00:15:43.617706Z",
     "iopub.status.busy": "2022-12-08T00:15:43.616466Z",
     "iopub.status.idle": "2022-12-08T00:15:48.654505Z",
     "shell.execute_reply": "2022-12-08T00:15:48.653531Z"
    }
   },
   "outputs": [],
   "source": [
    "import json\n",
    "import os\n",
    "import pickle\n",
    "\n",
    "from optimized_ingestion.camera_config import camera_config\n",
    "from optimized_ingestion.payload import Payload\n",
    "from optimized_ingestion.pipeline import Pipeline\n",
    "from optimized_ingestion.stages.in_view import InView\n",
    "from optimized_ingestion.stages.decode_frame.parallel_decode_frame import ParallelDecodeFrame\n",
    "from optimized_ingestion.stages.decode_frame.decode_frame import DecodeFrame\n",
    "from optimized_ingestion.stages.detection_2d.yolo_detection import YoloDetection\n",
    "from optimized_ingestion.stages.filter_car_facing_sideway import FilterCarFacingSideway\n",
    "from optimized_ingestion.stages.detection_estimation import DetectionEstimation\n",
    "from optimized_ingestion.stages.tracking_2d.strongsort import StrongSORT\n",
    "# from optimized_ingestion.stages.tracking_2d.optimized_strongsort import OptimizedStrongSORT\n",
    "from optimized_ingestion.stages.tracking_2d.tracking_2d import Tracking2D\n",
    "from optimized_ingestion.stages.detection_3d.from_2d_and_road import From2DAndRoad\n",
    "from optimized_ingestion.stages.tracking_3d.tracking_3d import Tracking3DResult\n",
    "# from optimized_ingestion.trackers.yolov5_strongsort_osnet_tracker import TrackingResult\n",
    "from optimized_ingestion.video import Video"
   ]
  },
  {
   "cell_type": "code",
   "execution_count": null,
   "id": "de25e32e",
   "metadata": {
    "execution": {
     "iopub.execute_input": "2022-12-08T00:15:48.659668Z",
     "iopub.status.busy": "2022-12-08T00:15:48.658779Z",
     "iopub.status.idle": "2022-12-08T00:15:48.665516Z",
     "shell.execute_reply": "2022-12-08T00:15:48.664359Z"
    }
   },
   "outputs": [],
   "source": [
    "from optimized_ingestion.cache import disable_cache\n",
    "disable_cache()"
   ]
  },
  {
   "cell_type": "code",
   "execution_count": null,
   "id": "75cd29a3",
   "metadata": {
    "execution": {
     "iopub.execute_input": "2022-12-08T00:15:48.668913Z",
     "iopub.status.busy": "2022-12-08T00:15:48.668713Z",
     "iopub.status.idle": "2022-12-08T00:15:48.684542Z",
     "shell.execute_reply": "2022-12-08T00:15:48.683533Z"
    }
   },
   "outputs": [],
   "source": [
    "BOSTON_VIDEOS = [\n",
    "#     \"scene-0757-CAM_FRONT\",\n",
    "    # \"scene-0103-CAM_FRONT\",\n",
    "#     \"scene-0553-CAM_FRONT\",\n",
    "    # \"scene-0665-CAM_FRONT\",\n",
    "#     \"scene-0655-CAM_FRONT\",\n",
    "#     \"scene-0655-CAM_FRONT_RIGHT\",\n",
    "#     \"scene-0655-CAM_BACK_RIGHT\",\n",
    "#     \"scene-0553-CAM_FRONT_LEFT\"\n",
    "#     \"scene-0103-CAM_FRONT\"\n",
    "]\n",
    "\n",
    "NUSCENES_PROCESSED_DATA = \"NUSCENES_PROCESSED_DATA\""
   ]
  },
  {
   "cell_type": "code",
   "execution_count": null,
   "id": "436432cc",
   "metadata": {
    "execution": {
     "iopub.execute_input": "2022-12-08T00:15:48.688863Z",
     "iopub.status.busy": "2022-12-08T00:15:48.688453Z",
     "iopub.status.idle": "2022-12-08T01:24:00.217546Z",
     "shell.execute_reply": "2022-12-08T01:24:00.215827Z"
    }
   },
   "outputs": [],
   "source": [
    "from optimized_ingestion.stages.detection_estimation.utils import compute_distance\n",
    "pipeline = Pipeline()\n",
    "pipeline.add_filter(filter=ParallelDecodeFrame())\n",
    "pipeline.add_filter(filter=YoloDetection())\n",
    "\n",
    "pipeline.add_filter(filter=From2DAndRoad())\n",
    "pipeline.add_filter(filter=DetectionEstimation(\n",
    "    lambda x: compute_distance(x.car_loc3d, x.ego_config.ego_translation) < 10))  # 5 Frame p Second\n",
    "pipeline.add_filter(filter=StrongSORT())  # 2 Frame p Second\n",
    "\n",
    "# pipeline.add_filter(filter=From2DAndRoad())\n",
    "# pipeline.add_filter(filter=FilterCarFacingSideway())\n",
    "\n",
    "if NUSCENES_PROCESSED_DATA in os.environ:\n",
    "    DATA_DIR = os.environ[NUSCENES_PROCESSED_DATA]\n",
    "else:\n",
    "    DATA_DIR = \"/work/apperception/data/nuScenes/full-dataset-v1.0/Mini\"\n",
    "with open(os.path.join(DATA_DIR, \"videos/boston-seaport\", \"frames.pickle\"), \"rb\") as f:\n",
    "    videos = pickle.load(f)\n",
    "\n",
    "num_video = 0\n",
    "for name, video in videos.items():\n",
    "#     if name not in BOSTON_VIDEOS:\n",
    "#         continue\n",
    "#     if not name.endswith('CAM_FRONT'):\n",
    "#         continue\n",
    "    if 'CAM_FRONT' not in name:\n",
    "        continue\n",
    "\n",
    "    print(name, '--------------------------------------------------------------------------------')\n",
    "    frames = Video(\n",
    "        os.path.join(DATA_DIR, \"videos/boston-seaport\", video[\"filename\"]),\n",
    "        [camera_config(*f, 0) for f in video[\"frames\"]],\n",
    "        video[\"start\"],\n",
    "    )\n",
    "\n",
    "    output = pipeline.run(Payload(frames))\n",
    "    num_video += 1\n",
    "\n",
    "total_runtime = 0\n",
    "stage_runtimes = []\n",
    "with_estimation_benchmarks = []\n",
    "for stage in pipeline.stages:\n",
    "    stage_runtimes.append({\n",
    "        \"stage\": stage.classname(),\n",
    "        \"runtimes\": stage.runtimes,\n",
    "    })\n",
    "    total_runtime += sum([run['runtime'] for run in stage.runtimes])\n",
    "\n",
    "with_estimation_benchmarks.append({\n",
    "    'stage_runtimes': stage_runtimes,\n",
    "    'total_runtime': total_runtime\n",
    "})\n",
    "if num_video:\n",
    "    with_estimation_benchmarks.append({'average runtime': sum([b['total_runtime'] for b in with_estimation_benchmarks])/num_video})\n"
   ]
  },
  {
   "cell_type": "code",
   "execution_count": null,
   "id": "6a3b2308",
   "metadata": {},
   "outputs": [],
   "source": [
    "with open(\"./outputs/fig14_with_optimization.txt\", \"w\") as f3:\n",
    "    json.dump(with_estimation_benchmarks, f3)"
   ]
  },
  {
   "cell_type": "code",
   "execution_count": null,
   "id": "b2e91fc0",
   "metadata": {},
   "outputs": [],
   "source": [
    "without_estimation_pipeline = Pipeline()\n",
    "without_estimation_pipeline.add_filter(filter=ParallelDecodeFrame())\n",
    "without_estimation_pipeline.add_filter(filter=YoloDetection())\n",
    "\n",
    "without_estimation_pipeline.add_filter(filter=From2DAndRoad())\n",
    "without_estimation_pipeline.add_filter(filter=StrongSORT())  # 2 Frame p Second\n",
    "\n",
    "# pipeline.add_filter(filter=From2DAndRoad())\n",
    "# pipeline.add_filter(filter=FilterCarFacingSideway())\n",
    "\n",
    "if NUSCENES_PROCESSED_DATA in os.environ:\n",
    "    DATA_DIR = os.environ[NUSCENES_PROCESSED_DATA]\n",
    "else:\n",
    "    DATA_DIR = \"/work/apperception/data/nuScenes/full-dataset-v1.0/Mini\"\n",
    "with open(os.path.join(DATA_DIR, \"videos/boston-seaport\", \"frames.pickle\"), \"rb\") as f:\n",
    "    videos = pickle.load(f)\n",
    "\n",
    "num_video = 0\n",
    "for name, video in videos.items():\n",
    "#     if name not in BOSTON_VIDEOS:\n",
    "#         continue\n",
    "#     if not name.endswith('CAM_FRONT'):\n",
    "#         continue\n",
    "    if 'CAM_FRONT' not in name:\n",
    "        continue\n",
    "\n",
    "    print(name, '--------------------------------------------------------------------------------')\n",
    "    frames = Video(\n",
    "        os.path.join(DATA_DIR, \"videos/boston-seaport\", video[\"filename\"]),\n",
    "        [camera_config(*f, 0) for f in video[\"frames\"]],\n",
    "        video[\"start\"],\n",
    "    )\n",
    "\n",
    "    output = without_estimation_pipeline.run(Payload(frames))\n",
    "    num_video += 1\n",
    "\n",
    "total_runtime = 0\n",
    "stage_runtimes = []\n",
    "without_estimation_benchmarks = []\n",
    "for stage in without_estimation_pipeline.stages:\n",
    "    stage_runtimes.append({\n",
    "        \"stage\": stage.classname(),\n",
    "        \"runtimes\": stage.runtimes,\n",
    "    })\n",
    "    total_runtime += sum([run['runtime'] for run in stage.runtimes])\n",
    "\n",
    "without_estimation_benchmarks.append({\n",
    "    'stage_runtimes': stage_runtimes,\n",
    "    'total_runtime': total_runtime\n",
    "})\n",
    "if num_video:\n",
    "    without_estimation_benchmarks.append({'average runtime': sum([b['total_runtime'] for b in without_estimation_benchmarks])/num_video})"
   ]
  },
  {
   "cell_type": "code",
   "execution_count": null,
   "id": "1ccf5b48",
   "metadata": {},
   "outputs": [],
   "source": [
    "with open(\"./outputs/fig14_without_optimization.txt\", \"w\") as f3:\n",
    "    json.dump(without_estimation_benchmarks, f3)"
   ]
  },
  {
   "cell_type": "code",
   "execution_count": null,
   "id": "aac61634",
   "metadata": {},
   "outputs": [],
   "source": []
  }
 ],
 "metadata": {
  "kernelspec": {
   "display_name": "Python 3 (ipykernel)",
   "language": "python",
   "name": "python3"
  },
  "language_info": {
   "codemirror_mode": {
    "name": "ipython",
    "version": 3
   },
   "file_extension": ".py",
   "mimetype": "text/x-python",
   "name": "python",
   "nbconvert_exporter": "python",
   "pygments_lexer": "ipython3",
   "version": "3.10.6"
  }
 },
 "nbformat": 4,
 "nbformat_minor": 5
}
