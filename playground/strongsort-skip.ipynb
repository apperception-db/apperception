{
 "cells": [
  {
   "cell_type": "code",
   "execution_count": null,
   "id": "0a1a67f9-c160-434d-97b3-bd8d3326458c",
   "metadata": {
    "ExecuteTime": {
     "end_time": "2023-04-10T11:10:24.580691Z",
     "start_time": "2023-04-10T11:10:23.974473Z"
    },
    "tags": []
   },
   "outputs": [],
   "source": [
    "import json\n",
    "import subprocess\n",
    "import os\n",
    "\n",
    "import altair as alt\n",
    "import pandas as pd\n",
    "from tqdm.notebook import tqdm"
   ]
  },
  {
   "cell_type": "code",
   "execution_count": null,
   "id": "0ed1d6f8-a7ef-4aaa-b6c0-8632c938f59c",
   "metadata": {
    "ExecuteTime": {
     "end_time": "2023-04-10T11:10:24.607951Z",
     "start_time": "2023-04-10T11:10:24.582553Z"
    },
    "tags": []
   },
   "outputs": [],
   "source": [
    "# alt.data_transformers.enable('csv')\n",
    "alt.data_transformers.disable_max_rows()"
   ]
  },
  {
   "cell_type": "code",
   "execution_count": null,
   "id": "758defe1-2f25-4be2-b207-b22ee660d9ca",
   "metadata": {
    "ExecuteTime": {
     "end_time": "2023-04-10T11:10:24.622915Z",
     "start_time": "2023-04-10T11:10:24.582553Z"
    },
    "tags": []
   },
   "outputs": [],
   "source": [
    "ips = [\n",
    "    \"34.69.104.150\",\n",
    "    \"34.171.40.202\",\n",
    "    \"104.154.225.158\",\n",
    "    \"35.222.168.210\",\n",
    "    \"34.132.141.156\",\n",
    "]"
   ]
  },
  {
   "cell_type": "code",
   "execution_count": null,
   "id": "a00c8011-ff15-438a-9a7e-5a2131862d4e",
   "metadata": {
    "ExecuteTime": {
     "end_time": "2023-04-10T11:10:24.703479Z",
     "start_time": "2023-04-10T11:10:24.603889Z"
    },
    "tags": []
   },
   "outputs": [],
   "source": [
    "# for i, ip in tqdm(enumerate(ips)):\n",
    "#     path = f'../outputs/ss-skip'\n",
    "#     if not os.path.exists(path):\n",
    "#         os.makedirs(path)\n",
    "#     process = subprocess.Popen(f'scp -r -o StrictHostKeyChecking=no -o UserKnownHostsFile=/dev/null chanwutk@{ip}:\"/home/chanwutk/Documents/apperception/outputs/run/*\" {path}', shell=True)\n",
    "#     process.wait()"
   ]
  },
  {
   "cell_type": "code",
   "execution_count": null,
   "id": "a177af2f-2193-46c5-ac99-3b1387e7ee15",
   "metadata": {
    "ExecuteTime": {
     "end_time": "2023-04-10T11:10:24.788060Z",
     "start_time": "2023-04-10T11:10:24.624037Z"
    },
    "tags": []
   },
   "outputs": [],
   "source": [
    "DATA_DIR = '../outputs/ss-skip'\n",
    "runs = [f'/run-{i}' for i in range(len(ips))]"
   ]
  },
  {
   "cell_type": "code",
   "execution_count": null,
   "id": "810c9b80-9a8e-4e35-9d56-98c8f0146115",
   "metadata": {
    "ExecuteTime": {
     "end_time": "2023-04-10T11:10:24.854724Z",
     "start_time": "2023-04-10T11:10:24.656098Z"
    },
    "tags": []
   },
   "outputs": [],
   "source": [
    "failed_videos = {}\n",
    "for run in runs:\n",
    "    for f in os.listdir(DATA_DIR):\n",
    "        if not f.startswith('failed_videos'):\n",
    "            continue\n",
    "\n",
    "        with open(os.path.join(DATA_DIR, f), 'r') as _f:\n",
    "            content = json.load(_f)\n",
    "\n",
    "        name = f[len('failed_videos--'):-len('.json')]\n",
    "        failed_videos[name] = []\n",
    "        for v_name, err in content:\n",
    "            failed_videos[name].append(v_name)\n",
    "failed_videos"
   ]
  },
  {
   "cell_type": "code",
   "execution_count": null,
   "id": "aaa4dd81-0e2e-45d8-9995-871cd444f93a",
   "metadata": {
    "ExecuteTime": {
     "end_time": "2023-04-10T11:10:24.945773Z",
     "start_time": "2023-04-10T11:10:24.720571Z"
    },
    "tags": []
   },
   "outputs": [],
   "source": [
    "stage_order = [\n",
    "    'InView', 'DecodeFrame', 'Detection2D.YoloDetection', 'Detection2D.ObjectTypeFilter',\n",
    "    'DepthEstimation', 'Detection3D.FromDetection2DAndDepth', 'Detection3D.FromDetection2DAndRoad',\n",
    "    'DetectionEstimation', 'Tracking2D.StrongSORT', 'Tracking3D.FromTracking2DAndDepth',\n",
    "    'Tracking3D.FromTracking2DAndRoad', 'SegmentTrajectory.FromTracking3D'\n",
    "]\n",
    "\n",
    "test_names = {\n",
    "    'de': 'Only Detection Estimation',\n",
    "    'noopt': 'Baseline',\n",
    "    'inview': 'Only In-View',\n",
    "    'geo': 'Only Geo Depth Estimation',\n",
    "    'objectfilter': 'Only Object Filter',\n",
    "    'opt': 'Optimized',\n",
    "    'optde': 'Optimized with Detection Estimation'\n",
    "}\n",
    "\n",
    "test_order = [\n",
    "    'noopt',\n",
    "    'inview',\n",
    "    'objectfilter',\n",
    "    'geo',\n",
    "    'de',\n",
    "    'opt',\n",
    "    'optde'\n",
    "]"
   ]
  },
  {
   "cell_type": "code",
   "execution_count": null,
   "id": "a77d81f9-0bc8-4ba4-878b-2db0f2218b38",
   "metadata": {
    "ExecuteTime": {
     "end_time": "2023-04-10T11:10:25.841741Z",
     "start_time": "2023-04-10T11:10:24.720571Z"
    },
    "tags": []
   },
   "outputs": [],
   "source": [
    "def combine_perf():\n",
    "    data = []\n",
    "    for filename in os.listdir(DATA_DIR):\n",
    "        if filename.startswith('perf'):\n",
    "            test, run = filename.split(\"--\")[1].split(\".\")[0].split(\"_\")\n",
    "            with open(os.path.join(DATA_DIR, filename), 'r') as f:\n",
    "                for stage in json.load(f):\n",
    "                    stagename = stage['stage']\n",
    "                    for b in stage['benchmark']:\n",
    "                        after, before = b['keep']\n",
    "                        assert after <= before\n",
    "                        skip = (1. - (after / before)) if before != 0 else 0\n",
    "                        data.append({\n",
    "                            **b,\n",
    "                            'stage': (stagename\n",
    "                                      .replace('Detection2D', 'D2D')\n",
    "                                      .replace('Detection3D', 'D3D')\n",
    "                                      .replace('Tracking2D', 'T2D')\n",
    "                                      .replace('Tracking3D', 'T3D')\n",
    "                                      .replace('SegmentTrajectory', 'ST')),\n",
    "                            '_test': test,\n",
    "                            'test': test,\n",
    "                            # 'test': test_names[test],\n",
    "                            # 'test_order': test_order.index(test),\n",
    "                            'run': run,\n",
    "                            'name': b['name'].split('/')[-1].split('.')[0],\n",
    "                            'skip': skip,\n",
    "                            # 'stage_order': stage_order.index(stagename)\n",
    "                        })\n",
    "    return data\n",
    "\n",
    "\n",
    "perf = combine_perf()"
   ]
  },
  {
   "cell_type": "code",
   "execution_count": null,
   "id": "2ed7434b-f1c2-45e6-ae17-bce6c5397645",
   "metadata": {
    "ExecuteTime": {
     "end_time": "2023-04-10T11:10:25.860096Z",
     "start_time": "2023-04-10T11:10:25.845116Z"
    },
    "tags": []
   },
   "outputs": [],
   "source": [
    "# with open('./output/perf.json', 'w') as f:\n",
    "#     json.dump([p for p in perf if p['run'] == \"0\"], f, indent=1)"
   ]
  },
  {
   "cell_type": "code",
   "execution_count": null,
   "id": "69a5b67c-5da6-46f0-a733-7d08e736e9cd",
   "metadata": {
    "ExecuteTime": {
     "end_time": "2023-04-10T11:10:25.957554Z",
     "start_time": "2023-04-10T11:10:25.878075Z"
    },
    "tags": []
   },
   "outputs": [],
   "source": [
    "len([p for p in perf if p['run'] == \"0\"])"
   ]
  },
  {
   "cell_type": "code",
   "execution_count": null,
   "id": "abb81632-00d9-4ad6-a943-f07e17ba5e35",
   "metadata": {
    "ExecuteTime": {
     "end_time": "2023-04-10T11:10:25.962251Z",
     "start_time": "2023-04-10T11:10:25.924955Z"
    },
    "tags": []
   },
   "outputs": [],
   "source": [
    "perf[0]"
   ]
  },
  {
   "cell_type": "code",
   "execution_count": null,
   "id": "e90c37c4-bfd4-4919-adab-86157be08a5d",
   "metadata": {
    "ExecuteTime": {
     "end_time": "2023-04-10T11:10:25.970263Z",
     "start_time": "2023-04-10T11:10:25.924955Z"
    },
    "tags": []
   },
   "outputs": [],
   "source": [
    "for name, videos in failed_videos.items():\n",
    "    if len(videos) != 0:\n",
    "        print(name, videos)"
   ]
  },
  {
   "cell_type": "code",
   "execution_count": null,
   "id": "e5b72aa0-9829-4bbc-94ca-22f554c8b04a",
   "metadata": {
    "ExecuteTime": {
     "end_time": "2023-04-10T11:10:26.261378Z",
     "start_time": "2023-04-10T11:10:25.924955Z"
    },
    "tags": []
   },
   "outputs": [],
   "source": [
    "df_perf = pd.DataFrame.from_dict(perf)\n",
    "# df_perf = df_perf[df_perf['run'] == \"0\"]\n",
    "df_perf[:10]"
   ]
  },
  {
   "cell_type": "code",
   "execution_count": null,
   "id": "17d0a7af-f015-4957-ba45-4abceb67f84c",
   "metadata": {
    "ExecuteTime": {
     "end_time": "2023-04-10T11:10:26.438729Z",
     "start_time": "2023-04-10T11:10:26.230075Z"
    },
    "tags": []
   },
   "outputs": [],
   "source": [
    "df_perf.groupby(['test', 'stage'])[['name']].count()"
   ]
  },
  {
   "cell_type": "code",
   "execution_count": null,
   "id": "535fdf05-8bff-469c-b4ef-17ed5a561de2",
   "metadata": {
    "ExecuteTime": {
     "end_time": "2023-04-10T11:10:29.417055Z",
     "start_time": "2023-04-10T11:10:26.341874Z"
    },
    "tags": []
   },
   "outputs": [],
   "source": [
    "(alt.Chart(df_perf)\n",
    "    .mark_bar()\n",
    "    .encode(\n",
    "        x='average(runtime)',\n",
    "        y=alt.Y('test:O', sort=alt.Sort({'field': 'test_order'})),\n",
    "        color=alt.Color('stage:N', sort=stage_order),\n",
    "        order=alt.Order('order:O')\n",
    "    )\n",
    "    .properties(height=300, width=800)\n",
    ")"
   ]
  },
  {
   "cell_type": "code",
   "execution_count": null,
   "id": "b1e734d9-6f23-49b9-bf94-f566881a66f5",
   "metadata": {
    "tags": []
   },
   "outputs": [],
   "source": [
    "def combine_skip():\n",
    "    data = []\n",
    "    for dirname in os.listdir(DATA_DIR):\n",
    "        if dirname.startswith('sort'):\n",
    "            test, run = dirname.split(\"--\")[1].split(\"_\")\n",
    "            for filename in os.listdir(os.path.join(DATA_DIR, dirname)):\n",
    "                with open(os.path.join(DATA_DIR, dirname, filename), 'r') as f:\n",
    "                    data.append({\n",
    "                        'name': filename.split('.')[0],\n",
    "                        'associations': json.load(f)\n",
    "                    })\n",
    "            # with open(os.path.join(DATA_DIR, dirname), 'r') as f:\n",
    "            #     for stage in json.load(f):\n",
    "            #         stagename = stage['stage']\n",
    "            #         for b in stage['benchmark']:\n",
    "            #             after, before = b['keep']\n",
    "            #             assert after <= before\n",
    "            #             skip = (1. - (after / before)) if before != 0 else 0\n",
    "            #             data.append({\n",
    "            #                 **b,\n",
    "            #                 'stage': (stagename\n",
    "            #                           .replace('Detection2D', 'D2D')\n",
    "            #                           .replace('Detection3D', 'D3D')\n",
    "            #                           .replace('Tracking2D', 'T2D')\n",
    "            #                           .replace('Tracking3D', 'T3D')\n",
    "            #                           .replace('SegmentTrajectory', 'ST')),\n",
    "            #                 '_test': test,\n",
    "            #                 'test': test,\n",
    "            #                 # 'test': test_names[test],\n",
    "            #                 # 'test_order': test_order.index(test),\n",
    "            #                 'run': run,\n",
    "            #                 'name': b['name'].split('/')[-1].split('.')[0],\n",
    "            #                 'skip': skip,\n",
    "            #                 # 'stage_order': stage_order.index(stagename)\n",
    "            #             })\n",
    "    return data\n",
    "\n",
    "\n",
    "skip = combine_skip()"
   ]
  },
  {
   "cell_type": "code",
   "execution_count": null,
   "id": "3e729d57-7bd1-4b49-86b4-2a6fee7f5c08",
   "metadata": {
    "tags": []
   },
   "outputs": [],
   "source": [
    "# skip[0]"
   ]
  },
  {
   "cell_type": "code",
   "execution_count": null,
   "id": "912a9f74-d203-4ea5-82cf-5c4ee4b73419",
   "metadata": {
    "tags": []
   },
   "outputs": [],
   "source": [
    "for video in skip:\n",
    "    name = video['name']\n",
    "    associations = video['associations']\n",
    "    for idx, frame in enumerate(associations):\n",
    "        # print(len(frame), idx % 10 == 0)\n",
    "        if idx % 10 == 0:\n",
    "            # frames with skip testing\n",
    "            assert len(frame) > 1 or idx == len(associations) - 1, len(frame)\n",
    "            for idx_, frame_ in enumerate(frame):\n",
    "                print(len(frame_), len(associations[idx + idx_][0]))\n",
    "        else:\n",
    "            # regular frame\n",
    "            assert len(frame) == 1\n",
    "    # break\n",
    "# todo: rerun the benchmark -> need to run at least 2 frames"
   ]
  },
  {
   "cell_type": "markdown",
   "id": "8e6411cd-bdbb-4eaf-b3fb-7b097136d41c",
   "metadata": {
    "tags": []
   },
   "source": [
    "# Comparing the Effect of Detection Estimation"
   ]
  },
  {
   "cell_type": "code",
   "execution_count": null,
   "id": "493f6417-356e-454b-8af8-a506ef59bff8",
   "metadata": {
    "ExecuteTime": {
     "end_time": "2023-04-10T11:10:29.434629Z",
     "start_time": "2023-04-10T11:10:22.678032Z"
    },
    "tags": []
   },
   "outputs": [],
   "source": [
    "df = df_perf[(df_perf.stage == 'DetectionEstimation') | (df_perf.stage == 'T2D.StrongSORT')]\n",
    "df_noopt = df[df._test == 'noopt']\n",
    "df_de = df[df._test == 'de']\n",
    "df_opt = df[df._test == 'opt']\n",
    "df_optde = df[df._test == 'optde']"
   ]
  },
  {
   "cell_type": "code",
   "execution_count": null,
   "id": "256d1398-4777-44a4-9ee0-d00371785556",
   "metadata": {
    "ExecuteTime": {
     "end_time": "2023-04-10T11:10:29.788304Z",
     "start_time": "2023-04-10T11:10:22.678032Z"
    },
    "tags": []
   },
   "outputs": [],
   "source": [
    "len(df_noopt), len(df_de[df_de.run == '0'])"
   ]
  },
  {
   "cell_type": "code",
   "execution_count": null,
   "id": "cffbedb0",
   "metadata": {
    "ExecuteTime": {
     "end_time": "2023-04-10T11:35:27.766145Z",
     "start_time": "2023-04-10T11:35:27.719650Z"
    },
    "jupyter": {
     "outputs_hidden": false
    }
   },
   "outputs": [],
   "source": [
    "def join(baseline: \"pd.DataFrame\", de: \"pd.DataFrame\"):\n",
    "    indices = ['name', 'run']\n",
    "\n",
    "    def _(x):\n",
    "        return pd.Series(\n",
    "            [x.runtime_ss_baseline, x.keep_ss_baseline[1], x.runtime_de_de, x.runtime_ss_de, x.keep_de_de[0], x.run, x['name']],\n",
    "            index=['runtime_before', 'frames_before', 'runtime_ss_after', 'runtime_de_after', 'frames_after', 'run', 'name']\n",
    "        )\n",
    "\n",
    "    return (\n",
    "        baseline[baseline.stage == 'T2D.StrongSORT']\n",
    "            .set_index(indices)\n",
    "            .join(de[de.stage == 'T2D.StrongSORT'].set_index(indices), lsuffix=\"_noOpt\", rsuffix=\"_de\", how='inner')\n",
    "            .join(de[de.stage == 'DetectionEstimation'].set_index(indices), lsuffix=\"_SS\", rsuffix=\"_DE\", how='inner')\n",
    "            .rename(columns={\n",
    "                'runtime_noOpt': 'runtime_ss_baseline',\n",
    "                'keep_noOpt': 'keep_ss_baseline',\n",
    "                'stage_noOpt': 'stage_ss_baseline',\n",
    "                'runtime_de': 'runtime_ss_de',\n",
    "                'keep_de': 'keep_ss_de',\n",
    "                'stage_de': 'stage_ss_de',\n",
    "                'runtime': 'runtime_de_de',\n",
    "                'keep': 'keep_de_de',\n",
    "                'stage': 'stage_de_de',\n",
    "            })\n",
    "            .reset_index()\n",
    "            .apply(_, axis=1)\n",
    "    )"
   ]
  },
  {
   "cell_type": "code",
   "execution_count": null,
   "id": "7f9a3ccb-e17c-498a-bc0a-2193cd3d6432",
   "metadata": {
    "ExecuteTime": {
     "end_time": "2023-04-10T11:35:57.054017Z",
     "start_time": "2023-04-10T11:35:55.362600Z"
    },
    "tags": []
   },
   "outputs": [],
   "source": [
    "df_baseline = join(df_noopt, df_de)\n",
    "df_baseline"
   ]
  },
  {
   "cell_type": "code",
   "execution_count": null,
   "id": "77b06666",
   "metadata": {
    "ExecuteTime": {
     "end_time": "2023-04-10T11:38:02.158491Z",
     "start_time": "2023-04-10T11:38:01.071260Z"
    },
    "tags": []
   },
   "outputs": [],
   "source": [
    "df_optimized = join(df_opt, df_optde)\n",
    "df_optimized"
   ]
  },
  {
   "cell_type": "code",
   "execution_count": null,
   "id": "bc85cbc0-a787-461b-b27a-db4aa6afd0fe",
   "metadata": {
    "ExecuteTime": {
     "end_time": "2023-04-10T11:36:30.998664Z",
     "start_time": "2023-04-10T11:36:29.700445Z"
    },
    "tags": []
   },
   "outputs": [],
   "source": [
    "def scatter_runtime_frame(baseline, optimized):\n",
    "    def one_chart(data, name):\n",
    "        threshold = pd.DataFrame([{\"threshold\": 0}])\n",
    "        # TODO: use y = x\n",
    "        line = alt.Chart(threshold).mark_rule(color='black').encode(y='threshold:Q')\n",
    "        base = (\n",
    "            alt.Chart(data)\n",
    "            .transform_calculate(\n",
    "                'runtime_reduction',\n",
    "                calculate='(datum.runtime_ss_after + datum.runtime_de_after) / datum.runtime_before - 1'\n",
    "            )\n",
    "            .transform_calculate(\n",
    "                'frames_reduction',\n",
    "                calculate='1 - datum.frames_after / datum.frames_before'\n",
    "            )\n",
    "            .transform_filter('datum.run === \"0\"')\n",
    "            .encode(\n",
    "                x=alt.X('frames_reduction:Q', title='Frame Skip Rate', scale=alt.Scale(domain=[0, 1])),\n",
    "                y=alt.Y('runtime_reduction:Q', title='Runtime Reduction (+ is increase)', scale=alt.Scale(domain=[-1, 1])),\n",
    "            )\n",
    "        )\n",
    "        chart = (\n",
    "            base\n",
    "            .mark_point()\n",
    "            .properties(title=f\"{name}: Runtime Reduction vs Frame Skip Rate\")\n",
    "        )\n",
    "\n",
    "        return chart + line\n",
    "    return alt.hconcat(one_chart(baseline, 'Baseline'), one_chart(optimized, 'Optimized'))\n",
    "\n",
    "\n",
    "scatter_runtime_frame(df_baseline, df_optimized)"
   ]
  },
  {
   "cell_type": "code",
   "execution_count": null,
   "id": "60ce4f79-266f-48c3-a67b-977f8f37facd",
   "metadata": {
    "ExecuteTime": {
     "end_time": "2023-04-10T11:36:31.093467Z",
     "start_time": "2023-04-10T11:36:30.846800Z"
    }
   },
   "outputs": [],
   "source": [
    "def scatter_runtime_de(baseline, optimized):\n",
    "    def one_chart(data, name):\n",
    "        threshold = pd.DataFrame([{\"threshold\": 0}])\n",
    "        line = alt.Chart(threshold).mark_rule(color='black').encode(y='threshold:Q')\n",
    "        chart = (\n",
    "            alt.Chart(\n",
    "                data,\n",
    "                title=f\"{name}: Runtime Reduction vs Detection Estimation Runtime\"\n",
    "            )\n",
    "            .transform_calculate(\n",
    "                'runtime_reduction',\n",
    "                calculate='1 - (datum.runtime_ss_after + datum.runtime_de_after) / datum.runtime_before'\n",
    "            )\n",
    "            .transform_filter('datum.run === \"0\"')\n",
    "            .mark_point()\n",
    "            .encode(\n",
    "                x=alt.X('runtime_de_after:Q', title='Detection Estimation Runtime', scale=alt.Scale(domain=[0, 130])),\n",
    "                y=alt.Y('runtime_reduction:Q', title='Runtime Reduction', scale=alt.Scale(domain=[-1, 1])),\n",
    "            )\n",
    "        ) \n",
    "\n",
    "        return chart + line\n",
    "    return alt.hconcat(one_chart(baseline, 'Baseline'), one_chart(optimized, 'Optimized'))\n",
    "\n",
    "\n",
    "scatter_runtime_de(df_baseline, df_optimized)"
   ]
  },
  {
   "cell_type": "code",
   "execution_count": null,
   "id": "52ebdf50-a34a-4014-bf07-f4d1b1629661",
   "metadata": {
    "ExecuteTime": {
     "end_time": "2023-04-10T11:36:31.159536Z",
     "start_time": "2023-04-10T11:36:30.936673Z"
    },
    "tags": []
   },
   "outputs": [],
   "source": [
    "def scatter_frame_de(baseline, optimized):\n",
    "    def one_chart(data, name):\n",
    "        threshold = pd.DataFrame([{\"threshold\": 0}])\n",
    "        # TODO: use y = 1 - x\n",
    "        # line = alt.Chart(threshold).mark_rule(color='red').encode(y='threshold:Q')\n",
    "        chart = (\n",
    "            alt.Chart(\n",
    "                data,\n",
    "                title=f\"{name}: Frame Skip Rate vs Detection Estimation Runtime\"\n",
    "            )\n",
    "            .mark_point()\n",
    "            .transform_calculate(\n",
    "                'frames_reduction',\n",
    "                calculate='1 - datum.frames_after / datum.frames_before'\n",
    "            )\n",
    "            .transform_filter('datum.run === \"0\"')\n",
    "            .encode(\n",
    "                x=alt.X('runtime_de_after:Q', title='Detection Estimation Runtime', scale=alt.Scale(domain=[0, 130])),\n",
    "                y=alt.Y('frames_reduction:Q', title='Frame Skip Rate', scale=alt.Scale(domain=[0, 1])),\n",
    "            )\n",
    "        )\n",
    "\n",
    "        # return chart + line\n",
    "        return chart\n",
    "    return alt.hconcat(one_chart(baseline, 'Baseline'), one_chart(optimized, 'Optimized'))\n",
    "\n",
    "\n",
    "scatter_frame_de(df_baseline, df_optimized)"
   ]
  },
  {
   "cell_type": "code",
   "execution_count": null,
   "id": "d9ea38e6",
   "metadata": {
    "ExecuteTime": {
     "end_time": "2023-04-10T11:36:31.289056Z",
     "start_time": "2023-04-10T11:36:31.092487Z"
    }
   },
   "outputs": [],
   "source": [
    "def cdf_skip(baseline, optimized):\n",
    "    # def one_chart(data, name):\n",
    "    return (\n",
    "        alt.Chart(\n",
    "            pd.concat([baseline.assign(test='Baseline'), optimized.assign(test='Optimized')]),\n",
    "            title='CDF of Detection Estimation\\'s skip ratio'\n",
    "        )\n",
    "        .transform_calculate(\n",
    "            'skip_ratio',\n",
    "            calculate='1 - (datum.frames_after / datum.frames_before)'\n",
    "        )\n",
    "        .transform_window(\n",
    "            ECDF=\"cume_dist()\",\n",
    "            groupby=[\"test\"],\n",
    "            sort=[{\"field\": \"skip_ratio\"}],\n",
    "        )\n",
    "        .mark_line()\n",
    "        .encode(\n",
    "            x=alt.X(\"skip_ratio:Q\", title='Frame Skip Ratio'),\n",
    "            y=\"ECDF:Q\",\n",
    "            color=\"test:N\"\n",
    "        )\n",
    "    )\n",
    "    # return alt.hconcat(one_chart(baseline, 'Baseline'), one_chart(optimized, 'Optimized'))\n",
    "\n",
    "\n",
    "cdf_skip(df_baseline, df_optimized)"
   ]
  },
  {
   "cell_type": "code",
   "execution_count": null,
   "id": "2cb2cfe9",
   "metadata": {
    "ExecuteTime": {
     "end_time": "2023-04-10T11:36:31.325936Z",
     "start_time": "2023-04-10T11:36:31.161527Z"
    },
    "tags": []
   },
   "outputs": [],
   "source": [
    "def cdf_runtime(baseline, optimized):\n",
    "    # def one_chart(data, name):\n",
    "    chart = (\n",
    "        alt.Chart(\n",
    "            pd.concat([baseline.assign(test='Baseline'), optimized.assign(test='Optimized')]),\n",
    "            title='CDF of Runtime Reduction (%)'\n",
    "        )\n",
    "        .transform_calculate(\n",
    "            'runtime_reduction',\n",
    "            calculate='100*(1 - ((datum.runtime_ss_after + datum.runtime_de_after) / datum.runtime_before))'\n",
    "        )\n",
    "        .transform_window(\n",
    "            ECDF=\"cume_dist()\",\n",
    "            groupby=['test'],\n",
    "            sort=[{\"field\": \"runtime_reduction\"}],\n",
    "        )\n",
    "        .mark_line()\n",
    "        .encode(\n",
    "            x=alt.X(\"runtime_reduction:Q\", title='Runtime Reduction (%)'),\n",
    "            y=\"ECDF:Q\",\n",
    "            color='test:N'\n",
    "        )\n",
    "    )\n",
    "    return alt.hconcat(chart, chart.transform_filter('datum.runtime_reduction > -100'))\n",
    "    # return alt.hconcat(one_chart(baseline, 'Baseline'), one_chart(optimized, 'Optimized'))\n",
    "\n",
    "\n",
    "cdf_runtime(df_baseline, df_optimized)"
   ]
  },
  {
   "cell_type": "code",
   "execution_count": null,
   "id": "5912344f-e7e2-4718-ad52-9b6eae710f68",
   "metadata": {
    "tags": []
   },
   "outputs": [],
   "source": [
    "df_optimized[100 * (1 - ((df_optimized.runtime_ss_after + df_optimized.runtime_de_after) / df_optimized.runtime_before)) <= -100]"
   ]
  },
  {
   "cell_type": "code",
   "execution_count": null,
   "id": "707bdb10-08aa-4ed3-ab3e-0780fdda153e",
   "metadata": {
    "tags": []
   },
   "outputs": [],
   "source": [
    "def combine_sort():\n",
    "    data = []\n",
    "    for filename in os.listdir(DATA_DIR):\n",
    "        if filename.startswith('sort'):\n",
    "            test, run = filename.split(\"--\")[1].split(\".\")[0].split(\"_\")\n",
    "            if test not in ['optde', 'de', 'noopt', 'opt']:\n",
    "                continue\n",
    "            print(f\"test: {test}, run: {run}\")\n",
    "            with open(os.path.join(DATA_DIR, filename), 'r') as f:\n",
    "                for scenename, metadata in tqdm(json.load(f).items()):\n",
    "                    for i, m in enumerate(metadata):\n",
    "                        for oid, det in m.items():\n",
    "                            data.append({\n",
    "                                '_test': test,\n",
    "                                'run': run,\n",
    "                                'test': test_names[test],\n",
    "                                'scenename': scenename,\n",
    "                                'detection': {'oid': oid, 'did': det['detection_id']}\n",
    "                            })\n",
    "    return data\n",
    "\n",
    "\n",
    "combined_sort = combine_sort()"
   ]
  },
  {
   "cell_type": "code",
   "execution_count": null,
   "id": "213bcf3e-4221-402e-8df8-95c231877282",
   "metadata": {
    "tags": []
   },
   "outputs": [],
   "source": [
    "len(combined_sort)"
   ]
  },
  {
   "cell_type": "code",
   "execution_count": null,
   "id": "3589a777-9303-4951-a53f-a400659993ec",
   "metadata": {
    "tags": []
   },
   "outputs": [],
   "source": [
    "combined_sort[0]"
   ]
  },
  {
   "cell_type": "code",
   "execution_count": null,
   "id": "c910445f-3070-488e-ae84-07980fa4aa17",
   "metadata": {
    "tags": []
   },
   "outputs": [],
   "source": [
    "df_combined_sort = pd.DataFrame.from_dict(combined_sort)"
   ]
  },
  {
   "cell_type": "code",
   "execution_count": null,
   "id": "4c4ccd2e-7e09-458e-9ecd-da3d021d8d99",
   "metadata": {
    "tags": []
   },
   "outputs": [],
   "source": [
    "df_grouped_combined_sort = df_combined_sort.groupby(['_test', 'run', 'test', 'scenename']).count().reset_index()"
   ]
  },
  {
   "cell_type": "code",
   "execution_count": null,
   "id": "6f0ecb3a-85da-4215-8f90-a261f89fe495",
   "metadata": {
    "tags": []
   },
   "outputs": [],
   "source": [
    "df_grouped_combined_sort.groupby(['scenename', '_test', 'run']).count().reset_index()"
   ]
  },
  {
   "cell_type": "code",
   "execution_count": null,
   "id": "16b9cf1e-c5dd-4a48-a445-0a213f72dffb",
   "metadata": {
    "tags": []
   },
   "outputs": [],
   "source": [
    "df_perf"
   ]
  },
  {
   "cell_type": "code",
   "execution_count": null,
   "id": "63b92170-fbc0-45e2-bf41-1a7d0d3888d9",
   "metadata": {
    "tags": []
   },
   "outputs": [],
   "source": [
    "df_grouped_perf = df_perf[(df_perf.stage == 'DetectionEstimation')].groupby(['name', '_test', 'run']).count().reset_index()\n",
    "df_grouped_perf"
   ]
  },
  {
   "cell_type": "code",
   "execution_count": null,
   "id": "91c9476b-1066-4253-9804-62c8ac868ccf",
   "metadata": {
    "tags": []
   },
   "outputs": [],
   "source": [
    "def remove_head(df):\n",
    "    # print(df['name'])\n",
    "    return '-'.join(df['name'].split('-')[2:])\n",
    "df_perf.assign(scenename=df_perf.apply(remove_head, axis=1))"
   ]
  },
  {
   "cell_type": "code",
   "execution_count": null,
   "id": "7bed97c9-5ee1-4970-84b5-cf7138aca49b",
   "metadata": {
    "tags": []
   },
   "outputs": [],
   "source": [
    "def remove_head(df):\n",
    "    return '-'.join(df['name'].split('-')[2:])\n",
    "\n",
    "df_det_skip = (df_grouped_combined_sort\n",
    "    .set_index(['scenename', '_test', 'run'])\n",
    "    .join(\n",
    "        df_perf[(df_perf.stage == 'DetectionEstimation')]\n",
    "            .assign(scenename=df_perf.apply(remove_head, axis=1))\n",
    "            .set_index(['scenename', '_test', 'run']),\n",
    "        lsuffix=\"_det\",\n",
    "        rsuffix=\"_perf\",\n",
    "        how=\"inner\"\n",
    "    )\n",
    "    .reset_index()\n",
    ")"
   ]
  },
  {
   "cell_type": "code",
   "execution_count": null,
   "id": "a2379364-1bc0-45bb-a57e-38f342c4e18d",
   "metadata": {},
   "outputs": [],
   "source": [
    "df_det_skip"
   ]
  },
  {
   "cell_type": "code",
   "execution_count": null,
   "id": "68e68a16-5282-4423-a16a-54a824610aa0",
   "metadata": {
    "tags": []
   },
   "outputs": [],
   "source": [
    "df_det_skip[df_det_skip.run == '0']"
   ]
  },
  {
   "cell_type": "code",
   "execution_count": null,
   "id": "aec0af5d-af8a-426f-b39f-a7112dbc9d1d",
   "metadata": {
    "tags": []
   },
   "outputs": [],
   "source": [
    "(alt\n",
    "    .Chart(df_det_skip[(df_det_skip.run == '0') & (df_det_skip._test == 'de')])\n",
    "    .mark_point()\n",
    "    .encode(\n",
    "        x=alt.X('detection:Q'),\n",
    "        y=alt.Y('skip:Q')\n",
    "    )\n",
    ") | (alt\n",
    "    .Chart(df_det_skip[(df_det_skip.run == '0') & (df_det_skip._test == 'de')])\n",
    "    .mark_point()\n",
    "    .encode(\n",
    "        x=alt.X('detection:Q'),\n",
    "        y=alt.Y('runtime:Q')\n",
    "    )\n",
    ") | (alt\n",
    "    .Chart(df_det_skip[(df_det_skip.run == '0') & (df_det_skip._test == 'de')])\n",
    "    .mark_point()\n",
    "    .encode(\n",
    "        x=alt.X('skip:Q'),\n",
    "        y=alt.Y('runtime:Q')\n",
    "    )\n",
    ")"
   ]
  },
  {
   "cell_type": "code",
   "execution_count": null,
   "id": "a8c0581e-a2e7-4a17-9cd9-d5007d15ddae",
   "metadata": {},
   "outputs": [],
   "source": []
  }
 ],
 "metadata": {
  "kernelspec": {
   "display_name": "Python 3 (ipykernel)",
   "language": "python",
   "name": "python3"
  },
  "language_info": {
   "codemirror_mode": {
    "name": "ipython",
    "version": 3
   },
   "file_extension": ".py",
   "mimetype": "text/x-python",
   "name": "python",
   "nbconvert_exporter": "python",
   "pygments_lexer": "ipython3",
   "version": "3.10.10"
  }
 },
 "nbformat": 4,
 "nbformat_minor": 5
}
