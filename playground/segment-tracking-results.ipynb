{
 "cells": [
  {
   "cell_type": "code",
   "execution_count": 1,
   "id": "6f63a0a4",
   "metadata": {
    "execution": {
     "iopub.execute_input": "2022-12-07T20:57:26.124175Z",
     "iopub.status.busy": "2022-12-07T20:57:26.123441Z",
     "iopub.status.idle": "2022-12-07T20:57:31.010468Z",
     "shell.execute_reply": "2022-12-07T20:57:31.009584Z"
    }
   },
   "outputs": [
    {
     "name": "stdout",
     "output_type": "stream",
     "text": [
      "/home/chanwutk/code/apperception\n"
     ]
    }
   ],
   "source": [
    "%cd .."
   ]
  },
  {
   "cell_type": "code",
   "execution_count": 2,
   "id": "6c0676a8",
   "metadata": {},
   "outputs": [
    {
     "name": "stderr",
     "output_type": "stream",
     "text": [
      "/home/chanwutk/.installs/mambaforge/envs/apperception/lib/python3.10/site-packages/tqdm/auto.py:22: TqdmWarning: IProgress not found. Please update jupyter and ipywidgets. See https://ipywidgets.readthedocs.io/en/stable/user_install.html\n",
      "  from .autonotebook import tqdm as notebook_tqdm\n",
      "YOLOv5 🚀 2023-3-12 Python-3.10.9 torch-1.13.1+cu117 CUDA:0 (Tesla T4, 14966MiB)\n",
      "\n",
      "Using cache found in /home/chanwutk/code/apperception/weights/ultralytics_yolov5_master\n"
     ]
    },
    {
     "name": "stdout",
     "output_type": "stream",
     "text": [
      "Using cuda:0\n"
     ]
    },
    {
     "name": "stderr",
     "output_type": "stream",
     "text": [
      "YOLOv5 🚀 2023-3-12 Python-3.10.9 torch-1.13.1+cu117 CUDA:0 (Tesla T4, 14966MiB)\n",
      "\n",
      "Fusing layers... \n",
      "YOLOv5s summary: 213 layers, 7225885 parameters, 0 gradients\n",
      "Adding AutoShape... \n"
     ]
    }
   ],
   "source": [
    "import json\n",
    "import os\n",
    "import pickle\n",
    "import traceback\n",
    "\n",
    "import numpy as np\n",
    "\n",
    "from optimized_ingestion.camera_config import camera_config\n",
    "from optimized_ingestion.payload import Payload\n",
    "from optimized_ingestion.pipeline import Pipeline\n",
    "\n",
    "# Stages\n",
    "from optimized_ingestion.stages.filter_car_facing_sideway import FilterCarFacingSideway\n",
    "\n",
    "from optimized_ingestion.stages.decode_frame.parallel_decode_frame import ParallelDecodeFrame\n",
    "from optimized_ingestion.stages.decode_frame.decode_frame import DecodeFrame\n",
    "\n",
    "from optimized_ingestion.stages.detection_2d.yolo_detection import YoloDetection\n",
    "from optimized_ingestion.stages.detection_2d.object_type_filter import ObjectTypeFilter\n",
    "from optimized_ingestion.stages.detection_2d.ground_truth import GroundTruthDetection\n",
    "\n",
    "from optimized_ingestion.stages.detection_3d.from_2d_and_road import From2DAndRoad as FromD2DAndRoad\n",
    "\n",
    "from optimized_ingestion.stages.detection_estimation import DetectionEstimation\n",
    "from optimized_ingestion.stages.detection_estimation.segment_mapping import RoadPolygonInfo\n",
    "\n",
    "from optimized_ingestion.stages.tracking_2d.strongsort import StrongSORT\n",
    "from optimized_ingestion.stages.tracking_2d.tracking_2d import Tracking2D, Tracking2DResult\n",
    "\n",
    "from optimized_ingestion.stages.tracking_3d.from_2d_and_road import From2DAndRoad as FromT2DAndRoad\n",
    "from optimized_ingestion.stages.tracking_3d.tracking_3d import Tracking3DResult, Tracking3D\n",
    "\n",
    "from optimized_ingestion.stages.segment_trajectory import SegmentTrajectory\n",
    "from optimized_ingestion.stages.segment_trajectory.construct_segment_trajectory import SegmentPoint\n",
    "from optimized_ingestion.stages.segment_trajectory.from_tracking_3d import FromTracking3D\n",
    "\n",
    "from optimized_ingestion.stages.get_camera_config_id import GetCameraConfigId\n",
    "\n",
    "# Actions\n",
    "from optimized_ingestion.actions.bbox2d_overlay import bbox2d_overlay\n",
    "\n",
    "from optimized_ingestion.video import Video"
   ]
  },
  {
   "cell_type": "code",
   "execution_count": 3,
   "id": "59907886",
   "metadata": {
    "execution": {
     "iopub.execute_input": "2022-12-07T20:57:31.015935Z",
     "iopub.status.busy": "2022-12-07T20:57:31.015521Z",
     "iopub.status.idle": "2022-12-07T20:57:31.019398Z",
     "shell.execute_reply": "2022-12-07T20:57:31.018612Z"
    }
   },
   "outputs": [],
   "source": [
    "from optimized_ingestion.cache import disable_cache\n",
    "disable_cache()"
   ]
  },
  {
   "cell_type": "code",
   "execution_count": 4,
   "id": "229308b3",
   "metadata": {
    "execution": {
     "iopub.execute_input": "2022-12-07T20:57:31.022886Z",
     "iopub.status.busy": "2022-12-07T20:57:31.022266Z",
     "iopub.status.idle": "2022-12-07T20:57:31.039286Z",
     "shell.execute_reply": "2022-12-07T20:57:31.038315Z"
    }
   },
   "outputs": [],
   "source": [
    "NUSCENES_PROCESSED_DATA = \"NUSCENES_PROCESSED_DATA\""
   ]
  },
  {
   "cell_type": "code",
   "execution_count": 5,
   "id": "08ed7cce",
   "metadata": {},
   "outputs": [],
   "source": [
    "import torch"
   ]
  },
  {
   "cell_type": "code",
   "execution_count": 6,
   "id": "440a39c7",
   "metadata": {
    "execution": {
     "iopub.execute_input": "2022-12-07T20:57:31.043573Z",
     "iopub.status.busy": "2022-12-07T20:57:31.042785Z",
     "iopub.status.idle": "2022-12-07T20:57:31.060228Z",
     "shell.execute_reply": "2022-12-07T20:57:31.059269Z"
    }
   },
   "outputs": [],
   "source": [
    "import shapely.wkt\n",
    "\n",
    "class DataclassJSONEncoder(json.JSONEncoder):\n",
    "    def default(self, o):\n",
    "        if isinstance(o, Tracking3DResult):\n",
    "            return {\n",
    "                \"frame_idx\": o.frame_idx,\n",
    "                \"detection_id\": tuple(o.detection_id),\n",
    "                \"object_id\": o.object_id,\n",
    "                \"point_from_camera\": o.point_from_camera,\n",
    "                \"point\": o.point.tolist(),\n",
    "                \"bbox_left\": o.bbox_left,\n",
    "                \"bbox_top\": o.bbox_top,\n",
    "                \"bbox_w\": o.bbox_w,\n",
    "                \"bbox_h\": o.bbox_h,\n",
    "                \"object_type\": o.object_type,\n",
    "                \"timestamp\": str(o.timestamp),\n",
    "            }\n",
    "        if isinstance(o, Tracking2DResult):\n",
    "            return {\n",
    "                \"detection_id\": tuple(o.detection_id),\n",
    "                \"frame_idx\": o.frame_idx,\n",
    "                \"object_id\": o.object_id,\n",
    "                \"bbox_left\": o.bbox_left,\n",
    "                \"bbox_top\": o.bbox_top,\n",
    "                \"bbox_w\": o.bbox_w,\n",
    "                \"bbox_h\": o.bbox_h,\n",
    "                \"object_type\": o.object_type,\n",
    "                \"confidence\": o.confidence\n",
    "            }\n",
    "        if isinstance(o, SegmentPoint):\n",
    "            return {\n",
    "                \"detection_id\": tuple(o.detection_id),\n",
    "                \"car_loc3d\": o.car_loc3d,\n",
    "                \"timestamp\": str(o.timestamp),\n",
    "                \"segment_line\": None if o.segment_line is None else o.segment_line.to_ewkb(),\n",
    "#                 \"segment_line_wkb\": o.segment_line.wkb_hex,\n",
    "                \"segment_heading\": o.segment_heading,\n",
    "                \"road_polygon_info\": o.road_polygon_info,\n",
    "                \"obj_id\": o.obj_id,\n",
    "                \"type\": o.type,\n",
    "                \"next\": None if o.next is None else tuple(o.next.detection_id),\n",
    "                \"prev\": None if o.prev is None else tuple(o.prev.detection_id),\n",
    "                \n",
    "            }\n",
    "        if isinstance(o, RoadPolygonInfo):\n",
    "            return {\n",
    "                \"id\": o.id,\n",
    "                \"polygon\": str(o.polygon),\n",
    "#                 \"polygon_wkb\": o.polygon.wkb_hex,\n",
    "                \"segment_lines\": [str(l) for l in o.segment_lines],\n",
    "                \"road_type\": o.road_type,\n",
    "                \"segment_headings\": o.segment_headings,\n",
    "                \"contains_ego\": o.contains_ego,\n",
    "                \"ego_config\": o.ego_config,\n",
    "                \"fov_lines\": o.fov_lines\n",
    "            }\n",
    "        if isinstance(o, torch.Tensor):\n",
    "            return o.tolist()\n",
    "        if isinstance(o, np.ndarray):\n",
    "            return o.tolist()\n",
    "        return super().default(o)"
   ]
  },
  {
   "cell_type": "code",
   "execution_count": 7,
   "id": "355b8977",
   "metadata": {},
   "outputs": [
    {
     "name": "stdout",
     "output_type": "stream",
     "text": [
      "True\n",
      "/home/chanwutk/data/processed/full-dataset/mini\n"
     ]
    }
   ],
   "source": [
    "print(NUSCENES_PROCESSED_DATA in os.environ)\n",
    "print(os.environ['NUSCENES_PROCESSED_DATA'])"
   ]
  },
  {
   "cell_type": "code",
   "execution_count": 8,
   "id": "00c1dd1e",
   "metadata": {},
   "outputs": [],
   "source": [
    "if NUSCENES_PROCESSED_DATA in os.environ:\n",
    "    DATA_DIR = os.environ[NUSCENES_PROCESSED_DATA]\n",
    "else:\n",
    "    DATA_DIR = \"/work/apperception/data/nuScenes/full-dataset-v1.0/Mini\"\n",
    "with open(os.path.join(DATA_DIR, \"videos\", \"frames.pkl\"), \"rb\") as f:\n",
    "    videos = pickle.load(f)"
   ]
  },
  {
   "cell_type": "code",
   "execution_count": 9,
   "id": "275836d5",
   "metadata": {},
   "outputs": [],
   "source": [
    "def run_benchmark(pipeline, filename, ignore_error=False):\n",
    "    metadata_strongsort = {}\n",
    "    metadata_3d = {}\n",
    "    metadata_segment = {}\n",
    "    metadata_frame_id = {}\n",
    "    failed_videos = []\n",
    "    for i, (name, video) in enumerate(videos.items()):\n",
    "        try:\n",
    "            print(name, f'---{i} / {len(videos)}---------------------------------------------------------')\n",
    "            video_filename = video['filename']\n",
    "            print(video_filename)\n",
    "            if not video_filename.startswith('boston') or 'FRONT' not in name:\n",
    "                continue\n",
    "                \n",
    "            for v in video['frames'][:10]:\n",
    "                print(v[1])\n",
    "            frames = Video(\n",
    "                os.path.join(DATA_DIR, \"videos\", video[\"filename\"]),\n",
    "                [camera_config(*f, 0) for f in video[\"frames\"]],\n",
    "            )\n",
    "\n",
    "            output = pipeline.run(Payload(frames))\n",
    "#             metadata_strongsort[name] = output[StringSORT]\n",
    "#             metadata_3d[name] = output[Tracking3D]\n",
    "#             metadata_segment[name] = output[SegmentTrajectory]\n",
    "#             metadata_frame_id[name] = output[GetCameraConfigId]\n",
    "            \n",
    "            bbox2d_overlay(output, './outputs/bbox2d_overlay')\n",
    "            \n",
    "            \n",
    "        except Exception as e:\n",
    "            if ignore_error:\n",
    "                failed_videos.append((name, str(traceback.format_exc())))\n",
    "                print('ERRORRRRRRRRRRRRRRRRRRRRRRRRRRRRRRRRRRRRRRRRRRRRRRRRRRRRRRRRRRRRRRRRRRRRRRRR')\n",
    "                print('ERRORRRRRRRRRRRRRRRRRRRRRRRRRRRRRRRRRRRRRRRRRRRRRRRRRRRRRRRRRRRRRRRRRRRRRRRR')\n",
    "                print('ERRORRRRRRRRRRRRRRRRRRRRRRRRRRRRRRRRRRRRRRRRRRRRRRRRRRRRRRRRRRRRRRRRRRRRRRRR')\n",
    "            else:\n",
    "                raise e\n",
    "\n",
    "#         # Save progress every video\n",
    "#         with open(f\"./outputs/{filename}.json\", \"w\") as f:\n",
    "#             json.dump(metadata_strongsort, f, cls=DataclassJSONEncoder, indent=2)\n",
    "            \n",
    "#         with open(f\"./outputs/{filename}-frame-id.json\", \"w\") as f:\n",
    "#             json.dump(metadata_frame_id, f, indent=2)\n",
    "\n",
    "#         with open(f\"./outputs/{filename}-3d.json\", \"w\") as f:\n",
    "#             json.dump(metadata_3d, f, cls=DataclassJSONEncoder, indent=2)\n",
    "\n",
    "#         with open(f\"./outputs/{filename}-segment.json\", \"w\") as f:\n",
    "#             json.dump(metadata_segment, f, cls=DataclassJSONEncoder, indent=2)\n",
    "\n",
    "#         with open(f\"./outputs/{filename}-failed-videos.json\", \"w\") as f:\n",
    "#             json.dump(failed_videos, f, indent=2)\n",
    "\n",
    "#         with open(f\"./outputs/{filename}-performance.json\", \"w\") as f:\n",
    "#             performance = [\n",
    "#                 {\n",
    "#                     \"stage\": stage.classname(),\n",
    "#                     \"runtimes\": stage.runtimes,\n",
    "#                 }\n",
    "#                 for stage\n",
    "#                 in pipeline.stages\n",
    "#             ]\n",
    "#             json.dump(performance, f, indent=2)"
   ]
  },
  {
   "cell_type": "code",
   "execution_count": 10,
   "id": "9f1b46b1",
   "metadata": {},
   "outputs": [],
   "source": [
    "type_filter = ['bicycle', 'motorcycle', 'car', 'truck', 'bus']"
   ]
  },
  {
   "cell_type": "code",
   "execution_count": 11,
   "id": "6c883701",
   "metadata": {},
   "outputs": [],
   "source": [
    "# pipeline1 = Pipeline()\n",
    "# # pipeline1.add_filter(ParallelDecodeFrame())\n",
    "# pipeline1.add_filter(DecodeFrame())\n",
    "# pipeline1.add_filter(filter=YoloDetection())\n",
    "# pipeline1.add_filter(filter=ObjectTypeFilter(type_filter))\n",
    "\n",
    "# pipeline1.add_filter(filter=FromD2DAndRoad())\n",
    "# pipeline1.add_filter(filter=StrongSORT(cache=True))\n",
    "# # pipeline1.add_filter(filter=StrongSORT(cache=False))\n",
    "# pipeline1.add_filter(filter=FromT2DAndRoad())\n",
    "\n",
    "# pipeline1.add_filter(filter=FromTracking3D())\n",
    "# pipeline1.add_filter(filter=GetCameraConfigId())\n",
    "\n",
    "# run_benchmark(pipeline1, 'segment-tracking-without-de', ignore_error=True)"
   ]
  },
  {
   "cell_type": "code",
   "execution_count": 12,
   "id": "b7bf313c",
   "metadata": {},
   "outputs": [],
   "source": [
    "# from optimized_ingestion.stages.depth_estimation import DepthEstimation\n",
    "# from optimized_ingestion.stages.tracking_3d.from_2d_and_depth import From2DAndDepth\n",
    "\n",
    "# pipeline3 = Pipeline()\n",
    "# pipeline3.add_filter(ParallelDecodeFrame())\n",
    "# # pipeline3.add_filter(DecodeFrame())\n",
    "# pipeline3.add_filter(filter=YoloDetection())\n",
    "# pipeline3.add_filter(filter=ObjectTypeFilter(type_filter))\n",
    "\n",
    "# pipeline3.add_filter(filter=FromD2DAndRoad())\n",
    "# pipeline3.add_filter(filter=StrongSORT(cache=True))\n",
    "# pipeline3.add_filter(filter=DepthEstimation())\n",
    "# pipeline3.add_filter(filter=From2DAndDepth())\n",
    "# pipeline3.add_filter(filter=GetCameraConfigId())\n",
    "\n",
    "\n",
    "# run_benchmark(pipeline3, 'tracking-with-depth-estimation', ignore_error=True)"
   ]
  },
  {
   "cell_type": "code",
   "execution_count": 13,
   "id": "fc1652f2",
   "metadata": {
    "execution": {
     "iopub.execute_input": "2022-12-07T21:12:20.349340Z",
     "iopub.status.busy": "2022-12-07T21:12:20.348942Z",
     "iopub.status.idle": "2022-12-07T21:39:03.457596Z",
     "shell.execute_reply": "2022-12-07T21:39:03.456343Z"
    }
   },
   "outputs": [],
   "source": [
    "# pipeline2 = Pipeline()\n",
    "# # pipeline2.add_filter(ParallelDecodeFrame())\n",
    "# pipeline2.add_filter(DecodeFrame())\n",
    "# pipeline2.add_filter(filter=YoloDetection())\n",
    "# pipeline2.add_filter(filter=ObjectTypeFilter(type_filter))\n",
    "\n",
    "# pipeline2.add_filter(filter=FromD2DAndRoad())\n",
    "# pipeline2.add_filter(filter=DetectionEstimation())\n",
    "# pipeline2.add_filter(filter=StrongSORT())\n",
    "# pipeline2.add_filter(filter=FromT2DAndRoad())\n",
    "\n",
    "# pipeline2.add_filter(filter=SegmentTrajectory())\n",
    "# pipeline2.add_filter(filter=GetCameraConfigId())\n",
    "\n",
    "# # run_benchmark(pipeline2, 'segment-tracking-with-de')"
   ]
  },
  {
   "cell_type": "code",
   "execution_count": 14,
   "id": "460cf9cd",
   "metadata": {},
   "outputs": [
    {
     "name": "stdout",
     "output_type": "stream",
     "text": [
      "scene-0061-CAM_FRONT ---0 / 60---------------------------------------------------------\n",
      "singapore-onenorth-scene-0061-CAM_FRONT.mp4\n",
      "scene-0061-CAM_FRONT_RIGHT ---1 / 60---------------------------------------------------------\n",
      "singapore-onenorth-scene-0061-CAM_FRONT_RIGHT.mp4\n",
      "scene-0061-CAM_BACK_RIGHT ---2 / 60---------------------------------------------------------\n",
      "singapore-onenorth-scene-0061-CAM_BACK_RIGHT.mp4\n",
      "scene-0061-CAM_BACK ---3 / 60---------------------------------------------------------\n",
      "singapore-onenorth-scene-0061-CAM_BACK.mp4\n",
      "scene-0061-CAM_BACK_LEFT ---4 / 60---------------------------------------------------------\n",
      "singapore-onenorth-scene-0061-CAM_BACK_LEFT.mp4\n",
      "scene-0061-CAM_FRONT_LEFT ---5 / 60---------------------------------------------------------\n",
      "singapore-onenorth-scene-0061-CAM_FRONT_LEFT.mp4\n",
      "scene-0103-CAM_FRONT ---6 / 60---------------------------------------------------------\n",
      "boston-seaport-scene-0103-CAM_FRONT.mp4\n",
      "4f5e35aa6c6a426ca945e206fb2f4921\n",
      "728e987b139c481597bf032a47a30d39\n",
      "c69c1a48a413473c821f15bfdd1523f0\n",
      "2647e4eb5b974c51bf94e0ab71193c2b\n",
      "e07830a195c74d05a69b8f03f796b2d6\n",
      "537d0b4d9db643b196c58b746d70b208\n",
      "ba01f58b926a472b9d146cb5a54e9a2e\n",
      "ab57282e48484b2d82875a77c63a59fc\n",
      "7a6e109b14604de6b631701e97ab906d\n",
      "3092898e8a084547bcf20fc7f19b19f9\n",
      "Stage:  DecodeFrame\n"
     ]
    },
    {
     "name": "stderr",
     "output_type": "stream",
     "text": [
      "100%|████████████████████████████████████████████████████████████████████████████████████████████████████████████████████████████████████████████████████████| 229/229 [00:00<00:00, 261.43it/s]\n"
     ]
    },
    {
     "name": "stdout",
     "output_type": "stream",
     "text": [
      "None\n",
      "229\n",
      "  filtered frames: 100.0%\n",
      "KKKKKKKKKKKKKKKKKKKKKKKKKKKKKKKKKKKKKKKKKKKKKKKKKKKKKKKKKKKKKKKKKKKKKKKKKKKKKKKKKKKKKKKKKKKKKKKKKKKK\n",
      "KKKKKKKKKKKKKKKKKKKKKKKKKKKKKKKKKKKKKKKKKKKKKKKKKKKKKKKKKKKKKKKKKKKKKKKKKKKKKKKKKKKKKKKKKKKKKKKKKKKK\n",
      "KKKKKKKKKKKKKKKKKKKKKKKKKKKKK\n",
      "Stage:  Detection2D.GroundTruthDetection\n",
      "None\n",
      "229\n",
      "  filtered frames: 100.0%\n",
      "KKKKKKKKKKKKKKKKKKKKKKKKKKKKKKKKKKKKKKKKKKKKKKKKKKKKKKKKKKKKKKKKKKKKKKKKKKKKKKKKKKKKKKKKKKKKKKKKKKKK\n",
      "KKKKKKKKKKKKKKKKKKKKKKKKKKKKKKKKKKKKKKKKKKKKKKKKKKKKKKKKKKKKKKKKKKKKKKKKKKKKKKKKKKKKKKKKKKKKKKKKKKKK\n",
      "KKKKKKKKKKKKKKKKKKKKKKKKKKKKK\n",
      "dir ./outputs/bbox2d_overlay/boston-seaport-scene-0103-CAM_FRONT.mp4\n",
      "scene-0103-CAM_FRONT_RIGHT ---7 / 60---------------------------------------------------------\n",
      "boston-seaport-scene-0103-CAM_FRONT_RIGHT.mp4\n",
      "5ed84fb1dbe24efcb00eb766a22d69d6\n",
      "e12e484c47a14e1c979fcf2a983de41a\n",
      "80c0e0c111b641b18b90954252c43d57\n",
      "8fc862f04bb14f34aa408ba0ab92bd05\n",
      "1a033e47f1374f64a01fa414bc8f0570\n",
      "fe644fe101eb46fe86196f1af6ba26bb\n",
      "55f48b2af8cd469a9d62c0907c34ff98\n",
      "5bc0e9e0f903425b9bd5bfdfd13063a2\n",
      "f85edba382ae4c75b421b6e0cf5f0045\n",
      "2f369d6f116243e18f61edfd309fd788\n",
      "Stage:  DecodeFrame\n"
     ]
    },
    {
     "name": "stderr",
     "output_type": "stream",
     "text": [
      "100%|████████████████████████████████████████████████████████████████████████████████████████████████████████████████████████████████████████████████████████| 233/233 [00:00<00:00, 276.92it/s]\n"
     ]
    },
    {
     "name": "stdout",
     "output_type": "stream",
     "text": [
      "None\n",
      "233\n",
      "  filtered frames: 100.0%\n",
      "KKKKKKKKKKKKKKKKKKKKKKKKKKKKKKKKKKKKKKKKKKKKKKKKKKKKKKKKKKKKKKKKKKKKKKKKKKKKKKKKKKKKKKKKKKKKKKKKKKKK\n",
      "KKKKKKKKKKKKKKKKKKKKKKKKKKKKKKKKKKKKKKKKKKKKKKKKKKKKKKKKKKKKKKKKKKKKKKKKKKKKKKKKKKKKKKKKKKKKKKKKKKKK\n",
      "KKKKKKKKKKKKKKKKKKKKKKKKKKKKKKKKK\n",
      "Stage:  Detection2D.GroundTruthDetection\n",
      "None\n",
      "233\n",
      "  filtered frames: 100.0%\n",
      "KKKKKKKKKKKKKKKKKKKKKKKKKKKKKKKKKKKKKKKKKKKKKKKKKKKKKKKKKKKKKKKKKKKKKKKKKKKKKKKKKKKKKKKKKKKKKKKKKKKK\n",
      "KKKKKKKKKKKKKKKKKKKKKKKKKKKKKKKKKKKKKKKKKKKKKKKKKKKKKKKKKKKKKKKKKKKKKKKKKKKKKKKKKKKKKKKKKKKKKKKKKKKK\n",
      "KKKKKKKKKKKKKKKKKKKKKKKKKKKKKKKKK\n",
      "dir ./outputs/bbox2d_overlay/boston-seaport-scene-0103-CAM_FRONT_RIGHT.mp4\n",
      "scene-0103-CAM_BACK_RIGHT ---8 / 60---------------------------------------------------------\n",
      "boston-seaport-scene-0103-CAM_BACK_RIGHT.mp4\n",
      "scene-0103-CAM_BACK ---9 / 60---------------------------------------------------------\n",
      "boston-seaport-scene-0103-CAM_BACK.mp4\n",
      "scene-0103-CAM_BACK_LEFT ---10 / 60---------------------------------------------------------\n",
      "boston-seaport-scene-0103-CAM_BACK_LEFT.mp4\n",
      "scene-0103-CAM_FRONT_LEFT ---11 / 60---------------------------------------------------------\n",
      "boston-seaport-scene-0103-CAM_FRONT_LEFT.mp4\n",
      "27f02b3e285d4ca18015535511520b3e\n",
      "0d32f437272642eb8d79036486fecc5b\n",
      "7232b16ab1d642eba237c6e80081889b\n",
      "c1bcc950f0824cf5b5c4a7d2e2cc0d4f\n",
      "8fbfb787eb324fdebc85edef168fc310\n",
      "1f58b5d8bf5f4c01876f60bbb4547a7b\n",
      "99c45131864b4a92bad2bad141bff4ae\n",
      "1706260bc818422b8b6b36b1ece69d73\n",
      "758e45368240444badb8f5c4e0197d3c\n",
      "c3fcd6dfedc341e082e8492735b374a6\n",
      "Stage:  DecodeFrame\n"
     ]
    },
    {
     "name": "stderr",
     "output_type": "stream",
     "text": [
      "100%|████████████████████████████████████████████████████████████████████████████████████████████████████████████████████████████████████████████████████████| 231/231 [00:00<00:00, 383.90it/s]\n"
     ]
    },
    {
     "name": "stdout",
     "output_type": "stream",
     "text": [
      "None\n",
      "231\n",
      "  filtered frames: 100.0%\n",
      "KKKKKKKKKKKKKKKKKKKKKKKKKKKKKKKKKKKKKKKKKKKKKKKKKKKKKKKKKKKKKKKKKKKKKKKKKKKKKKKKKKKKKKKKKKKKKKKKKKKK\n",
      "KKKKKKKKKKKKKKKKKKKKKKKKKKKKKKKKKKKKKKKKKKKKKKKKKKKKKKKKKKKKKKKKKKKKKKKKKKKKKKKKKKKKKKKKKKKKKKKKKKKK\n",
      "KKKKKKKKKKKKKKKKKKKKKKKKKKKKKKK\n",
      "Stage:  Detection2D.GroundTruthDetection\n",
      "None\n",
      "231\n",
      "  filtered frames: 100.0%\n",
      "KKKKKKKKKKKKKKKKKKKKKKKKKKKKKKKKKKKKKKKKKKKKKKKKKKKKKKKKKKKKKKKKKKKKKKKKKKKKKKKKKKKKKKKKKKKKKKKKKKKK\n",
      "KKKKKKKKKKKKKKKKKKKKKKKKKKKKKKKKKKKKKKKKKKKKKKKKKKKKKKKKKKKKKKKKKKKKKKKKKKKKKKKKKKKKKKKKKKKKKKKKKKKK\n",
      "KKKKKKKKKKKKKKKKKKKKKKKKKKKKKKK\n",
      "dir ./outputs/bbox2d_overlay/boston-seaport-scene-0103-CAM_FRONT_LEFT.mp4\n",
      "scene-0553-CAM_FRONT ---12 / 60---------------------------------------------------------\n",
      "boston-seaport-scene-0553-CAM_FRONT.mp4\n",
      "95a6d6872f9d4d19b7ac55a80943c611\n",
      "ec449029ce9e402dae21780252c411d9\n",
      "e50763332ae144e3ba8fb93c0a5decfc\n",
      "bff84fa79f61478fa23840b0ce9ad513\n",
      "32988c0c2e9c4012ad8f67f63220ca5f\n",
      "29c69e66415747079d15abaf7f91ca71\n",
      "ca953b73b68c4855887802390c30d1d2\n",
      "45189692bb1e45068b984e93e176ebee\n",
      "4a29ae4cd23e472aa0b68984c231d60c\n",
      "cf424d6112684c7895550b657c0d6863\n",
      "Stage:  DecodeFrame\n"
     ]
    },
    {
     "name": "stderr",
     "output_type": "stream",
     "text": [
      "100%|████████████████████████████████████████████████████████████████████████████████████████████████████████████████████████████████████████████████████████| 237/237 [00:00<00:00, 465.86it/s]\n"
     ]
    },
    {
     "name": "stdout",
     "output_type": "stream",
     "text": [
      "None\n",
      "237\n",
      "  filtered frames: 100.0%\n",
      "KKKKKKKKKKKKKKKKKKKKKKKKKKKKKKKKKKKKKKKKKKKKKKKKKKKKKKKKKKKKKKKKKKKKKKKKKKKKKKKKKKKKKKKKKKKKKKKKKKKK\n",
      "KKKKKKKKKKKKKKKKKKKKKKKKKKKKKKKKKKKKKKKKKKKKKKKKKKKKKKKKKKKKKKKKKKKKKKKKKKKKKKKKKKKKKKKKKKKKKKKKKKKK\n",
      "KKKKKKKKKKKKKKKKKKKKKKKKKKKKKKKKKKKKK\n",
      "Stage:  Detection2D.GroundTruthDetection\n",
      "None\n",
      "237\n",
      "  filtered frames: 100.0%\n",
      "KKKKKKKKKKKKKKKKKKKKKKKKKKKKKKKKKKKKKKKKKKKKKKKKKKKKKKKKKKKKKKKKKKKKKKKKKKKKKKKKKKKKKKKKKKKKKKKKKKKK\n",
      "KKKKKKKKKKKKKKKKKKKKKKKKKKKKKKKKKKKKKKKKKKKKKKKKKKKKKKKKKKKKKKKKKKKKKKKKKKKKKKKKKKKKKKKKKKKKKKKKKKKK\n",
      "KKKKKKKKKKKKKKKKKKKKKKKKKKKKKKKKKKKKK\n",
      "dir ./outputs/bbox2d_overlay/boston-seaport-scene-0553-CAM_FRONT.mp4\n",
      "scene-0553-CAM_FRONT_RIGHT ---13 / 60---------------------------------------------------------\n",
      "boston-seaport-scene-0553-CAM_FRONT_RIGHT.mp4\n",
      "23c84189e7f8419391cfcb4ef06a0ba6\n",
      "3ac484844c544493892e66935876557d\n",
      "c3d8b69ce4dc4a5bad573bb3b376920f\n",
      "7eca60fc64f34c03977a1a96a42f718b\n",
      "8a1e706ba6cc4afbb8b9b75b522d6884\n",
      "18f552352dd745f89cbd3dc46b0fe2a4\n",
      "eb3923d55231477bab2aba1f2ab62575\n",
      "eb248ac74f1146fbaa41e8ec3c016b49\n",
      "186c3270f0af447eb178a095e2060fd4\n",
      "a9e80de76be943dcad14c3921058a731\n",
      "Stage:  DecodeFrame\n"
     ]
    },
    {
     "name": "stderr",
     "output_type": "stream",
     "text": [
      "100%|████████████████████████████████████████████████████████████████████████████████████████████████████████████████████████████████████████████████████████| 239/239 [00:00<00:00, 457.86it/s]\n"
     ]
    },
    {
     "name": "stdout",
     "output_type": "stream",
     "text": [
      "None\n",
      "239\n",
      "  filtered frames: 100.0%\n",
      "KKKKKKKKKKKKKKKKKKKKKKKKKKKKKKKKKKKKKKKKKKKKKKKKKKKKKKKKKKKKKKKKKKKKKKKKKKKKKKKKKKKKKKKKKKKKKKKKKKKK\n",
      "KKKKKKKKKKKKKKKKKKKKKKKKKKKKKKKKKKKKKKKKKKKKKKKKKKKKKKKKKKKKKKKKKKKKKKKKKKKKKKKKKKKKKKKKKKKKKKKKKKKK\n",
      "KKKKKKKKKKKKKKKKKKKKKKKKKKKKKKKKKKKKKKK\n",
      "Stage:  Detection2D.GroundTruthDetection\n",
      "None\n",
      "239\n",
      "  filtered frames: 100.0%\n",
      "KKKKKKKKKKKKKKKKKKKKKKKKKKKKKKKKKKKKKKKKKKKKKKKKKKKKKKKKKKKKKKKKKKKKKKKKKKKKKKKKKKKKKKKKKKKKKKKKKKKK\n",
      "KKKKKKKKKKKKKKKKKKKKKKKKKKKKKKKKKKKKKKKKKKKKKKKKKKKKKKKKKKKKKKKKKKKKKKKKKKKKKKKKKKKKKKKKKKKKKKKKKKKK\n",
      "KKKKKKKKKKKKKKKKKKKKKKKKKKKKKKKKKKKKKKK\n",
      "dir ./outputs/bbox2d_overlay/boston-seaport-scene-0553-CAM_FRONT_RIGHT.mp4\n",
      "scene-0553-CAM_BACK_RIGHT ---14 / 60---------------------------------------------------------\n",
      "boston-seaport-scene-0553-CAM_BACK_RIGHT.mp4\n",
      "scene-0553-CAM_BACK ---15 / 60---------------------------------------------------------\n",
      "boston-seaport-scene-0553-CAM_BACK.mp4\n",
      "scene-0553-CAM_BACK_LEFT ---16 / 60---------------------------------------------------------\n",
      "boston-seaport-scene-0553-CAM_BACK_LEFT.mp4\n",
      "scene-0553-CAM_FRONT_LEFT ---17 / 60---------------------------------------------------------\n",
      "boston-seaport-scene-0553-CAM_FRONT_LEFT.mp4\n",
      "0840770248994d37b866b8feb38e559e\n",
      "39e2f6c3f5e34ceaa05b2c59c3e6e051\n",
      "04b898b8b2ab41f38fe1f00999060eb1\n",
      "d9fca6a62a3447349618e0570d45edec\n",
      "9a3b0c6b530b46fbbd4ecbbc255795bd\n",
      "6720a2c25d294bbd851ff6c763451325\n",
      "c3ed1dfbf9ea459884292128894bcc79\n",
      "43efdf7a73da472fa23990db0c9e1a09\n",
      "8ec852e41a964660b1e816c64d1ec5e8\n",
      "efa79e36e45e45b39e91e80d5be781d7\n",
      "Stage:  DecodeFrame\n"
     ]
    },
    {
     "name": "stderr",
     "output_type": "stream",
     "text": [
      "100%|████████████████████████████████████████████████████████████████████████████████████████████████████████████████████████████████████████████████████████| 239/239 [00:00<00:00, 443.25it/s]\n"
     ]
    },
    {
     "name": "stdout",
     "output_type": "stream",
     "text": [
      "None\n",
      "239\n",
      "  filtered frames: 100.0%\n",
      "KKKKKKKKKKKKKKKKKKKKKKKKKKKKKKKKKKKKKKKKKKKKKKKKKKKKKKKKKKKKKKKKKKKKKKKKKKKKKKKKKKKKKKKKKKKKKKKKKKKK\n",
      "KKKKKKKKKKKKKKKKKKKKKKKKKKKKKKKKKKKKKKKKKKKKKKKKKKKKKKKKKKKKKKKKKKKKKKKKKKKKKKKKKKKKKKKKKKKKKKKKKKKK\n",
      "KKKKKKKKKKKKKKKKKKKKKKKKKKKKKKKKKKKKKKK\n",
      "Stage:  Detection2D.GroundTruthDetection\n",
      "None\n",
      "239\n",
      "  filtered frames: 100.0%\n",
      "KKKKKKKKKKKKKKKKKKKKKKKKKKKKKKKKKKKKKKKKKKKKKKKKKKKKKKKKKKKKKKKKKKKKKKKKKKKKKKKKKKKKKKKKKKKKKKKKKKKK\n",
      "KKKKKKKKKKKKKKKKKKKKKKKKKKKKKKKKKKKKKKKKKKKKKKKKKKKKKKKKKKKKKKKKKKKKKKKKKKKKKKKKKKKKKKKKKKKKKKKKKKKK\n",
      "KKKKKKKKKKKKKKKKKKKKKKKKKKKKKKKKKKKKKKK\n",
      "dir ./outputs/bbox2d_overlay/boston-seaport-scene-0553-CAM_FRONT_LEFT.mp4\n",
      "scene-0655-CAM_FRONT ---18 / 60---------------------------------------------------------\n",
      "boston-seaport-scene-0655-CAM_FRONT.mp4\n",
      "be95ce80ec624f81ba6737eb67241215\n",
      "42345eb48a97406baa9eb5569ce29988\n",
      "80528268075a464792d024dc12783b09\n",
      "60205cfc347847ac98d1bf5329d5ee4f\n",
      "8b00a05e6d1843bc85d673b312d258ac\n",
      "7eece10dad81495887ffc971971e3956\n",
      "eb0fc92283464dd7ad659caec68c7316\n",
      "d35f5f1183da4cd9a744d9e265a6e40a\n",
      "d415d92fe8ea48fc982d90d4b79526ba\n",
      "0b7943d868504c5cb42d81169688c569\n",
      "Stage:  DecodeFrame\n"
     ]
    },
    {
     "name": "stderr",
     "output_type": "stream",
     "text": [
      "100%|████████████████████████████████████████████████████████████████████████████████████████████████████████████████████████████████████████████████████████| 237/237 [00:00<00:00, 421.41it/s]\n"
     ]
    },
    {
     "name": "stdout",
     "output_type": "stream",
     "text": [
      "None\n",
      "237\n",
      "  filtered frames: 100.0%\n",
      "KKKKKKKKKKKKKKKKKKKKKKKKKKKKKKKKKKKKKKKKKKKKKKKKKKKKKKKKKKKKKKKKKKKKKKKKKKKKKKKKKKKKKKKKKKKKKKKKKKKK\n",
      "KKKKKKKKKKKKKKKKKKKKKKKKKKKKKKKKKKKKKKKKKKKKKKKKKKKKKKKKKKKKKKKKKKKKKKKKKKKKKKKKKKKKKKKKKKKKKKKKKKKK\n",
      "KKKKKKKKKKKKKKKKKKKKKKKKKKKKKKKKKKKKK\n",
      "Stage:  Detection2D.GroundTruthDetection\n",
      "None\n",
      "237\n",
      "  filtered frames: 100.0%\n",
      "KKKKKKKKKKKKKKKKKKKKKKKKKKKKKKKKKKKKKKKKKKKKKKKKKKKKKKKKKKKKKKKKKKKKKKKKKKKKKKKKKKKKKKKKKKKKKKKKKKKK\n",
      "KKKKKKKKKKKKKKKKKKKKKKKKKKKKKKKKKKKKKKKKKKKKKKKKKKKKKKKKKKKKKKKKKKKKKKKKKKKKKKKKKKKKKKKKKKKKKKKKKKKK\n",
      "KKKKKKKKKKKKKKKKKKKKKKKKKKKKKKKKKKKKK\n",
      "dir ./outputs/bbox2d_overlay/boston-seaport-scene-0655-CAM_FRONT.mp4\n",
      "scene-0655-CAM_FRONT_RIGHT ---19 / 60---------------------------------------------------------\n",
      "boston-seaport-scene-0655-CAM_FRONT_RIGHT.mp4\n",
      "de7f64fb4882443e99b21e51997756d7\n",
      "a268011ff232432f8430247dd2424ba2\n",
      "9bc4395805e34bae87c9f2578ab82485\n",
      "270663a747174c2f9b1d43f50898d703\n",
      "eaa353214e464ea48475a1783d0e531a\n",
      "fe439b40e6e9402c92645ea8c269bbec\n",
      "3876d04219b347bb9dcdaf4568c685f0\n",
      "04a28d27f252438ebdacd31687fccb3b\n",
      "9ce2ba0c8db242fc8d5847e56148ac08\n",
      "cf80cdf26aa6437ca0bd7ea63569ee94\n",
      "Stage:  DecodeFrame\n"
     ]
    },
    {
     "name": "stderr",
     "output_type": "stream",
     "text": [
      "100%|████████████████████████████████████████████████████████████████████████████████████████████████████████████████████████████████████████████████████████| 236/236 [00:00<00:00, 339.40it/s]\n"
     ]
    },
    {
     "name": "stdout",
     "output_type": "stream",
     "text": [
      "None\n",
      "236\n",
      "  filtered frames: 100.0%\n",
      "KKKKKKKKKKKKKKKKKKKKKKKKKKKKKKKKKKKKKKKKKKKKKKKKKKKKKKKKKKKKKKKKKKKKKKKKKKKKKKKKKKKKKKKKKKKKKKKKKKKK\n",
      "KKKKKKKKKKKKKKKKKKKKKKKKKKKKKKKKKKKKKKKKKKKKKKKKKKKKKKKKKKKKKKKKKKKKKKKKKKKKKKKKKKKKKKKKKKKKKKKKKKKK\n",
      "KKKKKKKKKKKKKKKKKKKKKKKKKKKKKKKKKKKK\n",
      "Stage:  Detection2D.GroundTruthDetection\n",
      "None\n",
      "236\n",
      "  filtered frames: 100.0%\n",
      "KKKKKKKKKKKKKKKKKKKKKKKKKKKKKKKKKKKKKKKKKKKKKKKKKKKKKKKKKKKKKKKKKKKKKKKKKKKKKKKKKKKKKKKKKKKKKKKKKKKK\n",
      "KKKKKKKKKKKKKKKKKKKKKKKKKKKKKKKKKKKKKKKKKKKKKKKKKKKKKKKKKKKKKKKKKKKKKKKKKKKKKKKKKKKKKKKKKKKKKKKKKKKK\n",
      "KKKKKKKKKKKKKKKKKKKKKKKKKKKKKKKKKKKK\n",
      "dir ./outputs/bbox2d_overlay/boston-seaport-scene-0655-CAM_FRONT_RIGHT.mp4\n",
      "scene-0655-CAM_BACK_RIGHT ---20 / 60---------------------------------------------------------\n",
      "boston-seaport-scene-0655-CAM_BACK_RIGHT.mp4\n",
      "scene-0655-CAM_BACK ---21 / 60---------------------------------------------------------\n",
      "boston-seaport-scene-0655-CAM_BACK.mp4\n",
      "scene-0655-CAM_BACK_LEFT ---22 / 60---------------------------------------------------------\n",
      "boston-seaport-scene-0655-CAM_BACK_LEFT.mp4\n",
      "scene-0655-CAM_FRONT_LEFT ---23 / 60---------------------------------------------------------\n",
      "boston-seaport-scene-0655-CAM_FRONT_LEFT.mp4\n",
      "514d62f8cd534483a9d9509b26e87041\n",
      "f8fa78d7bfec4b1eb07526bb7cb2f6f0\n",
      "82625c043fc24baeab9b930c06743817\n",
      "6d00f51e8e50467a93b5a99217ee7397\n",
      "c6e23e79f24e4ac88b999dac492f9439\n",
      "88084048cc8c4d0897c9a49c32062de6\n",
      "708c609136084419b920af91c2ee711a\n",
      "26b1b47645954212a9435d6a5a87a4ae\n",
      "801b5eb315d54037b55583b4c86a476f\n",
      "42f205bcf52f4053967495df4d15c908\n",
      "Stage:  DecodeFrame\n"
     ]
    },
    {
     "name": "stderr",
     "output_type": "stream",
     "text": [
      "100%|████████████████████████████████████████████████████████████████████████████████████████████████████████████████████████████████████████████████████████| 237/237 [00:00<00:00, 335.51it/s]\n"
     ]
    },
    {
     "name": "stdout",
     "output_type": "stream",
     "text": [
      "None\n",
      "237\n",
      "  filtered frames: 100.0%\n",
      "KKKKKKKKKKKKKKKKKKKKKKKKKKKKKKKKKKKKKKKKKKKKKKKKKKKKKKKKKKKKKKKKKKKKKKKKKKKKKKKKKKKKKKKKKKKKKKKKKKKK\n",
      "KKKKKKKKKKKKKKKKKKKKKKKKKKKKKKKKKKKKKKKKKKKKKKKKKKKKKKKKKKKKKKKKKKKKKKKKKKKKKKKKKKKKKKKKKKKKKKKKKKKK\n",
      "KKKKKKKKKKKKKKKKKKKKKKKKKKKKKKKKKKKKK\n",
      "Stage:  Detection2D.GroundTruthDetection\n",
      "None\n",
      "237\n",
      "  filtered frames: 100.0%\n",
      "KKKKKKKKKKKKKKKKKKKKKKKKKKKKKKKKKKKKKKKKKKKKKKKKKKKKKKKKKKKKKKKKKKKKKKKKKKKKKKKKKKKKKKKKKKKKKKKKKKKK\n",
      "KKKKKKKKKKKKKKKKKKKKKKKKKKKKKKKKKKKKKKKKKKKKKKKKKKKKKKKKKKKKKKKKKKKKKKKKKKKKKKKKKKKKKKKKKKKKKKKKKKKK\n",
      "KKKKKKKKKKKKKKKKKKKKKKKKKKKKKKKKKKKKK\n",
      "dir ./outputs/bbox2d_overlay/boston-seaport-scene-0655-CAM_FRONT_LEFT.mp4\n",
      "scene-0757-CAM_FRONT ---24 / 60---------------------------------------------------------\n",
      "boston-seaport-scene-0757-CAM_FRONT.mp4\n",
      "b04ad7e3c86d47fc98dba25595b2327e\n",
      "1bf75e1109c644c39ef532bfac6eaa56\n",
      "0c79d04570ec4f928ceaf23ada51d153\n",
      "16865eed631c4945b03b3f8efdf694e3\n",
      "81575103361745ea9b2ef11b42571e48\n",
      "805b8ae7b4614ba6a3963afd429b4c36\n",
      "9ce08dbf60bb4b22a952e11f56504292\n",
      "2cc9d3c64f084dc08b8511b763b136c9\n",
      "309ea89a1562422e9a2f59e8e1affa18\n",
      "576a3657c05a4a5baeec4437ee756225\n",
      "Stage:  DecodeFrame\n"
     ]
    },
    {
     "name": "stderr",
     "output_type": "stream",
     "text": [
      "100%|████████████████████████████████████████████████████████████████████████████████████████████████████████████████████████████████████████████████████████| 237/237 [00:00<00:00, 460.71it/s]\n"
     ]
    },
    {
     "name": "stdout",
     "output_type": "stream",
     "text": [
      "None\n",
      "237\n",
      "  filtered frames: 100.0%\n",
      "KKKKKKKKKKKKKKKKKKKKKKKKKKKKKKKKKKKKKKKKKKKKKKKKKKKKKKKKKKKKKKKKKKKKKKKKKKKKKKKKKKKKKKKKKKKKKKKKKKKK\n",
      "KKKKKKKKKKKKKKKKKKKKKKKKKKKKKKKKKKKKKKKKKKKKKKKKKKKKKKKKKKKKKKKKKKKKKKKKKKKKKKKKKKKKKKKKKKKKKKKKKKKK\n",
      "KKKKKKKKKKKKKKKKKKKKKKKKKKKKKKKKKKKKK\n",
      "Stage:  Detection2D.GroundTruthDetection\n",
      "None\n",
      "237\n",
      "  filtered frames: 100.0%\n",
      "KKKKKKKKKKKKKKKKKKKKKKKKKKKKKKKKKKKKKKKKKKKKKKKKKKKKKKKKKKKKKKKKKKKKKKKKKKKKKKKKKKKKKKKKKKKKKKKKKKKK\n",
      "KKKKKKKKKKKKKKKKKKKKKKKKKKKKKKKKKKKKKKKKKKKKKKKKKKKKKKKKKKKKKKKKKKKKKKKKKKKKKKKKKKKKKKKKKKKKKKKKKKKK\n",
      "KKKKKKKKKKKKKKKKKKKKKKKKKKKKKKKKKKKKK\n",
      "dir ./outputs/bbox2d_overlay/boston-seaport-scene-0757-CAM_FRONT.mp4\n",
      "scene-0757-CAM_FRONT_RIGHT ---25 / 60---------------------------------------------------------\n",
      "boston-seaport-scene-0757-CAM_FRONT_RIGHT.mp4\n",
      "920a8ba176bb4197b2aebaeb8aa51ee1\n",
      "14fe41675bf54c86a27c3fc7504b7929\n",
      "8f07855567404b9484265b2ba90073f4\n",
      "befcea3c350842d58300f604e2aa66b9\n",
      "20a567382fea47a8a4be0a4533a620d5\n",
      "cdd72eea4d3f4d93b28ce64d3b62692e\n",
      "8f3cf6022ff84884ab0d59721256cb0d\n",
      "17affc794fc046299bad82985d366d09\n",
      "a10fb01706ea4523b627ea81b48471e0\n",
      "949b3cb8ff89400288f197590e26014b\n",
      "Stage:  DecodeFrame\n"
     ]
    },
    {
     "name": "stderr",
     "output_type": "stream",
     "text": [
      "100%|████████████████████████████████████████████████████████████████████████████████████████████████████████████████████████████████████████████████████████| 236/236 [00:00<00:00, 430.99it/s]\n"
     ]
    },
    {
     "name": "stdout",
     "output_type": "stream",
     "text": [
      "None\n",
      "236\n",
      "  filtered frames: 100.0%\n",
      "KKKKKKKKKKKKKKKKKKKKKKKKKKKKKKKKKKKKKKKKKKKKKKKKKKKKKKKKKKKKKKKKKKKKKKKKKKKKKKKKKKKKKKKKKKKKKKKKKKKK\n",
      "KKKKKKKKKKKKKKKKKKKKKKKKKKKKKKKKKKKKKKKKKKKKKKKKKKKKKKKKKKKKKKKKKKKKKKKKKKKKKKKKKKKKKKKKKKKKKKKKKKKK\n",
      "KKKKKKKKKKKKKKKKKKKKKKKKKKKKKKKKKKKK\n",
      "Stage:  Detection2D.GroundTruthDetection\n",
      "None\n",
      "236\n",
      "  filtered frames: 100.0%\n",
      "KKKKKKKKKKKKKKKKKKKKKKKKKKKKKKKKKKKKKKKKKKKKKKKKKKKKKKKKKKKKKKKKKKKKKKKKKKKKKKKKKKKKKKKKKKKKKKKKKKKK\n",
      "KKKKKKKKKKKKKKKKKKKKKKKKKKKKKKKKKKKKKKKKKKKKKKKKKKKKKKKKKKKKKKKKKKKKKKKKKKKKKKKKKKKKKKKKKKKKKKKKKKKK\n",
      "KKKKKKKKKKKKKKKKKKKKKKKKKKKKKKKKKKKK\n",
      "dir ./outputs/bbox2d_overlay/boston-seaport-scene-0757-CAM_FRONT_RIGHT.mp4\n",
      "scene-0757-CAM_BACK_RIGHT ---26 / 60---------------------------------------------------------\n",
      "boston-seaport-scene-0757-CAM_BACK_RIGHT.mp4\n",
      "scene-0757-CAM_BACK ---27 / 60---------------------------------------------------------\n",
      "boston-seaport-scene-0757-CAM_BACK.mp4\n",
      "scene-0757-CAM_BACK_LEFT ---28 / 60---------------------------------------------------------\n",
      "boston-seaport-scene-0757-CAM_BACK_LEFT.mp4\n",
      "scene-0757-CAM_FRONT_LEFT ---29 / 60---------------------------------------------------------\n",
      "boston-seaport-scene-0757-CAM_FRONT_LEFT.mp4\n",
      "d6206af179d44816b034e3cbd8ab5eea\n",
      "44398719bd8f4a94b36f89d8da649adf\n",
      "a3a4e8a5946c4989a44ab23be8fd7ccf\n",
      "fe55a4ee1a0242e0b5c629469b2934e9\n",
      "30afcc29831f47b58da3aa80b2f69a22\n",
      "cb67e836d0634ccdb74e04cf8f176b07\n",
      "b939e00984d64efcaccc5d6794630c04\n",
      "73c4d174fa8444118bf8e60419d24609\n",
      "0709d075d57049438de537d3e8052dc5\n",
      "665602cdcc7c404280f806138c5128aa\n",
      "Stage:  DecodeFrame\n"
     ]
    },
    {
     "name": "stderr",
     "output_type": "stream",
     "text": [
      "100%|████████████████████████████████████████████████████████████████████████████████████████████████████████████████████████████████████████████████████████| 236/236 [00:00<00:00, 443.55it/s]\n"
     ]
    },
    {
     "name": "stdout",
     "output_type": "stream",
     "text": [
      "None\n",
      "236\n",
      "  filtered frames: 100.0%\n",
      "KKKKKKKKKKKKKKKKKKKKKKKKKKKKKKKKKKKKKKKKKKKKKKKKKKKKKKKKKKKKKKKKKKKKKKKKKKKKKKKKKKKKKKKKKKKKKKKKKKKK\n",
      "KKKKKKKKKKKKKKKKKKKKKKKKKKKKKKKKKKKKKKKKKKKKKKKKKKKKKKKKKKKKKKKKKKKKKKKKKKKKKKKKKKKKKKKKKKKKKKKKKKKK\n",
      "KKKKKKKKKKKKKKKKKKKKKKKKKKKKKKKKKKKK\n",
      "Stage:  Detection2D.GroundTruthDetection\n",
      "None\n",
      "236\n",
      "  filtered frames: 100.0%\n",
      "KKKKKKKKKKKKKKKKKKKKKKKKKKKKKKKKKKKKKKKKKKKKKKKKKKKKKKKKKKKKKKKKKKKKKKKKKKKKKKKKKKKKKKKKKKKKKKKKKKKK\n",
      "KKKKKKKKKKKKKKKKKKKKKKKKKKKKKKKKKKKKKKKKKKKKKKKKKKKKKKKKKKKKKKKKKKKKKKKKKKKKKKKKKKKKKKKKKKKKKKKKKKKK\n",
      "KKKKKKKKKKKKKKKKKKKKKKKKKKKKKKKKKKKK\n",
      "dir ./outputs/bbox2d_overlay/boston-seaport-scene-0757-CAM_FRONT_LEFT.mp4\n",
      "scene-0796-CAM_FRONT ---30 / 60---------------------------------------------------------\n",
      "singapore-queenstown-scene-0796-CAM_FRONT.mp4\n",
      "scene-0796-CAM_FRONT_RIGHT ---31 / 60---------------------------------------------------------\n",
      "singapore-queenstown-scene-0796-CAM_FRONT_RIGHT.mp4\n",
      "scene-0796-CAM_BACK_RIGHT ---32 / 60---------------------------------------------------------\n",
      "singapore-queenstown-scene-0796-CAM_BACK_RIGHT.mp4\n",
      "scene-0796-CAM_BACK ---33 / 60---------------------------------------------------------\n",
      "singapore-queenstown-scene-0796-CAM_BACK.mp4\n",
      "scene-0796-CAM_BACK_LEFT ---34 / 60---------------------------------------------------------\n",
      "singapore-queenstown-scene-0796-CAM_BACK_LEFT.mp4\n",
      "scene-0796-CAM_FRONT_LEFT ---35 / 60---------------------------------------------------------\n",
      "singapore-queenstown-scene-0796-CAM_FRONT_LEFT.mp4\n",
      "scene-0916-CAM_FRONT ---36 / 60---------------------------------------------------------\n",
      "singapore-queenstown-scene-0916-CAM_FRONT.mp4\n",
      "scene-0916-CAM_FRONT_RIGHT ---37 / 60---------------------------------------------------------\n",
      "singapore-queenstown-scene-0916-CAM_FRONT_RIGHT.mp4\n",
      "scene-0916-CAM_BACK_RIGHT ---38 / 60---------------------------------------------------------\n",
      "singapore-queenstown-scene-0916-CAM_BACK_RIGHT.mp4\n",
      "scene-0916-CAM_BACK ---39 / 60---------------------------------------------------------\n",
      "singapore-queenstown-scene-0916-CAM_BACK.mp4\n",
      "scene-0916-CAM_BACK_LEFT ---40 / 60---------------------------------------------------------\n",
      "singapore-queenstown-scene-0916-CAM_BACK_LEFT.mp4\n",
      "scene-0916-CAM_FRONT_LEFT ---41 / 60---------------------------------------------------------\n",
      "singapore-queenstown-scene-0916-CAM_FRONT_LEFT.mp4\n",
      "scene-1077-CAM_FRONT ---42 / 60---------------------------------------------------------\n",
      "singapore-hollandvillage-scene-1077-CAM_FRONT.mp4\n",
      "scene-1077-CAM_FRONT_RIGHT ---43 / 60---------------------------------------------------------\n",
      "singapore-hollandvillage-scene-1077-CAM_FRONT_RIGHT.mp4\n",
      "scene-1077-CAM_BACK_RIGHT ---44 / 60---------------------------------------------------------\n",
      "singapore-hollandvillage-scene-1077-CAM_BACK_RIGHT.mp4\n",
      "scene-1077-CAM_BACK ---45 / 60---------------------------------------------------------\n",
      "singapore-hollandvillage-scene-1077-CAM_BACK.mp4\n",
      "scene-1077-CAM_BACK_LEFT ---46 / 60---------------------------------------------------------\n",
      "singapore-hollandvillage-scene-1077-CAM_BACK_LEFT.mp4\n",
      "scene-1077-CAM_FRONT_LEFT ---47 / 60---------------------------------------------------------\n",
      "singapore-hollandvillage-scene-1077-CAM_FRONT_LEFT.mp4\n",
      "scene-1094-CAM_FRONT ---48 / 60---------------------------------------------------------\n",
      "singapore-hollandvillage-scene-1094-CAM_FRONT.mp4\n",
      "scene-1094-CAM_FRONT_RIGHT ---49 / 60---------------------------------------------------------\n",
      "singapore-hollandvillage-scene-1094-CAM_FRONT_RIGHT.mp4\n",
      "scene-1094-CAM_BACK_RIGHT ---50 / 60---------------------------------------------------------\n",
      "singapore-hollandvillage-scene-1094-CAM_BACK_RIGHT.mp4\n",
      "scene-1094-CAM_BACK ---51 / 60---------------------------------------------------------\n",
      "singapore-hollandvillage-scene-1094-CAM_BACK.mp4\n",
      "scene-1094-CAM_BACK_LEFT ---52 / 60---------------------------------------------------------\n",
      "singapore-hollandvillage-scene-1094-CAM_BACK_LEFT.mp4\n",
      "scene-1094-CAM_FRONT_LEFT ---53 / 60---------------------------------------------------------\n",
      "singapore-hollandvillage-scene-1094-CAM_FRONT_LEFT.mp4\n",
      "scene-1100-CAM_FRONT ---54 / 60---------------------------------------------------------\n",
      "singapore-hollandvillage-scene-1100-CAM_FRONT.mp4\n",
      "scene-1100-CAM_FRONT_RIGHT ---55 / 60---------------------------------------------------------\n",
      "singapore-hollandvillage-scene-1100-CAM_FRONT_RIGHT.mp4\n",
      "scene-1100-CAM_BACK_RIGHT ---56 / 60---------------------------------------------------------\n",
      "singapore-hollandvillage-scene-1100-CAM_BACK_RIGHT.mp4\n",
      "scene-1100-CAM_BACK ---57 / 60---------------------------------------------------------\n",
      "singapore-hollandvillage-scene-1100-CAM_BACK.mp4\n",
      "scene-1100-CAM_BACK_LEFT ---58 / 60---------------------------------------------------------\n",
      "singapore-hollandvillage-scene-1100-CAM_BACK_LEFT.mp4\n",
      "scene-1100-CAM_FRONT_LEFT ---59 / 60---------------------------------------------------------\n",
      "singapore-hollandvillage-scene-1100-CAM_FRONT_LEFT.mp4\n"
     ]
    }
   ],
   "source": [
    "with open(os.path.join(DATA_DIR, 'annotation_partitioned.pkl'), 'rb') as f:\n",
    "    annotations = pickle.load(f)\n",
    "\n",
    "pipeline4 = Pipeline()\n",
    "pipeline4.add_filter(DecodeFrame())\n",
    "pipeline4.add_filter(filter=GroundTruthDetection(annotations))\n",
    "# pipeline4.add_filter(filter=ObjectTypeFilter(type_filter))\n",
    "\n",
    "# pipeline4.add_filter(filter=FromD2DAndRoad())\n",
    "# pipeline4.add_filter(filter=StrongSORT(cache=True))\n",
    "# # pipeline4.add_filter(filter=StrongSORT(cache=False))\n",
    "# pipeline4.add_filter(filter=FromT2DAndRoad())\n",
    "\n",
    "# pipeline4.add_filter(filter=FromTracking3D())\n",
    "# pipeline4.add_filter(filter=GetCameraConfigId())\n",
    "\n",
    "run_benchmark(pipeline4, 'segment-tracking-gt-detection', ignore_error=False)"
   ]
  },
  {
   "cell_type": "code",
   "execution_count": 15,
   "id": "e9d116b4",
   "metadata": {},
   "outputs": [
    {
     "ename": "FileNotFoundError",
     "evalue": "[Errno 2] No such file or directory: './outputs/segment-tracking-without-de-performance.json'",
     "output_type": "error",
     "traceback": [
      "\u001b[0;31m---------------------------------------------------------------------------\u001b[0m",
      "\u001b[0;31mFileNotFoundError\u001b[0m                         Traceback (most recent call last)",
      "Cell \u001b[0;32mIn [15], line 1\u001b[0m\n\u001b[0;32m----> 1\u001b[0m \u001b[38;5;28;01mwith\u001b[39;00m \u001b[38;5;28;43mopen\u001b[39;49m\u001b[43m(\u001b[49m\u001b[38;5;124;43mf\u001b[39;49m\u001b[38;5;124;43m\"\u001b[39;49m\u001b[38;5;124;43m./outputs/segment-tracking-without-de-performance.json\u001b[39;49m\u001b[38;5;124;43m\"\u001b[39;49m\u001b[43m,\u001b[49m\u001b[43m \u001b[49m\u001b[38;5;124;43m\"\u001b[39;49m\u001b[38;5;124;43mr\u001b[39;49m\u001b[38;5;124;43m\"\u001b[39;49m\u001b[43m)\u001b[49m \u001b[38;5;28;01mas\u001b[39;00m f:\n\u001b[1;32m      2\u001b[0m     benchmark \u001b[38;5;241m=\u001b[39m json\u001b[38;5;241m.\u001b[39mload(f)\n\u001b[1;32m      4\u001b[0m ss_cache, ss_no_cache, \u001b[38;5;241m*\u001b[39m_ \u001b[38;5;241m=\u001b[39m benchmark[\u001b[38;5;241m4\u001b[39m:]\n",
      "\u001b[0;31mFileNotFoundError\u001b[0m: [Errno 2] No such file or directory: './outputs/segment-tracking-without-de-performance.json'"
     ]
    }
   ],
   "source": [
    "with open(f\"./outputs/segment-tracking-without-de-performance.json\", \"r\") as f:\n",
    "    benchmark = json.load(f)\n",
    "\n",
    "ss_cache, ss_no_cache, *_ = benchmark[4:]\n",
    "benchmark_data = [\n",
    "    {\n",
    "        'name': ssc['name'],\n",
    "        'runtime_cache': ssc['runtime'],\n",
    "        'runtime_no_cache': ssnc['runtime']\n",
    "    }\n",
    "    for ssc, ssnc\n",
    "    in zip(ss_cache['runtimes'], ss_no_cache['runtimes'])\n",
    "]\n",
    "benchmark_data"
   ]
  },
  {
   "cell_type": "code",
   "execution_count": null,
   "id": "ad112eb8",
   "metadata": {},
   "outputs": [],
   "source": [
    "import altair as alt\n",
    "import pandas as pd"
   ]
  },
  {
   "cell_type": "code",
   "execution_count": null,
   "id": "304b8af8",
   "metadata": {},
   "outputs": [],
   "source": [
    "(alt.Chart(pd.DataFrame.from_dict(benchmark_data))\n",
    "    .mark_point()\n",
    "    .encode(\n",
    "        x='runtime_cache:Q',\n",
    "        y='runtime_no_cache:Q',\n",
    "        tooltip=['name']\n",
    "    )\n",
    ")"
   ]
  },
  {
   "cell_type": "code",
   "execution_count": null,
   "id": "7fd6e166",
   "metadata": {},
   "outputs": [],
   "source": []
  },
  {
   "cell_type": "code",
   "execution_count": null,
   "id": "59a40094",
   "metadata": {},
   "outputs": [],
   "source": []
  }
 ],
 "metadata": {
  "kernelspec": {
   "display_name": "Python 3 (ipykernel)",
   "language": "python",
   "name": "python3"
  },
  "language_info": {
   "codemirror_mode": {
    "name": "ipython",
    "version": 3
   },
   "file_extension": ".py",
   "mimetype": "text/x-python",
   "name": "python",
   "nbconvert_exporter": "python",
   "pygments_lexer": "ipython3",
   "version": "3.10.9"
  }
 },
 "nbformat": 4,
 "nbformat_minor": 5
}
