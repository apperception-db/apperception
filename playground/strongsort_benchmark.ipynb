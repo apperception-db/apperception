{
 "cells": [
  {
   "cell_type": "code",
   "execution_count": null,
   "id": "6f63a0a4",
   "metadata": {
    "execution": {
     "iopub.execute_input": "2022-12-07T20:57:26.124175Z",
     "iopub.status.busy": "2022-12-07T20:57:26.123441Z",
     "iopub.status.idle": "2022-12-07T20:57:31.010468Z",
     "shell.execute_reply": "2022-12-07T20:57:31.009584Z"
    }
   },
   "outputs": [],
   "source": [
    "%cd .."
   ]
  },
  {
   "cell_type": "code",
   "execution_count": null,
   "id": "6c0676a8",
   "metadata": {},
   "outputs": [],
   "source": [
    "import json\n",
    "import os\n",
    "import pickle\n",
    "\n",
    "import numpy as np\n",
    "\n",
    "from optimized_ingestion.camera_config import camera_config\n",
    "from optimized_ingestion.payload import Payload\n",
    "from optimized_ingestion.pipeline import Pipeline\n",
    "from optimized_ingestion.stages.decode_frame.parallel_decode_frame import ParallelDecodeFrame\n",
    "from optimized_ingestion.stages.decode_frame.decode_frame import DecodeFrame\n",
    "from optimized_ingestion.stages.detection_2d.yolo_detection import YoloDetection\n",
    "from optimized_ingestion.stages.detection_2d.object_type_filter import ObjectTypeFilter\n",
    "from optimized_ingestion.stages.detection_3d.from_2d_and_road import From2DAndRoad as FromD2DAndRoad\n",
    "from optimized_ingestion.stages.filter_car_facing_sideway import FilterCarFacingSideway\n",
    "from optimized_ingestion.stages.detection_estimation import DetectionEstimation\n",
    "from optimized_ingestion.stages.detection_estimation.segment_mapping import RoadPolygonInfo\n",
    "from optimized_ingestion.stages.tracking_2d.strongsort import StrongSORT\n",
    "from optimized_ingestion.stages.tracking_2d.tracking_2d import Tracking2D, Tracking2DResult\n",
    "from optimized_ingestion.stages.tracking_3d.from_2d_and_road import From2DAndRoad as FromT2DAndRoad\n",
    "from optimized_ingestion.stages.tracking_3d.tracking_3d import Tracking3DResult\n",
    "from optimized_ingestion.stages.segment_trajectory import SegmentTrajectory\n",
    "from optimized_ingestion.stages.segment_trajectory.construct_segment_trajectory import SegmentPoint\n",
    "from optimized_ingestion.stages.segment_trajectory.from_tracking_3d import FromTracking3D\n",
    "\n",
    "from optimized_ingestion.video import Video\n",
    "from optimized_ingestion.video_skipped import VideoSkipped\n",
    "from optimized_ingestion.video_compressed import VideoCompressed"
   ]
  },
  {
   "cell_type": "code",
   "execution_count": null,
   "id": "59907886",
   "metadata": {
    "execution": {
     "iopub.execute_input": "2022-12-07T20:57:31.015935Z",
     "iopub.status.busy": "2022-12-07T20:57:31.015521Z",
     "iopub.status.idle": "2022-12-07T20:57:31.019398Z",
     "shell.execute_reply": "2022-12-07T20:57:31.018612Z"
    }
   },
   "outputs": [],
   "source": [
    "# from optimized_ingestion.cache import disable_cache\n",
    "# disable_cache()"
   ]
  },
  {
   "cell_type": "code",
   "execution_count": null,
   "id": "229308b3",
   "metadata": {
    "execution": {
     "iopub.execute_input": "2022-12-07T20:57:31.022886Z",
     "iopub.status.busy": "2022-12-07T20:57:31.022266Z",
     "iopub.status.idle": "2022-12-07T20:57:31.039286Z",
     "shell.execute_reply": "2022-12-07T20:57:31.038315Z"
    }
   },
   "outputs": [],
   "source": [
    "BOSTON_VIDEOS = [\n",
    "#     \"scene-0757-CAM_FRONT\",\n",
    "    # \"scene-0103-CAM_FRONT\",\n",
    "    # \"scene-0553-CAM_FRONT\",\n",
    "    # \"scene-0665-CAM_FRONT\",\n",
    "#     \"scene-0655-CAM_FRONT_RIGHT\",\n",
    "    \"scene-0655-CAM_BACK_RIGHT\",\n",
    "]\n",
    "\n",
    "NUSCENES_PROCESSED_DATA = \"NUSCENES_PROCESSED_DATA\""
   ]
  },
  {
   "cell_type": "code",
   "execution_count": null,
   "id": "08ed7cce",
   "metadata": {},
   "outputs": [],
   "source": [
    "import torch"
   ]
  },
  {
   "cell_type": "code",
   "execution_count": null,
   "id": "440a39c7",
   "metadata": {
    "execution": {
     "iopub.execute_input": "2022-12-07T20:57:31.043573Z",
     "iopub.status.busy": "2022-12-07T20:57:31.042785Z",
     "iopub.status.idle": "2022-12-07T20:57:31.060228Z",
     "shell.execute_reply": "2022-12-07T20:57:31.059269Z"
    }
   },
   "outputs": [],
   "source": [
    "class DataclassJSONEncoder(json.JSONEncoder):\n",
    "    def default(self, o):\n",
    "        if isinstance(o, Tracking3DResult):\n",
    "            return {\n",
    "                \"frame_idx\": o.frame_idx,\n",
    "                \"detection_id\": tuple(o.detection_id),\n",
    "                \"object_id\": o.object_id,\n",
    "                \"point_from_camera\": o.point_from_camera,\n",
    "                \"point\": o.point.tolist(),\n",
    "                \"bbox_left\": o.bbox_left,\n",
    "                \"bbox_top\": o.bbox_top,\n",
    "                \"bbox_w\": o.bbox_w,\n",
    "                \"bbox_h\": o.bbox_h,\n",
    "                \"object_type\": o.object_type,\n",
    "                \"timestamp\": str(o.timestamp),\n",
    "            }\n",
    "        if isinstance(o, Tracking2DResult):\n",
    "            return {\n",
    "                \"detection_id\": tuple(o.detection_id),\n",
    "                \"frame_idx\": o.frame_idx,\n",
    "                \"object_id\": o.object_id,\n",
    "                \"bbox_left\": o.bbox_left,\n",
    "                \"bbox_top\": o.bbox_top,\n",
    "                \"bbox_w\": o.bbox_w,\n",
    "                \"bbox_h\": o.bbox_h,\n",
    "                \"object_type\": o.object_type,\n",
    "                \"confidence\": o.confidence\n",
    "            }\n",
    "        if isinstance(o, SegmentPoint):\n",
    "            return {\n",
    "                \"detection_id\": tuple(o.detection_id),\n",
    "                \"car_loc3d\": o.car_loc3d,\n",
    "                \"timestamp\": str(o.timestamp),\n",
    "                \"segment_line\": str(o.segment_line),\n",
    "                \"segment_heading\": o.segment_heading,\n",
    "                \"road_polygon_info\": o.road_polygon_info,\n",
    "                \"obj_id\": o.obj_id,\n",
    "                \"next\": None if o.next is None else tuple(o.next.detection_id),\n",
    "                \"prev\": None if o.prev is None else tuple(o.prev.detection_id),\n",
    "                \n",
    "            }\n",
    "        if isinstance(o, RoadPolygonInfo):\n",
    "            return {\n",
    "                \"id\": o.id,\n",
    "                \"polygon\": str(o.polygon),\n",
    "                \"segment_lines\": [str(l) for l in o.segment_lines],\n",
    "                \"road_type\": o.road_type,\n",
    "                \"segment_headings\": o.segment_headings,\n",
    "                \"contains_ego\": o.contains_ego,\n",
    "                \"ego_config\": o.ego_config,\n",
    "                \"fov_lines\": o.fov_lines\n",
    "            }\n",
    "        if isinstance(o, torch.Tensor):\n",
    "            return o.tolist()\n",
    "        if isinstance(o, np.ndarray):\n",
    "            return o.tolist()\n",
    "        return super().default(o)"
   ]
  },
  {
   "cell_type": "code",
   "execution_count": null,
   "id": "355b8977",
   "metadata": {},
   "outputs": [],
   "source": [
    "print(NUSCENES_PROCESSED_DATA in os.environ)\n",
    "print(os.environ['NUSCENES_PROCESSED_DATA'])"
   ]
  },
  {
   "cell_type": "code",
   "execution_count": null,
   "id": "00c1dd1e",
   "metadata": {},
   "outputs": [],
   "source": [
    "if NUSCENES_PROCESSED_DATA in os.environ:\n",
    "    DATA_DIR = os.environ[NUSCENES_PROCESSED_DATA]\n",
    "else:\n",
    "    DATA_DIR = \"/work/apperception/data/nuScenes/full-dataset-v1.0/Mini\"\n",
    "with open(os.path.join(DATA_DIR, \"videos/boston-seaport\", \"frames-compressed.pickle\"), \"rb\") as f:\n",
    "    videos = pickle.load(f)"
   ]
  },
  {
   "cell_type": "code",
   "execution_count": null,
   "id": "275836d5",
   "metadata": {},
   "outputs": [],
   "source": [
    "def run_benchmark(pipeline, filename):\n",
    "    metadata_strongsort = {}\n",
    "    metadata_3d = {}\n",
    "    metadata_segment = {}\n",
    "    failed_videos = []\n",
    "    for name, video in videos.items():\n",
    "#         try:\n",
    "        print(name, '--------------------------------------------------------------------------------')\n",
    "        frames = VideoCompressed(\n",
    "            os.path.join(DATA_DIR, \"videos/boston-seaport\", video[\"filename\"]),\n",
    "            [camera_config(*f, 0) for f in video[\"frames\"]],\n",
    "        )\n",
    "\n",
    "        output = pipeline.run(Payload(frames))\n",
    "        metadata_strongsort[name] = StrongSORT.get(output)\n",
    "#         except:\n",
    "#             failed_videos.append(name)\n",
    "#             print('error')\n",
    "#         break\n",
    "\n",
    "    with open(f\"./outputs/{filename}.json\", \"w\") as f:\n",
    "        json.dump(metadata_strongsort, f, cls=DataclassJSONEncoder, indent=2)\n",
    "\n",
    "    \n",
    "    with open(f\"./outputs/{filename}-failed-videos.json\", \"w\") as f:\n",
    "        json.dump(failed_videos, f, indent=2)\n",
    "\n",
    "    with open(f\"./outputs/{filename}-performance.json\", \"w\") as f:\n",
    "        performance = [\n",
    "            {\n",
    "                \"stage\": stage.classname(),\n",
    "                \"runtimes\": stage.runtimes,\n",
    "            }\n",
    "            for stage\n",
    "            in pipeline.stages\n",
    "        ]\n",
    "        json.dump(performance, f, indent=2)"
   ]
  },
  {
   "cell_type": "code",
   "execution_count": null,
   "id": "9f1b46b1",
   "metadata": {},
   "outputs": [],
   "source": [
    "type_filter = ['motorcycle', 'car', 'truck', 'bus']"
   ]
  },
  {
   "cell_type": "code",
   "execution_count": null,
   "id": "6c883701",
   "metadata": {},
   "outputs": [],
   "source": [
    "pipeline1 = Pipeline()\n",
    "pipeline1.add_filter(ParallelDecodeFrame())\n",
    "# pipeline1.add_filter(DecodeFrame())\n",
    "pipeline1.add_filter(filter=YoloDetection())\n",
    "# pipeline1.add_filter(filter=ObjectTypeFilter(type_filter))\n",
    "\n",
    "# pipeline1.add_filter(filter=FromD2DAndRoad())\n",
    "pipeline1.add_filter(filter=StrongSORT(cache=True))\n",
    "pipeline1.add_filter(filter=StrongSORT(cache=False))\n",
    "# pipeline1.add_filter(filter=FromT2DAndRoad())\n",
    "\n",
    "# pipeline1.add_filter(filter=FromTracking3D())\n",
    "\n",
    "run_benchmark(pipeline1, 'segment-tracking-without-de')"
   ]
  },
  {
   "cell_type": "code",
   "execution_count": null,
   "id": "381d9083",
   "metadata": {},
   "outputs": [],
   "source": [
    "pipeline1.stages[2].ss_benchmarks"
   ]
  },
  {
   "cell_type": "code",
   "execution_count": null,
   "id": "fc1652f2",
   "metadata": {
    "execution": {
     "iopub.execute_input": "2022-12-07T21:12:20.349340Z",
     "iopub.status.busy": "2022-12-07T21:12:20.348942Z",
     "iopub.status.idle": "2022-12-07T21:39:03.457596Z",
     "shell.execute_reply": "2022-12-07T21:39:03.456343Z"
    }
   },
   "outputs": [],
   "source": [
    "pipeline1.stages[3].ss_benchmarks"
   ]
  },
  {
   "cell_type": "code",
   "execution_count": null,
   "id": "e9d116b4",
   "metadata": {},
   "outputs": [],
   "source": [
    "with open(f\"./outputs/segment-tracking-without-de-performance.json\", \"r\") as f:\n",
    "    benchmark = json.load(f)\n",
    "\n",
    "ss_cache, ss_no_cache, *_ = benchmark[4:]\n",
    "benchmark_data = [\n",
    "    {\n",
    "        'name': ssc['name'],\n",
    "        'runtime_cache': ssc['runtime'],\n",
    "        'runtime_no_cache': ssnc['runtime']\n",
    "    }\n",
    "    for ssc, ssnc\n",
    "    in zip(ss_cache['runtimes'], ss_no_cache['runtimes'])\n",
    "]\n",
    "benchmark_data"
   ]
  },
  {
   "cell_type": "code",
   "execution_count": null,
   "id": "ad112eb8",
   "metadata": {},
   "outputs": [],
   "source": [
    "import altair as alt\n",
    "import pandas as pd"
   ]
  },
  {
   "cell_type": "code",
   "execution_count": null,
   "id": "304b8af8",
   "metadata": {},
   "outputs": [],
   "source": [
    "(alt.Chart(pd.DataFrame.from_dict(benchmark_data))\n",
    "    .mark_point()\n",
    "    .encode(\n",
    "        x='runtime_cache:Q',\n",
    "        y='runtime_no_cache:Q',\n",
    "        tooltip=['name']\n",
    "    )\n",
    ")"
   ]
  },
  {
   "cell_type": "code",
   "execution_count": null,
   "id": "7fd6e166",
   "metadata": {},
   "outputs": [],
   "source": []
  },
  {
   "cell_type": "code",
   "execution_count": null,
   "id": "59a40094",
   "metadata": {},
   "outputs": [],
   "source": []
  }
 ],
 "metadata": {
  "kernelspec": {
   "display_name": "Python 3",
   "language": "python",
   "name": "python3"
  },
  "language_info": {
   "codemirror_mode": {
    "name": "ipython",
    "version": 3
   },
   "file_extension": ".py",
   "mimetype": "text/x-python",
   "name": "python",
   "nbconvert_exporter": "python",
   "pygments_lexer": "ipython3",
   "version": "3.10.8"
  }
 },
 "nbformat": 4,
 "nbformat_minor": 5
}
