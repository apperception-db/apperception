{
 "cells": [
  {
   "cell_type": "code",
   "execution_count": null,
   "id": "0a1a67f9-c160-434d-97b3-bd8d3326458c",
   "metadata": {
    "ExecuteTime": {
     "end_time": "2023-04-10T11:10:24.580691Z",
     "start_time": "2023-04-10T11:10:23.974473Z"
    },
    "tags": []
   },
   "outputs": [],
   "source": [
    "import json\n",
    "import os\n",
    "\n",
    "import altair as alt\n",
    "import pandas as pd"
   ]
  },
  {
   "cell_type": "code",
   "execution_count": null,
   "id": "0ed1d6f8-a7ef-4aaa-b6c0-8632c938f59c",
   "metadata": {
    "ExecuteTime": {
     "end_time": "2023-04-10T11:10:24.607951Z",
     "start_time": "2023-04-10T11:10:24.582553Z"
    },
    "tags": []
   },
   "outputs": [],
   "source": [
    "# alt.data_transformers.enable('csv')\n",
    "alt.data_transformers.disable_max_rows()"
   ]
  },
  {
   "cell_type": "code",
   "execution_count": null,
   "id": "a177af2f-2193-46c5-ac99-3b1387e7ee15",
   "metadata": {
    "ExecuteTime": {
     "end_time": "2023-04-10T11:10:24.788060Z",
     "start_time": "2023-04-10T11:10:24.624037Z"
    },
    "tags": []
   },
   "outputs": [],
   "source": [
    "DATA_DIR = '../outputs/inview'"
   ]
  },
  {
   "cell_type": "code",
   "execution_count": null,
   "id": "810c9b80-9a8e-4e35-9d56-98c8f0146115",
   "metadata": {
    "ExecuteTime": {
     "end_time": "2023-04-10T11:10:24.854724Z",
     "start_time": "2023-04-10T11:10:24.656098Z"
    },
    "tags": []
   },
   "outputs": [],
   "source": [
    "failed_videos = {}\n",
    "for f in os.listdir(DATA_DIR):\n",
    "    if not f.startswith('test-inview--failed_videos'): continue\n",
    "\n",
    "    with open(os.path.join(DATA_DIR, f), 'r') as _f:\n",
    "        content = json.load(_f)\n",
    "\n",
    "    name = f[len('test-inview--failed_videos--'):-len('.json')]\n",
    "    failed_videos[name] = []\n",
    "    for v_name, err in content:\n",
    "        failed_videos[name].append(v_name)"
   ]
  },
  {
   "cell_type": "code",
   "execution_count": null,
   "id": "aaa4dd81-0e2e-45d8-9995-871cd444f93a",
   "metadata": {
    "ExecuteTime": {
     "end_time": "2023-04-10T11:10:24.945773Z",
     "start_time": "2023-04-10T11:10:24.720571Z"
    },
    "tags": []
   },
   "outputs": [],
   "source": [
    "stage_order = [\n",
    "    'InView', 'InViewOld', 'DecodeFrame', 'Detection2D.YoloDetection', 'Detection2D.ObjectTypeFilter',\n",
    "    'DepthEstimation', 'Detection3D.FromDetection2DAndDepth', 'Detection3D.FromDetection2DAndRoad',\n",
    "    'DetectionEstimation', 'Tracking2D.StrongSORT', 'Tracking3D.FromTracking2DAndDepth',\n",
    "    'Tracking3D.FromTracking2DAndRoad', 'SegmentTrajectory.FromTracking3D'\n",
    "]\n",
    "\n",
    "test_names = {\n",
    "    'de': 'Only Detection Estimation',\n",
    "    'noopt': 'Baseline',\n",
    "    'inview': 'Only In-View',\n",
    "    'geo': 'Only Geo Depth Estimation',\n",
    "    'objectfilter': 'Only Object Filter',\n",
    "    'opt': 'Optimized',\n",
    "    'optde': 'Optimized with Detection Estimation',\n",
    "    'inview-new': 'New In-View',\n",
    "    'inview-old': 'Old In-View',\n",
    "    'inview-old2': 'Old In-View - minDistance',\n",
    "}\n",
    "\n",
    "test_order = [\n",
    "    'noopt',\n",
    "    'inview',\n",
    "    'objectfilter',\n",
    "    'geo',\n",
    "    'de',\n",
    "    'opt',\n",
    "    'optde'\n",
    "]"
   ]
  },
  {
   "cell_type": "code",
   "execution_count": null,
   "id": "a77d81f9-0bc8-4ba4-878b-2db0f2218b38",
   "metadata": {
    "ExecuteTime": {
     "end_time": "2023-04-10T11:10:25.841741Z",
     "start_time": "2023-04-10T11:10:24.720571Z"
    },
    "tags": []
   },
   "outputs": [],
   "source": [
    "def combine_perf():\n",
    "    data = []\n",
    "    for filename in os.listdir(DATA_DIR):\n",
    "        if filename.startswith('test-inview--perf'):\n",
    "            print(filename)\n",
    "            test = filename.split(\"--\")[2].split(\".\")[0]\n",
    "            with open(os.path.join(DATA_DIR, filename), 'r') as f:\n",
    "                for stage in json.load(f):\n",
    "                    stagename = stage['stage']\n",
    "                    for b in stage['benchmark']:\n",
    "                        after, before = b['keep']\n",
    "                        assert after <= before\n",
    "                        skip = (1. - (after / before)) if before != 0 else 0\n",
    "                        data.append({\n",
    "                            **b,\n",
    "                            'stage': (stagename\n",
    "                                      .replace('Detection2D', 'D2D')\n",
    "                                      .replace('Detection3D', 'D3D')\n",
    "                                      .replace('Tracking2D', 'T2D')\n",
    "                                      .replace('Tracking3D', 'T3D')\n",
    "                                      .replace('SegmentTrajectory', 'ST')),\n",
    "                            '_test': test,\n",
    "                            'test': test_names[test],\n",
    "                            'test_order': 0, # test_order.index(test),\n",
    "                            'name': b['name'].split('/')[-1].split('.')[0],\n",
    "                            'skip': skip,\n",
    "                            'stage_order': stage_order.index(stagename)\n",
    "                        })\n",
    "    return data\n",
    "\n",
    "\n",
    "perf = combine_perf()"
   ]
  },
  {
   "cell_type": "code",
   "execution_count": null,
   "id": "2ed7434b-f1c2-45e6-ae17-bce6c5397645",
   "metadata": {
    "ExecuteTime": {
     "end_time": "2023-04-10T11:10:25.860096Z",
     "start_time": "2023-04-10T11:10:25.845116Z"
    },
    "tags": []
   },
   "outputs": [],
   "source": [
    "# with open('./output/perf.json', 'w') as f:\n",
    "#     json.dump([p for p in perf if p['run'] == \"0\"], f, indent=1)"
   ]
  },
  {
   "cell_type": "code",
   "execution_count": null,
   "id": "abb81632-00d9-4ad6-a943-f07e17ba5e35",
   "metadata": {
    "ExecuteTime": {
     "end_time": "2023-04-10T11:10:25.962251Z",
     "start_time": "2023-04-10T11:10:25.924955Z"
    },
    "tags": []
   },
   "outputs": [],
   "source": [
    "perf[0]"
   ]
  },
  {
   "cell_type": "code",
   "execution_count": null,
   "id": "e90c37c4-bfd4-4919-adab-86157be08a5d",
   "metadata": {
    "ExecuteTime": {
     "end_time": "2023-04-10T11:10:25.970263Z",
     "start_time": "2023-04-10T11:10:25.924955Z"
    },
    "tags": []
   },
   "outputs": [],
   "source": [
    "for name, videos in failed_videos.items():\n",
    "    if len(videos) != 0:\n",
    "        print(name, videos)"
   ]
  },
  {
   "cell_type": "code",
   "execution_count": null,
   "id": "e5b72aa0-9829-4bbc-94ca-22f554c8b04a",
   "metadata": {
    "ExecuteTime": {
     "end_time": "2023-04-10T11:10:26.261378Z",
     "start_time": "2023-04-10T11:10:25.924955Z"
    },
    "tags": []
   },
   "outputs": [],
   "source": [
    "df_perf = pd.DataFrame.from_dict(perf)\n",
    "# df_perf = df_perf[df_perf['run'] == \"0\"]\n",
    "df_perf[:10]"
   ]
  },
  {
   "cell_type": "code",
   "execution_count": null,
   "id": "17d0a7af-f015-4957-ba45-4abceb67f84c",
   "metadata": {
    "ExecuteTime": {
     "end_time": "2023-04-10T11:10:26.438729Z",
     "start_time": "2023-04-10T11:10:26.230075Z"
    },
    "tags": []
   },
   "outputs": [],
   "source": [
    "df_perf.groupby(['test', 'stage'])[['name']].count()"
   ]
  },
  {
   "cell_type": "code",
   "execution_count": null,
   "id": "493f6417-356e-454b-8af8-a506ef59bff8",
   "metadata": {
    "ExecuteTime": {
     "end_time": "2023-04-10T11:10:29.434629Z",
     "start_time": "2023-04-10T11:10:22.678032Z"
    },
    "tags": []
   },
   "outputs": [],
   "source": [
    "df_new = df_perf[df_perf._test == 'inview-new']\n",
    "df_old = df_perf[df_perf._test == 'inview-old']\n",
    "df_old2 = df_perf[df_perf._test == 'inview-old2']"
   ]
  },
  {
   "cell_type": "code",
   "execution_count": null,
   "id": "cffbedb0",
   "metadata": {
    "ExecuteTime": {
     "end_time": "2023-04-10T11:35:27.766145Z",
     "start_time": "2023-04-10T11:35:27.719650Z"
    },
    "jupyter": {
     "outputs_hidden": false
    }
   },
   "outputs": [],
   "source": [
    "indices = ['name']\n",
    "\n",
    "df = (df_new\n",
    "    .set_index(indices)\n",
    "    .join(df_old.set_index(indices), lsuffix='_new', how='inner')\n",
    "    .join(df_old2.set_index(indices), lsuffix='_old', rsuffix='_old2', how='inner')\n",
    "    .reset_index()\n",
    "    [['name', 'runtime_new', 'skip_new', 'runtime_old', 'skip_old', 'runtime_old2', 'skip_old2']]\n",
    ")\n",
    "df"
   ]
  },
  {
   "cell_type": "code",
   "execution_count": null,
   "id": "535fdf05-8bff-469c-b4ef-17ed5a561de2",
   "metadata": {
    "ExecuteTime": {
     "end_time": "2023-04-10T11:10:29.417055Z",
     "start_time": "2023-04-10T11:10:26.341874Z"
    },
    "jupyter": {
     "source_hidden": true
    },
    "tags": []
   },
   "outputs": [],
   "source": [
    "(alt.Chart(df_perf, title=\"Average Runtime for each test\", height=300, width=800)\n",
    "    .mark_bar()\n",
    "    .encode(x='average(runtime)', y='test:O')\n",
    ")"
   ]
  },
  {
   "cell_type": "code",
   "execution_count": null,
   "id": "5aa43f86-1da3-4d77-ae76-a4b808bbc6f3",
   "metadata": {
    "jupyter": {
     "source_hidden": true
    },
    "tags": []
   },
   "outputs": [],
   "source": [
    "brush = alt.selection(type='interval', resolve='global')\n",
    "base = (alt.Chart(df)\n",
    "    .mark_point(opacity=0.1)\n",
    "    .encode(\n",
    "        alt.Y('runtime_new:Q'),\n",
    "        color=alt.condition(brush, alt.ColorValue('steelblue'), alt.ColorValue('gray')),\n",
    "    )\n",
    "    .add_selection(brush)\n",
    ")\n",
    "scale = alt.Scale(domain=[0, 0.6])\n",
    "base.encode(alt.X('runtime_old:Q', scale=scale)) | base.encode(alt.X('runtime_old2:Q', scale=scale, title=\"runtime_old - minDistance\"))"
   ]
  },
  {
   "cell_type": "code",
   "execution_count": null,
   "id": "12bdb1cd-4389-40cb-8549-eab4e1c6b556",
   "metadata": {
    "jupyter": {
     "source_hidden": true
    },
    "tags": []
   },
   "outputs": [],
   "source": [
    "base = (alt.Chart(df_perf)\n",
    "    .encode(\n",
    "        alt.Y('test:O'),\n",
    "        alt.X('runtime:Q')\n",
    "    )\n",
    ")\n",
    "\n",
    "base.mark_boxplot() & base.mark_tick(opacity=0.02)"
   ]
  },
  {
   "cell_type": "code",
   "execution_count": null,
   "id": "ad05c15a-ddda-4ff3-a4d8-b62ca1bc7552",
   "metadata": {
    "jupyter": {
     "source_hidden": true
    },
    "tags": []
   },
   "outputs": [],
   "source": [
    "base = (alt.Chart(df_perf)\n",
    "    .encode(\n",
    "        alt.Y('test:O'),\n",
    "        alt.X('skip:Q', scale=alt.Scale(domain=[0, 1]), title=\"Skip Ratio\")\n",
    "    )\n",
    ")\n",
    "\n",
    "base.mark_boxplot() & base.mark_tick(opacity=0.2) & base.mark_errorbar(extent='ci')"
   ]
  },
  {
   "cell_type": "code",
   "execution_count": null,
   "id": "34e61950-ca7c-4e05-a310-47c808711de8",
   "metadata": {
    "tags": []
   },
   "outputs": [],
   "source": [
    "alt.Chart(df).mark_point().encode(\n",
    "    alt.X(alt.repeat(\"column\"), type='quantitative'),\n",
    "    alt.Y(alt.repeat(\"row\"), type='quantitative'),\n",
    ").properties(\n",
    "    width=150,\n",
    "    height=150\n",
    ").repeat(\n",
    "    row=['runtime_new', 'runtime_old', 'runtime_old2'],\n",
    "    column=['runtime_old2', 'runtime_old', 'runtime_new']\n",
    ").interactive()"
   ]
  },
  {
   "cell_type": "code",
   "execution_count": null,
   "id": "d9ea38e6",
   "metadata": {
    "ExecuteTime": {
     "end_time": "2023-04-10T11:36:31.289056Z",
     "start_time": "2023-04-10T11:36:31.092487Z"
    },
    "jupyter": {
     "source_hidden": true
    },
    "tags": []
   },
   "outputs": [],
   "source": [
    "(\n",
    "    alt.Chart(\n",
    "        df_perf,\n",
    "        title='CDF of skip ratio'\n",
    "    )\n",
    "    .transform_window(\n",
    "        ECDF=\"cume_dist()\",\n",
    "        groupby=[\"test\"],\n",
    "        sort=[{\"field\": \"skip\"}],\n",
    "    )\n",
    "    .mark_line()\n",
    "    .encode(\n",
    "        alt.X(\"skip:Q\", title='Frame Skip Ratio'),\n",
    "        alt.Y(\"ECDF:Q\"),\n",
    "        color=\"test:N\"\n",
    "    )\n",
    ")"
   ]
  },
  {
   "cell_type": "code",
   "execution_count": null,
   "id": "2cb2cfe9",
   "metadata": {
    "ExecuteTime": {
     "end_time": "2023-04-10T11:36:31.325936Z",
     "start_time": "2023-04-10T11:36:31.161527Z"
    },
    "tags": []
   },
   "outputs": [],
   "source": [
    "(\n",
    "    alt.Chart(\n",
    "        df_perf,\n",
    "        title='CDF of Runtime'\n",
    "    )\n",
    "    .transform_window(\n",
    "        ECDF=\"cume_dist()\",\n",
    "        groupby=['test'],\n",
    "        sort=[{\"field\": \"runtime\"}],\n",
    "    )\n",
    "    .mark_line()\n",
    "    .encode(\n",
    "        x=alt.X(\"runtime:Q\", title='Runtime (ms)'),\n",
    "        y=\"ECDF:Q\",\n",
    "        color='test:N'\n",
    "    )\n",
    ")\n"
   ]
  },
  {
   "cell_type": "code",
   "execution_count": null,
   "id": "707bdb10-08aa-4ed3-ab3e-0780fdda153e",
   "metadata": {},
   "outputs": [],
   "source": [
    "base = (\n",
    "    alt.Chart(\n",
    "        df_perf,\n",
    "        title='CDF of Runtime',\n",
    "        width=350\n",
    "    )\n",
    "    .transform_window(\n",
    "        ECDF=\"cume_dist()\",\n",
    "        groupby=['test'],\n",
    "        sort=[{\"field\": \"runtime\"}],\n",
    "    )\n",
    "    .mark_line()\n",
    "    .encode(\n",
    "        x=alt.X(\"runtime:Q\", title='Runtime (ms)'),\n",
    "        y=\"ECDF:Q\"\n",
    "    )\n",
    ")\n",
    "\n",
    "(\n",
    "    base.transform_filter(\"datum.test === 'New In-View'\").properties(title='New In-View') |\n",
    "    base.transform_filter(\"datum.test === 'Old In-View'\").properties(title='Old In-View') |\n",
    "    base.transform_filter(\"datum.test === 'Old In-View - minDistance'\").properties(title='Old In-View - minDistance')\n",
    ")"
   ]
  },
  {
   "cell_type": "code",
   "execution_count": null,
   "id": "89642cff-2cba-4ddf-aa3f-f11865edcf86",
   "metadata": {},
   "outputs": [],
   "source": []
  }
 ],
 "metadata": {
  "kernelspec": {
   "display_name": "Python 3 (ipykernel)",
   "language": "python",
   "name": "python3"
  },
  "language_info": {
   "codemirror_mode": {
    "name": "ipython",
    "version": 3
   },
   "file_extension": ".py",
   "mimetype": "text/x-python",
   "name": "python",
   "nbconvert_exporter": "python",
   "pygments_lexer": "ipython3",
   "version": "3.10.10"
  }
 },
 "nbformat": 4,
 "nbformat_minor": 5
}
