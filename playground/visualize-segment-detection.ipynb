{
 "cells": [
  {
   "cell_type": "code",
   "execution_count": null,
   "id": "13ae2034",
   "metadata": {},
   "outputs": [],
   "source": [
    "import os\n",
    "import json\n",
    "import pandas as pd\n",
    "import pickle\n",
    "import cv2\n",
    "\n",
    "\n",
    "from tqdm import tqdm\n",
    "from datetime import datetime"
   ]
  },
  {
   "cell_type": "code",
   "execution_count": null,
   "id": "eedb9192",
   "metadata": {},
   "outputs": [],
   "source": [
    "PIPELINE_OUTPUT = '/Users/chanwutk/Documents/data/pipeline-outputs'\n",
    "VIDEO = '/Users/chanwutk/Documents/data/videos'"
   ]
  },
  {
   "cell_type": "code",
   "execution_count": null,
   "id": "c4b3d946",
   "metadata": {},
   "outputs": [],
   "source": [
    "with open(os.path.join(PIPELINE_OUTPUT, 'segment-tracking-without-de-segment.json'), 'r') as f:\n",
    "    trajectory_json = json.load(f)\n",
    "trajectory_json[[*trajectory_json.keys()][0]][4]"
   ]
  },
  {
   "cell_type": "code",
   "execution_count": null,
   "id": "a37b1e16",
   "metadata": {},
   "outputs": [],
   "source": [
    "with open(os.path.join(PIPELINE_OUTPUT, 'segment-tracking-without-de-3d.json'), 'r') as f:\n",
    "    trajectory_point_json = json.load(f)"
   ]
  },
  {
   "cell_type": "code",
   "execution_count": null,
   "id": "81bddb3b",
   "metadata": {},
   "outputs": [],
   "source": [
    "with open(os.path.join(VIDEO, 'frames.pkl'), 'rb') as f:\n",
    "    frames = pickle.load(f)\n",
    "frames['scene-0061-CAM_FRONT']"
   ]
  },
  {
   "cell_type": "code",
   "execution_count": null,
   "id": "e429f124",
   "metadata": {},
   "outputs": [],
   "source": []
  },
  {
   "cell_type": "code",
   "execution_count": null,
   "id": "1f76fd17",
   "metadata": {},
   "outputs": [],
   "source": [
    "def build_trajectories(metadata):\n",
    "    id_to_trajectory = {}\n",
    "    for m in metadata:\n",
    "        for oid, det in m.items():\n",
    "            if oid not in id_to_trajectory:\n",
    "                id_to_trajectory[oid] = []\n",
    "            id_to_trajectory[oid].append(det)\n",
    "    \n",
    "    for dets in id_to_trajectory.values():\n",
    "        dets.sort(key=lambda d: d['timestamp'])\n",
    "    return id_to_trajectory"
   ]
  },
  {
   "cell_type": "code",
   "execution_count": null,
   "id": "0023400b",
   "metadata": {},
   "outputs": [],
   "source": [
    "video_output_path = os.path.join(PIPELINE_OUTPUT, 'videos')\n",
    "\n",
    "if not os.path.exists(video_output_path):\n",
    "    os.makedirs(video_output_path)\n",
    "\n",
    "for scene_name, trajs in trajectory_json.items():\n",
    "    print(scene_name)\n",
    "    id_to_trajectory = build_trajectories(trajs)\n",
    "    _frames = frames[scene_name]\n",
    "    video_filename = _frames['filename']\n",
    "    cap = cv2.VideoCapture(os.path.join(VIDEO, video_filename))\n",
    "    \n",
    "    if (cap.isOpened()== False): \n",
    "        print(\"Error opening video stream or file\")\n",
    "    video_frames = []\n",
    "    while(cap.isOpened()):\n",
    "        # Capture frame-by-frame\n",
    "        ret, frame = cap.read()\n",
    "        if ret == True:\n",
    "            video_frames.append(frame)\n",
    "        else: \n",
    "            break\n",
    "    \n",
    "    assert len(video_frames) == len(_frames['frames'])\n",
    "\n",
    "    # When everything done, release the video capture object\n",
    "    cap.release()\n",
    "\n",
    "    # Closes all the frames\n",
    "    cv2.destroyAllWindows()\n",
    "    \n",
    "    video_scene_path = os.path.join(video_output_path, scene_name)\n",
    "    if not os.path.exists(video_scene_path):\n",
    "        os.makedirs(video_scene_path)\n",
    "    \n",
    "    for oid, trajectory in id_to_trajectory.items():\n",
    "        min_time = min(t['timestamp'] for t in trajectory)\n",
    "        max_time = max(t['timestamp'] for t in trajectory)\n",
    "        print(oid, min_time, max_time)\n",
    "        filtered_frames = [(i, f) for i, f in enumerate(_frames['frames']) if min_time <= str(f[9]) <= max_time]\n",
    "#         print(trajectory[0])\n",
    "#         print([str(i) + ' ' + str(f[9]) for i, f in filtered_frames])\n",
    "    \n",
    "        out = cv2.VideoWriter(os.path.join(video_scene_path, f'{oid}.mp4'),cv2.VideoWriter_fourcc(*'mp4v'), 12, (1600, 900))\n",
    "        for i, f in tqdm(filtered_frames):\n",
    "            video_frame = video_frames[i].copy()\n",
    "            segments = [s for s in trajectory if s['detection_id'][0] == i]\n",
    "            assert len(segments) <= 1, segments\n",
    "            if len(segments) == 0:\n",
    "                assert oid not in trajectory_point_json[scene_name][i]\n",
    "            else:\n",
    "                segment = segments[0]\n",
    "                det = trajectory_point_json[scene_name][i][oid]\n",
    "                assert det['detection_id'] == segment['detection_id']\n",
    "                assert det['detection_id'][0] == i\n",
    "                \n",
    "                start_point = tuple(map(int, (det['bbox_left'], det['bbox_top'])))\n",
    "                end_point = tuple(map(int, (det['bbox_left'] + det['bbox_w'], det['bbox_top'] + det['bbox_h'])))\n",
    "#                 print(start_point, end_point)\n",
    "                color = (255, 0, 0)\n",
    "                thickness = 2\n",
    "                video_frame = cv2.rectangle(video_frame, start_point, end_point, color, thickness)\n",
    "            out.write(video_frame)\n",
    "        out.release()\n"
   ]
  },
  {
   "cell_type": "code",
   "execution_count": null,
   "id": "38deba91",
   "metadata": {},
   "outputs": [],
   "source": []
  }
 ],
 "metadata": {
  "kernelspec": {
   "display_name": "Python 3 (ipykernel)",
   "language": "python",
   "name": "python3"
  },
  "language_info": {
   "codemirror_mode": {
    "name": "ipython",
    "version": 3
   },
   "file_extension": ".py",
   "mimetype": "text/x-python",
   "name": "python",
   "nbconvert_exporter": "python",
   "pygments_lexer": "ipython3",
   "version": "3.10.8"
  }
 },
 "nbformat": 4,
 "nbformat_minor": 5
}
