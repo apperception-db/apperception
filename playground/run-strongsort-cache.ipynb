{
 "cells": [
  {
   "cell_type": "code",
   "execution_count": null,
   "id": "569e4726-2856-4e5f-a220-e3bef1c110e1",
   "metadata": {
    "tags": []
   },
   "outputs": [],
   "source": [
    "import subprocess\n",
    "import json\n",
    "import os\n",
    "import pickle\n",
    "import traceback\n",
    "import shutil\n",
    "import socket\n",
    "import time\n",
    "import random\n",
    "\n",
    "from os import environ\n",
    "\n",
    "import numpy as np\n",
    "import torch\n",
    "import psycopg2\n",
    "\n",
    "subprocess.Popen('nvidia-smi', shell=True).wait()\n",
    "process = subprocess.Popen('docker container start mobilitydb', shell=True)"
   ]
  },
  {
   "cell_type": "code",
   "execution_count": null,
   "id": "7bcaf7b9-8b3f-4f2f-ad00-08b197795820",
   "metadata": {
    "tags": []
   },
   "outputs": [],
   "source": [
    "hostname = socket.gethostname()\n",
    "test = hostname.split(\"-\")[-1]\n",
    "print(\"test\", test)"
   ]
  },
  {
   "cell_type": "code",
   "execution_count": null,
   "id": "df967c40-baae-4473-8ab4-0ddfd630eb59",
   "metadata": {
    "tags": []
   },
   "outputs": [],
   "source": [
    "def is_notebook() -> bool:\n",
    "    try:\n",
    "        shell = get_ipython().__class__.__name__\n",
    "        if shell == 'ZMQInteractiveShell':\n",
    "            # Jupyter notebook or qtconsole\n",
    "            return True\n",
    "        elif shell == 'TerminalInteractiveShell':\n",
    "            # Terminal running IPython\n",
    "            return False\n",
    "        else:\n",
    "            # Other type (?)\n",
    "            return False\n",
    "    except NameError:\n",
    "        # Probably standard Python interpreter\n",
    "        return False\n",
    "\n",
    "\n",
    "if is_notebook():\n",
    "    %cd ..\n",
    "    from tqdm.notebook import tqdm\n",
    "    from nbutils.report_progress import report_progress\n",
    "else:\n",
    "    from tqdm import tqdm\n",
    "    from playground.nbutils.report_progress import report_progress"
   ]
  },
  {
   "cell_type": "code",
   "execution_count": null,
   "id": "edb4d993-d0a4-49d5-8b4d-1b3a62f66da4",
   "metadata": {
    "tags": []
   },
   "outputs": [],
   "source": [
    "process.wait()"
   ]
  },
  {
   "cell_type": "code",
   "execution_count": null,
   "id": "ddcd5926-911d-437d-b67f-6814d5eb7c0b",
   "metadata": {
    "tags": []
   },
   "outputs": [],
   "source": [
    "from spatialyze.video_processor.camera_config import camera_config\n",
    "from spatialyze.video_processor.payload import Payload\n",
    "from spatialyze.video_processor.pipeline import Pipeline\n",
    "from spatialyze.video_processor.video import Video\n",
    "from spatialyze.video_processor.metadata_json_encoder import MetadataJSONEncoder"
   ]
  },
  {
   "cell_type": "code",
   "execution_count": null,
   "id": "863b7bd6-7bc4-4658-bb06-043ba955aef3",
   "metadata": {
    "tags": []
   },
   "outputs": [],
   "source": [
    "# Stages\n",
    "from spatialyze.video_processor.stages.in_view import InView\n",
    "\n",
    "from spatialyze.video_processor.stages.decode_frame.decode_frame import DecodeFrame\n",
    "\n",
    "from spatialyze.video_processor.stages.detection_2d.detection_2d import Detection2D\n",
    "from spatialyze.video_processor.stages.detection_2d.yolo_detection import YoloDetection\n",
    "from spatialyze.video_processor.stages.detection_2d.object_type_filter import ObjectTypeFilter\n",
    "from spatialyze.video_processor.stages.detection_2d.ground_truth import GroundTruthDetection"
   ]
  },
  {
   "cell_type": "code",
   "execution_count": null,
   "id": "6ee9880e-27d0-47f3-a3dd-36b70d199d8a",
   "metadata": {
    "tags": []
   },
   "outputs": [],
   "source": [
    "from spatialyze.video_processor.stages.detection_3d.from_detection_2d_and_road import FromDetection2DAndRoad\n",
    "from spatialyze.video_processor.stages.detection_3d.from_detection_2d_and_depth import FromDetection2DAndDepth\n",
    "\n",
    "from spatialyze.video_processor.stages.depth_estimation import DepthEstimation\n",
    "\n",
    "from spatialyze.video_processor.stages.detection_estimation import DetectionEstimation\n",
    "from spatialyze.video_processor.stages.detection_estimation.segment_mapping import RoadPolygonInfo"
   ]
  },
  {
   "cell_type": "code",
   "execution_count": null,
   "id": "3c4bddca-a1ae-4806-be85-8cf397d01ec9",
   "metadata": {
    "tags": []
   },
   "outputs": [],
   "source": [
    "from spatialyze.video_processor.stages.tracking.strongsort import StrongSORT\n",
    "from spatialyze.video_processor.stages.tracking_2d.strongsort import StrongSORT as StrongSORT2D"
   ]
  },
  {
   "cell_type": "code",
   "execution_count": null,
   "id": "6737b34b-d928-45aa-940e-b23a7a6e5eb0",
   "metadata": {
    "tags": []
   },
   "outputs": [],
   "source": [
    "from spatialyze.video_processor.stages.tracking_3d.from_tracking_2d_and_road import FromTracking2DAndRoad\n",
    "from spatialyze.video_processor.stages.tracking_3d.from_tracking_2d_and_depth import FromTracking2DAndDepth\n",
    "from spatialyze.video_processor.stages.tracking_3d.tracking_3d import Tracking3DResult, Tracking3D\n",
    "\n",
    "from spatialyze.video_processor.stages.segment_trajectory import SegmentTrajectory\n",
    "from spatialyze.video_processor.stages.segment_trajectory.construct_segment_trajectory import SegmentPoint\n",
    "from spatialyze.video_processor.stages.segment_trajectory.from_tracking_3d import FromTracking3D"
   ]
  },
  {
   "cell_type": "code",
   "execution_count": null,
   "id": "59907886",
   "metadata": {
    "tags": []
   },
   "outputs": [],
   "source": [
    "from spatialyze.video_processor.cache import disable_cache\n",
    "disable_cache()"
   ]
  },
  {
   "cell_type": "code",
   "execution_count": null,
   "id": "e650e6ca-9d7c-41e9-98ee-f682b399040f",
   "metadata": {
    "tags": []
   },
   "outputs": [],
   "source": [
    "from spatialyze.video_processor.utils.process_pipeline import format_trajectory, insert_trajectory, get_tracks\n",
    "from spatialyze.video_processor.actions.tracking2d_overlay import tracking2d_overlay"
   ]
  },
  {
   "cell_type": "code",
   "execution_count": null,
   "id": "264c8190-89ee-472a-bd73-d553eb3e3278",
   "metadata": {
    "tags": []
   },
   "outputs": [],
   "source": [
    "from apperception.utils.ingest_road import ingest_road\n",
    "from apperception.database import database, Database\n",
    "from apperception.world import empty_world\n",
    "from apperception.utils import F\n",
    "from apperception.predicate import camera, objects, lit, FindAllTablesVisitor, normalize, MapTablesTransformer, GenSqlVisitor\n",
    "from apperception.data_types.camera import Camera as ACamera\n",
    "from apperception.data_types.camera_config import CameraConfig as ACameraConfig"
   ]
  },
  {
   "cell_type": "code",
   "execution_count": null,
   "id": "355b8977",
   "metadata": {
    "tags": []
   },
   "outputs": [],
   "source": [
    "NUSCENES_PROCESSED_DATA = \"NUSCENES_PROCESSED_DATA\"\n",
    "print(NUSCENES_PROCESSED_DATA in os.environ)\n",
    "print(os.environ['NUSCENES_PROCESSED_DATA'])"
   ]
  },
  {
   "cell_type": "code",
   "execution_count": null,
   "id": "00c1dd1e",
   "metadata": {
    "tags": []
   },
   "outputs": [],
   "source": [
    "DATA_DIR = os.environ[NUSCENES_PROCESSED_DATA]\n",
    "# with open(os.path.join(DATA_DIR, \"videos\", \"frames.pkl\"), \"rb\") as f:\n",
    "#     videos = pickle.load(f)\n",
    "with open(os.path.join(DATA_DIR, 'videos', 'videos.json'), 'r') as f:\n",
    "    videos = json.load(f)"
   ]
  },
  {
   "cell_type": "code",
   "execution_count": null,
   "id": "1f6981ac-60b4-43f4-9c3b-32a4e84e4aa1",
   "metadata": {
    "tags": []
   },
   "outputs": [],
   "source": [
    "with open('./data/evaluation/video-samples/boston-seaport.txt', 'r') as f:\n",
    "    sampled_scenes = f.read().split('\\n')\n",
    "print(sampled_scenes[0], sampled_scenes[-1], len(sampled_scenes))"
   ]
  },
  {
   "cell_type": "code",
   "execution_count": null,
   "id": "fcb3599c-3807-4044-9636-45b2d94fe7e8",
   "metadata": {
    "tags": []
   },
   "outputs": [],
   "source": [
    "BENCHMARK_DIR = \"./outputs/run\"\n",
    "\n",
    "\n",
    "def bm_dir(*args: \"str\"):\n",
    "    return os.path.join(BENCHMARK_DIR, *args)"
   ]
  },
  {
   "cell_type": "code",
   "execution_count": null,
   "id": "ad97a25a-0356-4d7e-9096-f26c00d2d9d4",
   "metadata": {
    "tags": []
   },
   "outputs": [],
   "source": [
    "def get_sql(predicate: \"PredicateNode\"):\n",
    "    tables, camera = FindAllTablesVisitor()(predicate)\n",
    "    tables = sorted(tables)\n",
    "    mapping = {t: i for i, t in enumerate(tables)}\n",
    "    predicate = normalize(predicate)\n",
    "    predicate = MapTablesTransformer(mapping)(predicate)\n",
    "\n",
    "    t_tables = ''\n",
    "    t_outputs = ''\n",
    "    for i in range(len(tables)):\n",
    "        t_tables += '\\n' \\\n",
    "            'JOIN Item_General_Trajectory ' \\\n",
    "            f'AS t{i} ' \\\n",
    "            f'ON Cameras.timestamp <@ t{i}.trajCentroids::period'\n",
    "        t_outputs += f', t{i}.itemId'\n",
    "\n",
    "    return f\"\"\"\n",
    "        SELECT Cameras.frameNum {t_outputs}\n",
    "        FROM Cameras{t_tables}\n",
    "        WHERE\n",
    "        {GenSqlVisitor()(predicate)}\n",
    "    \"\"\""
   ]
  },
  {
   "cell_type": "code",
   "execution_count": null,
   "id": "5d4149a3-43b5-4531-90dd-31dd795bdaa1",
   "metadata": {
    "tags": []
   },
   "outputs": [],
   "source": [
    "slices = {\n",
    "    \"noopt\": (0, 1),\n",
    "    \"inview\": (1, 2),\n",
    "    \"objectfilter\": (2, 3),\n",
    "    \"geo\": (3, 4),\n",
    "    \"de\": (4, 5),\n",
    "    \"opt\": (5, 6),\n",
    "    # \"optde\": (6, 7),\n",
    "    'dev': (0, 2),\n",
    "    'freddie': (1, 2),\n",
    "}"
   ]
  },
  {
   "cell_type": "code",
   "execution_count": null,
   "id": "275836d5",
   "metadata": {
    "tags": []
   },
   "outputs": [],
   "source": [
    "def run_benchmark(pipeline, filename, run=0, ignore_error=False):\n",
    "    print(filename)\n",
    "    metadata_strongsort = {}\n",
    "    metadata_d2d = {}\n",
    "    failed_videos = []\n",
    "\n",
    "    all_metadata = {\n",
    "        'detection': metadata_d2d,\n",
    "        'sort': metadata_strongsort,\n",
    "    }\n",
    "    print('# of total    videos:', len(videos))\n",
    "\n",
    "    names = set(sampled_scenes[:50])\n",
    "    # names = {'0655'}\n",
    "    filtered_videos = [\n",
    "        n for n in videos\n",
    "        if n[6:10] in names and 'FRONT' in n\n",
    "    ]\n",
    "    N = len(filtered_videos)\n",
    "    print('# of filtered videos:', N)\n",
    "\n",
    "    s_from, s_to = slices[test]\n",
    "    STEP = N // 6\n",
    "    print('test', test)\n",
    "    print('from', s_from*STEP)\n",
    "    print('to  ', s_to*STEP)\n",
    "    filtered_videos = filtered_videos[s_from*STEP:s_to*STEP]\n",
    "    print('# of sliced   videos:', len(filtered_videos))\n",
    "    # ingest_road(database, './data/scenic/road-network/boston-seaport')\n",
    "\n",
    "    for pre in [*all_metadata.keys(), 'qresult', 'performance', 'failedvideos']:\n",
    "        p = os.path.join(BENCHMARK_DIR, f\"{pre}--{filename}_{run}\")\n",
    "        if os.path.exists(p):\n",
    "            shutil.rmtree(p)\n",
    "        os.makedirs(p)\n",
    "\n",
    "    def save_perf():\n",
    "        for n, message in failed_videos:\n",
    "            p = bm_dir(f'failedvideos--{filename}_{run}', f'{n}.txt')\n",
    "            with open(p, \"w\") as f:\n",
    "                f.write(message)\n",
    "\n",
    "    for i, name in tqdm(enumerate(filtered_videos), total=len(filtered_videos)):\n",
    "        try:\n",
    "            start_input = time.time()\n",
    "            with open(os.path.join(DATA_DIR, 'videos', 'boston-seaport-' + name + '.pkl'), 'rb') as f:\n",
    "                video = pickle.load(f)\n",
    "            video_filename = video['filename']\n",
    "\n",
    "            frames = Video(\n",
    "                os.path.join(DATA_DIR, \"videos\", video[\"filename\"]),\n",
    "                [camera_config(*f, 0) for f in video[\"frames\"]],\n",
    "            )\n",
    "            time_input = time.time() - start_input\n",
    "\n",
    "            output = pipeline.run(Payload(frames))\n",
    "\n",
    "            metadata_strongsort[name] = output[StrongSORT2D]\n",
    "            metadata_d2d[name] = output[Detection2D]\n",
    "\n",
    "            for pre, metadata in all_metadata.items():\n",
    "                p = bm_dir(f\"{pre}--{filename}_{run}\", f\"{name}.json\")\n",
    "                with open(p, \"w\") as f:\n",
    "                    json.dump(metadata[name], f, cls=MetadataJSONEncoder, indent=1)\n",
    "\n",
    "            perf = []\n",
    "            for stage in pipeline.stages:\n",
    "                benchmarks = [*filter(\n",
    "                    lambda x: video['filename'] in x['name'],\n",
    "                    stage.benchmark\n",
    "                )]\n",
    "                assert len(benchmarks) == 1\n",
    "                perf.append({\n",
    "                    'stage': stage.classname(),\n",
    "                    'benchmark': benchmarks[0]\n",
    "                })\n",
    "            p = bm_dir(f'performance--{filename}_{run}', f'{name}.json')\n",
    "            with open(p, \"w\") as f:\n",
    "                json.dump(perf, f, indent=1)\n",
    "        except Exception as e:\n",
    "            if ignore_error:\n",
    "                message = str(traceback.format_exc())\n",
    "                failed_videos.append((name, message))\n",
    "                print(video_filename)\n",
    "                print(e)\n",
    "                print(message)\n",
    "                print(\"------------------------------------------------------------------------------------\")\n",
    "                print()\n",
    "                print()\n",
    "            else:\n",
    "                raise e\n",
    "\n",
    "        if len(metadata_d2d) % 10 == 0:\n",
    "            save_perf()\n",
    "    save_perf()"
   ]
  },
  {
   "cell_type": "code",
   "execution_count": null,
   "id": "98283938-b68f-4925-a5ef-eee7c6c46c65",
   "metadata": {
    "tags": []
   },
   "outputs": [],
   "source": [
    "def create_pipeline(\n",
    "    ss_cache,\n",
    "):\n",
    "    pipeline = Pipeline()\n",
    "\n",
    "    # Decode\n",
    "    pipeline.add_filter(DecodeFrame())\n",
    "\n",
    "    # 2D Detection\n",
    "    pipeline.add_filter(YoloDetection())\n",
    "\n",
    "    # Tracking\n",
    "    pipeline.add_filter(StrongSORT2D(\n",
    "        # method='update-empty' if ss_update_when_skip else 'increment-ages',\n",
    "        method='update-empty',\n",
    "        cache=ss_cache\n",
    "    ))\n",
    "\n",
    "    return pipeline"
   ]
  },
  {
   "cell_type": "code",
   "execution_count": null,
   "id": "653e586a-a98c-4c15-ac5a-17551b3155db",
   "metadata": {
    "tags": []
   },
   "outputs": [],
   "source": [
    "# if test == 'dev':\n",
    "#     test = 'opt'"
   ]
  },
  {
   "cell_type": "code",
   "execution_count": null,
   "id": "48f7c558-dc6e-4b86-b447-a3ffac74c966",
   "metadata": {
    "tags": []
   },
   "outputs": [],
   "source": [
    "def run(__test):\n",
    "    p2 = create_pipeline(ss_cache=(_test == 'opt'))\n",
    "\n",
    "    print(p2)\n",
    "    run_benchmark(p2, 'sscache' + __test, run=1, ignore_error=True)\n"
   ]
  },
  {
   "cell_type": "code",
   "execution_count": null,
   "id": "811c4351-f2a7-478b-b264-69a3e8d75c69",
   "metadata": {
    "tags": []
   },
   "outputs": [],
   "source": [
    "# tests = ['noopt', 'inview', 'objectfilter', 'geo', 'de', 'opt', 'optde']\n",
    "tests = ['opt', 'noopt']\n",
    "random.shuffle(tests)\n",
    "\n",
    "# for _test in tests:\n",
    "#     assert isinstance(pipelines[_test](lit(True)), Pipeline)\n",
    "\n",
    "for idx, _test in enumerate(tests):\n",
    "    print(f'----------- {idx} / {len(tests)} --- {_test} -----------')\n",
    "    run(_test)"
   ]
  },
  {
   "cell_type": "code",
   "execution_count": null,
   "id": "443364e8-c58b-4940-9fd4-539ee77d043c",
   "metadata": {
    "tags": []
   },
   "outputs": [],
   "source": [
    "# run(test)"
   ]
  },
  {
   "cell_type": "code",
   "execution_count": null,
   "id": "3c14e9fd-6083-4351-bceb-6b31b19a4e2f",
   "metadata": {
    "tags": []
   },
   "outputs": [],
   "source": [
    "# if test == 'opt':\n",
    "#     run('optde')"
   ]
  },
  {
   "cell_type": "code",
   "execution_count": null,
   "id": "9ce1a04b-e888-417c-967a-0399f1c8c75c",
   "metadata": {
    "tags": []
   },
   "outputs": [],
   "source": [
    "if not is_notebook():\n",
    "    subprocess.Popen('sudo shutdown -h now', shell=True)"
   ]
  },
  {
   "cell_type": "code",
   "execution_count": null,
   "id": "64ad6fa9-3d74-4dc1-989d-08dfda7f3489",
   "metadata": {},
   "outputs": [],
   "source": []
  }
 ],
 "metadata": {
  "kernelspec": {
   "display_name": "Python 3 (ipykernel)",
   "language": "python",
   "name": "python3"
  },
  "language_info": {
   "codemirror_mode": {
    "name": "ipython",
    "version": 3
   },
   "file_extension": ".py",
   "mimetype": "text/x-python",
   "name": "python",
   "nbconvert_exporter": "python",
   "pygments_lexer": "ipython3",
   "version": "3.10.12"
  }
 },
 "nbformat": 4,
 "nbformat_minor": 5
}
