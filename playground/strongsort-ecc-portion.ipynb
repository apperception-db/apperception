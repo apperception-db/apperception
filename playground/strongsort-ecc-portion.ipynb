{
 "cells": [
  {
   "cell_type": "code",
   "execution_count": null,
   "id": "0a1a67f9-c160-434d-97b3-bd8d3326458c",
   "metadata": {
    "ExecuteTime": {
     "end_time": "2023-04-10T11:10:24.580691Z",
     "start_time": "2023-04-10T11:10:23.974473Z"
    },
    "tags": []
   },
   "outputs": [],
   "source": [
    "import json\n",
    "import subprocess\n",
    "import os\n",
    "\n",
    "import altair as alt\n",
    "import pandas as pd\n",
    "from tqdm.notebook import tqdm"
   ]
  },
  {
   "cell_type": "code",
   "execution_count": null,
   "id": "0ed1d6f8-a7ef-4aaa-b6c0-8632c938f59c",
   "metadata": {
    "ExecuteTime": {
     "end_time": "2023-04-10T11:10:24.607951Z",
     "start_time": "2023-04-10T11:10:24.582553Z"
    },
    "tags": []
   },
   "outputs": [],
   "source": [
    "# alt.data_transformers.enable('csv')\n",
    "alt.data_transformers.disable_max_rows()"
   ]
  },
  {
   "cell_type": "code",
   "execution_count": null,
   "id": "758defe1-2f25-4be2-b207-b22ee660d9ca",
   "metadata": {
    "ExecuteTime": {
     "end_time": "2023-04-10T11:10:24.622915Z",
     "start_time": "2023-04-10T11:10:24.582553Z"
    },
    "tags": []
   },
   "outputs": [],
   "source": [
    "ips = [\n",
    "    \"34.67.69.87\",\n",
    "    \"104.198.214.12\",\n",
    "]"
   ]
  },
  {
   "cell_type": "code",
   "execution_count": null,
   "id": "a00c8011-ff15-438a-9a7e-5a2131862d4e",
   "metadata": {
    "ExecuteTime": {
     "end_time": "2023-04-10T11:10:24.703479Z",
     "start_time": "2023-04-10T11:10:24.603889Z"
    },
    "tags": []
   },
   "outputs": [],
   "source": [
    "for i, ip in tqdm(enumerate(ips), total=len(ips)):\n",
    "    path = f'../outputs/ss-ecc-portion/'\n",
    "    if not os.path.exists(path):\n",
    "        os.makedirs(path)\n",
    "\n",
    "    process = subprocess.Popen(f'scp -r -o StrictHostKeyChecking=no -o UserKnownHostsFile=/dev/null chanwutk@{ip}:\"/home/chanwutk/Documents/apperception/outputs/run/*\" {path}', shell=True)\n",
    "    process.wait()\n"
   ]
  },
  {
   "cell_type": "code",
   "execution_count": null,
   "id": "a177af2f-2193-46c5-ac99-3b1387e7ee15",
   "metadata": {
    "ExecuteTime": {
     "end_time": "2023-04-10T11:10:24.788060Z",
     "start_time": "2023-04-10T11:10:24.624037Z"
    },
    "tags": []
   },
   "outputs": [],
   "source": [
    "DATA_DIR = '../outputs/ss-ecc-portion'\n",
    "runs = [f'/run-{i}' for i in range(len(ips))]"
   ]
  },
  {
   "cell_type": "code",
   "execution_count": null,
   "id": "810c9b80-9a8e-4e35-9d56-98c8f0146115",
   "metadata": {
    "ExecuteTime": {
     "end_time": "2023-04-10T11:10:24.854724Z",
     "start_time": "2023-04-10T11:10:24.656098Z"
    },
    "tags": []
   },
   "outputs": [],
   "source": [
    "failed_videos = {}\n",
    "for f in os.listdir(DATA_DIR):\n",
    "    if not f.startswith('failed_videos'):\n",
    "        continue\n",
    "\n",
    "    with open(os.path.join(DATA_DIR, f), 'r') as _f:\n",
    "        content = json.load(_f)\n",
    "\n",
    "    name = f[len('failed_videos--'):-len('.json')]\n",
    "    failed_videos[name] = []\n",
    "    for v_name, err in content:\n",
    "        failed_videos[name].append(v_name)\n",
    "failed_videos"
   ]
  },
  {
   "cell_type": "code",
   "execution_count": null,
   "id": "aaa4dd81-0e2e-45d8-9995-871cd444f93a",
   "metadata": {
    "ExecuteTime": {
     "end_time": "2023-04-10T11:10:24.945773Z",
     "start_time": "2023-04-10T11:10:24.720571Z"
    },
    "tags": []
   },
   "outputs": [],
   "source": [
    "stage_order = [\n",
    "    'InView', 'DecodeFrame', 'Detection2D.YoloDetection', 'Detection2D.ObjectTypeFilter',\n",
    "    'DepthEstimation', 'Detection3D.FromDetection2DAndDepth', 'Detection3D.FromDetection2DAndRoad',\n",
    "    'DetectionEstimation', 'Tracking.StrongSORT', 'Tracking2D.StrongSORT', 'StrongSORTCacheBenchmark', 'Tracking3D.FromTracking2DAndDepth',\n",
    "    'Tracking3D.FromTracking2DAndRoad', 'SegmentTrajectory.FromTracking3D'\n",
    "]\n",
    "\n",
    "test_names = {\n",
    "    'de': 'Only Detection Estimation',\n",
    "    'noopt': 'Baseline',\n",
    "    'inview': 'Only In-View',\n",
    "    'geo': 'Only Geo Depth Estimation',\n",
    "    'objectfilter': 'Only Object Filter',\n",
    "    'opt': 'Optimized',\n",
    "    'optde': 'Optimized with Detection Estimation'\n",
    "}\n",
    "\n",
    "test_order = [\n",
    "    'noopt',\n",
    "    'inview',\n",
    "    'objectfilter',\n",
    "    'geo',\n",
    "    'de',\n",
    "    'opt',\n",
    "    'optde'\n",
    "]"
   ]
  },
  {
   "cell_type": "code",
   "execution_count": null,
   "id": "a77d81f9-0bc8-4ba4-878b-2db0f2218b38",
   "metadata": {
    "ExecuteTime": {
     "end_time": "2023-04-10T11:10:25.841741Z",
     "start_time": "2023-04-10T11:10:24.720571Z"
    },
    "tags": []
   },
   "outputs": [],
   "source": [
    "def combine_perf():\n",
    "    data = []\n",
    "    for filename in os.listdir(DATA_DIR):\n",
    "        if filename.startswith('perf'):\n",
    "            test, run = filename.split(\"--\")[1].split(\".\")[0].split(\"_\")\n",
    "            with open(os.path.join(DATA_DIR, filename), 'r') as f:\n",
    "                for stage in json.load(f):\n",
    "                    stagename = stage['stage']\n",
    "                    for b in stage['benchmark']:\n",
    "                        after, before = b['keep']\n",
    "                        assert after <= before\n",
    "                        skip = (1. - (after / before)) if before != 0 else 0\n",
    "                        data.append({\n",
    "                            **b,\n",
    "                            'stage': stagename,\n",
    "                            '_test': test,\n",
    "                            'test': 'cache=' + test.split('-')[-1] + run,\n",
    "                            # 'test_order': test_order.index(test),\n",
    "                            'run': run,\n",
    "                            'name': b['name'].split('/')[-1].split('.')[0],\n",
    "                            'skip': skip,\n",
    "                            'stage_order': stage_order.index(stagename)\n",
    "                        })\n",
    "    return data\n",
    "\n",
    "\n",
    "perf = combine_perf()"
   ]
  },
  {
   "cell_type": "code",
   "execution_count": null,
   "id": "2ed7434b-f1c2-45e6-ae17-bce6c5397645",
   "metadata": {
    "ExecuteTime": {
     "end_time": "2023-04-10T11:10:25.860096Z",
     "start_time": "2023-04-10T11:10:25.845116Z"
    },
    "tags": []
   },
   "outputs": [],
   "source": [
    "# with open('./output/perf.json', 'w') as f:\n",
    "#     json.dump([p for p in perf if p['run'] == \"0\"], f, indent=1)"
   ]
  },
  {
   "cell_type": "code",
   "execution_count": null,
   "id": "69a5b67c-5da6-46f0-a733-7d08e736e9cd",
   "metadata": {
    "ExecuteTime": {
     "end_time": "2023-04-10T11:10:25.957554Z",
     "start_time": "2023-04-10T11:10:25.878075Z"
    },
    "tags": []
   },
   "outputs": [],
   "source": [
    "len([p for p in perf if p['run'] == \"0\"])"
   ]
  },
  {
   "cell_type": "code",
   "execution_count": null,
   "id": "abb81632-00d9-4ad6-a943-f07e17ba5e35",
   "metadata": {
    "ExecuteTime": {
     "end_time": "2023-04-10T11:10:25.962251Z",
     "start_time": "2023-04-10T11:10:25.924955Z"
    },
    "tags": []
   },
   "outputs": [],
   "source": [
    "perf[0]"
   ]
  },
  {
   "cell_type": "code",
   "execution_count": null,
   "id": "e90c37c4-bfd4-4919-adab-86157be08a5d",
   "metadata": {
    "ExecuteTime": {
     "end_time": "2023-04-10T11:10:25.970263Z",
     "start_time": "2023-04-10T11:10:25.924955Z"
    },
    "tags": []
   },
   "outputs": [],
   "source": [
    "for name, videos in failed_videos.items():\n",
    "    if len(videos) != 0:\n",
    "        print(name, videos)"
   ]
  },
  {
   "cell_type": "code",
   "execution_count": null,
   "id": "e5b72aa0-9829-4bbc-94ca-22f554c8b04a",
   "metadata": {
    "ExecuteTime": {
     "end_time": "2023-04-10T11:10:26.261378Z",
     "start_time": "2023-04-10T11:10:25.924955Z"
    },
    "tags": []
   },
   "outputs": [],
   "source": [
    "df_perf = pd.DataFrame.from_dict(perf)\n",
    "# df_perf = df_perf[df_perf['run'] == \"0\"]\n",
    "df_perf[:10]"
   ]
  },
  {
   "cell_type": "code",
   "execution_count": null,
   "id": "17d0a7af-f015-4957-ba45-4abceb67f84c",
   "metadata": {
    "ExecuteTime": {
     "end_time": "2023-04-10T11:10:26.438729Z",
     "start_time": "2023-04-10T11:10:26.230075Z"
    },
    "tags": []
   },
   "outputs": [],
   "source": [
    "df_perf.groupby(['test', 'stage'])[['name']].count()"
   ]
  },
  {
   "cell_type": "code",
   "execution_count": null,
   "id": "535fdf05-8bff-469c-b4ef-17ed5a561de2",
   "metadata": {
    "ExecuteTime": {
     "end_time": "2023-04-10T11:10:29.417055Z",
     "start_time": "2023-04-10T11:10:26.341874Z"
    },
    "tags": []
   },
   "outputs": [],
   "source": [
    "(alt.Chart(df_perf)\n",
    "    .mark_bar()\n",
    "    .encode(\n",
    "        x='average(runtime)',\n",
    "        y=alt.Y('test:O', sort=alt.Sort({'field': 'test_order'})),\n",
    "        color=alt.Color('stage:N', sort=stage_order),\n",
    "        order=alt.Order('order:O')\n",
    "    )\n",
    "    .properties(height=300, width=800)\n",
    ")"
   ]
  },
  {
   "cell_type": "markdown",
   "id": "f727792b-c137-46c3-a8c3-9941115d1ad4",
   "metadata": {},
   "source": [
    "# Break-down runtime of StrongSORT"
   ]
  },
  {
   "cell_type": "code",
   "execution_count": null,
   "id": "f0f6ac22-288e-4bfb-b299-3ec4bcb1f7f1",
   "metadata": {
    "tags": []
   },
   "outputs": [],
   "source": [
    "def combine_ss_perf():\n",
    "    data = []\n",
    "    for filename in os.listdir(DATA_DIR):\n",
    "        if filename.startswith('perf'):\n",
    "            test, run = filename.split(\"--\")[1].split(\".\")[0].split(\"_\")\n",
    "            with open(os.path.join(DATA_DIR, filename), 'r') as f:\n",
    "                for stage in json.load(f):\n",
    "                    stagename = stage['stage']\n",
    "                    if stagename != 'Tracking.StrongSORT':\n",
    "                        continue\n",
    "                    for b in stage['ss-benchmark']:\n",
    "                        # after, before = b['keep']\n",
    "                        # assert after <= before\n",
    "                        # skip = (1. - (after / before)) if before != 0 else 0\n",
    "                        data.append({\n",
    "                            'file': b['file'],\n",
    "                            'portion': 'Load Data',\n",
    "                            'runtime': b['load_data'],\n",
    "                            '_test': test,\n",
    "                            'order': 0,\n",
    "                        })\n",
    "                        data.append({\n",
    "                            'file': b['file'],\n",
    "                            'portion': 'Init',\n",
    "                            'runtime': b['init'],\n",
    "                            '_test': test,\n",
    "                            'order': 1,\n",
    "                        })\n",
    "                        data.append({\n",
    "                            'file': b['file'],\n",
    "                            'portion': 'Update Camera',\n",
    "                            'runtime': b['update_camera'],\n",
    "                            '_test': test,\n",
    "                            'order': 2,\n",
    "                        })\n",
    "                        data.append({\n",
    "                            'file': b['file'],\n",
    "                            'portion': 'Tracking',\n",
    "                            'runtime': b['tracking'] - b['update_camera'],\n",
    "                            '_test': test,\n",
    "                            'order': 3,\n",
    "                        })\n",
    "                        data.append({\n",
    "                            'file': b['file'],\n",
    "                            'portion': 'Postprocessing',\n",
    "                            'runtime': b['postprocess'],\n",
    "                            '_test': test,\n",
    "                            'order': 4,\n",
    "                        })\n",
    "                        # data.append({\n",
    "                        #     **b,\n",
    "                        #     'stage': stagename,\n",
    "                        #     '_test': test,\n",
    "                        #     'test': 'cache=' + test.split('-')[-1] + run,\n",
    "                        #     # 'test_order': test_order.index(test),\n",
    "                        #     'run': run,\n",
    "                        #     'name': b['name'].split('/')[-1].split('.')[0],\n",
    "                        #     'skip': skip,\n",
    "                        #     'stage_order': stage_order.index(stagename)\n",
    "                        # })\n",
    "    return data\n",
    "\n",
    "\n",
    "ss_perf = combine_ss_perf()"
   ]
  },
  {
   "cell_type": "code",
   "execution_count": null,
   "id": "c3915fcf-21bc-411c-bdda-2d6b340912ef",
   "metadata": {
    "tags": []
   },
   "outputs": [],
   "source": [
    "df_ss_perf = pd.DataFrame.from_dict(ss_perf)\n",
    "df_ss_perf"
   ]
  },
  {
   "cell_type": "code",
   "execution_count": null,
   "id": "e805f10a-852e-4e31-abb6-1053d87d1a69",
   "metadata": {
    "tags": []
   },
   "outputs": [],
   "source": [
    "(alt.Chart(df_ss_perf)\n",
    "    .mark_bar()\n",
    "    .encode(\n",
    "        x='average(runtime)',\n",
    "        y=alt.Y('_test:O'), #, sort=alt.Sort({'field': 'test_order'})),\n",
    "        color=alt.Color('portion:N', sort=stage_order),\n",
    "        order=alt.Order('order:O')\n",
    "    )\n",
    "    .properties(height=300, width=800)\n",
    ")"
   ]
  },
  {
   "cell_type": "markdown",
   "id": "11462b42-fe85-44d1-bec2-5c785daef114",
   "metadata": {},
   "source": [
    "# Compare Failed ECC"
   ]
  },
  {
   "cell_type": "code",
   "execution_count": null,
   "id": "11ebf831-1c7f-499f-b91a-3a21a77d825f",
   "metadata": {
    "tags": []
   },
   "outputs": [],
   "source": [
    "def all_failed_src_dst(folder):\n",
    "    failed_ecc = {}\n",
    "    for file in sorted(os.listdir(os.path.join(DATA_DIR, 'failed-ecc', folder))):\n",
    "        timestamp, _back = file.split(\".jpg\")[0].split(\"--\", 1)\n",
    "        end = 'src' if _back.endswith('src') else 'dst'\n",
    "        _back = _back[:-len('--dst')]\n",
    "        prefix = ''\n",
    "        if _back.startswith('-'):\n",
    "            prefix = '-'\n",
    "            _back = _back[1:]\n",
    "\n",
    "        src, dst = _back.split('-', 1)\n",
    "        src = prefix + src\n",
    "\n",
    "        # print(timestamp, src, dst, '           ', file)\n",
    "        key = f'{src}/{dst}'\n",
    "\n",
    "        if key not in failed_ecc:\n",
    "            failed_ecc[key] = []\n",
    "        failed_ecc[key].append(1)\n",
    "    return failed_ecc\n",
    "\n",
    "\n",
    "failed_ecc_0 = all_failed_src_dst('0')\n",
    "failed_ecc_1 = all_failed_src_dst('1')\n",
    "\n",
    "print(\"They should have the same number of src/dst to fail\")\n",
    "print(len(failed_ecc_0))\n",
    "print(len(failed_ecc_1))\n",
    "\n",
    "print(\"All of the failed src/dst for both run should be the same\")\n",
    "for fe0, fe1 in zip(sorted(failed_ecc_0.keys()), sorted(failed_ecc_1.keys())):\n",
    "    print(fe0 == fe1, fe0, fe1)"
   ]
  },
  {
   "cell_type": "markdown",
   "id": "d2f0a940-6d1a-4a98-9caf-cbf7ee369632",
   "metadata": {},
   "source": [
    "# Compare if both runs have exactly the same output"
   ]
  },
  {
   "cell_type": "markdown",
   "id": "65354563-7dee-486d-b804-682bcc57620b",
   "metadata": {},
   "source": [
    "# Both StrongSORT results should have the same files"
   ]
  },
  {
   "cell_type": "code",
   "execution_count": null,
   "id": "48dca4aa-2187-4c3d-a7e0-e004b4144bc2",
   "metadata": {
    "tags": []
   },
   "outputs": [],
   "source": [
    "runs = {'true': [], 'false': []}\n",
    "for run, files in runs.items():\n",
    "    for file in os.listdir(os.path.join(DATA_DIR, f'sort--ss-cache-{run}_0')):\n",
    "        files.append(file)\n",
    "\n",
    "print('Size should be the same:')\n",
    "print(len(runs['true']))\n",
    "print(len(runs['false']))\n",
    "\n",
    "print('Videos with different contents:')\n",
    "for r0, r1 in zip(sorted(runs['false']), sorted(runs['true'])):\n",
    "    if r0 != r1:\n",
    "        print(r0, r1)\n",
    "\n",
    "    with open(os.path.join(DATA_DIR, 'sort--ss-cache-false_0', r0), 'r') as f:\n",
    "        content0 = f.read()\n",
    "\n",
    "    with open(os.path.join(DATA_DIR, 'sort--ss-cache-true_0', r1), 'r') as f:\n",
    "        content1 = f.read()\n",
    "\n",
    "    if content0 != content1:\n",
    "        print(r0, r1)"
   ]
  },
  {
   "cell_type": "markdown",
   "id": "a3cd77f4-33e3-4add-839f-d36e746613a3",
   "metadata": {
    "tags": []
   },
   "source": [
    "# Done: Confirmed that caching does not have negative effects on StrongSORT"
   ]
  }
 ],
 "metadata": {
  "kernelspec": {
   "display_name": "Python 3 (ipykernel)",
   "language": "python",
   "name": "python3"
  },
  "language_info": {
   "codemirror_mode": {
    "name": "ipython",
    "version": 3
   },
   "file_extension": ".py",
   "mimetype": "text/x-python",
   "name": "python",
   "nbconvert_exporter": "python",
   "pygments_lexer": "ipython3",
   "version": "3.10.10"
  }
 },
 "nbformat": 4,
 "nbformat_minor": 5
}
