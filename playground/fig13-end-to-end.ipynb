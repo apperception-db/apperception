{
 "cells": [
  {
   "cell_type": "code",
   "execution_count": 1,
   "id": "c5c9badc",
   "metadata": {
    "execution": {
     "iopub.execute_input": "2022-12-08T00:15:43.617706Z",
     "iopub.status.busy": "2022-12-08T00:15:43.616466Z",
     "iopub.status.idle": "2022-12-08T00:15:48.654505Z",
     "shell.execute_reply": "2022-12-08T00:15:48.653531Z"
    }
   },
   "outputs": [
    {
     "name": "stdout",
     "output_type": "stream",
     "text": [
      "/data/apperception/apperception\n"
     ]
    }
   ],
   "source": [
    "%cd ..\n",
    "import os\n",
    "import time"
   ]
  },
  {
   "cell_type": "code",
   "execution_count": 2,
   "id": "152abe6c",
   "metadata": {},
   "outputs": [
    {
     "name": "stderr",
     "output_type": "stream",
     "text": [
      "/home/local/apperception/.installs/mambaforge/envs/apperception/lib/python3.10/site-packages/tqdm/auto.py:22: TqdmWarning: IProgress not found. Please update jupyter and ipywidgets. See https://ipywidgets.readthedocs.io/en/stable/user_install.html\n",
      "  from .autonotebook import tqdm as notebook_tqdm\n",
      "YOLOv5 🚀 2022-11-23 Python-3.10.8 torch-1.13.0+cu117 CUDA:0 (NVIDIA TITAN Xp, 12190MiB)\n",
      "\n"
     ]
    },
    {
     "name": "stdout",
     "output_type": "stream",
     "text": [
      "Using cuda:0\n"
     ]
    },
    {
     "name": "stderr",
     "output_type": "stream",
     "text": [
      "Using cache found in /data/apperception/apperception/weights/ultralytics_yolov5_master\n",
      "YOLOv5 🚀 2022-11-30 Python-3.10.8 torch-1.13.0+cu117 CUDA:0 (NVIDIA TITAN Xp, 12190MiB)\n",
      "\n",
      "Fusing layers... \n",
      "YOLOv5s summary: 213 layers, 7225885 parameters, 0 gradients\n",
      "Adding AutoShape... \n"
     ]
    }
   ],
   "source": [
    "from apperception.database import database\n",
    "from apperception.world import empty_world\n",
    "from apperception.utils import F\n",
    "from apperception.predicate import camera, objects\n",
    "from optimized_ingestion.utils.preprocess import preprocess\n",
    "database.connection\n",
    "from optimized_ingestion.cache import disable_cache\n",
    "# disable_cache()"
   ]
  },
  {
   "cell_type": "code",
   "execution_count": 3,
   "id": "922e90e5",
   "metadata": {},
   "outputs": [],
   "source": [
    "NUSCENES_PROCESSED_DATA = \"NUSCENES_PROCESSED_DATA\"\n",
    "if NUSCENES_PROCESSED_DATA in os.environ:\n",
    "    DATA_DIR = os.environ[NUSCENES_PROCESSED_DATA]\n",
    "else:\n",
    "    DATA_DIR = \"/work/apperception/data/nuScenes/full-dataset-v1.0/Mini\"\n",
    "NUSCENES_RAW_DATA = \"NUSCENES_RAW_DATA\"\n",
    "if NUSCENES_RAW_DATA in os.environ:\n",
    "    RAW_DATA_DIR = os.environ[NUSCENES_RAW_DATA]\n",
    "else:\n",
    "    RAW_DATA_DIR = \"/work/apperception/data/raw/nuScenes/full-dataset-v1.0/Mini\""
   ]
  },
  {
   "cell_type": "code",
   "execution_count": 4,
   "id": "574d9f46",
   "metadata": {},
   "outputs": [],
   "source": [
    "import cv2\n",
    "def construct_video(frames, size=(1600, 900), base=False, vid_name=None):\n",
    "    unique_frames = []\n",
    "    for f in frames:\n",
    "        if f not in unique_frames:\n",
    "            unique_frames.append(f)\n",
    "    fourcc = cv2.VideoWriter_fourcc(*'mp4v')\n",
    "    vid_name = \"./outputs/fig13_\"+vid_name if vid_name else f\"./outputs/{'fig13_base' if base else 'fig13_optimized'}.avi\"\n",
    "    display_video = cv2.VideoWriter(vid_name,fourcc, 1, size)\n",
    "    for frame in unique_frames:\n",
    "        img_path = os.path.join(RAW_DATA_DIR, frame)\n",
    "        img = cv2.imread(img_path)\n",
    "        display_video.write(img)\n",
    "\n",
    "    display_video.release()"
   ]
  },
  {
   "cell_type": "code",
   "execution_count": 5,
   "id": "533a4ce8",
   "metadata": {},
   "outputs": [],
   "source": [
    "name = 'ScenicWorld'\n",
    "world = empty_world(name=name)\n",
    "\n",
    "obj1 = objects[0]\n",
    "obj2 = objects[1]\n",
    "cam = camera\n",
    "\n",
    "world = world.filter(\n",
    "    (obj1.id != obj2.id) &\n",
    "    (F.like(obj1.type, 'car') | F.like(obj1.type, 'truck')) &\n",
    "    (F.like(obj2.type, 'car') | F.like(obj2.type, 'truck')) &\n",
    "    F.angle_between(F.facing_relative(cam.ego, F.road_direction(cam.ego)), -15, 15) &\n",
    "    (F.distance(cam.ego, obj1.trans@cam.time) < 50) &\n",
    "    (F.view_angle(obj1.trans@cam.time, cam.ego) < 70 / 2.0) &\n",
    "    (F.distance(cam.ego, obj2.trans@cam.time) < 50) &\n",
    "    (F.view_angle(obj2.trans@cam.time, cam.ego) < 70 / 2.0) &\n",
    "    F.contains_all('intersection', [obj1.trans, obj2.trans]@cam.time) &\n",
    "    F.angle_between(F.facing_relative(obj1.trans@cam.time, cam.ego), 50, 180) &\n",
    "    F.angle_between(F.facing_relative(obj2.trans@cam.time, cam.ego), -135, -50) &\n",
    "    (F.min_distance(cam.ego, 'intersection') < 10) &\n",
    "    F.angle_between(F.facing_relative(obj1.trans@cam.time, obj2.trans@cam.time), 100, -100)\n",
    ")\n"
   ]
  },
  {
   "cell_type": "code",
   "execution_count": 6,
   "id": "9be10787",
   "metadata": {},
   "outputs": [],
   "source": [
    "# preprocess(world, DATA_DIR, ['scene-0757-CAM_FRONT'])"
   ]
  },
  {
   "cell_type": "code",
   "execution_count": 7,
   "id": "8ff5d512",
   "metadata": {
    "scrolled": true
   },
   "outputs": [],
   "source": [
    "# base_query_start = time.time()\n",
    "# id_time_camId_filename_base = world.get_id_time_camId_filename(2)\n",
    "# print(f'based query time: {time.time()-base_query_start}')"
   ]
  },
  {
   "cell_type": "code",
   "execution_count": 8,
   "id": "1523b2b2",
   "metadata": {},
   "outputs": [],
   "source": [
    "# id_time_camId_filename_base"
   ]
  },
  {
   "cell_type": "code",
   "execution_count": 9,
   "id": "642b3c44",
   "metadata": {
    "scrolled": true
   },
   "outputs": [],
   "source": [
    "# base_results = [e[4] for e in id_time_camId_filename_base]\n",
    "# construct_video(base_results, base=True)"
   ]
  },
  {
   "cell_type": "code",
   "execution_count": 10,
   "id": "391948ff",
   "metadata": {},
   "outputs": [
    {
     "name": "stderr",
     "output_type": "stream",
     "text": [
      "YOLOv5 🚀 2022-11-23 Python-3.10.8 torch-1.13.0+cu117 CUDA:0 (NVIDIA TITAN Xp, 12190MiB)\n",
      "\n",
      "Using cache found in /data/apperception/weights/ultralytics_yolov5_master\n",
      "YOLOv5 🚀 2022-11-30 Python-3.10.8 torch-1.13.0+cu117 CUDA:0 (NVIDIA TITAN Xp, 12190MiB)\n",
      "\n",
      "Fusing layers... \n",
      "YOLOv5s summary: 213 layers, 7225885 parameters, 0 gradients\n",
      "Adding AutoShape... \n"
     ]
    },
    {
     "name": "stdout",
     "output_type": "stream",
     "text": [
      "scene-0757-CAM_FRONT --------------------------------------------------------------------------------\n",
      "Stage:  InView\n",
      "237\n",
      "None\n",
      "  filtered frames: 97.46835443037975%\n",
      "......KKKKKKKKKKKKKKKKKKKKKKKKKKKKKKKKKKKKKKKKKKKKKKKKKKKKKKKKKKKKKKKKKKKKKKKKKKKKKKKKKKKKKKKKKKKKKK\n",
      "KKKKKKKKKKKKKKKKKKKKKKKKKKKKKKKKKKKKKKKKKKKKKKKKKKKKKKKKKKKKKKKKKKKKKKKKKKKKKKKKKKKKKKKKKKKKKKKKKKKK\n",
      "KKKKKKKKKKKKKKKKKKKKKKKKKKKKKKKKKKKKK\n",
      "Stage:  DecodeFrame.ParallelDecodeFrame\n",
      "None\n",
      "237\n",
      "  filtered frames: 97.46835443037975%\n",
      "......KKKKKKKKKKKKKKKKKKKKKKKKKKKKKKKKKKKKKKKKKKKKKKKKKKKKKKKKKKKKKKKKKKKKKKKKKKKKKKKKKKKKKKKKKKKKKK\n",
      "KKKKKKKKKKKKKKKKKKKKKKKKKKKKKKKKKKKKKKKKKKKKKKKKKKKKKKKKKKKKKKKKKKKKKKKKKKKKKKKKKKKKKKKKKKKKKKKKKKKK\n",
      "KKKKKKKKKKKKKKKKKKKKKKKKKKKKKKKKKKKKK\n",
      "Stage:  Detection2D.YoloDetection\n",
      "None\n",
      "237\n",
      "  filtered frames: 97.46835443037975%\n",
      "......KKKKKKKKKKKKKKKKKKKKKKKKKKKKKKKKKKKKKKKKKKKKKKKKKKKKKKKKKKKKKKKKKKKKKKKKKKKKKKKKKKKKKKKKKKKKKK\n",
      "KKKKKKKKKKKKKKKKKKKKKKKKKKKKKKKKKKKKKKKKKKKKKKKKKKKKKKKKKKKKKKKKKKKKKKKKKKKKKKKKKKKKKKKKKKKKKKKKKKKK\n",
      "KKKKKKKKKKKKKKKKKKKKKKKKKKKKKKKKKKKKK\n",
      "Stage:  Detection2D.ObjectTypeFilter\n",
      "None\n",
      "237\n",
      "  filtered frames: 97.46835443037975%\n",
      "......KKKKKKKKKKKKKKKKKKKKKKKKKKKKKKKKKKKKKKKKKKKKKKKKKKKKKKKKKKKKKKKKKKKKKKKKKKKKKKKKKKKKKKKKKKKKKK\n",
      "KKKKKKKKKKKKKKKKKKKKKKKKKKKKKKKKKKKKKKKKKKKKKKKKKKKKKKKKKKKKKKKKKKKKKKKKKKKKKKKKKKKKKKKKKKKKKKKKKKKK\n",
      "KKKKKKKKKKKKKKKKKKKKKKKKKKKKKKKKKKKKK\n",
      "Stage:  Detection3D.From2DAndRoad\n"
     ]
    },
    {
     "name": "stderr",
     "output_type": "stream",
     "text": [
      "237it [00:00, 3327.04it/s]\n"
     ]
    },
    {
     "name": "stdout",
     "output_type": "stream",
     "text": [
      "None\n",
      "237\n",
      "  filtered frames: 97.46835443037975%\n",
      "......KKKKKKKKKKKKKKKKKKKKKKKKKKKKKKKKKKKKKKKKKKKKKKKKKKKKKKKKKKKKKKKKKKKKKKKKKKKKKKKKKKKKKKKKKKKKKK\n",
      "KKKKKKKKKKKKKKKKKKKKKKKKKKKKKKKKKKKKKKKKKKKKKKKKKKKKKKKKKKKKKKKKKKKKKKKKKKKKKKKKKKKKKKKKKKKKKKKKKKKK\n",
      "KKKKKKKKKKKKKKKKKKKKKKKKKKKKKKKKKKKKK\n",
      "Stage:  DetectionEstimation\n",
      "ego_speed:  1.3581198756421884\n"
     ]
    },
    {
     "name": "stderr",
     "output_type": "stream",
     "text": [
      "\r",
      "  0%|                                                                                                                                                       | 0/236 [00:00<?, ?it/s]"
     ]
    },
    {
     "name": "stdout",
     "output_type": "stream",
     "text": [
      "length before pruning 0\n",
      "length after pruning 0\n",
      "detection info []\n",
      "length before pruning 0\n",
      "length after pruning 0\n",
      "detection info []\n",
      "length before pruning 0\n",
      "length after pruning 0\n",
      "detection info []\n",
      "length before pruning 0\n",
      "length after pruning 0\n",
      "detection info []\n",
      "length before pruning 0\n",
      "length after pruning 0\n",
      "detection info []\n",
      "length before pruning 0\n",
      "length after pruning 0\n",
      "detection info []\n",
      "length before pruning 3\n",
      "length after pruning 0\n",
      "detection info []\n",
      "length before pruning 1\n",
      "length after pruning 0\n",
      "detection info []\n",
      "length before pruning 0\n",
      "length after pruning 0\n",
      "detection info []\n",
      "length before pruning 0\n",
      "length after pruning 0\n",
      "detection info []\n"
     ]
    },
    {
     "name": "stderr",
     "output_type": "stream",
     "text": [
      "\r",
      "  5%|███████▏                                                                                                                                      | 12/236 [00:00<00:02, 93.21it/s]"
     ]
    },
    {
     "name": "stdout",
     "output_type": "stream",
     "text": [
      "[True]\n",
      "length before pruning 4\n",
      "length after pruning 1\n",
      "length before pruning 3\n",
      "length after pruning 0\n",
      "detection info []\n",
      "length before pruning 4\n",
      "length after pruning 0\n",
      "detection info []\n",
      "length before pruning 4\n",
      "length after pruning 0\n",
      "detection info []\n",
      "length before pruning 3\n",
      "length after pruning 0\n",
      "detection info []\n",
      "[True]\n",
      "[True]\n",
      "[True]\n",
      "length before pruning 4\n",
      "length after pruning 3\n",
      "[True]\n",
      "[True]\n",
      "length before pruning 3\n",
      "length after pruning 2\n",
      "[True]\n",
      "[True]\n",
      "length before pruning 2\n",
      "length after pruning 2\n",
      "[True]\n",
      "[True]\n",
      "[True]\n",
      "[True]\n",
      "length before pruning 4\n",
      "length after pruning 4\n",
      "[True]\n",
      "[True]\n",
      "[True]\n",
      "[True]\n",
      "[True]\n",
      "length before pruning 5\n",
      "length after pruning 5\n",
      "[True]\n",
      "[True]\n",
      "[True]\n",
      "length before pruning 3\n",
      "length after pruning 3\n"
     ]
    },
    {
     "name": "stderr",
     "output_type": "stream",
     "text": [
      "\r",
      "  9%|█████████████▏                                                                                                                                | 22/236 [00:00<00:07, 30.47it/s]"
     ]
    },
    {
     "name": "stdout",
     "output_type": "stream",
     "text": [
      "[True]\n",
      "[True]\n",
      "[True]\n",
      "[True]\n",
      "[True]\n",
      "length before pruning 5\n",
      "length after pruning 5\n",
      "length before pruning 3\n",
      "length after pruning 0\n",
      "detection info []\n",
      "length before pruning 3\n",
      "length after pruning 0\n",
      "detection info []\n",
      "length before pruning 2\n",
      "length after pruning 0\n",
      "detection info []\n",
      "length before pruning 2\n",
      "length after pruning 0\n",
      "detection info []\n"
     ]
    },
    {
     "name": "stderr",
     "output_type": "stream",
     "text": [
      "\r",
      " 11%|████████████████▏                                                                                                                             | 27/236 [00:00<00:06, 33.19it/s]"
     ]
    },
    {
     "name": "stdout",
     "output_type": "stream",
     "text": [
      "length before pruning 2\n",
      "length after pruning 0\n",
      "detection info []\n",
      "length before pruning 2\n",
      "length after pruning 0\n",
      "detection info []\n",
      "length before pruning 1\n",
      "length after pruning 0\n",
      "detection info []\n",
      "length before pruning 1\n",
      "length after pruning 0\n",
      "detection info []\n"
     ]
    },
    {
     "name": "stderr",
     "output_type": "stream",
     "text": [
      "\r",
      " 14%|███████████████████▊                                                                                                                          | 33/236 [00:00<00:05, 38.48it/s]"
     ]
    },
    {
     "name": "stdout",
     "output_type": "stream",
     "text": [
      "length before pruning 1\n",
      "length after pruning 0\n",
      "detection info []\n",
      "length before pruning 1\n",
      "length after pruning 0\n",
      "detection info []\n",
      "length before pruning 2\n",
      "length after pruning 0\n",
      "detection info []\n",
      "length before pruning 2\n",
      "length after pruning 0\n",
      "detection info []\n",
      "length before pruning 2\n",
      "length after pruning 0\n",
      "detection info []\n",
      "length before pruning 2\n",
      "length after pruning 0\n",
      "detection info []\n",
      "length before pruning 3\n",
      "length after pruning 0\n",
      "detection info []\n"
     ]
    },
    {
     "name": "stderr",
     "output_type": "stream",
     "text": [
      "\r",
      " 17%|███████████████████████▍                                                                                                                      | 39/236 [00:01<00:05, 39.23it/s]"
     ]
    },
    {
     "name": "stdout",
     "output_type": "stream",
     "text": [
      "length before pruning 3\n",
      "length after pruning 0\n",
      "detection info []\n",
      "length before pruning 3\n",
      "length after pruning 0\n",
      "detection info []\n",
      "length before pruning 3\n",
      "length after pruning 0\n",
      "detection info []\n",
      "length before pruning 3\n",
      "length after pruning 0\n",
      "detection info []\n",
      "length before pruning 3\n",
      "length after pruning 0\n",
      "detection info []\n"
     ]
    },
    {
     "name": "stderr",
     "output_type": "stream",
     "text": [
      "\r",
      " 19%|██████████████████████████▍                                                                                                                   | 44/236 [00:01<00:04, 39.03it/s]"
     ]
    },
    {
     "name": "stdout",
     "output_type": "stream",
     "text": [
      "length before pruning 3\n",
      "length after pruning 0\n",
      "detection info []\n",
      "length before pruning 3\n",
      "length after pruning 0\n",
      "detection info []\n",
      "length before pruning 3\n",
      "length after pruning 0\n",
      "detection info []\n",
      "length before pruning 3\n",
      "length after pruning 0\n",
      "detection info []\n",
      "length before pruning 3\n",
      "length after pruning 0\n",
      "detection info []\n"
     ]
    },
    {
     "name": "stderr",
     "output_type": "stream",
     "text": [
      "\r",
      " 21%|█████████████████████████████▍                                                                                                                | 49/236 [00:01<00:04, 37.86it/s]"
     ]
    },
    {
     "name": "stdout",
     "output_type": "stream",
     "text": [
      "length before pruning 4\n",
      "length after pruning 0\n",
      "detection info []\n",
      "length before pruning 4\n",
      "length after pruning 0\n",
      "detection info []\n",
      "length before pruning 3\n",
      "length after pruning 0\n",
      "detection info []\n",
      "length before pruning 4\n",
      "length after pruning 0\n",
      "detection info []\n",
      "length before pruning 3\n",
      "length after pruning 0\n",
      "detection info []\n",
      "length before pruning 3\n",
      "length after pruning 0\n",
      "detection info []\n"
     ]
    },
    {
     "name": "stderr",
     "output_type": "stream",
     "text": [
      "\r",
      " 23%|████████████████████████████████▍                                                                                                             | 54/236 [00:01<00:04, 37.76it/s]"
     ]
    },
    {
     "name": "stdout",
     "output_type": "stream",
     "text": [
      "length before pruning 3\n",
      "length after pruning 0\n",
      "detection info []\n",
      "length before pruning 3\n",
      "length after pruning 0\n",
      "detection info []\n"
     ]
    },
    {
     "name": "stderr",
     "output_type": "stream",
     "text": [
      "\r",
      " 25%|███████████████████████████████████▌                                                                                                          | 59/236 [00:01<00:04, 38.84it/s]"
     ]
    },
    {
     "name": "stdout",
     "output_type": "stream",
     "text": [
      "length before pruning 3\n",
      "length after pruning 0\n",
      "detection info []\n",
      "length before pruning 2\n",
      "length after pruning 0\n",
      "detection info []\n",
      "length before pruning 2\n",
      "length after pruning 0\n",
      "detection info []\n",
      "length before pruning 2\n",
      "length after pruning 0\n",
      "detection info []\n",
      "length before pruning 1\n",
      "length after pruning 0\n",
      "detection info []\n",
      "length before pruning 1\n",
      "length after pruning 0\n",
      "detection info []\n",
      "length before pruning 1\n",
      "length after pruning 0\n",
      "detection info []\n",
      "length before pruning 1\n",
      "length after pruning 0\n",
      "detection info []\n",
      "length before pruning 1\n",
      "length after pruning 0\n",
      "detection info []\n"
     ]
    },
    {
     "name": "stderr",
     "output_type": "stream",
     "text": [
      "\r",
      " 28%|███████████████████████████████████████▋                                                                                                      | 66/236 [00:01<00:03, 44.83it/s]"
     ]
    },
    {
     "name": "stdout",
     "output_type": "stream",
     "text": [
      "length before pruning 1\n",
      "length after pruning 0\n",
      "detection info []\n",
      "length before pruning 1\n",
      "length after pruning 0\n",
      "detection info []\n",
      "length before pruning 1\n",
      "length after pruning 0\n",
      "detection info []\n"
     ]
    },
    {
     "name": "stderr",
     "output_type": "stream",
     "text": [
      "\r",
      " 31%|███████████████████████████████████████████▎                                                                                                  | 72/236 [00:01<00:03, 48.62it/s]"
     ]
    },
    {
     "name": "stdout",
     "output_type": "stream",
     "text": [
      "length before pruning 1\n",
      "length after pruning 0\n",
      "detection info []\n",
      "length before pruning 1\n",
      "length after pruning 0\n",
      "detection info []\n",
      "length before pruning 1\n",
      "length after pruning 0\n",
      "detection info []\n",
      "length before pruning 1\n",
      "length after pruning 0\n",
      "detection info []\n",
      "length before pruning 2\n",
      "length after pruning 0\n",
      "detection info []\n",
      "length before pruning 2\n",
      "length after pruning 0\n",
      "detection info []\n",
      "length before pruning 2\n",
      "length after pruning 0\n",
      "detection info []\n",
      "length before pruning 2\n",
      "length after pruning 0\n",
      "detection info []\n"
     ]
    },
    {
     "name": "stderr",
     "output_type": "stream",
     "text": [
      "\r",
      " 33%|██████████████████████████████████████████████▉                                                                                               | 78/236 [00:01<00:03, 48.10it/s]"
     ]
    },
    {
     "name": "stdout",
     "output_type": "stream",
     "text": [
      "length before pruning 2\n",
      "length after pruning 0\n",
      "detection info []\n",
      "length before pruning 2\n",
      "length after pruning 0\n",
      "detection info []\n",
      "length before pruning 2\n",
      "length after pruning 0\n",
      "detection info []\n",
      "length before pruning 2\n",
      "length after pruning 0\n",
      "detection info []\n",
      "length before pruning 2\n",
      "length after pruning 0\n",
      "detection info []\n",
      "length before pruning 3\n",
      "length after pruning 0\n",
      "detection info []\n",
      "length before pruning 2\n",
      "length after pruning 0\n",
      "detection info []\n"
     ]
    },
    {
     "name": "stderr",
     "output_type": "stream",
     "text": [
      "\r",
      " 35%|█████████████████████████████████████████████████▉                                                                                            | 83/236 [00:01<00:03, 46.02it/s]"
     ]
    },
    {
     "name": "stdout",
     "output_type": "stream",
     "text": [
      "length before pruning 3\n",
      "length after pruning 0\n",
      "detection info []\n",
      "length before pruning 3\n",
      "length after pruning 0\n",
      "detection info []\n",
      "length before pruning 3\n",
      "length after pruning 0\n",
      "detection info []\n",
      "length before pruning 3\n",
      "length after pruning 0\n",
      "detection info []\n"
     ]
    },
    {
     "name": "stderr",
     "output_type": "stream",
     "text": [
      "\r",
      " 37%|████████████████████████████████████████████████████▉                                                                                         | 88/236 [00:02<00:03, 42.87it/s]"
     ]
    },
    {
     "name": "stdout",
     "output_type": "stream",
     "text": [
      "length before pruning 2\n",
      "length after pruning 0\n",
      "detection info []\n",
      "length before pruning 4\n",
      "length after pruning 0\n",
      "detection info []\n",
      "length before pruning 3\n",
      "length after pruning 0\n",
      "detection info []\n",
      "length before pruning 3\n",
      "length after pruning 0\n",
      "detection info []\n",
      "length before pruning 4\n",
      "length after pruning 0\n",
      "detection info []\n",
      "length before pruning 4\n",
      "length after pruning 0\n",
      "detection info []\n"
     ]
    },
    {
     "name": "stderr",
     "output_type": "stream",
     "text": [
      "\r",
      " 39%|███████████████████████████████████████████████████████▉                                                                                      | 93/236 [00:02<00:03, 40.71it/s]"
     ]
    },
    {
     "name": "stdout",
     "output_type": "stream",
     "text": [
      "length before pruning 3\n",
      "length after pruning 0\n",
      "detection info []\n",
      "length before pruning 3\n",
      "length after pruning 0\n",
      "detection info []\n"
     ]
    },
    {
     "name": "stderr",
     "output_type": "stream",
     "text": [
      "\r",
      " 42%|██████████████████████████████████████████████████████████▉                                                                                   | 98/236 [00:02<00:03, 41.31it/s]"
     ]
    },
    {
     "name": "stdout",
     "output_type": "stream",
     "text": [
      "length before pruning 3\n",
      "length after pruning 0\n",
      "detection info []\n",
      "length before pruning 2\n",
      "length after pruning 0\n",
      "detection info []\n",
      "length before pruning 2\n",
      "length after pruning 0\n",
      "detection info []\n",
      "length before pruning 2\n",
      "length after pruning 0\n",
      "detection info []\n",
      "length before pruning 3\n",
      "length after pruning 0\n",
      "detection info []\n",
      "length before pruning 3\n",
      "length after pruning 0\n",
      "detection info []\n",
      "length before pruning 3\n",
      "length after pruning 0\n",
      "detection info []\n",
      "length before pruning 4\n",
      "length after pruning 0\n",
      "detection info []\n"
     ]
    },
    {
     "name": "stderr",
     "output_type": "stream",
     "text": [
      "\r",
      " 44%|█████████████████████████████████████████████████████████████▌                                                                               | 103/236 [00:02<00:03, 39.27it/s]"
     ]
    },
    {
     "name": "stdout",
     "output_type": "stream",
     "text": [
      "length before pruning 3\n",
      "length after pruning 0\n",
      "detection info []\n",
      "length before pruning 2\n",
      "length after pruning 0\n",
      "detection info []\n",
      "length before pruning 2\n",
      "length after pruning 0\n",
      "detection info []\n",
      "length before pruning 3\n",
      "length after pruning 0\n",
      "detection info []\n"
     ]
    },
    {
     "name": "stderr",
     "output_type": "stream",
     "text": [
      "\r",
      " 45%|███████████████████████████████████████████████████████████████▉                                                                             | 107/236 [00:02<00:03, 38.91it/s]"
     ]
    },
    {
     "name": "stdout",
     "output_type": "stream",
     "text": [
      "length before pruning 3\n",
      "length after pruning 0\n",
      "detection info []\n",
      "length before pruning 4\n",
      "length after pruning 0\n",
      "detection info []\n",
      "length before pruning 3\n",
      "length after pruning 0\n",
      "detection info []\n"
     ]
    },
    {
     "name": "stderr",
     "output_type": "stream",
     "text": [
      "\r",
      " 47%|██████████████████████████████████████████████████████████████████▎                                                                          | 111/236 [00:02<00:03, 35.98it/s]"
     ]
    },
    {
     "name": "stdout",
     "output_type": "stream",
     "text": [
      "length before pruning 5\n",
      "length after pruning 0\n",
      "detection info []\n",
      "length before pruning 5\n",
      "length after pruning 0\n",
      "detection info []\n",
      "length before pruning 5\n",
      "length after pruning 0\n",
      "detection info []\n"
     ]
    },
    {
     "name": "stderr",
     "output_type": "stream",
     "text": [
      "\r",
      " 49%|████████████████████████████████████████████████████████████████████▋                                                                        | 115/236 [00:02<00:03, 32.80it/s]"
     ]
    },
    {
     "name": "stdout",
     "output_type": "stream",
     "text": [
      "length before pruning 6\n",
      "length after pruning 0\n",
      "detection info []\n",
      "length before pruning 5\n",
      "length after pruning 0\n",
      "detection info []\n",
      "length before pruning 5\n",
      "length after pruning 0\n",
      "detection info []\n",
      "length before pruning 4\n",
      "length after pruning 0\n",
      "detection info []\n",
      "length before pruning 4\n",
      "length after pruning 0\n",
      "detection info []\n",
      "length before pruning 5\n",
      "length after pruning 0\n",
      "detection info []\n"
     ]
    },
    {
     "name": "stderr",
     "output_type": "stream",
     "text": [
      "\r",
      " 50%|███████████████████████████████████████████████████████████████████████                                                                      | 119/236 [00:03<00:03, 31.37it/s]"
     ]
    },
    {
     "name": "stdout",
     "output_type": "stream",
     "text": [
      "length before pruning 6\n",
      "length after pruning 0\n",
      "detection info []\n",
      "length before pruning 6\n",
      "length after pruning 0\n",
      "detection info []\n",
      "length before pruning 6\n",
      "length after pruning 0\n",
      "detection info []\n"
     ]
    },
    {
     "name": "stderr",
     "output_type": "stream",
     "text": [
      "\r",
      " 52%|█████████████████████████████████████████████████████████████████████████▍                                                                   | 123/236 [00:03<00:03, 30.47it/s]"
     ]
    },
    {
     "name": "stdout",
     "output_type": "stream",
     "text": [
      "length before pruning 3\n",
      "length after pruning 0\n",
      "detection info []\n",
      "length before pruning 4\n",
      "length after pruning 0\n",
      "detection info []\n",
      "length before pruning 4\n",
      "length after pruning 0\n",
      "detection info []\n",
      "length before pruning 3\n",
      "length after pruning 0\n",
      "detection info []\n"
     ]
    },
    {
     "name": "stderr",
     "output_type": "stream",
     "text": [
      "\r",
      " 54%|███████████████████████████████████████████████████████████████████████████▉                                                                 | 127/236 [00:03<00:03, 31.84it/s]"
     ]
    },
    {
     "name": "stdout",
     "output_type": "stream",
     "text": [
      "length before pruning 3\n",
      "length after pruning 0\n",
      "detection info []\n",
      "length before pruning 3\n",
      "length after pruning 0\n",
      "detection info []\n",
      "length before pruning 2\n",
      "length after pruning 0\n",
      "detection info []\n",
      "length before pruning 1\n",
      "length after pruning 0\n",
      "detection info []\n"
     ]
    },
    {
     "name": "stderr",
     "output_type": "stream",
     "text": [
      "\r",
      " 56%|██████████████████████████████████████████████████████████████████████████████▊                                                              | 132/236 [00:03<00:02, 36.18it/s]"
     ]
    },
    {
     "name": "stdout",
     "output_type": "stream",
     "text": [
      "length before pruning 2\n",
      "length after pruning 0\n",
      "detection info []\n",
      "length before pruning 2\n",
      "length after pruning 0\n",
      "detection info []\n",
      "length before pruning 2\n",
      "length after pruning 0\n",
      "detection info []\n",
      "length before pruning 4\n",
      "length after pruning 0\n",
      "detection info []\n",
      "length before pruning 3\n",
      "length after pruning 0\n",
      "detection info []\n"
     ]
    },
    {
     "name": "stderr",
     "output_type": "stream",
     "text": [
      "\r",
      " 58%|█████████████████████████████████████████████████████████████████████████████████▎                                                           | 136/236 [00:03<00:02, 35.32it/s]"
     ]
    },
    {
     "name": "stdout",
     "output_type": "stream",
     "text": [
      "length before pruning 4\n",
      "length after pruning 0\n",
      "detection info []\n",
      "length before pruning 3\n",
      "length after pruning 0\n",
      "detection info []\n",
      "length before pruning 3\n",
      "length after pruning 0\n",
      "detection info []\n"
     ]
    },
    {
     "name": "stderr",
     "output_type": "stream",
     "text": [
      "\r",
      " 59%|███████████████████████████████████████████████████████████████████████████████████▋                                                         | 140/236 [00:03<00:02, 32.73it/s]"
     ]
    },
    {
     "name": "stdout",
     "output_type": "stream",
     "text": [
      "length before pruning 6\n",
      "length after pruning 0\n",
      "detection info []\n",
      "length before pruning 5\n",
      "length after pruning 0\n",
      "detection info []\n",
      "length before pruning 5\n",
      "length after pruning 0\n",
      "detection info []\n",
      "length before pruning 4\n",
      "length after pruning 0\n",
      "detection info []\n",
      "length before pruning 4\n",
      "length after pruning 0\n",
      "detection info []\n",
      "length before pruning 7\n",
      "length after pruning 0\n",
      "detection info []\n"
     ]
    },
    {
     "name": "stderr",
     "output_type": "stream",
     "text": [
      "\r",
      " 61%|██████████████████████████████████████████████████████████████████████████████████████                                                       | 144/236 [00:03<00:03, 30.49it/s]"
     ]
    },
    {
     "name": "stdout",
     "output_type": "stream",
     "text": [
      "length before pruning 7\n",
      "length after pruning 0\n",
      "detection info []\n",
      "length before pruning 7\n",
      "length after pruning 0\n",
      "detection info []\n"
     ]
    },
    {
     "name": "stderr",
     "output_type": "stream",
     "text": [
      "\r",
      " 63%|████████████████████████████████████████████████████████████████████████████████████████▍                                                    | 148/236 [00:04<00:03, 28.30it/s]"
     ]
    },
    {
     "name": "stdout",
     "output_type": "stream",
     "text": [
      "length before pruning 7\n",
      "length after pruning 0\n",
      "detection info []\n",
      "length before pruning 6\n",
      "length after pruning 0\n",
      "detection info []\n",
      "length before pruning 6\n",
      "length after pruning 0\n",
      "detection info []\n"
     ]
    },
    {
     "name": "stderr",
     "output_type": "stream",
     "text": [
      "\r",
      " 64%|██████████████████████████████████████████████████████████████████████████████████████████▏                                                  | 151/236 [00:04<00:03, 28.25it/s]"
     ]
    },
    {
     "name": "stdout",
     "output_type": "stream",
     "text": [
      "length before pruning 5\n",
      "length after pruning 0\n",
      "detection info []\n",
      "length before pruning 4\n",
      "length after pruning 0\n",
      "detection info []\n",
      "length before pruning 5\n",
      "length after pruning 0\n",
      "detection info []\n"
     ]
    },
    {
     "name": "stderr",
     "output_type": "stream",
     "text": [
      "\r",
      " 65%|████████████████████████████████████████████████████████████████████████████████████████████                                                 | 154/236 [00:04<00:02, 28.20it/s]"
     ]
    },
    {
     "name": "stdout",
     "output_type": "stream",
     "text": [
      "length before pruning 5\n",
      "length after pruning 0\n",
      "detection info []\n",
      "length before pruning 5\n",
      "length after pruning 0\n",
      "detection info []\n",
      "length before pruning 4\n",
      "length after pruning 0\n",
      "detection info []\n"
     ]
    },
    {
     "name": "stderr",
     "output_type": "stream",
     "text": [
      "\r",
      " 67%|██████████████████████████████████████████████████████████████████████████████████████████████▍                                              | 158/236 [00:04<00:02, 30.05it/s]"
     ]
    },
    {
     "name": "stdout",
     "output_type": "stream",
     "text": [
      "length before pruning 4\n",
      "length after pruning 0\n",
      "detection info []\n",
      "length before pruning 4\n",
      "length after pruning 0\n",
      "detection info []\n",
      "length before pruning 4\n",
      "length after pruning 0\n",
      "detection info []\n",
      "length before pruning 2\n",
      "length after pruning 0\n",
      "detection info []\n",
      "length before pruning 3\n",
      "length after pruning 0\n",
      "detection info []\n",
      "length before pruning 3\n",
      "length after pruning 0\n",
      "detection info []\n",
      "length before pruning 3\n",
      "length after pruning 0\n",
      "detection info []\n"
     ]
    },
    {
     "name": "stderr",
     "output_type": "stream",
     "text": [
      "\r",
      " 69%|████████████████████████████████████████████████████████████████████████████████████████████████▊                                            | 162/236 [00:04<00:02, 30.61it/s]"
     ]
    },
    {
     "name": "stdout",
     "output_type": "stream",
     "text": [
      "length before pruning 4\n",
      "length after pruning 0\n",
      "detection info []\n",
      "length before pruning 5\n",
      "length after pruning 0\n",
      "detection info []\n",
      "length before pruning 5\n",
      "length after pruning 0\n",
      "detection info []\n"
     ]
    },
    {
     "name": "stderr",
     "output_type": "stream",
     "text": [
      "\r",
      " 70%|███████████████████████████████████████████████████████████████████████████████████████████████████▏                                         | 166/236 [00:04<00:02, 28.00it/s]"
     ]
    },
    {
     "name": "stdout",
     "output_type": "stream",
     "text": [
      "length before pruning 7\n",
      "length after pruning 0\n",
      "detection info []\n",
      "length before pruning 6\n",
      "length after pruning 0\n",
      "detection info []\n"
     ]
    },
    {
     "name": "stderr",
     "output_type": "stream",
     "text": [
      "\r",
      " 72%|████████████████████████████████████████████████████████████████████████████████████████████████████▉                                        | 169/236 [00:04<00:02, 26.07it/s]"
     ]
    },
    {
     "name": "stdout",
     "output_type": "stream",
     "text": [
      "length before pruning 8\n",
      "length after pruning 0\n",
      "detection info []\n",
      "length before pruning 7\n",
      "length after pruning 0\n",
      "detection info []\n",
      "length before pruning 5\n",
      "length after pruning 0\n",
      "detection info []\n",
      "length before pruning 7\n",
      "length after pruning 0\n",
      "detection info []\n",
      "length before pruning 6\n",
      "length after pruning 0\n",
      "detection info []\n"
     ]
    },
    {
     "name": "stderr",
     "output_type": "stream",
     "text": [
      " 74%|████████████████████████████████████████████████████████████████████████████████████████████████████████▌                                    | 175/236 [00:05<00:02, 25.23it/s]"
     ]
    },
    {
     "name": "stdout",
     "output_type": "stream",
     "text": [
      "length before pruning 5\n",
      "length after pruning 0\n",
      "detection info []\n",
      "length before pruning 7\n",
      "length after pruning 0\n",
      "detection info []\n",
      "length before pruning 6\n",
      "length after pruning 0\n",
      "detection info []\n",
      "length before pruning 5\n",
      "length after pruning 0\n",
      "detection info []\n",
      "length before pruning 6\n",
      "length after pruning 0\n",
      "detection info []\n"
     ]
    },
    {
     "name": "stderr",
     "output_type": "stream",
     "text": [
      " 77%|████████████████████████████████████████████████████████████████████████████████████████████████████████████▏                                | 181/236 [00:05<00:02, 26.67it/s]"
     ]
    },
    {
     "name": "stdout",
     "output_type": "stream",
     "text": [
      "length before pruning 5\n",
      "length after pruning 0\n",
      "detection info []\n",
      "length before pruning 4\n",
      "length after pruning 0\n",
      "detection info []\n",
      "length before pruning 4\n",
      "length after pruning 0\n",
      "detection info []\n",
      "length before pruning 3\n",
      "length after pruning 0\n",
      "detection info []\n",
      "length before pruning 5\n",
      "length after pruning 0\n",
      "detection info []\n",
      "length before pruning 3\n",
      "length after pruning 0\n",
      "detection info []\n",
      "length before pruning 3\n",
      "length after pruning 0\n",
      "detection info []\n"
     ]
    },
    {
     "name": "stderr",
     "output_type": "stream",
     "text": [
      "\r",
      " 78%|██████████████████████████████████████████████████████████████████████████████████████████████████████████████▌                              | 185/236 [00:05<00:01, 28.48it/s]"
     ]
    },
    {
     "name": "stdout",
     "output_type": "stream",
     "text": [
      "length before pruning 3\n",
      "length after pruning 0\n",
      "detection info []\n",
      "length before pruning 6\n",
      "length after pruning 0\n",
      "detection info []\n",
      "length before pruning 6\n",
      "length after pruning 0\n",
      "detection info []\n",
      "length before pruning 6\n",
      "length after pruning 0\n",
      "detection info []\n",
      "length before pruning 6\n",
      "length after pruning 0\n",
      "detection info []\n"
     ]
    },
    {
     "name": "stderr",
     "output_type": "stream",
     "text": [
      " 81%|██████████████████████████████████████████████████████████████████████████████████████████████████████████████████                           | 191/236 [00:05<00:01, 25.57it/s]"
     ]
    },
    {
     "name": "stdout",
     "output_type": "stream",
     "text": [
      "length before pruning 6\n",
      "length after pruning 0\n",
      "detection info []\n",
      "length before pruning 7\n",
      "length after pruning 0\n",
      "detection info []\n",
      "length before pruning 7\n",
      "length after pruning 0\n",
      "detection info []\n",
      "length before pruning 7\n",
      "length after pruning 0\n",
      "detection info []\n",
      "length before pruning 7\n",
      "length after pruning 0\n",
      "detection info []\n"
     ]
    },
    {
     "name": "stderr",
     "output_type": "stream",
     "text": [
      " 83%|█████████████████████████████████████████████████████████████████████████████████████████████████████████████████████▋                       | 197/236 [00:05<00:01, 24.25it/s]"
     ]
    },
    {
     "name": "stdout",
     "output_type": "stream",
     "text": [
      "length before pruning 7\n",
      "length after pruning 0\n",
      "detection info []\n",
      "length before pruning 7\n",
      "length after pruning 0\n",
      "detection info []\n",
      "length before pruning 7\n",
      "length after pruning 0\n",
      "detection info []\n",
      "length before pruning 5\n",
      "length after pruning 0\n",
      "detection info []\n",
      "length before pruning 5\n",
      "length after pruning 0\n",
      "detection info []\n"
     ]
    },
    {
     "name": "stderr",
     "output_type": "stream",
     "text": [
      " 87%|██████████████████████████████████████████████████████████████████████████████████████████████████████████████████████████▍                  | 205/236 [00:06<00:01, 29.88it/s]"
     ]
    },
    {
     "name": "stdout",
     "output_type": "stream",
     "text": [
      "length before pruning 5\n",
      "length after pruning 0\n",
      "detection info []\n",
      "length before pruning 4\n",
      "length after pruning 0\n",
      "detection info []\n",
      "length before pruning 2\n",
      "length after pruning 0\n",
      "detection info []\n",
      "length before pruning 2\n",
      "length after pruning 0\n",
      "detection info []\n",
      "length before pruning 2\n",
      "length after pruning 0\n",
      "detection info []\n",
      "length before pruning 3\n",
      "length after pruning 0\n",
      "detection info []\n",
      "length before pruning 4\n",
      "length after pruning 0\n",
      "detection info []\n",
      "length before pruning 4\n",
      "length after pruning 0\n",
      "detection info []\n"
     ]
    },
    {
     "name": "stderr",
     "output_type": "stream",
     "text": [
      " 89%|██████████████████████████████████████████████████████████████████████████████████████████████████████████████████████████████               | 211/236 [00:06<00:00, 28.07it/s]"
     ]
    },
    {
     "name": "stdout",
     "output_type": "stream",
     "text": [
      "length before pruning 5\n",
      "length after pruning 0\n",
      "detection info []\n",
      "length before pruning 5\n",
      "length after pruning 0\n",
      "detection info []\n",
      "length before pruning 6\n",
      "length after pruning 0\n",
      "detection info []\n",
      "length before pruning 6\n",
      "length after pruning 0\n",
      "detection info []\n",
      "length before pruning 5\n",
      "length after pruning 0\n",
      "detection info []\n"
     ]
    },
    {
     "name": "stderr",
     "output_type": "stream",
     "text": [
      "\r",
      " 91%|███████████████████████████████████████████████████████████████████████████████████████████████████████████████████████████████▊             | 214/236 [00:06<00:00, 26.93it/s]"
     ]
    },
    {
     "name": "stdout",
     "output_type": "stream",
     "text": [
      "length before pruning 6\n",
      "length after pruning 0\n",
      "detection info []\n",
      "length before pruning 6\n",
      "length after pruning 0\n",
      "detection info []\n",
      "length before pruning 5\n",
      "length after pruning 0\n",
      "detection info []\n",
      "length before pruning 5\n",
      "length after pruning 0\n",
      "detection info []\n",
      "length before pruning 7\n",
      "length after pruning 0\n",
      "detection info []\n"
     ]
    },
    {
     "name": "stderr",
     "output_type": "stream",
     "text": [
      " 93%|███████████████████████████████████████████████████████████████████████████████████████████████████████████████████████████████████▍         | 220/236 [00:06<00:00, 25.95it/s]"
     ]
    },
    {
     "name": "stdout",
     "output_type": "stream",
     "text": [
      "length before pruning 7\n",
      "length after pruning 0\n",
      "detection info []\n",
      "length before pruning 6\n",
      "length after pruning 0\n",
      "detection info []\n",
      "length before pruning 5\n",
      "length after pruning 0\n",
      "detection info []\n",
      "length before pruning 5\n",
      "length after pruning 0\n",
      "detection info []\n",
      "length before pruning 5\n",
      "length after pruning 0\n",
      "detection info []\n",
      "length before pruning 6\n",
      "length after pruning 0\n",
      "detection info []\n"
     ]
    },
    {
     "name": "stderr",
     "output_type": "stream",
     "text": [
      " 96%|███████████████████████████████████████████████████████████████████████████████████████████████████████████████████████████████████████      | 226/236 [00:06<00:00, 25.60it/s]"
     ]
    },
    {
     "name": "stdout",
     "output_type": "stream",
     "text": [
      "length before pruning 6\n",
      "length after pruning 0\n",
      "detection info []\n",
      "length before pruning 6\n",
      "length after pruning 0\n",
      "detection info []\n",
      "length before pruning 6\n",
      "length after pruning 0\n",
      "detection info []\n",
      "length before pruning 5\n",
      "length after pruning 0\n",
      "detection info []\n",
      "length before pruning 4\n",
      "length after pruning 0\n",
      "detection info []\n",
      "length before pruning 6\n",
      "length after pruning 0\n",
      "detection info []\n"
     ]
    },
    {
     "name": "stderr",
     "output_type": "stream",
     "text": [
      "100%|█████████████████████████████████████████████████████████████████████████████████████████████████████████████████████████████████████████████| 236/236 [00:07<00:00, 32.76it/s]\n"
     ]
    },
    {
     "name": "stdout",
     "output_type": "stream",
     "text": [
      "length before pruning 5\n",
      "length after pruning 0\n",
      "detection info []\n",
      "length before pruning 2\n",
      "length after pruning 0\n",
      "detection info []\n",
      "length before pruning 2\n",
      "length after pruning 0\n",
      "detection info []\n",
      "length before pruning 2\n",
      "length after pruning 0\n",
      "detection info []\n",
      "length before pruning 2\n",
      "length after pruning 0\n",
      "detection info []\n",
      "length before pruning 2\n",
      "length after pruning 0\n",
      "detection info []\n",
      "length before pruning 2\n",
      "length after pruning 0\n",
      "detection info []\n",
      "length before pruning 2\n",
      "length after pruning 0\n",
      "detection info []\n",
      "number of skipped 229\n",
      "{None: 8}\n",
      "total_run_time 7.207094430923462\n",
      "total_detection_time 6.9078004360198975\n",
      "total_generate_sample_plan_time 0.1873629093170166\n",
      "237\n",
      "237\n",
      "  filtered frames: 3.3755274261603376%\n",
      "..........K....KKKKKKK..............................................................................\n",
      "....................................................................................................\n",
      ".....................................\n",
      "Stage:  Tracking2D.StrongSORT\n",
      "None\n",
      "237\n",
      "  filtered frames: 3.3755274261603376%\n",
      "..........K....KKKKKKK..............................................................................\n",
      "....................................................................................................\n",
      ".....................................\n",
      "Stage:  Tracking3D.From2DAndRoad\n"
     ]
    },
    {
     "name": "stderr",
     "output_type": "stream",
     "text": [
      "100%|█████████████████████████████████████████████████████████████████████████████████████████████████████████████████████████████████████████| 237/237 [00:00<00:00, 148698.59it/s]"
     ]
    },
    {
     "name": "stdout",
     "output_type": "stream",
     "text": [
      "None\n",
      "237\n",
      "  filtered frames: 3.3755274261603376%\n",
      "..........K....KKKKKKK..............................................................................\n",
      "....................................................................................................\n",
      ".....................................\n",
      "Stage:  SegmentTrajectory.FromTracking3D\n"
     ]
    },
    {
     "name": "stderr",
     "output_type": "stream",
     "text": [
      "\n"
     ]
    },
    {
     "name": "stdout",
     "output_type": "stream",
     "text": [
      "None\n",
      "237\n",
      "  filtered frames: 3.3755274261603376%\n",
      "..........K....KKKKKKK..............................................................................\n",
      "....................................................................................................\n",
      ".....................................\n",
      "Time taken to insert trajectories: 0.01744556427001953\n",
      "info found []\n",
      "total preprocess time 9.701936721801758\n"
     ]
    }
   ],
   "source": [
    "preprocess(world, DATA_DIR, ['scene-0757-CAM_FRONT'], base=False)"
   ]
  },
  {
   "cell_type": "code",
   "execution_count": 11,
   "id": "d10b4724",
   "metadata": {},
   "outputs": [],
   "source": [
    "# optimized_query_start = time.time()\n",
    "# id_time_camId_filename = world.get_id_time_camId_filename(2)\n",
    "# print(f'optimized query time: {time.time()-optimized_query_start}')"
   ]
  },
  {
   "cell_type": "code",
   "execution_count": 12,
   "id": "a7db7bf6",
   "metadata": {},
   "outputs": [],
   "source": [
    "# optimized_results = [e[4] for e in id_time_camId_filename]\n",
    "# construct_video(optimized_results)"
   ]
  },
  {
   "cell_type": "code",
   "execution_count": 13,
   "id": "ee79569b",
   "metadata": {},
   "outputs": [],
   "source": [
    "# false_negative = [f for f in base_results if f not in optimized_results]\n",
    "# print(len(false_negative))\n",
    "# construct_video(false_negative, vid_name=\"false_negative.avi\")"
   ]
  },
  {
   "cell_type": "code",
   "execution_count": 14,
   "id": "c19be7d0",
   "metadata": {},
   "outputs": [],
   "source": [
    "# false_positive = [f for f in optimized_results if f not in base_results]\n",
    "# print(len(false_positive))\n",
    "# construct_video(false_positive, vid_name=\"false_positive.avi\")"
   ]
  },
  {
   "cell_type": "code",
   "execution_count": 15,
   "id": "aa88fa78",
   "metadata": {},
   "outputs": [],
   "source": [
    "# [e for e in id_time_camId_filename if e[4] in false_positive]\n"
   ]
  },
  {
   "cell_type": "code",
   "execution_count": 16,
   "id": "2166f86a",
   "metadata": {},
   "outputs": [],
   "source": [
    "investigation = [[116, 316.0, 455.0, 296.0, 95.0], [161, 316.0, 454.0, 302.0, 94.0]]"
   ]
  },
  {
   "cell_type": "code",
   "execution_count": 17,
   "id": "d112e048",
   "metadata": {},
   "outputs": [],
   "source": [
    "import matplotlib.pyplot as plt\n",
    "import matplotlib.patches as patches\n",
    "from PIL import Image\n",
    "\n",
    "im = Image.open('/work/apperception/data/raw/nuScenes/full-dataset-v1.0/Mini/sweeps/CAM_FRONT/n008-2018-08-30-15-16-55-0400__CAM_FRONT__1535657125362404.jpg')\n",
    "\n",
    "# Create figure and axes\n",
    "fig, ax = plt.subplots()\n",
    "\n",
    "# Display the image\n",
    "ax.imshow(im)\n",
    "\n",
    "# Create a Rectangle patch\n",
    "for obj in investigation:\n",
    "    obj_id = obj[0]\n",
    "    x,y,w,h = obj[1:5]\n",
    "    plt.text(x, y+15, 'obj'+str(obj_id))\n",
    "    rect = patches.Rectangle((x, y), w, h, linewidth=1, edgecolor='r', facecolor='none')\n",
    "\n",
    "    # Add the patch to the Axes\n",
    "    ax.add_patch(rect)\n",
    "\n",
    "plt.show()"
   ]
  },
  {
   "cell_type": "code",
   "execution_count": null,
   "id": "f25d9bd3",
   "metadata": {},
   "outputs": [],
   "source": []
  },
  {
   "cell_type": "code",
   "execution_count": null,
   "id": "b75f6ab7",
   "metadata": {},
   "outputs": [],
   "source": []
  }
 ],
 "metadata": {
  "kernelspec": {
   "display_name": "Python 3 (ipykernel)",
   "language": "python",
   "name": "python3"
  },
  "language_info": {
   "codemirror_mode": {
    "name": "ipython",
    "version": 3
   },
   "file_extension": ".py",
   "mimetype": "text/x-python",
   "name": "python",
   "nbconvert_exporter": "python",
   "pygments_lexer": "ipython3",
   "version": "3.10.8"
  },
  "vscode": {
   "interpreter": {
    "hash": "31f2aee4e71d21fbe5cf8b01ff0e069b9275f58929596ceb00d14d90e3e16cd6"
   }
  }
 },
 "nbformat": 4,
 "nbformat_minor": 5
}
