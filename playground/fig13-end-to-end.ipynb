{
 "cells": [
  {
   "cell_type": "code",
   "execution_count": 1,
   "id": "c5c9badc",
   "metadata": {
    "execution": {
     "iopub.execute_input": "2022-12-08T00:15:43.617706Z",
     "iopub.status.busy": "2022-12-08T00:15:43.616466Z",
     "iopub.status.idle": "2022-12-08T00:15:48.654505Z",
     "shell.execute_reply": "2022-12-08T00:15:48.653531Z"
    }
   },
   "outputs": [
    {
     "name": "stdout",
     "output_type": "stream",
     "text": [
      "/home/yongming/apperception\n"
     ]
    }
   ],
   "source": [
    "%cd ..\n",
    "import os\n",
    "import time"
   ]
  },
  {
   "cell_type": "code",
   "execution_count": 2,
   "id": "152abe6c",
   "metadata": {},
   "outputs": [
    {
     "name": "stdout",
     "output_type": "stream",
     "text": [
      "CUDA is available.\n",
      " > 0: Tesla T4\n"
     ]
    }
   ],
   "source": [
    "from apperception.database import database\n",
    "from apperception.world import empty_world\n",
    "from apperception.utils import F\n",
    "from apperception.predicate import camera, objects\n",
    "from optimized_ingestion.utils.preprocess import preprocess\n",
    "database.connection\n",
    "from optimized_ingestion.cache import disable_cache\n",
    "disable_cache()"
   ]
  },
  {
   "cell_type": "code",
   "execution_count": 3,
   "id": "922e90e5",
   "metadata": {},
   "outputs": [],
   "source": [
    "NUSCENES_PROCESSED_DATA = \"NUSCENES_PROCESSED_DATA\"\n",
    "if NUSCENES_PROCESSED_DATA in os.environ:\n",
    "    DATA_DIR = os.environ[NUSCENES_PROCESSED_DATA]\n",
    "else:\n",
    "    DATA_DIR = \"/work/apperception/data/nuScenes/full-dataset-v1.0/Mini\"\n",
    "NUSCENES_RAW_DATA = \"NUSCENES_RAW_DATA\"\n",
    "if NUSCENES_RAW_DATA in os.environ:\n",
    "    RAW_DATA_DIR = os.environ[NUSCENES_RAW_DATA]\n",
    "else:\n",
    "    RAW_DATA_DIR = \"/work/apperception/data/raw/nuScenes/full-dataset-v1.0/Mini\""
   ]
  },
  {
   "cell_type": "code",
   "execution_count": 4,
   "id": "574d9f46",
   "metadata": {},
   "outputs": [],
   "source": [
    "import cv2\n",
    "from os.path import exists\n",
    "def construct_video(frames, size=(1600, 900), base=False, vid_name=None, vid_prefix=False):\n",
    "    unique_frames = []\n",
    "    for f in frames:\n",
    "        if f not in unique_frames:\n",
    "            unique_frames.append(f)\n",
    "    fourcc = cv2.VideoWriter_fourcc(*'mp4v')\n",
    "    vid_name = \"./outputs/fig13_\"+vid_name if vid_name else f\"./outputs/{'fig13_base' if base else 'fig13_optimized'}.mp4\"\n",
    "    display_video = cv2.VideoWriter(vid_name,fourcc, 1, size)\n",
    "    for frame in unique_frames:\n",
    "        if vid_prefix:\n",
    "            img_path = os.path.join(RAW_DATA_DIR, 'sweeps/CAM_FRONT', frame)\n",
    "            if not exists(img_path):\n",
    "                img_path = os.path.join(RAW_DATA_DIR, 'samples/CAM_FRONT', frame)\n",
    "        else:\n",
    "            img_path = os.path.join(RAW_DATA_DIR, frame)\n",
    "        img = cv2.imread(img_path)\n",
    "        display_video.write(img)\n",
    "\n",
    "    display_video.release()"
   ]
  },
  {
   "cell_type": "code",
   "execution_count": 5,
   "id": "533a4ce8",
   "metadata": {},
   "outputs": [],
   "source": [
    "name = 'ScenicWorld'\n",
    "world = empty_world(name=name)\n",
    "\n",
    "obj1 = objects[0]\n",
    "obj2 = objects[1]\n",
    "cam = camera\n",
    "\n",
    "# world = world.filter(\n",
    "#     (obj1.id != obj2.id) &\n",
    "#     (F.like(obj1.type, 'car') | F.like(obj1.type, 'truck')) &\n",
    "#     (F.like(obj2.type, 'car') | F.like(obj2.type, 'truck')) &\n",
    "#     F.angle_between(F.facing_relative(cam.ego, F.road_direction(cam.ego)), -15, 15) &\n",
    "#     (F.distance(cam.ego, obj1.trans@cam.time) < 50) &\n",
    "#     (F.view_angle(obj1.trans@cam.time, cam.ego) < 70 / 2.0) &\n",
    "#     (F.distance(cam.ego, obj2.trans@cam.time) < 50) &\n",
    "#     (F.view_angle(obj2.trans@cam.time, cam.ego) < 70 / 2.0) &\n",
    "#     F.contains_all('intersection', [obj1.trans, obj2.trans]@cam.time) &\n",
    "#     F.angle_between(F.facing_relative(obj1.trans@cam.time, cam.ego), 40, 135) &\n",
    "#     F.angle_between(F.facing_relative(obj2.trans@cam.time, cam.ego), -135, -50) &\n",
    "#     (F.min_distance(cam.ego, 'intersection') < 10) &\n",
    "#     F.angle_between(F.facing_relative(obj1.trans@cam.time, obj2.trans@cam.time), 100, -100)\n",
    "# )\n",
    "world = world.filter(\n",
    "    (F.like(obj1.type, 'car') | F.like(obj1.type, 'truck')) &\n",
    "    F.angle_between(F.facing_relative(cam.ego, F.road_direction(cam.ego)), -15, 15) &\n",
    "    (F.distance(cam.ego, obj1.trans@cam.time) < 50) &\n",
    "    F.contains_all('intersection', [obj1.trans]@cam.time) &\n",
    "    F.angle_between(F.facing_relative(obj1.trans@cam.time, cam.ego), 135, 225) &\n",
    "    (F.min_distance(cam.ego, 'intersection') < 10)\n",
    ")\n"
   ]
  },
  {
   "cell_type": "code",
   "execution_count": 6,
   "id": "d20af03c",
   "metadata": {},
   "outputs": [
    {
     "name": "stdout",
     "output_type": "stream",
     "text": [
      "scene-0655-CAM_FRONT --------------------------------------------------------------------------------\n",
      "Stage:  InView\n",
      "Stage:  DecodeFrame.ParallelDecodeFrame\n"
     ]
    },
    {
     "name": "stderr",
     "output_type": "stream",
     "text": [
      "100%|█████████████████████████████████████████████████████████████████████████████████████████████████████████████████████████████████| 4/4 [00:04<00:00,  1.21s/it]\n"
     ]
    },
    {
     "name": "stdout",
     "output_type": "stream",
     "text": [
      "Stage:  Detection2D.YoloDetection\n"
     ]
    },
    {
     "name": "stderr",
     "output_type": "stream",
     "text": [
      "ego_speed: 8.223887668036209\n",
      "\n",
      "    WITH\n",
      "    Point AS (SELECT * FROM UNNEST(ARRAY[0,1,2,3,4,5,6,7,8,9,10,11,12,13,14,15],ARRAY[1776.7123969743516,1777.3754208279192,1777.5167320592332,1777.2650195969686,1777.5150646081534,1777.530511129799,1777.22766947455,1777.3814765030393,1777.6314865781696,1777.6917515267833,1777.455664469456,1777.6403527094342,1777.7010468480094,1776.9993140584243,1777.6349137894322,1777.6534724892797],ARRAY[868.16619194755,867.7135512712596,867.1361675203339,864.686272618922,865.8185386645551,865.3253686022381,865.1370397982982,867.2621373685764,866.9997781466614,866.616111195383,867.1897224556392,866.8831067924314,866.4943535773085,864.6515900223155,866.8536456427435,866.710460749178],ARRAY[0.0,0.0,0.0,0.0,0.0,0.0,0.0,0.0,0.0,0.0,0.0,0.0,0.0,0.0,0.0,0.0]) AS _point (token, tx, ty, tz)),\n",
      "    AvailablePolygon AS (\n",
      "        SELECT *\n",
      "        FROM SegmentPolygon\n",
      "        WHERE location = 'boston-seaport'\n",
      "        AND SegmentPolygon.__RoadType__intersection__\n",
      "        AND SegmentPolygon.__RoadType__lane__\n",
      "        AND SegmentPolygon.__RoadType__lanegroup__\n",
      "        AND SegmentPolygon.__RoadType__lanesection__\n",
      "    ),\n",
      "    MaxPolygon AS (\n",
      "        SELECT token, MAX(ST_Area(Polygon.elementPolygon)) as size\n",
      "        FROM Point AS p\n",
      "        JOIN AvailablePolygon AS Polygon\n",
      "            ON ST_Contains(Polygon.elementPolygon, ST_Point(p.tx, p.ty))\n",
      "        GROUP BY token\n",
      "    ),\n",
      "    MaxPolygonId AS (\n",
      "        SELECT token, MIN(elementId) as elementId\n",
      "        FROM Point AS p\n",
      "        JOIN MaxPolygon USING (token)\n",
      "        JOIN AvailablePolygon as Polygon\n",
      "            ON ST_Contains(Polygon.elementPolygon, ST_Point(p.tx, p.ty))\n",
      "            AND ST_Area(Polygon.elementPolygon) = MaxPolygon.size\n",
      "        GROUP BY token\n",
      "    ),\n",
      "    PointPolygonSegment AS (\n",
      "        SELECT\n",
      "            *,\n",
      "            ST_Distance(ST_Point(tx, ty), ST_MakeLine(startPoint, endPoint)) AS distance\n",
      "        FROM Point AS p\n",
      "        JOIN MaxPolygonId USING (token)\n",
      "        JOIN AvailablePolygon USING (elementId)\n",
      "        JOIN Segment USING (elementId)\n",
      "    ),\n",
      "    MinDis as (\n",
      "        SELECT token, MIN(distance) as mindistance\n",
      "        FROM PointPolygonSegment\n",
      "        GROUP BY token\n",
      "    )\n",
      "    SELECT\n",
      "        p.token,\n",
      "        p.elementid,\n",
      "        p.elementpolygon,\n",
      "        p.segmenttypes,\n",
      "        ARRAY_AGG(s.segmentline)::geometry[],\n",
      "        ARRAY_AGG(s.heading)::real[],\n",
      "        COUNT(DISTINCT p.elementpolygon),\n",
      "        COUNT(DISTINCT p.segmenttypes)\n",
      "    FROM PointPolygonSegment AS p\n",
      "        LEFT OUTER JOIN segment AS s USING (elementid)\n",
      "    JOIN MinDis USING (token)\n",
      "    WHERE p.distance = MinDis.mindistance\n",
      "        AND NOT p.__RoadType__roadsection__\n",
      "    GROUP BY p.elementid, p.token, p.elementpolygon, p.segmenttypes;\n",
      "    \n"
     ]
    },
    {
     "name": "stdout",
     "output_type": "stream",
     "text": [
      "Stage:  Detection2D.ObjectTypeFilter\n",
      "Stage:  Detection3D.FromDetection2DAndRoad\n",
      "Stage:  DetectionEstimation\n"
     ]
    },
    {
     "ename": "ValueError",
     "evalue": "",
     "output_type": "error",
     "traceback": [
      "\u001b[0;31m---------------------------------------------------------------------------\u001b[0m",
      "\u001b[0;31mValueError\u001b[0m                                Traceback (most recent call last)",
      "Cell \u001b[0;32mIn [6], line 1\u001b[0m\n\u001b[0;32m----> 1\u001b[0m \u001b[43mpreprocess\u001b[49m\u001b[43m(\u001b[49m\u001b[43mworld\u001b[49m\u001b[43m,\u001b[49m\u001b[43m \u001b[49m\u001b[43mDATA_DIR\u001b[49m\u001b[43m,\u001b[49m\u001b[43m \u001b[49m\u001b[43m[\u001b[49m\u001b[38;5;124;43m'\u001b[39;49m\u001b[38;5;124;43mscene-0655-CAM_FRONT\u001b[39;49m\u001b[38;5;124;43m'\u001b[39;49m\u001b[43m]\u001b[49m\u001b[43m,\u001b[49m\u001b[43m \u001b[49m\u001b[43mbase\u001b[49m\u001b[38;5;241;43m=\u001b[39;49m\u001b[38;5;28;43;01mFalse\u001b[39;49;00m\u001b[43m)\u001b[49m\n",
      "File \u001b[0;32m~/apperception/optimized_ingestion/utils/preprocess.py:41\u001b[0m, in \u001b[0;36mpreprocess\u001b[0;34m(world, data_dir, video_names, base, insert_traj, benchmark_path)\u001b[0m\n\u001b[1;32m     34\u001b[0m     \u001b[38;5;28mprint\u001b[39m(name, \u001b[38;5;124m'\u001b[39m\u001b[38;5;124m--------------------------------------------------------------------------------\u001b[39m\u001b[38;5;124m'\u001b[39m)\n\u001b[1;32m     35\u001b[0m     frames \u001b[38;5;241m=\u001b[39m Video(\n\u001b[1;32m     36\u001b[0m         os\u001b[38;5;241m.\u001b[39mpath\u001b[38;5;241m.\u001b[39mjoin(data_dir, \u001b[38;5;124m\"\u001b[39m\u001b[38;5;124mvideos\u001b[39m\u001b[38;5;124m\"\u001b[39m, video[\u001b[38;5;124m\"\u001b[39m\u001b[38;5;124mfilename\u001b[39m\u001b[38;5;124m\"\u001b[39m]),\n\u001b[1;32m     37\u001b[0m         [camera_config(name, \u001b[38;5;241m*\u001b[39mf[\u001b[38;5;241m1\u001b[39m:], \u001b[38;5;241m0\u001b[39m) \u001b[38;5;28;01mfor\u001b[39;00m f \u001b[38;5;129;01min\u001b[39;00m video[\u001b[38;5;124m\"\u001b[39m\u001b[38;5;124mframes\u001b[39m\u001b[38;5;124m\"\u001b[39m]],\n\u001b[1;32m     38\u001b[0m         video[\u001b[38;5;124m\"\u001b[39m\u001b[38;5;124mstart\u001b[39m\u001b[38;5;124m\"\u001b[39m],\n\u001b[1;32m     39\u001b[0m     )\n\u001b[0;32m---> 41\u001b[0m     \u001b[43mprocess_pipeline\u001b[49m\u001b[43m(\u001b[49m\u001b[43mname\u001b[49m\u001b[43m,\u001b[49m\u001b[43m \u001b[49m\u001b[43mframes\u001b[49m\u001b[43m,\u001b[49m\u001b[43m \u001b[49m\u001b[43mpipeline\u001b[49m\u001b[43m,\u001b[49m\u001b[43m \u001b[49m\u001b[43mbase\u001b[49m\u001b[43m,\u001b[49m\u001b[43m \u001b[49m\u001b[43minsert_traj\u001b[49m\u001b[43m)\u001b[49m\n\u001b[1;32m     42\u001b[0m     num_video \u001b[38;5;241m+\u001b[39m\u001b[38;5;241m=\u001b[39m \u001b[38;5;241m1\u001b[39m\n\u001b[1;32m     44\u001b[0m \u001b[38;5;28mprint\u001b[39m(\u001b[38;5;124m\"\u001b[39m\u001b[38;5;124mnum_video: \u001b[39m\u001b[38;5;124m\"\u001b[39m, num_video)\n",
      "File \u001b[0;32m~/apperception/optimized_ingestion/utils/process_pipeline.py:179\u001b[0m, in \u001b[0;36mprocess_pipeline\u001b[0;34m(video_name, frames, pipeline, base, insert_traj)\u001b[0m\n\u001b[1;32m    178\u001b[0m \u001b[38;5;28;01mdef\u001b[39;00m \u001b[38;5;21mprocess_pipeline\u001b[39m(video_name, frames, pipeline, base, insert_traj\u001b[38;5;241m=\u001b[39m\u001b[38;5;28;01mTrue\u001b[39;00m):\n\u001b[0;32m--> 179\u001b[0m     output \u001b[38;5;241m=\u001b[39m \u001b[43mpipeline\u001b[49m\u001b[38;5;241;43m.\u001b[39;49m\u001b[43mrun\u001b[49m\u001b[43m(\u001b[49m\u001b[43mPayload\u001b[49m\u001b[43m(\u001b[49m\u001b[43mframes\u001b[49m\u001b[43m)\u001b[49m\u001b[43m)\u001b[49m\u001b[38;5;241m.\u001b[39m\u001b[38;5;18m__dict__\u001b[39m\n\u001b[1;32m    180\u001b[0m     \u001b[38;5;28;01mif\u001b[39;00m insert_traj:\n\u001b[1;32m    181\u001b[0m         metadata \u001b[38;5;241m=\u001b[39m output[\u001b[38;5;124m'\u001b[39m\u001b[38;5;124mmetadata\u001b[39m\u001b[38;5;124m'\u001b[39m]\n",
      "File \u001b[0;32m~/apperception/optimized_ingestion/pipeline.py:22\u001b[0m, in \u001b[0;36mPipeline.run\u001b[0;34m(self, payload)\u001b[0m\n\u001b[1;32m     20\u001b[0m \u001b[38;5;28;01mdef\u001b[39;00m \u001b[38;5;21mrun\u001b[39m(\u001b[38;5;28mself\u001b[39m, payload: \u001b[38;5;124m\"\u001b[39m\u001b[38;5;124mPayload\u001b[39m\u001b[38;5;124m\"\u001b[39m) \u001b[38;5;241m-\u001b[39m\u001b[38;5;241m>\u001b[39m \u001b[38;5;124m\"\u001b[39m\u001b[38;5;124mPayload\u001b[39m\u001b[38;5;124m\"\u001b[39m:\n\u001b[1;32m     21\u001b[0m     \u001b[38;5;28;01mfor\u001b[39;00m stage \u001b[38;5;129;01min\u001b[39;00m \u001b[38;5;28mself\u001b[39m\u001b[38;5;241m.\u001b[39mstages:\n\u001b[0;32m---> 22\u001b[0m         payload \u001b[38;5;241m=\u001b[39m \u001b[43mpayload\u001b[49m\u001b[38;5;241;43m.\u001b[39;49m\u001b[43mfilter\u001b[49m\u001b[43m(\u001b[49m\u001b[43mstage\u001b[49m\u001b[43m)\u001b[49m\n\u001b[1;32m     23\u001b[0m     \u001b[38;5;28;01mreturn\u001b[39;00m payload\n",
      "File \u001b[0;32m~/apperception/optimized_ingestion/payload.py:36\u001b[0m, in \u001b[0;36mPayload.filter\u001b[0;34m(self, filter)\u001b[0m\n\u001b[1;32m     34\u001b[0m \u001b[38;5;28;01mdef\u001b[39;00m \u001b[38;5;21mfilter\u001b[39m(\u001b[38;5;28mself\u001b[39m, \u001b[38;5;28mfilter\u001b[39m: \u001b[38;5;124m\"\u001b[39m\u001b[38;5;124mStage\u001b[39m\u001b[38;5;124m\"\u001b[39m):\n\u001b[1;32m     35\u001b[0m     \u001b[38;5;28mprint\u001b[39m(\u001b[38;5;124m\"\u001b[39m\u001b[38;5;124mStage: \u001b[39m\u001b[38;5;124m\"\u001b[39m, \u001b[38;5;28mfilter\u001b[39m\u001b[38;5;241m.\u001b[39mclassname())\n\u001b[0;32m---> 36\u001b[0m     keep, metadata \u001b[38;5;241m=\u001b[39m \u001b[38;5;28;43mfilter\u001b[39;49m\u001b[38;5;241;43m.\u001b[39;49m\u001b[43mrun\u001b[49m\u001b[43m(\u001b[49m\u001b[38;5;28;43mself\u001b[39;49m\u001b[43m)\u001b[49m\n\u001b[1;32m     38\u001b[0m     \u001b[38;5;28;01mif\u001b[39;00m keep \u001b[38;5;129;01mis\u001b[39;00m \u001b[38;5;28;01mNone\u001b[39;00m:\n\u001b[1;32m     39\u001b[0m         keep \u001b[38;5;241m=\u001b[39m \u001b[38;5;28mself\u001b[39m\u001b[38;5;241m.\u001b[39mkeep\n",
      "File \u001b[0;32m~/apperception/optimized_ingestion/stages/stage.py:55\u001b[0m, in \u001b[0;36mStage.run\u001b[0;34m(self, payload)\u001b[0m\n\u001b[1;32m     53\u001b[0m keep_before \u001b[38;5;241m=\u001b[39m payload\u001b[38;5;241m.\u001b[39mkeep\n\u001b[1;32m     54\u001b[0m s \u001b[38;5;241m=\u001b[39m time\u001b[38;5;241m.\u001b[39mtime()\n\u001b[0;32m---> 55\u001b[0m out \u001b[38;5;241m=\u001b[39m \u001b[38;5;28;43mself\u001b[39;49m\u001b[38;5;241;43m.\u001b[39;49m\u001b[43m_run\u001b[49m\u001b[43m(\u001b[49m\u001b[43mpayload\u001b[49m\u001b[43m)\u001b[49m\n\u001b[1;32m     56\u001b[0m e \u001b[38;5;241m=\u001b[39m time\u001b[38;5;241m.\u001b[39mtime()\n\u001b[1;32m     57\u001b[0m keep_after \u001b[38;5;241m=\u001b[39m out[\u001b[38;5;241m0\u001b[39m]\n",
      "File \u001b[0;32m~/apperception/optimized_ingestion/stages/detection_estimation/__init__.py:73\u001b[0m, in \u001b[0;36mDetectionEstimation._run\u001b[0;34m(self, payload)\u001b[0m\n\u001b[1;32m     71\u001b[0m start_detection_time \u001b[38;5;241m=\u001b[39m time\u001b[38;5;241m.\u001b[39mtime()\n\u001b[1;32m     72\u001b[0m det, _, dids \u001b[38;5;241m=\u001b[39m dets[i]\n\u001b[0;32m---> 73\u001b[0m all_detection_info \u001b[38;5;241m=\u001b[39m \u001b[43mconstruct_estimated_all_detection_info\u001b[49m\u001b[43m(\u001b[49m\u001b[43mdet\u001b[49m\u001b[43m,\u001b[49m\u001b[43m \u001b[49m\u001b[43mdids\u001b[49m\u001b[43m,\u001b[49m\u001b[43m \u001b[49m\u001b[43mcurrent_ego_config\u001b[49m\u001b[43m,\u001b[49m\u001b[43m \u001b[49m\u001b[43mego_trajectory\u001b[49m\u001b[43m)\u001b[49m\n\u001b[1;32m     74\u001b[0m total_detection_time \u001b[38;5;241m+\u001b[39m\u001b[38;5;241m=\u001b[39m time\u001b[38;5;241m.\u001b[39mtime() \u001b[38;5;241m-\u001b[39m start_detection_time\n\u001b[1;32m     75\u001b[0m all_detection_info_pruned, det \u001b[38;5;241m=\u001b[39m prune_detection(all_detection_info, det, \u001b[38;5;28mself\u001b[39m\u001b[38;5;241m.\u001b[39mpredicates)\n",
      "File \u001b[0;32m~/apperception/optimized_ingestion/stages/detection_estimation/__init__.py:188\u001b[0m, in \u001b[0;36mconstruct_estimated_all_detection_info\u001b[0;34m(detections, detection_ids, ego_config, ego_trajectory)\u001b[0m\n\u001b[1;32m    180\u001b[0m     car_bbox3d \u001b[38;5;241m=\u001b[39m (\u001b[38;5;28mtuple\u001b[39m(\u001b[38;5;28mmap\u001b[39m(\u001b[38;5;28mfloat\u001b[39m, left3d)), \u001b[38;5;28mtuple\u001b[39m(\u001b[38;5;28mmap\u001b[39m(\u001b[38;5;28mfloat\u001b[39m, right3d)))\n\u001b[1;32m    181\u001b[0m     all_detections\u001b[38;5;241m.\u001b[39mappend(obj_detection(\n\u001b[1;32m    182\u001b[0m         did,\n\u001b[1;32m    183\u001b[0m         car_loc3d,\n\u001b[0;32m   (...)\u001b[0m\n\u001b[1;32m    186\u001b[0m         car_bbox2d)\n\u001b[1;32m    187\u001b[0m     )\n\u001b[0;32m--> 188\u001b[0m all_detection_info \u001b[38;5;241m=\u001b[39m \u001b[43mconstruct_all_detection_info\u001b[49m\u001b[43m(\u001b[49m\u001b[43mego_config\u001b[49m\u001b[43m,\u001b[49m\u001b[43m \u001b[49m\u001b[43mego_trajectory\u001b[49m\u001b[43m,\u001b[49m\u001b[43m \u001b[49m\u001b[43mall_detections\u001b[49m\u001b[43m)\u001b[49m\n\u001b[1;32m    189\u001b[0m \u001b[38;5;28;01mreturn\u001b[39;00m all_detection_info\n",
      "File \u001b[0;32m~/apperception/optimized_ingestion/stages/detection_estimation/detection_estimation.py:207\u001b[0m, in \u001b[0;36mconstruct_all_detection_info\u001b[0;34m(ego_config, ego_trajectory, all_detections)\u001b[0m\n\u001b[1;32m    204\u001b[0m     \u001b[38;5;28;01mreturn\u001b[39;00m all_detection_info\n\u001b[1;32m    206\u001b[0m ego_road_polygon_info \u001b[38;5;241m=\u001b[39m get_largest_polygon_containing_point(ego_config)\n\u001b[0;32m--> 207\u001b[0m detections_polygon_mapping \u001b[38;5;241m=\u001b[39m \u001b[43mget_detection_polygon_mapping\u001b[49m\u001b[43m(\u001b[49m\u001b[43mall_detections\u001b[49m\u001b[43m,\u001b[49m\u001b[43m \u001b[49m\u001b[43mego_config\u001b[49m\u001b[43m)\u001b[49m\n\u001b[1;32m    208\u001b[0m \u001b[38;5;66;03m# assert len(all_detections) == len(detections_polygon_mapping)\u001b[39;00m\n\u001b[1;32m    209\u001b[0m \u001b[38;5;28;01mfor\u001b[39;00m detection \u001b[38;5;129;01min\u001b[39;00m all_detections:\n",
      "File \u001b[0;32m~/apperception/optimized_ingestion/stages/detection_estimation/optimized_segment_mapping.py:261\u001b[0m, in \u001b[0;36mget_detection_polygon_mapping\u001b[0;34m(detections, ego_config)\u001b[0m\n\u001b[1;32m    257\u001b[0m \u001b[38;5;124;03m\"\"\"\u001b[39;00m\n\u001b[1;32m    258\u001b[0m \u001b[38;5;124;03mGiven a list of detections, return a list of RoadSegmentWithHeading\u001b[39;00m\n\u001b[1;32m    259\u001b[0m \u001b[38;5;124;03m\"\"\"\u001b[39;00m\n\u001b[1;32m    260\u001b[0m start_time \u001b[38;5;241m=\u001b[39m time\u001b[38;5;241m.\u001b[39mtime()\n\u001b[0;32m--> 261\u001b[0m results \u001b[38;5;241m=\u001b[39m \u001b[43mmap_detections_to_segments\u001b[49m\u001b[43m(\u001b[49m\u001b[43mdetections\u001b[49m\u001b[43m,\u001b[49m\u001b[43m \u001b[49m\u001b[43mego_config\u001b[49m\u001b[43m)\u001b[49m\n\u001b[1;32m    262\u001b[0m \u001b[38;5;28;01massert\u001b[39;00m \u001b[38;5;28mall\u001b[39m(r[\u001b[38;5;241m6\u001b[39m:] \u001b[38;5;241m==\u001b[39m (\u001b[38;5;241m1\u001b[39m, \u001b[38;5;241m1\u001b[39m) \u001b[38;5;28;01mfor\u001b[39;00m r \u001b[38;5;129;01min\u001b[39;00m results)\n\u001b[1;32m    263\u001b[0m order_ids, mapped_polygons \u001b[38;5;241m=\u001b[39m [r[\u001b[38;5;241m0\u001b[39m] \u001b[38;5;28;01mfor\u001b[39;00m r \u001b[38;5;129;01min\u001b[39;00m results], [r[\u001b[38;5;241m1\u001b[39m:] \u001b[38;5;28;01mfor\u001b[39;00m r \u001b[38;5;129;01min\u001b[39;00m results]\n",
      "File \u001b[0;32m~/apperception/optimized_ingestion/stages/detection_estimation/optimized_segment_mapping.py:251\u001b[0m, in \u001b[0;36mmap_detections_to_segments\u001b[0;34m(detections, ego_config)\u001b[0m\n\u001b[1;32m    192\u001b[0m out \u001b[38;5;241m=\u001b[39m sql\u001b[38;5;241m.\u001b[39mSQL(\u001b[38;5;124m\"\"\"\u001b[39m\n\u001b[1;32m    193\u001b[0m \u001b[38;5;124mWITH\u001b[39m\n\u001b[1;32m    194\u001b[0m \u001b[38;5;124mPoint AS (SELECT * FROM \u001b[39m\u001b[38;5;132;01m{_point}\u001b[39;00m\u001b[38;5;124m),\u001b[39m\n\u001b[0;32m   (...)\u001b[0m\n\u001b[1;32m    248\u001b[0m \u001b[38;5;124mGROUP BY p.elementid, p.token, p.elementpolygon, p.segmenttypes;\u001b[39m\n\u001b[1;32m    249\u001b[0m \u001b[38;5;124m\u001b[39m\u001b[38;5;124m\"\"\"\u001b[39m)\u001b[38;5;241m.\u001b[39mformat(_point\u001b[38;5;241m=\u001b[39m_point, location\u001b[38;5;241m=\u001b[39msql\u001b[38;5;241m.\u001b[39mLiteral(location))\n\u001b[1;32m    250\u001b[0m logging\u001b[38;5;241m.\u001b[39minfo(out\u001b[38;5;241m.\u001b[39mas_string(database\u001b[38;5;241m.\u001b[39mcursor))\n\u001b[0;32m--> 251\u001b[0m \u001b[38;5;28;01mraise\u001b[39;00m \u001b[38;5;167;01mValueError\u001b[39;00m\n\u001b[1;32m    252\u001b[0m result \u001b[38;5;241m=\u001b[39m database\u001b[38;5;241m.\u001b[39mexecute(out)\n\u001b[1;32m    253\u001b[0m \u001b[38;5;28;01mreturn\u001b[39;00m result\n",
      "\u001b[0;31mValueError\u001b[0m: "
     ]
    }
   ],
   "source": [
    "preprocess(world, DATA_DIR, ['scene-0655-CAM_FRONT'], base=False)"
   ]
  },
  {
   "cell_type": "code",
   "execution_count": 6,
   "id": "d7d62d0f",
   "metadata": {},
   "outputs": [
    {
     "name": "stdout",
     "output_type": "stream",
     "text": [
      "execute: filter\n",
      "execute: get_id_time_camId_filename\n",
      "get_id_time_camId_filename \n",
      "        SELECT t0.itemId, cameras.timestamp, cameras.cameraId, cameras.filename\n",
      "        FROM (SELECT * FROM item_general_trajectory) as t0\n",
      "        \n",
      "        JOIN Cameras USING (cameraId)\n",
      "        WHERE ((t0.objectType LIKE 'car' OR t0.objectType LIKE 'truck') AND angleBetween(facingRelative(egoHeading,roadDirection(egoTranslation,egoHeading)),-15,15) AND (ST_Distance(egoTranslation,valueAtTimestamp(t0.translations,timestamp))<50) AND (EXISTS(SELECT 1\n",
      "            FROM SegmentPolygon\n",
      "            WHERE\n",
      "                SegmentPolygon.__RoadType__intersection__ AND\n",
      "                ST_Covers(SegmentPolygon.elementPolygon, valueAtTimestamp(t0.translations,timestamp))\n",
      "        )) AND angleBetween(facingRelative((headingAtTimestamp(t0.itemHeadings,timestamp))::real,egoHeading),135,225) AND (minDistance(egoTranslation,'intersection')<10))\n",
      "        \n",
      "done execute node\n",
      "Result length: 10\n",
      "optimized query time: 72.5454216003418\n"
     ]
    }
   ],
   "source": [
    "optimized_query_start = time.time()\n",
    "id_time_camId_filename = world.get_id_time_camId_filename(1)\n",
    "print(f'optimized query time: {time.time()-optimized_query_start}')"
   ]
  },
  {
   "cell_type": "code",
   "execution_count": 7,
   "id": "7830cdf7",
   "metadata": {},
   "outputs": [],
   "source": [
    "optimized_results = [e[3] for e in id_time_camId_filename]\n",
    "construct_video(optimized_results, vid_name=\"modified.mp4\")"
   ]
  },
  {
   "cell_type": "code",
   "execution_count": null,
   "id": "9be10787",
   "metadata": {},
   "outputs": [],
   "source": [
    "preprocess(world, DATA_DIR, ['scene-0757-CAM_FRONT'])"
   ]
  },
  {
   "cell_type": "code",
   "execution_count": null,
   "id": "8ff5d512",
   "metadata": {},
   "outputs": [],
   "source": [
    "base_query_start = time.time()\n",
    "id_time_camId_filename_base = world.get_id_time_camId_filename(2)\n",
    "print(f'based query time: {time.time()-base_query_start}')"
   ]
  },
  {
   "cell_type": "code",
   "execution_count": null,
   "id": "1523b2b2",
   "metadata": {},
   "outputs": [],
   "source": [
    "id_time_camId_filename_base"
   ]
  },
  {
   "cell_type": "code",
   "execution_count": null,
   "id": "642b3c44",
   "metadata": {},
   "outputs": [],
   "source": [
    "base_results = [e[4] for e in id_time_camId_filename_base]\n",
    "construct_video(base_results, base=True)"
   ]
  },
  {
   "cell_type": "code",
   "execution_count": null,
   "id": "ee79569b",
   "metadata": {},
   "outputs": [],
   "source": [
    "false_negative = [f for f in base_results if f not in optimized_results]\n",
    "print(len(false_negative))\n",
    "construct_video(false_negative, vid_name=\"false_negative.avi\")"
   ]
  },
  {
   "cell_type": "code",
   "execution_count": null,
   "id": "c19be7d0",
   "metadata": {},
   "outputs": [],
   "source": [
    "false_positive = [f for f in optimized_results if f not in base_results]\n",
    "print(len(false_positive))\n",
    "construct_video(false_positive, vid_name=\"false_positive.avi\")"
   ]
  },
  {
   "cell_type": "code",
   "execution_count": null,
   "id": "f25d9bd3",
   "metadata": {},
   "outputs": [],
   "source": []
  },
  {
   "cell_type": "code",
   "execution_count": null,
   "id": "b75f6ab7",
   "metadata": {},
   "outputs": [],
   "source": []
  }
 ],
 "metadata": {
  "kernelspec": {
   "display_name": "Python 3 (ipykernel)",
   "language": "python",
   "name": "python3"
  },
  "language_info": {
   "codemirror_mode": {
    "name": "ipython",
    "version": 3
   },
   "file_extension": ".py",
   "mimetype": "text/x-python",
   "name": "python",
   "nbconvert_exporter": "python",
   "pygments_lexer": "ipython3",
   "version": "3.10.6"
  },
  "vscode": {
   "interpreter": {
    "hash": "31f2aee4e71d21fbe5cf8b01ff0e069b9275f58929596ceb00d14d90e3e16cd6"
   }
  }
 },
 "nbformat": 4,
 "nbformat_minor": 5
}
