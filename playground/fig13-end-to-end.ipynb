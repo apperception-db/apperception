{
 "cells": [
  {
   "cell_type": "code",
   "execution_count": 1,
   "id": "c5c9badc",
   "metadata": {
    "execution": {
     "iopub.execute_input": "2022-12-08T00:15:43.617706Z",
     "iopub.status.busy": "2022-12-08T00:15:43.616466Z",
     "iopub.status.idle": "2022-12-08T00:15:48.654505Z",
     "shell.execute_reply": "2022-12-08T00:15:48.653531Z"
    }
   },
   "outputs": [
    {
     "name": "stdout",
     "output_type": "stream",
     "text": [
      "/data/apperception/apperception\n"
     ]
    }
   ],
   "source": [
    "%cd .."
   ]
  },
  {
   "cell_type": "code",
   "execution_count": 2,
   "id": "21a17b77",
   "metadata": {},
   "outputs": [],
   "source": [
    "import json\n",
    "import os\n",
    "import pickle\n"
   ]
  },
  {
   "cell_type": "code",
   "execution_count": 3,
   "id": "152abe6c",
   "metadata": {},
   "outputs": [
    {
     "data": {
      "text/plain": [
       "<connection object at 0x7fc749e0ee80; dsn: 'user=docker password=xxx dbname=mobilitydb host=localhost port=25441', closed: 0>"
      ]
     },
     "execution_count": 3,
     "metadata": {},
     "output_type": "execute_result"
    }
   ],
   "source": [
    "from apperception.database import database\n",
    "from apperception.world import empty_world\n",
    "from apperception.utils import F, join, import_pickle\n",
    "from apperception.predicate import camera, objects, lit\n",
    "database.connection"
   ]
  },
  {
   "cell_type": "code",
   "execution_count": 4,
   "id": "98619bab",
   "metadata": {},
   "outputs": [
    {
     "name": "stderr",
     "output_type": "stream",
     "text": [
      "/home/local/apperception/.installs/mambaforge/envs/apperception/lib/python3.10/site-packages/tqdm/auto.py:22: TqdmWarning: IProgress not found. Please update jupyter and ipywidgets. See https://ipywidgets.readthedocs.io/en/stable/user_install.html\n",
      "  from .autonotebook import tqdm as notebook_tqdm\n",
      "YOLOv5 🚀 2022-11-23 Python-3.10.8 torch-1.13.0+cu117 CUDA:0 (NVIDIA TITAN Xp, 12196MiB)\n",
      "\n"
     ]
    },
    {
     "name": "stdout",
     "output_type": "stream",
     "text": [
      "Using cuda:0\n"
     ]
    },
    {
     "name": "stderr",
     "output_type": "stream",
     "text": [
      "Using cache found in /data/apperception/apperception/weights/ultralytics_yolov5_master\n",
      "YOLOv5 🚀 2022-11-30 Python-3.10.8 torch-1.13.0+cu117 CUDA:0 (NVIDIA TITAN Xp, 12196MiB)\n",
      "\n",
      "Fusing layers... \n",
      "YOLOv5s summary: 213 layers, 7225885 parameters, 0 gradients\n",
      "Adding AutoShape... \n"
     ]
    }
   ],
   "source": [
    "from optimized_ingestion.camera_config import camera_config\n",
    "from optimized_ingestion.payload import Payload\n",
    "from optimized_ingestion.pipeline import Pipeline\n",
    "from optimized_ingestion.stages.in_view import InView\n",
    "from optimized_ingestion.stages.decode_frame.parallel_decode_frame import ParallelDecodeFrame\n",
    "from optimized_ingestion.stages.decode_frame.decode_frame import DecodeFrame\n",
    "from optimized_ingestion.stages.detection_2d.yolo_detection import YoloDetection\n",
    "from optimized_ingestion.stages.detection_2d.object_type_filter import ObjectTypeFilter\n",
    "# from optimized_ingestion.stages.filter_car_facing_sideway import FilterCarFacingSideway\n",
    "from optimized_ingestion.stages.detection_estimation import DetectionEstimation\n",
    "from optimized_ingestion.stages.tracking_2d.strongsort import StrongSORT\n",
    "from optimized_ingestion.stages.detection_3d.from_2d_and_road import From2DAndRoad\n",
    "from optimized_ingestion.video import Video"
   ]
  },
  {
   "cell_type": "code",
   "execution_count": 5,
   "id": "fa563843",
   "metadata": {},
   "outputs": [],
   "source": [
    "BOSTON_VIDEOS = [\n",
    "#     \"scene-0757-CAM_FRONT\",\n",
    "    # \"scene-0103-CAM_FRONT\",\n",
    "#     \"scene-0553-CAM_FRONT\",\n",
    "    # \"scene-0665-CAM_FRONT\",\n",
    "    \"scene-0655-CAM_FRONT\",\n",
    "#     \"scene-0655-CAM_FRONT_RIGHT\",\n",
    "#     \"scene-0655-CAM_BACK_RIGHT\",\n",
    "#     \"scene-0553-CAM_FRONT_LEFT\"\n",
    "#     \"scene-0103-CAM_FRONT\"\n",
    "]\n",
    "\n",
    "NUSCENES_PROCESSED_DATA = \"NUSCENES_PROCESSED_DATA\""
   ]
  },
  {
   "cell_type": "code",
   "execution_count": 6,
   "id": "533a4ce8",
   "metadata": {},
   "outputs": [],
   "source": [
    "name = 'ScenicWorld'\n",
    "world = empty_world(name=name)\n",
    "\n",
    "obj1 = objects[0]\n",
    "obj2 = objects[1]\n",
    "cam = camera\n",
    "\n",
    "world = world.filter(\n",
    "    (obj1.id != obj2.id) &\n",
    "    F.like(obj1.type, 'car') &\n",
    "    F.like(obj2.type, 'car') &\n",
    "    F.angle_between(F.facing_relative(cam.ego, cam.roadDirection), -15, 15) &\n",
    "    (F.distance(cam.ego, obj1.trans@cam.time) < 50) &\n",
    "    (F.view_angle(obj1.trans@cam.time, cam.ego) < 70 / 2.0) &\n",
    "    (F.distance(cam.ego, obj2.trans@cam.time) < 50) &\n",
    "    (F.view_angle(obj2.trans@cam.time, cam.ego) < 70 / 2.0) &\n",
    "    F.contains_all('intersection', [obj1.trans, obj2.trans]@cam.time) &\n",
    "    F.angle_between(F.facing_relative(obj1.trans@cam.time, cam.ego), 50, 135) &\n",
    "    F.angle_between(F.facing_relative(obj2.trans@cam.time, cam.ego), -135, -50) &\n",
    "    (F.min_distance(cam.ego, 'intersection') < 10) &\n",
    "    F.angle_between(F.facing_relative(obj1.trans@cam.time, obj2.trans@cam.time), 100, -100)\n",
    ")\n"
   ]
  },
  {
   "cell_type": "code",
   "execution_count": 7,
   "id": "b67029d3",
   "metadata": {},
   "outputs": [],
   "source": [
    "# F.contains_all('intersection', [obj1.trans, obj2.trans]@cam.time) => lambda x: x.road_type == 'intersection'\n",
    "# F.min_distance(cam.ego, 'intersection') < 10 => InView(distance=10, segment_type='intersection')\n",
    "# F.like(obj1.type, 'vehicle%') => ObjectTypeFilter stage\n",
    "# F.distance(cam.ego, obj1.trans@cam.time) < 50 =>\n",
    "    # compute_distance(x.car_loc3d, x.ego_config.ego_translation) < 50\n",
    "from apperception.predicate import (Visitor, PredicateNode, CallNode,\n",
    "                                    CompOpNode, TableAttrNode, BinOpNode, LiteralNode)\n",
    "\n",
    "def in_view(pipeline, param):\n",
    "    pipeline.stages.insert(0, InView(**param))\n",
    "    \n",
    "def object_type(pipeline, param):\n",
    "    for i in range(len(pipeline.stages)):\n",
    "        if isinstance(pipeline.stages[i], YoloDetection):\n",
    "            pipeline.stages.insert(i+1, ObjectTypeFilter(param))\n",
    "    \n",
    "def road_type(pipeline, param):\n",
    "    for s in pipeline.stages:\n",
    "        if isinstance(s, DetectionEstimation):\n",
    "            s.filter(lambda x: x.road_type == param)\n",
    "            \n",
    "def distance_to_ego(pipeline, param):\n",
    "    for s in pipeline.stages:\n",
    "        if isinstance(s, DetectionEstimation):\n",
    "            s.filter(lambda x: compute_distance(\n",
    "                x.car_loc3d, x.ego_config.ego_translation) < param)\n",
    "            \n",
    "            \n",
    "ALL_MAPPING_RULES = {\n",
    "    'in_view': {'condition': lambda x: (isinstance(x, CompOpNode) and\n",
    "                                        isinstance(x.left, CallNode) and\n",
    "                                        isinstance(x.right, LiteralNode) and\n",
    "                                        x.left._fn[0].__name__ == 'fn' and\n",
    "                                        isinstance(x.left.params[0], TableAttrNode) and\n",
    "                                        x.left.params[0].name == 'egoTranslation' and\n",
    "                                        isinstance(x.left.params[1], LiteralNode)),\n",
    "                'param': lambda x: dict(segment_type=x.left.params[1].value, distance=x.right.value),\n",
    "                'pipeline': in_view},\n",
    "    'object_type': {'condition': lambda x: (isinstance(x, CallNode) and\n",
    "                                            x._fn[0].__name__ == 'like' and\n",
    "                                            x.params[0].name == 'objectType'),\n",
    "                    'param': lambda x: [x.params[1].value],\n",
    "                    'pipeline': object_type},\n",
    "    'road_type': {'condition': lambda x: (isinstance(x, CallNode) and\n",
    "                                         x._fn[0].__name__ == 'contains_all'),\n",
    "                  'param': lambda x: x.params[0].value,\n",
    "                  'pipeline': road_type},\n",
    "    'distance_to_ego': {'condition': lambda x: (isinstance(x, CompOpNode) and\n",
    "                                                isinstance(x.left, CallNode) and\n",
    "                                                isinstance(x.right, LiteralNode) and\n",
    "                                                x.left._fn[0].__name__ == 'fn' and\n",
    "                                                isinstance(x.left.params[0], TableAttrNode) and\n",
    "                                                x.left.params[0].name == 'egoTranslation' and\n",
    "                                                isinstance(x.left.params[1], BinOpNode)),\n",
    "                       'param': lambda x: x.right.value,\n",
    "                       'pipeline': distance_to_ego}\n",
    "}\n",
    "\n",
    "def pipeline_rule(pipeline, node):\n",
    "    for key, rule in ALL_MAPPING_RULES.items():\n",
    "        if rule['condition'](node):\n",
    "            param = rule['param'](node)\n",
    "            rule['pipeline'](pipeline, param)\n",
    "                \n",
    "class PipelineConstructor(Visitor[PredicateNode]):\n",
    "    \n",
    "    def add_pipeline(self, pipeline):\n",
    "        self.pipeline = pipeline\n",
    "        return self\n",
    "\n",
    "    def visit_CompOpNode(self, node: \"CompOpNode\"):\n",
    "        assert self.pipeline\n",
    "        pipeline_rule(self.pipeline, node)\n",
    "        self(node.left)\n",
    "        self(node.right)\n",
    "\n",
    "    def visit_CallNode(self, node: \"CallNode\"):\n",
    "        assert self.pipeline\n",
    "        pipeline_rule(self.pipeline, node)\n",
    "        for p in node.params:\n",
    "            self(p)\n"
   ]
  },
  {
   "cell_type": "code",
   "execution_count": 8,
   "id": "3f19eb00",
   "metadata": {},
   "outputs": [],
   "source": [
    "def construct_pipeline(world):\n",
    "    pipeline = Pipeline()\n",
    "    pipeline.add_filter(filter=ParallelDecodeFrame())\n",
    "    pipeline.add_filter(filter=YoloDetection())\n",
    "\n",
    "    pipeline.add_filter(filter=From2DAndRoad())\n",
    "    pipeline.add_filter(filter=DetectionEstimation())  # 5 Frame p Second\n",
    "    pipeline.add_filter(filter=StrongSORT())  # 2 Frame p Second\n",
    "    PipelineConstructor().add_pipeline(pipeline)(world.kwargs['predicate'])\n",
    "    return pipeline"
   ]
  },
  {
   "cell_type": "code",
   "execution_count": 9,
   "id": "b491a201",
   "metadata": {},
   "outputs": [],
   "source": [
    "def associate_detection_info(tracking_result, detection_info_meta):\n",
    "    for detection_info in detection_info_meta[tracking_result.frame_idx]:\n",
    "        if detection_info.detection_id == tracking_result.detection_id:\n",
    "            return detection_info\n",
    "        \n",
    "def get_tracks(sortmeta, detection_estimation_meta):\n",
    "    trajectories = {}\n",
    "    for frame in sortmeta:\n",
    "        for obj_id, tracking_result in frame.items():\n",
    "            if obj_id not in trajectories:\n",
    "                trajectories[obj_id] = []\n",
    "            associated_detection_info = associate_detection_info(\n",
    "                tracking_result, detection_estimation_meta)\n",
    "            trajectories[obj_id].append((tracking_result, associated_detection_info))\n",
    "\n",
    "    for trajectory in trajectories.values():\n",
    "        last = len(trajectory) - 1\n",
    "        for i, t in enumerate(trajectory):\n",
    "            if i > 0:\n",
    "                t[0].prev = trajectory[i - 1][0]\n",
    "            if i < last:\n",
    "                t[0].next = trajectory[i + 1][0]\n",
    "    return trajectories"
   ]
  },
  {
   "cell_type": "code",
   "execution_count": 10,
   "id": "8f32e54e",
   "metadata": {},
   "outputs": [],
   "source": [
    "from typing import List, Tuple\n",
    "def insert_trajectory(\n",
    "    database,\n",
    "    item_id: str,\n",
    "    camera_id: str,\n",
    "    object_type: str,\n",
    "    postgres_timestamps: List[str],\n",
    "    pairs: List[Tuple[float, float, float]],\n",
    "    itemHeading_list: List[int],\n",
    "    translation_list: List[Tuple[float, float, float]],\n",
    "    road_types: List[str],\n",
    "    roadpolygon_list: List[List[Tuple[float, float]]]\n",
    "):\n",
    "    ### Save camera config\n",
    "    PICKLE_DATA_PATH = '/data/apperception-data/processed/nuscenes/full-dataset-v1.0/Mini/videos/boston-seaport'\n",
    "    import_pickle(database, PICKLE_DATA_PATH)\n",
    "    traj_centroids = []\n",
    "    translations = []\n",
    "    itemHeadings = []\n",
    "    roadTypes = []\n",
    "    roadPolygons = []\n",
    "    prevTimestamp = None\n",
    "    for timestamp, current_point, curItemHeading, current_trans, cur_road_type, cur_roadpolygon in zip(\n",
    "        postgres_timestamps, pairs, itemHeading_list, translation_list, road_types, roadpolygon_list\n",
    "    ):\n",
    "        if prevTimestamp == timestamp:\n",
    "            continue\n",
    "        prevTimestamp = timestamp\n",
    "\n",
    "        # Construct trajectory\n",
    "        traj_centroids.append(f\"POINT Z ({join(current_point, ' ')})@{timestamp}\")\n",
    "        translations.append(f\"POINT Z ({join(current_trans, ' ')})@{timestamp}\")\n",
    "        itemHeadings.append(f\"{curItemHeading}@{timestamp}\")\n",
    "        roadTypes.append(f\"{cur_road_type}@{timestamp}\")\n",
    "#         polygon_point = ', '.join(join(cur_point, ' ') for cur_point in list(\n",
    "#             zip(*cur_roadpolygon.exterior.coords.xy)))\n",
    "#         roadPolygons.append(f\"Polygon (({polygon_point}))@{timestamp}\")\n",
    "\n",
    "    # Insert the item_trajectory separately\n",
    "    insert_trajectory = f\"\"\"\n",
    "    INSERT INTO Item_General_Trajectory (itemId, cameraId, objectType, roadTypes, trajCentroids,\n",
    "    translations, itemHeadings)\n",
    "    VALUES (\n",
    "        '{item_id}',\n",
    "        '{camera_id}',\n",
    "        '{object_type}',\n",
    "        ttext '{{[{', '.join(roadTypes)}]}}',\n",
    "        tgeompoint '{{[{', '.join(traj_centroids)}]}}',\n",
    "        tgeompoint '{{[{', '.join(translations)}]}}',\n",
    "        tfloat '{{[{', '.join(itemHeadings)}]}}'\n",
    "    );\n",
    "    \"\"\"\n",
    "\n",
    "    database.execute(insert_trajectory)"
   ]
  },
  {
   "cell_type": "code",
   "execution_count": 11,
   "id": "982adb33",
   "metadata": {},
   "outputs": [],
   "source": [
    "def format_trajectory(obj_id, track):\n",
    "    timestamps: List[str] = []\n",
    "    pairs: List[Tuple[float, float, float]] = []\n",
    "    itemHeadings: List[int] = []\n",
    "    translations: List[Tuple[float, float, float]] = []\n",
    "    road_types: List[str] = []\n",
    "    roadpolygons: List[List[Tuple[float, float]]] = []\n",
    "\n",
    "    for tracking_result_2d, detection_info in track:\n",
    "        if detection_info:\n",
    "            camera_id = detection_info.ego_config.camera_id\n",
    "            object_type = tracking_result_2d.object_type\n",
    "            timestamps.append(detection_info.timestamp)\n",
    "            pairs.append(detection_info.car_loc3d)\n",
    "            itemHeadings.append(detection_info.segment_heading)\n",
    "            translations.append(detection_info.ego_config.ego_translation)\n",
    "            road_types.append(detection_info.road_type)\n",
    "            roadpolygons.append(detection_info.road_polygon_info.polygon)\n",
    "    print([obj_id, camera_id, object_type, timestamps, pairs,\n",
    "            itemHeadings, translations, road_types, roadpolygons])\n",
    "    return [obj_id, camera_id, object_type, timestamps, pairs,\n",
    "            itemHeadings, translations, road_types, roadpolygons]"
   ]
  },
  {
   "cell_type": "code",
   "execution_count": 12,
   "id": "521f8751",
   "metadata": {},
   "outputs": [],
   "source": [
    "def process_pipeline(frames, pipeline, insert=False):\n",
    "    output = pipeline.run(Payload(frames)).__dict__\n",
    "    metadata = output['metadata']\n",
    "    kept_fn = [i for i, val in enumerate(output['keep']) if val]\n",
    "\n",
    "    detection_estimation_meta = metadata['DetectionEstimation']\n",
    "    sortmeta = metadata['Tracking2D.StrongSORT']\n",
    "    tracks = get_tracks(sortmeta, detection_estimation_meta)\n",
    "    for obj_id, track in tracks.items():\n",
    "        if insert:\n",
    "            insert_trajectory(database, *format_trajectory(obj_id, track))\n"
   ]
  },
  {
   "cell_type": "code",
   "execution_count": 13,
   "id": "c9724cf5",
   "metadata": {},
   "outputs": [],
   "source": [
    "def preprocess(world):\n",
    "    pipeline = construct_pipeline(world)\n",
    "    if NUSCENES_PROCESSED_DATA in os.environ:\n",
    "        DATA_DIR = os.environ[NUSCENES_PROCESSED_DATA]\n",
    "    else:\n",
    "        DATA_DIR = \"/work/apperception/data/nuScenes/full-dataset-v1.0/Mini\"\n",
    "    with open(os.path.join(DATA_DIR, \"videos/boston-seaport\", \"frames.pickle\"), \"rb\") as f:\n",
    "        videos = pickle.load(f)\n",
    "\n",
    "    num_video = 0\n",
    "    for name, video in videos.items():\n",
    "        if name not in BOSTON_VIDEOS:\n",
    "            continue\n",
    "    #     if not name.endswith('CAM_FRONT'):\n",
    "    #         continue\n",
    "    #     if 'CAM_FRONT' not in name:\n",
    "    #         continue\n",
    "\n",
    "        print(name, '--------------------------------------------------------------------------------')\n",
    "        frames = Video(\n",
    "            os.path.join(DATA_DIR, \"videos/boston-seaport\", video[\"filename\"]),\n",
    "            [camera_config(*f, 0) for f in video[\"frames\"]],\n",
    "            video[\"start\"],\n",
    "        )\n",
    "        process_pipeline(frames, pipeline)\n",
    "        "
   ]
  },
  {
   "cell_type": "code",
   "execution_count": 14,
   "id": "5c1aed5b",
   "metadata": {},
   "outputs": [
    {
     "name": "stderr",
     "output_type": "stream",
     "text": [
      "YOLOv5 🚀 2022-11-23 Python-3.10.8 torch-1.13.0+cu117 CUDA:0 (NVIDIA TITAN Xp, 12196MiB)\n",
      "\n",
      "Using cache found in /data/apperception/weights/ultralytics_yolov5_master\n",
      "YOLOv5 🚀 2022-11-30 Python-3.10.8 torch-1.13.0+cu117 CUDA:0 (NVIDIA TITAN Xp, 12196MiB)\n",
      "\n",
      "Fusing layers... \n",
      "YOLOv5s summary: 213 layers, 7225885 parameters, 0 gradients\n",
      "Adding AutoShape... \n"
     ]
    },
    {
     "name": "stdout",
     "output_type": "stream",
     "text": [
      "scene-0655-CAM_FRONT --------------------------------------------------------------------------------\n",
      "Stage:  InView\n",
      "396\n",
      "None\n",
      "  filtered frames: 66.66666666666667%\n",
      "KKKKKKKKKKKKKKKKKKKKKKKKKKKKKKKKKKKKKKKKKKKKKKKKKKKKKKKKKKKKKKKKKKKKKKKKKKKKKKKKKKKKKKKKKKKKKKKKKKKK\n",
      "KKKKKKKKK...................................................................................KKKKKKKK\n",
      "KKKKKKKKKKKKKKKKKKKKKKKKKKKKKKKKKKKKKKKKKKKKKKKKKKKKKKKK..........................KKKKKKKKKKKKKKKKKK\n",
      "KKKKKKKKKKKKKKKKKKKKKKKKKKKK.......................KKKKKKKKKKKKKKKKKKKKKKKKKKKKKKKKKKKKKKKKKKKKK\n",
      "Stage:  DecodeFrame.ParallelDecodeFrame\n",
      "None\n",
      "396\n",
      "  filtered frames: 66.66666666666667%\n",
      "KKKKKKKKKKKKKKKKKKKKKKKKKKKKKKKKKKKKKKKKKKKKKKKKKKKKKKKKKKKKKKKKKKKKKKKKKKKKKKKKKKKKKKKKKKKKKKKKKKKK\n",
      "KKKKKKKKK...................................................................................KKKKKKKK\n",
      "KKKKKKKKKKKKKKKKKKKKKKKKKKKKKKKKKKKKKKKKKKKKKKKKKKKKKKKK..........................KKKKKKKKKKKKKKKKKK\n",
      "KKKKKKKKKKKKKKKKKKKKKKKKKKKK.......................KKKKKKKKKKKKKKKKKKKKKKKKKKKKKKKKKKKKKKKKKKKKK\n",
      "Stage:  Detection2D.YoloDetection\n",
      "None\n",
      "396\n",
      "  filtered frames: 66.66666666666667%\n",
      "KKKKKKKKKKKKKKKKKKKKKKKKKKKKKKKKKKKKKKKKKKKKKKKKKKKKKKKKKKKKKKKKKKKKKKKKKKKKKKKKKKKKKKKKKKKKKKKKKKKK\n",
      "KKKKKKKKK...................................................................................KKKKKKKK\n",
      "KKKKKKKKKKKKKKKKKKKKKKKKKKKKKKKKKKKKKKKKKKKKKKKKKKKKKKKK..........................KKKKKKKKKKKKKKKKKK\n",
      "KKKKKKKKKKKKKKKKKKKKKKKKKKKK.......................KKKKKKKKKKKKKKKKKKKKKKKKKKKKKKKKKKKKKKKKKKKKK\n",
      "Stage:  Detection2D.ObjectTypeFilter\n",
      "None\n",
      "396\n",
      "  filtered frames: 66.66666666666667%\n",
      "KKKKKKKKKKKKKKKKKKKKKKKKKKKKKKKKKKKKKKKKKKKKKKKKKKKKKKKKKKKKKKKKKKKKKKKKKKKKKKKKKKKKKKKKKKKKKKKKKKKK\n",
      "KKKKKKKKK...................................................................................KKKKKKKK\n",
      "KKKKKKKKKKKKKKKKKKKKKKKKKKKKKKKKKKKKKKKKKKKKKKKKKKKKKKKK..........................KKKKKKKKKKKKKKKKKK\n",
      "KKKKKKKKKKKKKKKKKKKKKKKKKKKK.......................KKKKKKKKKKKKKKKKKKKKKKKKKKKKKKKKKKKKKKKKKKKKK\n",
      "Stage:  Detection2D.ObjectTypeFilter\n",
      "None\n",
      "396\n",
      "  filtered frames: 66.66666666666667%\n",
      "KKKKKKKKKKKKKKKKKKKKKKKKKKKKKKKKKKKKKKKKKKKKKKKKKKKKKKKKKKKKKKKKKKKKKKKKKKKKKKKKKKKKKKKKKKKKKKKKKKKK\n",
      "KKKKKKKKK...................................................................................KKKKKKKK\n",
      "KKKKKKKKKKKKKKKKKKKKKKKKKKKKKKKKKKKKKKKKKKKKKKKKKKKKKKKK..........................KKKKKKKKKKKKKKKKKK\n",
      "KKKKKKKKKKKKKKKKKKKKKKKKKKKK.......................KKKKKKKKKKKKKKKKKKKKKKKKKKKKKKKKKKKKKKKKKKKKK\n",
      "Stage:  Detection3D.From2DAndRoad\n"
     ]
    },
    {
     "name": "stderr",
     "output_type": "stream",
     "text": [
      "396it [00:00, 3468.81it/s]\n"
     ]
    },
    {
     "name": "stdout",
     "output_type": "stream",
     "text": [
      "None\n",
      "396\n",
      "  filtered frames: 66.66666666666667%\n",
      "KKKKKKKKKKKKKKKKKKKKKKKKKKKKKKKKKKKKKKKKKKKKKKKKKKKKKKKKKKKKKKKKKKKKKKKKKKKKKKKKKKKKKKKKKKKKKKKKKKKK\n",
      "KKKKKKKKK...................................................................................KKKKKKKK\n",
      "KKKKKKKKKKKKKKKKKKKKKKKKKKKKKKKKKKKKKKKKKKKKKKKKKKKKKKKK..........................KKKKKKKKKKKKKKKKKK\n",
      "KKKKKKKKKKKKKKKKKKKKKKKKKKKK.......................KKKKKKKKKKKKKKKKKKKKKKKKKKKKKKKKKKKKKKKKKKKKK\n",
      "Stage:  DetectionEstimation\n",
      "ego_speed:  8.225665810954457\n"
     ]
    },
    {
     "name": "stderr",
     "output_type": "stream",
     "text": [
      "100%|██████████████████████████████████████████████████████████████████████████████████████████████████████████████████████████████████████| 395/395 [00:08<00:00, 47.20it/s]\n",
      "YOLOv5 🚀 2022-11-23 Python-3.10.8 torch-1.13.0+cu117 CUDA:0 (NVIDIA TITAN Xp, 12196MiB)\n",
      "\n"
     ]
    },
    {
     "name": "stdout",
     "output_type": "stream",
     "text": [
      "number of skipped 365\n",
      "{None: 3, 'ego_exit_segment': 25, 'car_exit_segment': 3}\n",
      "total_run_time 8.371344089508057\n",
      "total_detection_time 5.515392303466797\n",
      "total_generate_sample_plan_time 2.8160035610198975\n",
      "396\n",
      "396\n",
      "  filtered frames: 7.828282828282828%\n",
      ".......................................K.....KKKKKKKKKKKKKKKKK......................................\n",
      "....................................................................................................\n",
      ".....KK.............................................................................................\n",
      ".............................................................KKKKKKKKKKK........................\n",
      "Stage:  Tracking2D.StrongSORT\n",
      "Successfully loaded pretrained weights from \"/data/apperception/apperception/weights/osnet_x0_25_msmt17.pt\"\n",
      "** The following layers are discarded due to unmatched keys or layer size: ['classifier.weight', 'classifier.bias']\n"
     ]
    },
    {
     "name": "stderr",
     "output_type": "stream",
     "text": [
      "100%|██████████████████████████████████████████████████████████████████████████████████████████████████████████████████████████████████████| 396/396 [00:22<00:00, 17.65it/s]"
     ]
    },
    {
     "name": "stdout",
     "output_type": "stream",
     "text": [
      "None\n",
      "396\n",
      "  filtered frames: 7.828282828282828%\n",
      ".......................................K.....KKKKKKKKKKKKKKKKK......................................\n",
      "....................................................................................................\n",
      ".....KK.............................................................................................\n",
      ".............................................................KKKKKKKKKKK........................\n",
      "[18, 'scene-0655', 'car', [datetime.datetime(2018, 8, 27, 8, 51, 34, 512404), datetime.datetime(2018, 8, 27, 8, 51, 34, 562404), datetime.datetime(2018, 8, 27, 8, 51, 34, 612404), datetime.datetime(2018, 8, 27, 8, 51, 34, 662404), datetime.datetime(2018, 8, 27, 8, 51, 34, 712404)], [(1796.4776238263262, 868.5818680068253, 0.0), (1796.8963164093304, 868.6358002636421, 0.0), (1797.327181647881, 868.6487369953787, 0.0), (1798.0144575313388, 868.3060705529342, 0.0), (1798.3755843416284, 868.4331009960227, 0.0)], [-45.00000209717174, -45.00000209717174, -45.00000209717174, -45.00000209717174, -45.00000209717174], [(1791.9683837890625, 866.6724853515625, 0.0), (1792.39501953125, 866.6815795898438, 0.0), (1792.821533203125, 866.690673828125, 0.0), (1793.2388916015625, 866.7022094726562, 0.0), (1793.657958984375, 866.7139282226562, 0.0)], ['intersection', 'intersection', 'intersection', 'intersection', 'intersection'], [<shapely.geometry.polygon.Polygon object at 0x7fc4117f68f0>, <shapely.geometry.polygon.Polygon object at 0x7fc4117f6920>, <shapely.geometry.polygon.Polygon object at 0x7fc4117f7640>, <shapely.geometry.polygon.Polygon object at 0x7fc4117f48e0>, <shapely.geometry.polygon.Polygon object at 0x7fc4117f5c00>]]\n",
      "[19, 'scene-0655', 'car', [datetime.datetime(2018, 8, 27, 8, 51, 34, 462404), datetime.datetime(2018, 8, 27, 8, 51, 34, 512404), datetime.datetime(2018, 8, 27, 8, 51, 34, 562404), datetime.datetime(2018, 8, 27, 8, 51, 34, 612404), datetime.datetime(2018, 8, 27, 8, 51, 34, 662404), datetime.datetime(2018, 8, 27, 8, 51, 34, 712404), datetime.datetime(2018, 8, 27, 8, 51, 34, 762404), datetime.datetime(2018, 8, 27, 8, 51, 34, 812404), datetime.datetime(2018, 8, 27, 8, 51, 34, 862404), datetime.datetime(2018, 8, 27, 8, 51, 34, 912404), datetime.datetime(2018, 8, 27, 8, 51, 34, 962404), datetime.datetime(2018, 8, 27, 8, 51, 35, 12404), datetime.datetime(2018, 8, 27, 8, 51, 35, 62404), datetime.datetime(2018, 8, 27, 8, 51, 35, 112404), datetime.datetime(2018, 8, 27, 8, 51, 35, 162404)], [(1796.3975915898068, 868.1156067649233, 0.0), (1796.8332930986912, 868.1240813029431, 0.0), (1797.193251294742, 868.2205526748705, 0.0), (1797.6251347386974, 868.2355595140104, 0.0), (1798.36657898996, 867.6541870089231, 0.0), (1798.7390142360987, 867.727458482197, 0.0), (1798.8031074714713, 868.4490311807012, 0.0), (1799.1702718852334, 868.5493632303597, 0.0), (1799.6095782171897, 868.5619503460251, 0.0), (1800.0216355275913, 868.5872571774953, 0.0), (1800.4116572764367, 868.5995111639551, 0.0), (1800.8541670436643, 868.6118167634837, 0.0), (1801.21457817375, 868.6144057452383, 0.0), (1801.6561707336818, 868.6300933620885, -1.1102230246251565e-16), (1802.057463330129, 868.6401023111412, 0.0)], [-45.00000209717174, -45.00000209717174, -45.00000209717174, -45.00000209717174, -45.00000209717174, -45.00000209717174, -45.00000209717174, -45.00000209717174, -45.00000209717174, -45.00000209717174, -45.00000209717174, -45.00000209717174, -45.00000209717174, -45.00000209717174, -45.00000209717174], [(1791.537353515625, 866.661865234375, 0.0), (1791.9683837890625, 866.6724853515625, 0.0), (1792.39501953125, 866.6815795898438, 0.0), (1792.821533203125, 866.690673828125, 0.0), (1793.2388916015625, 866.7022094726562, 0.0), (1793.657958984375, 866.7139282226562, 0.0), (1794.0770263671875, 866.7256469726562, 0.0), (1794.513427734375, 866.73583984375, 0.0), (1794.949951171875, 866.7460327148438, 0.0), (1795.3782958984375, 866.75732421875, 0.0), (1795.8175048828125, 866.767822265625, 0.0), (1796.2567138671875, 866.7783203125, 0.0), (1796.6923828125, 866.788330078125, 0.0), (1797.128173828125, 866.7984008789062, 0.0), (1797.5670166015625, 866.8087158203125, 0.0)], ['intersection', 'intersection', 'intersection', 'intersection', 'intersection', 'intersection', 'intersection', 'intersection', 'intersection', 'intersection', 'intersection', 'intersection', 'intersection', 'intersection', 'intersection'], [<shapely.geometry.polygon.Polygon object at 0x7fc4117f5e70>, <shapely.geometry.polygon.Polygon object at 0x7fc4117f6020>, <shapely.geometry.polygon.Polygon object at 0x7fc4117f71f0>, <shapely.geometry.polygon.Polygon object at 0x7fc4117f7490>, <shapely.geometry.polygon.Polygon object at 0x7fc4117f7f40>, <shapely.geometry.polygon.Polygon object at 0x7fc4117f67d0>, <shapely.geometry.polygon.Polygon object at 0x7fc4117e0fd0>, <shapely.geometry.polygon.Polygon object at 0x7fc4117e1f30>, <shapely.geometry.polygon.Polygon object at 0x7fc4117e2290>, <shapely.geometry.polygon.Polygon object at 0x7fc4117e3010>, <shapely.geometry.polygon.Polygon object at 0x7fc4117e3490>, <shapely.geometry.polygon.Polygon object at 0x7fc4117e3c70>, <shapely.geometry.polygon.Polygon object at 0x7fc4117e3c10>, <shapely.geometry.polygon.Polygon object at 0x7fc411610610>, <shapely.geometry.polygon.Polygon object at 0x7fc411611000>]]\n",
      "[20, 'scene-0655', 'car', [datetime.datetime(2018, 8, 27, 8, 51, 34, 462404), datetime.datetime(2018, 8, 27, 8, 51, 34, 512404), datetime.datetime(2018, 8, 27, 8, 51, 34, 562404), datetime.datetime(2018, 8, 27, 8, 51, 34, 612404), datetime.datetime(2018, 8, 27, 8, 51, 34, 662404), datetime.datetime(2018, 8, 27, 8, 51, 34, 712404), datetime.datetime(2018, 8, 27, 8, 51, 34, 762404), datetime.datetime(2018, 8, 27, 8, 51, 34, 812404), datetime.datetime(2018, 8, 27, 8, 51, 34, 862404), datetime.datetime(2018, 8, 27, 8, 51, 34, 912404), datetime.datetime(2018, 8, 27, 8, 51, 34, 962404), datetime.datetime(2018, 8, 27, 8, 51, 35, 12404), datetime.datetime(2018, 8, 27, 8, 51, 35, 62404), datetime.datetime(2018, 8, 27, 8, 51, 35, 112404), datetime.datetime(2018, 8, 27, 8, 51, 35, 162404)], [(1796.7021536874518, 867.4993972114099, 0.0), (1797.1440163177015, 867.5145879910992, 0.0), (1797.5462301463926, 867.5915185813622, 0.0), (1797.9800562553717, 867.6031269342509, 0.0), (1797.6075993358131, 868.6037160703845, 0.0), (1798.9176983584748, 867.2412346287397, 0.0), (1799.1668147557634, 867.7437332925872, 0.0), (1799.5745595396752, 867.8407524221899, 0.0), (1800.0083287534335, 867.8508423894314, 0.0), (1800.4133525978623, 867.9037636760206, 0.0), (1800.812101847806, 867.9831029199905, 0.0), (1801.252456903453, 867.9940840383539, 0.0), (1801.624651727117, 868.0963273589568, 0.0), (1802.055726346748, 868.1118707300916, 0.0), (1802.4872253468538, 868.1743847422699, 0.0)], [-45.00000209717174, -45.00000209717174, -45.00000209717174, -45.00000209717174, -45.00000209717174, -45.00000209717174, -45.00000209717174, -45.00000209717174, -45.00000209717174, -45.00000209717174, -45.00000209717174, -45.00000209717174, -45.00000209717174, -45.00000209717174, -45.00000209717174], [(1791.537353515625, 866.661865234375, 0.0), (1791.9683837890625, 866.6724853515625, 0.0), (1792.39501953125, 866.6815795898438, 0.0), (1792.821533203125, 866.690673828125, 0.0), (1793.2388916015625, 866.7022094726562, 0.0), (1793.657958984375, 866.7139282226562, 0.0), (1794.0770263671875, 866.7256469726562, 0.0), (1794.513427734375, 866.73583984375, 0.0), (1794.949951171875, 866.7460327148438, 0.0), (1795.3782958984375, 866.75732421875, 0.0), (1795.8175048828125, 866.767822265625, 0.0), (1796.2567138671875, 866.7783203125, 0.0), (1796.6923828125, 866.788330078125, 0.0), (1797.128173828125, 866.7984008789062, 0.0), (1797.5670166015625, 866.8087158203125, 0.0)], ['intersection', 'intersection', 'intersection', 'intersection', 'intersection', 'intersection', 'intersection', 'intersection', 'intersection', 'intersection', 'intersection', 'intersection', 'intersection', 'intersection', 'intersection'], [<shapely.geometry.polygon.Polygon object at 0x7fc4117f4d00>, <shapely.geometry.polygon.Polygon object at 0x7fc4117f5d80>, <shapely.geometry.polygon.Polygon object at 0x7fc4117f70a0>, <shapely.geometry.polygon.Polygon object at 0x7fc4117f7340>, <shapely.geometry.polygon.Polygon object at 0x7fc4117f7460>, <shapely.geometry.polygon.Polygon object at 0x7fc4117e03d0>, <shapely.geometry.polygon.Polygon object at 0x7fc4117e0df0>, <shapely.geometry.polygon.Polygon object at 0x7fc4117e1c30>, <shapely.geometry.polygon.Polygon object at 0x7fc4117e1960>, <shapely.geometry.polygon.Polygon object at 0x7fc4117e2e60>, <shapely.geometry.polygon.Polygon object at 0x7fc4117e3790>, <shapely.geometry.polygon.Polygon object at 0x7fc4117e1420>, <shapely.geometry.polygon.Polygon object at 0x7fc4117e3bb0>, <shapely.geometry.polygon.Polygon object at 0x7fc411610370>, <shapely.geometry.polygon.Polygon object at 0x7fc411610dc0>]]\n",
      "[21, 'scene-0655', 'car', [datetime.datetime(2018, 8, 27, 8, 51, 34, 462404), datetime.datetime(2018, 8, 27, 8, 51, 34, 512404), datetime.datetime(2018, 8, 27, 8, 51, 34, 562404), datetime.datetime(2018, 8, 27, 8, 51, 34, 612404), datetime.datetime(2018, 8, 27, 8, 51, 34, 662404), datetime.datetime(2018, 8, 27, 8, 51, 34, 712404), datetime.datetime(2018, 8, 27, 8, 51, 34, 762404), datetime.datetime(2018, 8, 27, 8, 51, 34, 812404), datetime.datetime(2018, 8, 27, 8, 51, 34, 862404), datetime.datetime(2018, 8, 27, 8, 51, 34, 912404), datetime.datetime(2018, 8, 27, 8, 51, 34, 962404), datetime.datetime(2018, 8, 27, 8, 51, 35, 12404), datetime.datetime(2018, 8, 27, 8, 51, 35, 62404), datetime.datetime(2018, 8, 27, 8, 51, 35, 112404), datetime.datetime(2018, 8, 27, 8, 51, 35, 162404)], [(1796.847706077267, 867.0671202372159, 0.0), (1797.2830506285725, 867.0818166468121, 0.0), (1797.6854917783194, 867.1455781115246, 0.0), (1798.1202272524133, 867.1562566933151, 0.0), (1798.5281926844082, 867.180527301892, 0.0), (1799.177154508479, 866.0120648271514, 0.0), (1799.345428225236, 867.256307593665, 0.0), (1799.7550865425776, 867.3050393750433, 0.0), (1800.1882933014817, 867.3155463952237, 0.0), (1800.6053756965848, 867.3534667975007, 0.0), (1801.0111024124053, 867.4351916907024, 0.0), (1801.4491875879403, 867.4458637618054, 0.0), (1801.8691093603074, 867.5029375494001, 0.0), (1802.2988637338872, 867.5167783662209, 0.0), (1802.730241421151, 867.5643381735672, 0.0)], [-45.00000209717174, -45.00000209717174, -45.00000209717174, -45.00000209717174, -45.00000209717174, -45.00000209717174, -45.00000209717174, -45.00000209717174, -45.00000209717174, -45.00000209717174, -45.00000209717174, -45.00000209717174, -45.00000209717174, -45.00000209717174, -45.00000209717174], [(1791.537353515625, 866.661865234375, 0.0), (1791.9683837890625, 866.6724853515625, 0.0), (1792.39501953125, 866.6815795898438, 0.0), (1792.821533203125, 866.690673828125, 0.0), (1793.2388916015625, 866.7022094726562, 0.0), (1793.657958984375, 866.7139282226562, 0.0), (1794.0770263671875, 866.7256469726562, 0.0), (1794.513427734375, 866.73583984375, 0.0), (1794.949951171875, 866.7460327148438, 0.0), (1795.3782958984375, 866.75732421875, 0.0), (1795.8175048828125, 866.767822265625, 0.0), (1796.2567138671875, 866.7783203125, 0.0), (1796.6923828125, 866.788330078125, 0.0), (1797.128173828125, 866.7984008789062, 0.0), (1797.5670166015625, 866.8087158203125, 0.0)], ['intersection', 'intersection', 'intersection', 'intersection', 'intersection', 'intersection', 'intersection', 'intersection', 'intersection', 'intersection', 'intersection', 'intersection', 'intersection', 'intersection', 'intersection'], [<shapely.geometry.polygon.Polygon object at 0x7fc4117f5750>, <shapely.geometry.polygon.Polygon object at 0x7fc4117f6080>, <shapely.geometry.polygon.Polygon object at 0x7fc4117f6fe0>, <shapely.geometry.polygon.Polygon object at 0x7fc4117f4ac0>, <shapely.geometry.polygon.Polygon object at 0x7fc4117f79d0>, <shapely.geometry.polygon.Polygon object at 0x7fc4117e02b0>, <shapely.geometry.polygon.Polygon object at 0x7fc4117e11b0>, <shapely.geometry.polygon.Polygon object at 0x7fc4117e1b10>, <shapely.geometry.polygon.Polygon object at 0x7fc4117e1cf0>, <shapely.geometry.polygon.Polygon object at 0x7fc4117e2da0>, <shapely.geometry.polygon.Polygon object at 0x7fc4117e3640>, <shapely.geometry.polygon.Polygon object at 0x7fc4117e22c0>, <shapely.geometry.polygon.Polygon object at 0x7fc4117e2d40>, <shapely.geometry.polygon.Polygon object at 0x7fc4116104c0>, <shapely.geometry.polygon.Polygon object at 0x7fc411610700>]]\n",
      "[22, 'scene-0655', 'car', [datetime.datetime(2018, 8, 27, 8, 51, 34, 462404), datetime.datetime(2018, 8, 27, 8, 51, 34, 512404), datetime.datetime(2018, 8, 27, 8, 51, 34, 562404), datetime.datetime(2018, 8, 27, 8, 51, 34, 612404), datetime.datetime(2018, 8, 27, 8, 51, 34, 662404), datetime.datetime(2018, 8, 27, 8, 51, 34, 712404), datetime.datetime(2018, 8, 27, 8, 51, 34, 762404), datetime.datetime(2018, 8, 27, 8, 51, 34, 812404), datetime.datetime(2018, 8, 27, 8, 51, 34, 862404), datetime.datetime(2018, 8, 27, 8, 51, 34, 912404), datetime.datetime(2018, 8, 27, 8, 51, 34, 962404), datetime.datetime(2018, 8, 27, 8, 51, 35, 12404), datetime.datetime(2018, 8, 27, 8, 51, 35, 62404), datetime.datetime(2018, 8, 27, 8, 51, 35, 112404), datetime.datetime(2018, 8, 27, 8, 51, 35, 162404)], [(1797.023147198477, 866.4773202937778, 0.0), (1797.4661917198273, 866.4880192800658, 0.0), (1797.8712566377515, 866.5096311894092, 0.0), (1798.2998191607628, 866.5192496369181, 0.0), (1798.774425221483, 865.9850138403685, 0.0), (1799.0877643574327, 866.9131618774045, 0.0), (1799.6036864116766, 866.0251198140345, 0.0), (1800.0272592816093, 866.0478785083421, 0.0), (1800.4592455194083, 866.0599534812799, 0.0), (1800.7756435669748, 863.9379924276398, 0.0), (1801.236042511854, 866.692901121176, 0.0), (1801.6706021221473, 866.7059054417218, 0.0), (1802.090909998797, 866.726380911515, 0.0), (1802.5898507248694, 866.1787776184697, 0.0), (1803.0069235022406, 866.1975475811178, 0.0)], [-45.00000209717174, -45.00000209717174, -45.00000209717174, -45.00000209717174, -45.00000209717174, -45.00000209717174, -45.00000209717174, -45.00000209717174, -45.00000209717174, -45.00000209717174, -45.00000209717174, -45.00000209717174, -45.00000209717174, -45.00000209717174, -45.00000209717174], [(1791.537353515625, 866.661865234375, 0.0), (1791.9683837890625, 866.6724853515625, 0.0), (1792.39501953125, 866.6815795898438, 0.0), (1792.821533203125, 866.690673828125, 0.0), (1793.2388916015625, 866.7022094726562, 0.0), (1793.657958984375, 866.7139282226562, 0.0), (1794.0770263671875, 866.7256469726562, 0.0), (1794.513427734375, 866.73583984375, 0.0), (1794.949951171875, 866.7460327148438, 0.0), (1795.3782958984375, 866.75732421875, 0.0), (1795.8175048828125, 866.767822265625, 0.0), (1796.2567138671875, 866.7783203125, 0.0), (1796.6923828125, 866.788330078125, 0.0), (1797.128173828125, 866.7984008789062, 0.0), (1797.5670166015625, 866.8087158203125, 0.0)], ['intersection', 'intersection', 'intersection', 'intersection', 'intersection', 'intersection', 'intersection', 'intersection', 'intersection', 'intersection', 'intersection', 'intersection', 'intersection', 'intersection', 'intersection'], [<shapely.geometry.polygon.Polygon object at 0x7fc4117f4a30>, <shapely.geometry.polygon.Polygon object at 0x7fc4117f5f60>, <shapely.geometry.polygon.Polygon object at 0x7fc4117f6f80>, <shapely.geometry.polygon.Polygon object at 0x7fc4117f46d0>, <shapely.geometry.polygon.Polygon object at 0x7fc4117f7ca0>, <shapely.geometry.polygon.Polygon object at 0x7fc4117e0400>, <shapely.geometry.polygon.Polygon object at 0x7fc4117e0d30>, <shapely.geometry.polygon.Polygon object at 0x7fc4117e1b70>, <shapely.geometry.polygon.Polygon object at 0x7fc4117e03a0>, <shapely.geometry.polygon.Polygon object at 0x7fc4117e2b30>, <shapely.geometry.polygon.Polygon object at 0x7fc4117e37f0>, <shapely.geometry.polygon.Polygon object at 0x7fc4117e0250>, <shapely.geometry.polygon.Polygon object at 0x7fc4117e2380>, <shapely.geometry.polygon.Polygon object at 0x7fc411610490>, <shapely.geometry.polygon.Polygon object at 0x7fc411610520>]]\n",
      "[23, 'scene-0655', 'car', [datetime.datetime(2018, 8, 27, 8, 51, 34, 462404), datetime.datetime(2018, 8, 27, 8, 51, 34, 512404), datetime.datetime(2018, 8, 27, 8, 51, 34, 562404), datetime.datetime(2018, 8, 27, 8, 51, 34, 612404), datetime.datetime(2018, 8, 27, 8, 51, 34, 662404), datetime.datetime(2018, 8, 27, 8, 51, 34, 712404), datetime.datetime(2018, 8, 27, 8, 51, 34, 762404), datetime.datetime(2018, 8, 27, 8, 51, 34, 812404), datetime.datetime(2018, 8, 27, 8, 51, 34, 862404), datetime.datetime(2018, 8, 27, 8, 51, 34, 912404), datetime.datetime(2018, 8, 27, 8, 51, 34, 962404), datetime.datetime(2018, 8, 27, 8, 51, 35, 12404), datetime.datetime(2018, 8, 27, 8, 51, 35, 62404), datetime.datetime(2018, 8, 27, 8, 51, 35, 112404), datetime.datetime(2018, 8, 27, 8, 51, 35, 162404)], [(1797.024813578771, 866.7891626895532, 0.0), (1797.4608360991679, 866.7977155147472, 0.0), (1797.9124688382135, 865.9740424938793, 0.0), (1798.3491842835283, 865.9815973534596, 0.0), (1798.7230725943682, 866.5374156472249, 0.0), (1799.104566847754, 866.5674546694764, 0.0), (1799.531846418438, 866.5812165413768, 0.0), (1799.9956575579054, 864.4523469008404, 0.0), (1800.4268410422885, 864.4659784576888, 0.0), (1800.80228837814, 866.6710543141974, 0.0), (1801.260107964863, 866.1380699080685, 0.0), (1801.6923528741295, 866.1511575563107, 0.0), (1802.1334786748203, 866.1700933182155, 0.0), (1802.525944778789, 866.7417471840577, 0.0), (1802.9515871328686, 866.7523553743449, 0.0)], [-45.00000209717174, -45.00000209717174, -45.00000209717174, -45.00000209717174, -45.00000209717174, -45.00000209717174, -45.00000209717174, -45.00000209717174, -45.00000209717174, -45.00000209717174, -45.00000209717174, -45.00000209717174, -45.00000209717174, -45.00000209717174, -45.00000209717174], [(1791.537353515625, 866.661865234375, 0.0), (1791.9683837890625, 866.6724853515625, 0.0), (1792.39501953125, 866.6815795898438, 0.0), (1792.821533203125, 866.690673828125, 0.0), (1793.2388916015625, 866.7022094726562, 0.0), (1793.657958984375, 866.7139282226562, 0.0), (1794.0770263671875, 866.7256469726562, 0.0), (1794.513427734375, 866.73583984375, 0.0), (1794.949951171875, 866.7460327148438, 0.0), (1795.3782958984375, 866.75732421875, 0.0), (1795.8175048828125, 866.767822265625, 0.0), (1796.2567138671875, 866.7783203125, 0.0), (1796.6923828125, 866.788330078125, 0.0), (1797.128173828125, 866.7984008789062, 0.0), (1797.5670166015625, 866.8087158203125, 0.0)], ['intersection', 'intersection', 'intersection', 'intersection', 'intersection', 'intersection', 'intersection', 'intersection', 'intersection', 'intersection', 'intersection', 'intersection', 'intersection', 'intersection', 'intersection'], [<shapely.geometry.polygon.Polygon object at 0x7fc4117f5c30>, <shapely.geometry.polygon.Polygon object at 0x7fc4117f66b0>, <shapely.geometry.polygon.Polygon object at 0x7fc4117f70d0>, <shapely.geometry.polygon.Polygon object at 0x7fc4117f44f0>, <shapely.geometry.polygon.Polygon object at 0x7fc4117f7e20>, <shapely.geometry.polygon.Polygon object at 0x7fc4117e04c0>, <shapely.geometry.polygon.Polygon object at 0x7fc4117e0e80>, <shapely.geometry.polygon.Polygon object at 0x7fc4117e0100>, <shapely.geometry.polygon.Polygon object at 0x7fc4117e0070>, <shapely.geometry.polygon.Polygon object at 0x7fc4117e2920>, <shapely.geometry.polygon.Polygon object at 0x7fc4117e38e0>, <shapely.geometry.polygon.Polygon object at 0x7fc4117e0460>, <shapely.geometry.polygon.Polygon object at 0x7fc4117e3be0>, <shapely.geometry.polygon.Polygon object at 0x7fc411610df0>, <shapely.geometry.polygon.Polygon object at 0x7fc411610af0>]]\n",
      "[24, 'scene-0655', 'car', [datetime.datetime(2018, 8, 27, 8, 51, 34, 462404), datetime.datetime(2018, 8, 27, 8, 51, 34, 512404), datetime.datetime(2018, 8, 27, 8, 51, 34, 562404), datetime.datetime(2018, 8, 27, 8, 51, 34, 662404), datetime.datetime(2018, 8, 27, 8, 51, 34, 712404), datetime.datetime(2018, 8, 27, 8, 51, 34, 762404), datetime.datetime(2018, 8, 27, 8, 51, 34, 812404), datetime.datetime(2018, 8, 27, 8, 51, 34, 862404), datetime.datetime(2018, 8, 27, 8, 51, 34, 912404), datetime.datetime(2018, 8, 27, 8, 51, 34, 962404)], [(1797.0876655113207, 865.9334137158173, 0.0), (1797.5383865920392, 865.9410408401079, 0.0), (1797.876322843791, 866.8646124278998, 0.0), (1798.7376331573064, 864.419899314888, 0.0), (1799.1517995302768, 864.3813738632499, 0.0), (1799.515592989625, 866.9276004677688, 0.0), (1799.9608302104023, 866.6313843814883, 0.0), (1800.3859857240132, 866.643021101452, 0.0), (1800.852420403694, 866.0920527758055, 0.0), (1801.3272693734643, 864.2776734284473, 0.0)], [-45.00000209717174, -45.00000209717174, -45.00000209717174, -45.00000209717174, -45.00000209717174, -45.00000209717174, -45.00000209717174, -45.00000209717174, -45.00000209717174, -45.00000209717174], [(1791.537353515625, 866.661865234375, 0.0), (1791.9683837890625, 866.6724853515625, 0.0), (1792.39501953125, 866.6815795898438, 0.0), (1793.2388916015625, 866.7022094726562, 0.0), (1793.657958984375, 866.7139282226562, 0.0), (1794.0770263671875, 866.7256469726562, 0.0), (1794.513427734375, 866.73583984375, 0.0), (1794.949951171875, 866.7460327148438, 0.0), (1795.3782958984375, 866.75732421875, 0.0), (1795.8175048828125, 866.767822265625, 0.0)], ['intersection', 'intersection', 'intersection', 'intersection', 'intersection', 'intersection', 'intersection', 'intersection', 'intersection', 'intersection'], [<shapely.geometry.polygon.Polygon object at 0x7fc4117f5a20>, <shapely.geometry.polygon.Polygon object at 0x7fc4117f6950>, <shapely.geometry.polygon.Polygon object at 0x7fc4117f68c0>, <shapely.geometry.polygon.Polygon object at 0x7fc4117f42e0>, <shapely.geometry.polygon.Polygon object at 0x7fc4117e0160>, <shapely.geometry.polygon.Polygon object at 0x7fc4117e0f10>, <shapely.geometry.polygon.Polygon object at 0x7fc4117e0f40>, <shapely.geometry.polygon.Polygon object at 0x7fc4117e22f0>, <shapely.geometry.polygon.Polygon object at 0x7fc4117e2b00>, <shapely.geometry.polygon.Polygon object at 0x7fc4117e3100>]]\n",
      "[25, 'scene-0655', 'car', [datetime.datetime(2018, 8, 27, 8, 51, 34, 612404), datetime.datetime(2018, 8, 27, 8, 51, 34, 662404), datetime.datetime(2018, 8, 27, 8, 51, 34, 712404), datetime.datetime(2018, 8, 27, 8, 51, 34, 762404), datetime.datetime(2018, 8, 27, 8, 51, 34, 812404), datetime.datetime(2018, 8, 27, 8, 51, 34, 862404), datetime.datetime(2018, 8, 27, 8, 51, 34, 912404), datetime.datetime(2018, 8, 27, 8, 51, 34, 962404), datetime.datetime(2018, 8, 27, 8, 51, 35, 12404), datetime.datetime(2018, 8, 27, 8, 51, 35, 62404), datetime.datetime(2018, 8, 27, 8, 51, 35, 112404), datetime.datetime(2018, 8, 27, 8, 51, 35, 162404)], [(1798.3120793243982, 866.8746279857762, 0.0), (1798.688110390563, 866.8339152260319, 0.0), (1799.0672621040758, 863.9713109219396, 0.0), (1799.5755188967048, 864.3916374118854, 0.0), (1799.9119324570966, 863.9522954813028, 0.0), (1800.3430017032974, 863.9669559237741, 0.0), (1800.862006480931, 864.4147257464547, 0.0), (1801.1989308318389, 863.8809876533408, 0.0), (1801.6214910517192, 863.9120365632027, 0.0), (1802.048183383136, 863.8215387625569, 0.0), (1802.5055200913214, 867.1084146814012, 0.0), (1802.9975442210891, 864.4377760801849, 0.0)], [-45.00000209717174, -45.00000209717174, -45.00000209717174, -45.00000209717174, -45.00000209717174, -45.00000209717174, -45.00000209717174, -45.00000209717174, -45.00000209717174, -45.00000209717174, -45.00000209717174, -45.00000209717174], [(1792.821533203125, 866.690673828125, 0.0), (1793.2388916015625, 866.7022094726562, 0.0), (1793.657958984375, 866.7139282226562, 0.0), (1794.0770263671875, 866.7256469726562, 0.0), (1794.513427734375, 866.73583984375, 0.0), (1794.949951171875, 866.7460327148438, 0.0), (1795.3782958984375, 866.75732421875, 0.0), (1795.8175048828125, 866.767822265625, 0.0), (1796.2567138671875, 866.7783203125, 0.0), (1796.6923828125, 866.788330078125, 0.0), (1797.128173828125, 866.7984008789062, 0.0), (1797.5670166015625, 866.8087158203125, 0.0)], ['intersection', 'intersection', 'intersection', 'intersection', 'intersection', 'intersection', 'intersection', 'intersection', 'intersection', 'intersection', 'intersection', 'intersection'], [<shapely.geometry.polygon.Polygon object at 0x7fc4117f50c0>, <shapely.geometry.polygon.Polygon object at 0x7fc4117f5a50>, <shapely.geometry.polygon.Polygon object at 0x7fc4117e05e0>, <shapely.geometry.polygon.Polygon object at 0x7fc4117e1330>, <shapely.geometry.polygon.Polygon object at 0x7fc4117e1b40>, <shapely.geometry.polygon.Polygon object at 0x7fc4117e2320>, <shapely.geometry.polygon.Polygon object at 0x7fc4117e3040>, <shapely.geometry.polygon.Polygon object at 0x7fc4117e33d0>, <shapely.geometry.polygon.Polygon object at 0x7fc4117e35e0>, <shapely.geometry.polygon.Polygon object at 0x7fc4117e3e20>, <shapely.geometry.polygon.Polygon object at 0x7fc411610100>, <shapely.geometry.polygon.Polygon object at 0x7fc411611030>]]\n",
      "[26, 'scene-0655', 'car', [datetime.datetime(2018, 8, 27, 8, 51, 34, 462404), datetime.datetime(2018, 8, 27, 8, 51, 34, 512404), datetime.datetime(2018, 8, 27, 8, 51, 34, 562404), datetime.datetime(2018, 8, 27, 8, 51, 34, 662404), datetime.datetime(2018, 8, 27, 8, 51, 34, 712404), datetime.datetime(2018, 8, 27, 8, 51, 34, 762404), datetime.datetime(2018, 8, 27, 8, 51, 34, 812404), datetime.datetime(2018, 8, 27, 8, 51, 34, 862404), datetime.datetime(2018, 8, 27, 8, 51, 34, 912404), datetime.datetime(2018, 8, 27, 8, 51, 34, 962404), datetime.datetime(2018, 8, 27, 8, 51, 35, 12404), datetime.datetime(2018, 8, 27, 8, 51, 35, 62404), datetime.datetime(2018, 8, 27, 8, 51, 35, 112404), datetime.datetime(2018, 8, 27, 8, 51, 35, 162404)], [(1797.0402941492964, 864.669372966765, 0.0), (1797.4988141739418, 864.726374813841, 0.0), (1797.8594366145453, 864.6465044406597, 0.0), (1798.6635376125846, 864.0412411210923, 0.0), (1799.1362837109687, 864.7114487028743, 0.0), (1799.4967619159768, 863.9799119053828, 0.0), (1799.947997411939, 866.9413926276306, 0.0), (1800.380672006177, 866.9522914863228, 0.0), (1800.7894034249014, 866.9866468025805, 0.0), (1801.2569919347716, 866.4383972491958, 0.0), (1801.7584982068545, 864.2969533410967, 0.0), (1802.0700745097085, 867.0917243661982, 0.0), (1802.5602752021973, 866.4757213720643, 0.0), (1802.951715569236, 867.1349255072132, 0.0)], [-45.00000209717174, -45.00000209717174, -45.00000209717174, -45.00000209717174, -45.00000209717174, -45.00000209717174, -45.00000209717174, -45.00000209717174, -45.00000209717174, -45.00000209717174, -45.00000209717174, -45.00000209717174, -45.00000209717174, -45.00000209717174], [(1791.537353515625, 866.661865234375, 0.0), (1791.9683837890625, 866.6724853515625, 0.0), (1792.39501953125, 866.6815795898438, 0.0), (1793.2388916015625, 866.7022094726562, 0.0), (1793.657958984375, 866.7139282226562, 0.0), (1794.0770263671875, 866.7256469726562, 0.0), (1794.513427734375, 866.73583984375, 0.0), (1794.949951171875, 866.7460327148438, 0.0), (1795.3782958984375, 866.75732421875, 0.0), (1795.8175048828125, 866.767822265625, 0.0), (1796.2567138671875, 866.7783203125, 0.0), (1796.6923828125, 866.788330078125, 0.0), (1797.128173828125, 866.7984008789062, 0.0), (1797.5670166015625, 866.8087158203125, 0.0)], ['intersection', 'intersection', 'intersection', 'intersection', 'intersection', 'intersection', 'intersection', 'intersection', 'intersection', 'intersection', 'intersection', 'intersection', 'intersection', 'intersection'], [<shapely.geometry.polygon.Polygon object at 0x7fc4117f5de0>, <shapely.geometry.polygon.Polygon object at 0x7fc4117f69b0>, <shapely.geometry.polygon.Polygon object at 0x7fc4117f6770>, <shapely.geometry.polygon.Polygon object at 0x7fc4117f6a70>, <shapely.geometry.polygon.Polygon object at 0x7fc4117e0610>, <shapely.geometry.polygon.Polygon object at 0x7fc4117e13c0>, <shapely.geometry.polygon.Polygon object at 0x7fc4117e1ab0>, <shapely.geometry.polygon.Polygon object at 0x7fc4117e0700>, <shapely.geometry.polygon.Polygon object at 0x7fc4117e3070>, <shapely.geometry.polygon.Polygon object at 0x7fc4117e3280>, <shapely.geometry.polygon.Polygon object at 0x7fc4117e3c40>, <shapely.geometry.polygon.Polygon object at 0x7fc4117e3340>, <shapely.geometry.polygon.Polygon object at 0x7fc4116106d0>, <shapely.geometry.polygon.Polygon object at 0x7fc411611090>]]\n",
      "[27, 'scene-0655', 'car', [datetime.datetime(2018, 8, 27, 8, 51, 34, 462404), datetime.datetime(2018, 8, 27, 8, 51, 34, 512404), datetime.datetime(2018, 8, 27, 8, 51, 34, 612404), datetime.datetime(2018, 8, 27, 8, 51, 34, 712404), datetime.datetime(2018, 8, 27, 8, 51, 34, 762404), datetime.datetime(2018, 8, 27, 8, 51, 34, 812404), datetime.datetime(2018, 8, 27, 8, 51, 34, 862404), datetime.datetime(2018, 8, 27, 8, 51, 34, 912404), datetime.datetime(2018, 8, 27, 8, 51, 34, 962404), datetime.datetime(2018, 8, 27, 8, 51, 35, 12404), datetime.datetime(2018, 8, 27, 8, 51, 35, 62404), datetime.datetime(2018, 8, 27, 8, 51, 35, 112404), datetime.datetime(2018, 8, 27, 8, 51, 35, 162404)], [(1797.025639338231, 866.2856734420446, 0.0), (1797.460443432732, 866.3027904454749, 0.0), (1798.2898245054287, 864.6539690910781, 0.0), (1798.0442233106473, 868.6937530348312, 0.0), (1799.5530063828644, 864.7284730149586, 0.0), (1799.9752698522066, 866.3856874011857, 0.0), (1800.4004754063885, 866.3951653873137, 0.0), (1800.824125198952, 866.4188492077001, 0.0), (1801.214301199433, 867.0443801586948, 0.0), (1801.6905371492867, 866.4505006666334, 0.0), (1802.1250630187508, 866.4675847366352, 0.0), (1802.4922966029692, 863.8359615525907, 0.0), (1802.926691962263, 863.7956044105288, 0.0)], [-45.00000209717174, -45.00000209717174, -45.00000209717174, -45.00000209717174, -45.00000209717174, -45.00000209717174, -45.00000209717174, -45.00000209717174, -45.00000209717174, -45.00000209717174, -45.00000209717174, -45.00000209717174, -45.00000209717174], [(1791.537353515625, 866.661865234375, 0.0), (1791.9683837890625, 866.6724853515625, 0.0), (1792.821533203125, 866.690673828125, 0.0), (1793.657958984375, 866.7139282226562, 0.0), (1794.0770263671875, 866.7256469726562, 0.0), (1794.513427734375, 866.73583984375, 0.0), (1794.949951171875, 866.7460327148438, 0.0), (1795.3782958984375, 866.75732421875, 0.0), (1795.8175048828125, 866.767822265625, 0.0), (1796.2567138671875, 866.7783203125, 0.0), (1796.6923828125, 866.788330078125, 0.0), (1797.128173828125, 866.7984008789062, 0.0), (1797.5670166015625, 866.8087158203125, 0.0)], ['intersection', 'intersection', 'intersection', 'intersection', 'intersection', 'intersection', 'intersection', 'intersection', 'intersection', 'intersection', 'intersection', 'intersection', 'intersection'], [<shapely.geometry.polygon.Polygon object at 0x7fc4117f5e10>, <shapely.geometry.polygon.Polygon object at 0x7fc4117f58a0>, <shapely.geometry.polygon.Polygon object at 0x7fc4117f76d0>, <shapely.geometry.polygon.Polygon object at 0x7fc4117e0bb0>, <shapely.geometry.polygon.Polygon object at 0x7fc4117e18d0>, <shapely.geometry.polygon.Polygon object at 0x7fc4117e1ae0>, <shapely.geometry.polygon.Polygon object at 0x7fc4117e2860>, <shapely.geometry.polygon.Polygon object at 0x7fc4117e25c0>, <shapely.geometry.polygon.Polygon object at 0x7fc4117e3820>, <shapely.geometry.polygon.Polygon object at 0x7fc4117e3d00>, <shapely.geometry.polygon.Polygon object at 0x7fc4117e0e20>, <shapely.geometry.polygon.Polygon object at 0x7fc411610730>, <shapely.geometry.polygon.Polygon object at 0x7fc4116105e0>]]\n",
      "[30, 'scene-0655', 'car', [datetime.datetime(2018, 8, 27, 8, 51, 34, 462404), datetime.datetime(2018, 8, 27, 8, 51, 34, 562404), datetime.datetime(2018, 8, 27, 8, 51, 34, 612404), datetime.datetime(2018, 8, 27, 8, 51, 34, 762404), datetime.datetime(2018, 8, 27, 8, 51, 34, 812404)], [(1797.0563196926637, 864.4095707916015, 0.0), (1797.8719491145193, 864.4272401381531, 0.0), (1798.3101625393433, 864.4266611209723, 0.0), (1798.466630412785, 868.7098712753648, 0.0), (1800.0271186314822, 864.7326772515808, 0.0)], [-45.00000209717174, -45.00000209717174, -45.00000209717174, -45.00000209717174, -45.00000209717174], [(1791.537353515625, 866.661865234375, 0.0), (1792.39501953125, 866.6815795898438, 0.0), (1792.821533203125, 866.690673828125, 0.0), (1794.0770263671875, 866.7256469726562, 0.0), (1794.513427734375, 866.73583984375, 0.0)], ['intersection', 'intersection', 'intersection', 'intersection', 'intersection'], [<shapely.geometry.polygon.Polygon object at 0x7fc4117f4070>, <shapely.geometry.polygon.Polygon object at 0x7fc4117f4250>, <shapely.geometry.polygon.Polygon object at 0x7fc4117f7730>, <shapely.geometry.polygon.Polygon object at 0x7fc4117e1480>, <shapely.geometry.polygon.Polygon object at 0x7fc4117e0af0>]]\n",
      "[31, 'scene-0655', 'car', [datetime.datetime(2018, 8, 27, 8, 51, 34, 462404), datetime.datetime(2018, 8, 27, 8, 51, 34, 512404), datetime.datetime(2018, 8, 27, 8, 51, 34, 562404), datetime.datetime(2018, 8, 27, 8, 51, 34, 612404), datetime.datetime(2018, 8, 27, 8, 51, 34, 662404), datetime.datetime(2018, 8, 27, 8, 51, 34, 712404), datetime.datetime(2018, 8, 27, 8, 51, 34, 812404), datetime.datetime(2018, 8, 27, 8, 51, 34, 862404), datetime.datetime(2018, 8, 27, 8, 51, 34, 912404), datetime.datetime(2018, 8, 27, 8, 51, 34, 962404), datetime.datetime(2018, 8, 27, 8, 51, 35, 12404), datetime.datetime(2018, 8, 27, 8, 51, 35, 62404), datetime.datetime(2018, 8, 27, 8, 51, 35, 112404), datetime.datetime(2018, 8, 27, 8, 51, 35, 162404)], [(1797.0965161725264, 866.0033186976518, 0.0), (1797.4887897151, 864.4365088281145, 0.0), (1798.0236891055329, 865.5901022111998, 0.0), (1798.4612547368965, 865.5964312511513, 0.0), (1798.7140722785034, 864.7564729022542, 0.0), (1799.1094878790782, 866.3527378920803, 0.0), (1800.1546913712605, 865.6437450662575, 0.0), (1800.4657226331672, 864.7429687619491, 0.0), (1800.8625179437238, 864.8153008605238, 0.0), (1801.4473414473366, 865.6808088692358, 0.0), (1801.6435823335828, 867.0520791877087, 0.0), (1802.148692853024, 864.406883668126, 0.0), (1802.7437199049473, 865.7308787605343, 0.0), (1803.1874161601536, 865.9877860229199, 0.0)], [-45.00000209717174, -45.00000209717174, -45.00000209717174, -45.00000209717174, -45.00000209717174, -45.00000209717174, -45.00000209717174, -45.00000209717174, -45.00000209717174, -45.00000209717174, -45.00000209717174, -45.00000209717174, -45.00000209717174, -45.00000209717174], [(1791.537353515625, 866.661865234375, 0.0), (1791.9683837890625, 866.6724853515625, 0.0), (1792.39501953125, 866.6815795898438, 0.0), (1792.821533203125, 866.690673828125, 0.0), (1793.2388916015625, 866.7022094726562, 0.0), (1793.657958984375, 866.7139282226562, 0.0), (1794.513427734375, 866.73583984375, 0.0), (1794.949951171875, 866.7460327148438, 0.0), (1795.3782958984375, 866.75732421875, 0.0), (1795.8175048828125, 866.767822265625, 0.0), (1796.2567138671875, 866.7783203125, 0.0), (1796.6923828125, 866.788330078125, 0.0), (1797.128173828125, 866.7984008789062, 0.0), (1797.5670166015625, 866.8087158203125, 0.0)], ['intersection', 'intersection', 'intersection', 'intersection', 'intersection', 'intersection', 'intersection', 'intersection', 'intersection', 'intersection', 'intersection', 'intersection', 'intersection', 'intersection'], [<shapely.geometry.polygon.Polygon object at 0x7fc4117f63b0>, <shapely.geometry.polygon.Polygon object at 0x7fc4117f6f20>, <shapely.geometry.polygon.Polygon object at 0x7fc4117f4040>, <shapely.geometry.polygon.Polygon object at 0x7fc4117f7370>, <shapely.geometry.polygon.Polygon object at 0x7fc4117f79a0>, <shapely.geometry.polygon.Polygon object at 0x7fc4117e0670>, <shapely.geometry.polygon.Polygon object at 0x7fc4117e0b80>, <shapely.geometry.polygon.Polygon object at 0x7fc4117e2440>, <shapely.geometry.polygon.Polygon object at 0x7fc4117e35b0>, <shapely.geometry.polygon.Polygon object at 0x7fc4117e2410>, <shapely.geometry.polygon.Polygon object at 0x7fc4117e19f0>, <shapely.geometry.polygon.Polygon object at 0x7fc4117e3d60>, <shapely.geometry.polygon.Polygon object at 0x7fc411610b80>, <shapely.geometry.polygon.Polygon object at 0x7fc411611570>]]\n",
      "[33, 'scene-0655', 'car', [datetime.datetime(2018, 8, 27, 8, 51, 34, 512404), datetime.datetime(2018, 8, 27, 8, 51, 34, 562404), datetime.datetime(2018, 8, 27, 8, 51, 34, 612404), datetime.datetime(2018, 8, 27, 8, 51, 34, 662404), datetime.datetime(2018, 8, 27, 8, 51, 34, 712404), datetime.datetime(2018, 8, 27, 8, 51, 34, 762404), datetime.datetime(2018, 8, 27, 8, 51, 34, 862404)], [(1797.4736136355968, 866.4057671454473, 0.0), (1797.8666012799108, 866.3165765039421, 0.0), (1798.3028074304825, 866.3251438896898, 0.0), (1798.703970318351, 866.3454926233929, 0.0), (1799.2887211045713, 865.6238445785159, 0.0), (1799.5364032776888, 866.3661477238894, 0.0), (1800.5861684754868, 865.6565106217188, 0.0)], [-45.00000209717174, -45.00000209717174, -45.00000209717174, -45.00000209717174, -45.00000209717174, -45.00000209717174, -45.00000209717174], [(1791.9683837890625, 866.6724853515625, 0.0), (1792.39501953125, 866.6815795898438, 0.0), (1792.821533203125, 866.690673828125, 0.0), (1793.2388916015625, 866.7022094726562, 0.0), (1793.657958984375, 866.7139282226562, 0.0), (1794.0770263671875, 866.7256469726562, 0.0), (1794.949951171875, 866.7460327148438, 0.0)], ['intersection', 'intersection', 'intersection', 'intersection', 'intersection', 'intersection', 'intersection'], [<shapely.geometry.polygon.Polygon object at 0x7fc4117f6ef0>, <shapely.geometry.polygon.Polygon object at 0x7fc4117f57b0>, <shapely.geometry.polygon.Polygon object at 0x7fc4117f7790>, <shapely.geometry.polygon.Polygon object at 0x7fc4117f77c0>, <shapely.geometry.polygon.Polygon object at 0x7fc4117e0be0>, <shapely.geometry.polygon.Polygon object at 0x7fc4117e1990>, <shapely.geometry.polygon.Polygon object at 0x7fc4117e2890>]]\n",
      "[37, 'scene-0655', 'car', [datetime.datetime(2018, 8, 27, 8, 51, 34, 762404), datetime.datetime(2018, 8, 27, 8, 51, 34, 812404), datetime.datetime(2018, 8, 27, 8, 51, 34, 912404), datetime.datetime(2018, 8, 27, 8, 51, 34, 962404), datetime.datetime(2018, 8, 27, 8, 51, 35, 12404), datetime.datetime(2018, 8, 27, 8, 51, 35, 62404), datetime.datetime(2018, 8, 27, 8, 51, 35, 112404), datetime.datetime(2018, 8, 27, 8, 51, 35, 162404)], [(1799.7149040694762, 865.6366076069934, 0.0), (1799.9901853790532, 866.465810302392, 0.0), (1801.017177895612, 865.6720090986037, 0.0), (1801.327576793628, 864.7050218293302, 0.0), (1801.8770197080999, 865.6958837115578, 0.0), (1802.3105377347201, 865.7111247193138, 0.0), (1802.5881546263631, 864.4128992516096, 0.0), (1803.1912629439207, 865.7295131635597, 0.0)], [-45.00000209717174, -45.00000209717174, -45.00000209717174, -45.00000209717174, -45.00000209717174, -45.00000209717174, -45.00000209717174, -45.00000209717174], [(1794.0770263671875, 866.7256469726562, 0.0), (1794.513427734375, 866.73583984375, 0.0), (1795.3782958984375, 866.75732421875, 0.0), (1795.8175048828125, 866.767822265625, 0.0), (1796.2567138671875, 866.7783203125, 0.0), (1796.6923828125, 866.788330078125, 0.0), (1797.128173828125, 866.7984008789062, 0.0), (1797.5670166015625, 866.8087158203125, 0.0)], ['intersection', 'intersection', 'intersection', 'intersection', 'intersection', 'intersection', 'intersection', 'intersection'], [<shapely.geometry.polygon.Polygon object at 0x7fc4117e11e0>, <shapely.geometry.polygon.Polygon object at 0x7fc4117e18a0>, <shapely.geometry.polygon.Polygon object at 0x7fc4117e3580>, <shapely.geometry.polygon.Polygon object at 0x7fc4117e24d0>, <shapely.geometry.polygon.Polygon object at 0x7fc4117e2770>, <shapely.geometry.polygon.Polygon object at 0x7fc4117e2950>, <shapely.geometry.polygon.Polygon object at 0x7fc411610820>, <shapely.geometry.polygon.Polygon object at 0x7fc411611180>]]\n",
      "[38, 'scene-0655', 'car', [datetime.datetime(2018, 8, 27, 8, 51, 34, 862404), datetime.datetime(2018, 8, 27, 8, 51, 34, 912404), datetime.datetime(2018, 8, 27, 8, 51, 34, 962404), datetime.datetime(2018, 8, 27, 8, 51, 35, 112404), datetime.datetime(2018, 8, 27, 8, 51, 35, 162404)], [(1800.3484239823722, 864.6722069525952, 0.0), (1800.83943220239, 866.4941415876694, 0.0), (1801.4178983547463, 865.9401971184698, 0.0), (1802.5998361339111, 864.6259843685468, 0.0), (1802.9733599894007, 866.5541433378323, 0.0)], [-45.00000209717174, -45.00000209717174, -45.00000209717174, -45.00000209717174, -45.00000209717174], [(1794.949951171875, 866.7460327148438, 0.0), (1795.3782958984375, 866.75732421875, 0.0), (1795.8175048828125, 866.767822265625, 0.0), (1797.128173828125, 866.7984008789062, 0.0), (1797.5670166015625, 866.8087158203125, 0.0)], ['intersection', 'intersection', 'intersection', 'intersection', 'intersection'], [<shapely.geometry.polygon.Polygon object at 0x7fc4117e1ba0>, <shapely.geometry.polygon.Polygon object at 0x7fc4117e3160>, <shapely.geometry.polygon.Polygon object at 0x7fc4117e30a0>, <shapely.geometry.polygon.Polygon object at 0x7fc411610c10>, <shapely.geometry.polygon.Polygon object at 0x7fc4116115d0>]]\n",
      "[40, 'scene-0655', 'car', [datetime.datetime(2018, 8, 27, 8, 51, 35, 12404), datetime.datetime(2018, 8, 27, 8, 51, 35, 62404), datetime.datetime(2018, 8, 27, 8, 51, 35, 112404), datetime.datetime(2018, 8, 27, 8, 51, 35, 162404)], [(1801.7535766132219, 864.7230489249241, 0.0), (1802.3068428064448, 865.9585724296127, 0.0), (1802.7328342481987, 865.9751858842683, 0.0), (1803.084379499414, 864.7647042222466, 0.0)], [-45.00000209717174, -45.00000209717174, -45.00000209717174, -45.00000209717174], [(1796.2567138671875, 866.7783203125, 0.0), (1796.6923828125, 866.788330078125, 0.0), (1797.128173828125, 866.7984008789062, 0.0), (1797.5670166015625, 866.8087158203125, 0.0)], ['intersection', 'intersection', 'intersection', 'intersection'], [<shapely.geometry.polygon.Polygon object at 0x7fc4117e2560>, <shapely.geometry.polygon.Polygon object at 0x7fc411610cd0>, <shapely.geometry.polygon.Polygon object at 0x7fc411611210>, <shapely.geometry.polygon.Polygon object at 0x7fc4116121d0>]]\n",
      "[41, 'scene-0655', 'car', [datetime.datetime(2018, 8, 27, 8, 51, 35, 62404), datetime.datetime(2018, 8, 27, 8, 51, 35, 112404), datetime.datetime(2018, 8, 27, 8, 51, 35, 162404)], [(1802.1894202243684, 864.7846301274457, 0.0), (1802.5702737499812, 866.5348932263825, 0.0), (1802.9658587209137, 866.6554148075434, 0.0)], [-45.00000209717174, -45.00000209717174, -45.00000209717174], [(1796.6923828125, 866.788330078125, 0.0), (1797.128173828125, 866.7984008789062, 0.0), (1797.5670166015625, 866.8087158203125, 0.0)], ['intersection', 'intersection', 'intersection'], [<shapely.geometry.polygon.Polygon object at 0x7fc411612560>, <shapely.geometry.polygon.Polygon object at 0x7fc411610790>, <shapely.geometry.polygon.Polygon object at 0x7fc411611150>]]\n",
      "[53, 'scene-0655', 'car', [datetime.datetime(2018, 8, 27, 8, 51, 50, 262404), datetime.datetime(2018, 8, 27, 8, 51, 50, 312404), datetime.datetime(2018, 8, 27, 8, 51, 50, 362404), datetime.datetime(2018, 8, 27, 8, 51, 50, 412404), datetime.datetime(2018, 8, 27, 8, 51, 50, 462404), datetime.datetime(2018, 8, 27, 8, 51, 50, 512404), datetime.datetime(2018, 8, 27, 8, 51, 50, 562404), datetime.datetime(2018, 8, 27, 8, 51, 50, 612404), datetime.datetime(2018, 8, 27, 8, 51, 50, 662404)], [(1925.9286398146292, 869.1284820507201, 0.0), (1926.3816210907669, 869.1591471861973, 0.0), (1926.7904919455245, 869.1727824177578, 0.0), (1927.1856986416315, 869.2179183686662, 0.0), (1927.608765614463, 869.2442309176236, 0.0), (1927.3850932721068, 871.864842020053, 0.0), (1927.8316165508236, 871.8981164313061, 0.0), (1928.8652148586882, 869.3999300063056, 0.0), (1929.2775012882325, 869.4370135662716, 0.0)], [-45.00000209717174, -45.00000209717174, -45.00000209717174, -45.00000209717174, -45.00000209717174, -45.00000209717174, -45.00000209717174, -45.00000209717174, -45.00000209717174], [(1920.4031982421875, 869.6646728515625, 0.0), (1920.83349609375, 869.6731567382812, 0.0), (1921.263671875, 869.681640625, 0.0), (1921.6910400390625, 869.6944580078125, 0.0), (1922.1300048828125, 869.710205078125, 0.0), (1922.56884765625, 869.7260131835938, 0.0), (1923.00146484375, 869.743896484375, 0.0), (1923.4339599609375, 869.7617797851562, 0.0), (1923.8736572265625, 869.7785034179688, 0.0)], ['intersection', 'intersection', 'intersection', 'intersection', 'intersection', 'intersection', 'intersection', 'intersection', 'intersection'], [<shapely.geometry.polygon.Polygon object at 0x7fc4116127a0>, <shapely.geometry.polygon.Polygon object at 0x7fc411612890>, <shapely.geometry.polygon.Polygon object at 0x7fc411611e10>, <shapely.geometry.polygon.Polygon object at 0x7fc4116122c0>, <shapely.geometry.polygon.Polygon object at 0x7fc411611a20>, <shapely.geometry.polygon.Polygon object at 0x7fc411612350>, <shapely.geometry.polygon.Polygon object at 0x7fc411612aa0>, <shapely.geometry.polygon.Polygon object at 0x7fc411612ce0>, <shapely.geometry.polygon.Polygon object at 0x7fc411612e60>]]\n",
      "[54, 'scene-0655', 'car', [datetime.datetime(2018, 8, 27, 8, 51, 50, 262404), datetime.datetime(2018, 8, 27, 8, 51, 50, 312404), datetime.datetime(2018, 8, 27, 8, 51, 50, 362404), datetime.datetime(2018, 8, 27, 8, 51, 50, 412404), datetime.datetime(2018, 8, 27, 8, 51, 50, 462404), datetime.datetime(2018, 8, 27, 8, 51, 50, 512404), datetime.datetime(2018, 8, 27, 8, 51, 50, 562404), datetime.datetime(2018, 8, 27, 8, 51, 50, 612404), datetime.datetime(2018, 8, 27, 8, 51, 50, 662404)], [(1925.310077169911, 871.5464292478102, 0.0), (1925.7215377997873, 871.6437133920335, 0.0), (1926.1144471109305, 871.6328442987492, 0.0), (1926.5275675029852, 871.7144600544317, 0.0), (1926.9531313930254, 871.7329432439337, 0.0), (1928.0438060621018, 869.2997753361296, 0.0), (1928.5018642319937, 869.319873587302, 0.0), (1928.185338013936, 871.9154413982287, 0.0), (1928.5986434914062, 871.9393422997946, 0.0)], [-45.00000209717174, -45.00000209717174, -45.00000209717174, -45.00000209717174, -45.00000209717174, -45.00000209717174, -45.00000209717174, -45.00000209717174, -45.00000209717174], [(1920.4031982421875, 869.6646728515625, 0.0), (1920.83349609375, 869.6731567382812, 0.0), (1921.263671875, 869.681640625, 0.0), (1921.6910400390625, 869.6944580078125, 0.0), (1922.1300048828125, 869.710205078125, 0.0), (1922.56884765625, 869.7260131835938, 0.0), (1923.00146484375, 869.743896484375, 0.0), (1923.4339599609375, 869.7617797851562, 0.0), (1923.8736572265625, 869.7785034179688, 0.0)], ['intersection', 'intersection', 'intersection', 'intersection', 'intersection', 'intersection', 'intersection', 'intersection', 'intersection'], [<shapely.geometry.polygon.Polygon object at 0x7fc411612530>, <shapely.geometry.polygon.Polygon object at 0x7fc411612080>, <shapely.geometry.polygon.Polygon object at 0x7fc411612920>, <shapely.geometry.polygon.Polygon object at 0x7fc4116125c0>, <shapely.geometry.polygon.Polygon object at 0x7fc411611300>, <shapely.geometry.polygon.Polygon object at 0x7fc411612290>, <shapely.geometry.polygon.Polygon object at 0x7fc411611e70>, <shapely.geometry.polygon.Polygon object at 0x7fc4116122f0>, <shapely.geometry.polygon.Polygon object at 0x7fc411612b30>]]\n"
     ]
    },
    {
     "name": "stderr",
     "output_type": "stream",
     "text": [
      "\n"
     ]
    }
   ],
   "source": [
    "preprocess(world)"
   ]
  },
  {
   "cell_type": "code",
   "execution_count": 16,
   "id": "55c97b7b",
   "metadata": {},
   "outputs": [
    {
     "name": "stdout",
     "output_type": "stream",
     "text": [
      "execute: filter\n",
      "CallNode(_fn=(<function custom_fn.<locals>.fn at 0x7fc8140c5b40>,), params=[TableAttrNode(name='egoTranslation', table=CameraTableNode, shorten=True), BinOpNode(left=TableAttrNode(name='translations', table=ObjectTableNode[0], shorten=True), op='matmul', right=TableAttrNode(name='timestamp', table=CameraTableNode, shorten=True))])\n",
      "LiteralNode(value=50, python=True)\n",
      "CallNode(_fn=(<function view_angle at 0x7fc8140c67a0>,), params=[BinOpNode(left=TableAttrNode(name='translations', table=ObjectTableNode[0], shorten=True), op='matmul', right=TableAttrNode(name='timestamp', table=CameraTableNode, shorten=True)), TableAttrNode(name='egoTranslation', table=CameraTableNode, shorten=True)])\n",
      "LiteralNode(value=35.0, python=True)\n",
      "CallNode(_fn=(<function custom_fn.<locals>.fn at 0x7fc8140c5b40>,), params=[TableAttrNode(name='egoTranslation', table=CameraTableNode, shorten=True), BinOpNode(left=TableAttrNode(name='translations', table=ObjectTableNode[1], shorten=True), op='matmul', right=TableAttrNode(name='timestamp', table=CameraTableNode, shorten=True))])\n",
      "LiteralNode(value=50, python=True)\n",
      "CallNode(_fn=(<function view_angle at 0x7fc8140c67a0>,), params=[BinOpNode(left=TableAttrNode(name='translations', table=ObjectTableNode[1], shorten=True), op='matmul', right=TableAttrNode(name='timestamp', table=CameraTableNode, shorten=True)), TableAttrNode(name='egoTranslation', table=CameraTableNode, shorten=True)])\n",
      "LiteralNode(value=35.0, python=True)\n",
      "CallNode(_fn=(<function custom_fn.<locals>.fn at 0x7fc8140c60e0>,), params=[TableAttrNode(name='egoTranslation', table=CameraTableNode, shorten=True), LiteralNode(value='intersection', python=True)])\n",
      "LiteralNode(value=10, python=True)\n",
      "execute: get_id_time_camId_filename\n",
      "get_id_time_camId_filename \n",
      "        SELECT t0.itemId,t1.itemId, cameras.timestamp, cameras.cameraId, cameras.filename\n",
      "        FROM (SELECT * FROM item_general_trajectory) as t0\n",
      "        JOIN (SELECT * FROM item_general_trajectory) as t1 USING (cameraId)\n",
      "        JOIN Cameras USING (cameraId)\n",
      "        WHERE ((t0.itemId<>t1.itemId) AND t0.objectType LIKE 'car' AND t1.objectType LIKE 'car' AND angleBetween(facingRelative(egoHeading,roadDirection),-15,15) AND (ST_Distance(egoTranslation,valueAtTimestamp(t0.translations,timestamp))<50) AND (viewAngle(valueAtTimestamp(t0.translations,timestamp),egoHeading,egoTranslation)<35.0) AND (ST_Distance(egoTranslation,valueAtTimestamp(t1.translations,timestamp))<50) AND (viewAngle(valueAtTimestamp(t1.translations,timestamp),egoHeading,egoTranslation)<35.0) AND (EXISTS(SELECT 1\n",
      "            FROM SegmentPolygon\n",
      "            WHERE\n",
      "                'intersection' = Any(SegmentPolygon.segmentTypes) AND\n",
      "                ST_Covers(SegmentPolygon.elementPolygon, valueAtTimestamp(t0.translations,timestamp)) AND ST_Covers(SegmentPolygon.elementPolygon, valueAtTimestamp(t1.translations,timestamp))\n",
      "        )) AND angleBetween(facingRelative((valueAtTimestamp(t0.itemHeadings,timestamp))::real,egoHeading),50,135) AND angleBetween(facingRelative((valueAtTimestamp(t1.itemHeadings,timestamp))::real,egoHeading),-135,-50) AND (minDistance(egoTranslation,'intersection')<10) AND angleBetween(facingRelative((valueAtTimestamp(t0.itemHeadings,timestamp))::real,(valueAtTimestamp(t1.itemHeadings,timestamp))::real),100,-100))\n",
      "        \n",
      "done execute node\n",
      "Result length: 0\n"
     ]
    }
   ],
   "source": [
    "id_time_camId_filename = world.get_id_time_camId_filename(2)"
   ]
  },
  {
   "cell_type": "code",
   "execution_count": null,
   "id": "8ff5d512",
   "metadata": {},
   "outputs": [],
   "source": []
  }
 ],
 "metadata": {
  "kernelspec": {
   "display_name": "Python 3 (ipykernel)",
   "language": "python",
   "name": "python3"
  },
  "language_info": {
   "codemirror_mode": {
    "name": "ipython",
    "version": 3
   },
   "file_extension": ".py",
   "mimetype": "text/x-python",
   "name": "python",
   "nbconvert_exporter": "python",
   "pygments_lexer": "ipython3",
   "version": "3.10.8"
  }
 },
 "nbformat": 4,
 "nbformat_minor": 5
}
