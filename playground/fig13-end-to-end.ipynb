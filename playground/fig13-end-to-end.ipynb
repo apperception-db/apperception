{
 "cells": [
  {
   "cell_type": "code",
   "execution_count": 1,
   "id": "c5c9badc",
   "metadata": {
    "execution": {
     "iopub.execute_input": "2022-12-08T00:15:43.617706Z",
     "iopub.status.busy": "2022-12-08T00:15:43.616466Z",
     "iopub.status.idle": "2022-12-08T00:15:48.654505Z",
     "shell.execute_reply": "2022-12-08T00:15:48.653531Z"
    }
   },
   "outputs": [
    {
     "name": "stdout",
     "output_type": "stream",
     "text": [
      "/data/apperception/apperception\n"
     ]
    }
   ],
   "source": [
    "%cd .."
   ]
  },
  {
   "cell_type": "code",
   "execution_count": 2,
   "id": "152abe6c",
   "metadata": {},
   "outputs": [
    {
     "name": "stderr",
     "output_type": "stream",
     "text": [
      "/home/local/apperception/.installs/mambaforge/envs/apperception/lib/python3.10/site-packages/tqdm/auto.py:22: TqdmWarning: IProgress not found. Please update jupyter and ipywidgets. See https://ipywidgets.readthedocs.io/en/stable/user_install.html\n",
      "  from .autonotebook import tqdm as notebook_tqdm\n",
      "YOLOv5 🚀 2022-11-23 Python-3.10.8 torch-1.13.0+cu117 CUDA:0 (NVIDIA TITAN Xp, 12196MiB)\n",
      "\n"
     ]
    },
    {
     "name": "stdout",
     "output_type": "stream",
     "text": [
      "Using cuda:0\n"
     ]
    },
    {
     "name": "stderr",
     "output_type": "stream",
     "text": [
      "Using cache found in /data/apperception/apperception/weights/ultralytics_yolov5_master\n",
      "YOLOv5 🚀 2022-11-30 Python-3.10.8 torch-1.13.0+cu117 CUDA:0 (NVIDIA TITAN Xp, 12196MiB)\n",
      "\n",
      "Fusing layers... \n",
      "YOLOv5s summary: 213 layers, 7225885 parameters, 0 gradients\n",
      "Adding AutoShape... \n"
     ]
    },
    {
     "data": {
      "text/plain": [
       "<connection object at 0x7fe2984f6e80; dsn: 'user=docker password=xxx dbname=mobilitydb host=localhost port=25441', closed: 0>"
      ]
     },
     "execution_count": 2,
     "metadata": {},
     "output_type": "execute_result"
    }
   ],
   "source": [
    "from apperception.database import database\n",
    "from apperception.world import empty_world\n",
    "from apperception.utils import F\n",
    "from apperception.predicate import camera, objects\n",
    "from optimized_ingestion.utils.preprocess import preprocess\n",
    "database.connection"
   ]
  },
  {
   "cell_type": "code",
   "execution_count": 3,
   "id": "533a4ce8",
   "metadata": {},
   "outputs": [],
   "source": [
    "name = 'ScenicWorld'\n",
    "world = empty_world(name=name)\n",
    "\n",
    "obj1 = objects[0]\n",
    "obj2 = objects[1]\n",
    "cam = camera\n",
    "\n",
    "world = world.filter(\n",
    "    (obj1.id != obj2.id) &\n",
    "    F.like(obj1.type, 'car') &\n",
    "    F.like(obj2.type, 'car') &\n",
    "    F.angle_between(F.facing_relative(cam.ego, F.road_direction(cam.ego)), -15, 15) &\n",
    "    (F.distance(cam.ego, obj1.trans@cam.time) < 50) &\n",
    "    (F.view_angle(obj1.trans@cam.time, cam.ego) < 70 / 2.0) &\n",
    "    (F.distance(cam.ego, obj2.trans@cam.time) < 50) &\n",
    "    (F.view_angle(obj2.trans@cam.time, cam.ego) < 70 / 2.0) &\n",
    "    F.contains_all('intersection', [obj1.trans, obj2.trans]@cam.time) &\n",
    "#     F.angle_between(F.facing_relative(obj1.trans@cam.time, cam.ego), 50, 135) &\n",
    "#     F.angle_between(F.facing_relative(obj2.trans@cam.time, cam.ego), -135, -50) &\n",
    "    (F.min_distance(cam.ego, 'intersection') < 10)\n",
    "#     F.angle_between(F.facing_relative(obj1.trans@cam.time, obj2.trans@cam.time), 100, -100)\n",
    ")\n"
   ]
  },
  {
   "cell_type": "code",
   "execution_count": null,
   "id": "9be10787",
   "metadata": {},
   "outputs": [],
   "source": [
    "preprocess(world)"
   ]
  },
  {
   "cell_type": "code",
   "execution_count": null,
   "id": "8ff5d512",
   "metadata": {},
   "outputs": [],
   "source": [
    "id_time_camId_filename_base = world.get_id_time_camId_filename(2)"
   ]
  },
  {
   "cell_type": "code",
   "execution_count": 4,
   "id": "469cee14",
   "metadata": {},
   "outputs": [
    {
     "name": "stderr",
     "output_type": "stream",
     "text": [
      "YOLOv5 🚀 2022-11-23 Python-3.10.8 torch-1.13.0+cu117 CUDA:0 (NVIDIA TITAN Xp, 12196MiB)\n",
      "\n",
      "Using cache found in /data/apperception/weights/ultralytics_yolov5_master\n",
      "YOLOv5 🚀 2022-11-30 Python-3.10.8 torch-1.13.0+cu117 CUDA:0 (NVIDIA TITAN Xp, 12196MiB)\n",
      "\n",
      "Fusing layers... \n",
      "YOLOv5s summary: 213 layers, 7225885 parameters, 0 gradients\n",
      "Adding AutoShape... \n"
     ]
    },
    {
     "name": "stdout",
     "output_type": "stream",
     "text": [
      "scene-0655-CAM_FRONT --------------------------------------------------------------------------------\n",
      "Stage:  InView\n",
      "237\n",
      "None\n",
      "  filtered frames: 66.24472573839662%\n",
      "KKKKKKKKKKKKKKKKKKKKKKKKKKKKKKKKKKKKKKKKKKKKKKKKKKKKKKKKKKKKKKKKK...................................\n",
      "...............KKKKKKKKKKKKKKKKKKKKKKKKKKKKKKKKKKKKKK................KKKKKKKKKKKKKKKKKKKKKKKKKK.....\n",
      ".........KKKKKKKKKKKKKKKKKKKKKKKKKKKK\n",
      "Stage:  DecodeFrame.ParallelDecodeFrame\n",
      "None\n",
      "237\n",
      "  filtered frames: 66.24472573839662%\n",
      "KKKKKKKKKKKKKKKKKKKKKKKKKKKKKKKKKKKKKKKKKKKKKKKKKKKKKKKKKKKKKKKKK...................................\n",
      "...............KKKKKKKKKKKKKKKKKKKKKKKKKKKKKKKKKKKKKK................KKKKKKKKKKKKKKKKKKKKKKKKKK.....\n",
      ".........KKKKKKKKKKKKKKKKKKKKKKKKKKKK\n",
      "Stage:  Detection2D.YoloDetection\n",
      "None\n",
      "237\n",
      "  filtered frames: 66.24472573839662%\n",
      "KKKKKKKKKKKKKKKKKKKKKKKKKKKKKKKKKKKKKKKKKKKKKKKKKKKKKKKKKKKKKKKKK...................................\n",
      "...............KKKKKKKKKKKKKKKKKKKKKKKKKKKKKKKKKKKKKK................KKKKKKKKKKKKKKKKKKKKKKKKKK.....\n",
      ".........KKKKKKKKKKKKKKKKKKKKKKKKKKKK\n",
      "Stage:  Detection2D.ObjectTypeFilter\n",
      "None\n",
      "237\n",
      "  filtered frames: 66.24472573839662%\n",
      "KKKKKKKKKKKKKKKKKKKKKKKKKKKKKKKKKKKKKKKKKKKKKKKKKKKKKKKKKKKKKKKKK...................................\n",
      "...............KKKKKKKKKKKKKKKKKKKKKKKKKKKKKKKKKKKKKK................KKKKKKKKKKKKKKKKKKKKKKKKKK.....\n",
      ".........KKKKKKKKKKKKKKKKKKKKKKKKKKKK\n",
      "Stage:  Detection2D.ObjectTypeFilter\n",
      "None\n",
      "237\n",
      "  filtered frames: 66.24472573839662%\n",
      "KKKKKKKKKKKKKKKKKKKKKKKKKKKKKKKKKKKKKKKKKKKKKKKKKKKKKKKKKKKKKKKKK...................................\n",
      "...............KKKKKKKKKKKKKKKKKKKKKKKKKKKKKKKKKKKKKK................KKKKKKKKKKKKKKKKKKKKKKKKKK.....\n",
      ".........KKKKKKKKKKKKKKKKKKKKKKKKKKKK\n",
      "Stage:  Detection3D.From2DAndRoad\n"
     ]
    },
    {
     "name": "stderr",
     "output_type": "stream",
     "text": [
      "237it [00:00, 3523.51it/s]\n"
     ]
    },
    {
     "name": "stdout",
     "output_type": "stream",
     "text": [
      "None\n",
      "237\n",
      "  filtered frames: 66.24472573839662%\n",
      "KKKKKKKKKKKKKKKKKKKKKKKKKKKKKKKKKKKKKKKKKKKKKKKKKKKKKKKKKKKKKKKKK...................................\n",
      "...............KKKKKKKKKKKKKKKKKKKKKKKKKKKKKKKKKKKKKK................KKKKKKKKKKKKKKKKKKKKKKKKKK.....\n",
      ".........KKKKKKKKKKKKKKKKKKKKKKKKKKKK\n",
      "Stage:  DetectionEstimation\n",
      "ego_speed:  8.223887668036209\n"
     ]
    },
    {
     "name": "stderr",
     "output_type": "stream",
     "text": [
      "  0%|                                                                                                                                                          | 0/236 [00:00<?, ?it/s]\n"
     ]
    },
    {
     "ename": "SyntaxError",
     "evalue": "syntax error at or near \";\"\nLINE 34: GROUP BY p.elementid, p.elementpolygon, p.segmenttypes,;\n                                                                ^\n",
     "output_type": "error",
     "traceback": [
      "\u001b[0;31m---------------------------------------------------------------------------\u001b[0m",
      "\u001b[0;31mSyntaxError\u001b[0m                               Traceback (most recent call last)",
      "Cell \u001b[0;32mIn [4], line 1\u001b[0m\n\u001b[0;32m----> 1\u001b[0m \u001b[43mpreprocess\u001b[49m\u001b[43m(\u001b[49m\u001b[43mworld\u001b[49m\u001b[43m,\u001b[49m\u001b[43m \u001b[49m\u001b[43mbase\u001b[49m\u001b[38;5;241;43m=\u001b[39;49m\u001b[38;5;28;43;01mFalse\u001b[39;49;00m\u001b[43m)\u001b[49m\n",
      "File \u001b[0;32m/data/apperception/apperception/optimized_ingestion/utils/preprocess.py:52\u001b[0m, in \u001b[0;36mpreprocess\u001b[0;34m(world, base)\u001b[0m\n\u001b[1;32m     46\u001b[0m \u001b[38;5;28mprint\u001b[39m(name, \u001b[38;5;124m'\u001b[39m\u001b[38;5;124m--------------------------------------------------------------------------------\u001b[39m\u001b[38;5;124m'\u001b[39m)\n\u001b[1;32m     47\u001b[0m frames \u001b[38;5;241m=\u001b[39m Video(\n\u001b[1;32m     48\u001b[0m     os\u001b[38;5;241m.\u001b[39mpath\u001b[38;5;241m.\u001b[39mjoin(DATA_DIR, \u001b[38;5;124m\"\u001b[39m\u001b[38;5;124mvideos\u001b[39m\u001b[38;5;124m\"\u001b[39m, video[\u001b[38;5;124m\"\u001b[39m\u001b[38;5;124mfilename\u001b[39m\u001b[38;5;124m\"\u001b[39m]),\n\u001b[1;32m     49\u001b[0m     [camera_config(\u001b[38;5;241m*\u001b[39mf, \u001b[38;5;241m0\u001b[39m) \u001b[38;5;28;01mfor\u001b[39;00m f \u001b[38;5;129;01min\u001b[39;00m video[\u001b[38;5;124m\"\u001b[39m\u001b[38;5;124mframes\u001b[39m\u001b[38;5;124m\"\u001b[39m]],\n\u001b[1;32m     50\u001b[0m     video[\u001b[38;5;124m\"\u001b[39m\u001b[38;5;124mstart\u001b[39m\u001b[38;5;124m\"\u001b[39m],\n\u001b[1;32m     51\u001b[0m )\n\u001b[0;32m---> 52\u001b[0m \u001b[43mprocess_pipeline\u001b[49m\u001b[43m(\u001b[49m\u001b[43mname\u001b[49m\u001b[43m,\u001b[49m\u001b[43m \u001b[49m\u001b[43mframes\u001b[49m\u001b[43m,\u001b[49m\u001b[43m \u001b[49m\u001b[43mpipeline\u001b[49m\u001b[43m,\u001b[49m\u001b[43m \u001b[49m\u001b[43mbase\u001b[49m\u001b[43m)\u001b[49m\n",
      "File \u001b[0;32m/data/apperception/apperception/optimized_ingestion/utils/process_pipeline.py:142\u001b[0m, in \u001b[0;36mprocess_pipeline\u001b[0;34m(video_name, frames, pipeline, base)\u001b[0m\n\u001b[1;32m    141\u001b[0m \u001b[38;5;28;01mdef\u001b[39;00m \u001b[38;5;21mprocess_pipeline\u001b[39m(video_name, frames, pipeline, base):\n\u001b[0;32m--> 142\u001b[0m     output \u001b[38;5;241m=\u001b[39m \u001b[43mpipeline\u001b[49m\u001b[38;5;241;43m.\u001b[39;49m\u001b[43mrun\u001b[49m\u001b[43m(\u001b[49m\u001b[43mPayload\u001b[49m\u001b[43m(\u001b[49m\u001b[43mframes\u001b[49m\u001b[43m)\u001b[49m\u001b[43m)\u001b[49m\u001b[38;5;241m.\u001b[39m\u001b[38;5;18m__dict__\u001b[39m\n\u001b[1;32m    143\u001b[0m     metadata \u001b[38;5;241m=\u001b[39m output[\u001b[38;5;124m'\u001b[39m\u001b[38;5;124mmetadata\u001b[39m\u001b[38;5;124m'\u001b[39m]\n\u001b[1;32m    144\u001b[0m     \u001b[38;5;28;01mif\u001b[39;00m base:\n",
      "File \u001b[0;32m/data/apperception/apperception/optimized_ingestion/pipeline.py:22\u001b[0m, in \u001b[0;36mPipeline.run\u001b[0;34m(self, payload)\u001b[0m\n\u001b[1;32m     20\u001b[0m \u001b[38;5;28;01mdef\u001b[39;00m \u001b[38;5;21mrun\u001b[39m(\u001b[38;5;28mself\u001b[39m, payload: \u001b[38;5;124m\"\u001b[39m\u001b[38;5;124mPayload\u001b[39m\u001b[38;5;124m\"\u001b[39m) \u001b[38;5;241m-\u001b[39m\u001b[38;5;241m>\u001b[39m \u001b[38;5;124m\"\u001b[39m\u001b[38;5;124mPayload\u001b[39m\u001b[38;5;124m\"\u001b[39m:\n\u001b[1;32m     21\u001b[0m     \u001b[38;5;28;01mfor\u001b[39;00m \u001b[38;5;28mfilter\u001b[39m \u001b[38;5;129;01min\u001b[39;00m \u001b[38;5;28mself\u001b[39m\u001b[38;5;241m.\u001b[39mstages:\n\u001b[0;32m---> 22\u001b[0m         payload \u001b[38;5;241m=\u001b[39m \u001b[43mpayload\u001b[49m\u001b[38;5;241;43m.\u001b[39;49m\u001b[43mfilter\u001b[49m\u001b[43m(\u001b[49m\u001b[38;5;28;43mfilter\u001b[39;49m\u001b[43m)\u001b[49m\n\u001b[1;32m     23\u001b[0m     \u001b[38;5;28;01mreturn\u001b[39;00m payload\n",
      "File \u001b[0;32m/data/apperception/apperception/optimized_ingestion/payload.py:45\u001b[0m, in \u001b[0;36mPayload.filter\u001b[0;34m(self, filter)\u001b[0m\n\u001b[1;32m     43\u001b[0m \u001b[38;5;28;01mdef\u001b[39;00m \u001b[38;5;21mfilter\u001b[39m(\u001b[38;5;28mself\u001b[39m, \u001b[38;5;28mfilter\u001b[39m: \u001b[38;5;124m\"\u001b[39m\u001b[38;5;124mStage\u001b[39m\u001b[38;5;124m\"\u001b[39m):\n\u001b[1;32m     44\u001b[0m     \u001b[38;5;28mprint\u001b[39m(\u001b[38;5;124m\"\u001b[39m\u001b[38;5;124mStage: \u001b[39m\u001b[38;5;124m\"\u001b[39m, \u001b[38;5;28mfilter\u001b[39m\u001b[38;5;241m.\u001b[39mclassname())\n\u001b[0;32m---> 45\u001b[0m     keep, metadata \u001b[38;5;241m=\u001b[39m \u001b[38;5;28;43mfilter\u001b[39;49m\u001b[38;5;241;43m.\u001b[39;49m\u001b[43mrun\u001b[49m\u001b[43m(\u001b[49m\u001b[38;5;28;43mself\u001b[39;49m\u001b[43m)\u001b[49m\n\u001b[1;32m     46\u001b[0m     \u001b[38;5;28mprint\u001b[39m(keep \u001b[38;5;129;01mand\u001b[39;00m \u001b[38;5;28mlen\u001b[39m(keep))\n\u001b[1;32m     47\u001b[0m     \u001b[38;5;28mprint\u001b[39m(metadata \u001b[38;5;129;01mand\u001b[39;00m \u001b[38;5;28mlen\u001b[39m(\u001b[38;5;28mfilter\u001b[39m\u001b[38;5;241m.\u001b[39mget(metadata)))\n",
      "File \u001b[0;32m/data/apperception/apperception/optimized_ingestion/stages/stage.py:25\u001b[0m, in \u001b[0;36mStage.run\u001b[0;34m(self, payload)\u001b[0m\n\u001b[1;32m     23\u001b[0m \u001b[38;5;28;01mdef\u001b[39;00m \u001b[38;5;21mrun\u001b[39m(\u001b[38;5;28mself\u001b[39m, payload: \u001b[38;5;124m\"\u001b[39m\u001b[38;5;124mPayload\u001b[39m\u001b[38;5;124m\"\u001b[39m) \u001b[38;5;241m-\u001b[39m\u001b[38;5;241m>\u001b[39m \u001b[38;5;124m\"\u001b[39m\u001b[38;5;124mTuple[bitarray | None, Dict[str, List[T]] | None]\u001b[39m\u001b[38;5;124m\"\u001b[39m:\n\u001b[1;32m     24\u001b[0m     s \u001b[38;5;241m=\u001b[39m time\u001b[38;5;241m.\u001b[39mtime()\n\u001b[0;32m---> 25\u001b[0m     out \u001b[38;5;241m=\u001b[39m \u001b[38;5;28;43mself\u001b[39;49m\u001b[38;5;241;43m.\u001b[39;49m\u001b[43m_run\u001b[49m\u001b[43m(\u001b[49m\u001b[43mpayload\u001b[49m\u001b[43m)\u001b[49m\n\u001b[1;32m     26\u001b[0m     e \u001b[38;5;241m=\u001b[39m time\u001b[38;5;241m.\u001b[39mtime()\n\u001b[1;32m     28\u001b[0m     \u001b[38;5;28mself\u001b[39m\u001b[38;5;241m.\u001b[39mruntimes\u001b[38;5;241m.\u001b[39mappend({\n\u001b[1;32m     29\u001b[0m         \u001b[38;5;124m\"\u001b[39m\u001b[38;5;124mname\u001b[39m\u001b[38;5;124m\"\u001b[39m: payload\u001b[38;5;241m.\u001b[39mvideo\u001b[38;5;241m.\u001b[39mvideofile,\n\u001b[1;32m     30\u001b[0m         \u001b[38;5;124m\"\u001b[39m\u001b[38;5;124mruntime\u001b[39m\u001b[38;5;124m\"\u001b[39m: e \u001b[38;5;241m-\u001b[39m s\n\u001b[1;32m     31\u001b[0m     })\n",
      "File \u001b[0;32m/data/apperception/apperception/optimized_ingestion/stages/detection_estimation/__init__.py:69\u001b[0m, in \u001b[0;36mDetectionEstimation._run\u001b[0;34m(self, payload)\u001b[0m\n\u001b[1;32m     67\u001b[0m start_detection_time \u001b[38;5;241m=\u001b[39m time\u001b[38;5;241m.\u001b[39mtime()\n\u001b[1;32m     68\u001b[0m det, _ \u001b[38;5;241m=\u001b[39m dets[i]\n\u001b[0;32m---> 69\u001b[0m all_detection_info \u001b[38;5;241m=\u001b[39m \u001b[43mconstruct_estimated_all_detection_info\u001b[49m\u001b[43m(\u001b[49m\u001b[43mdet\u001b[49m\u001b[43m,\u001b[49m\u001b[43m \u001b[49m\u001b[43mcurrent_ego_config\u001b[49m\u001b[43m,\u001b[49m\u001b[43m \u001b[49m\u001b[43mego_trajectory\u001b[49m\u001b[43m,\u001b[49m\u001b[43m \u001b[49m\u001b[43mi\u001b[49m\u001b[43m)\u001b[49m\n\u001b[1;32m     70\u001b[0m total_detection_time \u001b[38;5;241m+\u001b[39m\u001b[38;5;241m=\u001b[39m time\u001b[38;5;241m.\u001b[39mtime() \u001b[38;5;241m-\u001b[39m start_detection_time\n\u001b[1;32m     71\u001b[0m all_detection_info_pruned, det \u001b[38;5;241m=\u001b[39m prune_detection(all_detection_info, det, \u001b[38;5;28mself\u001b[39m\u001b[38;5;241m.\u001b[39mpredicates)\n",
      "File \u001b[0;32m/data/apperception/apperception/optimized_ingestion/stages/detection_estimation/__init__.py:180\u001b[0m, in \u001b[0;36mconstruct_estimated_all_detection_info\u001b[0;34m(detections, ego_config, ego_trajectory, frame_idx)\u001b[0m\n\u001b[1;32m    172\u001b[0m     all_detections\u001b[38;5;241m.\u001b[39mappend(obj_detection(\n\u001b[1;32m    173\u001b[0m         DetectionId(frame_idx, i),\n\u001b[1;32m    174\u001b[0m         car_loc3d,\n\u001b[0;32m   (...)\u001b[0m\n\u001b[1;32m    177\u001b[0m         car_bbox2d)\n\u001b[1;32m    178\u001b[0m     )\n\u001b[1;32m    179\u001b[0m \u001b[38;5;66;03m# logger.info(\"all_detections\", all_detections)\u001b[39;00m\n\u001b[0;32m--> 180\u001b[0m all_detection_info \u001b[38;5;241m=\u001b[39m \u001b[43mconstruct_all_detection_info\u001b[49m\u001b[43m(\u001b[49m\u001b[43mego_config\u001b[49m\u001b[43m,\u001b[49m\u001b[43m \u001b[49m\u001b[43mego_trajectory\u001b[49m\u001b[43m,\u001b[49m\u001b[43m \u001b[49m\u001b[43mall_detections\u001b[49m\u001b[43m)\u001b[49m\n\u001b[1;32m    181\u001b[0m \u001b[38;5;28;01mreturn\u001b[39;00m all_detection_info\n",
      "File \u001b[0;32m/data/apperception/apperception/optimized_ingestion/stages/detection_estimation/detection_estimation.py:195\u001b[0m, in \u001b[0;36mconstruct_all_detection_info\u001b[0;34m(ego_config, ego_trajectory, all_detections)\u001b[0m\n\u001b[1;32m    192\u001b[0m \u001b[38;5;28;01mif\u001b[39;00m \u001b[38;5;28mlen\u001b[39m(all_detections) \u001b[38;5;241m==\u001b[39m \u001b[38;5;241m0\u001b[39m:\n\u001b[1;32m    193\u001b[0m     \u001b[38;5;28;01mreturn\u001b[39;00m all_detection_info\n\u001b[0;32m--> 195\u001b[0m ego_road_polygon_info \u001b[38;5;241m=\u001b[39m \u001b[43mget_largest_polygon_containing_point\u001b[49m\u001b[43m(\u001b[49m\u001b[43mego_config\u001b[49m\u001b[43m)\u001b[49m\n\u001b[1;32m    196\u001b[0m detections_polygon_mapping \u001b[38;5;241m=\u001b[39m get_detection_polygon_mapping(all_detections, ego_config)\n\u001b[1;32m    197\u001b[0m \u001b[38;5;66;03m# assert len(all_detections) == len(detections_polygon_mapping)\u001b[39;00m\n",
      "File \u001b[0;32m/data/apperception/apperception/optimized_ingestion/stages/detection_estimation/optimized_segment_mapping.py:273\u001b[0m, in \u001b[0;36mget_largest_polygon_containing_point\u001b[0;34m(ego_config)\u001b[0m\n\u001b[1;32m    267\u001b[0m point \u001b[38;5;241m=\u001b[39m postgis\u001b[38;5;241m.\u001b[39mPoint(\u001b[38;5;241m*\u001b[39mego_config\u001b[38;5;241m.\u001b[39mego_translation[:\u001b[38;5;241m2\u001b[39m])\n\u001b[1;32m    268\u001b[0m query \u001b[38;5;241m=\u001b[39m MAX_POLYGON_CONTAIN_QUERY\u001b[38;5;241m.\u001b[39mformat(\n\u001b[1;32m    269\u001b[0m     ego_translation\u001b[38;5;241m=\u001b[39msql\u001b[38;5;241m.\u001b[39mLiteral(point),\n\u001b[1;32m    270\u001b[0m     location\u001b[38;5;241m=\u001b[39msql\u001b[38;5;241m.\u001b[39mLiteral(ego_config\u001b[38;5;241m.\u001b[39mlocation)\n\u001b[1;32m    271\u001b[0m )\n\u001b[0;32m--> 273\u001b[0m results \u001b[38;5;241m=\u001b[39m \u001b[43mdatabase\u001b[49m\u001b[38;5;241;43m.\u001b[39;49m\u001b[43mexecute\u001b[49m\u001b[43m(\u001b[49m\u001b[43mquery\u001b[49m\u001b[43m)\u001b[49m\n\u001b[1;32m    274\u001b[0m \u001b[38;5;28;01mif\u001b[39;00m \u001b[38;5;28mlen\u001b[39m(results) \u001b[38;5;241m>\u001b[39m \u001b[38;5;241m1\u001b[39m:\n\u001b[1;32m    275\u001b[0m     \u001b[38;5;28;01mfor\u001b[39;00m result \u001b[38;5;129;01min\u001b[39;00m results:\n",
      "File \u001b[0;32m/data/apperception/apperception/apperception/database.py:211\u001b[0m, in \u001b[0;36mDatabase.execute\u001b[0;34m(self, query, vars)\u001b[0m\n\u001b[1;32m    209\u001b[0m \u001b[38;5;28;01mexcept\u001b[39;00m psycopg2\u001b[38;5;241m.\u001b[39merrors\u001b[38;5;241m.\u001b[39mDatabaseError \u001b[38;5;28;01mas\u001b[39;00m error:\n\u001b[1;32m    210\u001b[0m     \u001b[38;5;28mself\u001b[39m\u001b[38;5;241m.\u001b[39mconnection\u001b[38;5;241m.\u001b[39mrollback()\n\u001b[0;32m--> 211\u001b[0m     \u001b[38;5;28;01mraise\u001b[39;00m error\n",
      "File \u001b[0;32m/data/apperception/apperception/apperception/database.py:202\u001b[0m, in \u001b[0;36mDatabase.execute\u001b[0;34m(self, query, vars)\u001b[0m\n\u001b[1;32m    198\u001b[0m \u001b[38;5;28;01mdef\u001b[39;00m \u001b[38;5;21mexecute\u001b[39m(\n\u001b[1;32m    199\u001b[0m     \u001b[38;5;28mself\u001b[39m, query: \u001b[38;5;124m\"\u001b[39m\u001b[38;5;124mstr | psycopg2.sql.Composable\u001b[39m\u001b[38;5;124m\"\u001b[39m, \u001b[38;5;28mvars\u001b[39m: \u001b[38;5;124m\"\u001b[39m\u001b[38;5;124mtuple | list | None\u001b[39m\u001b[38;5;124m\"\u001b[39m \u001b[38;5;241m=\u001b[39m \u001b[38;5;28;01mNone\u001b[39;00m\n\u001b[1;32m    200\u001b[0m ) \u001b[38;5;241m-\u001b[39m\u001b[38;5;241m>\u001b[39m \u001b[38;5;124m\"\u001b[39m\u001b[38;5;124mlist[tuple]\u001b[39m\u001b[38;5;124m\"\u001b[39m:\n\u001b[1;32m    201\u001b[0m     \u001b[38;5;28;01mtry\u001b[39;00m:\n\u001b[0;32m--> 202\u001b[0m         \u001b[38;5;28;43mself\u001b[39;49m\u001b[38;5;241;43m.\u001b[39;49m\u001b[43mcursor\u001b[49m\u001b[38;5;241;43m.\u001b[39;49m\u001b[43mexecute\u001b[49m\u001b[43m(\u001b[49m\u001b[43mquery\u001b[49m\u001b[43m,\u001b[49m\u001b[43m \u001b[49m\u001b[38;5;28;43mvars\u001b[39;49m\u001b[43m)\u001b[49m\n\u001b[1;32m    203\u001b[0m         \u001b[38;5;28;01mfor\u001b[39;00m notice \u001b[38;5;129;01min\u001b[39;00m \u001b[38;5;28mself\u001b[39m\u001b[38;5;241m.\u001b[39mcursor\u001b[38;5;241m.\u001b[39mconnection\u001b[38;5;241m.\u001b[39mnotices:\n\u001b[1;32m    204\u001b[0m             \u001b[38;5;28mprint\u001b[39m(notice)\n",
      "\u001b[0;31mSyntaxError\u001b[0m: syntax error at or near \";\"\nLINE 34: GROUP BY p.elementid, p.elementpolygon, p.segmenttypes,;\n                                                                ^\n"
     ]
    }
   ],
   "source": [
    "preprocess(world, base=False)"
   ]
  },
  {
   "cell_type": "code",
   "execution_count": null,
   "id": "cf72871a",
   "metadata": {},
   "outputs": [],
   "source": [
    "id_time_camId_filename = world.get_id_time_camId_filename(2)"
   ]
  },
  {
   "cell_type": "code",
   "execution_count": null,
   "id": "bf20bb33",
   "metadata": {},
   "outputs": [],
   "source": []
  }
 ],
 "metadata": {
  "kernelspec": {
   "display_name": "Python 3 (ipykernel)",
   "language": "python",
   "name": "python3"
  },
  "language_info": {
   "codemirror_mode": {
    "name": "ipython",
    "version": 3
   },
   "file_extension": ".py",
   "mimetype": "text/x-python",
   "name": "python",
   "nbconvert_exporter": "python",
   "pygments_lexer": "ipython3",
   "version": "3.10.8"
  },
  "vscode": {
   "interpreter": {
    "hash": "31f2aee4e71d21fbe5cf8b01ff0e069b9275f58929596ceb00d14d90e3e16cd6"
   }
  }
 },
 "nbformat": 4,
 "nbformat_minor": 5
}
