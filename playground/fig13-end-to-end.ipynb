{
 "cells": [
  {
   "cell_type": "code",
   "execution_count": null,
   "id": "c5c9badc",
   "metadata": {
    "execution": {
     "iopub.execute_input": "2022-12-08T00:15:43.617706Z",
     "iopub.status.busy": "2022-12-08T00:15:43.616466Z",
     "iopub.status.idle": "2022-12-08T00:15:48.654505Z",
     "shell.execute_reply": "2022-12-08T00:15:48.653531Z"
    }
   },
   "outputs": [],
   "source": [
    "%cd ..\n",
    "import os\n",
    "import time"
   ]
  },
  {
   "cell_type": "code",
   "execution_count": null,
   "id": "152abe6c",
   "metadata": {},
   "outputs": [],
   "source": [
    "from apperception.database import database\n",
    "from apperception.world import empty_world\n",
    "from apperception.utils import F\n",
    "from apperception.predicate import camera, objects\n",
    "from optimized_ingestion.utils.preprocess import preprocess\n",
    "database.connection\n",
    "from optimized_ingestion.cache import disable_cache\n",
    "disable_cache()"
   ]
  },
  {
   "cell_type": "code",
   "execution_count": null,
   "id": "922e90e5",
   "metadata": {},
   "outputs": [],
   "source": [
    "NUSCENES_PROCESSED_DATA = \"NUSCENES_PROCESSED_DATA\"\n",
    "if NUSCENES_PROCESSED_DATA in os.environ:\n",
    "    DATA_DIR = os.environ[NUSCENES_PROCESSED_DATA]\n",
    "else:\n",
    "    DATA_DIR = \"/work/apperception/data/nuScenes/full-dataset-v1.0/Mini\"\n",
    "NUSCENES_RAW_DATA = \"NUSCENES_RAW_DATA\"\n",
    "if NUSCENES_RAW_DATA in os.environ:\n",
    "    RAW_DATA_DIR = os.environ[NUSCENES_RAW_DATA]\n",
    "else:\n",
    "    RAW_DATA_DIR = \"/work/apperception/data/raw/nuScenes/full-dataset-v1.0/Mini\""
   ]
  },
  {
   "cell_type": "code",
   "execution_count": null,
   "id": "574d9f46",
   "metadata": {},
   "outputs": [],
   "source": [
    "import cv2\n",
    "from os.path import exists\n",
    "def construct_video(frames, size=(1600, 900), base=False, vid_name=None, vid_prefix=False):\n",
    "    unique_frames = []\n",
    "    for f in frames:\n",
    "        if f not in unique_frames:\n",
    "            unique_frames.append(f)\n",
    "    fourcc = cv2.VideoWriter_fourcc(*'mp4v')\n",
    "    vid_name = \"./outputs/fig13_\"+vid_name if vid_name else f\"./outputs/{'fig13_base' if base else 'fig13_optimized'}.mp4\"\n",
    "    display_video = cv2.VideoWriter(vid_name,fourcc, 1, size)\n",
    "    for frame in unique_frames:\n",
    "        if vid_prefix:\n",
    "            img_path = os.path.join(RAW_DATA_DIR, 'sweeps/CAM_FRONT', frame)\n",
    "            if not exists(img_path):\n",
    "                img_path = os.path.join(RAW_DATA_DIR, 'samples/CAM_FRONT', frame)\n",
    "        else:\n",
    "            img_path = os.path.join(RAW_DATA_DIR, frame)\n",
    "        img = cv2.imread(img_path)\n",
    "        display_video.write(img)\n",
    "\n",
    "    display_video.release()"
   ]
  },
  {
   "cell_type": "code",
   "execution_count": null,
   "id": "533a4ce8",
   "metadata": {},
   "outputs": [],
   "source": [
    "name = 'ScenicWorld'\n",
    "world = empty_world(name=name)\n",
    "\n",
    "obj1 = objects[0]\n",
    "obj2 = objects[1]\n",
    "cam = camera\n",
    "\n",
    "# car_world = empty_world(name=name).filter(\n",
    "#     (F.like(obj1.type, 'car') | F.like(obj1.type, 'truck') | F.like(obj1.type, 'bus'))\n",
    "# )\n",
    "# world = world.filter(\n",
    "#     (obj1.id != obj2.id) &\n",
    "#     (F.like(obj1.type, 'car') | F.like(obj1.type, 'truck')) &\n",
    "#     (F.like(obj2.type, 'car') | F.like(obj2.type, 'truck')) &\n",
    "#     F.angle_between(F.facing_relative(cam.ego, F.road_direction(cam.ego)), -15, 15) &\n",
    "#     (F.distance(cam.ego, obj1.trans@cam.time) < 50) &\n",
    "#     (F.view_angle(obj1.trans@cam.time, cam.ego) < 70 / 2.0) &\n",
    "#     (F.distance(cam.ego, obj2.trans@cam.time) < 50) &\n",
    "#     (F.view_angle(obj2.trans@cam.time, cam.ego) < 70 / 2.0) &\n",
    "#     F.contains_all('intersection', [obj1.trans, obj2.trans]@cam.time) &\n",
    "#     F.angle_between(F.facing_relative(obj1.trans@cam.time, cam.ego), 40, 135) &\n",
    "#     F.angle_between(F.facing_relative(obj2.trans@cam.time, cam.ego), -135, -50) &\n",
    "#     (F.min_distance(cam.ego, 'intersection') < 10) &\n",
    "#     F.angle_between(F.facing_relative(obj1.trans@cam.time, obj2.trans@cam.time), 100, -100)\n",
    "# )\n",
    "world = world.filter(\n",
    "    (F.like(obj1.type, 'car') | F.like(obj1.type, 'truck')) &\n",
    "    F.angle_between(F.facing_relative(cam.ego, F.road_direction(cam.ego)), -15, 15) &\n",
    "    (F.distance(cam.ego, obj1.trans@cam.time) < 50) &\n",
    "    F.contains_all('intersection', [obj1.trans]@cam.time) &\n",
    "    F.angle_between(F.facing_relative(obj1.trans@cam.time, cam.ego), 135, 225) &\n",
    "    (F.min_distance(cam.ego, 'intersection') < 10)\n",
    ")\n"
   ]
  },
  {
   "cell_type": "code",
   "execution_count": null,
   "id": "d20af03c",
   "metadata": {},
   "outputs": [],
   "source": [
    "preprocess(world, DATA_DIR, ['scene-0655-CAM_FRONT'], base=False)"
   ]
  },
  {
   "cell_type": "code",
   "execution_count": null,
   "id": "44754d64",
   "metadata": {},
   "outputs": [],
   "source": [
    "import numpy as np\n",
    "investigation =[[0, 0, 479, 269, 630, None, (1800.8542502977525, 868.6106570326535, 0.0), ((1800.8319844478135, 868.9208206918607, 0.0), (1800.8765161476917, 868.3004933734464, 0.0))], [1, 236, 464, 429, 578, None, (1801.2291096786573, 868.305008940877, 0.0), ((1801.2102934815034, 868.5555922250609, 0.0), (1801.2479258758112, 868.0544256566931, 0.0))], [2, 403, 465, 527, 552, None, (1801.405934482298, 868.011015809015, 0.0), ((1801.3929661328764, 868.1804623520046, 0.0), (1801.4189028317198, 867.8415692660254, 0.0))], [3, 603, 473, 658, 522, None, (1801.5876508371173, 867.586681546114, 0.0), ((1801.5814949471257, 867.6656835716167, 0.0), (1801.5938067271088, 867.5076795206114, 0.0))], [4, 1204, 459, 1445, 573, None, (1801.4905352468109, 865.643078417144, 0.0), ((1801.465217818611, 865.977737334164, 0.0), (1801.5158526750108, 865.308419500124, 0.0))], [5, 730, 481, 780, 514, None, (1801.6156124213599, 867.2278346865218, 0.0), ((1801.6099787652952, 867.3001345880323, 0.0), (1801.6212460774245, 867.1555347850112, 0.0))], [6, 1114, 467, 1238, 543, None, (1801.6050544133154, 866.0208889300488, 0.0), ((1801.591345240361, 866.1990171553026, 0.0), (1801.6187635862698, 865.8427607047952, 0.0))], [7, 667, 481, 703, 512, None, (1801.6139178025333, 867.4321370039261, 0.0), ((1801.6098542236446, 867.4841990073954, 0.0), (1801.617981381422, 867.3800750004567, 0.0))], [8, 511, 457, 603, 538, None, (1801.5712381097267, 867.797315379675, 0.0), ((1801.5609812723276, 867.9289471877333, 0.0), (1801.5814949471257, 867.6656835716167, 0.0))], [9, 829, 478, 858, 499, None, (1801.768005389129, 866.9753592634866, 0.0), ((1801.764549671694, 867.0190211505278, 0.0), (1801.7714611065637, 866.9316973764452, 0.0))], [10, 1032, 472, 1136, 527, None, (1801.6616424343174, 866.2723484163274, 0.0), ((1801.6498479783318, 866.4242220177541, 0.0), (1801.673436890303, 866.1204748149007, 0.0))], [11, 652, 478, 692, 513, None, (1801.625129787313, 867.4720998074624, 0.0), ((1801.6205926044395, 867.5301306334491, 0.0), (1801.6296669701865, 867.4140689814757, 0.0))], [12, 523, 456, 607, 533, None, (1801.6150544276693, 867.7851696635521, 0.0), ((1801.6055279935438, 867.9068046642283, 0.0), (1801.624580861795, 867.6635346628758, 0.0))], [13, 776, 475, 800, 500, None, (1801.770028826409, 867.1433683802486, 0.0), ((1801.7671611048174, 867.1795363232189, 0.0), (1801.7728965480007, 867.1072004372783, 0.0))]]\n",
    "target = [[0, 728, 463, 785, 509, 'lanegroup',\n",
    "           np.array([list(zip([632.5673278607485, 595.0064038929324, 723.9896110386784, 739.2077568337414, 756.3507025947408, 814.9641409917908, 770.6435112678597, 632.5673278607485],\n",
    "                            [528.9128096702734, 528.3205624725372, 501.6543160656389, 498.422248120345, 498.66987355238507, 499.49252554956377, 530.8904272699301, 528.9128096702734]))]).reshape(-1,1,2)]]\n",
    "\n",
    "skipping_info_0655=[[1, 'exit_view', ((0, 461), (176, 650))], [2, 'car_exit_segment', ((767, 473), (799, 492))], [10, 'ego_exit_segment', None], [11, 'car_exit_segment', ((766, 480), (801, 499))], [12, 'car_exit_segment', ((525, 469), (596, 530))], [14, 'car_exit_segment', ((517, 469), (592, 532))], [19, 'car_exit_segment', ((425, 477), (528, 548))], [20, 'car_exit_segment', ((200, 482), (381, 591))], [21, 'car_exit_segment', ((158, 480), (361, 595))], [22, 'car_exit_segment', ((114, 481), (341, 602))], [23, 'car_exit_segment', ((83, 478), (329, 606))], [24, 'car_exit_segment', ((14, 476), (310, 613))], [26, 'car_exit_segment', ((418, 460), (525, 541))], [29, 'car_exit_segment', ((395, 460), (513, 544))], [35, 'ego_exit_segment', None], [37, 'car_exit_segment', ((776, 475), (800, 500))], [38, 'car_exit_segment', ((0, 486), (218, 648))], [43, 'car_exit_segment', ((152, 467), (380, 599))], [44, 'car_exit_segment', ((3, 468), (287, 633))], [47, 'car_exit_segment', ((0, 467), (258, 641))], [48, 'car_exit_segment', ((771, 478), (806, 501))], [53, 'car_exit_segment', ((89, 461), (379, 614))], [55, 'car_exit_segment', ((252, 435), (482, 586))], [57, 'car_exit_segment', ((196, 430), (467, 598))], [65, 'meet_up', ((1, 446), (143, 645))], [115, 'car_exit_segment', ((406, 467), (561, 559))], [119, 'car_exit_segment', ((367, 464), (547, 565))], [123, 'car_exit_segment', ((306, 461), (520, 576))], [126, 'car_exit_segment', ((233, 476), (493, 606))], [127, 'car_exit_segment', ((1137, 478), (1196, 507))], [131, 'car_exit_segment', ((131, 477), (450, 631))], [132, 'ego_exit_segment', None], [135, 'car_exit_segment', ((0, 473), (392, 662))], [138, 'car_exit_segment', ((1, 481), (328, 710))], [139, 'car_exit_segment', ((684, 470), (764, 531))], [147, 'meet_up', ((0, 500), (221, 726))], [148, None, None], [149, None, None], [151, 'car_exit_segment', ((1353, 475), (1435, 505))], [181, 'meet_up', ((474, 439), (655, 560))], [182, 'ego_exit_segment', None], [203, 'car_exit_segment', ((774, 474), (805, 492))], [236, 'meet_up', ((728, 463), (785, 509))]]\n",
    "\n",
    "def investigation_skipping(video_filename, skipping_info):\n",
    "    fourcc = cv2.VideoWriter_fourcc(*'mp4v')\n",
    "    vid_name = f\"./outputs/{video_filename}_skipping_investigation_new.mp4\"\n",
    "    display_video = cv2.VideoWriter(vid_name, fourcc, 1, (1600, 900))\n",
    "    video_path = os.path.join(DATA_DIR, \"videos\", video_filename+'.mp4')\n",
    "    vidcap = cv2.VideoCapture(video_path)\n",
    "    frame_idx = 0\n",
    "    current_frame_num, current_action, current_target_bbox = skipping_info[0]\n",
    "    current_skipping_info_idx = 0\n",
    "    current_bbox_appearance = 0\n",
    "    while(vidcap.isOpened()):\n",
    "        success, image = vidcap.read()\n",
    "        if not success:\n",
    "            break\n",
    "        next_skipping_info_idx = current_skipping_info_idx + 1\n",
    "        if next_skipping_info_idx < len(skipping_info):\n",
    "            next_frame_num, next_action, next_target_bbox = skipping_info[next_skipping_info_idx]\n",
    "        if frame_idx < next_frame_num:\n",
    "            if current_action:\n",
    "                image = cv2.putText(image, current_action, (50, 50),\n",
    "                                    cv2.FONT_HERSHEY_SIMPLEX, 1, (255, 0, 0), 2, cv2.LINE_AA)\n",
    "            if current_target_bbox and current_bbox_appearance == 0:\n",
    "                x, y = current_target_bbox[0]\n",
    "                x_w, y_h = current_target_bbox[1]\n",
    "                cv2.rectangle(image, (x, y), (x_w, y_h), (0,255,0), 4)\n",
    "                current_bbox_appearance += 1\n",
    "        if frame_idx == 207:\n",
    "            for e in target:\n",
    "                did, x, y, x_w, y_h, t, pts1 = e\n",
    "                cv2.putText(image, f'obj_{did}', (x-20, y_h+10), cv2.FONT_HERSHEY_SIMPLEX, 1, (0, 0, 255), 1, cv2.LINE_AA)\n",
    "                cv2.putText(image, t, (x, y), cv2.FONT_HERSHEY_SIMPLEX, 1, (0, 0, 255), 1, cv2.LINE_AA)\n",
    "                cv2.rectangle(image, (x,y), (x_w, y_h), (0,255,0), 2)\n",
    "                cv2.polylines(image, np.int32([pts1]), isClosed=True, color=(255,0,0), thickness = 2)\n",
    "            cv2.imwrite('./outputs/0655_frame_207_skipping_investigation_new.jpg', image)\n",
    "        display_video.write(image)\n",
    "        frame_idx += 1\n",
    "        if frame_idx == next_frame_num:\n",
    "            current_skipping_info_idx = next_skipping_info_idx\n",
    "            current_action = next_action\n",
    "            current_target_bbox = next_target_bbox\n",
    "            current_bbox_appearance = 0\n",
    "    display_video.release()\n",
    "investigation_skipping('boston-seaport-scene-0655-CAM_FRONT', skipping_info_0655)"
   ]
  },
  {
   "cell_type": "code",
   "execution_count": null,
   "id": "d7d62d0f",
   "metadata": {},
   "outputs": [],
   "source": [
    "optimized_query_start = time.time()\n",
    "id_time_camId_filename = world.get_id_time_camId_filename(1)\n",
    "print(f'optimized query time: {time.time()-optimized_query_start}')"
   ]
  },
  {
   "cell_type": "code",
   "execution_count": null,
   "id": "7830cdf7",
   "metadata": {},
   "outputs": [],
   "source": [
    "optimized_results = [e[3] for e in id_time_camId_filename]\n",
    "construct_video(optimized_results, vid_name=\"modified.mp4\")"
   ]
  },
  {
   "cell_type": "code",
   "execution_count": null,
   "id": "9be10787",
   "metadata": {},
   "outputs": [],
   "source": [
    "preprocess(world, DATA_DIR, ['scene-0757-CAM_FRONT'])"
   ]
  },
  {
   "cell_type": "code",
   "execution_count": null,
   "id": "8ff5d512",
   "metadata": {},
   "outputs": [],
   "source": [
    "base_query_start = time.time()\n",
    "id_time_camId_filename_base = world.get_id_time_camId_filename(2)\n",
    "print(f'based query time: {time.time()-base_query_start}')"
   ]
  },
  {
   "cell_type": "code",
   "execution_count": null,
   "id": "1523b2b2",
   "metadata": {},
   "outputs": [],
   "source": [
    "id_time_camId_filename_base"
   ]
  },
  {
   "cell_type": "code",
   "execution_count": null,
   "id": "642b3c44",
   "metadata": {},
   "outputs": [],
   "source": [
    "base_results = [e[4] for e in id_time_camId_filename_base]\n",
    "construct_video(base_results, base=True)"
   ]
  },
  {
   "cell_type": "code",
   "execution_count": null,
   "id": "ee79569b",
   "metadata": {},
   "outputs": [],
   "source": [
    "false_negative = [f for f in base_results if f not in optimized_results]\n",
    "print(len(false_negative))\n",
    "construct_video(false_negative, vid_name=\"false_negative.avi\")"
   ]
  },
  {
   "cell_type": "code",
   "execution_count": null,
   "id": "c19be7d0",
   "metadata": {},
   "outputs": [],
   "source": [
    "false_positive = [f for f in optimized_results if f not in base_results]\n",
    "print(len(false_positive))\n",
    "construct_video(false_positive, vid_name=\"false_positive.avi\")"
   ]
  },
  {
   "cell_type": "code",
   "execution_count": null,
   "id": "f25d9bd3",
   "metadata": {},
   "outputs": [],
   "source": []
  },
  {
   "cell_type": "code",
   "execution_count": null,
   "id": "b75f6ab7",
   "metadata": {},
   "outputs": [],
   "source": []
  }
 ],
 "metadata": {
  "kernelspec": {
   "display_name": "Python 3 (ipykernel)",
   "language": "python",
   "name": "python3"
  },
  "language_info": {
   "codemirror_mode": {
    "name": "ipython",
    "version": 3
   },
   "file_extension": ".py",
   "mimetype": "text/x-python",
   "name": "python",
   "nbconvert_exporter": "python",
   "pygments_lexer": "ipython3",
   "version": "3.10.6"
  },
  "vscode": {
   "interpreter": {
    "hash": "31f2aee4e71d21fbe5cf8b01ff0e069b9275f58929596ceb00d14d90e3e16cd6"
   }
  }
 },
 "nbformat": 4,
 "nbformat_minor": 5
}
