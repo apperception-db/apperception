{
 "cells": [
  {
   "cell_type": "code",
   "execution_count": 1,
   "id": "c5c9badc",
   "metadata": {
    "execution": {
     "iopub.execute_input": "2022-12-08T00:15:43.617706Z",
     "iopub.status.busy": "2022-12-08T00:15:43.616466Z",
     "iopub.status.idle": "2022-12-08T00:15:48.654505Z",
     "shell.execute_reply": "2022-12-08T00:15:48.653531Z"
    }
   },
   "outputs": [
    {
     "name": "stdout",
     "output_type": "stream",
     "text": [
      "/home/yongming/apperception\n"
     ]
    }
   ],
   "source": [
    "%cd ..\n",
    "import os\n",
    "import time"
   ]
  },
  {
   "cell_type": "code",
   "execution_count": 2,
   "id": "152abe6c",
   "metadata": {},
   "outputs": [
    {
     "name": "stderr",
     "output_type": "stream",
     "text": [
      "YOLOv5 🚀 2023-4-10 Python-3.10.6 torch-2.0.0+cu117 CPU\n",
      "\n",
      "Using cache found in /home/yongming/apperception/weights/ultralytics_yolov5_master\n"
     ]
    },
    {
     "name": "stdout",
     "output_type": "stream",
     "text": [
      "Using cpu\n"
     ]
    },
    {
     "name": "stderr",
     "output_type": "stream",
     "text": [
      "\u001b[31m\u001b[1mrequirements:\u001b[0m YOLOv5 requirement \"setuptools>=65.5.1\" not found, attempting AutoUpdate...\n",
      "Defaulting to user installation because normal site-packages is not writeable\n",
      "Requirement already satisfied: setuptools>=65.5.1 in /usr/local/lib/python3.10/dist-packages (67.6.1)\n",
      "\n",
      "\u001b[31m\u001b[1mrequirements:\u001b[0m 1 package updated per /home/yongming/apperception/weights/ultralytics_yolov5_master/requirements.txt\n",
      "\u001b[31m\u001b[1mrequirements:\u001b[0m ⚠️ \u001b[1mRestart runtime or rerun command for updates to take effect\u001b[0m\n",
      "\n",
      "YOLOv5 🚀 2023-4-10 Python-3.10.6 torch-2.0.0+cu117 CPU\n",
      "\n",
      "Fusing layers... \n",
      "YOLOv5s summary: 213 layers, 7225885 parameters, 0 gradients\n",
      "Adding AutoShape... \n"
     ]
    }
   ],
   "source": [
    "from apperception.database import database\n",
    "from apperception.world import empty_world\n",
    "from apperception.utils import F\n",
    "from apperception.predicate import camera, objects\n",
    "from optimized_ingestion.utils.preprocess import preprocess\n",
    "database.connection\n",
    "from optimized_ingestion.cache import disable_cache\n",
    "disable_cache()"
   ]
  },
  {
   "cell_type": "code",
   "execution_count": 3,
   "id": "922e90e5",
   "metadata": {},
   "outputs": [],
   "source": [
    "NUSCENES_PROCESSED_DATA = \"NUSCENES_PROCESSED_DATA\"\n",
    "if NUSCENES_PROCESSED_DATA in os.environ:\n",
    "    DATA_DIR = os.environ[NUSCENES_PROCESSED_DATA]\n",
    "else:\n",
    "    DATA_DIR = \"/work/apperception/data/nuScenes/full-dataset-v1.0/Mini\"\n",
    "NUSCENES_RAW_DATA = \"NUSCENES_RAW_DATA\"\n",
    "if NUSCENES_RAW_DATA in os.environ:\n",
    "    RAW_DATA_DIR = os.environ[NUSCENES_RAW_DATA]\n",
    "else:\n",
    "    RAW_DATA_DIR = \"/work/apperception/data/raw/nuScenes/full-dataset-v1.0/Mini\""
   ]
  },
  {
   "cell_type": "code",
   "execution_count": 4,
   "id": "574d9f46",
   "metadata": {},
   "outputs": [],
   "source": [
    "import cv2\n",
    "from os.path import exists\n",
    "def construct_video(frames, size=(1600, 900), base=False, vid_name=None, vid_prefix=False):\n",
    "    unique_frames = []\n",
    "    for f in frames:\n",
    "        if f not in unique_frames:\n",
    "            unique_frames.append(f)\n",
    "    fourcc = cv2.VideoWriter_fourcc(*'mp4v')\n",
    "    vid_name = \"./outputs/fig13_\"+vid_name if vid_name else f\"./outputs/{'fig13_base' if base else 'fig13_optimized'}.mp4\"\n",
    "    display_video = cv2.VideoWriter(vid_name,fourcc, 1, size)\n",
    "    for frame in unique_frames:\n",
    "        if vid_prefix:\n",
    "            img_path = os.path.join(RAW_DATA_DIR, 'sweeps/CAM_FRONT', frame)\n",
    "            if not exists(img_path):\n",
    "                img_path = os.path.join(RAW_DATA_DIR, 'samples/CAM_FRONT', frame)\n",
    "        else:\n",
    "            img_path = os.path.join(RAW_DATA_DIR, frame)\n",
    "        img = cv2.imread(img_path)\n",
    "        display_video.write(img)\n",
    "\n",
    "    display_video.release()"
   ]
  },
  {
   "cell_type": "code",
   "execution_count": 5,
   "id": "533a4ce8",
   "metadata": {},
   "outputs": [],
   "source": [
    "name = 'ScenicWorld'\n",
    "world = empty_world(name=name)\n",
    "\n",
    "obj1 = objects[0]\n",
    "obj2 = objects[1]\n",
    "cam = camera\n",
    "\n",
    "world = world.filter(\n",
    "    (obj1.id != obj2.id) &\n",
    "    (F.like(obj1.type, 'car') | F.like(obj1.type, 'truck')) &\n",
    "    (F.like(obj2.type, 'car') | F.like(obj2.type, 'truck')) &\n",
    "    F.angle_between(F.facing_relative(cam.ego, F.road_direction(cam.ego)), -15, 15) &\n",
    "    (F.distance(cam.ego, obj1.trans@cam.time) < 50) &\n",
    "    (F.view_angle(obj1.trans@cam.time, cam.ego) < 70 / 2.0) &\n",
    "    (F.distance(cam.ego, obj2.trans@cam.time) < 50) &\n",
    "    (F.view_angle(obj2.trans@cam.time, cam.ego) < 70 / 2.0) &\n",
    "    F.contains_all('intersection', [obj1.trans, obj2.trans]@cam.time) &\n",
    "    F.angle_between(F.facing_relative(obj1.trans@cam.time, cam.ego), 40, 135) &\n",
    "    F.angle_between(F.facing_relative(obj2.trans@cam.time, cam.ego), -135, -50) &\n",
    "    (F.min_distance(cam.ego, 'intersection') < 10) &\n",
    "    F.angle_between(F.facing_relative(obj1.trans@cam.time, obj2.trans@cam.time), 100, -100)\n",
    ")\n"
   ]
  },
  {
   "cell_type": "code",
   "execution_count": 6,
   "id": "d20af03c",
   "metadata": {},
   "outputs": [
    {
     "name": "stderr",
     "output_type": "stream",
     "text": [
      "YOLOv5 🚀 2023-4-10 Python-3.10.6 torch-2.0.0+cu117 CPU\n",
      "\n",
      "\u001b[31m\u001b[1mrequirements:\u001b[0m YOLOv5 requirement \"setuptools>=65.5.1\" not found, attempting AutoUpdate...\n",
      "Defaulting to user installation because normal site-packages is not writeable\n",
      "Requirement already satisfied: setuptools>=65.5.1 in /usr/local/lib/python3.10/dist-packages (67.6.1)\n",
      "\n",
      "\u001b[31m\u001b[1mrequirements:\u001b[0m 1 package updated per /home/yongming/apperception/weights/ultralytics_yolov5_master/requirements.txt\n",
      "\u001b[31m\u001b[1mrequirements:\u001b[0m ⚠️ \u001b[1mRestart runtime or rerun command for updates to take effect\u001b[0m\n",
      "\n",
      "YOLOv5 🚀 2023-4-10 Python-3.10.6 torch-2.0.0+cu117 CPU\n",
      "\n",
      "Fusing layers... \n",
      "YOLOv5s summary: 213 layers, 7225885 parameters, 0 gradients\n",
      "Adding AutoShape... \n"
     ]
    },
    {
     "name": "stdout",
     "output_type": "stream",
     "text": [
      "scene-0103-CAM_FRONT --------------------------------------------------------------------------------\n",
      "Stage:  InView\n"
     ]
    },
    {
     "name": "stderr",
     "output_type": "stream",
     "text": [
      "100%|█████████████████████████████████████████████████████████████████████████████████████████████████████████████████████████████████| 4/4 [00:05<00:00,  1.25s/it]\n"
     ]
    },
    {
     "name": "stdout",
     "output_type": "stream",
     "text": [
      "Stage:  DecodeFrame.ParallelDecodeFrame\n"
     ]
    },
    {
     "name": "stderr",
     "output_type": "stream",
     "text": [
      "ego_speed: 6.0648255646034395\n",
      "wrong car moving direction\n",
      "wrong car moving direction\n",
      "wrong car moving direction\n",
      "wrong car moving direction\n",
      "wrong car moving direction\n",
      "wrong car moving direction\n",
      "wrong car moving direction\n",
      "wrong car moving direction\n",
      "wrong car moving direction\n"
     ]
    },
    {
     "name": "stdout",
     "output_type": "stream",
     "text": [
      "Stage:  Detection2D.YoloDetection\n",
      "Stage:  Detection2D.ObjectTypeFilter\n",
      "Stage:  Detection3D.FromDetection2DAndRoad\n"
     ]
    },
    {
     "name": "stderr",
     "output_type": "stream",
     "text": [
      "wrong car moving direction\n",
      "wrong car moving direction\n",
      "wrong car moving direction\n",
      "wrong car moving direction\n",
      "wrong car moving direction\n",
      "wrong car moving direction\n",
      "wrong car moving direction\n",
      "wrong car moving direction\n",
      "wrong car moving direction\n",
      "wrong car moving direction\n",
      "wrong car moving direction\n",
      "wrong car moving direction\n",
      "wrong car moving direction\n",
      "wrong car moving direction\n",
      "wrong car moving direction\n",
      "wrong car moving direction\n",
      "wrong car moving direction\n",
      "wrong car moving direction\n",
      "wrong car moving direction\n",
      "wrong car moving direction\n",
      "wrong car moving direction\n",
      "wrong car moving direction\n",
      "wrong car moving direction\n",
      "wrong car moving direction\n",
      "wrong car moving direction\n",
      "wrong car moving direction\n",
      "wrong car moving direction\n",
      "wrong car moving direction\n",
      "wrong car moving direction\n",
      "wrong car moving direction\n",
      "wrong car moving direction\n",
      "wrong car moving direction\n",
      "wrong car moving direction\n",
      "wrong car moving direction\n",
      "wrong car moving direction\n",
      "wrong car moving direction\n",
      "wrong car moving direction\n",
      "wrong car moving direction\n",
      "wrong car moving direction\n",
      "wrong car moving direction\n",
      "wrong car moving direction\n",
      "wrong car moving direction\n",
      "wrong car moving direction\n",
      "wrong car moving direction\n",
      "wrong car moving direction\n",
      "wrong car moving direction\n",
      "wrong car moving direction\n",
      "wrong car moving direction\n",
      "wrong car moving direction\n",
      "wrong car moving direction\n",
      "wrong car moving direction\n",
      "wrong car moving direction\n",
      "wrong car moving direction\n",
      "wrong car moving direction\n",
      "wrong car moving direction\n",
      "wrong car moving direction\n",
      "wrong car moving direction\n",
      "wrong car moving direction\n",
      "wrong car moving direction\n",
      "wrong car moving direction\n",
      "wrong car moving direction\n",
      "wrong car moving direction\n",
      "wrong car moving direction\n",
      "wrong car moving direction\n",
      "wrong car moving direction\n",
      "wrong car moving direction\n",
      "wrong car moving direction\n",
      "wrong car moving direction\n",
      "wrong car moving direction\n",
      "wrong car moving direction\n",
      "wrong car moving direction\n",
      "wrong car moving direction\n",
      "wrong car moving direction\n",
      "wrong car moving direction\n",
      "wrong car moving direction\n",
      "wrong car moving direction\n",
      "wrong car moving direction\n",
      "wrong car moving direction\n",
      "wrong car moving direction\n",
      "wrong car moving direction\n",
      "wrong car moving direction\n",
      "wrong car moving direction\n",
      "wrong car moving direction\n",
      "wrong car moving direction\n",
      "wrong car moving direction\n",
      "wrong car moving direction\n",
      "wrong car moving direction\n",
      "wrong car moving direction\n",
      "wrong car moving direction\n",
      "wrong car moving direction\n",
      "wrong car moving direction\n",
      "wrong car moving direction\n",
      "wrong car moving direction\n",
      "wrong car moving direction\n",
      "wrong car moving direction\n",
      "wrong car moving direction\n",
      "wrong car moving direction\n",
      "wrong car moving direction\n",
      "wrong car moving direction\n",
      "wrong car moving direction\n",
      "wrong car moving direction\n",
      "wrong car moving direction\n",
      "{'meet_up': 5, 'car_exit_segment': 48, None: 59, 'ego_exit_segment': 48}\n"
     ]
    },
    {
     "name": "stdout",
     "output_type": "stream",
     "text": [
      "Stage:  DetectionEstimation\n",
      "scene-0103-CAM_FRONT_RIGHT --------------------------------------------------------------------------------\n",
      "Stage:  InView\n"
     ]
    },
    {
     "name": "stderr",
     "output_type": "stream",
     "text": [
      "100%|█████████████████████████████████████████████████████████████████████████████████████████████████████████████████████████████████| 4/4 [00:06<00:00,  1.60s/it]\n"
     ]
    },
    {
     "name": "stdout",
     "output_type": "stream",
     "text": [
      "Stage:  DecodeFrame.ParallelDecodeFrame\n"
     ]
    },
    {
     "name": "stderr",
     "output_type": "stream",
     "text": [
      "ego_speed: 6.092909866373019\n",
      "wrong car moving direction\n",
      "wrong car moving direction\n"
     ]
    },
    {
     "name": "stdout",
     "output_type": "stream",
     "text": [
      "Stage:  Detection2D.YoloDetection\n",
      "Stage:  Detection2D.ObjectTypeFilter\n",
      "Stage:  Detection3D.FromDetection2DAndRoad\n"
     ]
    },
    {
     "name": "stderr",
     "output_type": "stream",
     "text": [
      "wrong car moving direction\n",
      "wrong car moving direction\n",
      "wrong car moving direction\n",
      "wrong car moving direction\n",
      "wrong car moving direction\n",
      "wrong car moving direction\n",
      "wrong car moving direction\n",
      "wrong car moving direction\n",
      "wrong car moving direction\n",
      "wrong car moving direction\n",
      "wrong car moving direction\n",
      "wrong car moving direction\n",
      "wrong car moving direction\n",
      "wrong car moving direction\n",
      "wrong car moving direction\n",
      "wrong car moving direction\n",
      "wrong car moving direction\n",
      "wrong car moving direction\n",
      "wrong car moving direction\n",
      "wrong car moving direction\n",
      "wrong car moving direction\n",
      "wrong car moving direction\n",
      "wrong car moving direction\n",
      "wrong car moving direction\n",
      "wrong car moving direction\n",
      "wrong car moving direction\n",
      "wrong car moving direction\n",
      "wrong car moving direction\n",
      "wrong car moving direction\n",
      "wrong car moving direction\n",
      "wrong car moving direction\n",
      "wrong car moving direction\n",
      "wrong car moving direction\n",
      "wrong car moving direction\n",
      "wrong car moving direction\n",
      "wrong car moving direction\n",
      "wrong car moving direction\n",
      "wrong car moving direction\n",
      "wrong car moving direction\n",
      "wrong car moving direction\n",
      "wrong car moving direction\n",
      "wrong car moving direction\n",
      "wrong car moving direction\n",
      "wrong car moving direction\n",
      "wrong car moving direction\n",
      "wrong car moving direction\n",
      "wrong car moving direction\n",
      "{'meet_up': 2, None: 72, 'ego_exit_segment': 41, 'car_exit_segment': 20}\n"
     ]
    },
    {
     "name": "stdout",
     "output_type": "stream",
     "text": [
      "Stage:  DetectionEstimation\n",
      "scene-0103-CAM_FRONT_LEFT --------------------------------------------------------------------------------\n",
      "Stage:  InView\n"
     ]
    },
    {
     "name": "stderr",
     "output_type": "stream",
     "text": [
      "100%|█████████████████████████████████████████████████████████████████████████████████████████████████████████████████████████████████| 4/4 [00:05<00:00,  1.49s/it]\n"
     ]
    },
    {
     "name": "stdout",
     "output_type": "stream",
     "text": [
      "Stage:  DecodeFrame.ParallelDecodeFrame\n"
     ]
    },
    {
     "name": "stderr",
     "output_type": "stream",
     "text": [
      "ego_speed: 6.094964677772826\n",
      "wrong car moving direction\n"
     ]
    },
    {
     "name": "stdout",
     "output_type": "stream",
     "text": [
      "Stage:  Detection2D.YoloDetection\n",
      "Stage:  Detection2D.ObjectTypeFilter\n",
      "Stage:  Detection3D.FromDetection2DAndRoad\n"
     ]
    },
    {
     "name": "stderr",
     "output_type": "stream",
     "text": [
      "wrong car moving direction\n",
      "wrong car moving direction\n",
      "wrong car moving direction\n",
      "wrong car moving direction\n",
      "wrong car moving direction\n",
      "wrong car moving direction\n",
      "wrong car moving direction\n",
      "wrong car moving direction\n",
      "wrong car moving direction\n",
      "wrong car moving direction\n",
      "{None: 77, 'meet_up': 2, 'ego_exit_segment': 43, 'car_exit_segment': 28}\n"
     ]
    },
    {
     "name": "stdout",
     "output_type": "stream",
     "text": [
      "Stage:  DetectionEstimation\n",
      "scene-0553-CAM_FRONT --------------------------------------------------------------------------------\n",
      "Stage:  InView\n"
     ]
    },
    {
     "name": "stderr",
     "output_type": "stream",
     "text": [
      "100%|█████████████████████████████████████████████████████████████████████████████████████████████████████████████████████████████████| 4/4 [00:06<00:00,  1.51s/it]\n"
     ]
    },
    {
     "name": "stdout",
     "output_type": "stream",
     "text": [
      "Stage:  DecodeFrame.ParallelDecodeFrame\n"
     ]
    },
    {
     "name": "stderr",
     "output_type": "stream",
     "text": [
      "ego_speed: 6.724212129237288e-05\n"
     ]
    },
    {
     "name": "stdout",
     "output_type": "stream",
     "text": [
      "Stage:  Detection2D.YoloDetection\n",
      "Stage:  Detection2D.ObjectTypeFilter\n",
      "Stage:  Detection3D.FromDetection2DAndRoad\n",
      "Stage:  DetectionEstimation\n",
      "scene-0553-CAM_FRONT_RIGHT --------------------------------------------------------------------------------\n",
      "Stage:  InView\n"
     ]
    },
    {
     "name": "stderr",
     "output_type": "stream",
     "text": [
      "100%|█████████████████████████████████████████████████████████████████████████████████████████████████████████████████████████████████| 4/4 [00:05<00:00,  1.48s/it]\n"
     ]
    },
    {
     "name": "stdout",
     "output_type": "stream",
     "text": [
      "Stage:  DecodeFrame.ParallelDecodeFrame\n"
     ]
    },
    {
     "name": "stderr",
     "output_type": "stream",
     "text": [
      "ego_speed: 7.180555331805197e-05\n"
     ]
    },
    {
     "name": "stdout",
     "output_type": "stream",
     "text": [
      "Stage:  Detection2D.YoloDetection\n",
      "Stage:  Detection2D.ObjectTypeFilter\n",
      "Stage:  Detection3D.FromDetection2DAndRoad\n",
      "Stage:  DetectionEstimation\n",
      "scene-0553-CAM_FRONT_LEFT --------------------------------------------------------------------------------\n",
      "Stage:  InView\n"
     ]
    },
    {
     "name": "stderr",
     "output_type": "stream",
     "text": [
      "100%|█████████████████████████████████████████████████████████████████████████████████████████████████████████████████████████████████| 4/4 [00:05<00:00,  1.48s/it]\n"
     ]
    },
    {
     "name": "stdout",
     "output_type": "stream",
     "text": [
      "Stage:  DecodeFrame.ParallelDecodeFrame\n"
     ]
    },
    {
     "name": "stderr",
     "output_type": "stream",
     "text": [
      "ego_speed: 8.03553307750157e-05\n"
     ]
    },
    {
     "name": "stdout",
     "output_type": "stream",
     "text": [
      "Stage:  Detection2D.YoloDetection\n",
      "Stage:  Detection2D.ObjectTypeFilter\n",
      "Stage:  Detection3D.FromDetection2DAndRoad\n",
      "Stage:  DetectionEstimation\n",
      "scene-0655-CAM_FRONT --------------------------------------------------------------------------------\n",
      "Stage:  InView\n"
     ]
    },
    {
     "name": "stderr",
     "output_type": "stream",
     "text": [
      "100%|█████████████████████████████████████████████████████████████████████████████████████████████████████████████████████████████████| 4/4 [00:06<00:00,  1.58s/it]\n"
     ]
    },
    {
     "name": "stdout",
     "output_type": "stream",
     "text": [
      "Stage:  DecodeFrame.ParallelDecodeFrame\n"
     ]
    },
    {
     "name": "stderr",
     "output_type": "stream",
     "text": [
      "ego_speed: 8.223887668036209\n"
     ]
    },
    {
     "name": "stdout",
     "output_type": "stream",
     "text": [
      "Stage:  Detection2D.YoloDetection\n",
      "Stage:  Detection2D.ObjectTypeFilter\n",
      "Stage:  Detection3D.FromDetection2DAndRoad\n"
     ]
    },
    {
     "name": "stderr",
     "output_type": "stream",
     "text": [
      "{None: 48, 'ego_exit_segment': 50, 'meet_up': 2, 'car_exit_segment': 56}\n"
     ]
    },
    {
     "name": "stdout",
     "output_type": "stream",
     "text": [
      "Stage:  DetectionEstimation\n",
      "scene-0655-CAM_FRONT_RIGHT --------------------------------------------------------------------------------\n",
      "Stage:  InView\n"
     ]
    },
    {
     "name": "stderr",
     "output_type": "stream",
     "text": [
      "100%|█████████████████████████████████████████████████████████████████████████████████████████████████████████████████████████████████| 4/4 [00:05<00:00,  1.50s/it]\n"
     ]
    },
    {
     "name": "stdout",
     "output_type": "stream",
     "text": [
      "Stage:  DecodeFrame.ParallelDecodeFrame\n"
     ]
    },
    {
     "name": "stderr",
     "output_type": "stream",
     "text": [
      "ego_speed: 8.226933450800292\n"
     ]
    },
    {
     "name": "stdout",
     "output_type": "stream",
     "text": [
      "Stage:  Detection2D.YoloDetection\n",
      "Stage:  Detection2D.ObjectTypeFilter\n",
      "Stage:  Detection3D.FromDetection2DAndRoad\n"
     ]
    },
    {
     "name": "stderr",
     "output_type": "stream",
     "text": [
      "wrong car moving direction\n",
      "{None: 47, 'ego_exit_segment': 36, 'car_exit_segment': 54}\n"
     ]
    },
    {
     "name": "stdout",
     "output_type": "stream",
     "text": [
      "Stage:  DetectionEstimation\n",
      "scene-0655-CAM_FRONT_LEFT --------------------------------------------------------------------------------\n",
      "Stage:  InView\n"
     ]
    },
    {
     "name": "stderr",
     "output_type": "stream",
     "text": [
      "100%|█████████████████████████████████████████████████████████████████████████████████████████████████████████████████████████████████| 4/4 [00:06<00:00,  1.59s/it]\n"
     ]
    },
    {
     "name": "stdout",
     "output_type": "stream",
     "text": [
      "Stage:  DecodeFrame.ParallelDecodeFrame\n"
     ]
    },
    {
     "name": "stderr",
     "output_type": "stream",
     "text": [
      "ego_speed: 8.221518332662\n"
     ]
    },
    {
     "name": "stdout",
     "output_type": "stream",
     "text": [
      "Stage:  Detection2D.YoloDetection\n",
      "Stage:  Detection2D.ObjectTypeFilter\n",
      "Stage:  Detection3D.FromDetection2DAndRoad\n"
     ]
    },
    {
     "name": "stderr",
     "output_type": "stream",
     "text": [
      "wrong car moving direction\n",
      "wrong car moving direction\n",
      "wrong car moving direction\n",
      "wrong car moving direction\n",
      "wrong car moving direction\n",
      "wrong car moving direction\n",
      "wrong car moving direction\n",
      "wrong car moving direction\n",
      "wrong car moving direction\n",
      "{None: 66, 'car_exit_segment': 24, 'ego_exit_segment': 62, 'meet_up': 7}\n"
     ]
    },
    {
     "name": "stdout",
     "output_type": "stream",
     "text": [
      "Stage:  DetectionEstimation\n",
      "scene-0757-CAM_FRONT --------------------------------------------------------------------------------\n",
      "Stage:  InView\n"
     ]
    },
    {
     "name": "stderr",
     "output_type": "stream",
     "text": [
      "100%|█████████████████████████████████████████████████████████████████████████████████████████████████████████████████████████████████| 4/4 [00:05<00:00,  1.42s/it]\n"
     ]
    },
    {
     "name": "stdout",
     "output_type": "stream",
     "text": [
      "Stage:  DecodeFrame.ParallelDecodeFrame\n"
     ]
    },
    {
     "name": "stderr",
     "output_type": "stream",
     "text": [
      "ego_speed: 1.3581198756421884\n"
     ]
    },
    {
     "name": "stdout",
     "output_type": "stream",
     "text": [
      "Stage:  Detection2D.YoloDetection\n",
      "Stage:  Detection2D.ObjectTypeFilter\n",
      "Stage:  Detection3D.FromDetection2DAndRoad\n",
      "Stage:  DetectionEstimation\n",
      "scene-0757-CAM_FRONT_RIGHT --------------------------------------------------------------------------------\n",
      "Stage:  InView\n"
     ]
    },
    {
     "name": "stderr",
     "output_type": "stream",
     "text": [
      "100%|█████████████████████████████████████████████████████████████████████████████████████████████████████████████████████████████████| 4/4 [00:05<00:00,  1.44s/it]\n"
     ]
    },
    {
     "name": "stdout",
     "output_type": "stream",
     "text": [
      "Stage:  DecodeFrame.ParallelDecodeFrame\n"
     ]
    },
    {
     "name": "stderr",
     "output_type": "stream",
     "text": [
      "ego_speed: 1.3612201340929737\n"
     ]
    },
    {
     "name": "stdout",
     "output_type": "stream",
     "text": [
      "Stage:  Detection2D.YoloDetection\n",
      "Stage:  Detection2D.ObjectTypeFilter\n",
      "Stage:  Detection3D.FromDetection2DAndRoad\n",
      "Stage:  DetectionEstimation\n",
      "scene-0757-CAM_FRONT_LEFT --------------------------------------------------------------------------------\n",
      "Stage:  InView\n"
     ]
    },
    {
     "name": "stderr",
     "output_type": "stream",
     "text": [
      "100%|█████████████████████████████████████████████████████████████████████████████████████████████████████████████████████████████████| 4/4 [00:05<00:00,  1.48s/it]\n"
     ]
    },
    {
     "name": "stdout",
     "output_type": "stream",
     "text": [
      "Stage:  DecodeFrame.ParallelDecodeFrame\n"
     ]
    },
    {
     "name": "stderr",
     "output_type": "stream",
     "text": [
      "ego_speed: 1.3625935386439931\n"
     ]
    },
    {
     "name": "stdout",
     "output_type": "stream",
     "text": [
      "Stage:  Detection2D.YoloDetection\n",
      "Stage:  Detection2D.ObjectTypeFilter\n",
      "Stage:  Detection3D.FromDetection2DAndRoad\n",
      "Stage:  DetectionEstimation\n",
      "num_video:  12\n",
      "total preprocess time 598.3380670547485\n"
     ]
    }
   ],
   "source": [
    "preprocess(world, DATA_DIR, base=False, insert_traj=False)"
   ]
  },
  {
   "cell_type": "code",
   "execution_count": null,
   "id": "d7d62d0f",
   "metadata": {},
   "outputs": [],
   "source": [
    "optimized_query_start = time.time()\n",
    "id_time_camId_filename = world.get_id_time_camId_filename(2)\n",
    "print(f'optimized query time: {time.time()-optimized_query_start}')"
   ]
  },
  {
   "cell_type": "code",
   "execution_count": null,
   "id": "7830cdf7",
   "metadata": {},
   "outputs": [],
   "source": [
    "optimized_results = [e[4] for e in id_time_camId_filename]\n",
    "construct_video(optimized_results)"
   ]
  },
  {
   "cell_type": "code",
   "execution_count": null,
   "id": "9be10787",
   "metadata": {},
   "outputs": [],
   "source": [
    "preprocess(world, DATA_DIR, ['scene-0757-CAM_FRONT'])"
   ]
  },
  {
   "cell_type": "code",
   "execution_count": null,
   "id": "8ff5d512",
   "metadata": {},
   "outputs": [],
   "source": [
    "base_query_start = time.time()\n",
    "id_time_camId_filename_base = world.get_id_time_camId_filename(2)\n",
    "print(f'based query time: {time.time()-base_query_start}')"
   ]
  },
  {
   "cell_type": "code",
   "execution_count": null,
   "id": "1523b2b2",
   "metadata": {},
   "outputs": [],
   "source": [
    "id_time_camId_filename_base"
   ]
  },
  {
   "cell_type": "code",
   "execution_count": null,
   "id": "642b3c44",
   "metadata": {},
   "outputs": [],
   "source": [
    "base_results = [e[4] for e in id_time_camId_filename_base]\n",
    "construct_video(base_results, base=True)"
   ]
  },
  {
   "cell_type": "code",
   "execution_count": null,
   "id": "ee79569b",
   "metadata": {},
   "outputs": [],
   "source": [
    "false_negative = [f for f in base_results if f not in optimized_results]\n",
    "print(len(false_negative))\n",
    "construct_video(false_negative, vid_name=\"false_negative.avi\")"
   ]
  },
  {
   "cell_type": "code",
   "execution_count": null,
   "id": "c19be7d0",
   "metadata": {},
   "outputs": [],
   "source": [
    "false_positive = [f for f in optimized_results if f not in base_results]\n",
    "print(len(false_positive))\n",
    "construct_video(false_positive, vid_name=\"false_positive.avi\")"
   ]
  },
  {
   "cell_type": "code",
   "execution_count": null,
   "id": "f25d9bd3",
   "metadata": {},
   "outputs": [],
   "source": []
  },
  {
   "cell_type": "code",
   "execution_count": null,
   "id": "b75f6ab7",
   "metadata": {},
   "outputs": [],
   "source": []
  }
 ],
 "metadata": {
  "kernelspec": {
   "display_name": "Python 3 (ipykernel)",
   "language": "python",
   "name": "python3"
  },
  "language_info": {
   "codemirror_mode": {
    "name": "ipython",
    "version": 3
   },
   "file_extension": ".py",
   "mimetype": "text/x-python",
   "name": "python",
   "nbconvert_exporter": "python",
   "pygments_lexer": "ipython3",
   "version": "3.10.6"
  },
  "vscode": {
   "interpreter": {
    "hash": "31f2aee4e71d21fbe5cf8b01ff0e069b9275f58929596ceb00d14d90e3e16cd6"
   }
  }
 },
 "nbformat": 4,
 "nbformat_minor": 5
}
