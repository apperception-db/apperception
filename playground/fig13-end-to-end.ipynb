{
 "cells": [
  {
   "cell_type": "code",
   "execution_count": null,
   "id": "c5c9badc",
   "metadata": {
    "execution": {
     "iopub.execute_input": "2022-12-08T00:15:43.617706Z",
     "iopub.status.busy": "2022-12-08T00:15:43.616466Z",
     "iopub.status.idle": "2022-12-08T00:15:48.654505Z",
     "shell.execute_reply": "2022-12-08T00:15:48.653531Z"
    }
   },
   "outputs": [],
   "source": [
    "%cd ..\n",
    "import os\n",
    "import time"
   ]
  },
  {
   "cell_type": "code",
   "execution_count": null,
   "id": "152abe6c",
   "metadata": {},
   "outputs": [],
   "source": [
    "from apperception.database import database\n",
    "from apperception.world import empty_world\n",
    "from apperception.utils import F\n",
    "from apperception.predicate import camera, objects\n",
    "from optimized_ingestion.utils.preprocess import preprocess\n",
    "database.connection\n",
    "from optimized_ingestion.cache import disable_cache\n",
    "disable_cache()"
   ]
  },
  {
   "cell_type": "code",
   "execution_count": null,
   "id": "922e90e5",
   "metadata": {},
   "outputs": [],
   "source": [
    "NUSCENES_PROCESSED_DATA = \"NUSCENES_PROCESSED_DATA\"\n",
    "if NUSCENES_PROCESSED_DATA in os.environ:\n",
    "    DATA_DIR = os.environ[NUSCENES_PROCESSED_DATA]\n",
    "else:\n",
    "    DATA_DIR = \"/work/apperception/data/nuScenes/full-dataset-v1.0/Mini\"\n",
    "NUSCENES_RAW_DATA = \"NUSCENES_RAW_DATA\"\n",
    "if NUSCENES_RAW_DATA in os.environ:\n",
    "    RAW_DATA_DIR = os.environ[NUSCENES_RAW_DATA]\n",
    "else:\n",
    "    RAW_DATA_DIR = \"/work/apperception/data/raw/nuScenes/full-dataset-v1.0/Mini\""
   ]
  },
  {
   "cell_type": "code",
   "execution_count": null,
   "id": "574d9f46",
   "metadata": {},
   "outputs": [],
   "source": [
    "import cv2\n",
    "from os.path import exists\n",
    "def construct_video(frames, size=(1600, 900), base=False, vid_name=None, vid_prefix=False):\n",
    "    unique_frames = []\n",
    "    for f in frames:\n",
    "        if f not in unique_frames:\n",
    "            unique_frames.append(f)\n",
    "    fourcc = cv2.VideoWriter_fourcc(*'mp4v')\n",
    "    vid_name = \"./outputs/fig13_\"+vid_name if vid_name else f\"./outputs/{'fig13_base' if base else 'fig13_optimized'}.mp4\"\n",
    "    display_video = cv2.VideoWriter(vid_name,fourcc, 1, size)\n",
    "    for frame in unique_frames:\n",
    "        if vid_prefix:\n",
    "            img_path = os.path.join(RAW_DATA_DIR, 'sweeps/CAM_FRONT', frame)\n",
    "            if not exists(img_path):\n",
    "                img_path = os.path.join(RAW_DATA_DIR, 'samples/CAM_FRONT', frame)\n",
    "        else:\n",
    "            img_path = os.path.join(RAW_DATA_DIR, frame)\n",
    "        img = cv2.imread(img_path)\n",
    "        display_video.write(img)\n",
    "\n",
    "    display_video.release()"
   ]
  },
  {
   "cell_type": "code",
   "execution_count": null,
   "id": "533a4ce8",
   "metadata": {},
   "outputs": [],
   "source": [
    "name = 'ScenicWorld'\n",
    "world = empty_world(name=name)\n",
    "\n",
    "obj1 = objects[0]\n",
    "obj2 = objects[1]\n",
    "cam = camera\n",
    "\n",
    "# car_world = empty_world(name=name).filter(\n",
    "#     (F.like(obj1.type, 'car') | F.like(obj1.type, 'truck') | F.like(obj1.type, 'bus'))\n",
    "# )\n",
    "# world = world.filter(\n",
    "#     (obj1.id != obj2.id) &\n",
    "#     (F.like(obj1.type, 'car') | F.like(obj1.type, 'truck')) &\n",
    "#     (F.like(obj2.type, 'car') | F.like(obj2.type, 'truck')) &\n",
    "#     F.angle_between(F.facing_relative(cam.ego, F.road_direction(cam.ego)), -15, 15) &\n",
    "#     (F.distance(cam.ego, obj1.trans@cam.time) < 50) &\n",
    "#     (F.view_angle(obj1.trans@cam.time, cam.ego) < 70 / 2.0) &\n",
    "#     (F.distance(cam.ego, obj2.trans@cam.time) < 50) &\n",
    "#     (F.view_angle(obj2.trans@cam.time, cam.ego) < 70 / 2.0) &\n",
    "#     F.contains_all('intersection', [obj1.trans, obj2.trans]@cam.time) &\n",
    "#     F.angle_between(F.facing_relative(obj1.trans@cam.time, cam.ego), 40, 135) &\n",
    "#     F.angle_between(F.facing_relative(obj2.trans@cam.time, cam.ego), -135, -50) &\n",
    "#     (F.min_distance(cam.ego, 'intersection') < 10) &\n",
    "#     F.angle_between(F.facing_relative(obj1.trans@cam.time, obj2.trans@cam.time), 100, -100)\n",
    "# )\n",
    "world = world.filter(\n",
    "    (F.like(obj1.type, 'car') | F.like(obj1.type, 'truck')) &\n",
    "    F.angle_between(F.facing_relative(cam.ego, F.road_direction(cam.ego)), -15, 15) &\n",
    "    (F.distance(cam.ego, obj1.trans@cam.time) < 50) &\n",
    "    F.contains_all('intersection', [obj1.trans]@cam.time) &\n",
    "    F.angle_between(F.facing_relative(obj1.trans@cam.time, cam.ego), 135, 225) &\n",
    "    (F.min_distance(cam.ego, 'intersection') < 10)\n",
    ")\n"
   ]
  },
  {
   "cell_type": "code",
   "execution_count": null,
   "id": "d20af03c",
   "metadata": {},
   "outputs": [],
   "source": [
    "preprocess(world, DATA_DIR, ['scene-0655-CAM_FRONT'], base=False)"
   ]
  },
  {
   "cell_type": "code",
   "execution_count": null,
   "id": "44754d64",
   "metadata": {},
   "outputs": [],
   "source": [
    "import numpy as np\n",
    "investigation =[[2, 'car_exit_segment', ((577, 468), (632, 516))], [3, 'car_exit_segment', ((574, 468), (629, 517))], [4, None, None], [10, 'ego_exit_segment', None], [14, 'car_exit_segment', ((1, 433), (406, 629))], [15, 'car_exit_segment', ((505, 472), (582, 533))], [19, 'car_exit_segment', ((1, 429), (307, 653))], [22, 'car_exit_segment', ((471, 463), (560, 531))], [24, 'ego_exit_segment', None], [26, 'car_exit_segment', ((736, 474), (765, 497))], [27, 'car_exit_segment', ((745, 473), (796, 498))], [29, 'car_exit_segment', ((742, 473), (796, 498))], [30, 'car_exit_segment', ((735, 475), (769, 499))], [35, 'ego_exit_segment', None], [41, 'car_exit_segment', ((403, 465), (527, 552))], [46, 'car_exit_segment', ((321, 466), (481, 575))], [49, 'car_exit_segment', ((199, 462), (426, 597))], [53, 'car_exit_segment', ((44, 461), (360, 625))], [60, 'meet_up', ((2, 452), (264, 651))], [63, 'car_exit_segment', ((283, 474), (612, 663))], [116, 'car_exit_segment', ((674, 456), (735, 504))], [119, 'car_exit_segment', ((679, 454), (744, 502))], [120, None, None], [122, 'car_exit_segment', ((682, 450), (749, 502))], [123, 'car_exit_segment', ((683, 461), (750, 512))], [124, 'car_exit_segment', ((684, 468), (749, 516))], [125, 'car_exit_segment', ((686, 473), (750, 522))], [126, 'car_exit_segment', ((685, 472), (751, 522))], [127, 'car_exit_segment', ((686, 471), (751, 520))], [128, 'car_exit_segment', ((684, 462), (759, 514))], [129, 'car_exit_segment', ((682, 456), (759, 508))], [130, 'car_exit_segment', ((686, 451), (758, 506))], [131, 'car_exit_segment', ((687, 450), (761, 505))], [132, None, None], [133, None, None], [134, None, None], [135, None, None], [136, 'car_exit_segment', ((687, 470), (760, 527))], [137, 'car_exit_segment', ((685, 467), (763, 527))], [138, None, None], [139, 'car_exit_segment', ((3, 486), (259, 710))], [140, 'car_exit_segment', ((678, 474), (764, 539))], [141, 'car_exit_segment', ((673, 480), (759, 547))], [142, 'car_exit_segment', ((677, 487), (755, 550))], [144, 'car_exit_segment', ((670, 481), (755, 547))], [145, 'car_exit_segment', ((659, 466), (752, 537))], [146, None, None], [148, 'car_exit_segment', ((954, 475), (998, 499))], [149, None, None], [153, 'ego_exit_segment', None], [167, 'car_exit_segment', ((474, 439), (655, 560))], [169, 'car_exit_segment', ((456, 438), (652, 562))], [171, 'car_exit_segment', ((429, 436), (644, 566))], [172, 'car_exit_segment', ((393, 436), (630, 571))], [174, 'car_exit_segment', ((375, 435), (618, 575))], [176, 'car_exit_segment', ((353, 438), (610, 588))], [178, 'car_exit_segment', ((281, 431), (591, 606))], [179, 'car_exit_segment', ((229, 436), (566, 623))], [181, 'car_exit_segment', ((184, 436), (555, 630))], [182, 'ego_exit_segment', None], [184, 'car_exit_segment', ((70, 432), (530, 660))], [186, 'car_exit_segment', ((4, 421), (505, 685))], [187, 'car_exit_segment', ((1, 404), (444, 737))], [190, 'car_exit_segment', ((3, 396), (417, 759))], [195, 'ego_exit_segment', None], [212, 'car_exit_segment', ((728, 463), (785, 509))], [217, 'car_exit_segment', ((711, 452), (777, 508))], [222, 'car_exit_segment', ((682, 447), (766, 517))], [223, 'ego_exit_segment', None], [227, 'car_exit_segment', ((624, 453), (746, 550))], [228, None, None], [229, None, None], [230, None, None], [231, None, None], [232, None, None], [233, None, None], [234, None, None], [235, None, None], [236, None, None]]\n",
    "target_190 = [[2, 761, 471, 797, 497, 'lanegroup',\n",
    "           np.array([list(zip([681.3024786662291, 653.6754277216598, 733.4863798631264, 744.566365545458, 759.4397290738865, 810.2510673985199, 782.5420928392875, 681.3024786662291],\n",
    "                            [514.2797277097048, 513.9338490065937, 497.1219793070591, 494.7131174212107, 494.88841836279886, 495.4692971363944, 515.4405856056001, 514.2797277097048]))]).reshape(-1,1,2)]]\n",
    "\n",
    "target_207 = [[0, 728, 463, 785, 509, 'lanegroup',\n",
    "           np.array([list(zip([632.5673278607485, 595.0064038929324, 723.9896110386784, 739.2077568337414, 756.3507025947408, 814.9641409917908, 770.6435112678597, 632.5673278607485],\n",
    "                            [528.9128096702734, 528.3205624725372, 501.6543160656389, 498.422248120345, 498.66987355238507, 499.49252554956377, 530.8904272699301, 528.9128096702734]))]).reshape(-1,1,2)]]\n",
    "skipping_info_0655=[[0, 'car_exit_segment', ((577, 468), (632, 516))], [2, 'car_exit_segment', ((574, 468), (629, 517))], [3, None, None], [4, 'ego_exit_segment', None], [10, 'car_exit_segment', ((1, 433), (406, 629))], [14, 'car_exit_segment', ((505, 472), (582, 533))], [15, 'car_exit_segment', ((1, 429), (307, 653))], [19, 'car_exit_segment', ((471, 463), (560, 531))], [22, 'ego_exit_segment', None], [24, 'car_exit_segment', ((736, 474), (765, 497))], [26, 'car_exit_segment', ((745, 473), (796, 498))], [27, 'car_exit_segment', ((742, 473), (796, 498))], [29, 'car_exit_segment', ((735, 475), (769, 499))], [30, 'ego_exit_segment', None], [35, 'car_exit_segment', ((403, 465), (527, 552))], [41, 'car_exit_segment', ((321, 466), (481, 575))], [46, 'car_exit_segment', ((199, 462), (426, 597))], [49, 'car_exit_segment', ((44, 461), (360, 625))], [53, 'meet_up', ((2, 452), (264, 651))], [60, 'car_exit_segment', ((283, 474), (612, 663))], [112, 'car_exit_segment', ((674, 456), (735, 504))], [116, 'car_exit_segment', ((679, 454), (744, 502))], [119, None, None], [120, 'car_exit_segment', ((682, 450), (749, 502))], [122, 'car_exit_segment', ((683, 461), (750, 512))], [123, 'car_exit_segment', ((684, 468), (749, 516))], [124, 'car_exit_segment', ((686, 473), (750, 522))], [125, 'car_exit_segment', ((685, 472), (751, 522))], [126, 'car_exit_segment', ((686, 471), (751, 520))], [127, 'car_exit_segment', ((684, 462), (759, 514))], [128, 'car_exit_segment', ((682, 456), (759, 508))], [129, 'car_exit_segment', ((686, 451), (758, 506))], [130, 'car_exit_segment', ((687, 450), (761, 505))], [131, None, None], [132, None, None], [133, None, None], [134, None, None], [135, 'car_exit_segment', ((687, 470), (760, 527))], [136, 'car_exit_segment', ((685, 467), (763, 527))], [137, None, None], [138, 'car_exit_segment', ((3, 486), (259, 710))], [139, 'car_exit_segment', ((678, 474), (764, 539))], [140, 'car_exit_segment', ((673, 480), (759, 547))], [141, 'car_exit_segment', ((677, 487), (755, 550))], [142, 'car_exit_segment', ((670, 481), (755, 547))], [144, 'car_exit_segment', ((659, 466), (752, 537))], [145, None, None], [146, 'car_exit_segment', ((954, 475), (998, 499))], [148, None, None], [149, 'ego_exit_segment', None], [166, 'car_exit_segment', ((474, 439), (655, 560))], [167, 'car_exit_segment', ((456, 438), (652, 562))], [169, 'car_exit_segment', ((429, 436), (644, 566))], [171, 'car_exit_segment', ((393, 436), (630, 571))], [172, 'car_exit_segment', ((375, 435), (618, 575))], [174, 'car_exit_segment', ((353, 438), (610, 588))], [176, 'car_exit_segment', ((281, 431), (591, 606))], [178, 'car_exit_segment', ((229, 436), (566, 623))], [179, 'car_exit_segment', ((184, 436), (555, 630))], [181, 'ego_exit_segment', None], [182, 'car_exit_segment', ((70, 432), (530, 660))], [184, 'car_exit_segment', ((4, 421), (505, 685))], [186, 'car_exit_segment', ((1, 404), (444, 737))], [187, 'car_exit_segment', ((3, 396), (417, 759))], [190, 'ego_exit_segment', None], [207, 'car_exit_segment', ((728, 463), (785, 509))], [212, 'car_exit_segment', ((711, 452), (777, 508))], [217, 'car_exit_segment', ((682, 447), (766, 517))], [222, 'ego_exit_segment', None], [223, 'car_exit_segment', ((624, 453), (746, 550))], [227, None, None], [228, None, None], [229, None, None], [230, None, None], [231, None, None], [232, None, None], [233, None, None], [234, None, None], [235, None, None]]\n",
    "\n",
    "def investigation_skipping(video_filename, skipping_info):\n",
    "    fourcc = cv2.VideoWriter_fourcc(*'mp4v')\n",
    "    vid_name = f\"./outputs/{video_filename}_finalized.mp4\"\n",
    "    display_video = cv2.VideoWriter(vid_name, fourcc, 1, (1600, 900))\n",
    "    video_path = os.path.join(DATA_DIR, \"videos\", video_filename+'.mp4')\n",
    "    vidcap = cv2.VideoCapture(video_path)\n",
    "    frame_idx = 0\n",
    "    current_frame_num, current_action, current_target_bbox = skipping_info[0]\n",
    "    current_skipping_info_idx = 0\n",
    "    current_bbox_appearance = 0\n",
    "    while(vidcap.isOpened()):\n",
    "        success, image = vidcap.read()\n",
    "        if not success:\n",
    "            break\n",
    "        next_skipping_info_idx = current_skipping_info_idx + 1\n",
    "        if next_skipping_info_idx < len(skipping_info):\n",
    "            next_frame_num, next_action, next_target_bbox = skipping_info[next_skipping_info_idx]\n",
    "        if frame_idx in [192, 195, 198, 200, 212]:\n",
    "            f = cv2.putText(image, current_action, (50, 50),\n",
    "                                cv2.FONT_HERSHEY_SIMPLEX, 1, (255, 0, 0), 2, cv2.LINE_AA)\n",
    "            cv2.imwrite(f'./outputs/0655_frame_{frame_idx}.jpg', f)\n",
    "        if frame_idx == 207:\n",
    "            f = cv2.putText(image, current_action, (50, 50),\n",
    "                                cv2.FONT_HERSHEY_SIMPLEX, 1, (255, 0, 0), 2, cv2.LINE_AA)\n",
    "            for e in target_207:\n",
    "                did, x, y, x_w, y_h, t, pts1 = e\n",
    "                cv2.putText(f, 'Car A', (x-20, y_h+10), cv2.FONT_HERSHEY_SIMPLEX, 1, (0, 0, 255), 1, cv2.LINE_AA)\n",
    "                cv2.putText(f, t, (x, y), cv2.FONT_HERSHEY_SIMPLEX, 1, (0, 0, 255), 1, cv2.LINE_AA)\n",
    "                cv2.rectangle(f, (x,y), (x_w, y_h), (0,255,0), 2)\n",
    "                cv2.polylines(f, np.int32([pts1]), isClosed=True, color=(255,0,0), thickness = 2)\n",
    "            cv2.imwrite('./outputs/0655_frame_207_skipping_investigation_new.jpg', f)\n",
    "        if frame_idx == 190:\n",
    "            f = cv2.putText(image, current_action, (50, 50),\n",
    "                                cv2.FONT_HERSHEY_SIMPLEX, 1, (255, 0, 0), 2, cv2.LINE_AA)\n",
    "            for e in target_190:\n",
    "                did, x, y, x_w, y_h, t, pts1 = e\n",
    "                cv2.putText(f, 'Car A', (x-20, y_h+10), cv2.FONT_HERSHEY_SIMPLEX, 1, (0, 0, 255), 1, cv2.LINE_AA)\n",
    "                cv2.putText(f, t, (x, y), cv2.FONT_HERSHEY_SIMPLEX, 1, (0, 0, 255), 1, cv2.LINE_AA)\n",
    "                cv2.rectangle(f, (x,y), (x_w, y_h), (0,255,0), 2)\n",
    "                cv2.polylines(f, np.int32([pts1]), isClosed=True, color=(255,0,0), thickness = 2)\n",
    "            cv2.imwrite('./outputs/0655_frame_190_skipping_investigation_new.jpg', f)\n",
    "        if frame_idx < next_frame_num:\n",
    "            \n",
    "            if current_action:\n",
    "                image = cv2.putText(image, current_action, (50, 50),\n",
    "                                    cv2.FONT_HERSHEY_SIMPLEX, 1, (255, 0, 0), 2, cv2.LINE_AA)\n",
    "            if current_target_bbox and current_bbox_appearance == 0:\n",
    "                x, y = current_target_bbox[0]\n",
    "                x_w, y_h = current_target_bbox[1]\n",
    "                cv2.rectangle(image, (x, y), (x_w, y_h), (0,255,0), 4)\n",
    "                current_bbox_appearance += 1\n",
    "        \n",
    "        display_video.write(image)\n",
    "        frame_idx += 1\n",
    "        if frame_idx == next_frame_num:\n",
    "            current_skipping_info_idx = next_skipping_info_idx\n",
    "            current_action = next_action\n",
    "            current_target_bbox = next_target_bbox\n",
    "            current_bbox_appearance = 0\n",
    "    display_video.release()\n",
    "investigation_skipping('boston-seaport-scene-0655-CAM_FRONT', skipping_info_0655)"
   ]
  },
  {
   "cell_type": "code",
   "execution_count": null,
   "id": "d7d62d0f",
   "metadata": {},
   "outputs": [],
   "source": [
    "optimized_query_start = time.time()\n",
    "id_time_camId_filename = world.get_id_time_camId_filename(1)\n",
    "print(f'optimized query time: {time.time()-optimized_query_start}')"
   ]
  },
  {
   "cell_type": "code",
   "execution_count": null,
   "id": "7830cdf7",
   "metadata": {},
   "outputs": [],
   "source": [
    "optimized_results = [e[3] for e in id_time_camId_filename]\n",
    "construct_video(optimized_results, vid_name=\"modified.mp4\")"
   ]
  },
  {
   "cell_type": "code",
   "execution_count": null,
   "id": "9be10787",
   "metadata": {},
   "outputs": [],
   "source": [
    "preprocess(world, DATA_DIR, ['scene-0757-CAM_FRONT'])"
   ]
  },
  {
   "cell_type": "code",
   "execution_count": null,
   "id": "8ff5d512",
   "metadata": {},
   "outputs": [],
   "source": [
    "base_query_start = time.time()\n",
    "id_time_camId_filename_base = world.get_id_time_camId_filename(2)\n",
    "print(f'based query time: {time.time()-base_query_start}')"
   ]
  },
  {
   "cell_type": "code",
   "execution_count": null,
   "id": "1523b2b2",
   "metadata": {},
   "outputs": [],
   "source": [
    "id_time_camId_filename_base"
   ]
  },
  {
   "cell_type": "code",
   "execution_count": null,
   "id": "642b3c44",
   "metadata": {},
   "outputs": [],
   "source": [
    "base_results = [e[4] for e in id_time_camId_filename_base]\n",
    "construct_video(base_results, base=True)"
   ]
  },
  {
   "cell_type": "code",
   "execution_count": null,
   "id": "ee79569b",
   "metadata": {},
   "outputs": [],
   "source": [
    "false_negative = [f for f in base_results if f not in optimized_results]\n",
    "print(len(false_negative))\n",
    "construct_video(false_negative, vid_name=\"false_negative.avi\")"
   ]
  },
  {
   "cell_type": "code",
   "execution_count": null,
   "id": "c19be7d0",
   "metadata": {},
   "outputs": [],
   "source": [
    "false_positive = [f for f in optimized_results if f not in base_results]\n",
    "print(len(false_positive))\n",
    "construct_video(false_positive, vid_name=\"false_positive.avi\")"
   ]
  },
  {
   "cell_type": "code",
   "execution_count": null,
   "id": "f25d9bd3",
   "metadata": {},
   "outputs": [],
   "source": []
  },
  {
   "cell_type": "code",
   "execution_count": null,
   "id": "b75f6ab7",
   "metadata": {},
   "outputs": [],
   "source": []
  }
 ],
 "metadata": {
  "kernelspec": {
   "display_name": "Python 3 (ipykernel)",
   "language": "python",
   "name": "python3"
  },
  "language_info": {
   "codemirror_mode": {
    "name": "ipython",
    "version": 3
   },
   "file_extension": ".py",
   "mimetype": "text/x-python",
   "name": "python",
   "nbconvert_exporter": "python",
   "pygments_lexer": "ipython3",
   "version": "3.10.12"
  },
  "vscode": {
   "interpreter": {
    "hash": "31f2aee4e71d21fbe5cf8b01ff0e069b9275f58929596ceb00d14d90e3e16cd6"
   }
  }
 },
 "nbformat": 4,
 "nbformat_minor": 5
}
