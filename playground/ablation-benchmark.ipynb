{
 "cells": [
  {
   "cell_type": "code",
   "execution_count": null,
   "id": "0a1a67f9-c160-434d-97b3-bd8d3326458c",
   "metadata": {
    "tags": []
   },
   "outputs": [],
   "source": [
    "import json\n",
    "import subprocess\n",
    "import os\n",
    "\n",
    "import altair as alt\n",
    "import pandas as pd\n",
    "from tqdm.notebook import tqdm"
   ]
  },
  {
   "cell_type": "code",
   "execution_count": null,
   "id": "0ed1d6f8-a7ef-4aaa-b6c0-8632c938f59c",
   "metadata": {
    "tags": []
   },
   "outputs": [],
   "source": [
    "# alt.data_transformers.enable('csv')\n",
    "alt.data_transformers.disable_max_rows()"
   ]
  },
  {
   "cell_type": "code",
   "execution_count": null,
   "id": "758defe1-2f25-4be2-b207-b22ee660d9ca",
   "metadata": {
    "tags": []
   },
   "outputs": [],
   "source": [
    "ips = [\n",
    "    \"34.121.51.252\",\n",
    "    \"34.27.25.196\",\n",
    "    \"35.239.96.48\",\n",
    "    \"34.70.74.250\",\n",
    "    \"34.170.237.183\",\n",
    "    \"34.69.129.190\",\n",
    "    \"35.223.243.136\",\n",
    "]"
   ]
  },
  {
   "cell_type": "code",
   "execution_count": null,
   "id": "a00c8011-ff15-438a-9a7e-5a2131862d4e",
   "metadata": {
    "tags": []
   },
   "outputs": [],
   "source": [
    "# for ip in tqdm(ips):\n",
    "#     process = subprocess.Popen(f'scp -o StrictHostKeyChecking=no -o UserKnownHostsFile=/dev/null chanwutk@{ip}:\"/home/chanwutk/code/apperception/outputs/*\" ../outputs/', shell=True)\n",
    "#     process.wait()"
   ]
  },
  {
   "cell_type": "code",
   "execution_count": null,
   "id": "a177af2f-2193-46c5-ac99-3b1387e7ee15",
   "metadata": {
    "tags": []
   },
   "outputs": [],
   "source": [
    "DATA_DIR = '../outputs'"
   ]
  },
  {
   "cell_type": "code",
   "execution_count": null,
   "id": "810c9b80-9a8e-4e35-9d56-98c8f0146115",
   "metadata": {
    "tags": []
   },
   "outputs": [],
   "source": [
    "failed_videos = {}\n",
    "for f in os.listdir(DATA_DIR):\n",
    "    if not f.startswith('failed_videos'): continue\n",
    "\n",
    "    with open(os.path.join(DATA_DIR, f), 'r') as _f:\n",
    "        content = json.load(_f)\n",
    "\n",
    "    name = f[len('failed_videos--'):-len('.json')]\n",
    "    failed_videos[name] = []\n",
    "    for v_name, err in content:\n",
    "        failed_videos[name].append(v_name)"
   ]
  },
  {
   "cell_type": "code",
   "execution_count": null,
   "id": "aaa4dd81-0e2e-45d8-9995-871cd444f93a",
   "metadata": {
    "tags": []
   },
   "outputs": [],
   "source": [
    "stage_order = [\n",
    "    'InView', 'DecodeFrame', 'Detection2D.YoloDetection', 'Detection2D.ObjectTypeFilter',\n",
    "    'DepthEstimation', 'Detection3D.FromDetection2DAndDepth', 'Detection3D.FromDetection2DAndRoad',\n",
    "    'DetectionEstimation', 'Tracking2D.StrongSORT', 'Tracking3D.FromTracking2DAndDepth',\n",
    "    'Tracking3D.FromTracking2DAndRoad', 'SegmentTrajectory.FromTracking3D'\n",
    "]\n",
    "\n",
    "test_names = {\n",
    "    'de': 'Only Detection Estimation',\n",
    "    'noopt': 'Baseline',\n",
    "    'inview': 'Only In-View',\n",
    "    'geo': 'Only Geo Depth Estimation',\n",
    "    'objectfilter': 'Only Object Filter',\n",
    "    'opt': 'Optimized',\n",
    "    'optde': 'Optimized with Detection Estimation'\n",
    "}\n",
    "\n",
    "test_order = [\n",
    "    'noopt',\n",
    "    'inview',\n",
    "    'objectfilter',\n",
    "    'geo',\n",
    "    'de',\n",
    "    'opt',\n",
    "    'optde'\n",
    "]"
   ]
  },
  {
   "cell_type": "code",
   "execution_count": null,
   "id": "a77d81f9-0bc8-4ba4-878b-2db0f2218b38",
   "metadata": {
    "tags": []
   },
   "outputs": [],
   "source": [
    "def combine_perf():\n",
    "    data = []\n",
    "    for filename in os.listdir(DATA_DIR):\n",
    "        if filename.startswith('perf'):\n",
    "            test, run = filename.split(\"--\")[1].split(\".\")[0].split(\"_\")\n",
    "            with open(os.path.join(DATA_DIR, filename), 'r') as f:\n",
    "                for stage in json.load(f):\n",
    "                    stagename = stage['stage']\n",
    "                    for b in stage['benchmark']:\n",
    "                        after, before = b['keep']\n",
    "                        assert after <= before\n",
    "                        skip = (1. - (after / before)) if before != 0 else 0\n",
    "                        data.append({\n",
    "                            **b,\n",
    "                            'stage': stagename,\n",
    "                            '_test': test,\n",
    "                            'test': test_names[test],\n",
    "                            'test_order': test_order.index(test),\n",
    "                            'run': run,\n",
    "                            'name': b['name'].split('/')[-1].split('.')[0],\n",
    "                            'skip': skip,\n",
    "                            'stage_order': stage_order.index(stagename)\n",
    "                        })\n",
    "    return data\n",
    "\n",
    "\n",
    "perf = combine_perf()"
   ]
  },
  {
   "cell_type": "code",
   "execution_count": null,
   "id": "2ed7434b-f1c2-45e6-ae17-bce6c5397645",
   "metadata": {
    "tags": []
   },
   "outputs": [],
   "source": [
    "# with open('./output/perf.json', 'w') as f:\n",
    "#     json.dump([p for p in perf if p['run'] == \"0\"], f, indent=1)"
   ]
  },
  {
   "cell_type": "code",
   "execution_count": null,
   "id": "69a5b67c-5da6-46f0-a733-7d08e736e9cd",
   "metadata": {
    "tags": []
   },
   "outputs": [],
   "source": [
    "len([p for p in perf if p['run'] == \"0\"])"
   ]
  },
  {
   "cell_type": "code",
   "execution_count": null,
   "id": "abb81632-00d9-4ad6-a943-f07e17ba5e35",
   "metadata": {
    "tags": []
   },
   "outputs": [],
   "source": [
    "perf[0]"
   ]
  },
  {
   "cell_type": "code",
   "execution_count": null,
   "id": "e90c37c4-bfd4-4919-adab-86157be08a5d",
   "metadata": {
    "tags": []
   },
   "outputs": [],
   "source": [
    "failed_videos"
   ]
  },
  {
   "cell_type": "code",
   "execution_count": null,
   "id": "e5b72aa0-9829-4bbc-94ca-22f554c8b04a",
   "metadata": {
    "tags": []
   },
   "outputs": [],
   "source": [
    "df_perf = pd.DataFrame.from_dict(perf)\n",
    "# df_perf = df_perf[df_perf['run'] == \"0\"]\n",
    "df_perf[:20]"
   ]
  },
  {
   "cell_type": "code",
   "execution_count": null,
   "id": "17d0a7af-f015-4957-ba45-4abceb67f84c",
   "metadata": {
    "tags": []
   },
   "outputs": [],
   "source": [
    "df_perf.groupby(['test', 'stage']).count()"
   ]
  },
  {
   "cell_type": "code",
   "execution_count": null,
   "id": "535fdf05-8bff-469c-b4ef-17ed5a561de2",
   "metadata": {
    "tags": []
   },
   "outputs": [],
   "source": [
    "(alt.Chart(df_perf)\n",
    "    .mark_bar()\n",
    "    .encode(\n",
    "        x='average(runtime)',\n",
    "        y=alt.Y('test:O', sort=alt.Sort({'field': 'test_order'})),\n",
    "        color=alt.Color('stage:N', sort=stage_order),\n",
    "        order=alt.Order('order:O')\n",
    "    )\n",
    "    .properties(height=300, width=800)\n",
    ")"
   ]
  },
  {
   "cell_type": "code",
   "execution_count": null,
   "id": "493f6417-356e-454b-8af8-a506ef59bff8",
   "metadata": {
    "tags": []
   },
   "outputs": [],
   "source": [
    "df = df_perf[(df_perf.stage == 'DetectionEstimation') | (df_perf.stage == 'Tracking2D.StrongSORT')]\n",
    "df_noopt = df[df._test == 'noopt']\n",
    "df_de = df[df._test == 'de']\n",
    "df_opt = df[df._test == 'opt']\n",
    "df_optde = df[df._test == 'optde']"
   ]
  },
  {
   "cell_type": "code",
   "execution_count": null,
   "id": "256d1398-4777-44a4-9ee0-d00371785556",
   "metadata": {
    "tags": []
   },
   "outputs": [],
   "source": [
    "len(df_noopt), len(df_de[df_de.run == '0'])"
   ]
  },
  {
   "cell_type": "code",
   "execution_count": null,
   "id": "7f9a3ccb-e17c-498a-bc0a-2193cd3d6432",
   "metadata": {
    "tags": []
   },
   "outputs": [],
   "source": [
    "df_baseline = (df_noopt[df_noopt.stage == 'Tracking2D.StrongSORT'].set_index(['name', 'run'])\n",
    "    .join(df_de[df_de.stage == 'Tracking2D.StrongSORT'].set_index(['name', 'run']), lsuffix=\"_noOpt\", rsuffix=\"_de\", how='inner')\n",
    "    # .set_index(['name', 'run'])\n",
    "    .join(df_de[df_de.stage == 'DetectionEstimation'].set_index(['name', 'run']), lsuffix=\"_SS\", rsuffix=\"_DE\", how='inner')\n",
    ")[['runtime_noOpt', 'keep_noOpt', 'stage_noOpt', 'runtime_de', 'keep_de', 'stage_de', 'runtime', 'keep', 'stage']]\n",
    "df_baseline"
   ]
  },
  {
   "cell_type": "code",
   "execution_count": null,
   "id": "3b3150c8-a64a-4a38-8df8-55f84308f5b4",
   "metadata": {},
   "outputs": [],
   "source": [
    "def _(x):\n",
    "    return pd.Series(\n",
    "        [x.runtime_noOpt, x.keep_noOpt[1], x.runtime, x.runtime_de, x.keep[0], x.run],\n",
    "        index=['runtime_before', 'frames_before', 'runtime_ss_after', 'runtime_de_after', 'frames_after', 'run']\n",
    "    )\n",
    "\n",
    "\n",
    "df_baseline_ = df_baseline.reset_index().apply(_, axis=1)\n",
    "df_baseline_"
   ]
  },
  {
   "cell_type": "code",
   "execution_count": null,
   "id": "bc85cbc0-a787-461b-b27a-db4aa6afd0fe",
   "metadata": {
    "tags": []
   },
   "outputs": [],
   "source": [
    "(alt.Chart(\n",
    "        df_baseline_,\n",
    "        title=\"Runtime Reduction vs Frame Skip Rate\"\n",
    "    )\n",
    "    .mark_point()\n",
    "    .transform_calculate(\n",
    "        'runtime_reduction',\n",
    "        calculate='1 - (datum.runtime_ss_after + datum.runtime_de_after) / datum.runtime_before'\n",
    "    )\n",
    "    .transform_calculate(\n",
    "        'frames_reduction',\n",
    "        calculate='1 - datum.frames_after / datum.frames_before'\n",
    "    )\n",
    "    .transform_filter('datum.run === \"0\"')\n",
    "    .encode(\n",
    "        x=alt.X('frames_reduction:Q', title='Frame Skip Rate'),\n",
    "        y=alt.Y('runtime_reduction:Q', title='Runtime Reduction'),\n",
    "    )\n",
    ")"
   ]
  },
  {
   "cell_type": "code",
   "execution_count": null,
   "id": "60ce4f79-266f-48c3-a67b-977f8f37facd",
   "metadata": {},
   "outputs": [],
   "source": [
    "(alt.Chart(\n",
    "        df_baseline_,\n",
    "        title=\"Runtime Reduction vs Detection Estimation Runtime\"\n",
    "    )\n",
    "    .mark_point()\n",
    "    .transform_calculate(\n",
    "        'runtime_reduction',\n",
    "        calculate='1 - (datum.runtime_ss_after + datum.runtime_de_after) / datum.runtime_before'\n",
    "    )\n",
    "    .transform_filter('datum.run === \"0\"')\n",
    "    .encode(\n",
    "        x=alt.X('runtime_de_after:Q', title='Detection Estimation Runtime'),\n",
    "        y=alt.Y('runtime_reduction:Q', title='Runtime Reduction'),\n",
    "    )\n",
    ")"
   ]
  },
  {
   "cell_type": "code",
   "execution_count": null,
   "id": "52ebdf50-a34a-4014-bf07-f4d1b1629661",
   "metadata": {
    "tags": []
   },
   "outputs": [],
   "source": [
    "(alt.Chart(\n",
    "        df_baseline_,\n",
    "        title=\"Frame Skip Rate vs Detection Estimation Runtime\"\n",
    "    )\n",
    "    .mark_point()\n",
    "    .transform_calculate(\n",
    "        'frames_reduction',\n",
    "        calculate='1 - datum.frames_after / datum.frames_before'\n",
    "    )\n",
    "    .transform_filter('datum.run === \"0\"')\n",
    "    .encode(\n",
    "        x=alt.X('runtime_de_after:Q', title='Detection Estimation Runtime'),\n",
    "        y=alt.Y('frames_reduction:Q', title='Frame Skip Rate'),\n",
    "    )\n",
    ")"
   ]
  },
  {
   "cell_type": "code",
   "execution_count": null,
   "id": "d9ea38e6",
   "metadata": {},
   "outputs": [],
   "source": [
    "alt.Chart(\n",
    "    df_baseline_,\n",
    "    title='Cumulative Frequency Distribution of Detection Estimation\\'s skip ratio'\n",
    ").transform_calculate(\n",
    "    'skip_ratio',\n",
    "    calculate='1 - (datum.frames_after / datum.frames_before)'\n",
    ").transform_window(\n",
    "    ECDF=\"cume_dist()\",\n",
    "    sort=[{\"field\": \"skip_ratio\"}],\n",
    ").mark_line().encode(\n",
    "    x=alt.X(\"skip_ratio:Q\", title='Frame Skip Ratio'),\n",
    "    y=\"ECDF:Q\"\n",
    ").properties(width=700)"
   ]
  },
  {
   "cell_type": "code",
   "execution_count": null,
   "id": "2cb2cfe9",
   "metadata": {},
   "outputs": [],
   "source": [
    "alt.Chart(\n",
    "    df_baseline_,\n",
    "    title='Cumulative Frequency Distribution of Runtime Reduction (%)'\n",
    ").transform_calculate(\n",
    "    'runtime_reduction',\n",
    "    calculate='100*(1 - ((datum.runtime_ss_after + datum.runtime_de_after) / datum.runtime_before))'\n",
    ").transform_window(\n",
    "    ECDF=\"cume_dist()\",\n",
    "    sort=[{\"field\": \"runtime_reduction\"}],\n",
    ").mark_line().encode(\n",
    "    x=alt.X(\"runtime_reduction:Q\", title='Runtime Reduction (%)'),\n",
    "    y=\"ECDF:Q\"\n",
    ").properties(width=700)"
   ]
  }
 ],
 "metadata": {
  "kernelspec": {
   "display_name": "Python 3 (ipykernel)",
   "language": "python",
   "name": "python3"
  },
  "language_info": {
   "codemirror_mode": {
    "name": "ipython",
    "version": 3
   },
   "file_extension": ".py",
   "mimetype": "text/x-python",
   "name": "python",
   "nbconvert_exporter": "python",
   "pygments_lexer": "ipython3",
   "version": "3.10.10"
  }
 },
 "nbformat": 4,
 "nbformat_minor": 5
}
