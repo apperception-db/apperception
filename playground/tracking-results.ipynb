{
 "cells": [
  {
   "cell_type": "code",
   "execution_count": 1,
   "id": "6f63a0a4",
   "metadata": {
    "execution": {
     "iopub.execute_input": "2022-12-07T20:57:26.124175Z",
     "iopub.status.busy": "2022-12-07T20:57:26.123441Z",
     "iopub.status.idle": "2022-12-07T20:57:31.010468Z",
     "shell.execute_reply": "2022-12-07T20:57:31.009584Z"
    }
   },
   "outputs": [
    {
     "name": "stdout",
     "output_type": "stream",
     "text": [
      "/Users/chanwutk/Documents/optimized-ingestion\n"
     ]
    }
   ],
   "source": [
    "%cd .."
   ]
  },
  {
   "cell_type": "code",
   "execution_count": 2,
   "id": "6c0676a8",
   "metadata": {},
   "outputs": [
    {
     "name": "stderr",
     "output_type": "stream",
     "text": [
      "/Users/chanwutk/.installs/mambaforge/envs/apperception/lib/python3.10/site-packages/tqdm/auto.py:22: TqdmWarning: IProgress not found. Please update jupyter and ipywidgets. See https://ipywidgets.readthedocs.io/en/stable/user_install.html\n",
      "  from .autonotebook import tqdm as notebook_tqdm\n",
      "YOLOv5 🚀 2023-1-11 Python-3.10.8 torch-1.13.1 CPU\n",
      "\n",
      "Using cache found in /Users/chanwutk/Documents/optimized-ingestion/weights/ultralytics_yolov5_master\n"
     ]
    },
    {
     "name": "stdout",
     "output_type": "stream",
     "text": [
      "Using cpu\n"
     ]
    },
    {
     "name": "stderr",
     "output_type": "stream",
     "text": [
      "YOLOv5 🚀 2023-1-11 Python-3.10.8 torch-1.13.1 CPU\n",
      "\n",
      "Fusing layers... \n",
      "YOLOv5s summary: 213 layers, 7225885 parameters, 0 gradients\n",
      "Adding AutoShape... \n"
     ]
    }
   ],
   "source": [
    "import json\n",
    "import os\n",
    "import pickle\n",
    "\n",
    "from optimized_ingestion.camera_config import camera_config\n",
    "from optimized_ingestion.payload import Payload\n",
    "from optimized_ingestion.pipeline import Pipeline\n",
    "from optimized_ingestion.stages.decode_frame.parallel_decode_frame import ParallelDecodeFrame\n",
    "from optimized_ingestion.stages.decode_frame.decode_frame import DecodeFrame\n",
    "from optimized_ingestion.stages.detection_2d.yolo_detection import YoloDetection\n",
    "from optimized_ingestion.stages.detection_3d.from_2d_and_road import From2DAndRoad as FromD2DAndRoad\n",
    "from optimized_ingestion.stages.filter_car_facing_sideway import FilterCarFacingSideway\n",
    "from optimized_ingestion.stages.detection_estimation import DetectionEstimation\n",
    "from optimized_ingestion.stages.tracking_2d.strongsort import StrongSORT\n",
    "from optimized_ingestion.stages.tracking_2d.tracking_2d import Tracking2D, Tracking2DResult\n",
    "from optimized_ingestion.stages.tracking_3d.from_2d_and_road import From2DAndRoad\n",
    "from optimized_ingestion.stages.tracking_3d.tracking_3d import Tracking3DResult\n",
    "from optimized_ingestion.stages.segment_trajectory import SegmentTrajectory\n",
    "from optimized_ingestion.video import Video\n",
    "from optimized_ingestion.video_skipped import VideoSkipped"
   ]
  },
  {
   "cell_type": "code",
   "execution_count": 3,
   "id": "59907886",
   "metadata": {
    "execution": {
     "iopub.execute_input": "2022-12-07T20:57:31.015935Z",
     "iopub.status.busy": "2022-12-07T20:57:31.015521Z",
     "iopub.status.idle": "2022-12-07T20:57:31.019398Z",
     "shell.execute_reply": "2022-12-07T20:57:31.018612Z"
    }
   },
   "outputs": [],
   "source": [
    "# from optimized_ingestion.cache import disable_cache\n",
    "# disable_cache()"
   ]
  },
  {
   "cell_type": "code",
   "execution_count": 4,
   "id": "229308b3",
   "metadata": {
    "execution": {
     "iopub.execute_input": "2022-12-07T20:57:31.022886Z",
     "iopub.status.busy": "2022-12-07T20:57:31.022266Z",
     "iopub.status.idle": "2022-12-07T20:57:31.039286Z",
     "shell.execute_reply": "2022-12-07T20:57:31.038315Z"
    }
   },
   "outputs": [],
   "source": [
    "BOSTON_VIDEOS = [\n",
    "#     \"scene-0757-CAM_FRONT\",\n",
    "    # \"scene-0103-CAM_FRONT\",\n",
    "    # \"scene-0553-CAM_FRONT\",\n",
    "    # \"scene-0665-CAM_FRONT\",\n",
    "#     \"scene-0655-CAM_FRONT_RIGHT\",\n",
    "    \"scene-0655-CAM_BACK_RIGHT\",\n",
    "]\n",
    "\n",
    "NUSCENES_PROCESSED_DATA = \"NUSCENES_PROCESSED_DATA\""
   ]
  },
  {
   "cell_type": "code",
   "execution_count": 5,
   "id": "08ed7cce",
   "metadata": {},
   "outputs": [],
   "source": [
    "import torch"
   ]
  },
  {
   "cell_type": "code",
   "execution_count": 6,
   "id": "440a39c7",
   "metadata": {
    "execution": {
     "iopub.execute_input": "2022-12-07T20:57:31.043573Z",
     "iopub.status.busy": "2022-12-07T20:57:31.042785Z",
     "iopub.status.idle": "2022-12-07T20:57:31.060228Z",
     "shell.execute_reply": "2022-12-07T20:57:31.059269Z"
    }
   },
   "outputs": [],
   "source": [
    "class DataclassJSONEncoder(json.JSONEncoder):\n",
    "    def default(self, o):\n",
    "        if isinstance(o, Tracking3DResult):\n",
    "            return {\n",
    "                \"frame_idx\": o.frame_idx,\n",
    "                \"detection_id\": o.detection_id,\n",
    "                \"object_id\": o.object_id,\n",
    "                \"point_from_camera\": o.point_from_camera,\n",
    "                \"point\": o.point.tolist(),\n",
    "                \"bbox_left\": o.bbox_left,\n",
    "                \"bbox_top\": o.bbox_top,\n",
    "                \"bbox_w\": o.bbox_w,\n",
    "                \"bbox_h\": o.bbox_h,\n",
    "                \"object_type\": o.object_type,\n",
    "                \"timestamp\": str(o.timestamp),\n",
    "            }\n",
    "        if isinstance(o, Tracking2DResult):\n",
    "            return {\n",
    "                \"detection_id\": o.detection_id,\n",
    "                \"frame_idx\": o.frame_idx,\n",
    "                \"object_id\": o.object_id,\n",
    "                \"bbox_left\": o.bbox_left,\n",
    "                \"bbox_top\": o.bbox_top,\n",
    "                \"bbox_w\": o.bbox_w,\n",
    "                \"bbox_h\": o.bbox_h,\n",
    "                \"object_type\": o.object_type,\n",
    "                \"confidence\": o.confidence\n",
    "            }\n",
    "        if isinstance(o, torch.Tensor):\n",
    "            return o.tolist()\n",
    "        return super().default(o)"
   ]
  },
  {
   "cell_type": "code",
   "execution_count": 7,
   "id": "355b8977",
   "metadata": {},
   "outputs": [
    {
     "name": "stdout",
     "output_type": "stream",
     "text": [
      "True\n",
      "/Users/chanwutk/Documents/data/nuscenes-mini\n"
     ]
    }
   ],
   "source": [
    "print(NUSCENES_PROCESSED_DATA in os.environ)\n",
    "print(os.environ['NUSCENES_PROCESSED_DATA'])"
   ]
  },
  {
   "cell_type": "code",
   "execution_count": 8,
   "id": "00c1dd1e",
   "metadata": {},
   "outputs": [],
   "source": [
    "if NUSCENES_PROCESSED_DATA in os.environ:\n",
    "    DATA_DIR = os.environ[NUSCENES_PROCESSED_DATA]\n",
    "else:\n",
    "    DATA_DIR = \"/work/apperception/data/nuScenes/full-dataset-v1.0/Mini\"\n",
    "with open(os.path.join(DATA_DIR, \"videos/boston-seaport\", \"frames-skip.pickle\"), \"rb\") as f:\n",
    "    videos = pickle.load(f)"
   ]
  },
  {
   "cell_type": "code",
   "execution_count": null,
   "id": "6c883701",
   "metadata": {
    "scrolled": true
   },
   "outputs": [
    {
     "name": "stderr",
     "output_type": "stream",
     "text": [
      "YOLOv5 🚀 2023-1-11 Python-3.10.8 torch-1.13.1 CPU\n",
      "\n",
      "Downloading: \"https://github.com/ultralytics/yolov5/zipball/master\" to /Users/chanwutk/Documents/weights/master.zip\n",
      "YOLOv5 🚀 2023-1-11 Python-3.10.8 torch-1.13.1 CPU\n",
      "\n",
      "Fusing layers... \n",
      "YOLOv5s summary: 213 layers, 7225885 parameters, 0 gradients\n",
      "Adding AutoShape... \n"
     ]
    },
    {
     "name": "stdout",
     "output_type": "stream",
     "text": [
      "Stage:  DecodeFrame.ParallelDecodeFrame\n"
     ]
    },
    {
     "name": "stderr",
     "output_type": "stream",
     "text": [
      "100%|███████████████████████████████████████████████████████████████████████████████████| 16/16 [00:18<00:00,  1.18s/it]\n"
     ]
    },
    {
     "name": "stdout",
     "output_type": "stream",
     "text": [
      "None\n",
      "389\n",
      "  filtered frames: 59.383033419023135%\n",
      "K.KK.K.KK.K.KK.K.KK.K.KK.K.KK.K.KK.K.KK.K.KK.K.KK.K.KK.K.KK.K.KK.K.KK.K.KK.K.KK.K.KK.K.KK.K.KK.K.KK.\n",
      "K.KK.K.KK.K.KK.K.KK.K.KK.K.KK.K.KK.K.KK.K.KK.K.KK.K.KK.K.KK.K.KK.K.KK.K.K..K.KK.K.KK.K.KK.K.KK.K.KK.\n",
      "K.KK.K.KK.K.KK.K.KK.K.KK.K.KK.K.KK.K.KK.K.KK.K.KK.K.KK.K..K.K.KK.K.KK.K.KK.K.KK.K.KK.K.KK.K.KK.K.KK.\n",
      "K.KK.K.KK.K.KK.K.KK.K.KK.K.KK.K.KK.K.KK.K.KK.K.K..K.KK.K.KK.K.KK.K.KK.K.KK.K.KK.K.KK.K.KK\n",
      "Stage:  Detection2D.YoloDetection\n"
     ]
    },
    {
     "name": "stderr",
     "output_type": "stream",
     "text": [
      "100%|█████████████████████████████████████████████████████████████████████████████████| 389/389 [00:27<00:00, 14.32it/s]\n"
     ]
    },
    {
     "name": "stdout",
     "output_type": "stream",
     "text": [
      "None\n",
      "389\n",
      "  filtered frames: 59.383033419023135%\n",
      "K.KK.K.KK.K.KK.K.KK.K.KK.K.KK.K.KK.K.KK.K.KK.K.KK.K.KK.K.KK.K.KK.K.KK.K.KK.K.KK.K.KK.K.KK.K.KK.K.KK.\n",
      "K.KK.K.KK.K.KK.K.KK.K.KK.K.KK.K.KK.K.KK.K.KK.K.KK.K.KK.K.KK.K.KK.K.KK.K.K..K.KK.K.KK.K.KK.K.KK.K.KK.\n",
      "K.KK.K.KK.K.KK.K.KK.K.KK.K.KK.K.KK.K.KK.K.KK.K.KK.K.KK.K..K.K.KK.K.KK.K.KK.K.KK.K.KK.K.KK.K.KK.K.KK.\n",
      "K.KK.K.KK.K.KK.K.KK.K.KK.K.KK.K.KK.K.KK.K.KK.K.K..K.KK.K.KK.K.KK.K.KK.K.KK.K.KK.K.KK.K.KK\n",
      "Stage:  DecodeFrame.ParallelDecodeFrame\n"
     ]
    },
    {
     "name": "stderr",
     "output_type": "stream",
     "text": [
      "100%|███████████████████████████████████████████████████████████████████████████████████| 16/16 [00:14<00:00,  1.14it/s]\n"
     ]
    },
    {
     "name": "stdout",
     "output_type": "stream",
     "text": [
      "None\n",
      "389\n",
      "  filtered frames: 58.868894601542415%\n",
      "K.KK.K.KK.K.KK.K.KK.K.KK.K.KK.K.KK.K.KK.K.KK.K.KK.K.KK.K.KK.K.KK.K.KK.K.KK.K.KK.K.KK...KK.K.KK.K.KK.\n",
      "K.KK.K.KK.K.KK.K.KK.K.KK.K.KK.K.KK.K.KK.K.KK.K.KK.K.KK.K.KK.K.KK.K.KK.K.KK.K.KK.K.KK.K.KK.K.KK.K.KK.\n",
      "K.KK.K.KK.K.K..K.KK.K.KK.K.KK.K.KK.K.KK.K.KK.K.KK.K.KK.K.KK.K.KK.K.KK.K.KK.K.K..K.KK.K.KK.K.KK.K.KK.\n",
      "K.KK.K.KK.K.KK.K.KK.K.KK.K.KK.K.KK.K.KK.K.K..K.KK.K.KK.K.KK.K.KK...KK.K.KK.K.KK.K.KK.K.KK\n",
      "Stage:  Detection2D.YoloDetection\n"
     ]
    },
    {
     "name": "stderr",
     "output_type": "stream",
     "text": [
      "100%|█████████████████████████████████████████████████████████████████████████████████| 389/389 [00:28<00:00, 13.70it/s]\n"
     ]
    },
    {
     "name": "stdout",
     "output_type": "stream",
     "text": [
      "None\n",
      "389\n",
      "  filtered frames: 58.868894601542415%\n",
      "K.KK.K.KK.K.KK.K.KK.K.KK.K.KK.K.KK.K.KK.K.KK.K.KK.K.KK.K.KK.K.KK.K.KK.K.KK.K.KK.K.KK...KK.K.KK.K.KK.\n",
      "K.KK.K.KK.K.KK.K.KK.K.KK.K.KK.K.KK.K.KK.K.KK.K.KK.K.KK.K.KK.K.KK.K.KK.K.KK.K.KK.K.KK.K.KK.K.KK.K.KK.\n",
      "K.KK.K.KK.K.K..K.KK.K.KK.K.KK.K.KK.K.KK.K.KK.K.KK.K.KK.K.KK.K.KK.K.KK.K.KK.K.K..K.KK.K.KK.K.KK.K.KK.\n",
      "K.KK.K.KK.K.KK.K.KK.K.KK.K.KK.K.KK.K.KK.K.K..K.KK.K.KK.K.KK.K.KK...KK.K.KK.K.KK.K.KK.K.KK\n",
      "Stage:  DecodeFrame.ParallelDecodeFrame\n"
     ]
    },
    {
     "name": "stderr",
     "output_type": "stream",
     "text": [
      "100%|███████████████████████████████████████████████████████████████████████████████████| 16/16 [00:14<00:00,  1.11it/s]\n"
     ]
    },
    {
     "name": "stdout",
     "output_type": "stream",
     "text": [
      "None\n",
      "389\n",
      "  filtered frames: 59.897172236503856%\n",
      "K.KK.K.KK.K.KK.K.KK.K.KK.K.KK.K.KK.K.KK.K.KK.K.KK.K.KK.K.KK.K.KK.K.KK.K.KK.K.KK.K.KK.K.KK.K.KK.K.KK.\n",
      "K.KK.K.KK.K.KK.K.KK.K.KK.K.KK.K.KK.K.KK.K.KK...KK.K.KK.K.KK.K.KK.K.KK.K.KK.K.KK.K.KK.K.KK.K.KK.K.KK.\n",
      "K.KK.K.KK.K.KK.K.KK.K.KK.K.KK.K.KK.K.KK.K.KK.K.KK.K.KK.K.KK.K.KK.K.KK.K.KK.K.KK.K.KK.K.KK.K.KK.K.KK.\n",
      "K.KK.K.KK.K.KK.K.KK.K.KK.K.KK.K.KK.K.KK.K.KK.K.KK.K.KK.K.KK.K.KK.K.KK.K.KK.K.KK.K.KK.K.KK\n",
      "Stage:  Detection2D.YoloDetection\n"
     ]
    },
    {
     "name": "stderr",
     "output_type": "stream",
     "text": [
      "100%|█████████████████████████████████████████████████████████████████████████████████| 389/389 [00:27<00:00, 14.02it/s]\n"
     ]
    },
    {
     "name": "stdout",
     "output_type": "stream",
     "text": [
      "None\n",
      "389\n",
      "  filtered frames: 59.897172236503856%\n",
      "K.KK.K.KK.K.KK.K.KK.K.KK.K.KK.K.KK.K.KK.K.KK.K.KK.K.KK.K.KK.K.KK.K.KK.K.KK.K.KK.K.KK.K.KK.K.KK.K.KK.\n",
      "K.KK.K.KK.K.KK.K.KK.K.KK.K.KK.K.KK.K.KK.K.KK...KK.K.KK.K.KK.K.KK.K.KK.K.KK.K.KK.K.KK.K.KK.K.KK.K.KK.\n",
      "K.KK.K.KK.K.KK.K.KK.K.KK.K.KK.K.KK.K.KK.K.KK.K.KK.K.KK.K.KK.K.KK.K.KK.K.KK.K.KK.K.KK.K.KK.K.KK.K.KK.\n",
      "K.KK.K.KK.K.KK.K.KK.K.KK.K.KK.K.KK.K.KK.K.KK.K.KK.K.KK.K.KK.K.KK.K.KK.K.KK.K.KK.K.KK.K.KK\n",
      "Stage:  DecodeFrame.ParallelDecodeFrame\n"
     ]
    },
    {
     "name": "stderr",
     "output_type": "stream",
     "text": [
      "100%|███████████████████████████████████████████████████████████████████████████████████| 16/16 [00:13<00:00,  1.15it/s]\n"
     ]
    },
    {
     "name": "stdout",
     "output_type": "stream",
     "text": [
      "None\n",
      "389\n",
      "  filtered frames: 60.15424164524421%\n",
      "K.KK.K.KK.K.KK.K.KK.K.KK.K.KK.K.KK.K.KK.K.KK.K.KK.K.KK.K.KK.K.KK.K.KK.K.KK.K.KK.K.KK.K.KK.K.KK.K.KK.\n",
      "K.KK.K.KK.K.KK.K.KK.K.KK.K.KK.K.KK.K.KK.K.KK.K.KK.K.KK.K.KK.K.KK.K.KK.K.KK.K.KK.K.KK.K.KK.K.KK.K.KK.\n",
      "K.KK.K.KK.K.KK.K.KK.K.KK.K.KK.K.KK.K.KK.K.KK.K.KK.K.KK.K.KK.K.KK.K.KK.K.KK.K.KK.K.KK.K.KK.K.KK.K.KK.\n",
      "K.KK.K.KK.K.KK.K.KK.K.KK.K.KK.K.KK.K.KK.K.KK.K.KK.K.KK.K.KK.K.KK.K.KK.K.KK.K.KK.K.KK.K.KK\n",
      "Stage:  Detection2D.YoloDetection\n"
     ]
    },
    {
     "name": "stderr",
     "output_type": "stream",
     "text": [
      "100%|█████████████████████████████████████████████████████████████████████████████████| 389/389 [00:25<00:00, 15.25it/s]\n"
     ]
    },
    {
     "name": "stdout",
     "output_type": "stream",
     "text": [
      "None\n",
      "389\n",
      "  filtered frames: 60.15424164524421%\n",
      "K.KK.K.KK.K.KK.K.KK.K.KK.K.KK.K.KK.K.KK.K.KK.K.KK.K.KK.K.KK.K.KK.K.KK.K.KK.K.KK.K.KK.K.KK.K.KK.K.KK.\n",
      "K.KK.K.KK.K.KK.K.KK.K.KK.K.KK.K.KK.K.KK.K.KK.K.KK.K.KK.K.KK.K.KK.K.KK.K.KK.K.KK.K.KK.K.KK.K.KK.K.KK.\n",
      "K.KK.K.KK.K.KK.K.KK.K.KK.K.KK.K.KK.K.KK.K.KK.K.KK.K.KK.K.KK.K.KK.K.KK.K.KK.K.KK.K.KK.K.KK.K.KK.K.KK.\n",
      "K.KK.K.KK.K.KK.K.KK.K.KK.K.KK.K.KK.K.KK.K.KK.K.KK.K.KK.K.KK.K.KK.K.KK.K.KK.K.KK.K.KK.K.KK\n",
      "Stage:  DecodeFrame.ParallelDecodeFrame\n"
     ]
    },
    {
     "name": "stderr",
     "output_type": "stream",
     "text": [
      "100%|███████████████████████████████████████████████████████████████████████████████████| 16/16 [00:12<00:00,  1.33it/s]\n"
     ]
    },
    {
     "name": "stdout",
     "output_type": "stream",
     "text": [
      "None\n",
      "389\n",
      "  filtered frames: 58.868894601542415%\n",
      "K.KK.K.KK.K.KK.K.KK.K.KK.K.KK.K.KK.K.KK.K.KK.K.KK.K.KK.K.KK.K.KK.K.KK.K.KK.K.KK.K.KK.K.KK.K.KK.K.KK.\n",
      "K.KK.K.KK.K.KK.K.KK.K.KK.K.KK.K.KK.K.KK.K.KK.K.KK.K.KK.K.KK.K.KK.K.KK.K.KK.K.KK.K.KK.K.KK.K.KK.K.KK.\n",
      "K..K.K..K.K.KK.K.KK.K.KK.K.KK.K.KK.K.KK.K.KK...KK.K.KK.K.KK.K.KK.K.KK.K.KK.K.KK.K.KK.K..K.K.KK.K.KK.\n",
      "K.KK.K.KK.K.KK.K.KK.K.KK.K.KK.K.KK.K.KK.K.KK.K.KK.K.KK.K.KK.K.KK.K.KK.K.KK.K.KK.K.KK.K..K\n",
      "Stage:  Detection2D.YoloDetection\n"
     ]
    },
    {
     "name": "stderr",
     "output_type": "stream",
     "text": [
      "100%|█████████████████████████████████████████████████████████████████████████████████| 389/389 [00:23<00:00, 16.60it/s]\n"
     ]
    },
    {
     "name": "stdout",
     "output_type": "stream",
     "text": [
      "None\n",
      "389\n",
      "  filtered frames: 58.868894601542415%\n",
      "K.KK.K.KK.K.KK.K.KK.K.KK.K.KK.K.KK.K.KK.K.KK.K.KK.K.KK.K.KK.K.KK.K.KK.K.KK.K.KK.K.KK.K.KK.K.KK.K.KK.\n",
      "K.KK.K.KK.K.KK.K.KK.K.KK.K.KK.K.KK.K.KK.K.KK.K.KK.K.KK.K.KK.K.KK.K.KK.K.KK.K.KK.K.KK.K.KK.K.KK.K.KK.\n",
      "K..K.K..K.K.KK.K.KK.K.KK.K.KK.K.KK.K.KK.K.KK...KK.K.KK.K.KK.K.KK.K.KK.K.KK.K.KK.K.KK.K..K.K.KK.K.KK.\n",
      "K.KK.K.KK.K.KK.K.KK.K.KK.K.KK.K.KK.K.KK.K.KK.K.KK.K.KK.K.KK.K.KK.K.KK.K.KK.K.KK.K.KK.K..K\n",
      "Stage:  DecodeFrame.ParallelDecodeFrame\n"
     ]
    },
    {
     "name": "stderr",
     "output_type": "stream",
     "text": [
      "100%|███████████████████████████████████████████████████████████████████████████████████| 16/16 [00:11<00:00,  1.42it/s]\n"
     ]
    },
    {
     "name": "stdout",
     "output_type": "stream",
     "text": [
      "None\n",
      "389\n",
      "  filtered frames: 58.61182519280206%\n",
      "K.KK.K.KK.K.KK.K..K.K.KK.K.KK.K.KK.K.KK.K.KK.K.KK.K.KK.K.KK.K.KK.K.KK.K.KK.K.KK.K.KK.K.KK.K.KK.K.KK.\n",
      "K.KK.K.KK.K.KK.K..K.K.KK.K.KK.K.KK.K.KK.K.KK.K.KK.K.KK.K.KK.K.KK.K.KK.K.KK.K.KK.K.KK.K.KK.K.KK.K.KK.\n",
      "K.KK.K.KK.K.KK.K.KK.K.KK.K.KK.K.KK.K.KK.K.KK.K.KK.K.KK.K.KK.K.KK.K.KK...KK.K.KK.K.KK.K.KK.K.KK.K.KK.\n",
      "K.KK.K.KK.K.KK.K.KK.K.KK.K.KK.K.KK.K.KK.K.KK.K..K.K.KK.K.KK.K.KK.K.KK.K.KK.K.KK...KK.K..K\n",
      "Stage:  Detection2D.YoloDetection\n"
     ]
    },
    {
     "name": "stderr",
     "output_type": "stream",
     "text": [
      "100%|█████████████████████████████████████████████████████████████████████████████████| 389/389 [00:22<00:00, 17.65it/s]\n"
     ]
    },
    {
     "name": "stdout",
     "output_type": "stream",
     "text": [
      "None\n",
      "389\n",
      "  filtered frames: 58.61182519280206%\n",
      "K.KK.K.KK.K.KK.K..K.K.KK.K.KK.K.KK.K.KK.K.KK.K.KK.K.KK.K.KK.K.KK.K.KK.K.KK.K.KK.K.KK.K.KK.K.KK.K.KK.\n",
      "K.KK.K.KK.K.KK.K..K.K.KK.K.KK.K.KK.K.KK.K.KK.K.KK.K.KK.K.KK.K.KK.K.KK.K.KK.K.KK.K.KK.K.KK.K.KK.K.KK.\n",
      "K.KK.K.KK.K.KK.K.KK.K.KK.K.KK.K.KK.K.KK.K.KK.K.KK.K.KK.K.KK.K.KK.K.KK...KK.K.KK.K.KK.K.KK.K.KK.K.KK.\n",
      "K.KK.K.KK.K.KK.K.KK.K.KK.K.KK.K.KK.K.KK.K.KK.K..K.K.KK.K.KK.K.KK.K.KK.K.KK.K.KK...KK.K..K\n",
      "Stage:  DecodeFrame.ParallelDecodeFrame\n"
     ]
    },
    {
     "name": "stderr",
     "output_type": "stream",
     "text": [
      "100%|███████████████████████████████████████████████████████████████████████████████████| 16/16 [00:11<00:00,  1.45it/s]\n"
     ]
    },
    {
     "name": "stdout",
     "output_type": "stream",
     "text": [
      "None\n",
      "399\n",
      "  filtered frames: 59.899749373433586%\n",
      "K.KK.K.KK.K.KK.K.KK.K.KK.K.KK.K.KK.K.KK.K.KK.K.KK.K.KK.K.KK.K.KK.K.KK.K.KK.K.KK.K.KK.K.KK.K.KK.K.KK.\n",
      "K.KK.K.KK.K.KK.K.KK.K.KK.K.KK.K.KK.K.KK.K.KK.K.KK.K.KK.K.KK.K.KK.K.KK.K.KK.K.KK.K.KK.K.KK.K.KK.K.KK.\n",
      "K.KK.K.KK.K.KK.K.KK.K.KK.K.KK.K.KK.K.KK.K.KK.K.KK.K.KK.K.KK.K.KK.K.KK.K.KK.K.KK.K.KK.K.KK.K.KK.K.KK.\n",
      "K.KK.K.KK.K.KK.K.KK.K.KK.K.KK.K.KK.K.KK.K.KK.K.K..K.KK.K.KK.K.KK.K.KK.K.KK.K.KK.K.KK.K.KK.K.KK.K.KK\n",
      "Stage:  Detection2D.YoloDetection\n"
     ]
    },
    {
     "name": "stderr",
     "output_type": "stream",
     "text": [
      "100%|█████████████████████████████████████████████████████████████████████████████████| 399/399 [00:22<00:00, 17.54it/s]\n"
     ]
    },
    {
     "name": "stdout",
     "output_type": "stream",
     "text": [
      "None\n",
      "399\n",
      "  filtered frames: 59.899749373433586%\n",
      "K.KK.K.KK.K.KK.K.KK.K.KK.K.KK.K.KK.K.KK.K.KK.K.KK.K.KK.K.KK.K.KK.K.KK.K.KK.K.KK.K.KK.K.KK.K.KK.K.KK.\n",
      "K.KK.K.KK.K.KK.K.KK.K.KK.K.KK.K.KK.K.KK.K.KK.K.KK.K.KK.K.KK.K.KK.K.KK.K.KK.K.KK.K.KK.K.KK.K.KK.K.KK.\n",
      "K.KK.K.KK.K.KK.K.KK.K.KK.K.KK.K.KK.K.KK.K.KK.K.KK.K.KK.K.KK.K.KK.K.KK.K.KK.K.KK.K.KK.K.KK.K.KK.K.KK.\n",
      "K.KK.K.KK.K.KK.K.KK.K.KK.K.KK.K.KK.K.KK.K.KK.K.K..K.KK.K.KK.K.KK.K.KK.K.KK.K.KK.K.KK.K.KK.K.KK.K.KK\n",
      "Stage:  DecodeFrame.ParallelDecodeFrame\n"
     ]
    },
    {
     "name": "stderr",
     "output_type": "stream",
     "text": [
      "100%|███████████████████████████████████████████████████████████████████████████████████| 16/16 [00:09<00:00,  1.67it/s]\n"
     ]
    },
    {
     "name": "stdout",
     "output_type": "stream",
     "text": [
      "None\n",
      "399\n",
      "  filtered frames: 59.3984962406015%\n",
      "K.KK.K.KK.K.KK.K.KK.K.KK.K.KK.K.KK.K.KK.K.KK.K.KK.K.KK.K.KK.K.KK.K.KK.K.KK.K.KK.K.KK.K.KK.K.KK.K.KK.\n",
      "K.KK.K.KK.K.KK.K.KK.K.KK.K.KK.K.KK.K.KK.K..K.K.KK.K.KK.K.KK.K.KK.K.KK.K.KK.K.KK.K.KK.K.KK.K.KK.K.KK.\n",
      "K.KK.K.KK.K.KK.K.KK.K.KK.K.KK.K.KK.K.KK.K.KK.K.KK.K.KK.K.KK.K.KK.K.KK.K.KK.K.KK.K.KK.K.KK.K.KK.K.KK.\n",
      "K.KK.K.K..K..K.K.KK.K.KK.K.KK.K.KK.K.KK.K.KK.K.KK.K.KK.K.KK.K.KK.K.KK.K.KK.K.KK.K.KK.K.KK.K.KK.K.KK\n",
      "Stage:  Detection2D.YoloDetection\n"
     ]
    },
    {
     "name": "stderr",
     "output_type": "stream",
     "text": [
      "100%|█████████████████████████████████████████████████████████████████████████████████| 399/399 [00:22<00:00, 17.59it/s]\n"
     ]
    },
    {
     "name": "stdout",
     "output_type": "stream",
     "text": [
      "None\n",
      "399\n",
      "  filtered frames: 59.3984962406015%\n",
      "K.KK.K.KK.K.KK.K.KK.K.KK.K.KK.K.KK.K.KK.K.KK.K.KK.K.KK.K.KK.K.KK.K.KK.K.KK.K.KK.K.KK.K.KK.K.KK.K.KK.\n",
      "K.KK.K.KK.K.KK.K.KK.K.KK.K.KK.K.KK.K.KK.K..K.K.KK.K.KK.K.KK.K.KK.K.KK.K.KK.K.KK.K.KK.K.KK.K.KK.K.KK.\n",
      "K.KK.K.KK.K.KK.K.KK.K.KK.K.KK.K.KK.K.KK.K.KK.K.KK.K.KK.K.KK.K.KK.K.KK.K.KK.K.KK.K.KK.K.KK.K.KK.K.KK.\n",
      "K.KK.K.K..K..K.K.KK.K.KK.K.KK.K.KK.K.KK.K.KK.K.KK.K.KK.K.KK.K.KK.K.KK.K.KK.K.KK.K.KK.K.KK.K.KK.K.KK\n",
      "Stage:  DecodeFrame.ParallelDecodeFrame\n"
     ]
    },
    {
     "name": "stderr",
     "output_type": "stream",
     "text": [
      "100%|███████████████████████████████████████████████████████████████████████████████████| 16/16 [00:09<00:00,  1.62it/s]\n"
     ]
    },
    {
     "name": "stdout",
     "output_type": "stream",
     "text": [
      "None\n",
      "399\n",
      "  filtered frames: 59.899749373433586%\n",
      "K.KK.K.KK.K.KK.K.KK.K.KK.K.KK.K.KK.K.KK.K.KK.K.KK.K.KK.K.KK.K.KK.K.KK.K.KK.K.KK.K.KK.K.KK.K.KK.K.KK.\n",
      "K.KK.K.KK.K.KK.K.KK.K.KK.K.KK.K.KK.K.KK.K.KK.K.KK.K.KK.K.KK.K.KK.K.KK.K.KK.K.KK.K.KK.K.KK.K.KK.K.KK.\n",
      "K.KK.K.KK.K.KK.K.KK.K.KK.K.KK.K.KK.K.KK.K.KK.K.KK.K.KK.K.KK.K.KK.K.KK.K.KK.K.KK.K.KK.K.KK.K.KK.K.KK.\n",
      "K.KK.K.KK.K.KK.K.KK.K.KK.K.KK.K.KK.K.KK.K.KK.K.KK.K.KK.K.KK.K.KK.K.KK.K.KK.K.KK.K.K..K.KK.K.KK.K.KK\n",
      "Stage:  Detection2D.YoloDetection\n"
     ]
    },
    {
     "name": "stderr",
     "output_type": "stream",
     "text": [
      "100%|█████████████████████████████████████████████████████████████████████████████████| 399/399 [00:26<00:00, 15.11it/s]\n"
     ]
    },
    {
     "name": "stdout",
     "output_type": "stream",
     "text": [
      "None\n",
      "399\n",
      "  filtered frames: 59.899749373433586%\n",
      "K.KK.K.KK.K.KK.K.KK.K.KK.K.KK.K.KK.K.KK.K.KK.K.KK.K.KK.K.KK.K.KK.K.KK.K.KK.K.KK.K.KK.K.KK.K.KK.K.KK.\n",
      "K.KK.K.KK.K.KK.K.KK.K.KK.K.KK.K.KK.K.KK.K.KK.K.KK.K.KK.K.KK.K.KK.K.KK.K.KK.K.KK.K.KK.K.KK.K.KK.K.KK.\n",
      "K.KK.K.KK.K.KK.K.KK.K.KK.K.KK.K.KK.K.KK.K.KK.K.KK.K.KK.K.KK.K.KK.K.KK.K.KK.K.KK.K.KK.K.KK.K.KK.K.KK.\n",
      "K.KK.K.KK.K.KK.K.KK.K.KK.K.KK.K.KK.K.KK.K.KK.K.KK.K.KK.K.KK.K.KK.K.KK.K.KK.K.KK.K.K..K.KK.K.KK.K.KK\n",
      "Stage:  DecodeFrame.ParallelDecodeFrame\n"
     ]
    },
    {
     "name": "stderr",
     "output_type": "stream",
     "text": [
      "100%|███████████████████████████████████████████████████████████████████████████████████| 16/16 [00:16<00:00,  1.01s/it]\n"
     ]
    },
    {
     "name": "stdout",
     "output_type": "stream",
     "text": [
      "None\n",
      "399\n",
      "  filtered frames: 59.147869674185465%\n",
      "K.KK.K.KK.K.KK.K.KK.K.KK.K.KK.K.KK.K.KK.K.KK.K.KK.K.KK.K.KK.K.KK.K.KK.K.KK.K.KK.K.KK.K.KK.K.KK.K.KK.\n",
      "K.KK.K.KK.K.KK.K.KK.K.KK.K.KK.K.KK.K.KK.K.K..K.KK.K.K..K.KK.K.KK.K.KK.K.KK.K.KK.K.KK.K.KK.K.KK.K.KK.\n",
      "K.KK.K.KK.K.KK.K.KK.K.KK.K.KK.K.KK.K.KK.K.KK.K.KK.K.KK.K.KK.K.KK.K.KK.K.KK...KK.K.KK.K.KK.K.KK.K.KK.\n",
      "K.KK.K.KK.K.KK.K.KK.K.KK.K.KK.K.KK.K.KK.K.KK...KK.K.KK.K.KK.K.KK.K.KK.K.KK.K.KK.K.KK.K.KK.K.KK.K.KK\n",
      "Stage:  Detection2D.YoloDetection\n"
     ]
    },
    {
     "name": "stderr",
     "output_type": "stream",
     "text": [
      "100%|█████████████████████████████████████████████████████████████████████████████████| 399/399 [00:24<00:00, 15.97it/s]\n"
     ]
    },
    {
     "name": "stdout",
     "output_type": "stream",
     "text": [
      "None\n",
      "399\n",
      "  filtered frames: 59.147869674185465%\n",
      "K.KK.K.KK.K.KK.K.KK.K.KK.K.KK.K.KK.K.KK.K.KK.K.KK.K.KK.K.KK.K.KK.K.KK.K.KK.K.KK.K.KK.K.KK.K.KK.K.KK.\n",
      "K.KK.K.KK.K.KK.K.KK.K.KK.K.KK.K.KK.K.KK.K.K..K.KK.K.K..K.KK.K.KK.K.KK.K.KK.K.KK.K.KK.K.KK.K.KK.K.KK.\n",
      "K.KK.K.KK.K.KK.K.KK.K.KK.K.KK.K.KK.K.KK.K.KK.K.KK.K.KK.K.KK.K.KK.K.KK.K.KK...KK.K.KK.K.KK.K.KK.K.KK.\n",
      "K.KK.K.KK.K.KK.K.KK.K.KK.K.KK.K.KK.K.KK.K.KK...KK.K.KK.K.KK.K.KK.K.KK.K.KK.K.KK.K.KK.K.KK.K.KK.K.KK\n",
      "Stage:  DecodeFrame.ParallelDecodeFrame\n"
     ]
    },
    {
     "name": "stderr",
     "output_type": "stream",
     "text": [
      "100%|███████████████████████████████████████████████████████████████████████████████████| 16/16 [00:12<00:00,  1.25it/s]\n"
     ]
    },
    {
     "name": "stdout",
     "output_type": "stream",
     "text": [
      "None\n",
      "399\n",
      "  filtered frames: 58.89724310776943%\n",
      "K.KK.K.KK.K..K.K.KK.K.KK.K.KK.K.KK.K.KK.K.KK.K.KK.K.KK.K.KK.K.KK.K.KK.K.KK.K.KK.K.KK.K.KK.K.KK.K.KK.\n",
      "K.KK.K.KK.K.KK.K.KK.K.KK.K.KK.K.KK.K.KK.K.KK.K.KK.K.KK.K.KK.K.KK.K.KK.K..K.K.KK.K.KK.K.KK.K.KK.K.KK.\n",
      "K.KK.K.KK.K.KK.K.KK.K.KK.K.KK.K.KK.K.KK.K.KK.K.KK.K.KK.K.KK.K.KK.K.KK.K.KK.K.KK.K.KK.K.KK.K.KK.K..K.\n",
      "K.KK.K.KK.K.KK.K.KK.K.KK.K.KK.K.K..K.KK.K.KK.K.KK.K.KK.K.KK.K.KK.K.KK.K..K.K.KK.K.KK.K.KK.K.KK.K.KK\n",
      "Stage:  Detection2D.YoloDetection\n"
     ]
    },
    {
     "name": "stderr",
     "output_type": "stream",
     "text": [
      " 53%|██████████████████████████████████████████▋                                      | 210/399 [00:12<00:10, 17.28it/s]\n"
     ]
    }
   ],
   "source": [
    "cache_pipeline = Pipeline()\n",
    "cache_pipeline.add_filter(ParallelDecodeFrame())\n",
    "cache_pipeline.add_filter(YoloDetection())\n",
    "\n",
    "for name, video in videos.items():\n",
    "    frames = VideoSkipped(\n",
    "        os.path.join(DATA_DIR, \"videos/boston-seaport\", video[\"filename\"]),\n",
    "        [camera_config(*f, 0) for f in video[\"frames\"]],\n",
    "    )\n",
    "\n",
    "    cache_pipeline.run(Payload(frames))"
   ]
  },
  {
   "cell_type": "code",
   "execution_count": null,
   "id": "09c20b48",
   "metadata": {
    "execution": {
     "iopub.execute_input": "2022-12-07T20:57:31.064788Z",
     "iopub.status.busy": "2022-12-07T20:57:31.064386Z",
     "iopub.status.idle": "2022-12-07T21:12:20.343315Z",
     "shell.execute_reply": "2022-12-07T21:12:20.341758Z"
    }
   },
   "outputs": [],
   "source": [
    "pipeline = Pipeline()\n",
    "pipeline.add_filter(filter=ParallelDecodeFrame())\n",
    "pipeline.add_filter(filter=YoloDetection())\n",
    "\n",
    "pipeline.add_filter(filter=FromD2DAndRoad())\n",
    "pipeline.add_filter(filter=DetectionEstimation())\n",
    "pipeline.add_filter(filter=StrongSORT())\n",
    "\n",
    "pipeline.add_filter(filter=From2DAndRoad())\n",
    "pipeline.add_filter(filter=SegmentTrajectory())\n",
    "\n",
    "metadata = {}\n",
    "outputs_with_estimation = []\n",
    "for name, video in videos.items():\n",
    "    if not name.endswith('CAM_FRONT'):\n",
    "        continue\n",
    "    print(name, '--------------------------------------------------------------------------------')\n",
    "    frames = VideoSkipped(\n",
    "        os.path.join(DATA_DIR, \"videos/boston-seaport\", video[\"filename\"]),\n",
    "        [camera_config(*f, 0) for f in video[\"frames\"]],\n",
    "    )\n",
    "\n",
    "    output = pipeline.run(Payload(frames))\n",
    "    outputs_with_estimation.append(output)\n",
    "    metadata[name] = SegmentTrajectory.get(output)"
   ]
  },
  {
   "cell_type": "code",
   "execution_count": null,
   "id": "31f6df4a",
   "metadata": {},
   "outputs": [],
   "source": [
    "with open(f\"./outputs/trackings-with-estimation.json\", \"w\") as f:\n",
    "    json.dump(metadata, f, cls=DataclassJSONEncoder)"
   ]
  },
  {
   "cell_type": "code",
   "execution_count": null,
   "id": "fc1652f2",
   "metadata": {
    "execution": {
     "iopub.execute_input": "2022-12-07T21:12:20.349340Z",
     "iopub.status.busy": "2022-12-07T21:12:20.348942Z",
     "iopub.status.idle": "2022-12-07T21:39:03.457596Z",
     "shell.execute_reply": "2022-12-07T21:39:03.456343Z"
    }
   },
   "outputs": [],
   "source": [
    "pipeline = Pipeline()\n",
    "pipeline.add_filter(filter=ParallelDecodeFrame())\n",
    "pipeline.add_filter(filter=YoloDetection())\n",
    "\n",
    "# pipeline.add_filter(filter=DetectionEstimation())\n",
    "pipeline.add_filter(filter=StrongSORT())\n",
    "\n",
    "pipeline.add_filter(filter=From2DAndRoad())\n",
    "\n",
    "if NUSCENES_PROCESSED_DATA in os.environ:\n",
    "    DATA_DIR = os.environ[NUSCENES_PROCESSED_DATA]\n",
    "else:\n",
    "    DATA_DIR = \"/work/apperception/data/nuScenes/full-dataset-v1.0/Mini\"\n",
    "with open(os.path.join(DATA_DIR, \"videos/boston-seaport\", \"frames.pickle\"), \"rb\") as f:\n",
    "    videos = pickle.load(f)\n",
    "\n",
    "metadata = {}\n",
    "outputs_without_estimation = []\n",
    "for name, video in videos.items():\n",
    "#     if name not in BOSTON_VIDEOS:\n",
    "#         continue\n",
    "    if not name.endswith('CAM_FRONT'):\n",
    "        continue\n",
    "    print(name, '--------------------------------------------------------------------------------')\n",
    "    frames = Video(\n",
    "        os.path.join(DATA_DIR, \"videos/boston-seaport\", video[\"filename\"]),\n",
    "        [camera_config(*f, 0) for f in video[\"frames\"]],\n",
    "        video[\"start\"],\n",
    "    )\n",
    "\n",
    "    output = pipeline.run(Payload(frames))\n",
    "    outputs_without_estimation.append(output)\n",
    "    metadata[name] = From2DAndRoad.get(output)"
   ]
  },
  {
   "cell_type": "code",
   "execution_count": null,
   "id": "27fac22b",
   "metadata": {},
   "outputs": [],
   "source": [
    "with open(f\"./outputs/trackings-without-estimation.json\", \"w\") as f:\n",
    "    json.dump(metadata, f, cls=DataclassJSONEncoder)"
   ]
  },
  {
   "cell_type": "code",
   "execution_count": null,
   "id": "4dbe13bb",
   "metadata": {},
   "outputs": [],
   "source": [
    "res = Tracking2D.get(outputs_without_estimation[1])"
   ]
  },
  {
   "cell_type": "code",
   "execution_count": null,
   "id": "259cab0d",
   "metadata": {},
   "outputs": [],
   "source": [
    "res"
   ]
  },
  {
   "cell_type": "code",
   "execution_count": null,
   "id": "bf6f2e7b",
   "metadata": {},
   "outputs": [],
   "source": []
  },
  {
   "cell_type": "code",
   "execution_count": null,
   "id": "258064d6",
   "metadata": {},
   "outputs": [],
   "source": []
  },
  {
   "cell_type": "code",
   "execution_count": null,
   "id": "62afce82",
   "metadata": {},
   "outputs": [],
   "source": []
  },
  {
   "cell_type": "code",
   "execution_count": null,
   "id": "bb679887",
   "metadata": {},
   "outputs": [],
   "source": []
  },
  {
   "cell_type": "code",
   "execution_count": null,
   "id": "92dea089",
   "metadata": {},
   "outputs": [],
   "source": []
  },
  {
   "cell_type": "code",
   "execution_count": null,
   "id": "164aa002",
   "metadata": {},
   "outputs": [],
   "source": []
  }
 ],
 "metadata": {
  "kernelspec": {
   "display_name": "Python 3 (ipykernel)",
   "language": "python",
   "name": "python3"
  },
  "language_info": {
   "codemirror_mode": {
    "name": "ipython",
    "version": 3
   },
   "file_extension": ".py",
   "mimetype": "text/x-python",
   "name": "python",
   "nbconvert_exporter": "python",
   "pygments_lexer": "ipython3",
   "version": "3.10.8"
  }
 },
 "nbformat": 4,
 "nbformat_minor": 5
}
