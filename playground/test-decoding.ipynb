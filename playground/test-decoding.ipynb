{
 "cells": [
  {
   "cell_type": "code",
   "execution_count": null,
   "id": "c7971bec",
   "metadata": {},
   "outputs": [],
   "source": [
    "import cv2\n",
    "import time\n",
    "import os\n",
    "import json"
   ]
  },
  {
   "cell_type": "code",
   "execution_count": null,
   "id": "1e65582b",
   "metadata": {},
   "outputs": [],
   "source": [
    "DIR = os.environ['NUSCENE_DATA']\n",
    "DIR"
   ]
  },
  {
   "cell_type": "code",
   "execution_count": null,
   "id": "70ef05bf",
   "metadata": {},
   "outputs": [],
   "source": [
    "VIDEO = DIR + '/videos'\n",
    "VIDEO"
   ]
  },
  {
   "cell_type": "code",
   "execution_count": null,
   "id": "c35c89bc",
   "metadata": {},
   "outputs": [],
   "source": [
    "video = VIDEO + '/scene-0061-CAM_FRONT-2018-7-23-20-28-47-612460.avi'"
   ]
  },
  {
   "cell_type": "code",
   "execution_count": null,
   "id": "b349de7f",
   "metadata": {},
   "outputs": [],
   "source": [
    "start = time.time()\n",
    "\n",
    "frames = []\n",
    "cap = cv2.VideoCapture(video)\n",
    "while cap.isOpened():\n",
    "    ret, f = cap.read()\n",
    "    if not ret:\n",
    "        break\n",
    "    frames.append(f)\n",
    "#     print(f.shape)\n",
    "cap.release()\n",
    "cv2.destroyAllWindows()\n",
    "print(time.time() - start)"
   ]
  },
  {
   "cell_type": "code",
   "execution_count": null,
   "id": "9687c2b6",
   "metadata": {},
   "outputs": [],
   "source": [
    "TEST = DIR + '/test.mp4'"
   ]
  },
  {
   "cell_type": "code",
   "execution_count": null,
   "id": "0f9bddea",
   "metadata": {},
   "outputs": [],
   "source": [
    "writer = cv2.VideoWriter(TEST, cv2.VideoWriter_fourcc(*'mp4v'), 60, (1600, 900))\n",
    "for i in range(5):\n",
    "    print(i)\n",
    "    for f in frames:\n",
    "        writer.write(f)\n",
    "writer.release()\n",
    "cv2.destroyAllWindows()"
   ]
  },
  {
   "cell_type": "code",
   "execution_count": null,
   "id": "b3a1aa8a",
   "metadata": {},
   "outputs": [],
   "source": [
    "cap = cv2.VideoCapture(TEST)\n",
    "num_frames = int(cap.get(cv2.CAP_PROP_FRAME_COUNT))\n",
    "cap.release()\n",
    "cv2.destroyAllWindows()\n",
    "num_frames"
   ]
  },
  {
   "cell_type": "code",
   "execution_count": null,
   "id": "de431fa2",
   "metadata": {},
   "outputs": [],
   "source": [
    "rec = []\n",
    "for i in range(1, 1000):\n",
    "    print(i)\n",
    "    start = time.time()\n",
    "    cap = cv2.VideoCapture(TEST)\n",
    "    idx = 0\n",
    "    while cap.isOpened():\n",
    "        ret = cap.grab()\n",
    "        if not ret:\n",
    "            break\n",
    "        if idx % i == 0:\n",
    "            f = cap.retrieve()\n",
    "    #     print(f.shape)\n",
    "        idx += 1\n",
    "    cap.release()\n",
    "    cv2.destroyAllWindows()\n",
    "    t1 = time.time() - start\n",
    "    \n",
    "    \n",
    "    \n",
    "    start = time.time()\n",
    "    cap = cv2.VideoCapture(TEST)\n",
    "    idx = 0\n",
    "    while cap.isOpened():\n",
    "        cap.set(cv2.CAP_PROP_POS_FRAMES, idx)\n",
    "        ret, f = cap.read()\n",
    "        if not ret:\n",
    "            break\n",
    "        idx += i\n",
    "    cap.release()\n",
    "    cv2.destroyAllWindows()\n",
    "    t2 = time.time() - start\n",
    "    \n",
    "    \n",
    "    \n",
    "    start = time.time()\n",
    "    frames = []\n",
    "    cap = cv2.VideoCapture(video)\n",
    "    while cap.isOpened():\n",
    "        ret, f = cap.read()\n",
    "        if not ret:\n",
    "            break\n",
    "        frames.append(f)\n",
    "    #     print(f.shape)\n",
    "    cap.release()\n",
    "    cv2.destroyAllWindows()\n",
    "    t3 = time.time() - start\n",
    "    \n",
    "    \n",
    "    rec.append({\n",
    "        \"skip\": i,\n",
    "        \"type\": \"sequence\",\n",
    "        \"time\": t1\n",
    "    })\n",
    "    rec.append({\n",
    "        \"skip\": i,\n",
    "        \"type\": \"random\",\n",
    "        \"time\": t2\n",
    "    })\n",
    "    rec.append({\n",
    "        \"skip\": i,\n",
    "        \"type\": \"all\",\n",
    "        \"time\": t3\n",
    "    })\n",
    "    print(t1, t2, t3)"
   ]
  },
  {
   "cell_type": "code",
   "execution_count": null,
   "id": "e9cad9fe",
   "metadata": {},
   "outputs": [],
   "source": [
    "with open('./test.json', 'w') as f:\n",
    "    json.dump(rec, f)"
   ]
  }
 ],
 "metadata": {
  "kernelspec": {
   "display_name": "Python 3 (ipykernel)",
   "language": "python",
   "name": "python3"
  },
  "language_info": {
   "codemirror_mode": {
    "name": "ipython",
    "version": 3
   },
   "file_extension": ".py",
   "mimetype": "text/x-python",
   "name": "python",
   "nbconvert_exporter": "python",
   "pygments_lexer": "ipython3",
   "version": "3.10.6"
  }
 },
 "nbformat": 4,
 "nbformat_minor": 5
}
