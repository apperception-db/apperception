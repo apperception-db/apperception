{
 "cells": [
  {
   "cell_type": "code",
   "execution_count": null,
   "id": "62a7b4d6-4806-4090-8ba0-95dcb09b4cd0",
   "metadata": {
    "tags": []
   },
   "outputs": [],
   "source": [
    "import itertools\n",
    "import json\n",
    "import subprocess\n",
    "import os\n",
    "\n",
    "\n",
    "from tqdm.notebook import tqdm"
   ]
  },
  {
   "cell_type": "code",
   "execution_count": null,
   "id": "33121fb3-1105-447f-bc99-cee1b172c711",
   "metadata": {
    "tags": []
   },
   "outputs": [],
   "source": [
    "REPO_DIR = '/data/chanwutk/projects/apperception'\n",
    "BASE_DATA = '../data'"
   ]
  },
  {
   "cell_type": "code",
   "execution_count": null,
   "id": "0e743a8a-848c-461f-bf85-cbc0d46fe9a6",
   "metadata": {
    "tags": []
   },
   "outputs": [],
   "source": [
    "# subprocess.Popen('jupyter nbconvert --to python ./run-ablation.ipynb && mv run-ablation.py ..', cwd=REPO_DIR)\n",
    "# jupyter.nbconvert.main(['--to', 'python', './run-ablation.ipynb'])"
   ]
  },
  {
   "cell_type": "code",
   "execution_count": null,
   "id": "b9eb9e2c-f572-43d6-9f46-ab88fa7dec22",
   "metadata": {
    "tags": []
   },
   "outputs": [],
   "source": [
    "with open(os.path.join(BASE_DATA, 'evaluation', 'ips.json')) as f:\n",
    "    ips = json.load(f)"
   ]
  },
  {
   "cell_type": "code",
   "execution_count": null,
   "id": "682c7775-0558-42bf-bb9f-579e4868ae62",
   "metadata": {
    "tags": []
   },
   "outputs": [],
   "source": [
    "processes = []\n",
    "for i, ip in enumerate(ips):\n",
    "    process = subprocess.Popen(f'scp -o StrictHostKeyChecking=no -o UserKnownHostsFile=/dev/null {os.path.join(REPO_DIR, \"playground/run-all\")} chanwutk@{ip}:\"/home/chanwutk/\"', shell=True)\n",
    "    processes.append(process)\n",
    "for i, ip in tqdm(enumerate(processes)):\n",
    "    process.wait()\n",
    "\n",
    "\n",
    "processes = []\n",
    "for i, ip in enumerate(ips):\n",
    "    process = subprocess.Popen(f'ssh -o StrictHostKeyChecking=no -o UserKnownHostsFile=/dev/null chanwutk@{ip} /home/chanwutk/run-all', shell=True)\n",
    "    processes.append(process)\n",
    "for i, ip in tqdm(enumerate(processes)):\n",
    "    process.wait()\n"
   ]
  },
  {
   "cell_type": "code",
   "execution_count": null,
   "id": "1fa3a61a-cacf-43f5-bf04-f4ed34dfd91f",
   "metadata": {},
   "outputs": [],
   "source": []
  }
 ],
 "metadata": {
  "kernelspec": {
   "display_name": "Python 3 (ipykernel)",
   "language": "python",
   "name": "python3"
  },
  "language_info": {
   "codemirror_mode": {
    "name": "ipython",
    "version": 3
   },
   "file_extension": ".py",
   "mimetype": "text/x-python",
   "name": "python",
   "nbconvert_exporter": "python",
   "pygments_lexer": "ipython3",
   "version": "3.10.12"
  }
 },
 "nbformat": 4,
 "nbformat_minor": 5
}
