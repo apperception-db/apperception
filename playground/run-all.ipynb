{
 "cells": [
  {
   "cell_type": "code",
   "execution_count": null,
   "id": "62a7b4d6-4806-4090-8ba0-95dcb09b4cd0",
   "metadata": {
    "tags": []
   },
   "outputs": [],
   "source": [
    "import itertools\n",
    "import json\n",
    "import subprocess\n",
    "import os\n",
    "\n",
    "\n",
    "from tqdm.notebook import tqdm"
   ]
  },
  {
   "cell_type": "code",
   "execution_count": null,
   "id": "b9eb9e2c-f572-43d6-9f46-ab88fa7dec22",
   "metadata": {
    "tags": []
   },
   "outputs": [],
   "source": [
    "ips = [\n",
    "    \"104.197.223.207\",\n",
    "    \"35.225.80.2\",\n",
    "    \"34.69.162.124\",\n",
    "    \"35.225.248.183\",\n",
    "    \"34.30.6.113\",\n",
    "    \"34.123.247.214\",\n",
    "    \"34.170.223.144\",\n",
    "    \"34.122.4.239\",\n",
    "    \"34.170.131.127\",\n",
    "    \"34.28.55.253\"\n",
    "]"
   ]
  },
  {
   "cell_type": "code",
   "execution_count": null,
   "id": "682c7775-0558-42bf-bb9f-579e4868ae62",
   "metadata": {
    "tags": []
   },
   "outputs": [],
   "source": [
    "for i, ip in tqdm(enumerate(ips), total=len(ips)):\n",
    "    process = subprocess.Popen(f'scp -o StrictHostKeyChecking=no -o UserKnownHostsFile=/dev/null /home/chanwutk/Documents/apperception/playground/run-all chanwutk@{ip}:\"/home/chanwutk/\"', shell=True)\n",
    "    process.wait()\n",
    "\n",
    "    process = subprocess.Popen(f'ssh -o StrictHostKeyChecking=no -o UserKnownHostsFile=/dev/null chanwutk@{ip} /home/chanwutk/run-all', shell=True)\n",
    "    process.wait()\n"
   ]
  }
 ],
 "metadata": {
  "kernelspec": {
   "display_name": "Python 3 (ipykernel)",
   "language": "python",
   "name": "python3"
  },
  "language_info": {
   "codemirror_mode": {
    "name": "ipython",
    "version": 3
   },
   "file_extension": ".py",
   "mimetype": "text/x-python",
   "name": "python",
   "nbconvert_exporter": "python",
   "pygments_lexer": "ipython3",
   "version": "3.10.11"
  }
 },
 "nbformat": 4,
 "nbformat_minor": 5
}
