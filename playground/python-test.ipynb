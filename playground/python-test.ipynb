{
 "cells": [
  {
   "cell_type": "code",
   "execution_count": null,
   "id": "67ee35b7-c5ff-4208-8d65-32721824a95f",
   "metadata": {
    "tags": []
   },
   "outputs": [],
   "source": [
    "import numpy as np\n",
    "import torch\n",
    "\n",
    "from postgis import MultiPoint\n",
    "from bitarray import bitarray"
   ]
  },
  {
   "cell_type": "code",
   "execution_count": null,
   "id": "878aedf3-6b9e-402c-979a-feb1547ceea2",
   "metadata": {
    "tags": []
   },
   "outputs": [],
   "source": [
    "np.array(['a', 'b', 'c'])"
   ]
  },
  {
   "cell_type": "code",
   "execution_count": null,
   "id": "e623f2bd-2815-4f50-9ab6-02ce7a526e48",
   "metadata": {
    "tags": []
   },
   "outputs": [],
   "source": [
    "np.array(['a', 'b', 'c'])[[0, 2]]"
   ]
  },
  {
   "cell_type": "code",
   "execution_count": null,
   "id": "81a8008b-6cee-4256-8210-73fcba0c2688",
   "metadata": {
    "tags": []
   },
   "outputs": [],
   "source": [
    "np.array(['a', 'b', 'c'])[[0, 2]].tolist()"
   ]
  },
  {
   "cell_type": "code",
   "execution_count": null,
   "id": "6d40209b-0750-4dc9-8f34-dc82095e1f37",
   "metadata": {
    "tags": []
   },
   "outputs": [],
   "source": [
    "a = torch.Tensor([1,2,3,4])"
   ]
  },
  {
   "cell_type": "code",
   "execution_count": null,
   "id": "b3001296-9165-4fae-86ca-379a29241de7",
   "metadata": {
    "tags": []
   },
   "outputs": [],
   "source": [
    "a[0]"
   ]
  },
  {
   "cell_type": "code",
   "execution_count": null,
   "id": "d739c2ec-999b-4e44-9b2d-8edc5efe2ccd",
   "metadata": {
    "tags": []
   },
   "outputs": [],
   "source": [
    "int(a[0])"
   ]
  },
  {
   "cell_type": "code",
   "execution_count": null,
   "id": "3aafe4c7-043d-4445-8d45-aa1c67631f0d",
   "metadata": {
    "tags": []
   },
   "outputs": [],
   "source": [
    "na = np.array"
   ]
  },
  {
   "cell_type": "code",
   "execution_count": null,
   "id": "c8888044-a31b-4674-a46a-511592c0d428",
   "metadata": {
    "tags": []
   },
   "outputs": [],
   "source": [
    "a = na([[1, 0], [0, 1]])\n",
    "a"
   ]
  },
  {
   "cell_type": "code",
   "execution_count": null,
   "id": "cc68821f-753c-42a6-a68f-5c0085dc817e",
   "metadata": {
    "tags": []
   },
   "outputs": [],
   "source": [
    "b = na([[2, 0], [0, 1]])\n",
    "b"
   ]
  },
  {
   "cell_type": "code",
   "execution_count": null,
   "id": "9c5c4079-76f6-443d-9af8-cf86bc3bf9e2",
   "metadata": {
    "tags": []
   },
   "outputs": [],
   "source": [
    "c = na([[3, 0], [0, 1]])\n",
    "c"
   ]
  },
  {
   "cell_type": "code",
   "execution_count": null,
   "id": "aa78df21-6387-4fd7-a386-07e144f7db8a",
   "metadata": {
    "tags": []
   },
   "outputs": [],
   "source": [
    "np.concatenate([a, b, c])"
   ]
  },
  {
   "cell_type": "code",
   "execution_count": null,
   "id": "48dcc729-dda5-45c2-accf-babdcd8d682b",
   "metadata": {
    "tags": []
   },
   "outputs": [],
   "source": [
    "m1 = np.stack([a, b, c])\n",
    "m1"
   ]
  },
  {
   "cell_type": "code",
   "execution_count": null,
   "id": "afff7e6a-3e19-4196-a462-6b82a314a6a8",
   "metadata": {
    "tags": []
   },
   "outputs": [],
   "source": [
    "m1.shape"
   ]
  },
  {
   "cell_type": "code",
   "execution_count": null,
   "id": "6948f73a-ecc2-421a-9a55-ceadb4ef5a97",
   "metadata": {
    "tags": []
   },
   "outputs": [],
   "source": [
    "m1 @ m1"
   ]
  },
  {
   "cell_type": "code",
   "execution_count": null,
   "id": "6d468fad-6f1c-44b1-9c1b-445ef6066f60",
   "metadata": {
    "tags": []
   },
   "outputs": [],
   "source": [
    "m1 @ a"
   ]
  },
  {
   "cell_type": "code",
   "execution_count": null,
   "id": "9a131550-b0cb-4d9d-85ac-4a5ff883c69b",
   "metadata": {
    "tags": []
   },
   "outputs": [],
   "source": [
    "m1 @ b"
   ]
  },
  {
   "cell_type": "code",
   "execution_count": null,
   "id": "de177894-2463-4448-b1c6-d531bec18448",
   "metadata": {
    "tags": []
   },
   "outputs": [],
   "source": [
    "MultiPoint([[1,2], [3,4]])"
   ]
  },
  {
   "cell_type": "code",
   "execution_count": null,
   "id": "e1ebced5-c59e-4921-8a34-db7c7f147ed0",
   "metadata": {
    "tags": []
   },
   "outputs": [],
   "source": [
    "MultiPoint(m1 @ b)"
   ]
  },
  {
   "cell_type": "code",
   "execution_count": null,
   "id": "692809a9-3abe-44ed-860e-fedc66f908c2",
   "metadata": {
    "tags": []
   },
   "outputs": [],
   "source": [
    "MultiPoint((m1  @ b).tolist()[0])"
   ]
  },
  {
   "cell_type": "code",
   "execution_count": null,
   "id": "a6d17a80-1445-4421-bf53-0dee6a7b4ee7",
   "metadata": {
    "tags": []
   },
   "outputs": [],
   "source": [
    "MultiPoint([[2, 0], [0, 1]])"
   ]
  },
  {
   "cell_type": "code",
   "execution_count": null,
   "id": "89007191-57c9-49f4-b1f8-67984585f1a5",
   "metadata": {
    "tags": []
   },
   "outputs": [],
   "source": [
    "MultiPoint((m1  @ b)[0].tolist())"
   ]
  },
  {
   "cell_type": "code",
   "execution_count": null,
   "id": "cb3eafb7-a2b3-43c7-9510-6b090795a012",
   "metadata": {
    "tags": []
   },
   "outputs": [],
   "source": [
    "a = bitarray(10)"
   ]
  },
  {
   "cell_type": "code",
   "execution_count": null,
   "id": "c605741a-d936-4de3-a1e3-cb376e0284df",
   "metadata": {
    "tags": []
   },
   "outputs": [],
   "source": [
    "a"
   ]
  },
  {
   "cell_type": "code",
   "execution_count": null,
   "id": "2e504309-fa8c-496a-b111-b6f1efba1e11",
   "metadata": {
    "tags": []
   },
   "outputs": [],
   "source": [
    "a.setall(0)"
   ]
  },
  {
   "cell_type": "code",
   "execution_count": null,
   "id": "10764b3f-346a-43f6-bde9-ce6363e47e79",
   "metadata": {
    "tags": []
   },
   "outputs": [],
   "source": [
    "a"
   ]
  },
  {
   "cell_type": "code",
   "execution_count": null,
   "id": "5f326f21-8058-4ef9-b69a-794b5bb30a3f",
   "metadata": {
    "tags": []
   },
   "outputs": [],
   "source": [
    "a[[2,6,7]] = 1"
   ]
  },
  {
   "cell_type": "code",
   "execution_count": null,
   "id": "acb7ea68-e753-4140-872f-65af124a8618",
   "metadata": {
    "tags": []
   },
   "outputs": [],
   "source": [
    "np.hstack([na([[1,2],[3,4]]), na([9,10])[np.newaxis].T])"
   ]
  },
  {
   "cell_type": "code",
   "execution_count": null,
   "id": "6a7dc9f4-a037-45a4-a785-8a5fb0fb8fc5",
   "metadata": {
    "tags": []
   },
   "outputs": [],
   "source": [
    "width, height = 1600, 900"
   ]
  },
  {
   "cell_type": "code",
   "execution_count": null,
   "id": "a4a7c7b8-6e92-40ae-8e1e-af03b05ee11f",
   "metadata": {
    "tags": []
   },
   "outputs": [],
   "source": [
    "Z = 10\n",
    "point_2ds = Z * np.array([\n",
    "    # 4 corners of the image frame\n",
    "    (width, height, 1),\n",
    "    (width, 0, 1),\n",
    "    (0, height, 1),\n",
    "    (0, 0, 1),\n",
    "]).T"
   ]
  },
  {
   "cell_type": "code",
   "execution_count": null,
   "id": "7e901010-848c-4fec-beb1-4772b26798b5",
   "metadata": {
    "tags": []
   },
   "outputs": [],
   "source": [
    "point_2ds"
   ]
  },
  {
   "cell_type": "code",
   "execution_count": null,
   "id": "3b0a92af-06ac-404f-9712-a578346e4b2f",
   "metadata": {
    "tags": []
   },
   "outputs": [],
   "source": [
    "np.concatenate((point_2ds, np.ones((1, point_2ds.shape[1]))))"
   ]
  },
  {
   "cell_type": "code",
   "execution_count": null,
   "id": "6ec4ee6d-229d-4244-ada9-4653df98eed5",
   "metadata": {},
   "outputs": [],
   "source": []
  }
 ],
 "metadata": {
  "kernelspec": {
   "display_name": "Python 3 (ipykernel)",
   "language": "python",
   "name": "python3"
  },
  "language_info": {
   "codemirror_mode": {
    "name": "ipython",
    "version": 3
   },
   "file_extension": ".py",
   "mimetype": "text/x-python",
   "name": "python",
   "nbconvert_exporter": "python",
   "pygments_lexer": "ipython3",
   "version": "3.10.10"
  }
 },
 "nbformat": 4,
 "nbformat_minor": 5
}
