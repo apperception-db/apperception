{
 "cells": [
  {
   "cell_type": "code",
   "execution_count": null,
   "id": "c5c9badc",
   "metadata": {
    "execution": {
     "iopub.execute_input": "2022-12-08T00:15:43.617706Z",
     "iopub.status.busy": "2022-12-08T00:15:43.616466Z",
     "iopub.status.idle": "2022-12-08T00:15:48.654505Z",
     "shell.execute_reply": "2022-12-08T00:15:48.653531Z"
    }
   },
   "outputs": [],
   "source": [
    "%cd ..\n",
    "import os\n",
    "import time"
   ]
  },
  {
   "cell_type": "code",
   "execution_count": null,
   "id": "152abe6c",
   "metadata": {},
   "outputs": [],
   "source": [
    "from apperception.database import database\n",
    "from apperception.world import empty_world\n",
    "from apperception.utils import F\n",
    "from apperception.predicate import camera, objects\n",
    "from optimized_ingestion.utils.preprocess import preprocess\n",
    "database.connection\n",
    "from optimized_ingestion.cache import disable_cache\n",
    "disable_cache()"
   ]
  },
  {
   "cell_type": "code",
   "execution_count": null,
   "id": "066065fc",
   "metadata": {},
   "outputs": [],
   "source": [
    "NUSCENES_PROCESSED_DATA = \"NUSCENES_PROCESSED_DATA\"\n",
    "if NUSCENES_PROCESSED_DATA in os.environ:\n",
    "    DATA_DIR = os.environ[NUSCENES_PROCESSED_DATA]\n",
    "else:\n",
    "    DATA_DIR = \"/data/processed/full-dataset/mini\"\n",
    "NUSCENES_RAW_DATA = \"NUSCENES_RAW_DATA\"\n",
    "if NUSCENES_RAW_DATA in os.environ:\n",
    "    RAW_DATA_DIR = os.environ[NUSCENES_RAW_DATA]\n",
    "else:\n",
    "    RAW_DATA_DIR = \"/data/full-dataset/mini\""
   ]
  },
  {
   "cell_type": "code",
   "execution_count": null,
   "id": "533a4ce8",
   "metadata": {},
   "outputs": [],
   "source": [
    "name = 'ScenicWorld' # world name\n",
    "empty_world = empty_world(name=name)"
   ]
  },
  {
   "cell_type": "code",
   "execution_count": null,
   "id": "72817974",
   "metadata": {},
   "outputs": [],
   "source": [
    "def bechmark_detection_estimation_gain(world, video_names, DATA_DIR):\n",
    "    ### base pipeline\n",
    "    preprocess(world, DATA_DIR, video_names,\n",
    "               benchmark_path=\"./outputs/base_pipeline_benchmark.json\")\n",
    "    ### detection estimation benchmark\n",
    "    for skip_ratio in [0.1 * i for i in range(1,10)]:\n",
    "        preprocess(world, DATA_DIR, video_names,\n",
    "                   benchmark_path=f\"./outputs/detection_estimation_pipeline_{skip_ratio*10}.json\",\n",
    "                   skip_ratio=skip_ratio)\n",
    "    \n",
    "        \n"
   ]
  },
  {
   "cell_type": "code",
   "execution_count": null,
   "id": "0e9d1495",
   "metadata": {},
   "outputs": [],
   "source": [
    "preprocess(world, DATA_DIR, base=False, benchmark_path=\"./outputs/fig14_full_optimization.txt\")"
   ]
  },
  {
   "cell_type": "code",
   "execution_count": null,
   "id": "f98facc1",
   "metadata": {},
   "outputs": [],
   "source": [
    "obj1 = objects[0]\n",
    "cam = camera\n",
    "car_world = empty_world(name=name).filter(\n",
    "    (F.like(obj1.type, 'car') | F.like(obj1.type, 'truck') | F.like(obj1.type, 'bus'))\n",
    ")"
   ]
  }
 ],
 "metadata": {
  "kernelspec": {
   "display_name": "Python 3 (ipykernel)",
   "language": "python",
   "name": "python3"
  },
  "language_info": {
   "codemirror_mode": {
    "name": "ipython",
    "version": 3
   },
   "file_extension": ".py",
   "mimetype": "text/x-python",
   "name": "python",
   "nbconvert_exporter": "python",
   "pygments_lexer": "ipython3",
   "version": "3.10.6"
  },
  "vscode": {
   "interpreter": {
    "hash": "31f2aee4e71d21fbe5cf8b01ff0e069b9275f58929596ceb00d14d90e3e16cd6"
   }
  }
 },
 "nbformat": 4,
 "nbformat_minor": 5
}
