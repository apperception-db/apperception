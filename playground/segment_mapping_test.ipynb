{
 "cells": [
  {
   "cell_type": "code",
   "execution_count": null,
   "id": "3a4ea91f",
   "metadata": {},
   "outputs": [],
   "source": [
    "from segment_mapping import *\n",
    "from plpygis import Geometry\n",
    "import shapely.geometry as sg\n",
    "import shapely.ops as so\n",
    "import matplotlib.pyplot as plt\n",
    "from apperception.utils import fetch_camera_config\n",
    "import cv2\n",
    "# importing movie py libraries\n",
    "from moviepy.editor import VideoClip\n",
    "from moviepy.video.io.bindings import mplfig_to_npimage"
   ]
  },
  {
   "cell_type": "code",
   "execution_count": null,
   "id": "ad4f95a7",
   "metadata": {},
   "outputs": [],
   "source": [
    "test_config = fetch_camera_config('samples/CAM_FRONT/n008-2018-08-27-11-48-51-0400__CAM_FRONT__1535385105912404.jpg', database)"
   ]
  },
  {
   "cell_type": "code",
   "execution_count": null,
   "id": "24cb8dd7",
   "metadata": {},
   "outputs": [],
   "source": [
    "test_config"
   ]
  },
  {
   "cell_type": "code",
   "execution_count": null,
   "id": "e1f3e155",
   "metadata": {},
   "outputs": [],
   "source": [
    "mapping = map_imgsegment_roadsegment(test_config)"
   ]
  },
  {
   "cell_type": "code",
   "execution_count": null,
   "id": "7fb11d36",
   "metadata": {},
   "outputs": [],
   "source": [
    "test_file_path = '/home/yongming/workspace/research/apperception/v1.0-mini/samples/CAM_FRONT/n008-2018-08-27-11-48-51-0400__CAM_FRONT__1535385105912404.jpg'\n",
    "frame = cv2.imread(test_file_path)\n",
    "fig, axs = plt.subplots()\n",
    "axs.set_aspect('equal', 'datalim')\n",
    "x_ego, y_ego = test_config['egoTranslation'][:2]\n",
    "axs.plot(x_ego, y_ego, color='green', marker='o', markersize=5)\n",
    "colormap = plt.cm.get_cmap('hsv', len(mapping))\n",
    "i = 0\n",
    "fourcc = cv2.VideoWriter_fourcc(*'mp4v')\n",
    "display_video = cv2.VideoWriter('in_videw_display.avi',fourcc, 1, (1600, 900))\n",
    "for cam_segment, road_segment_info in mapping:\n",
    "    color = colormap(i)\n",
    "    xs = [point[0] for point in road_segment_info.segment_polygon]\n",
    "    ys = [point[1] for point in road_segment_info.segment_polygon]\n",
    "    segmenttype = road_segment_info.segment_type\n",
    "    axs.fill(xs, ys, alpha=0.5, fc=color, ec='none')\n",
    "    axs.text(np.mean(np.array(xs)), np.mean(np.array(ys)), \n",
    "             ','.join(segmenttype) if segmenttype and ('lane' in segmenttype or 'intersection' in segmenttype) else '')\n",
    "    current_plt = mplfig_to_npimage(fig)\n",
    "    i += 1\n",
    "    \n",
    "    fov_lines = road_segment_info.fov_lines\n",
    "    axs.plot([p[0] for p in fov_lines[0]], [p[1] for p in fov_lines[0]], color='red', marker='o', markersize=2)\n",
    "    axs.plot([p[0] for p in fov_lines[1]], [p[1] for p in fov_lines[1]], color='red', marker='o', markersize=2)\n",
    "\n",
    "    \n",
    "    display_frame = frame.copy()\n",
    "    cv2.polylines(display_frame, [np.array(cam_segment, np.int32).reshape((-1, 1, 2))], True, (0, 255, 0), 2)\n",
    "    display_frame[:current_plt.shape[0], :current_plt.shape[1]] = current_plt\n",
    "    display_video.write(display_frame)\n",
    "#     cv2.imshow(\"frame\",display_frame)\n",
    "#     cv2.waitKey(0) \n",
    "#     cv2.destroyAllWindows()\n",
    "display_video.release()\n",
    "plt.show()"
   ]
  },
  {
   "cell_type": "code",
   "execution_count": null,
   "id": "4037c1c3",
   "metadata": {},
   "outputs": [],
   "source": [
    "all_segment_within_distance = construct_search_space(test_config)"
   ]
  },
  {
   "cell_type": "code",
   "execution_count": null,
   "id": "e6af7db5",
   "metadata": {},
   "outputs": [],
   "source": [
    "import numpy as np\n",
    "BLUE = '#6699cc'\n",
    "GRAY = '#999999'\n",
    "\n",
    "fig, axs = plt.subplots()\n",
    "axs.set_aspect('equal', 'datalim')\n",
    "ego_translation = Geometry(test_config['egoTranslation'].values[0])\n",
    "x_ego, y_ego = ego_translation.shapely.xy\n",
    "print(ego_translation.shapely)\n",
    "axs.plot(x_ego, y_ego, color='green', marker='o', markersize=5)\n",
    "\n",
    "colormap = plt.cm.get_cmap('hsv', len(all_segment_within_distance))\n",
    "i = 0\n",
    "for segmentid, segmentpolygon, segmenttype, _ in all_segment_within_distance:\n",
    "    color = colormap(i)\n",
    "    xs, ys = Geometry(segmentpolygon).shapely.exterior.xy\n",
    "    axs.fill(xs, ys, alpha=0.5, fc=color, ec='none')\n",
    "    axs.text(np.mean(np.array(xs)), np.mean(np.array(ys)), \n",
    "             ','.join(segmenttype) if segmenttype and ('lane' in segmenttype or 'intersection' in segmenttype) else '')\n",
    "    i += 1\n",
    "plt.show()"
   ]
  },
  {
   "cell_type": "code",
   "execution_count": null,
   "id": "5e645284",
   "metadata": {},
   "outputs": [],
   "source": [
    "fov_lines = get_fov_lines(test_config)"
   ]
  },
  {
   "cell_type": "code",
   "execution_count": null,
   "id": "ae8df512",
   "metadata": {},
   "outputs": [],
   "source": [
    "from sympy import Polygon, Line\n",
    "test_segmentpolygon = list(map(Point, tuple(zip(*Geometry(segmentpolygon).exterior.shapely.xy))))\n",
    "print(*test_segmentpolygon)\n",
    "test_segmentpolygon = Polygon(*test_segmentpolygon)"
   ]
  },
  {
   "cell_type": "code",
   "execution_count": null,
   "id": "708f8155",
   "metadata": {},
   "outputs": [],
   "source": [
    "fov_lines"
   ]
  },
  {
   "cell_type": "code",
   "execution_count": null,
   "id": "cd1ffdc1",
   "metadata": {},
   "outputs": [],
   "source": [
    "test_segmentpolygon"
   ]
  },
  {
   "cell_type": "code",
   "execution_count": null,
   "id": "f36510b2",
   "metadata": {},
   "outputs": [],
   "source": [
    "intersection(fov_lines, test_segmentpolygon)"
   ]
  },
  {
   "cell_type": "code",
   "execution_count": null,
   "id": "540b2e1f",
   "metadata": {},
   "outputs": [],
   "source": []
  }
 ],
 "metadata": {
  "kernelspec": {
   "display_name": "Python 3 (ipykernel)",
   "language": "python",
   "name": "python3"
  },
  "language_info": {
   "codemirror_mode": {
    "name": "ipython",
    "version": 3
   },
   "file_extension": ".py",
   "mimetype": "text/x-python",
   "name": "python",
   "nbconvert_exporter": "python",
   "pygments_lexer": "ipython3",
   "version": "3.8.3"
  },
  "vscode": {
   "interpreter": {
    "hash": "ef986073a7322f2daa7cef2e5604e6018e5522cc159657af8e7aa863491a7631"
   }
  }
 },
 "nbformat": 4,
 "nbformat_minor": 5
}
