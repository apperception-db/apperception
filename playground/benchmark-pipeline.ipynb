{
 "cells": [
  {
   "cell_type": "code",
   "execution_count": 1,
   "id": "54af4058-3f77-4307-8ae7-44a0a3013632",
   "metadata": {
    "tags": []
   },
   "outputs": [
    {
     "name": "stdout",
     "output_type": "stream",
     "text": [
      "/home/chanwutk/code/apperception\n"
     ]
    }
   ],
   "source": [
    "%cd .."
   ]
  },
  {
   "cell_type": "code",
   "execution_count": 3,
   "id": "e60391c1-d071-43cb-8c4f-009e435e67ae",
   "metadata": {
    "tags": []
   },
   "outputs": [],
   "source": [
    "from apperception.database import database\n",
    "from apperception.world import empty_world\n",
    "from apperception.utils import F\n",
    "from apperception.predicate import camera, objects"
   ]
  },
  {
   "cell_type": "code",
   "execution_count": null,
   "id": "dcf02786-1593-400e-83d1-4e26485f224f",
   "metadata": {},
   "outputs": [],
   "source": [
    "from optimized_ingestion.pipeline import Pipeline"
   ]
  },
  {
   "cell_type": "code",
   "execution_count": 5,
   "id": "bfd33a47-74f7-4c2b-ae6a-d00ea6e6d4f7",
   "metadata": {
    "tags": []
   },
   "outputs": [],
   "source": [
    "o1 = objects[0]\n",
    "o2 = objects[1]\n",
    "c = camera\n",
    "\n",
    "predicate = (\n",
    "    (o1.id != o2.id) &\n",
    "    (F.like(o1.type, 'car') | F.like(o1.type, 'truck')) &\n",
    "    (F.like(o2.type, 'car') | F.like(o2.type, 'truck')) &\n",
    "    F.angle_between(F.facing_relative(c.ego, F.road_direction(c.ego)), -15, 15) &\n",
    "    (F.distance(c.ego, o1.trans@c.time) < 50) &\n",
    "    (F.view_angle(o1.trans@c.time, c.ego) < 70 / 2.0) &\n",
    "    (F.distance(c.ego, o2.trans@c.time) < 50) &\n",
    "    (F.view_angle(o2.trans@c.time, c.ego) < 70 / 2.0) &\n",
    "    F.contains_all('intersection', [o1.trans, o2.trans]@c.time) &\n",
    "    F.angle_between(F.facing_relative(o1.trans@c.time, c.ego), 40, 135) &\n",
    "    F.angle_between(F.facing_relative(o2.trans@c.time, c.ego), -135, -50) &\n",
    "    (F.min_distance(c.ego, 'intersection') < 10) &\n",
    "    F.angle_between(F.facing_relative(o1.trans@c.time, o2.trans@c.time), 100, -100)\n",
    ")"
   ]
  },
  {
   "cell_type": "code",
   "execution_count": null,
   "id": "ace93423-a8d2-43ee-8f7a-b56604d6ff84",
   "metadata": {},
   "outputs": [],
   "source": [
    "from optimized_ingestion.stages.in_view import InView\n",
    "from optimized_ingestion.stages.decode_frame.decode_frame import DecodeFrame\n",
    "from optimized_ingestion.stages.detection_2d.yolo_detection import YoloDetection\n",
    "from optimized_ingestion.stages.detection_2d.object_type_filter import ObjectTypeFilter\n",
    "from optimized_ingestion.stages.detection_3d.from_2d_and_road import From2DAndRoad\n",
    "from optimized_ingestion.stages.depth_estimation import DepthEstimation\n",
    "from optimized_ingestion.stages.detection_3d.from_2d_\n",
    "\n",
    "def create_pipeline(\n",
    "    predicate,\n",
    "    in_view=True,\n",
    "    object_filter=True,\n",
    "    groundtruth_detection=False,\n",
    "    geo_depth=True,\n",
    "    detection_estimation=True,\n",
    "    strongsort=False,\n",
    "):\n",
    "    pipeline = Pipeline()\n",
    "\n",
    "    if in_view:\n",
    "        # TODO: view angle and road type should depends on the predicate\n",
    "        pipeline.add_filter(InView(50, 'intersection'))\n",
    "\n",
    "    pipeline.add_filter(DecodeFrame())\n",
    "\n",
    "    if groundtruth_detection:\n",
    "        pass\n",
    "    else:\n",
    "        pipeline.add_filter(YoloDetection())\n",
    "\n",
    "    if object_filter:\n",
    "        # TODO: filter objects based on predicate\n",
    "        pipeline.add_filter(ObjectTypeFilter([]))\n",
    "\n",
    "    if geo_depth:\n",
    "        pipeline.add_filter(From2DAndRoad)\n",
    "    else:\n",
    "        pipeline.add_filter()\n"
   ]
  }
 ],
 "metadata": {
  "kernelspec": {
   "display_name": "Python 3 (ipykernel)",
   "language": "python",
   "name": "python3"
  },
  "language_info": {
   "codemirror_mode": {
    "name": "ipython",
    "version": 3
   },
   "file_extension": ".py",
   "mimetype": "text/x-python",
   "name": "python",
   "nbconvert_exporter": "python",
   "pygments_lexer": "ipython3",
   "version": "3.10.10"
  }
 },
 "nbformat": 4,
 "nbformat_minor": 5
}
