{
 "cells": [
  {
   "cell_type": "code",
   "execution_count": null,
   "id": "c5c9badc",
   "metadata": {
    "execution": {
     "iopub.execute_input": "2022-12-08T00:15:43.617706Z",
     "iopub.status.busy": "2022-12-08T00:15:43.616466Z",
     "iopub.status.idle": "2022-12-08T00:15:48.654505Z",
     "shell.execute_reply": "2022-12-08T00:15:48.653531Z"
    }
   },
   "outputs": [],
   "source": [
    "%cd ..\n",
    "import os\n",
    "import time\n",
    "import json"
   ]
  },
  {
   "cell_type": "code",
   "execution_count": null,
   "id": "152abe6c",
   "metadata": {},
   "outputs": [],
   "source": [
    "from apperception.database import database\n",
    "from apperception.world import empty_world\n",
    "from apperception.utils import F\n",
    "from apperception.predicate import camera, objects\n",
    "from optimized_ingestion.utils.preprocess import preprocess\n",
    "database.connection\n",
    "from optimized_ingestion.cache import disable_cache\n",
    "disable_cache()"
   ]
  },
  {
   "cell_type": "code",
   "execution_count": null,
   "id": "066065fc",
   "metadata": {},
   "outputs": [],
   "source": [
    "NUSCENES_PROCESSED_DATA = \"NUSCENES_PROCESSED_DATA\"\n",
    "if NUSCENES_PROCESSED_DATA in os.environ:\n",
    "    DATA_DIR = os.environ[NUSCENES_PROCESSED_DATA]\n",
    "else:\n",
    "    DATA_DIR = \"/data/processed/full-dataset/trainval\"\n",
    "NUSCENES_RAW_DATA = \"NUSCENES_RAW_DATA\"\n",
    "if NUSCENES_RAW_DATA in os.environ:\n",
    "    RAW_DATA_DIR = os.environ[NUSCENES_RAW_DATA]\n",
    "else:\n",
    "    RAW_DATA_DIR = \"/data/full-dataset/trainval\""
   ]
  },
  {
   "cell_type": "code",
   "execution_count": null,
   "id": "50cd7ace",
   "metadata": {},
   "outputs": [],
   "source": [
    "with open('data/evaluation/video-samples/boston-seaport.txt', 'r') as f:\n",
    "    scenes = f.read().split('\\n')"
   ]
  },
  {
   "cell_type": "code",
   "execution_count": null,
   "id": "ad2c3614",
   "metadata": {},
   "outputs": [],
   "source": [
    "def bechmark_detection_estimation_histogram(world, video_names=[], scenes=[], path_suffix=None):\n",
    "    bucket_count = [0] * 10\n",
    "    bucket_videos = [[]] * 10\n",
    "    ### detection estimation benchmark\n",
    "    optimize_benchmark_path = f'./outputs/detection_estimation_histogram{\"_\"+path_suffix if path_suffix else \"\"}.json'\n",
    "    preprocess(world, DATA_DIR, video_names, scenes,\n",
    "               base=False,\n",
    "               benchmark_path=optimize_benchmark_path)\n",
    "    \n",
    "    with open(optimize_benchmark_path) as benchmark_file:\n",
    "        benchmark_content = benchmark_file.read()\n",
    "    \n",
    "    parsed_json = json.loads(benchmark_content)\n",
    "    stage_runtimes = parsed_json[0]['stage_runtimes']\n",
    "    num_videos = parsed_json[2]['number of videos']\n",
    "    for stage_runtime in stage_runtimes:\n",
    "        if stage_runtime['stage'] == 'DetectionEstimation':\n",
    "            for benchmark in stage_runtime['runtimes']:\n",
    "                keep, _, total = benchmark['keep']\n",
    "#                 print(benchmark['keep'])\n",
    "                for i in range(10):\n",
    "                    if (total-keep)/total >= i*0.1 and (total-keep)/total <= (i+1)*0.1:\n",
    "                        bucket_count[i] += 1\n",
    "                        bucket_videos[i].append(benchmark['name'])\n",
    "#     print(bucket_count)\n",
    "    return bucket_count\n"
   ]
  },
  {
   "cell_type": "code",
   "execution_count": null,
   "id": "533a4ce8",
   "metadata": {},
   "outputs": [],
   "source": [
    "name = 'ScenicWorld' # world name\n",
    "world = empty_world(name=name)"
   ]
  },
  {
   "cell_type": "code",
   "execution_count": null,
   "id": "a8268c85",
   "metadata": {},
   "outputs": [],
   "source": [
    "buckets = ['0-0.1', '0.1-0.2', '0.2-0.3', '0.3-0.4',\n",
    "           '0.4-0.5', '0.5-0.6', '0.6-0.7', '0.7-0.8',\n",
    "           '0.8-0.9', '0.9-1']\n",
    "all_obj_bucket_count = bechmark_detection_estimation_histogram(world, scenes=scenes[:200])"
   ]
  },
  {
   "cell_type": "code",
   "execution_count": null,
   "id": "72817974",
   "metadata": {},
   "outputs": [],
   "source": [
    "num_videos = sum(all_obj_bucket_count)\n",
    "all_obj_count_ratio = [c/num_videos for c in all_obj_bucket_count]\n",
    "all_obj_count_cdf = [sum([e for e in all_obj_count_ratio[i:]]) for i in range(0, len(all_obj_bucket_count))]\n",
    "import matplotlib.pyplot as plt\n",
    "print(f'total number of videos {num_videos}')\n",
    "fig, axs = plt.subplots(3, 1, tight_layout=True)\n",
    "axs[0].bar(buckets, all_obj_bucket_count, label=\"count\")\n",
    "axs[1].bar(buckets, all_obj_count_ratio,  label=\"count/total_num_videos\")\n",
    "axs[2].plot(range(10), all_obj_count_cdf, label=\"1-cdf\")\n",
    "for ax in axs:\n",
    "    ax.legend(loc='upper center', shadow=True)\n",
    "plt.show()"
   ]
  },
  {
   "cell_type": "code",
   "execution_count": null,
   "id": "f98facc1",
   "metadata": {},
   "outputs": [],
   "source": [
    "obj1 = objects[0]\n",
    "cam = camera\n",
    "car_world = empty_world(name=name).filter(\n",
    "    (F.like(obj1.type, 'car') | F.like(obj1.type, 'truck') | F.like(obj1.type, 'bus'))\n",
    ")"
   ]
  },
  {
   "cell_type": "code",
   "execution_count": null,
   "id": "83a98f55",
   "metadata": {},
   "outputs": [],
   "source": [
    "only_car_bucket_count = bechmark_detection_estimation_histogram(car_world, path_suffix=\"only_car\")"
   ]
  },
  {
   "cell_type": "code",
   "execution_count": null,
   "id": "f86f6407",
   "metadata": {},
   "outputs": [],
   "source": [
    "num_videos = sum(only_car_bucket_count)\n",
    "only_car_count_ratio = [c/num_videos for c in only_car_bucket_count]\n",
    "all_obj_count_cdf = [sum([e for e in only_car_bucket_count[i:]]) for i in range(0, len(only_car_bucket_count))]\n",
    "import matplotlib.pyplot as plt\n",
    "print(f'total number of videos {num_videos}')\n",
    "fig, ax = plt.subplots(1, 3, sharey=True, tight_layout=True)\n",
    "axs[0].hist(only_car_bucket_count, 10, [0, 10], label=\"count\")\n",
    "axs[1].hist(only_car_count_ratio, 10, [0, 10], label=\"ratio\")\n",
    "axs[2].hist(only_car_count_cdf, 10, [0, 10], label=\"cdf\")\n",
    "legend = ax.legend(loc='upper center', shadow=True)\n",
    "plt.show()"
   ]
  },
  {
   "cell_type": "code",
   "execution_count": null,
   "id": "cacc43bc",
   "metadata": {},
   "outputs": [],
   "source": []
  }
 ],
 "metadata": {
  "kernelspec": {
   "display_name": "Python 3 (ipykernel)",
   "language": "python",
   "name": "python3"
  },
  "language_info": {
   "codemirror_mode": {
    "name": "ipython",
    "version": 3
   },
   "file_extension": ".py",
   "mimetype": "text/x-python",
   "name": "python",
   "nbconvert_exporter": "python",
   "pygments_lexer": "ipython3",
   "version": "3.10.6"
  },
  "vscode": {
   "interpreter": {
    "hash": "31f2aee4e71d21fbe5cf8b01ff0e069b9275f58929596ceb00d14d90e3e16cd6"
   }
  }
 },
 "nbformat": 4,
 "nbformat_minor": 5
}
