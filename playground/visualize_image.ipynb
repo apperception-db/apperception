{
 "cells": [
  {
   "cell_type": "code",
   "execution_count": null,
   "metadata": {},
   "outputs": [],
   "source": [
    "%cd ..\n",
    "import os\n",
    "import time\n",
    "from typing import TYPE_CHECKING, Any, Dict, List, Optional, Set, Tuple, Union"
   ]
  },
  {
   "cell_type": "code",
   "execution_count": null,
   "metadata": {},
   "outputs": [],
   "source": [
    "from apperception.database import database\n",
    "\n",
    "from apperception.utils import transformation\n",
    "import cv2\n",
    "import numpy as np\n",
    "import matplotlib.pyplot as plt"
   ]
  },
  {
   "cell_type": "code",
   "execution_count": null,
   "metadata": {},
   "outputs": [],
   "source": [
    "def fetch_camera_config(filename: str, database):\n",
    "    query = f\"\"\"\n",
    "    CREATE OR REPLACE FUNCTION ST_XYZ (g geometry) RETURNS real[] AS $$\n",
    "        BEGIN\n",
    "            RETURN ARRAY[ST_X(g), ST_Y(g), ST_Z(g)];\n",
    "        END;\n",
    "    $$ LANGUAGE plpgsql;\n",
    "\n",
    "    SELECT\n",
    "        cameraId,\n",
    "        ST_XYZ(egoTranslation),\n",
    "        egoRotation,\n",
    "        ST_XYZ(cameraTranslation),\n",
    "        cameraRotation,\n",
    "        cameraIntrinsic,\n",
    "        frameNum,\n",
    "        fileName,\n",
    "        cameraHeading,\n",
    "        egoHeading,\n",
    "        timestamp\n",
    "    FROM Cameras\n",
    "    WHERE\n",
    "        fileName = '{filename}'\n",
    "    ORDER BY cameraId ASC, frameNum ASC;\n",
    "    \"\"\"\n",
    "    result = database.execute(query)[0]\n",
    "    print(result)\n",
    "    camera_config = {\n",
    "        \"cameraId\": result[0],\n",
    "        \"egoTranslation\": result[1],\n",
    "        \"egoRotation\": result[2],\n",
    "        \"cameraTranslation\": result[3],\n",
    "        \"cameraRotation\": result[4],\n",
    "        \"cameraIntrinsic\": result[5],\n",
    "        \"frameNum\": result[6],\n",
    "        \"fileName\": result[7],\n",
    "        \"cameraHeading\": result[8],\n",
    "        \"egoHeading\": result[9],\n",
    "        \"timestamp\": result[10],\n",
    "    }\n",
    "    return camera_config"
   ]
  },
  {
   "cell_type": "code",
   "execution_count": null,
   "metadata": {},
   "outputs": [],
   "source": [
    "def fetch_trajectory(itemId: str, time: str, database):\n",
    "    query = f\"\"\"\n",
    "        CREATE OR REPLACE FUNCTION ST_XYZ (g geometry) RETURNS real[] AS $$\n",
    "        BEGIN\n",
    "            RETURN ARRAY[ST_X(g), ST_Y(g), ST_Z(g)];\n",
    "        END;\n",
    "        $$ LANGUAGE plpgsql;\n",
    "\n",
    "        SELECT ST_XYZ(valueAtTimestamp(trajCentroids, '{time}'))\n",
    "        FROM Item_General_Trajectory as final\n",
    "        WHERE itemId = '{itemId}';\n",
    "        \"\"\"\n",
    "\n",
    "    traj = database.execute(query)[0][0]\n",
    "    return traj"
   ]
  },
  {
   "cell_type": "code",
   "execution_count": null,
   "metadata": {},
   "outputs": [],
   "source": [
    "def world_to_pixel(\n",
    "    camera_config: dict, world_coords: Union[np.ndarray, Tuple[float, float, float]]\n",
    "):\n",
    "    traj_2d = transformation(world_coords, camera_config)\n",
    "    return traj_2d"
   ]
  },
  {
   "cell_type": "code",
   "execution_count": null,
   "metadata": {},
   "outputs": [],
   "source": [
    "def overlay_objects(frame, itemIds: Set[str], camera_config, database):\n",
    "    time = camera_config[\"timestamp\"]\n",
    "    pixels = {}\n",
    "    for itemId in itemIds:\n",
    "        current_traj_point = fetch_trajectory(itemId=itemId, time=time, database=database)\n",
    "\n",
    "        if None not in current_traj_point:\n",
    "            print(current_traj_point)\n",
    "            current_pixel = world_to_pixel(camera_config, current_traj_point)\n",
    "            print(current_pixel)\n",
    "            pixels[itemId] = current_pixel\n",
    "\n",
    "    for itemId in pixels:\n",
    "        pixel = pixels[itemId]\n",
    "        cv2.circle(\n",
    "            frame,\n",
    "            tuple([int(pixel[0][0]), int(pixel[1][0])]),\n",
    "            10,\n",
    "            (0, 255, 0),\n",
    "            -1,\n",
    "        )\n",
    "    return frame"
   ]
  },
  {
   "cell_type": "code",
   "execution_count": null,
   "metadata": {},
   "outputs": [],
   "source": [
    "prefix = \"/work/apperception/data/raw/nuScenes/full-dataset-v1.0/Mini/\"\n",
    "filename = \"sweeps/CAM_FRONT/n008-2018-08-30-15-16-55-0400__CAM_FRONT__1535657111762404.jpg\"\n",
    "itemIds = ['scene-0757-CAM_FRONT_obj_44', 'scene-0757-CAM_FRONT_obj_23']\n",
    "frame_im = cv2.imread(prefix + filename)\n",
    "\n",
    "camera_config = fetch_camera_config(filename, database)\n",
    "# print(camera_config)\n",
    "overlayed = overlay_objects(frame_im, itemIds, camera_config, database)"
   ]
  },
  {
   "cell_type": "code",
   "execution_count": null,
   "metadata": {},
   "outputs": [],
   "source": [
    "plt.imshow(cv2.cvtColor(overlayed, cv2.COLOR_BGR2RGB))"
   ]
  },
  {
   "cell_type": "code",
   "execution_count": null,
   "metadata": {},
   "outputs": [],
   "source": []
  }
 ],
 "metadata": {
  "kernelspec": {
   "display_name": "apperception",
   "language": "python",
   "name": "python3"
  },
  "language_info": {
   "codemirror_mode": {
    "name": "ipython",
    "version": 3
   },
   "file_extension": ".py",
   "mimetype": "text/x-python",
   "name": "python",
   "nbconvert_exporter": "python",
   "pygments_lexer": "ipython3",
   "version": "3.10.8"
  }
 },
 "nbformat": 4,
 "nbformat_minor": 2
}
