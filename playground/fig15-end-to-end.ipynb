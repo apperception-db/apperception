{
 "cells": [
  {
   "cell_type": "code",
   "execution_count": null,
   "id": "c5c9badc",
   "metadata": {
    "execution": {
     "iopub.execute_input": "2022-12-08T00:15:43.617706Z",
     "iopub.status.busy": "2022-12-08T00:15:43.616466Z",
     "iopub.status.idle": "2022-12-08T00:15:48.654505Z",
     "shell.execute_reply": "2022-12-08T00:15:48.653531Z"
    }
   },
   "outputs": [],
   "source": [
    "%cd ..\n",
    "import os\n",
    "import time"
   ]
  },
  {
   "cell_type": "code",
   "execution_count": null,
   "id": "152abe6c",
   "metadata": {},
   "outputs": [],
   "source": [
    "from apperception.database import database\n",
    "from apperception.world import empty_world\n",
    "from apperception.utils import F\n",
    "from apperception.predicate import camera, objects\n",
    "from optimized_ingestion.utils.preprocess import preprocess\n",
    "database.connection\n",
    "from optimized_ingestion.cache import disable_cache\n",
    "disable_cache()"
   ]
  },
  {
   "cell_type": "code",
   "execution_count": null,
   "id": "bc89f0c1",
   "metadata": {},
   "outputs": [],
   "source": [
    "NUSCENES_PROCESSED_DATA_FULL = \"NUSCENES_PROCESSED_DATA_FULL\"\n",
    "if NUSCENES_PROCESSED_DATA_FULL in os.environ:\n",
    "    DATA_DIR = os.environ[NUSCENES_PROCESSED_DATA_FULL]\n",
    "else:\n",
    "    DATA_DIR = \"/data/apperception-data/processed/nuscenes/full-dataset-v1.0/Trainval\"\n",
    "NUSCENES_RAW_DATA_FULL = \"NUSCENES_RAW_DATA_FULL\"\n",
    "if NUSCENES_RAW_DATA_FULL in os.environ:\n",
    "    RAW_DATA_DIR = os.environ[NUSCENES_RAW_DATA_FULL]\n",
    "else:\n",
    "    RAW_DATA_DIR = \"/work/apperception/data/raw/nuScenes/full-dataset-v1.0/Trainval\""
   ]
  },
  {
   "cell_type": "code",
   "execution_count": null,
   "id": "c83af8e2",
   "metadata": {},
   "outputs": [],
   "source": [
    "import cv2\n",
    "def construct_video(frames, size=(1600, 900), base=False, vid_name=None):\n",
    "    unique_frames = []\n",
    "    for f in frames:\n",
    "        if f not in unique_frames:\n",
    "            unique_frames.append(f)\n",
    "    fourcc = cv2.VideoWriter_fourcc(*'mp4v')\n",
    "    vid_name = \"./outputs/fig15_\"+vid_name if vid_name else f\"./outputs/{'fig15_base' if base else 'fig15_optimized'}.avi\"\n",
    "    display_video = cv2.VideoWriter(vid_name,fourcc, 1, size)\n",
    "    for frame in unique_frames:\n",
    "        img_path = os.path.join(RAW_DATA_DIR, frame)\n",
    "        img = cv2.imread(img_path)\n",
    "        display_video.write(img)\n",
    "\n",
    "    display_video.release()"
   ]
  },
  {
   "cell_type": "code",
   "execution_count": null,
   "id": "533a4ce8",
   "metadata": {},
   "outputs": [],
   "source": [
    "name = 'ScenicWorld' # world name\n",
    "world = empty_world(name=name)\n",
    "\n",
    "cam = camera\n",
    "car1 = objects[0]\n",
    "opposite_car = objects[1]\n",
    "car2 = objects[2]\n",
    "\n",
    "world = world.filter(\n",
    "    (F.like(car1.type, 'car') | F.like(car1.type, 'truck')) &\n",
    "    (F.like(car2.type, 'car') | F.like(car2.type, 'truck')) &\n",
    "    (F.like(opposite_car.type, 'car') | F.like(opposite_car.type, 'truck')) &\n",
    "    (opposite_car.id != car2.id) &\n",
    "    (car1.id != car2.id) &\n",
    "    (car1.id != opposite_car.id) &\n",
    "\n",
    "    F.angle_between(F.facing_relative(cam.ego, F.road_direction(cam.ego, cam.ego)), -15, 15) &\n",
    "    (F.view_angle(car1.traj@cam.time, cam.ego) < 70 / 2) &\n",
    "    (F.distance(cam.ego, car1.traj@cam.time) < 50) &\n",
    "#     F.angle_between(F.facing_relative(car1.traj@cam.time, cam.ego), -15, 15) &\n",
    "#     F.angle_between(F.facing_relative(car1.traj@cam.time, F.road_direction(car1.traj@cam.time, cam.ego)), -15, 15) &\n",
    "    F.ahead(car1.traj@cam.time, cam.ego) &\n",
    "    F.angle_between(F.facing_relative(cam.ego, F.road_direction(cam.ego, cam.ego)), -15, 15) &\n",
    "    (F.convert_camera(opposite_car.traj@cam.time, cam.ego) > [-10, 0]) &\n",
    "    (F.convert_camera(opposite_car.traj@cam.time, cam.ego) < [-1, 50]) &\n",
    "    F.angle_between(F.facing_relative(opposite_car.traj@cam.time, cam.ego), 140, 180) &\n",
    "    (F.distance(opposite_car@cam.time, car2@cam.time) < 40) &\n",
    "#     F.angle_between(F.facing_relative(car2.traj@cam.time, F.road_direction(car2.traj@cam.time, cam.ego)), -15, 15) &\n",
    "    F.ahead(car2.traj@cam.time, opposite_car.traj@cam.time)\n",
    ")\n"
   ]
  },
  {
   "cell_type": "code",
   "execution_count": null,
   "id": "9be10787",
   "metadata": {},
   "outputs": [],
   "source": [
    "base_query_start = time.time()\n",
    "preprocess(world, DATA_DIR, ['scene-0207-CAM_FRONT'])\n",
    "print(f'base query time: {time.time()-base_query_start}')"
   ]
  },
  {
   "cell_type": "code",
   "execution_count": null,
   "id": "8ff5d512",
   "metadata": {},
   "outputs": [],
   "source": [
    "id_time_camId_filename_base = world.get_id_time_camId_filename(3)"
   ]
  },
  {
   "cell_type": "code",
   "execution_count": null,
   "id": "c239adad",
   "metadata": {},
   "outputs": [],
   "source": [
    "id_time_camId_filename_base"
   ]
  },
  {
   "cell_type": "code",
   "execution_count": null,
   "id": "c65be372",
   "metadata": {},
   "outputs": [],
   "source": [
    "base_results = [e[5] for e in id_time_camId_filename_base]\n",
    "construct_video(base_results, base=True)"
   ]
  },
  {
   "cell_type": "code",
   "execution_count": null,
   "id": "6e2a3e70",
   "metadata": {},
   "outputs": [],
   "source": [
    "preprocess(world, DATA_DIR, ['scene-0207-CAM_FRONT'], base=False)"
   ]
  },
  {
   "cell_type": "code",
   "execution_count": null,
   "id": "c0b04fd5",
   "metadata": {},
   "outputs": [],
   "source": [
    "optimized_query_start = time.time()\n",
    "id_time_camId_filename = world.get_id_time_camId_filename(3)\n",
    "print(f'optimized query time: {time.time()-optimized_query_start}')\n"
   ]
  },
  {
   "cell_type": "code",
   "execution_count": null,
   "id": "e7ed7885",
   "metadata": {},
   "outputs": [],
   "source": [
    "optimized_results = [e[5] for e in id_time_camId_filename]\n",
    "construct_video(optimized_results)"
   ]
  },
  {
   "cell_type": "code",
   "execution_count": null,
   "id": "268c07f9",
   "metadata": {},
   "outputs": [],
   "source": [
    "false_negative = [f for f in base_results if f not in optimized_results]\n",
    "print(len(false_negative))\n",
    "construct_video(false_negative, vid_name=\"false_negative.avi\")"
   ]
  },
  {
   "cell_type": "code",
   "execution_count": null,
   "id": "fe49bcbc",
   "metadata": {},
   "outputs": [],
   "source": [
    "false_positive = [f for f in optimized_results if f not in base_results]\n",
    "print(len(false_positive))\n",
    "construct_video(false_positive, vid_name=\"false_positive.avi\")"
   ]
  },
  {
   "cell_type": "code",
   "execution_count": null,
   "id": "470cf3f4",
   "metadata": {},
   "outputs": [],
   "source": [
    "investigation = [[5, 806.0, 414.0, 95.0, 121.0], [17, 186.0, 312.0, 395.0, 339.0], [37, 645.0, 475.0, 76.0, 63.0]]"
   ]
  },
  {
   "cell_type": "code",
   "execution_count": null,
   "id": "098cc3b9",
   "metadata": {},
   "outputs": [],
   "source": [
    "import matplotlib.pyplot as plt\n",
    "import matplotlib.patches as patches\n",
    "from PIL import Image\n",
    "\n",
    "im = Image.open('/work/apperception/data/raw/nuScenes/full-dataset-v1.0/Trainval/samples/CAM_FRONT/n008-2018-07-26-12-13-50-0400__CAM_FRONT__1532621920162404.jpg')\n",
    "\n",
    "# Create figure and axes\n",
    "fig, ax = plt.subplots()\n",
    "\n",
    "# Display the image\n",
    "ax.imshow(im)\n",
    "\n",
    "# Create a Rectangle patch\n",
    "for obj in investigation:\n",
    "    obj_id = obj[0]\n",
    "    x,y,w,h = obj[1:5]\n",
    "    plt.text(x, y+15, 'obj'+str(obj_id))\n",
    "    rect = patches.Rectangle((x, y), w, h, linewidth=1, edgecolor='r', facecolor='none')\n",
    "\n",
    "    # Add the patch to the Axes\n",
    "    ax.add_patch(rect)\n",
    "\n",
    "plt.show()"
   ]
  },
  {
   "cell_type": "code",
   "execution_count": null,
   "id": "8e1a2cb9",
   "metadata": {},
   "outputs": [],
   "source": []
  }
 ],
 "metadata": {
  "kernelspec": {
   "display_name": "Python 3 (ipykernel)",
   "language": "python",
   "name": "python3"
  },
  "language_info": {
   "codemirror_mode": {
    "name": "ipython",
    "version": 3
   },
   "file_extension": ".py",
   "mimetype": "text/x-python",
   "name": "python",
   "nbconvert_exporter": "python",
   "pygments_lexer": "ipython3",
   "version": "3.10.8"
  },
  "vscode": {
   "interpreter": {
    "hash": "31f2aee4e71d21fbe5cf8b01ff0e069b9275f58929596ceb00d14d90e3e16cd6"
   }
  }
 },
 "nbformat": 4,
 "nbformat_minor": 5
}
