{
 "cells": [
  {
   "cell_type": "code",
   "execution_count": 1,
   "id": "c5c9badc",
   "metadata": {
    "execution": {
     "iopub.execute_input": "2022-12-08T00:15:43.617706Z",
     "iopub.status.busy": "2022-12-08T00:15:43.616466Z",
     "iopub.status.idle": "2022-12-08T00:15:48.654505Z",
     "shell.execute_reply": "2022-12-08T00:15:48.653531Z"
    }
   },
   "outputs": [
    {
     "name": "stdout",
     "output_type": "stream",
     "text": [
      "/data/apperception/apperception\n"
     ]
    }
   ],
   "source": [
    "%cd ..\n",
    "import os\n",
    "import time"
   ]
  },
  {
   "cell_type": "code",
   "execution_count": 2,
   "id": "152abe6c",
   "metadata": {},
   "outputs": [
    {
     "name": "stderr",
     "output_type": "stream",
     "text": [
      "/home/local/apperception/.installs/mambaforge/envs/apperception/lib/python3.10/site-packages/tqdm/auto.py:22: TqdmWarning: IProgress not found. Please update jupyter and ipywidgets. See https://ipywidgets.readthedocs.io/en/stable/user_install.html\n",
      "  from .autonotebook import tqdm as notebook_tqdm\n",
      "YOLOv5 🚀 2022-11-23 Python-3.10.8 torch-1.13.0+cu117 CUDA:0 (NVIDIA TITAN Xp, 12190MiB)\n",
      "\n",
      "Using cache found in /data/apperception/apperception/weights/ultralytics_yolov5_master\n"
     ]
    },
    {
     "name": "stdout",
     "output_type": "stream",
     "text": [
      "Using cuda:0\n"
     ]
    },
    {
     "name": "stderr",
     "output_type": "stream",
     "text": [
      "YOLOv5 🚀 2022-11-30 Python-3.10.8 torch-1.13.0+cu117 CUDA:0 (NVIDIA TITAN Xp, 12190MiB)\n",
      "\n",
      "Fusing layers... \n",
      "YOLOv5s summary: 213 layers, 7225885 parameters, 0 gradients\n",
      "Adding AutoShape... \n"
     ]
    }
   ],
   "source": [
    "from apperception.database import database\n",
    "from apperception.world import empty_world\n",
    "from apperception.utils import F\n",
    "from apperception.predicate import camera, objects\n",
    "from optimized_ingestion.utils.preprocess import preprocess\n",
    "database.connection\n",
    "from optimized_ingestion.cache import disable_cache\n",
    "disable_cache()"
   ]
  },
  {
   "cell_type": "code",
   "execution_count": 3,
   "id": "bc89f0c1",
   "metadata": {},
   "outputs": [],
   "source": [
    "NUSCENES_PROCESSED_DATA_FULL = \"NUSCENES_PROCESSED_DATA_FULL\"\n",
    "if NUSCENES_PROCESSED_DATA_FULL in os.environ:\n",
    "    DATA_DIR = os.environ[NUSCENES_PROCESSED_DATA_FULL]\n",
    "else:\n",
    "    DATA_DIR = \"/data/apperception-data/processed/nuscenes/full-dataset-v1.0/Trainval\"\n",
    "NUSCENES_RAW_DATA_FULL = \"NUSCENES_RAW_DATA_FULL\"\n",
    "if NUSCENES_RAW_DATA_FULL in os.environ:\n",
    "    RAW_DATA_DIR = os.environ[NUSCENES_RAW_DATA_FULL]\n",
    "else:\n",
    "    RAW_DATA_DIR = \"/work/apperception/data/raw/nuScenes/full-dataset-v1.0/Trainval\""
   ]
  },
  {
   "cell_type": "code",
   "execution_count": 4,
   "id": "c83af8e2",
   "metadata": {},
   "outputs": [],
   "source": [
    "import cv2\n",
    "def construct_video(frames, size=(1600, 900), base=False, vid_name=None):\n",
    "    unique_frames = []\n",
    "    for f in frames:\n",
    "        if f not in unique_frames:\n",
    "            unique_frames.append(f)\n",
    "    fourcc = cv2.VideoWriter_fourcc(*'mp4v')\n",
    "    vid_name = \"./outputs/fig15_\"+vid_name if vid_name else f\"./outputs/{'fig15_base' if base else 'fig15_optimized'}.avi\"\n",
    "    display_video = cv2.VideoWriter(vid_name,fourcc, 1, size)\n",
    "    for frame in unique_frames:\n",
    "        img_path = os.path.join(RAW_DATA_DIR, frame)\n",
    "        img = cv2.imread(img_path)\n",
    "        display_video.write(img)\n",
    "\n",
    "    display_video.release()"
   ]
  },
  {
   "cell_type": "code",
   "execution_count": 12,
   "id": "533a4ce8",
   "metadata": {},
   "outputs": [],
   "source": [
    "name = 'ScenicWorld' # world name\n",
    "world = empty_world(name=name)\n",
    "\n",
    "cam = camera\n",
    "car1 = objects[0]\n",
    "opposite_car = objects[1]\n",
    "car2 = objects[2]\n",
    "\n",
    "world = world.filter(\n",
    "    (F.like(car1.type, 'car') | F.like(car1.type, 'truck')) &\n",
    "    (F.like(car2.type, 'car') | F.like(car2.type, 'truck')) &\n",
    "    (F.like(opposite_car.type, 'car') | F.like(opposite_car.type, 'truck')) &\n",
    "    (opposite_car.id != car2.id) &\n",
    "    (car1.id != car2.id) &\n",
    "    (car1.id != opposite_car.id) &\n",
    "\n",
    "    F.angle_between(F.facing_relative(cam.ego, F.road_direction(cam.ego, cam.ego)), -15, 15) &\n",
    "    (F.view_angle(car1.traj@cam.time, cam.ego) < 70 / 2) &\n",
    "    (F.distance(cam.ego, car1.traj@cam.time) < 50) &\n",
    "#     F.angle_between(F.facing_relative(car1.traj@cam.time, cam.ego), -15, 15) &\n",
    "#     F.angle_between(F.facing_relative(car1.traj@cam.time, F.road_direction(car1.traj@cam.time, cam.ego)), -15, 15) &\n",
    "    F.ahead(car1.traj@cam.time, cam.ego) &\n",
    "    F.angle_between(F.facing_relative(cam.ego, F.road_direction(cam.ego, cam.ego)), -15, 15) &\n",
    "    (F.convert_camera(opposite_car.traj@cam.time, cam.ego) > [-10, 0]) &\n",
    "    (F.convert_camera(opposite_car.traj@cam.time, cam.ego) < [-1, 50]) &\n",
    "    F.angle_between(F.facing_relative(opposite_car.traj@cam.time, cam.ego), 140, 180) &\n",
    "    (F.distance(opposite_car@cam.time, car2@cam.time) < 40) &\n",
    "#     F.angle_between(F.facing_relative(car2.traj@cam.time, F.road_direction(car2.traj@cam.time, cam.ego)), -15, 15) &\n",
    "    F.ahead(car2.traj@cam.time, opposite_car.traj@cam.time)\n",
    ")\n"
   ]
  },
  {
   "cell_type": "code",
   "execution_count": 6,
   "id": "9be10787",
   "metadata": {},
   "outputs": [
    {
     "name": "stderr",
     "output_type": "stream",
     "text": [
      "YOLOv5 🚀 2022-11-23 Python-3.10.8 torch-1.13.0+cu117 CUDA:0 (NVIDIA TITAN Xp, 12190MiB)\n",
      "\n",
      "Using cache found in /data/apperception/weights/ultralytics_yolov5_master\n",
      "YOLOv5 🚀 2022-11-30 Python-3.10.8 torch-1.13.0+cu117 CUDA:0 (NVIDIA TITAN Xp, 12190MiB)\n",
      "\n",
      "Fusing layers... \n",
      "YOLOv5s summary: 213 layers, 7225885 parameters, 0 gradients\n",
      "Adding AutoShape... \n"
     ]
    },
    {
     "name": "stdout",
     "output_type": "stream",
     "text": [
      "scene-0207-CAM_FRONT --------------------------------------------------------------------------------\n",
      "Stage:  DecodeFrame.ParallelDecodeFrame\n"
     ]
    },
    {
     "name": "stderr",
     "output_type": "stream",
     "text": [
      "100%|████████████████████████████████████████████████████████████████████████████████████████████████████████████████████████████████████████| 80/80 [00:03<00:00, 25.24it/s]\n"
     ]
    },
    {
     "name": "stdout",
     "output_type": "stream",
     "text": [
      "None\n",
      "229\n",
      "  filtered frames: 100.0%\n",
      "KKKKKKKKKKKKKKKKKKKKKKKKKKKKKKKKKKKKKKKKKKKKKKKKKKKKKKKKKKKKKKKKKKKKKKKKKKKKKKKKKKKKKKKKKKKKKKKKKKKK\n",
      "KKKKKKKKKKKKKKKKKKKKKKKKKKKKKKKKKKKKKKKKKKKKKKKKKKKKKKKKKKKKKKKKKKKKKKKKKKKKKKKKKKKKKKKKKKKKKKKKKKKK\n",
      "KKKKKKKKKKKKKKKKKKKKKKKKKKKKK\n",
      "Stage:  Detection2D.YoloDetection\n"
     ]
    },
    {
     "name": "stderr",
     "output_type": "stream",
     "text": [
      "100%|█████████████████████████████████████████████████████████████████████████████████████████████████████████████████████████████████████| 229/229 [00:02<00:00, 112.66it/s]\n"
     ]
    },
    {
     "name": "stdout",
     "output_type": "stream",
     "text": [
      "None\n",
      "229\n",
      "  filtered frames: 100.0%\n",
      "KKKKKKKKKKKKKKKKKKKKKKKKKKKKKKKKKKKKKKKKKKKKKKKKKKKKKKKKKKKKKKKKKKKKKKKKKKKKKKKKKKKKKKKKKKKKKKKKKKKK\n",
      "KKKKKKKKKKKKKKKKKKKKKKKKKKKKKKKKKKKKKKKKKKKKKKKKKKKKKKKKKKKKKKKKKKKKKKKKKKKKKKKKKKKKKKKKKKKKKKKKKKKK\n",
      "KKKKKKKKKKKKKKKKKKKKKKKKKKKKK\n",
      "Stage:  Detection3D.From2DAndRoad\n"
     ]
    },
    {
     "name": "stderr",
     "output_type": "stream",
     "text": [
      "229it [00:00, 3004.96it/s]\n",
      "YOLOv5 🚀 2022-11-23 Python-3.10.8 torch-1.13.0+cu117 CUDA:0 (NVIDIA TITAN Xp, 12190MiB)\n",
      "\n"
     ]
    },
    {
     "name": "stdout",
     "output_type": "stream",
     "text": [
      "None\n",
      "229\n",
      "  filtered frames: 100.0%\n",
      "KKKKKKKKKKKKKKKKKKKKKKKKKKKKKKKKKKKKKKKKKKKKKKKKKKKKKKKKKKKKKKKKKKKKKKKKKKKKKKKKKKKKKKKKKKKKKKKKKKKK\n",
      "KKKKKKKKKKKKKKKKKKKKKKKKKKKKKKKKKKKKKKKKKKKKKKKKKKKKKKKKKKKKKKKKKKKKKKKKKKKKKKKKKKKKKKKKKKKKKKKKKKKK\n",
      "KKKKKKKKKKKKKKKKKKKKKKKKKKKKK\n",
      "Stage:  Tracking2D.StrongSORT\n",
      "Successfully loaded pretrained weights from \"/data/apperception/apperception/weights/osnet_x0_25_msmt17.pt\"\n",
      "** The following layers are discarded due to unmatched keys or layer size: ['classifier.weight', 'classifier.bias']\n"
     ]
    },
    {
     "name": "stderr",
     "output_type": "stream",
     "text": [
      "100%|██████████████████████████████████████████████████████████████████████████████████████████████████████████████████████████████████████| 229/229 [00:09<00:00, 24.79it/s]\n"
     ]
    },
    {
     "name": "stdout",
     "output_type": "stream",
     "text": [
      "None\n",
      "229\n",
      "  filtered frames: 100.0%\n",
      "KKKKKKKKKKKKKKKKKKKKKKKKKKKKKKKKKKKKKKKKKKKKKKKKKKKKKKKKKKKKKKKKKKKKKKKKKKKKKKKKKKKKKKKKKKKKKKKKKKKK\n",
      "KKKKKKKKKKKKKKKKKKKKKKKKKKKKKKKKKKKKKKKKKKKKKKKKKKKKKKKKKKKKKKKKKKKKKKKKKKKKKKKKKKKKKKKKKKKKKKKKKKKK\n",
      "KKKKKKKKKKKKKKKKKKKKKKKKKKKKK\n",
      "Stage:  Tracking3D.From2DAndRoad\n"
     ]
    },
    {
     "name": "stderr",
     "output_type": "stream",
     "text": [
      "100%|████████████████████████████████████████████████████████████████████████████████████████████████████████████████████████████████████| 229/229 [00:00<00:00, 7003.61it/s]\n"
     ]
    },
    {
     "name": "stdout",
     "output_type": "stream",
     "text": [
      "None\n",
      "229\n",
      "  filtered frames: 100.0%\n",
      "KKKKKKKKKKKKKKKKKKKKKKKKKKKKKKKKKKKKKKKKKKKKKKKKKKKKKKKKKKKKKKKKKKKKKKKKKKKKKKKKKKKKKKKKKKKKKKKKKKKK\n",
      "KKKKKKKKKKKKKKKKKKKKKKKKKKKKKKKKKKKKKKKKKKKKKKKKKKKKKKKKKKKKKKKKKKKKKKKKKKKKKKKKKKKKKKKKKKKKKKKKKKKK\n",
      "KKKKKKKKKKKKKKKKKKKKKKKKKKKKK\n",
      "Stage:  SegmentTrajectory.FromTracking3D\n",
      "None\n",
      "229\n",
      "  filtered frames: 100.0%\n",
      "KKKKKKKKKKKKKKKKKKKKKKKKKKKKKKKKKKKKKKKKKKKKKKKKKKKKKKKKKKKKKKKKKKKKKKKKKKKKKKKKKKKKKKKKKKKKKKKKKKKK\n",
      "KKKKKKKKKKKKKKKKKKKKKKKKKKKKKKKKKKKKKKKKKKKKKKKKKKKKKKKKKKKKKKKKKKKKKKKKKKKKKKKKKKKKKKKKKKKKKKKKKKKK\n",
      "KKKKKKKKKKKKKKKKKKKKKKKKKKKKK\n",
      "obj_id 1\n",
      "obj_id 2\n",
      "obj_id 3\n",
      "obj_id 4\n",
      "obj_id 5\n",
      "obj_id 6\n",
      "obj_id 8\n",
      "obj_id 9\n",
      "obj_id 11\n",
      "obj_id 17\n",
      "obj_id 23\n",
      "obj_id 25\n",
      "obj_id 32\n",
      "obj_id 37\n",
      "obj_id 42\n",
      "obj_id 44\n",
      "obj_id 47\n",
      "obj_id 49\n",
      "obj_id 53\n",
      "obj_id 54\n",
      "obj_id 56\n",
      "obj_id 70\n",
      "obj_id 74\n",
      "obj_id 77\n",
      "obj_id 79\n",
      "obj_id 80\n",
      "obj_id 82\n",
      "obj_id 84\n",
      "obj_id 87\n",
      "obj_id 91\n",
      "obj_id 95\n",
      "obj_id 96\n",
      "obj_id 100\n",
      "obj_id 102\n",
      "obj_id 105\n",
      "Time taken to insert trajectories: 0.18668484687805176\n",
      "info found [[5, 791.0, 412.0, 101.0, 124.0, (f=72 o=0), datetime.datetime(2018, 7, 26, 9, 18, 40, 662404), None, None, None, None, 5]]\n",
      "total preprocess time 23.92955732345581\n",
      "base query time: 134.9113609790802\n"
     ]
    }
   ],
   "source": [
    "base_query_start = time.time()\n",
    "preprocess(world, DATA_DIR, ['scene-0207-CAM_FRONT'])\n",
    "print(f'base query time: {time.time()-base_query_start}')"
   ]
  },
  {
   "cell_type": "code",
   "execution_count": 13,
   "id": "8ff5d512",
   "metadata": {},
   "outputs": [
    {
     "name": "stdout",
     "output_type": "stream",
     "text": [
      "execute: filter\n",
      "execute: get_id_time_camId_filename\n",
      "get_id_time_camId_filename \n",
      "        SELECT t0.itemId,t1.itemId,t2.itemId, cameras.timestamp, cameras.cameraId, cameras.filename\n",
      "        FROM (SELECT * FROM item_general_trajectory) as t0\n",
      "        JOIN (SELECT * FROM item_general_trajectory) as t1 USING (cameraId) JOIN (SELECT * FROM item_general_trajectory) as t2 USING (cameraId)\n",
      "        JOIN Cameras USING (cameraId)\n",
      "        WHERE ((t0.objectType LIKE 'car' OR t0.objectType LIKE 'truck') AND (t2.objectType LIKE 'car' OR t2.objectType LIKE 'truck') AND (t1.objectType LIKE 'car' OR t1.objectType LIKE 'truck') AND (t1.itemId<>t2.itemId) AND (t0.itemId<>t2.itemId) AND (t0.itemId<>t1.itemId) AND angleBetween(facingRelative(egoHeading,roadDirection(egoTranslation,egoHeading)),-15,15) AND (viewAngle(valueAtTimestamp(t0.trajCentroids,timestamp),egoHeading,egoTranslation)<35.0) AND (ST_Distance(egoTranslation,valueAtTimestamp(t0.trajCentroids,timestamp))<50) AND ahead(valueAtTimestamp(t0.trajCentroids,timestamp),egoTranslation,egoHeading) AND angleBetween(facingRelative(egoHeading,roadDirection(egoTranslation,egoHeading)),-15,15) AND (ConvertCamera(valueAtTimestamp(t1.trajCentroids,timestamp),egoTranslation,egoHeading)>ARRAY[-10,0]) AND (ConvertCamera(valueAtTimestamp(t1.trajCentroids,timestamp),egoTranslation,egoHeading)<ARRAY[-1,50]) AND angleBetween(facingRelative((headingAtTimestamp(t1.itemHeadings, timestamp))::real,egoHeading),140,180) AND (ST_Distance(valueAtTimestamp(t1.trajCentroids,timestamp),valueAtTimestamp(t2.trajCentroids,timestamp))<40) AND ahead(valueAtTimestamp(t2.trajCentroids,timestamp),valueAtTimestamp(t1.trajCentroids,timestamp),(headingAtTimestamp(t1.itemHeadings, timestamp))::real))\n",
      "        \n",
      "done execute node\n",
      "Result length: 14\n"
     ]
    }
   ],
   "source": [
    "id_time_camId_filename_base = world.get_id_time_camId_filename(3)"
   ]
  },
  {
   "cell_type": "code",
   "execution_count": 14,
   "id": "c239adad",
   "metadata": {},
   "outputs": [
    {
     "data": {
      "text/plain": [
       "[('scene-0207-CAM_FRONT_obj_5',\n",
       "  'scene-0207-CAM_FRONT_obj_17',\n",
       "  'scene-0207-CAM_FRONT_obj_32',\n",
       "  datetime.datetime(2018, 7, 26, 9, 18, 39, 262404, tzinfo=datetime.timezone.utc),\n",
       "  'scene-0207-CAM_FRONT',\n",
       "  'sweeps/CAM_FRONT/n008-2018-07-26-12-13-50-0400__CAM_FRONT__1532621919262404.jpg'),\n",
       " ('scene-0207-CAM_FRONT_obj_5',\n",
       "  'scene-0207-CAM_FRONT_obj_37',\n",
       "  'scene-0207-CAM_FRONT_obj_17',\n",
       "  datetime.datetime(2018, 7, 26, 9, 18, 40, 12404, tzinfo=datetime.timezone.utc),\n",
       "  'scene-0207-CAM_FRONT',\n",
       "  'sweeps/CAM_FRONT/n008-2018-07-26-12-13-50-0400__CAM_FRONT__1532621920012404.jpg'),\n",
       " ('scene-0207-CAM_FRONT_obj_5',\n",
       "  'scene-0207-CAM_FRONT_obj_37',\n",
       "  'scene-0207-CAM_FRONT_obj_17',\n",
       "  datetime.datetime(2018, 7, 26, 9, 18, 40, 112404, tzinfo=datetime.timezone.utc),\n",
       "  'scene-0207-CAM_FRONT',\n",
       "  'sweeps/CAM_FRONT/n008-2018-07-26-12-13-50-0400__CAM_FRONT__1532621920112404.jpg'),\n",
       " ('scene-0207-CAM_FRONT_obj_5',\n",
       "  'scene-0207-CAM_FRONT_obj_37',\n",
       "  'scene-0207-CAM_FRONT_obj_17',\n",
       "  datetime.datetime(2018, 7, 26, 9, 18, 40, 162404, tzinfo=datetime.timezone.utc),\n",
       "  'scene-0207-CAM_FRONT',\n",
       "  'samples/CAM_FRONT/n008-2018-07-26-12-13-50-0400__CAM_FRONT__1532621920162404.jpg'),\n",
       " ('scene-0207-CAM_FRONT_obj_5',\n",
       "  'scene-0207-CAM_FRONT_obj_37',\n",
       "  'scene-0207-CAM_FRONT_obj_17',\n",
       "  datetime.datetime(2018, 7, 26, 9, 18, 40, 262404, tzinfo=datetime.timezone.utc),\n",
       "  'scene-0207-CAM_FRONT',\n",
       "  'sweeps/CAM_FRONT/n008-2018-07-26-12-13-50-0400__CAM_FRONT__1532621920262404.jpg'),\n",
       " ('scene-0207-CAM_FRONT_obj_5',\n",
       "  'scene-0207-CAM_FRONT_obj_37',\n",
       "  'scene-0207-CAM_FRONT_obj_17',\n",
       "  datetime.datetime(2018, 7, 26, 9, 18, 40, 362404, tzinfo=datetime.timezone.utc),\n",
       "  'scene-0207-CAM_FRONT',\n",
       "  'sweeps/CAM_FRONT/n008-2018-07-26-12-13-50-0400__CAM_FRONT__1532621920362404.jpg'),\n",
       " ('scene-0207-CAM_FRONT_obj_5',\n",
       "  'scene-0207-CAM_FRONT_obj_37',\n",
       "  'scene-0207-CAM_FRONT_obj_17',\n",
       "  datetime.datetime(2018, 7, 26, 9, 18, 40, 412404, tzinfo=datetime.timezone.utc),\n",
       "  'scene-0207-CAM_FRONT',\n",
       "  'sweeps/CAM_FRONT/n008-2018-07-26-12-13-50-0400__CAM_FRONT__1532621920412404.jpg'),\n",
       " ('scene-0207-CAM_FRONT_obj_5',\n",
       "  'scene-0207-CAM_FRONT_obj_37',\n",
       "  'scene-0207-CAM_FRONT_obj_17',\n",
       "  datetime.datetime(2018, 7, 26, 9, 18, 40, 512404, tzinfo=datetime.timezone.utc),\n",
       "  'scene-0207-CAM_FRONT',\n",
       "  'sweeps/CAM_FRONT/n008-2018-07-26-12-13-50-0400__CAM_FRONT__1532621920512404.jpg'),\n",
       " ('scene-0207-CAM_FRONT_obj_5',\n",
       "  'scene-0207-CAM_FRONT_obj_37',\n",
       "  'scene-0207-CAM_FRONT_obj_17',\n",
       "  datetime.datetime(2018, 7, 26, 9, 18, 40, 612404, tzinfo=datetime.timezone.utc),\n",
       "  'scene-0207-CAM_FRONT',\n",
       "  'sweeps/CAM_FRONT/n008-2018-07-26-12-13-50-0400__CAM_FRONT__1532621920612404.jpg'),\n",
       " ('scene-0207-CAM_FRONT_obj_5',\n",
       "  'scene-0207-CAM_FRONT_obj_37',\n",
       "  'scene-0207-CAM_FRONT_obj_17',\n",
       "  datetime.datetime(2018, 7, 26, 9, 18, 40, 662404, tzinfo=datetime.timezone.utc),\n",
       "  'scene-0207-CAM_FRONT',\n",
       "  'samples/CAM_FRONT/n008-2018-07-26-12-13-50-0400__CAM_FRONT__1532621920662404.jpg'),\n",
       " ('scene-0207-CAM_FRONT_obj_5',\n",
       "  'scene-0207-CAM_FRONT_obj_42',\n",
       "  'scene-0207-CAM_FRONT_obj_37',\n",
       "  datetime.datetime(2018, 7, 26, 9, 18, 41, 412404, tzinfo=datetime.timezone.utc),\n",
       "  'scene-0207-CAM_FRONT',\n",
       "  'sweeps/CAM_FRONT/n008-2018-07-26-12-13-50-0400__CAM_FRONT__1532621921412404.jpg'),\n",
       " ('scene-0207-CAM_FRONT_obj_5',\n",
       "  'scene-0207-CAM_FRONT_obj_44',\n",
       "  'scene-0207-CAM_FRONT_obj_42',\n",
       "  datetime.datetime(2018, 7, 26, 9, 18, 43, 162404, tzinfo=datetime.timezone.utc),\n",
       "  'scene-0207-CAM_FRONT',\n",
       "  'sweeps/CAM_FRONT/n008-2018-07-26-12-13-50-0400__CAM_FRONT__1532621923162404.jpg'),\n",
       " ('scene-0207-CAM_FRONT_obj_5',\n",
       "  'scene-0207-CAM_FRONT_obj_44',\n",
       "  'scene-0207-CAM_FRONT_obj_42',\n",
       "  datetime.datetime(2018, 7, 26, 9, 18, 43, 262404, tzinfo=datetime.timezone.utc),\n",
       "  'scene-0207-CAM_FRONT',\n",
       "  'sweeps/CAM_FRONT/n008-2018-07-26-12-13-50-0400__CAM_FRONT__1532621923262404.jpg'),\n",
       " ('scene-0207-CAM_FRONT_obj_5',\n",
       "  'scene-0207-CAM_FRONT_obj_56',\n",
       "  'scene-0207-CAM_FRONT_obj_42',\n",
       "  datetime.datetime(2018, 7, 26, 9, 18, 43, 412404, tzinfo=datetime.timezone.utc),\n",
       "  'scene-0207-CAM_FRONT',\n",
       "  'sweeps/CAM_FRONT/n008-2018-07-26-12-13-50-0400__CAM_FRONT__1532621923412404.jpg')]"
      ]
     },
     "execution_count": 14,
     "metadata": {},
     "output_type": "execute_result"
    }
   ],
   "source": [
    "id_time_camId_filename_base"
   ]
  },
  {
   "cell_type": "code",
   "execution_count": 15,
   "id": "c65be372",
   "metadata": {},
   "outputs": [],
   "source": [
    "base_results = [e[5] for e in id_time_camId_filename_base]\n",
    "construct_video(base_results, base=True)"
   ]
  },
  {
   "cell_type": "code",
   "execution_count": 16,
   "id": "6e2a3e70",
   "metadata": {},
   "outputs": [
    {
     "name": "stderr",
     "output_type": "stream",
     "text": [
      "YOLOv5 🚀 2022-11-23 Python-3.10.8 torch-1.13.0+cu117 CUDA:0 (NVIDIA TITAN Xp, 12190MiB)\n",
      "\n",
      "Using cache found in /data/apperception/weights/ultralytics_yolov5_master\n",
      "YOLOv5 🚀 2022-11-30 Python-3.10.8 torch-1.13.0+cu117 CUDA:0 (NVIDIA TITAN Xp, 12190MiB)\n",
      "\n",
      "Fusing layers... \n",
      "YOLOv5s summary: 213 layers, 7225885 parameters, 0 gradients\n",
      "Adding AutoShape... \n"
     ]
    },
    {
     "name": "stdout",
     "output_type": "stream",
     "text": [
      "scene-0207-CAM_FRONT --------------------------------------------------------------------------------\n",
      "Stage:  DecodeFrame.ParallelDecodeFrame\n"
     ]
    },
    {
     "name": "stderr",
     "output_type": "stream",
     "text": [
      "100%|████████████████████████████████████████████████████████████████████████████████████████████████████████████████████████████████████████| 80/80 [00:03<00:00, 21.23it/s]\n"
     ]
    },
    {
     "name": "stdout",
     "output_type": "stream",
     "text": [
      "None\n",
      "229\n",
      "  filtered frames: 100.0%\n",
      "KKKKKKKKKKKKKKKKKKKKKKKKKKKKKKKKKKKKKKKKKKKKKKKKKKKKKKKKKKKKKKKKKKKKKKKKKKKKKKKKKKKKKKKKKKKKKKKKKKKK\n",
      "KKKKKKKKKKKKKKKKKKKKKKKKKKKKKKKKKKKKKKKKKKKKKKKKKKKKKKKKKKKKKKKKKKKKKKKKKKKKKKKKKKKKKKKKKKKKKKKKKKKK\n",
      "KKKKKKKKKKKKKKKKKKKKKKKKKKKKK\n",
      "Stage:  Detection2D.YoloDetection\n"
     ]
    },
    {
     "name": "stderr",
     "output_type": "stream",
     "text": [
      "100%|█████████████████████████████████████████████████████████████████████████████████████████████████████████████████████████████████████| 229/229 [00:02<00:00, 114.29it/s]\n"
     ]
    },
    {
     "name": "stdout",
     "output_type": "stream",
     "text": [
      "None\n",
      "229\n",
      "  filtered frames: 100.0%\n",
      "KKKKKKKKKKKKKKKKKKKKKKKKKKKKKKKKKKKKKKKKKKKKKKKKKKKKKKKKKKKKKKKKKKKKKKKKKKKKKKKKKKKKKKKKKKKKKKKKKKKK\n",
      "KKKKKKKKKKKKKKKKKKKKKKKKKKKKKKKKKKKKKKKKKKKKKKKKKKKKKKKKKKKKKKKKKKKKKKKKKKKKKKKKKKKKKKKKKKKKKKKKKKKK\n",
      "KKKKKKKKKKKKKKKKKKKKKKKKKKKKK\n",
      "Stage:  Detection2D.ObjectTypeFilter\n",
      "None\n",
      "229\n",
      "  filtered frames: 100.0%\n",
      "KKKKKKKKKKKKKKKKKKKKKKKKKKKKKKKKKKKKKKKKKKKKKKKKKKKKKKKKKKKKKKKKKKKKKKKKKKKKKKKKKKKKKKKKKKKKKKKKKKKK\n",
      "KKKKKKKKKKKKKKKKKKKKKKKKKKKKKKKKKKKKKKKKKKKKKKKKKKKKKKKKKKKKKKKKKKKKKKKKKKKKKKKKKKKKKKKKKKKKKKKKKKKK\n",
      "KKKKKKKKKKKKKKKKKKKKKKKKKKKKK\n",
      "Stage:  Detection3D.From2DAndRoad\n"
     ]
    },
    {
     "name": "stderr",
     "output_type": "stream",
     "text": [
      "229it [00:00, 2973.83it/s]\n"
     ]
    },
    {
     "name": "stdout",
     "output_type": "stream",
     "text": [
      "None\n",
      "229\n",
      "  filtered frames: 100.0%\n",
      "KKKKKKKKKKKKKKKKKKKKKKKKKKKKKKKKKKKKKKKKKKKKKKKKKKKKKKKKKKKKKKKKKKKKKKKKKKKKKKKKKKKKKKKKKKKKKKKKKKKK\n",
      "KKKKKKKKKKKKKKKKKKKKKKKKKKKKKKKKKKKKKKKKKKKKKKKKKKKKKKKKKKKKKKKKKKKKKKKKKKKKKKKKKKKKKKKKKKKKKKKKKKKK\n",
      "KKKKKKKKKKKKKKKKKKKKKKKKKKKKK\n",
      "Stage:  DetectionEstimation\n",
      "ego_speed:  4.524889606390178\n"
     ]
    },
    {
     "name": "stderr",
     "output_type": "stream",
     "text": [
      " 18%|███████████████████████▋                                                                                                               | 40/228 [00:01<00:07, 24.30it/s]TopologyException: Input geom 1 is invalid: Self-intersection at 1930.9019190074823 1056.7545794360328\n",
      "Self-intersection at or near point 1930.9019190074823 1056.7545794360328\n",
      "TopologyException: Input geom 1 is invalid: Self-intersection at 1930.9019190074823 1056.7545794360328\n",
      "Self-intersection at or near point 1930.9019190074823 1056.7545794360328\n",
      "TopologyException: Input geom 1 is invalid: Self-intersection at 1930.9019190074823 1056.7545794360328\n",
      "Self-intersection at or near point 1930.9019190074823 1056.7545794360328\n",
      "TopologyException: Input geom 1 is invalid: Self-intersection at 1930.9019190074823 1056.7545794360328\n",
      "Self-intersection at or near point 1930.9019190074823 1056.7545794360328\n",
      "TopologyException: Input geom 1 is invalid: Self-intersection at 1930.9019190074823 1056.7545794360328\n",
      "Self-intersection at or near point 1930.9019190074823 1056.7545794360328\n",
      "TopologyException: Input geom 1 is invalid: Self-intersection at 1930.9019190074823 1056.7545794360328\n",
      "Self-intersection at or near point 1930.9019190074823 1056.7545794360328\n",
      "TopologyException: Input geom 1 is invalid: Self-intersection at 1930.9019190074823 1056.7545794360328\n",
      "Self-intersection at or near point 1930.9019190074823 1056.7545794360328\n",
      "TopologyException: Input geom 1 is invalid: Self-intersection at 1930.9019190074823 1056.7545794360328\n",
      "Self-intersection at or near point 1930.9019190074823 1056.7545794360328\n",
      "TopologyException: Input geom 1 is invalid: Self-intersection at 1930.9019190074823 1056.7545794360328\n",
      "Self-intersection at or near point 1930.9019190074823 1056.7545794360328\n",
      " 19%|█████████████████████████▍                                                                                                             | 43/228 [00:02<00:09, 19.53it/s]TopologyException: Input geom 1 is invalid: Self-intersection at 1930.9019190074823 1056.7545794360328\n",
      "Self-intersection at or near point 1930.9019190074823 1056.7545794360328\n",
      "TopologyException: Input geom 1 is invalid: Self-intersection at 1930.9019190074823 1056.7545794360328\n",
      "Self-intersection at or near point 1930.9019190074823 1056.7545794360328\n",
      "TopologyException: Input geom 1 is invalid: Self-intersection at 1930.9019190074823 1056.7545794360328\n",
      "Self-intersection at or near point 1930.9019190074823 1056.7545794360328\n",
      "TopologyException: Input geom 1 is invalid: Self-intersection at 1930.9019190074823 1056.7545794360328\n",
      "Self-intersection at or near point 1930.9019190074823 1056.7545794360328\n",
      "TopologyException: Input geom 1 is invalid: Self-intersection at 1930.9019190074823 1056.7545794360328\n",
      "Self-intersection at or near point 1930.9019190074823 1056.7545794360328\n",
      "TopologyException: Input geom 1 is invalid: Self-intersection at 1930.9019190074823 1056.7545794360328\n",
      "Self-intersection at or near point 1930.9019190074823 1056.7545794360328\n",
      "TopologyException: Input geom 1 is invalid: Self-intersection at 1930.9019190074823 1056.7545794360328\n",
      "Self-intersection at or near point 1930.9019190074823 1056.7545794360328\n",
      "TopologyException: Input geom 1 is invalid: Self-intersection at 1930.9019190074823 1056.7545794360328\n",
      "Self-intersection at or near point 1930.9019190074823 1056.7545794360328\n",
      "TopologyException: Input geom 1 is invalid: Self-intersection at 1930.9019190074823 1056.7545794360328\n",
      "Self-intersection at or near point 1930.9019190074823 1056.7545794360328\n",
      "TopologyException: Input geom 1 is invalid: Self-intersection at 1930.9019190074823 1056.7545794360328\n",
      "Self-intersection at or near point 1930.9019190074823 1056.7545794360328\n",
      "TopologyException: Input geom 1 is invalid: Self-intersection at 1930.9019190074823 1056.7545794360328\n",
      "Self-intersection at or near point 1930.9019190074823 1056.7545794360328\n",
      "TopologyException: Input geom 1 is invalid: Self-intersection at 1930.9019190074823 1056.7545794360328\n",
      "Self-intersection at or near point 1930.9019190074823 1056.7545794360328\n",
      "TopologyException: Input geom 1 is invalid: Self-intersection at 1930.9019190074823 1056.7545794360328\n",
      "Self-intersection at or near point 1930.9019190074823 1056.7545794360328\n",
      "TopologyException: Input geom 1 is invalid: Self-intersection at 1930.9019190074823 1056.7545794360328\n",
      "Self-intersection at or near point 1930.9019190074823 1056.7545794360328\n",
      "TopologyException: Input geom 1 is invalid: Self-intersection at 1930.9019190074823 1056.7545794360328\n",
      "Self-intersection at or near point 1930.9019190074823 1056.7545794360328\n",
      "TopologyException: Input geom 1 is invalid: Self-intersection at 1930.9019190074823 1056.7545794360328\n",
      "Self-intersection at or near point 1930.9019190074823 1056.7545794360328\n",
      "TopologyException: Input geom 1 is invalid: Self-intersection at 1930.9019190074823 1056.7545794360328\n",
      "Self-intersection at or near point 1930.9019190074823 1056.7545794360328\n",
      " 20%|███████████████████████████▏                                                                                                           | 46/228 [00:02<00:11, 16.14it/s]TopologyException: Input geom 1 is invalid: Self-intersection at 1930.9019190074823 1056.7545794360328\n",
      "Self-intersection at or near point 1930.9019190074823 1056.7545794360328\n",
      "TopologyException: Input geom 1 is invalid: Self-intersection at 1930.9019190074823 1056.7545794360328\n",
      "Self-intersection at or near point 1930.9019190074823 1056.7545794360328\n",
      "TopologyException: Input geom 1 is invalid: Self-intersection at 1930.9019190074823 1056.7545794360328\n",
      "Self-intersection at or near point 1930.9019190074823 1056.7545794360328\n",
      "TopologyException: Input geom 1 is invalid: Self-intersection at 1930.9019190074823 1056.7545794360328\n",
      "Self-intersection at or near point 1930.9019190074823 1056.7545794360328\n",
      "TopologyException: Input geom 1 is invalid: Self-intersection at 1930.9019190074823 1056.7545794360328\n",
      "Self-intersection at or near point 1930.9019190074823 1056.7545794360328\n",
      "TopologyException: Input geom 1 is invalid: Self-intersection at 1930.9019190074823 1056.7545794360328\n",
      "Self-intersection at or near point 1930.9019190074823 1056.7545794360328\n",
      "TopologyException: Input geom 1 is invalid: Self-intersection at 1930.9019190074823 1056.7545794360328\n",
      "Self-intersection at or near point 1930.9019190074823 1056.7545794360328\n",
      "TopologyException: Input geom 1 is invalid: Self-intersection at 1930.9019190074823 1056.7545794360328\n",
      "Self-intersection at or near point 1930.9019190074823 1056.7545794360328\n",
      "TopologyException: Input geom 1 is invalid: Self-intersection at 1930.9019190074823 1056.7545794360328\n",
      "Self-intersection at or near point 1930.9019190074823 1056.7545794360328\n",
      "TopologyException: Input geom 1 is invalid: Self-intersection at 1930.9019190074823 1056.7545794360328\n",
      "Self-intersection at or near point 1930.9019190074823 1056.7545794360328\n",
      " 21%|████████████████████████████▍                                                                                                          | 48/228 [00:02<00:11, 15.13it/s]TopologyException: Input geom 1 is invalid: Self-intersection at 1930.9019190074823 1056.7545794360328\n",
      "Self-intersection at or near point 1930.9019190074823 1056.7545794360328\n",
      "TopologyException: Input geom 1 is invalid: Self-intersection at 1930.9019190074823 1056.7545794360328\n",
      "Self-intersection at or near point 1930.9019190074823 1056.7545794360328\n",
      "TopologyException: Input geom 1 is invalid: Self-intersection at 1930.9019190074823 1056.7545794360328\n",
      "Self-intersection at or near point 1930.9019190074823 1056.7545794360328\n",
      "TopologyException: Input geom 1 is invalid: Self-intersection at 1930.9019190074823 1056.7545794360328\n",
      "Self-intersection at or near point 1930.9019190074823 1056.7545794360328\n",
      "TopologyException: Input geom 1 is invalid: Self-intersection at 1930.9019190074823 1056.7545794360328\n",
      "Self-intersection at or near point 1930.9019190074823 1056.7545794360328\n",
      "TopologyException: Input geom 1 is invalid: Self-intersection at 1930.9019190074823 1056.7545794360328\n",
      "Self-intersection at or near point 1930.9019190074823 1056.7545794360328\n",
      "TopologyException: Input geom 1 is invalid: Self-intersection at 1930.9019190074823 1056.7545794360328\n",
      "Self-intersection at or near point 1930.9019190074823 1056.7545794360328\n"
     ]
    },
    {
     "name": "stderr",
     "output_type": "stream",
     "text": [
      "TopologyException: Input geom 1 is invalid: Self-intersection at 1930.9019190074823 1056.7545794360328\n",
      "Self-intersection at or near point 1930.9019190074823 1056.7545794360328\n",
      "TopologyException: Input geom 1 is invalid: Self-intersection at 1930.9019190074823 1056.7545794360328\n",
      "Self-intersection at or near point 1930.9019190074823 1056.7545794360328\n",
      " 22%|█████████████████████████████▌                                                                                                         | 50/228 [00:02<00:12, 14.71it/s]TopologyException: Input geom 1 is invalid: Self-intersection at 1930.9019190074823 1056.7545794360328\n",
      "Self-intersection at or near point 1930.9019190074823 1056.7545794360328\n",
      "TopologyException: Input geom 1 is invalid: Self-intersection at 1930.9019190074823 1056.7545794360328\n",
      "Self-intersection at or near point 1930.9019190074823 1056.7545794360328\n",
      "TopologyException: Input geom 1 is invalid: Self-intersection at 1930.9019190074823 1056.7545794360328\n",
      "Self-intersection at or near point 1930.9019190074823 1056.7545794360328\n",
      "TopologyException: Input geom 1 is invalid: Self-intersection at 1930.9019190074823 1056.7545794360328\n",
      "Self-intersection at or near point 1930.9019190074823 1056.7545794360328\n",
      "TopologyException: Input geom 1 is invalid: Self-intersection at 1930.9019190074823 1056.7545794360328\n",
      "Self-intersection at or near point 1930.9019190074823 1056.7545794360328\n",
      "TopologyException: Input geom 1 is invalid: Self-intersection at 1930.9019190074823 1056.7545794360328\n",
      "Self-intersection at or near point 1930.9019190074823 1056.7545794360328\n",
      "TopologyException: Input geom 1 is invalid: Self-intersection at 1930.9019190074823 1056.7545794360328\n",
      "Self-intersection at or near point 1930.9019190074823 1056.7545794360328\n",
      "TopologyException: Input geom 1 is invalid: Self-intersection at 1930.9019190074823 1056.7545794360328\n",
      "Self-intersection at or near point 1930.9019190074823 1056.7545794360328\n",
      "TopologyException: Input geom 1 is invalid: Self-intersection at 1930.9019190074823 1056.7545794360328\n",
      "Self-intersection at or near point 1930.9019190074823 1056.7545794360328\n",
      " 36%|████████████████████████████████████████████████▌                                                                                      | 82/228 [00:05<00:10, 14.28it/s]TopologyException: Input geom 1 is invalid: Self-intersection at 1913.6423647519689 1067.5518959558481\n",
      "Self-intersection at or near point 1913.6423647519689 1067.5518959558481\n",
      "TopologyException: Input geom 1 is invalid: Self-intersection at 1913.6423647519689 1067.5518959558481\n",
      "Self-intersection at or near point 1913.6423647519689 1067.5518959558481\n",
      "TopologyException: Input geom 1 is invalid: Self-intersection at 1913.6423647519689 1067.5518959558481\n",
      "Self-intersection at or near point 1913.6423647519689 1067.5518959558481\n",
      "TopologyException: Input geom 1 is invalid: Self-intersection at 1913.6423647519689 1067.5518959558481\n",
      "Self-intersection at or near point 1913.6423647519689 1067.5518959558481\n",
      "TopologyException: Input geom 1 is invalid: Self-intersection at 1913.6423647519689 1067.5518959558481\n",
      "Self-intersection at or near point 1913.6423647519689 1067.5518959558481\n",
      "TopologyException: Input geom 1 is invalid: Self-intersection at 1913.6423647519689 1067.5518959558481\n",
      "Self-intersection at or near point 1913.6423647519689 1067.5518959558481\n",
      "TopologyException: Input geom 1 is invalid: Self-intersection at 1913.6423647519689 1067.5518959558481\n",
      "Self-intersection at or near point 1913.6423647519689 1067.5518959558481\n",
      " 37%|█████████████████████████████████████████████████▋                                                                                     | 84/228 [00:05<00:10, 13.46it/s]TopologyException: Input geom 1 is invalid: Self-intersection at 1913.6423647519689 1067.5518959558481\n",
      "Self-intersection at or near point 1913.6423647519689 1067.5518959558481\n",
      "TopologyException: Input geom 1 is invalid: Self-intersection at 1913.6423647519689 1067.5518959558481\n",
      "Self-intersection at or near point 1913.6423647519689 1067.5518959558481\n",
      "TopologyException: Input geom 1 is invalid: Self-intersection at 1913.6423647519689 1067.5518959558481\n",
      "Self-intersection at or near point 1913.6423647519689 1067.5518959558481\n",
      "TopologyException: Input geom 1 is invalid: Self-intersection at 1913.6423647519689 1067.5518959558481\n",
      "Self-intersection at or near point 1913.6423647519689 1067.5518959558481\n",
      "TopologyException: Input geom 1 is invalid: Self-intersection at 1913.6423647519689 1067.5518959558481\n",
      "Self-intersection at or near point 1913.6423647519689 1067.5518959558481\n",
      "TopologyException: Input geom 1 is invalid: Self-intersection at 1913.6423647519689 1067.5518959558481\n",
      "Self-intersection at or near point 1913.6423647519689 1067.5518959558481\n",
      "TopologyException: Input geom 1 is invalid: Self-intersection at 1913.6423647519689 1067.5518959558481\n",
      "Self-intersection at or near point 1913.6423647519689 1067.5518959558481\n",
      "TopologyException: Input geom 1 is invalid: Self-intersection at 1913.6423647519689 1067.5518959558481\n",
      "Self-intersection at or near point 1913.6423647519689 1067.5518959558481\n",
      "TopologyException: Input geom 1 is invalid: Self-intersection at 1913.6423647519689 1067.5518959558481\n",
      "Self-intersection at or near point 1913.6423647519689 1067.5518959558481\n",
      "TopologyException: Input geom 1 is invalid: Self-intersection at 1913.6423647519689 1067.5518959558481\n",
      "Self-intersection at or near point 1913.6423647519689 1067.5518959558481\n",
      "TopologyException: Input geom 1 is invalid: Self-intersection at 1913.6423647519689 1067.5518959558481\n",
      "Self-intersection at or near point 1913.6423647519689 1067.5518959558481\n",
      " 38%|██████████████████████████████████████████████████▉                                                                                    | 86/228 [00:05<00:11, 12.82it/s]TopologyException: Input geom 1 is invalid: Self-intersection at 1913.6423647519689 1067.5518959558481\n",
      "Self-intersection at or near point 1913.6423647519689 1067.5518959558481\n",
      "TopologyException: Input geom 1 is invalid: Self-intersection at 1913.6423647519689 1067.5518959558481\n",
      "Self-intersection at or near point 1913.6423647519689 1067.5518959558481\n",
      "TopologyException: Input geom 1 is invalid: Self-intersection at 1913.6423647519689 1067.5518959558481\n",
      "Self-intersection at or near point 1913.6423647519689 1067.5518959558481\n",
      "TopologyException: Input geom 1 is invalid: Self-intersection at 1913.6423647519689 1067.5518959558481\n",
      "Self-intersection at or near point 1913.6423647519689 1067.5518959558481\n",
      "TopologyException: Input geom 1 is invalid: Self-intersection at 1913.6423647519689 1067.5518959558481\n",
      "Self-intersection at or near point 1913.6423647519689 1067.5518959558481\n",
      "TopologyException: Input geom 1 is invalid: Self-intersection at 1913.6423647519689 1067.5518959558481\n",
      "Self-intersection at or near point 1913.6423647519689 1067.5518959558481\n",
      "TopologyException: Input geom 1 is invalid: Self-intersection at 1913.6423647519689 1067.5518959558481\n",
      "Self-intersection at or near point 1913.6423647519689 1067.5518959558481\n",
      "TopologyException: Input geom 1 is invalid: Self-intersection at 1913.6423647519689 1067.5518959558481\n",
      "Self-intersection at or near point 1913.6423647519689 1067.5518959558481\n",
      "TopologyException: Input geom 1 is invalid: Self-intersection at 1913.6423647519689 1067.5518959558481\n",
      "Self-intersection at or near point 1913.6423647519689 1067.5518959558481\n",
      "TopologyException: Input geom 1 is invalid: Self-intersection at 1913.6423647519689 1067.5518959558481\n",
      "Self-intersection at or near point 1913.6423647519689 1067.5518959558481\n",
      "100%|██████████████████████████████████████████████████████████████████████████████████████████████████████████████████████████████████████| 228/228 [00:10<00:00, 22.67it/s]\n",
      "YOLOv5 🚀 2022-11-23 Python-3.10.8 torch-1.13.0+cu117 CUDA:0 (NVIDIA TITAN Xp, 12190MiB)\n",
      "\n"
     ]
    },
    {
     "name": "stdout",
     "output_type": "stream",
     "text": [
      "number of skipped 1\n",
      "{None: 221, 'ego_exit_segment': 6, 'car_exit_segment': 1}\n",
      "total_run_time 10.059957504272461\n",
      "total_detection_time 8.1523277759552\n",
      "total_generate_sample_plan_time 1.8109626770019531\n",
      "229\n",
      "229\n",
      "  filtered frames: 99.56331877729258%\n",
      "KKKKKKKKKKKKKKKKKKKKKKKKKKKKKKKKKKKKKKKKKKKKKKKKKKKKKKKKKKKKKKKKKKKKKKKKKKKKKKKKKKKKKKKKKKKKKKKKKKKK\n",
      "KKKKKKKKKKKKKKKKKKKKKKKKKKKKKKKKKKKKKKKKKKKKKKKKKKKKKKKKKKKKKKKKKKKKKKKKKKKKKKKKKKKKKKKKKKKKKKKKKKKK\n",
      "KKKKKKKKKKKKKKKKKKKKKKKKKKKK.\n",
      "Stage:  Tracking2D.StrongSORT\n",
      "Successfully loaded pretrained weights from \"/data/apperception/apperception/weights/osnet_x0_25_msmt17.pt\"\n",
      "** The following layers are discarded due to unmatched keys or layer size: ['classifier.weight', 'classifier.bias']\n"
     ]
    },
    {
     "name": "stderr",
     "output_type": "stream",
     "text": [
      "100%|██████████████████████████████████████████████████████████████████████████████████████████████████████████████████████████████████████| 229/229 [00:08<00:00, 26.48it/s]\n"
     ]
    },
    {
     "name": "stdout",
     "output_type": "stream",
     "text": [
      "None\n",
      "229\n",
      "  filtered frames: 99.56331877729258%\n",
      "KKKKKKKKKKKKKKKKKKKKKKKKKKKKKKKKKKKKKKKKKKKKKKKKKKKKKKKKKKKKKKKKKKKKKKKKKKKKKKKKKKKKKKKKKKKKKKKKKKKK\n",
      "KKKKKKKKKKKKKKKKKKKKKKKKKKKKKKKKKKKKKKKKKKKKKKKKKKKKKKKKKKKKKKKKKKKKKKKKKKKKKKKKKKKKKKKKKKKKKKKKKKKK\n",
      "KKKKKKKKKKKKKKKKKKKKKKKKKKKK.\n",
      "Stage:  Tracking3D.From2DAndRoad\n"
     ]
    },
    {
     "name": "stderr",
     "output_type": "stream",
     "text": [
      "100%|████████████████████████████████████████████████████████████████████████████████████████████████████████████████████████████████████| 229/229 [00:00<00:00, 8059.88it/s]\n"
     ]
    },
    {
     "name": "stdout",
     "output_type": "stream",
     "text": [
      "None\n",
      "229\n",
      "  filtered frames: 99.56331877729258%\n",
      "KKKKKKKKKKKKKKKKKKKKKKKKKKKKKKKKKKKKKKKKKKKKKKKKKKKKKKKKKKKKKKKKKKKKKKKKKKKKKKKKKKKKKKKKKKKKKKKKKKKK\n",
      "KKKKKKKKKKKKKKKKKKKKKKKKKKKKKKKKKKKKKKKKKKKKKKKKKKKKKKKKKKKKKKKKKKKKKKKKKKKKKKKKKKKKKKKKKKKKKKKKKKKK\n",
      "KKKKKKKKKKKKKKKKKKKKKKKKKKKK.\n",
      "Stage:  SegmentTrajectory.FromTracking3D\n",
      "None\n",
      "229\n",
      "  filtered frames: 99.56331877729258%\n",
      "KKKKKKKKKKKKKKKKKKKKKKKKKKKKKKKKKKKKKKKKKKKKKKKKKKKKKKKKKKKKKKKKKKKKKKKKKKKKKKKKKKKKKKKKKKKKKKKKKKKK\n",
      "KKKKKKKKKKKKKKKKKKKKKKKKKKKKKKKKKKKKKKKKKKKKKKKKKKKKKKKKKKKKKKKKKKKKKKKKKKKKKKKKKKKKKKKKKKKKKKKKKKKK\n",
      "KKKKKKKKKKKKKKKKKKKKKKKKKKKK.\n",
      "obj_id 1\n",
      "obj_id 2\n",
      "obj_id 3\n",
      "obj_id 4\n",
      "obj_id 5\n",
      "obj_id 6\n",
      "obj_id 8\n",
      "obj_id 9\n",
      "obj_id 11\n",
      "obj_id 17\n",
      "obj_id 23\n",
      "obj_id 25\n",
      "obj_id 28\n",
      "obj_id 30\n",
      "obj_id 34\n",
      "obj_id 36\n",
      "obj_id 40\n",
      "obj_id 43\n",
      "obj_id 44\n",
      "obj_id 46\n",
      "obj_id 57\n",
      "obj_id 62\n",
      "obj_id 63\n",
      "obj_id 69\n",
      "Time taken to insert trajectories: 0.18945074081420898\n",
      "info found [[5, 791.0, 412.0, 101.0, 124.0, (f=72 o=0), datetime.datetime(2018, 7, 26, 9, 18, 40, 662404), None, None, None, None, 5]]\n",
      "total preprocess time 33.86637258529663\n"
     ]
    }
   ],
   "source": [
    "preprocess(world, DATA_DIR, ['scene-0207-CAM_FRONT'], base=False)"
   ]
  },
  {
   "cell_type": "code",
   "execution_count": 17,
   "id": "c0b04fd5",
   "metadata": {},
   "outputs": [
    {
     "name": "stdout",
     "output_type": "stream",
     "text": [
      "execute: filter\n",
      "execute: get_id_time_camId_filename\n",
      "get_id_time_camId_filename \n",
      "        SELECT t0.itemId,t1.itemId,t2.itemId, cameras.timestamp, cameras.cameraId, cameras.filename\n",
      "        FROM (SELECT * FROM item_general_trajectory) as t0\n",
      "        JOIN (SELECT * FROM item_general_trajectory) as t1 USING (cameraId) JOIN (SELECT * FROM item_general_trajectory) as t2 USING (cameraId)\n",
      "        JOIN Cameras USING (cameraId)\n",
      "        WHERE ((t0.objectType LIKE 'car' OR t0.objectType LIKE 'truck') AND (t2.objectType LIKE 'car' OR t2.objectType LIKE 'truck') AND (t1.objectType LIKE 'car' OR t1.objectType LIKE 'truck') AND (t1.itemId<>t2.itemId) AND (t0.itemId<>t2.itemId) AND (t0.itemId<>t1.itemId) AND angleBetween(facingRelative(egoHeading,roadDirection(egoTranslation,egoHeading)),-15,15) AND (viewAngle(valueAtTimestamp(t0.trajCentroids,timestamp),egoHeading,egoTranslation)<35.0) AND (ST_Distance(egoTranslation,valueAtTimestamp(t0.trajCentroids,timestamp))<50) AND ahead(valueAtTimestamp(t0.trajCentroids,timestamp),egoTranslation,egoHeading) AND angleBetween(facingRelative(egoHeading,roadDirection(egoTranslation,egoHeading)),-15,15) AND (ConvertCamera(valueAtTimestamp(t1.trajCentroids,timestamp),egoTranslation,egoHeading)>ARRAY[-10,0]) AND (ConvertCamera(valueAtTimestamp(t1.trajCentroids,timestamp),egoTranslation,egoHeading)<ARRAY[-1,50]) AND angleBetween(facingRelative((headingAtTimestamp(t1.itemHeadings, timestamp))::real,egoHeading),140,180) AND (ST_Distance(valueAtTimestamp(t1.trajCentroids,timestamp),valueAtTimestamp(t2.trajCentroids,timestamp))<40) AND ahead(valueAtTimestamp(t2.trajCentroids,timestamp),valueAtTimestamp(t1.trajCentroids,timestamp),(headingAtTimestamp(t1.itemHeadings, timestamp))::real))\n",
      "        \n",
      "done execute node\n",
      "Result length: 14\n",
      "optimized query time: 19.754547357559204\n"
     ]
    }
   ],
   "source": [
    "optimized_query_start = time.time()\n",
    "id_time_camId_filename = world.get_id_time_camId_filename(3)\n",
    "print(f'optimized query time: {time.time()-optimized_query_start}')\n"
   ]
  },
  {
   "cell_type": "code",
   "execution_count": 18,
   "id": "e7ed7885",
   "metadata": {},
   "outputs": [],
   "source": [
    "optimized_results = [e[5] for e in id_time_camId_filename]\n",
    "construct_video(optimized_results)"
   ]
  },
  {
   "cell_type": "code",
   "execution_count": 19,
   "id": "268c07f9",
   "metadata": {},
   "outputs": [
    {
     "name": "stdout",
     "output_type": "stream",
     "text": [
      "0\n"
     ]
    }
   ],
   "source": [
    "false_negative = [f for f in base_results if f not in optimized_results]\n",
    "print(len(false_negative))\n",
    "construct_video(false_negative, vid_name=\"false_negative.avi\")"
   ]
  },
  {
   "cell_type": "code",
   "execution_count": 20,
   "id": "fe49bcbc",
   "metadata": {},
   "outputs": [
    {
     "name": "stdout",
     "output_type": "stream",
     "text": [
      "0\n"
     ]
    }
   ],
   "source": [
    "false_positive = [f for f in optimized_results if f not in base_results]\n",
    "print(len(false_positive))\n",
    "construct_video(false_positive, vid_name=\"false_positive.avi\")"
   ]
  },
  {
   "cell_type": "code",
   "execution_count": 21,
   "id": "470cf3f4",
   "metadata": {},
   "outputs": [],
   "source": [
    "investigation = [[5, 806.0, 414.0, 95.0, 121.0], [17, 186.0, 312.0, 395.0, 339.0], [37, 645.0, 475.0, 76.0, 63.0]]"
   ]
  },
  {
   "cell_type": "code",
   "execution_count": 22,
   "id": "098cc3b9",
   "metadata": {},
   "outputs": [],
   "source": [
    "import matplotlib.pyplot as plt\n",
    "import matplotlib.patches as patches\n",
    "from PIL import Image\n",
    "\n",
    "im = Image.open('/work/apperception/data/raw/nuScenes/full-dataset-v1.0/Trainval/samples/CAM_FRONT/n008-2018-07-26-12-13-50-0400__CAM_FRONT__1532621920162404.jpg')\n",
    "\n",
    "# Create figure and axes\n",
    "fig, ax = plt.subplots()\n",
    "\n",
    "# Display the image\n",
    "ax.imshow(im)\n",
    "\n",
    "# Create a Rectangle patch\n",
    "for obj in investigation:\n",
    "    obj_id = obj[0]\n",
    "    x,y,w,h = obj[1:5]\n",
    "    plt.text(x, y+15, 'obj'+str(obj_id))\n",
    "    rect = patches.Rectangle((x, y), w, h, linewidth=1, edgecolor='r', facecolor='none')\n",
    "\n",
    "    # Add the patch to the Axes\n",
    "    ax.add_patch(rect)\n",
    "\n",
    "plt.show()"
   ]
  },
  {
   "cell_type": "code",
   "execution_count": null,
   "id": "8e1a2cb9",
   "metadata": {},
   "outputs": [],
   "source": []
  }
 ],
 "metadata": {
  "kernelspec": {
   "display_name": "Python 3 (ipykernel)",
   "language": "python",
   "name": "python3"
  },
  "language_info": {
   "codemirror_mode": {
    "name": "ipython",
    "version": 3
   },
   "file_extension": ".py",
   "mimetype": "text/x-python",
   "name": "python",
   "nbconvert_exporter": "python",
   "pygments_lexer": "ipython3",
   "version": "3.10.8"
  },
  "vscode": {
   "interpreter": {
    "hash": "31f2aee4e71d21fbe5cf8b01ff0e069b9275f58929596ceb00d14d90e3e16cd6"
   }
  }
 },
 "nbformat": 4,
 "nbformat_minor": 5
}
