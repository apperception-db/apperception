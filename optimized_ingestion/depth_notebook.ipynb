{
 "cells": [
  {
   "cell_type": "code",
   "execution_count": null,
   "metadata": {},
   "outputs": [],
   "source": [
    "from pyquaternion import Quaternion\n",
    "import numpy as np\n",
    "from mono_depth_estimator import create_depth_frames\n",
    "import math"
   ]
  },
  {
   "cell_type": "code",
   "execution_count": null,
   "metadata": {},
   "outputs": [],
   "source": [
    "# Taken from https://github.com/apperception-db/apperception/blob/main/apperception/lens.py#L32\n",
    "def create_transform(resolution, cam_origin, yaw):\n",
    "\tx, y = resolution\n",
    "\tcam_origin = cam_origin\n",
    "\tcam_x, cam_y, cam_z = cam_origin\n",
    "\n",
    "\tyaw, pitch, roll = np.deg2rad(yaw), 0, 0 # assume perfect camera for no. TODO: Fix this\n",
    "\t# yaw, pitch, roll = np.array(Quaternion(cam_rotation).yaw_pitch_roll)\n",
    "\t# yaw, pitch, roll = np.deg2rad(yaw), np.deg2rad(pitch), np.deg2rad(roll)\n",
    "\tR_1, R_2, R_3 = np.cos(pitch)*np.cos(yaw), np.cos(pitch)*np.sin(yaw), -np.sin(pitch)\n",
    "\tR_4 = np.sin(roll)*np.sin(pitch)*np.cos(yaw) - np.cos(roll)*np.sin(yaw)\n",
    "\tR_5 = np.sin(roll)*np.sin(pitch)*np.sin(yaw) + np.cos(roll)*np.cos(yaw)\n",
    "\tR_6 = np.sin(roll)*np.cos(pitch)\n",
    "\n",
    "\tR_7 = np.cos(roll)*np.sin(pitch)*np.cos(yaw) + np.sin(roll)*np.sin(yaw)\n",
    "\tR_8 = np.cos(roll)*np.sin(pitch)*np.sin(yaw) - np.sin(roll)*np.cos(yaw)\n",
    "\tR_9 = np.cos(roll)*np.cos(pitch)\n",
    "\n",
    "\trotation_mat = np.matrix([[R_1, R_2, R_3],\n",
    "\t\t[R_4, R_5, R_6], \n",
    "\t\t[R_7, R_8, R_9]])\n",
    "\tcam_org_vec = np.matrix([[cam_x], [cam_y], [cam_z]])\n",
    "\tcol_vec = np.ravel(rotation_mat @ cam_org_vec)\n",
    "\tcol_x, col_y, col_z = col_vec\n",
    "\ttransform = np.matrix([[R_1, R_2, R_3, -col_x],\n",
    "\t\t[R_4, R_5, R_6, -col_y], \n",
    "\t\t[R_7, R_8, R_9, -col_z],\n",
    "\t\t[0, 0, 0, 1]\n",
    "\t\t])\n",
    "\treturn transform"
   ]
  },
  {
   "cell_type": "code",
   "execution_count": null,
   "metadata": {},
   "outputs": [],
   "source": [
    "def normalizeAngle(angle) -> float:\n",
    "    while angle > math.pi:\n",
    "        angle -= math.tau\n",
    "    while angle < -math.pi:\n",
    "        angle += math.tau\n",
    "    assert -math.pi <= angle <= math.pi\n",
    "    return angle\n",
    "\n",
    "def get_heading(rotation):\n",
    "    yaw = rotation.yaw_pitch_roll[0]\n",
    "    return normalizeAngle(yaw)\n",
    "\n",
    "rot = Quaternion(axis=[1, 0, 0], angle=np.pi / 2)\n",
    "def get_camera_heading(rotation):\n",
    "    return -get_heading(rot.rotate(rotation)) + math.pi / 2"
   ]
  },
  {
   "cell_type": "code",
   "execution_count": null,
   "metadata": {},
   "outputs": [],
   "source": [
    "def transform_to_world(frame_coordinates, cam_trans_abs, camera_heading, depths):\n",
    "    resolution = (1600, 900)\n",
    "    transform = create_transform(resolution, cam_trans_abs, camera_heading)\n",
    "    \n",
    "    depth = depths[frame_coordinates]\n",
    "    x, y = frame_coordinates\n",
    "    pixel = np.matrix([[x], [y], [depth], [0]])\n",
    "    return transform @ pixel"
   ]
  },
  {
   "cell_type": "code",
   "execution_count": null,
   "metadata": {},
   "outputs": [],
   "source": [
    "image = np.random.rand(1, 1600, 900, 3)"
   ]
  },
  {
   "cell_type": "code",
   "execution_count": null,
   "metadata": {},
   "outputs": [],
   "source": [
    "depths = create_depth_frames(image)[0]"
   ]
  },
  {
   "cell_type": "code",
   "execution_count": null,
   "metadata": {},
   "outputs": [],
   "source": [
    "cam_trans_abs = (400, 100, 0.5)\n",
    "cam_rotation = Quaternion([0.50772417,-0.49733922,0.49837166,-0.4964832]) # heading of 96 degrees\n",
    "camera_heading = 0 # get_camera_heading(cam_rotation)\n",
    "frame_coordinates = (800, 450)"
   ]
  },
  {
   "cell_type": "code",
   "execution_count": null,
   "metadata": {},
   "outputs": [],
   "source": [
    "depths[frame_coordinates]"
   ]
  },
  {
   "cell_type": "code",
   "execution_count": null,
   "metadata": {},
   "outputs": [],
   "source": [
    "np.set_printoptions(suppress=True)\n",
    "transform_to_world(frame_coordinates, cam_trans_abs, camera_heading, depths)"
   ]
  },
  {
   "cell_type": "code",
   "execution_count": null,
   "metadata": {},
   "outputs": [],
   "source": []
  }
 ],
 "metadata": {
  "kernelspec": {
   "display_name": "Python 3.8.8 ('base')",
   "language": "python",
   "name": "python3"
  },
  "language_info": {
   "codemirror_mode": {
    "name": "ipython",
    "version": 3
   },
   "file_extension": ".py",
   "mimetype": "text/x-python",
   "name": "python",
   "nbconvert_exporter": "python",
   "pygments_lexer": "ipython3",
   "version": "3.8.8"
  },
  "orig_nbformat": 4,
  "vscode": {
   "interpreter": {
    "hash": "5c9f2372a2bfaf539cf701a38e7f23ab828911ee177c2e7bc9c32aa1f4b546df"
   }
  }
 },
 "nbformat": 4,
 "nbformat_minor": 2
}
