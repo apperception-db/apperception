{
 "cells": [
  {
   "cell_type": "code",
   "execution_count": 1,
   "metadata": {},
   "outputs": [
    {
     "name": "stdout",
     "output_type": "stream",
     "text": [
      "c:\\Users\\youse\\Desktop\\Research\\Apperception\\apperception\n"
     ]
    }
   ],
   "source": [
    "%cd .."
   ]
  },
  {
   "cell_type": "code",
   "execution_count": 2,
   "metadata": {},
   "outputs": [
    {
     "data": {
      "text/plain": [
       "'\\nFilter for cars in an intersection (with the ego less than 10 meters from an intersection), with the same roadDirection as ego (feel free to edit)\\n'"
      ]
     },
     "execution_count": 2,
     "metadata": {},
     "output_type": "execute_result"
    }
   ],
   "source": [
    "# QUERY OBJECTIVE\n",
    "\"\"\"\n",
    "Filter for cars in an intersection (with the ego less than 10 meters from an intersection), with the same roadDirection as ego (feel free to edit)\n",
    "\"\"\""
   ]
  },
  {
   "cell_type": "code",
   "execution_count": 3,
   "metadata": {},
   "outputs": [],
   "source": [
    "from apperception.database import database\n",
    "from apperception.world import empty_world\n",
    "from apperception.utils import F"
   ]
  },
  {
   "cell_type": "code",
   "execution_count": 4,
   "metadata": {},
   "outputs": [],
   "source": [
    "def convert_frame_to_map(frame):\n",
    "    map_frame = {\n",
    "        \"cameraId\": frame[0],\n",
    "        \"frameId\": frame[1],\n",
    "        \"frameNum\": frame[2],\n",
    "        \"filename\": frame[3],\n",
    "        \"cameraTranslation\": frame[4],\n",
    "        \"cameraRotation\": frame[5],\n",
    "        \"cameraIntrinsic\": frame[6],\n",
    "        \"egoTranslation\": frame[7],\n",
    "        \"egoRotation\": frame[8],\n",
    "        \"timestamp\": frame[9],\n",
    "        \"cameraHeading\": frame[10],\n",
    "        \"egoHeading\": frame[11],\n",
    "        \"cameraTranslationAbs\": frame[12],\n",
    "        \"roadDirection\": frame[13]\n",
    "    }\n",
    "    return map_frame"
   ]
  },
  {
   "cell_type": "code",
   "execution_count": 5,
   "metadata": {},
   "outputs": [],
   "source": [
    "### Constants ###\n",
    "SAMPLING_RATE = 5\n",
    "CAMERA_ID = \"scene-0757\""
   ]
  },
  {
   "cell_type": "code",
   "execution_count": 6,
   "metadata": {},
   "outputs": [],
   "source": [
    "# Sample All Frames from Video at a #\n",
    "query = f\"SELECT * FROM Cameras WHERE cameraId = '{CAMERA_ID}' ORDER BY frameNum\"\n",
    "\n",
    "all_frames = database._execute_query(query)"
   ]
  },
  {
   "cell_type": "code",
   "execution_count": 7,
   "metadata": {},
   "outputs": [],
   "source": [
    "sampled_frames = all_frames[::SAMPLING_RATE]"
   ]
  },
  {
   "cell_type": "code",
   "execution_count": 8,
   "metadata": {},
   "outputs": [],
   "source": [
    "intersection_filtered = []\n",
    "# TODO: Connection to DB for each execution might take too much time, do all at same time\n",
    "for frame in sampled_frames:\n",
    "    map_frame = convert_frame_to_map(frame)\n",
    "    # use sql in order to make use of mobilitydb features. TODO: Find python alternative\n",
    "    query = f\"SELECT TRUE WHERE minDistance('{map_frame['egoTranslation']}', 'intersection') < 10\" \n",
    "    result = database._execute_query(query)\n",
    "    if result:\n",
    "        intersection_filtered.append(frame)"
   ]
  },
  {
   "cell_type": "code",
   "execution_count": 13,
   "metadata": {},
   "outputs": [],
   "source": [
    "intersection_filtered = []\n",
    "# TODO: Connection to DB for each execution might take too much time, do all at same time\n",
    "for frame in sampled_frames:\n",
    "    map_frame = convert_frame_to_map(frame)\n",
    "    # use sql in order to make use of mobilitydb features. TODO: Find python alternative\n",
    "    query = f\"SELECT TRUE WHERE inView('intersection', '{map_frame['egoHeading']}', '{map_frame['egoTranslation']}', 10, 35)\" \n",
    "    result = database._execute_query(query)\n",
    "    if result:\n",
    "        intersection_filtered.append(frame)"
   ]
  },
  {
   "cell_type": "code",
   "execution_count": 14,
   "metadata": {},
   "outputs": [
    {
     "data": {
      "text/plain": [
       "[('scene-0757',\n",
       "  '0a7aef80edbc4854bcd781a3becb943c',\n",
       "  1,\n",
       "  'samples/CAM_FRONT/n008-2018-08-30-15-16-55-0400__CAM_FRONT__1535657118112404.jpg',\n",
       "  '0101000080BC7F3AD5558DFB3F29C895367D79733F98001BCF29EBF73F',\n",
       "  [0.50772417, -0.49733922, 0.49837166, -0.4964832],\n",
       "  [[1252.8131, 0.0, 826.58813], [0.0, 1252.8131, 469.98465], [0.0, 0.0, 1.0]],\n",
       "  '0101000080E0ADEE26F25273401F1C4BAE4FE584400000000000000000',\n",
       "  [-0.22968984, 0.010745329, -0.024026645, -0.9729079],\n",
       "  datetime.datetime(2018, 8, 30, 12, 25, 18, 112404, tzinfo=datetime.timezone.utc),\n",
       "  64.00627,\n",
       "  63.418377,\n",
       "  '010100008043FB6185093A7340051560980BEC8440D86127772B02F73F',\n",
       "  Decimal('63.4184')),\n",
       " ('scene-0757',\n",
       "  '029dc949763249ddbeb3f756cb7b259f',\n",
       "  6,\n",
       "  'samples/CAM_FRONT/n008-2018-08-30-15-16-55-0400__CAM_FRONT__1535657126612404.jpg',\n",
       "  '0101000080BC7F3AD5558DFB3F29C895367D79733F98001BCF29EBF73F',\n",
       "  [0.50772417, -0.49733922, 0.49837166, -0.4964832],\n",
       "  [[1252.8131, 0.0, 826.58813], [0.0, 1252.8131, 469.98465], [0.0, 0.0, 1.0]],\n",
       "  '0101000080203FA30D01537340FBA0A44757E584400000000000000000',\n",
       "  [-0.22988388, 0.011084415, -0.023530621, -0.9728704],\n",
       "  datetime.datetime(2018, 8, 30, 12, 25, 26, 612404, tzinfo=datetime.timezone.utc),\n",
       "  63.982586,\n",
       "  63.394688,\n",
       "  '010100008026C13867143A7340C6962FFA11EC8440236E51AE3DFFF63F',\n",
       "  Decimal('63.3947'))]"
      ]
     },
     "execution_count": 14,
     "metadata": {},
     "output_type": "execute_result"
    }
   ],
   "source": [
    "intersection_filtered"
   ]
  }
 ],
 "metadata": {
  "kernelspec": {
   "display_name": "Python 3.8.8 ('base')",
   "language": "python",
   "name": "python3"
  },
  "language_info": {
   "codemirror_mode": {
    "name": "ipython",
    "version": 3
   },
   "file_extension": ".py",
   "mimetype": "text/x-python",
   "name": "python",
   "nbconvert_exporter": "python",
   "pygments_lexer": "ipython3",
   "version": "3.8.8"
  },
  "orig_nbformat": 4,
  "vscode": {
   "interpreter": {
    "hash": "5c9f2372a2bfaf539cf701a38e7f23ab828911ee177c2e7bc9c32aa1f4b546df"
   }
  }
 },
 "nbformat": 4,
 "nbformat_minor": 2
}
