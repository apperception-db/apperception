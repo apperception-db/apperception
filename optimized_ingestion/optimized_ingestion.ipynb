{
 "cells": [
  {
   "cell_type": "code",
   "execution_count": null,
   "metadata": {},
   "outputs": [],
   "source": [
    "%cd .."
   ]
  },
  {
   "cell_type": "code",
   "execution_count": null,
   "metadata": {},
   "outputs": [],
   "source": [
    "# QUERY OBJECTIVE\n",
    "\"\"\"\n",
    "Filter for cars in an intersection (with the ego less than 10 meters from an intersection), with the same roadDirection as ego (feel free to edit)\n",
    "\"\"\""
   ]
  },
  {
   "cell_type": "code",
   "execution_count": null,
   "metadata": {},
   "outputs": [],
   "source": [
    "from apperception.database import database\n",
    "from apperception.world import empty_world\n",
    "from apperception.utils import F"
   ]
  },
  {
   "cell_type": "code",
   "execution_count": null,
   "metadata": {},
   "outputs": [],
   "source": [
    "def convert_frame_to_map(frame):\n",
    "    map_frame = {\n",
    "        \"cameraId\": frame[0],\n",
    "        \"frameId\": frame[1],\n",
    "        \"frameNum\": frame[2],\n",
    "        \"filename\": frame[3],\n",
    "        \"cameraTranslation\": frame[4],\n",
    "        \"cameraRotation\": frame[5],\n",
    "        \"cameraIntrinsic\": frame[6],\n",
    "        \"egoTranslation\": frame[7],\n",
    "        \"egoRotation\": frame[8],\n",
    "        \"timestamp\": frame[9],\n",
    "        \"cameraHeading\": frame[10],\n",
    "        \"egoHeading\": frame[11],\n",
    "        \"cameraTranslationAbs\": frame[12],\n",
    "        \"roadDirection\": frame[13]\n",
    "    }\n",
    "    return map_frame"
   ]
  },
  {
   "cell_type": "code",
   "execution_count": null,
   "metadata": {},
   "outputs": [],
   "source": [
    "### Constants ###\n",
    "SAMPLING_RATE = 5\n",
    "CAMERA_ID = \"scene-0757\""
   ]
  },
  {
   "cell_type": "code",
   "execution_count": null,
   "metadata": {},
   "outputs": [],
   "source": [
    "# Sample All Frames from Video at a #\n",
    "query = f\"SELECT * FROM Cameras WHERE cameraId = '{CAMERA_ID}' ORDER BY frameNum\"\n",
    "\n",
    "all_frames = database._execute_query(query)"
   ]
  },
  {
   "cell_type": "code",
   "execution_count": null,
   "metadata": {},
   "outputs": [],
   "source": [
    "sampled_frames = all_frames[::SAMPLING_RATE]"
   ]
  },
  {
   "cell_type": "code",
   "execution_count": null,
   "metadata": {},
   "outputs": [],
   "source": [
    "intersection_filtered = []\n",
    "for frame in sampled_frames:\n",
    "    map_frame = convert_frame_to_map(frame)\n",
    "    query = f\"SELECT TRUE WHERE minDistance('{map_frame['egoTranslation']}', 'intersection') < 10\" # use sql in order to make use of mobilitydb features. TODO: Find python alternative\n",
    "    # TODO: Connection to DB for each execution might take too much time, do all at same time\n",
    "    result = database._execute_query(query)\n",
    "    if result:\n",
    "        intersection_filtered.append(frame)"
   ]
  },
  {
   "cell_type": "code",
   "execution_count": null,
   "metadata": {},
   "outputs": [],
   "source": [
    "intersection_filtered"
   ]
  },
  {
   "cell_type": "code",
   "execution_count": null,
   "metadata": {},
   "outputs": [],
   "source": []
  }
 ],
 "metadata": {
  "kernelspec": {
   "display_name": "Python 3.8.8 ('base')",
   "language": "python",
   "name": "python3"
  },
  "language_info": {
   "codemirror_mode": {
    "name": "ipython",
    "version": 3
   },
   "file_extension": ".py",
   "mimetype": "text/x-python",
   "name": "python",
   "nbconvert_exporter": "python",
   "pygments_lexer": "ipython3",
   "version": "3.8.8"
  },
  "orig_nbformat": 4,
  "vscode": {
   "interpreter": {
    "hash": "5c9f2372a2bfaf539cf701a38e7f23ab828911ee177c2e7bc9c32aa1f4b546df"
   }
  }
 },
 "nbformat": 4,
 "nbformat_minor": 2
}
