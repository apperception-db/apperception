{
 "cells": [
  {
   "cell_type": "code",
   "execution_count": null,
   "metadata": {},
   "outputs": [],
   "source": [
    "%cd .."
   ]
  },
  {
   "cell_type": "code",
   "execution_count": null,
   "metadata": {},
   "outputs": [],
   "source": [
    "from apperception.database import database"
   ]
  },
  {
   "cell_type": "code",
   "execution_count": null,
   "metadata": {},
   "outputs": [],
   "source": [
    "############ ROAD DIRECTION ############"
   ]
  },
  {
   "cell_type": "code",
   "execution_count": null,
   "metadata": {},
   "outputs": [],
   "source": [
    "### Add Road Direction Attributes to Tables ###\n",
    "query = \"\"\"ALTER TABLE Item_General_Trajectory\n",
    "           ADD roadDirections tfloat;\n",
    "\n",
    "           ALTER TABLE Cameras\n",
    "           ADD roadDirection numeric;\n",
    "        \"\"\"\n",
    "database._execute_query(query=query)\n",
    "database._commit(True)"
   ]
  },
  {
   "cell_type": "code",
   "execution_count": null,
   "metadata": {},
   "outputs": [],
   "source": [
    "### Update Road Direction For Camera ###\n",
    "query = \"\"\"UPDATE Cameras\n",
    "           SET roadDirection = roadDirection(egoTranslation, egoHeading)\n",
    "           WHERE roadDirection IS NULL;\n",
    "        \"\"\"\n",
    "database._execute_query(query=query)\n",
    "database._commit(True)"
   ]
  },
  {
   "cell_type": "code",
   "execution_count": null,
   "metadata": {},
   "outputs": [],
   "source": [
    "### Create Function For roadDirection With Traj ###\n",
    "query = \"\"\" \n",
    "        DROP FUNCTION IF EXISTS _roadDirectionAttr(trajectory tgeompoint, headings tfloat);\n",
    "        CREATE OR REPLACE FUNCTION _roadDirectionAttr(trajectory tgeompoint, headings tfloat) RETURNS tfloat AS\n",
    "        $BODY$\n",
    "        declare trajString text;\n",
    "        declare trajPointString text;\n",
    "        declare trajPoint geometry;\n",
    "        declare trajTime timestamptz;\n",
    "        declare result tfloat;\n",
    "        declare currentRoadDir float;\n",
    "        declare currentRoadDirTime tfloat;\n",
    "        BEGIN\n",
    "        trajString := asText(trajectory);\n",
    "        trajString := substr(trajString, 3, length(trajString) - 3);\n",
    "        FOREACH trajPointString IN ARRAY STRING_TO_ARRAY(trajString, ',')\n",
    "        LOOP\n",
    "                trajPoint := ST_GeomFromText((STRING_TO_ARRAY(trajPointString, '@'))[1]);\n",
    "                trajTime :=  (STRING_TO_ARRAY(trajPointString, '@'))[2];\n",
    "\n",
    "                currentRoadDir := roadDirection(trajPoint, CAST(valueAtTimestamp(headings, trajTime) AS numeric));\n",
    "                currentRoadDirTime := CAST(currentRoadDir AS text) || CAST('@' AS text) || trajTime;\n",
    "\n",
    "                IF result IS NULL THEN\n",
    "                        result = currentRoadDirTime;\n",
    "                ELSE\n",
    "                        result := appendInstant(result, currentRoadDirTime);\n",
    "                END IF;\n",
    "        END LOOP;\n",
    "        RETURN result;\n",
    "        END\n",
    "        $BODY$\n",
    "        LANGUAGE 'plpgsql' ;\n",
    "        \"\"\"\n",
    "database._execute_query(query=query)\n",
    "database._commit(True)"
   ]
  },
  {
   "cell_type": "code",
   "execution_count": null,
   "metadata": {},
   "outputs": [],
   "source": [
    "### Update Road Direction For General Trajectory Table ###\n",
    "query = \"\"\"UPDATE Item_General_Trajectory\n",
    "           SET roadDirections = _roadDirectionAttr(trajCentroids, itemHeadings)\n",
    "           WHERE roadDirections IS NULL AND objectType LIKE 'vehicle%';\n",
    "        \"\"\"\n",
    "database._execute_query(query=query)\n",
    "database._commit(True)"
   ]
  },
  {
   "cell_type": "code",
   "execution_count": null,
   "metadata": {},
   "outputs": [],
   "source": [
    "############ MIN AND MAX TIMESTAMPS ############"
   ]
  },
  {
   "cell_type": "code",
   "execution_count": null,
   "metadata": {},
   "outputs": [],
   "source": [
    "### Add minTimestamp Attributes to Trajectory Table ###\n",
    "query = \"\"\"ALTER TABLE Item_General_Trajectory\n",
    "           ADD minTimestamp timestamptz;\n",
    "\n",
    "           ALTER TABLE Item_General_Trajectory\n",
    "           ADD maxTimestamp timestamptz;\n",
    "        \"\"\"\n",
    "database._execute_query(query=query)\n",
    "database._commit(True)"
   ]
  },
  {
   "cell_type": "code",
   "execution_count": null,
   "metadata": {},
   "outputs": [],
   "source": [
    "### Update minTimestamp For Trajectories ###\n",
    "query = \"\"\"UPDATE Item_General_Trajectory\n",
    "           SET minTimestamp = lower(trajCentroids::period)\n",
    "           WHERE minTimestamp IS NULL;\n",
    "        \"\"\"\n",
    "database._execute_query(query=query)\n",
    "database._commit(True)"
   ]
  },
  {
   "cell_type": "code",
   "execution_count": null,
   "metadata": {},
   "outputs": [],
   "source": [
    "### Update maxTimestamp For Trajectories ###\n",
    "query = \"\"\"UPDATE Item_General_Trajectory\n",
    "           SET maxTimestamp = upper(trajCentroids::period)\n",
    "           WHERE maxTimestamp IS NULL;\n",
    "        \"\"\"\n",
    "database._execute_query(query=query)\n",
    "database._commit(True)"
   ]
  },
  {
   "cell_type": "code",
   "execution_count": null,
   "metadata": {},
   "outputs": [],
   "source": [
    "############ ROAD SEGMENT TYPES ############"
   ]
  }
 ],
 "metadata": {
  "kernelspec": {
   "display_name": "Python 3.8.8 ('base')",
   "language": "python",
   "name": "python3"
  },
  "language_info": {
   "codemirror_mode": {
    "name": "ipython",
    "version": 3
   },
   "file_extension": ".py",
   "mimetype": "text/x-python",
   "name": "python",
   "nbconvert_exporter": "python",
   "pygments_lexer": "ipython3",
   "version": "3.8.8"
  },
  "vscode": {
   "interpreter": {
    "hash": "5c9f2372a2bfaf539cf701a38e7f23ab828911ee177c2e7bc9c32aa1f4b546df"
   }
  }
 },
 "nbformat": 4,
 "nbformat_minor": 2
}
