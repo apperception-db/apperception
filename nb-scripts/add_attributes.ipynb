{
 "cells": [
  {
   "cell_type": "code",
   "execution_count": null,
   "metadata": {},
   "outputs": [],
   "source": [
    "%cd .."
   ]
  },
  {
   "cell_type": "code",
   "execution_count": null,
   "metadata": {},
   "outputs": [],
   "source": [
    "from apperception.database import database"
   ]
  },
  {
   "cell_type": "code",
   "execution_count": null,
   "metadata": {},
   "outputs": [],
   "source": [
    "### Add Road Direction Attributes to Tables ###\n",
    "query = \"\"\"ALTER TABLE Item_General_Trajectory\n",
    "           ADD roadDirection tfloat;\n",
    "\n",
    "           ALTER TABLE Cameras\n",
    "           ADD roadDirection numeric;\n",
    "        \"\"\"\n",
    "database._execute_query(query=query)"
   ]
  },
  {
   "cell_type": "code",
   "execution_count": null,
   "metadata": {},
   "outputs": [],
   "source": [
    "### Update Road Direction For Camera ###\n",
    "query = \"\"\"UPDATE Cameras AS c\n",
    "           SET roadDirection = roadDirection(egoTranslation, egoHeading)\n",
    "           WHERE roadDirection IS NULL;\n",
    "        \"\"\"\n",
    "database._execute_query(query=query)"
   ]
  },
  {
   "cell_type": "code",
   "execution_count": null,
   "metadata": {},
   "outputs": [],
   "source": [
    "### Create Function For roadDirection With Traj ###\n",
    "query = \"\"\" \n",
    "        DROP FUNCTION IF EXISTS _roadDirectionAttr(trajectory tgeompoint, headings tfloat);\n",
    "        CREATE OR REPLACE FUNCTION _roadDirectionAttr(trajectory tgeompoint, headings tfloat) RETURNS tfloat AS\n",
    "        $BODY$\n",
    "        BEGIN\n",
    "        RETURN roadDirection(valueAtTimestamp(trajectory, _time), default_dir);\n",
    "        END\n",
    "        $BODY$\n",
    "        LANGUAGE 'plpgsql' ;\n",
    "        \"\"\""
   ]
  }
 ],
 "metadata": {
  "kernelspec": {
   "display_name": "Python 3.8.8 ('base')",
   "language": "python",
   "name": "python3"
  },
  "language_info": {
   "codemirror_mode": {
    "name": "ipython",
    "version": 3
   },
   "file_extension": ".py",
   "mimetype": "text/x-python",
   "name": "python",
   "nbconvert_exporter": "python",
   "pygments_lexer": "ipython3",
   "version": "3.8.8"
  },
  "orig_nbformat": 4,
  "vscode": {
   "interpreter": {
    "hash": "5c9f2372a2bfaf539cf701a38e7f23ab828911ee177c2e7bc9c32aa1f4b546df"
   }
  }
 },
 "nbformat": 4,
 "nbformat_minor": 2
}
