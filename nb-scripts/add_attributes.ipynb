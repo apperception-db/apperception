{
 "cells": [
  {
   "cell_type": "code",
   "execution_count": null,
   "metadata": {},
   "outputs": [],
   "source": [
    "%cd .."
   ]
  },
  {
   "cell_type": "code",
   "execution_count": null,
   "metadata": {},
   "outputs": [],
   "source": [
    "from apperception.database import database"
   ]
  },
  {
   "cell_type": "code",
   "execution_count": 29,
   "metadata": {},
   "outputs": [],
   "source": [
    "############ ROAD DIRECTION ############"
   ]
  },
  {
   "cell_type": "code",
   "execution_count": null,
   "metadata": {},
   "outputs": [],
   "source": [
    "### Add Road Direction Attributes to Tables ###\n",
    "query = \"\"\"ALTER TABLE Item_General_Trajectory\n",
    "           ADD roadDirection tfloat;\n",
    "\n",
    "           ALTER TABLE Cameras\n",
    "           ADD roadDirection numeric;\n",
    "        \"\"\"\n",
    "database._execute_query(query=query)"
   ]
  },
  {
   "cell_type": "code",
   "execution_count": null,
   "metadata": {},
   "outputs": [],
   "source": [
    "### Update Road Direction For Camera ###\n",
    "query = \"\"\"UPDATE Cameras\n",
    "           SET roadDirection = roadDirection(egoTranslation, egoHeading)\n",
    "           WHERE roadDirection IS NULL;\n",
    "        \"\"\"\n",
    "database._execute_query(query=query)"
   ]
  },
  {
   "cell_type": "code",
   "execution_count": 61,
   "metadata": {},
   "outputs": [
    {
     "ename": "FunctionExecutedNoReturnStatement",
     "evalue": "control reached end of function without RETURN\nCONTEXT:  PL/pgSQL function _roaddirectionattr(tgeompoint,tfloat)\n",
     "output_type": "error",
     "traceback": [
      "\u001b[1;31m---------------------------------------------------------------------------\u001b[0m",
      "\u001b[1;31mFunctionExecutedNoReturnStatement\u001b[0m         Traceback (most recent call last)",
      "\u001b[1;32m<ipython-input-61-19433089dd9a>\u001b[0m in \u001b[0;36m<module>\u001b[1;34m\u001b[0m\n\u001b[0;32m     25\u001b[0m         \u001b[0mSELECT\u001b[0m \u001b[0m_roadDirectionAttr\u001b[0m\u001b[1;33m(\u001b[0m\u001b[0mtgeompoint\u001b[0m  \u001b[1;34m'[Point(1 1)@2001-01-01, Point(2 2)@2001-01-03, POINT(3 3)@2001-01-05]'\u001b[0m\u001b[1;33m,\u001b[0m \u001b[0mtfloat\u001b[0m  \u001b[1;34m'[1@2001-01-01, 2@2001-01-03, 3@2001-01-05]'\u001b[0m\u001b[1;33m)\u001b[0m\u001b[1;33m\u001b[0m\u001b[1;33m\u001b[0m\u001b[0m\n\u001b[0;32m     26\u001b[0m         \"\"\"\n\u001b[1;32m---> 27\u001b[1;33m \u001b[0mdatabase\u001b[0m\u001b[1;33m.\u001b[0m\u001b[0m_execute_query\u001b[0m\u001b[1;33m(\u001b[0m\u001b[0mquery\u001b[0m\u001b[1;33m=\u001b[0m\u001b[0mquery\u001b[0m\u001b[1;33m)\u001b[0m\u001b[1;33m\u001b[0m\u001b[1;33m\u001b[0m\u001b[0m\n\u001b[0m\u001b[0;32m     28\u001b[0m \u001b[1;31m# SELECT STRING_TO_ARRAY(asText(tgeompoint  '[Point(1 1)@2001-01-01, Point(2 2)@2001-01-03, POINT(3 3)@2001-01-05]'), ',');\u001b[0m\u001b[1;33m\u001b[0m\u001b[1;33m\u001b[0m\u001b[1;33m\u001b[0m\u001b[0m\n",
      "\u001b[1;32mc:\\Users\\youse\\Desktop\\Research\\Apperception\\apperception\\apperception\\database.py\u001b[0m in \u001b[0;36m_execute_query\u001b[1;34m(self, query)\u001b[0m\n\u001b[0;32m    193\u001b[0m         \u001b[1;32mexcept\u001b[0m \u001b[0mpsycopg2\u001b[0m\u001b[1;33m.\u001b[0m\u001b[0merrors\u001b[0m\u001b[1;33m.\u001b[0m\u001b[0mDatabaseError\u001b[0m \u001b[1;32mas\u001b[0m \u001b[0merror\u001b[0m\u001b[1;33m:\u001b[0m\u001b[1;33m\u001b[0m\u001b[1;33m\u001b[0m\u001b[0m\n\u001b[0;32m    194\u001b[0m             \u001b[0mself\u001b[0m\u001b[1;33m.\u001b[0m\u001b[0mconnection\u001b[0m\u001b[1;33m.\u001b[0m\u001b[0mrollback\u001b[0m\u001b[1;33m(\u001b[0m\u001b[1;33m)\u001b[0m\u001b[1;33m\u001b[0m\u001b[1;33m\u001b[0m\u001b[0m\n\u001b[1;32m--> 195\u001b[1;33m             \u001b[1;32mraise\u001b[0m \u001b[0merror\u001b[0m\u001b[1;33m\u001b[0m\u001b[1;33m\u001b[0m\u001b[0m\n\u001b[0m\u001b[0;32m    196\u001b[0m \u001b[1;33m\u001b[0m\u001b[0m\n\u001b[0;32m    197\u001b[0m     \u001b[1;32mdef\u001b[0m \u001b[0m_execute_update\u001b[0m\u001b[1;33m(\u001b[0m\u001b[0mself\u001b[0m\u001b[1;33m,\u001b[0m \u001b[0mquery\u001b[0m\u001b[1;33m:\u001b[0m \u001b[0mstr\u001b[0m\u001b[1;33m,\u001b[0m \u001b[0mcommit\u001b[0m\u001b[1;33m:\u001b[0m \u001b[0mbool\u001b[0m \u001b[1;33m=\u001b[0m \u001b[1;32mTrue\u001b[0m\u001b[1;33m)\u001b[0m \u001b[1;33m->\u001b[0m \u001b[1;32mNone\u001b[0m\u001b[1;33m:\u001b[0m\u001b[1;33m\u001b[0m\u001b[1;33m\u001b[0m\u001b[0m\n",
      "\u001b[1;32mc:\\Users\\youse\\Desktop\\Research\\Apperception\\apperception\\apperception\\database.py\u001b[0m in \u001b[0;36m_execute_query\u001b[1;34m(self, query)\u001b[0m\n\u001b[0;32m    186\u001b[0m     \u001b[1;32mdef\u001b[0m \u001b[0m_execute_query\u001b[0m\u001b[1;33m(\u001b[0m\u001b[0mself\u001b[0m\u001b[1;33m,\u001b[0m \u001b[0mquery\u001b[0m\u001b[1;33m:\u001b[0m \u001b[0mstr\u001b[0m\u001b[1;33m)\u001b[0m \u001b[1;33m->\u001b[0m \u001b[0mOptional\u001b[0m\u001b[1;33m[\u001b[0m\u001b[0mList\u001b[0m\u001b[1;33m[\u001b[0m\u001b[0mtuple\u001b[0m\u001b[1;33m]\u001b[0m\u001b[1;33m]\u001b[0m\u001b[1;33m:\u001b[0m\u001b[1;33m\u001b[0m\u001b[1;33m\u001b[0m\u001b[0m\n\u001b[0;32m    187\u001b[0m         \u001b[1;32mtry\u001b[0m\u001b[1;33m:\u001b[0m\u001b[1;33m\u001b[0m\u001b[1;33m\u001b[0m\u001b[0m\n\u001b[1;32m--> 188\u001b[1;33m             \u001b[0mself\u001b[0m\u001b[1;33m.\u001b[0m\u001b[0mcursor\u001b[0m\u001b[1;33m.\u001b[0m\u001b[0mexecute\u001b[0m\u001b[1;33m(\u001b[0m\u001b[0mquery\u001b[0m\u001b[1;33m)\u001b[0m\u001b[1;33m\u001b[0m\u001b[1;33m\u001b[0m\u001b[0m\n\u001b[0m\u001b[0;32m    189\u001b[0m             \u001b[1;32mif\u001b[0m \u001b[0mself\u001b[0m\u001b[1;33m.\u001b[0m\u001b[0mcursor\u001b[0m\u001b[1;33m.\u001b[0m\u001b[0mpgresult_ptr\u001b[0m \u001b[1;32mis\u001b[0m \u001b[1;32mnot\u001b[0m \u001b[1;32mNone\u001b[0m\u001b[1;33m:\u001b[0m\u001b[1;33m\u001b[0m\u001b[1;33m\u001b[0m\u001b[0m\n\u001b[0;32m    190\u001b[0m                 \u001b[1;32mreturn\u001b[0m \u001b[0mself\u001b[0m\u001b[1;33m.\u001b[0m\u001b[0mcursor\u001b[0m\u001b[1;33m.\u001b[0m\u001b[0mfetchall\u001b[0m\u001b[1;33m(\u001b[0m\u001b[1;33m)\u001b[0m\u001b[1;33m\u001b[0m\u001b[1;33m\u001b[0m\u001b[0m\n",
      "\u001b[1;31mFunctionExecutedNoReturnStatement\u001b[0m: control reached end of function without RETURN\nCONTEXT:  PL/pgSQL function _roaddirectionattr(tgeompoint,tfloat)\n"
     ]
    }
   ],
   "source": [
    "### Create Function For roadDirection With Traj ###\n",
    "query = \"\"\" \n",
    "        DROP FUNCTION IF EXISTS _roadDirectionAttr(trajectory tgeompoint, headings tfloat);\n",
    "        CREATE OR REPLACE FUNCTION _roadDirectionAttr(trajectory tgeompoint, headings tfloat) RETURNS tfloat AS\n",
    "        $BODY$\n",
    "        declare trajString text;\n",
    "        declare trajPointString text;\n",
    "        declare trajPoint geometry;\n",
    "        declare trajTime timestamptz;\n",
    "        BEGIN\n",
    "        trajString := asText(trajectory);\n",
    "        trajString := substr(trajString, 2, length(trajString) - 2);\n",
    "        FOREACH trajPointString IN ARRAY STRING_TO_ARRAY(trajString, ',')\n",
    "        LOOP\n",
    "                raise notice 'trajPoint: %', STRING_TO_ARRAY(trajPointString, '@');\n",
    "                trajPoint := ST_GeomFromText((STRING_TO_ARRAY(trajPointString, '@'))[0]);\n",
    "                trajTime :=  (STRING_TO_ARRAY(trajPointString, '@'))[2];\n",
    "        END LOOP;\n",
    "        END\n",
    "        $BODY$\n",
    "        LANGUAGE 'plpgsql' ;\n",
    "\n",
    "        SELECT _roadDirectionAttr(tgeompoint  '[Point(1 1)@2001-01-01, Point(2 2)@2001-01-03, POINT(3 3)@2001-01-05]', tfloat  '[1@2001-01-01, 2@2001-01-03, 3@2001-01-05]')\n",
    "        \"\"\"\n",
    "database._execute_query(query=query)\n",
    "# SELECT STRING_TO_ARRAY(asText(tgeompoint  '[Point(1 1)@2001-01-01, Point(2 2)@2001-01-03, POINT(3 3)@2001-01-05]'), ',');\n"
   ]
  },
  {
   "cell_type": "code",
   "execution_count": 30,
   "metadata": {},
   "outputs": [],
   "source": [
    "############ MIN AND MAX TIMESTAMPS ############"
   ]
  },
  {
   "cell_type": "code",
   "execution_count": 26,
   "metadata": {},
   "outputs": [],
   "source": [
    "### Add minTimestamp Attributes to Trajectory Table ###\n",
    "query = \"\"\"ALTER TABLE Item_General_Trajectory\n",
    "           ADD minTimestamp timestamptz;\n",
    "\n",
    "           ALTER TABLE Item_General_Trajectory\n",
    "           ADD maxTimestamp timestamptz;\n",
    "        \"\"\"\n",
    "database._execute_query(query=query)"
   ]
  },
  {
   "cell_type": "code",
   "execution_count": 27,
   "metadata": {},
   "outputs": [],
   "source": [
    "### Update minTimestamp For Trajectories ###\n",
    "query = \"\"\"UPDATE Item_General_Trajectory\n",
    "           SET minTimestamp = lower(trajCentroids::period)\n",
    "           WHERE minTimestamp IS NULL;\n",
    "        \"\"\"\n",
    "database._execute_query(query=query)"
   ]
  },
  {
   "cell_type": "code",
   "execution_count": 28,
   "metadata": {},
   "outputs": [],
   "source": [
    "### Update maxTimestamp For Trajectories ###\n",
    "query = \"\"\"UPDATE Item_General_Trajectory\n",
    "           SET maxTimestamp = upper(trajCentroids::period)\n",
    "           WHERE maxTimestamp IS NULL;\n",
    "        \"\"\"\n",
    "database._execute_query(query=query)"
   ]
  },
  {
   "cell_type": "code",
   "execution_count": 31,
   "metadata": {},
   "outputs": [],
   "source": [
    "############ ROAD SEGMENT TYPES ############"
   ]
  },
  {
   "cell_type": "code",
   "execution_count": null,
   "metadata": {},
   "outputs": [],
   "source": []
  }
 ],
 "metadata": {
  "kernelspec": {
   "display_name": "Python 3.8.8 ('base')",
   "language": "python",
   "name": "python3"
  },
  "language_info": {
   "codemirror_mode": {
    "name": "ipython",
    "version": 3
   },
   "file_extension": ".py",
   "mimetype": "text/x-python",
   "name": "python",
   "nbconvert_exporter": "python",
   "pygments_lexer": "ipython3",
   "version": "3.8.8"
  },
  "orig_nbformat": 4,
  "vscode": {
   "interpreter": {
    "hash": "5c9f2372a2bfaf539cf701a38e7f23ab828911ee177c2e7bc9c32aa1f4b546df"
   }
  }
 },
 "nbformat": 4,
 "nbformat_minor": 2
}
