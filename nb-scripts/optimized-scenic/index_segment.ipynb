{
 "cells": [
  {
   "cell_type": "code",
   "execution_count": null,
   "metadata": {},
   "outputs": [],
   "source": [
    "%cd ../.."
   ]
  },
  {
   "cell_type": "code",
   "execution_count": null,
   "metadata": {},
   "outputs": [],
   "source": [
    "from apperception.database import database"
   ]
  },
  {
   "cell_type": "code",
   "execution_count": null,
   "metadata": {},
   "outputs": [],
   "source": [
    "### Add Segment Types Attributes to Table ###\n",
    "query = \"\"\"ALTER TABLE SegmentPolygon\n",
    "           ADD segmentTypes text[];   \n",
    "        \"\"\"\n",
    "database._execute_query(query=query)\n",
    "database._commit(True)"
   ]
  },
  {
   "cell_type": "code",
   "execution_count": null,
   "metadata": {},
   "outputs": [],
   "source": [
    "ROAD_TYPES = {\"road\", \"lane\", \"lanesection\", \"roadSection\", \"intersection\"}"
   ]
  },
  {
   "cell_type": "code",
   "execution_count": null,
   "metadata": {},
   "outputs": [],
   "source": [
    "for road_type in ROAD_TYPES:\n",
    "    # Add road type to all polygons of that type\n",
    "    query = f\"\"\"UPDATE SegmentPolygon\n",
    "               SET segmentTypes = ARRAY_APPEND(segmentTypes, '{road_type}')\n",
    "               WHERE elementId IN (SELECT id FROM {road_type});\n",
    "            \"\"\"\n",
    "    database._execute_query(query=query)\n",
    "    database._commit(True)"
   ]
  },
  {
   "cell_type": "code",
   "execution_count": null,
   "metadata": {},
   "outputs": [],
   "source": [
    "# Create index on segment polygon\n",
    "query = \"\"\"\n",
    "    CREATE INDEX IF NOT EXISTS segPoly_idx\n",
    "    ON SegmentPolygon\n",
    "    USING GiST(elementPolygon);\n",
    "\"\"\"\n",
    "database._execute_query(query=query)\n",
    "database._commit(True)"
   ]
  },
  {
   "cell_type": "code",
   "execution_count": null,
   "metadata": {},
   "outputs": [],
   "source": [
    "database.sql(\"\"\"\n",
    "SELECT table_name\n",
    "FROM information_schema.tables\n",
    "WHERE table_schema = 'public'\n",
    "ORDER BY table_name;\n",
    "\"\"\")"
   ]
  },
  {
   "cell_type": "code",
   "execution_count": null,
   "metadata": {},
   "outputs": [],
   "source": []
  },
  {
   "cell_type": "code",
   "execution_count": null,
   "metadata": {},
   "outputs": [],
   "source": []
  }
 ],
 "metadata": {
  "kernelspec": {
   "display_name": "Python 3 (ipykernel)",
   "language": "python",
   "name": "python3"
  },
  "language_info": {
   "codemirror_mode": {
    "name": "ipython",
    "version": 3
   },
   "file_extension": ".py",
   "mimetype": "text/x-python",
   "name": "python",
   "nbconvert_exporter": "python",
   "pygments_lexer": "ipython3",
   "version": "3.10.6"
  },
  "vscode": {
   "interpreter": {
    "hash": "5c9f2372a2bfaf539cf701a38e7f23ab828911ee177c2e7bc9c32aa1f4b546df"
   }
  }
 },
 "nbformat": 4,
 "nbformat_minor": 4
}
