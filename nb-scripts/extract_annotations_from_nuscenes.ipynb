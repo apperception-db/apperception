{
 "cells": [
  {
   "cell_type": "code",
   "execution_count": 1,
   "id": "1f844c70-51ee-4ea1-8ec9-fdb53c568d9e",
   "metadata": {
    "tags": []
   },
   "outputs": [],
   "source": [
    "import json\n",
    "import os\n",
    "from pyquaternion import Quaternion\n",
    "import pandas as pd\n",
    "import pickle\n",
    "import numpy as np"
   ]
  },
  {
   "cell_type": "code",
   "execution_count": 2,
   "id": "9ad2c940-500f-4d65-b54a-90d615e47375",
   "metadata": {
    "tags": []
   },
   "outputs": [],
   "source": [
    "EXPERIMENT = False"
   ]
  },
  {
   "cell_type": "code",
   "execution_count": 3,
   "id": "8f89059e-1aa1-4aac-b3f5-fb574930eb51",
   "metadata": {
    "tags": []
   },
   "outputs": [],
   "source": [
    "if EXPERIMENT:\n",
    "    suffix = '_experiment'\n",
    "else:\n",
    "    suffix = ''"
   ]
  },
  {
   "cell_type": "code",
   "execution_count": 4,
   "id": "33ae04c1-9c35-4d34-9130-549132c983bd",
   "metadata": {
    "tags": []
   },
   "outputs": [],
   "source": [
    "if 'NUSCENE_DATA' in os.environ:\n",
    "    base_dir = os.environ['NUSCENE_DATA']\n",
    "else:\n",
    "    base_dir = '/work/apperception/data/nuScenes/full-dataset-v1.0/Trainval/'"
   ]
  },
  {
   "cell_type": "code",
   "execution_count": 5,
   "id": "4b4a566a-eee4-4a16-a20b-b3e7838a53e5",
   "metadata": {},
   "outputs": [
    {
     "data": {
      "text/plain": [
       "'/Users/chanwutk/Documents/apperception/data/v1.0-mini'"
      ]
     },
     "execution_count": 5,
     "metadata": {},
     "output_type": "execute_result"
    }
   ],
   "source": [
    "base_dir"
   ]
  },
  {
   "cell_type": "code",
   "execution_count": 6,
   "id": "9a7a138a-3798-4620-a32e-7671d2f0edc1",
   "metadata": {
    "tags": []
   },
   "outputs": [
    {
     "data": {
      "text/plain": [
       "'v1.0-mini'"
      ]
     },
     "execution_count": 6,
     "metadata": {},
     "output_type": "execute_result"
    }
   ],
   "source": [
    "for d in os.listdir(base_dir):\n",
    "    if d.startswith('v1.0-'):\n",
    "        folder = d\n",
    "        break\n",
    "folder"
   ]
  },
  {
   "cell_type": "code",
   "execution_count": 7,
   "id": "e8a5b75a-25d6-45d5-b040-4b6cfaa1c994",
   "metadata": {
    "tags": []
   },
   "outputs": [],
   "source": [
    "# try:\n",
    "#     os.remove(os.path.join(base_dir, f'annotation{suffix}.csv'))\n",
    "# except FileNotFoundError:\n",
    "#     pass\n",
    "\n",
    "# try:\n",
    "#     os.remove(os.path.join(base_dir, f'annotation{suffix}.pickle'))\n",
    "# except FileNotFoundError:\n",
    "#     pass\n",
    "\n",
    "# try:\n",
    "#     os.remove(os.path.join(base_dir, f'sample_data{suffix}.csv'))\n",
    "# except FileNotFoundError:\n",
    "#     pass\n",
    "\n",
    "# try:\n",
    "#     os.remove(os.path.join(base_dir, f'sample_data{suffix}.pickle'))\n",
    "# except FileNotFoundError:\n",
    "#     pass"
   ]
  },
  {
   "cell_type": "code",
   "execution_count": 8,
   "id": "12c4bcba-750e-4831-a52d-c78f3bad0bd4",
   "metadata": {
    "tags": []
   },
   "outputs": [],
   "source": [
    "with open(os.path.join(base_dir, folder, 'calibrated_sensor.json')) as f:\n",
    "    calibrated_sensor_json = json.load(f)\n",
    "\n",
    "with open(os.path.join(base_dir, folder, 'category.json')) as f:\n",
    "    category_json = json.load(f)\n",
    "\n",
    "with open(os.path.join(base_dir, folder, 'sample.json')) as f:\n",
    "    sample_json = json.load(f)\n",
    "\n",
    "with open(os.path.join(base_dir, folder, 'sample_data.json')) as f:\n",
    "    sample_data_json = json.load(f)\n",
    "\n",
    "with open(os.path.join(base_dir, folder, 'sample_annotation.json')) as f:\n",
    "    sample_annotation_json = json.load(f)\n",
    "\n",
    "with open(os.path.join(base_dir, folder, 'instance.json')) as f:\n",
    "    instance_json = json.load(f)\n",
    "\n",
    "with open(os.path.join(base_dir, folder, 'scene.json')) as f:\n",
    "    scene_json = json.load(f)\n",
    "\n",
    "with open(os.path.join(base_dir, folder, 'ego_pose.json')) as f:\n",
    "    ego_pose_json = json.load(f)\n",
    "\n",
    "with open(os.path.join(base_dir, folder, 'sensor.json')) as f:\n",
    "    sensor_json = json.load(f)"
   ]
  },
  {
   "cell_type": "code",
   "execution_count": 9,
   "id": "3ecad203-5505-4039-833f-0333339955d2",
   "metadata": {
    "tags": []
   },
   "outputs": [
    {
     "ename": "FileNotFoundError",
     "evalue": "[Errno 2] No such file or directory: '/Users/chanwutk/Documents/apperception/data/v1.0-mini/experiment_data'",
     "output_type": "error",
     "traceback": [
      "\u001b[0;31m---------------------------------------------------------------------------\u001b[0m",
      "\u001b[0;31mFileNotFoundError\u001b[0m                         Traceback (most recent call last)",
      "Input \u001b[0;32mIn [9]\u001b[0m, in \u001b[0;36m<cell line: 1>\u001b[0;34m()\u001b[0m\n\u001b[0;32m----> 1\u001b[0m files \u001b[38;5;241m=\u001b[39m \u001b[43mos\u001b[49m\u001b[38;5;241;43m.\u001b[39;49m\u001b[43mlistdir\u001b[49m\u001b[43m(\u001b[49m\u001b[43mos\u001b[49m\u001b[38;5;241;43m.\u001b[39;49m\u001b[43mpath\u001b[49m\u001b[38;5;241;43m.\u001b[39;49m\u001b[43mjoin\u001b[49m\u001b[43m(\u001b[49m\u001b[43mbase_dir\u001b[49m\u001b[43m,\u001b[49m\u001b[43m \u001b[49m\u001b[38;5;124;43m'\u001b[39;49m\u001b[38;5;124;43mexperiment_data\u001b[39;49m\u001b[38;5;124;43m'\u001b[39;49m\u001b[43m)\u001b[49m\u001b[43m)\u001b[49m\n",
      "\u001b[0;31mFileNotFoundError\u001b[0m: [Errno 2] No such file or directory: '/Users/chanwutk/Documents/apperception/data/v1.0-mini/experiment_data'"
     ]
    }
   ],
   "source": [
    "files = os.listdir(os.path.join(base_dir, 'experiment_data'))"
   ]
  },
  {
   "cell_type": "code",
   "execution_count": 10,
   "id": "78280b40-981b-4576-ad6f-505056323083",
   "metadata": {
    "tags": []
   },
   "outputs": [],
   "source": [
    "import math\n",
    "from typing import List\n",
    "\n",
    "def normalizeAngle(angle) -> float:\n",
    "    while angle > math.pi:\n",
    "        angle -= math.tau\n",
    "    while angle < -math.pi:\n",
    "        angle += math.tau\n",
    "    assert -math.pi <= angle <= math.pi\n",
    "    return angle\n",
    "\n",
    "def get_heading(rotation):\n",
    "    yaw = rotation.yaw_pitch_roll[0]\n",
    "    return normalizeAngle(yaw)\n",
    "\n",
    "def get_heading_from_north(rotation):\n",
    "    yaw = rotation.yaw_pitch_roll[0]\n",
    "    return normalizeAngle(yaw - (math.pi / 2))\n",
    "\n",
    "rot = Quaternion(axis=[1, 0, 0], angle=np.pi / 2)\n",
    "def get_camera_heading(rotation):\n",
    "    return -get_heading(rot.rotate(rotation)) + math.pi / 2\n",
    "    \n",
    "def get_camera_position(\n",
    "    camera_translation: List[float],\n",
    "    ego_translation: List[float],\n",
    "    ego_rotation: List[float]\n",
    ") -> np.ndarray:\n",
    "    rotated_offset = Quaternion(ego_rotation) \\\n",
    "        .rotate(np.array(camera_translation))\n",
    "    return np.array(ego_translation) + rotated_offset\n",
    "\n",
    "def get_camera_rotation(\n",
    "    camera_rotation: List[float],\n",
    "    ego_rotation: List[float]\n",
    ") -> np.ndarray:\n",
    "    return (Quaternion(camera_rotation) * Quaternion(ego_rotation)).q"
   ]
  },
  {
   "cell_type": "code",
   "execution_count": null,
   "id": "0714428a-7855-4c50-94f9-4a58540e86f6",
   "metadata": {
    "tags": []
   },
   "outputs": [],
   "source": [
    "files_set = set(files)"
   ]
  },
  {
   "cell_type": "code",
   "execution_count": 11,
   "id": "c3f09bcf-079a-4083-8c0b-e5f8fa3d805a",
   "metadata": {
    "tags": []
   },
   "outputs": [],
   "source": [
    "if EXPERIMENT:\n",
    "    sample_data_filter = [s for s in sample_data_json if s['filename'].split('/')[2] in files_set]\n",
    "else:\n",
    "    sample_data_filter = sample_data_json\n",
    "# sample_data_filter = [s for s in sample_data_json if 'CAM_FRONT/' in s['filename']]\n",
    "sample_data_filter = [s for s in sample_data_filter if s['fileformat'] == 'jpg']"
   ]
  },
  {
   "cell_type": "code",
   "execution_count": 12,
   "id": "34598843-8c97-4fda-801f-346dba71df80",
   "metadata": {
    "tags": []
   },
   "outputs": [
    {
     "data": {
      "text/plain": [
       "{'token': '512015c209c1490f906982c3b182c2a8',\n",
       " 'sample_token': '39586f9d59004284a7114a68825e8eec',\n",
       " 'ego_pose_token': '512015c209c1490f906982c3b182c2a8',\n",
       " 'calibrated_sensor_token': '1d31c729b073425e8e0202c5c6e66ee1',\n",
       " 'timestamp': 1532402927762460,\n",
       " 'fileformat': 'jpg',\n",
       " 'is_key_frame': False,\n",
       " 'height': 900,\n",
       " 'width': 1600,\n",
       " 'filename': 'sweeps/CAM_FRONT/n015-2018-07-24-11-22-45+0800__CAM_FRONT__1532402927762460.jpg',\n",
       " 'prev': '68e8e98cf7b0487baa139df808641db7',\n",
       " 'next': 'e9df123af5b747adbd9ddf6454e1abdc'}"
      ]
     },
     "execution_count": 12,
     "metadata": {},
     "output_type": "execute_result"
    }
   ],
   "source": [
    "sample_data_filter[0]"
   ]
  },
  {
   "cell_type": "code",
   "execution_count": 13,
   "id": "c12cf5a2-8496-4022-8acc-1f96ed79ff64",
   "metadata": {
    "tags": []
   },
   "outputs": [],
   "source": [
    "sample_tokens = set([s['sample_token'] for s in sample_data_filter])"
   ]
  },
  {
   "cell_type": "code",
   "execution_count": 14,
   "id": "43132971-f67c-4aa7-8899-2a6b5ca13962",
   "metadata": {
    "tags": []
   },
   "outputs": [],
   "source": [
    "ego_pose_tokens = set([s['ego_pose_token'] for s in sample_data_filter])"
   ]
  },
  {
   "cell_type": "code",
   "execution_count": 15,
   "id": "94dce450-74b7-429e-932d-73a2d04c69a2",
   "metadata": {
    "tags": []
   },
   "outputs": [],
   "source": [
    "calibrated_sensor_tokens = set([s['calibrated_sensor_token'] for s in sample_data_filter])"
   ]
  },
  {
   "cell_type": "code",
   "execution_count": 16,
   "id": "566c30b5-c0d2-47cf-a122-0a371eab071c",
   "metadata": {
    "tags": []
   },
   "outputs": [
    {
     "data": {
      "text/plain": [
       "404"
      ]
     },
     "execution_count": 16,
     "metadata": {},
     "output_type": "execute_result"
    }
   ],
   "source": [
    "sample_filter = [\n",
    "    {\n",
    "        'sample_token': s['token'],\n",
    "        'scene_token': s['scene_token']\n",
    "    }\n",
    "    for s in sample_json\n",
    "    if s['token'] in sample_tokens\n",
    "]\n",
    "len(sample_filter)"
   ]
  },
  {
   "cell_type": "code",
   "execution_count": 17,
   "id": "2ea0849f-74b5-4025-8e10-070b880ac35e",
   "metadata": {
    "tags": []
   },
   "outputs": [],
   "source": [
    "scene_tokens = set([s['scene_token'] for s in sample_filter])"
   ]
  },
  {
   "cell_type": "code",
   "execution_count": 18,
   "id": "bffb4b31-5b3b-47e2-baae-ce7d677bcfb2",
   "metadata": {
    "tags": []
   },
   "outputs": [
    {
     "data": {
      "text/plain": [
       "60"
      ]
     },
     "execution_count": 18,
     "metadata": {},
     "output_type": "execute_result"
    }
   ],
   "source": [
    "calibrated_sensor_filter = [\n",
    "    {\n",
    "        'calibrated_sensor_token': c['token'],\n",
    "        'camera_translation': c['translation'],\n",
    "        'camera_rotation': c['rotation'],\n",
    "        'camera_intrinsic': c['camera_intrinsic']\n",
    "    }\n",
    "    for c in calibrated_sensor_json\n",
    "    if c['token'] in calibrated_sensor_tokens\n",
    "]\n",
    "len(calibrated_sensor_filter)"
   ]
  },
  {
   "cell_type": "code",
   "execution_count": 19,
   "id": "dc366d2e-9a5f-4a91-8151-6238feecff3a",
   "metadata": {
    "tags": []
   },
   "outputs": [
    {
     "data": {
      "text/plain": [
       "14008"
      ]
     },
     "execution_count": 19,
     "metadata": {},
     "output_type": "execute_result"
    }
   ],
   "source": [
    "ego_pose_filter = [\n",
    "    {\n",
    "        'ego_pose_token': e['token'],\n",
    "        'ego_translation': e['translation'],\n",
    "        'ego_rotation': e['rotation']\n",
    "    }\n",
    "    for e in ego_pose_json\n",
    "    if e['token'] in ego_pose_tokens\n",
    "]\n",
    "len(ego_pose_filter)"
   ]
  },
  {
   "cell_type": "code",
   "execution_count": 20,
   "id": "c1d5df8b-0647-478d-b86f-04460dbe44c7",
   "metadata": {
    "tags": []
   },
   "outputs": [
    {
     "data": {
      "text/plain": [
       "10"
      ]
     },
     "execution_count": 20,
     "metadata": {},
     "output_type": "execute_result"
    }
   ],
   "source": [
    "scene_filter = [\n",
    "    {\n",
    "        'scene_token': s['token'],\n",
    "        'scene_name': s['name'],\n",
    "    }\n",
    "    for s in scene_json\n",
    "    if s['token'] in scene_tokens\n",
    "]\n",
    "len(scene_filter)"
   ]
  },
  {
   "cell_type": "code",
   "execution_count": 21,
   "id": "990890d3-1036-40ed-8989-58d3b5054622",
   "metadata": {
    "tags": []
   },
   "outputs": [
    {
     "data": {
      "text/plain": [
       "14008"
      ]
     },
     "execution_count": 21,
     "metadata": {},
     "output_type": "execute_result"
    }
   ],
   "source": [
    "sample_map = {\n",
    "    s['sample_token']: s\n",
    "    for s in sample_filter\n",
    "}\n",
    "calibrated_sensor_map = {\n",
    "    c['calibrated_sensor_token']: c\n",
    "    for c in calibrated_sensor_filter\n",
    "}\n",
    "ego_pose_map = {\n",
    "    e['ego_pose_token']: e\n",
    "    for e in ego_pose_filter\n",
    "}\n",
    "scene_map = {\n",
    "    s['scene_token']: s\n",
    "    for s in scene_filter\n",
    "}\n",
    "\n",
    "def s_map(s):\n",
    "    sample = sample_map[s['sample_token']]\n",
    "    calibrated_sensor = calibrated_sensor_map[s['calibrated_sensor_token']]\n",
    "    ego_pose = ego_pose_map[s['ego_pose_token']]\n",
    "    ego_heading = get_heading_from_north(Quaternion(ego_pose['ego_rotation']))\n",
    "    camera_heading = get_camera_heading(Quaternion(calibrated_sensor['camera_rotation']))\n",
    "    ret = {\n",
    "        **s,\n",
    "        **sample,\n",
    "        **calibrated_sensor,\n",
    "        **ego_pose,\n",
    "        **scene_map[sample['scene_token']],\n",
    "        'ego_heading': ego_heading * 180 / math.pi,\n",
    "        'camera_heading': normalizeAngle(camera_heading + ego_heading) * 180 / math.pi,\n",
    "        'camera_translation': get_camera_position(\n",
    "            calibrated_sensor['camera_translation'],\n",
    "            ego_pose['ego_translation'],\n",
    "            ego_pose['ego_rotation'],\n",
    "        ),\n",
    "        'camera_rotation': get_camera_rotation(\n",
    "            calibrated_sensor['camera_rotation'],\n",
    "            ego_pose['ego_rotation'],\n",
    "        ),\n",
    "    }\n",
    "    del ret['ego_pose_token']\n",
    "    del ret['calibrated_sensor_token']\n",
    "    del ret['fileformat']\n",
    "    del ret['height']\n",
    "    del ret['width']\n",
    "    del ret['prev']\n",
    "    del ret['next']\n",
    "    del ret['scene_token']\n",
    "    return ret\n",
    "\n",
    "sample_data_res = [*map(s_map, sample_data_filter)]\n",
    "\n",
    "len(sample_data_res)"
   ]
  },
  {
   "cell_type": "code",
   "execution_count": null,
   "id": "049e2b9b-40dd-4d25-a7d9-fce72658b2aa",
   "metadata": {},
   "outputs": [],
   "source": []
  },
  {
   "cell_type": "code",
   "execution_count": null,
   "id": "0ae8b702-ee28-4ca0-a6b1-a45fe2af1c03",
   "metadata": {
    "tags": []
   },
   "outputs": [],
   "source": []
  },
  {
   "cell_type": "code",
   "execution_count": null,
   "id": "89c673ec-172f-4cd6-95e8-9d7808b2b163",
   "metadata": {
    "tags": []
   },
   "outputs": [],
   "source": []
  },
  {
   "cell_type": "code",
   "execution_count": 22,
   "id": "0a342275-8f83-4fea-ae2a-ecc4e7fe1320",
   "metadata": {
    "tags": []
   },
   "outputs": [
    {
     "data": {
      "text/plain": [
       "18538"
      ]
     },
     "execution_count": 22,
     "metadata": {},
     "output_type": "execute_result"
    }
   ],
   "source": [
    "sample_annotation_filter = [\n",
    "    sa\n",
    "    for sa in sample_annotation_json\n",
    "    if sa['sample_token'] in sample_tokens\n",
    "]\n",
    "len(sample_annotation_filter)"
   ]
  },
  {
   "cell_type": "code",
   "execution_count": 23,
   "id": "cc87edd3-c7a7-4d52-8e82-6a64f5377d5e",
   "metadata": {
    "tags": []
   },
   "outputs": [
    {
     "data": {
      "text/plain": [
       "911"
      ]
     },
     "execution_count": 23,
     "metadata": {},
     "output_type": "execute_result"
    }
   ],
   "source": [
    "instance_tokens = set([\n",
    "    sa['instance_token']\n",
    "    for sa in sample_annotation_filter\n",
    "])\n",
    "\n",
    "instance_filter = [\n",
    "    {\n",
    "        'instance_token': i['token'],\n",
    "        'category_token': i['category_token']\n",
    "    }\n",
    "    for i in instance_json\n",
    "    if i['token'] in instance_tokens\n",
    "]\n",
    "len(instance_filter)"
   ]
  },
  {
   "cell_type": "code",
   "execution_count": 24,
   "id": "fe8a8d1f-0780-4889-ac68-dd68b8e9e9ea",
   "metadata": {
    "tags": []
   },
   "outputs": [
    {
     "data": {
      "text/plain": [
       "18"
      ]
     },
     "execution_count": 24,
     "metadata": {},
     "output_type": "execute_result"
    }
   ],
   "source": [
    "category_tokens = set([\n",
    "    i['category_token']\n",
    "    for i in instance_filter\n",
    "])\n",
    "\n",
    "category_filter = [\n",
    "    {\n",
    "        'category_token': c['token'],\n",
    "        'category': c['name']\n",
    "    }\n",
    "    for c in category_json\n",
    "    if c['token'] in category_tokens\n",
    "]\n",
    "len(category_filter)"
   ]
  },
  {
   "cell_type": "code",
   "execution_count": 25,
   "id": "ac4c5a41-8151-4f76-b57e-884b4ede46f2",
   "metadata": {
    "tags": []
   },
   "outputs": [
    {
     "data": {
      "text/plain": [
       "18538"
      ]
     },
     "execution_count": 25,
     "metadata": {},
     "output_type": "execute_result"
    }
   ],
   "source": [
    "instance_map = {\n",
    "    i['instance_token']: i\n",
    "    for i in instance_filter\n",
    "}\n",
    "category_map = {\n",
    "    c['category_token']: c\n",
    "    for c in category_filter\n",
    "}\n",
    "\n",
    "def sa_map(sa):\n",
    "    instance = instance_map[sa['instance_token']]\n",
    "    ret = {\n",
    "        **sa,\n",
    "        **instance,\n",
    "        **category_map[instance['category_token']],\n",
    "        'heading': (get_heading_from_north(Quaternion(sa['rotation']))) * 180 / math.pi\n",
    "    }\n",
    "    \n",
    "    del ret['visibility_token']\n",
    "    del ret['attribute_tokens']\n",
    "    del ret['prev']\n",
    "    del ret['next']\n",
    "    del ret['num_lidar_pts']\n",
    "    del ret['num_radar_pts']\n",
    "    del ret['category_token']\n",
    "    \n",
    "    return ret\n",
    "\n",
    "sample_annotation_res = [*map(sa_map, sample_annotation_filter)]\n",
    "len(sample_annotation_res)"
   ]
  },
  {
   "cell_type": "code",
   "execution_count": 26,
   "id": "b31c9a76-9da2-4c7d-891b-43f747116921",
   "metadata": {
    "tags": []
   },
   "outputs": [],
   "source": [
    "sample_data_final = pd.DataFrame(sample_data_res)"
   ]
  },
  {
   "cell_type": "code",
   "execution_count": 27,
   "id": "cb656b55-6505-4efb-b6b6-7f80cdbb7a7e",
   "metadata": {
    "tags": []
   },
   "outputs": [],
   "source": [
    "sample_annotation_final = pd.DataFrame(sample_annotation_res)"
   ]
  },
  {
   "cell_type": "code",
   "execution_count": 28,
   "id": "aeec0306-65c6-4ea2-ad78-da5539bad861",
   "metadata": {
    "tags": []
   },
   "outputs": [],
   "source": [
    "df_sample_data_keyframe = sample_data_final[sample_data_final[\"is_key_frame\"]][\n",
    "    [\"token\", \"sample_token\"]\n",
    "]\n",
    "sample_annotation_final = sample_annotation_final.set_index(\"sample_token\").join(\n",
    "    df_sample_data_keyframe.set_index(\"sample_token\"), on=\"sample_token\", rsuffix=\"_sample_data\"\n",
    ")"
   ]
  },
  {
   "cell_type": "code",
   "execution_count": 29,
   "id": "454245fe-562d-4964-8cea-cba3587cdab9",
   "metadata": {
    "tags": []
   },
   "outputs": [],
   "source": [
    "sample_data_final = sample_data_final.sort_values(by=['scene_name', 'timestamp'])"
   ]
  },
  {
   "cell_type": "code",
   "execution_count": 30,
   "id": "c42b1470-be7d-4e51-a42c-4d06a7326125",
   "metadata": {
    "tags": []
   },
   "outputs": [],
   "source": [
    "sample_data_final[\"frame_order\"] = 0\n",
    "scene = \"\"\n",
    "i = 1\n",
    "for index, row in sample_data_final.iterrows():\n",
    "    if row['scene_name'] != scene:\n",
    "        scene = row['scene_name']\n",
    "        sample_data_final.loc[index, \"frame_order\"] = 1\n",
    "        i = 2\n",
    "    else:\n",
    "        sample_data_final.loc[index, \"frame_order\"] = i\n",
    "        i += 1\n"
   ]
  },
  {
   "cell_type": "code",
   "execution_count": 31,
   "id": "48a202e1-0862-40d0-b301-24f1978ff919",
   "metadata": {
    "tags": []
   },
   "outputs": [
    {
     "name": "stdout",
     "output_type": "stream",
     "text": [
      "14008\n"
     ]
    }
   ],
   "source": [
    "print(len(sample_data_final))"
   ]
  },
  {
   "cell_type": "code",
   "execution_count": 32,
   "id": "b78cf691-25ed-4493-a505-9c705b8ae404",
   "metadata": {
    "tags": []
   },
   "outputs": [
    {
     "name": "stdout",
     "output_type": "stream",
     "text": [
      "111228\n"
     ]
    }
   ],
   "source": [
    "print(len(sample_annotation_final))"
   ]
  },
  {
   "cell_type": "code",
   "execution_count": null,
   "id": "e52bacca-0e53-4b63-b4ae-9b2a3fee55eb",
   "metadata": {},
   "outputs": [],
   "source": []
  },
  {
   "cell_type": "code",
   "execution_count": 33,
   "id": "71b8fd3d-f9e5-4d85-8983-219e0fdb0b9d",
   "metadata": {
    "tags": []
   },
   "outputs": [],
   "source": [
    "with open(os.path.join(base_dir, f\"sample_data{suffix}.pickle\"), \"wb\") as f:\n",
    "    pickle.dump(sample_data_final, f)\n",
    "with open(os.path.join(base_dir, f\"annotation{suffix}.pickle\"), \"wb\") as f:\n",
    "    pickle.dump(sample_annotation_final, f)"
   ]
  },
  {
   "cell_type": "code",
   "execution_count": null,
   "id": "de13eeea-57de-4deb-b68b-222d73f14e5b",
   "metadata": {},
   "outputs": [],
   "source": []
  },
  {
   "cell_type": "code",
   "execution_count": 34,
   "id": "f141a052-6784-4c1b-bdee-83f9bad1d178",
   "metadata": {
    "tags": []
   },
   "outputs": [],
   "source": [
    "sample_data_final.to_csv(os.path.join(base_dir, f\"sample_data{suffix}.csv\"), index=False)"
   ]
  },
  {
   "cell_type": "code",
   "execution_count": 35,
   "id": "9c84d0dd",
   "metadata": {
    "tags": []
   },
   "outputs": [],
   "source": [
    "sample_annotation_final.to_csv(os.path.join(base_dir, f\"annotation{suffix}.csv\"), index=False)"
   ]
  },
  {
   "cell_type": "code",
   "execution_count": null,
   "id": "529f8953",
   "metadata": {},
   "outputs": [],
   "source": []
  },
  {
   "cell_type": "code",
   "execution_count": null,
   "id": "44d6c519",
   "metadata": {
    "tags": []
   },
   "outputs": [],
   "source": [
    "calibrated_sensor = [\n",
    "    {\n",
    "        **c,\n",
    "        **[s for s in sensor_json if s['token'] == c['sensor_token']][0]\n",
    "    }\n",
    "    for c in calibrated_sensor_json\n",
    "]\n",
    "calibrated_sensor = [\n",
    "    c\n",
    "    for c in calibrated_sensor\n",
    "    if c['modality'] == 'camera'\n",
    "]\n",
    "rot = Quaternion(axis=[1, 0, 0], angle=np.pi / 2)\n",
    "[\n",
    "    normalizeAngle(get_heading(rot.rotate(Quaternion(c['rotation'])))) * 180 / math.pi\n",
    "    for c in calibrated_sensor\n",
    "    if c['channel'] == \"CAM_FRONT\"\n",
    "]"
   ]
  },
  {
   "cell_type": "code",
   "execution_count": null,
   "id": "fcb5b9e5",
   "metadata": {},
   "outputs": [],
   "source": []
  },
  {
   "cell_type": "code",
   "execution_count": null,
   "id": "dcf1d541-6ece-42b0-b6bc-d10381e59687",
   "metadata": {},
   "outputs": [],
   "source": [
    "sample_data_final"
   ]
  },
  {
   "cell_type": "code",
   "execution_count": null,
   "id": "d1aa2fc8-1b2b-42f2-bc95-5742bf3951fa",
   "metadata": {},
   "outputs": [],
   "source": []
  }
 ],
 "metadata": {
  "interpreter": {
   "hash": "5c9f2372a2bfaf539cf701a38e7f23ab828911ee177c2e7bc9c32aa1f4b546df"
  },
  "kernelspec": {
   "display_name": "Python 3 (ipykernel)",
   "language": "python",
   "name": "python3"
  },
  "language_info": {
   "codemirror_mode": {
    "name": "ipython",
    "version": 3
   },
   "file_extension": ".py",
   "mimetype": "text/x-python",
   "name": "python",
   "nbconvert_exporter": "python",
   "pygments_lexer": "ipython3",
   "version": "3.8.12"
  }
 },
 "nbformat": 4,
 "nbformat_minor": 5
}
