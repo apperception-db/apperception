{
 "cells": [
  {
   "cell_type": "code",
   "execution_count": null,
   "id": "1f844c70-51ee-4ea1-8ec9-fdb53c568d9e",
   "metadata": {
    "execution": {
     "iopub.execute_input": "2022-07-12T21:07:48.386833Z",
     "iopub.status.busy": "2022-07-12T21:07:48.386169Z",
     "iopub.status.idle": "2022-07-12T21:07:49.307163Z",
     "shell.execute_reply": "2022-07-12T21:07:49.306399Z"
    }
   },
   "outputs": [],
   "source": [
    "import json\n",
    "import os\n",
    "from pyquaternion import Quaternion\n",
    "import pandas as pd\n",
    "import pickle\n",
    "import numpy as np"
   ]
  },
  {
   "cell_type": "code",
   "execution_count": null,
   "id": "9ad2c940-500f-4d65-b54a-90d615e47375",
   "metadata": {
    "execution": {
     "iopub.execute_input": "2022-07-12T21:07:49.312136Z",
     "iopub.status.busy": "2022-07-12T21:07:49.311560Z",
     "iopub.status.idle": "2022-07-12T21:07:49.316149Z",
     "shell.execute_reply": "2022-07-12T21:07:49.315316Z"
    }
   },
   "outputs": [],
   "source": [
    "EXPERIMENT = False"
   ]
  },
  {
   "cell_type": "code",
   "execution_count": null,
   "id": "8f89059e-1aa1-4aac-b3f5-fb574930eb51",
   "metadata": {
    "execution": {
     "iopub.execute_input": "2022-07-12T21:07:49.320628Z",
     "iopub.status.busy": "2022-07-12T21:07:49.320142Z",
     "iopub.status.idle": "2022-07-12T21:07:49.324095Z",
     "shell.execute_reply": "2022-07-12T21:07:49.323351Z"
    }
   },
   "outputs": [],
   "source": [
    "if EXPERIMENT:\n",
    "    suffix = '_experiment'\n",
    "else:\n",
    "    suffix = ''"
   ]
  },
  {
   "cell_type": "code",
   "execution_count": null,
   "id": "33ae04c1-9c35-4d34-9130-549132c983bd",
   "metadata": {
    "execution": {
     "iopub.execute_input": "2022-07-12T21:07:49.327285Z",
     "iopub.status.busy": "2022-07-12T21:07:49.326938Z",
     "iopub.status.idle": "2022-07-12T21:07:49.330609Z",
     "shell.execute_reply": "2022-07-12T21:07:49.329772Z"
    }
   },
   "outputs": [],
   "source": [
    "full_data_dir = '/work/apperception/data/nuScenes/full-dataset-v1.0/Trainval/'"
   ]
  },
  {
   "cell_type": "code",
   "execution_count": null,
   "id": "9a7a138a-3798-4620-a32e-7671d2f0edc1",
   "metadata": {
    "execution": {
     "iopub.execute_input": "2022-07-12T21:07:49.333815Z",
     "iopub.status.busy": "2022-07-12T21:07:49.333509Z",
     "iopub.status.idle": "2022-07-12T21:07:49.337418Z",
     "shell.execute_reply": "2022-07-12T21:07:49.336564Z"
    }
   },
   "outputs": [],
   "source": [
    "base_dir = full_data_dir\n",
    "folder = 'v1.0-trainval'"
   ]
  },
  {
   "cell_type": "code",
   "execution_count": null,
   "id": "e8a5b75a-25d6-45d5-b040-4b6cfaa1c994",
   "metadata": {
    "execution": {
     "iopub.execute_input": "2022-07-12T21:07:49.340629Z",
     "iopub.status.busy": "2022-07-12T21:07:49.340237Z",
     "iopub.status.idle": "2022-07-12T21:07:49.344986Z",
     "shell.execute_reply": "2022-07-12T21:07:49.344021Z"
    }
   },
   "outputs": [],
   "source": [
    "# try:\n",
    "#     os.remove(os.path.join(base_dir, f'annotation{suffix}.csv'))\n",
    "# except FileNotFoundError:\n",
    "#     pass\n",
    "\n",
    "# try:\n",
    "#     os.remove(os.path.join(base_dir, f'annotation{suffix}.pickle'))\n",
    "# except FileNotFoundError:\n",
    "#     pass\n",
    "\n",
    "# try:\n",
    "#     os.remove(os.path.join(base_dir, f'sample_data{suffix}.csv'))\n",
    "# except FileNotFoundError:\n",
    "#     pass\n",
    "\n",
    "# try:\n",
    "#     os.remove(os.path.join(base_dir, f'sample_data{suffix}.pickle'))\n",
    "# except FileNotFoundError:\n",
    "#     pass"
   ]
  },
  {
   "cell_type": "code",
   "execution_count": null,
   "id": "12c4bcba-750e-4831-a52d-c78f3bad0bd4",
   "metadata": {
    "execution": {
     "iopub.execute_input": "2022-07-12T21:07:49.348469Z",
     "iopub.status.busy": "2022-07-12T21:07:49.348036Z",
     "iopub.status.idle": "2022-07-12T21:10:09.176121Z",
     "shell.execute_reply": "2022-07-12T21:10:09.174612Z"
    }
   },
   "outputs": [],
   "source": [
    "with open(os.path.join(base_dir, folder, 'calibrated_sensor.json')) as f:\n",
    "    calibrated_sensor_json = json.load(f)\n",
    "\n",
    "with open(os.path.join(base_dir, folder, 'category.json')) as f:\n",
    "    category_json = json.load(f)\n",
    "\n",
    "with open(os.path.join(base_dir, folder, 'sample.json')) as f:\n",
    "    sample_json = json.load(f)\n",
    "\n",
    "with open(os.path.join(base_dir, folder, 'sample_data.json')) as f:\n",
    "    sample_data_json = json.load(f)\n",
    "\n",
    "with open(os.path.join(base_dir, folder, 'sample_annotation.json')) as f:\n",
    "    sample_annotation_json = json.load(f)\n",
    "\n",
    "with open(os.path.join(base_dir, folder, 'instance.json')) as f:\n",
    "    instance_json = json.load(f)\n",
    "\n",
    "with open(os.path.join(base_dir, folder, 'scene.json')) as f:\n",
    "    scene_json = json.load(f)\n",
    "\n",
    "with open(os.path.join(base_dir, folder, 'ego_pose.json')) as f:\n",
    "    ego_pose_json = json.load(f)\n",
    "\n",
    "with open(os.path.join(base_dir, folder, 'sensor.json')) as f:\n",
    "    sensor_json = json.load(f)"
   ]
  },
  {
   "cell_type": "code",
   "execution_count": null,
   "id": "3ecad203-5505-4039-833f-0333339955d2",
   "metadata": {
    "execution": {
     "iopub.execute_input": "2022-07-12T21:10:09.183074Z",
     "iopub.status.busy": "2022-07-12T21:10:09.182690Z",
     "iopub.status.idle": "2022-07-12T21:10:09.187317Z",
     "shell.execute_reply": "2022-07-12T21:10:09.186724Z"
    }
   },
   "outputs": [],
   "source": [
    "files = os.listdir(os.path.join(full_data_dir, 'experiment_data'))"
   ]
  },
  {
   "cell_type": "code",
   "execution_count": null,
   "id": "78280b40-981b-4576-ad6f-505056323083",
   "metadata": {
    "execution": {
     "iopub.execute_input": "2022-07-12T21:10:09.193864Z",
     "iopub.status.busy": "2022-07-12T21:10:09.193540Z",
     "iopub.status.idle": "2022-07-12T21:10:09.202782Z",
     "shell.execute_reply": "2022-07-12T21:10:09.202005Z"
    }
   },
   "outputs": [],
   "source": [
    "import math\n",
    "from typing import List\n",
    "\n",
    "def normalizeAngle(angle) -> float:\n",
    "    while angle > math.pi:\n",
    "        angle -= math.tau\n",
    "    while angle < -math.pi:\n",
    "        angle += math.tau\n",
    "    assert -math.pi <= angle <= math.pi\n",
    "    return angle\n",
    "\n",
    "def get_heading(rotation):\n",
    "    yaw = rotation.yaw_pitch_roll[0]\n",
    "    return normalizeAngle(yaw)\n",
    "\n",
    "def get_heading_from_north(rotation):\n",
    "    yaw = rotation.yaw_pitch_roll[0]\n",
    "    return normalizeAngle(yaw - (math.pi / 2))\n",
    "\n",
    "rot = Quaternion(axis=[1, 0, 0], angle=np.pi / 2)\n",
    "def get_camera_heading(rotation):\n",
    "    return -get_heading(rot.rotate(rotation)) + math.pi / 2\n",
    "    \n",
    "def get_camera_position(\n",
    "    camera_translation: List[float],\n",
    "    ego_translation: List[float],\n",
    "    ego_rotation: List[float]\n",
    ") -> np.ndarray:\n",
    "    rotated_offset = Quaternion(ego_rotation) \\\n",
    "        .rotate(np.array(camera_translation))\n",
    "    return np.array(ego_translation) + rotated_offset"
   ]
  },
  {
   "cell_type": "code",
   "execution_count": null,
   "id": "0714428a-7855-4c50-94f9-4a58540e86f6",
   "metadata": {
    "execution": {
     "iopub.execute_input": "2022-07-12T21:10:09.205895Z",
     "iopub.status.busy": "2022-07-12T21:10:09.205577Z",
     "iopub.status.idle": "2022-07-12T21:10:09.209371Z",
     "shell.execute_reply": "2022-07-12T21:10:09.208587Z"
    }
   },
   "outputs": [],
   "source": [
    "files_set = set(files)"
   ]
  },
  {
   "cell_type": "code",
   "execution_count": null,
   "id": "c3f09bcf-079a-4083-8c0b-e5f8fa3d805a",
   "metadata": {
    "execution": {
     "iopub.execute_input": "2022-07-12T21:10:09.212435Z",
     "iopub.status.busy": "2022-07-12T21:10:09.212125Z",
     "iopub.status.idle": "2022-07-12T21:10:09.216598Z",
     "shell.execute_reply": "2022-07-12T21:10:09.215775Z"
    }
   },
   "outputs": [],
   "source": [
    "if EXPERIMENT:\n",
    "    sample_data_filter = [s for s in sample_data_json if s['filename'].split('/')[2] in files_set]\n",
    "else:\n",
    "    sample_data_filter = sample_data_json\n",
    "# sample_data_filter = [s for s in sample_data_json if 'CAM_FRONT/' in s['filename']]"
   ]
  },
  {
   "cell_type": "code",
   "execution_count": null,
   "id": "34598843-8c97-4fda-801f-346dba71df80",
   "metadata": {
    "execution": {
     "iopub.execute_input": "2022-07-12T21:10:09.220245Z",
     "iopub.status.busy": "2022-07-12T21:10:09.219935Z",
     "iopub.status.idle": "2022-07-12T21:10:09.232903Z",
     "shell.execute_reply": "2022-07-12T21:10:09.231990Z"
    }
   },
   "outputs": [],
   "source": [
    "sample_data_filter[0]"
   ]
  },
  {
   "cell_type": "code",
   "execution_count": null,
   "id": "c12cf5a2-8496-4022-8acc-1f96ed79ff64",
   "metadata": {
    "execution": {
     "iopub.execute_input": "2022-07-12T21:10:09.236926Z",
     "iopub.status.busy": "2022-07-12T21:10:09.236616Z",
     "iopub.status.idle": "2022-07-12T21:10:10.459247Z",
     "shell.execute_reply": "2022-07-12T21:10:10.458143Z"
    },
    "tags": []
   },
   "outputs": [],
   "source": [
    "sample_tokens = set([s['sample_token'] for s in sample_data_filter])"
   ]
  },
  {
   "cell_type": "code",
   "execution_count": null,
   "id": "43132971-f67c-4aa7-8899-2a6b5ca13962",
   "metadata": {
    "execution": {
     "iopub.execute_input": "2022-07-12T21:10:10.464139Z",
     "iopub.status.busy": "2022-07-12T21:10:10.463753Z",
     "iopub.status.idle": "2022-07-12T21:10:11.636131Z",
     "shell.execute_reply": "2022-07-12T21:10:11.635073Z"
    },
    "tags": []
   },
   "outputs": [],
   "source": [
    "ego_pose_tokens = set([s['ego_pose_token'] for s in sample_data_filter])"
   ]
  },
  {
   "cell_type": "code",
   "execution_count": null,
   "id": "94dce450-74b7-429e-932d-73a2d04c69a2",
   "metadata": {
    "execution": {
     "iopub.execute_input": "2022-07-12T21:10:11.642986Z",
     "iopub.status.busy": "2022-07-12T21:10:11.642050Z",
     "iopub.status.idle": "2022-07-12T21:10:12.470069Z",
     "shell.execute_reply": "2022-07-12T21:10:12.468555Z"
    },
    "tags": []
   },
   "outputs": [],
   "source": [
    "calibrated_sensor_tokens = set([s['calibrated_sensor_token'] for s in sample_data_filter])"
   ]
  },
  {
   "cell_type": "code",
   "execution_count": null,
   "id": "566c30b5-c0d2-47cf-a122-0a371eab071c",
   "metadata": {
    "execution": {
     "iopub.execute_input": "2022-07-12T21:10:12.477366Z",
     "iopub.status.busy": "2022-07-12T21:10:12.476947Z",
     "iopub.status.idle": "2022-07-12T21:10:12.931156Z",
     "shell.execute_reply": "2022-07-12T21:10:12.930228Z"
    }
   },
   "outputs": [],
   "source": [
    "sample_filter = [\n",
    "    {\n",
    "        'sample_token': s['token'],\n",
    "        'scene_token': s['scene_token']\n",
    "    }\n",
    "    for s in sample_json\n",
    "    if s['token'] in sample_tokens\n",
    "]\n",
    "len(sample_filter)"
   ]
  },
  {
   "cell_type": "code",
   "execution_count": null,
   "id": "2ea0849f-74b5-4025-8e10-070b880ac35e",
   "metadata": {
    "execution": {
     "iopub.execute_input": "2022-07-12T21:10:12.938340Z",
     "iopub.status.busy": "2022-07-12T21:10:12.937964Z",
     "iopub.status.idle": "2022-07-12T21:10:12.949101Z",
     "shell.execute_reply": "2022-07-12T21:10:12.948212Z"
    }
   },
   "outputs": [],
   "source": [
    "scene_tokens = set([s['scene_token'] for s in sample_filter])"
   ]
  },
  {
   "cell_type": "code",
   "execution_count": null,
   "id": "bffb4b31-5b3b-47e2-baae-ce7d677bcfb2",
   "metadata": {
    "execution": {
     "iopub.execute_input": "2022-07-12T21:10:12.953147Z",
     "iopub.status.busy": "2022-07-12T21:10:12.952771Z",
     "iopub.status.idle": "2022-07-12T21:10:12.972872Z",
     "shell.execute_reply": "2022-07-12T21:10:12.972018Z"
    }
   },
   "outputs": [],
   "source": [
    "calibrated_sensor_filter = [\n",
    "    {\n",
    "        'calibrated_sensor_token': c['token'],\n",
    "        'camera_translation': c['translation'],\n",
    "        'camera_rotation': c['rotation'],\n",
    "        'camera_intrinsic': c['camera_intrinsic']\n",
    "    }\n",
    "    for c in calibrated_sensor_json\n",
    "    if c['token'] in calibrated_sensor_tokens\n",
    "]\n",
    "len(calibrated_sensor_filter)"
   ]
  },
  {
   "cell_type": "code",
   "execution_count": null,
   "id": "dc366d2e-9a5f-4a91-8151-6238feecff3a",
   "metadata": {
    "execution": {
     "iopub.execute_input": "2022-07-12T21:10:12.976851Z",
     "iopub.status.busy": "2022-07-12T21:10:12.976525Z",
     "iopub.status.idle": "2022-07-12T21:10:18.438610Z",
     "shell.execute_reply": "2022-07-12T21:10:18.437757Z"
    },
    "tags": []
   },
   "outputs": [],
   "source": [
    "ego_pose_filter = [\n",
    "    {\n",
    "        'ego_pose_token': e['token'],\n",
    "        'ego_translation': e['translation'],\n",
    "        'ego_rotation': e['rotation']\n",
    "    }\n",
    "    for e in ego_pose_json\n",
    "    if e['token'] in ego_pose_tokens\n",
    "]\n",
    "len(ego_pose_filter)"
   ]
  },
  {
   "cell_type": "code",
   "execution_count": null,
   "id": "c1d5df8b-0647-478d-b86f-04460dbe44c7",
   "metadata": {
    "execution": {
     "iopub.execute_input": "2022-07-12T21:10:18.445052Z",
     "iopub.status.busy": "2022-07-12T21:10:18.444652Z",
     "iopub.status.idle": "2022-07-12T21:10:18.452816Z",
     "shell.execute_reply": "2022-07-12T21:10:18.452050Z"
    }
   },
   "outputs": [],
   "source": [
    "scene_filter = [\n",
    "    {\n",
    "        'scene_token': s['token'],\n",
    "        'scene_name': s['name'],\n",
    "    }\n",
    "    for s in scene_json\n",
    "    if s['token'] in scene_tokens\n",
    "]\n",
    "len(scene_filter)"
   ]
  },
  {
   "cell_type": "code",
   "execution_count": null,
   "id": "990890d3-1036-40ed-8989-58d3b5054622",
   "metadata": {
    "execution": {
     "iopub.execute_input": "2022-07-12T21:10:18.456084Z",
     "iopub.status.busy": "2022-07-12T21:10:18.455763Z",
     "iopub.status.idle": "2022-07-12T21:15:22.287747Z",
     "shell.execute_reply": "2022-07-12T21:15:22.286683Z"
    }
   },
   "outputs": [],
   "source": [
    "sample_map = {\n",
    "    s['sample_token']: s\n",
    "    for s in sample_filter\n",
    "}\n",
    "calibrated_sensor_map = {\n",
    "    c['calibrated_sensor_token']: c\n",
    "    for c in calibrated_sensor_filter\n",
    "}\n",
    "ego_pose_map = {\n",
    "    e['ego_pose_token']: e\n",
    "    for e in ego_pose_filter\n",
    "}\n",
    "scene_map = {\n",
    "    s['scene_token']: s\n",
    "    for s in scene_filter\n",
    "}\n",
    "\n",
    "def s_map(s):\n",
    "    sample = sample_map[s['sample_token']]\n",
    "    calibrated_sensor = calibrated_sensor_map[s['calibrated_sensor_token']]\n",
    "    ego_pose = ego_pose_map[s['ego_pose_token']]\n",
    "    ego_heading = get_heading_from_north(Quaternion(ego_pose['ego_rotation']))\n",
    "    camera_heading = get_camera_heading(Quaternion(calibrated_sensor['camera_rotation']))\n",
    "    ret = {\n",
    "        **s,\n",
    "        **sample,\n",
    "        **calibrated_sensor,\n",
    "        **ego_pose,\n",
    "        **scene_map[sample['scene_token']],\n",
    "        'ego_heading': ego_heading * 180 / math.pi,\n",
    "        'camera_heading': normalizeAngle(camera_heading + ego_heading) * 180 / math.pi,\n",
    "        'camera_translation_absolute': get_camera_position(\n",
    "            calibrated_sensor['camera_translation'],\n",
    "            ego_pose['ego_translation'],\n",
    "            ego_pose['ego_rotation']\n",
    "        )\n",
    "    }\n",
    "    del ret['ego_pose_token']\n",
    "    del ret['calibrated_sensor_token']\n",
    "    del ret['fileformat']\n",
    "    del ret['height']\n",
    "    del ret['width']\n",
    "    del ret['prev']\n",
    "    del ret['next']\n",
    "    del ret['scene_token']\n",
    "    return ret\n",
    "\n",
    "sample_data_res = [*map(s_map, sample_data_filter)]\n",
    "\n",
    "len(sample_data_res)"
   ]
  },
  {
   "cell_type": "code",
   "execution_count": null,
   "id": "0ae8b702-ee28-4ca0-a6b1-a45fe2af1c03",
   "metadata": {
    "tags": []
   },
   "outputs": [],
   "source": []
  },
  {
   "cell_type": "code",
   "execution_count": null,
   "id": "89c673ec-172f-4cd6-95e8-9d7808b2b163",
   "metadata": {
    "tags": []
   },
   "outputs": [],
   "source": []
  },
  {
   "cell_type": "code",
   "execution_count": null,
   "id": "0a342275-8f83-4fea-ae2a-ecc4e7fe1320",
   "metadata": {
    "execution": {
     "iopub.execute_input": "2022-07-12T21:15:22.294677Z",
     "iopub.status.busy": "2022-07-12T21:15:22.293846Z",
     "iopub.status.idle": "2022-07-12T21:15:22.972465Z",
     "shell.execute_reply": "2022-07-12T21:15:22.971558Z"
    }
   },
   "outputs": [],
   "source": [
    "sample_annotation_filter = [\n",
    "    sa\n",
    "    for sa in sample_annotation_json\n",
    "    if sa['sample_token'] in sample_tokens\n",
    "]\n",
    "len(sample_annotation_filter)"
   ]
  },
  {
   "cell_type": "code",
   "execution_count": null,
   "id": "cc87edd3-c7a7-4d52-8e82-6a64f5377d5e",
   "metadata": {
    "execution": {
     "iopub.execute_input": "2022-07-12T21:15:22.978079Z",
     "iopub.status.busy": "2022-07-12T21:15:22.977716Z",
     "iopub.status.idle": "2022-07-12T21:15:23.440460Z",
     "shell.execute_reply": "2022-07-12T21:15:23.439508Z"
    }
   },
   "outputs": [],
   "source": [
    "instance_tokens = set([\n",
    "    sa['instance_token']\n",
    "    for sa in sample_annotation_filter\n",
    "])\n",
    "\n",
    "instance_filter = [\n",
    "    {\n",
    "        'instance_token': i['token'],\n",
    "        'category_token': i['category_token']\n",
    "    }\n",
    "    for i in instance_json\n",
    "    if i['token'] in instance_tokens\n",
    "]\n",
    "len(instance_filter)"
   ]
  },
  {
   "cell_type": "code",
   "execution_count": null,
   "id": "fe8a8d1f-0780-4889-ac68-dd68b8e9e9ea",
   "metadata": {
    "execution": {
     "iopub.execute_input": "2022-07-12T21:15:23.446140Z",
     "iopub.status.busy": "2022-07-12T21:15:23.445775Z",
     "iopub.status.idle": "2022-07-12T21:15:23.463827Z",
     "shell.execute_reply": "2022-07-12T21:15:23.462964Z"
    }
   },
   "outputs": [],
   "source": [
    "category_tokens = set([\n",
    "    i['category_token']\n",
    "    for i in instance_filter\n",
    "])\n",
    "\n",
    "category_filter = [\n",
    "    {\n",
    "        'category_token': c['token'],\n",
    "        'category': c['name']\n",
    "    }\n",
    "    for c in category_json\n",
    "    if c['token'] in category_tokens\n",
    "]\n",
    "len(category_filter)"
   ]
  },
  {
   "cell_type": "code",
   "execution_count": null,
   "id": "ac4c5a41-8151-4f76-b57e-884b4ede46f2",
   "metadata": {
    "execution": {
     "iopub.execute_input": "2022-07-12T21:15:23.469023Z",
     "iopub.status.busy": "2022-07-12T21:15:23.468724Z",
     "iopub.status.idle": "2022-07-12T21:15:40.583355Z",
     "shell.execute_reply": "2022-07-12T21:15:40.582307Z"
    }
   },
   "outputs": [],
   "source": [
    "instance_map = {\n",
    "    i['instance_token']: i\n",
    "    for i in instance_filter\n",
    "}\n",
    "category_map = {\n",
    "    c['category_token']: c\n",
    "    for c in category_filter\n",
    "}\n",
    "\n",
    "def sa_map(sa):\n",
    "    instance = instance_map[sa['instance_token']]\n",
    "    ret = {\n",
    "        **sa,\n",
    "        **instance,\n",
    "        **category_map[instance['category_token']],\n",
    "        'heading': (get_heading_from_north(Quaternion(sa['rotation']))) * 180 / math.pi\n",
    "    }\n",
    "    \n",
    "    del ret['visibility_token']\n",
    "    del ret['attribute_tokens']\n",
    "    del ret['prev']\n",
    "    del ret['next']\n",
    "    del ret['num_lidar_pts']\n",
    "    del ret['num_radar_pts']\n",
    "    del ret['category_token']\n",
    "    \n",
    "    return ret\n",
    "\n",
    "sample_annotation_res = [*map(sa_map, sample_annotation_filter)]\n",
    "len(sample_annotation_res)"
   ]
  },
  {
   "cell_type": "code",
   "execution_count": null,
   "id": "b31c9a76-9da2-4c7d-891b-43f747116921",
   "metadata": {
    "execution": {
     "iopub.execute_input": "2022-07-12T21:15:40.590581Z",
     "iopub.status.busy": "2022-07-12T21:15:40.589739Z",
     "iopub.status.idle": "2022-07-12T21:15:47.547889Z",
     "shell.execute_reply": "2022-07-12T21:15:47.546848Z"
    }
   },
   "outputs": [],
   "source": [
    "sample_data_final = pd.DataFrame(sample_data_res)"
   ]
  },
  {
   "cell_type": "code",
   "execution_count": null,
   "id": "cb656b55-6505-4efb-b6b6-7f80cdbb7a7e",
   "metadata": {
    "execution": {
     "iopub.execute_input": "2022-07-12T21:15:47.554284Z",
     "iopub.status.busy": "2022-07-12T21:15:47.553914Z",
     "iopub.status.idle": "2022-07-12T21:15:48.929545Z",
     "shell.execute_reply": "2022-07-12T21:15:48.928547Z"
    }
   },
   "outputs": [],
   "source": [
    "sample_annotation_final = pd.DataFrame(sample_annotation_res)"
   ]
  },
  {
   "cell_type": "code",
   "execution_count": null,
   "id": "aeec0306-65c6-4ea2-ad78-da5539bad861",
   "metadata": {
    "execution": {
     "iopub.execute_input": "2022-07-12T21:15:48.935734Z",
     "iopub.status.busy": "2022-07-12T21:15:48.935398Z",
     "iopub.status.idle": "2022-07-12T21:15:53.095628Z",
     "shell.execute_reply": "2022-07-12T21:15:53.094605Z"
    }
   },
   "outputs": [],
   "source": [
    "df_sample_data_keyframe = sample_data_final[sample_data_final[\"is_key_frame\"]][\n",
    "    [\"token\", \"sample_token\"]\n",
    "]\n",
    "sample_annotation_final = sample_annotation_final.set_index(\"sample_token\").join(\n",
    "    df_sample_data_keyframe.set_index(\"sample_token\"), on=\"sample_token\", rsuffix=\"_sample_data\"\n",
    ")"
   ]
  },
  {
   "cell_type": "code",
   "execution_count": null,
   "id": "454245fe-562d-4964-8cea-cba3587cdab9",
   "metadata": {
    "execution": {
     "iopub.execute_input": "2022-07-12T21:15:53.102013Z",
     "iopub.status.busy": "2022-07-12T21:15:53.101643Z",
     "iopub.status.idle": "2022-07-12T21:15:55.362165Z",
     "shell.execute_reply": "2022-07-12T21:15:55.361120Z"
    }
   },
   "outputs": [],
   "source": [
    "sample_data_final = sample_data_final.sort_values(by=['scene_name', 'timestamp'])"
   ]
  },
  {
   "cell_type": "code",
   "execution_count": null,
   "id": "c42b1470-be7d-4e51-a42c-4d06a7326125",
   "metadata": {
    "execution": {
     "iopub.execute_input": "2022-07-12T21:15:55.368578Z",
     "iopub.status.busy": "2022-07-12T21:15:55.368205Z",
     "iopub.status.idle": "2022-07-12T21:19:43.665615Z",
     "shell.execute_reply": "2022-07-12T21:19:43.663997Z"
    }
   },
   "outputs": [],
   "source": [
    "sample_data_final[\"frame_order\"] = 0\n",
    "scene = \"\"\n",
    "i = 1\n",
    "for index, row in sample_data_final.iterrows():\n",
    "    if row['scene_name'] != scene:\n",
    "        scene = row['scene_name']\n",
    "        sample_data_final.loc[index, \"frame_order\"] = 1\n",
    "        i = 2\n",
    "    else:\n",
    "        sample_data_final.loc[index, \"frame_order\"] = i\n",
    "        i += 1\n"
   ]
  },
  {
   "cell_type": "code",
   "execution_count": null,
   "id": "48a202e1-0862-40d0-b301-24f1978ff919",
   "metadata": {
    "execution": {
     "iopub.execute_input": "2022-07-12T21:19:43.672193Z",
     "iopub.status.busy": "2022-07-12T21:19:43.671783Z",
     "iopub.status.idle": "2022-07-12T21:19:43.678832Z",
     "shell.execute_reply": "2022-07-12T21:19:43.677749Z"
    }
   },
   "outputs": [],
   "source": [
    "print(len(sample_data_final))"
   ]
  },
  {
   "cell_type": "code",
   "execution_count": null,
   "id": "b78cf691-25ed-4493-a505-9c705b8ae404",
   "metadata": {
    "execution": {
     "iopub.execute_input": "2022-07-12T21:19:43.684547Z",
     "iopub.status.busy": "2022-07-12T21:19:43.684174Z",
     "iopub.status.idle": "2022-07-12T21:19:43.689372Z",
     "shell.execute_reply": "2022-07-12T21:19:43.688533Z"
    }
   },
   "outputs": [],
   "source": [
    "print(len(sample_annotation_final))"
   ]
  },
  {
   "cell_type": "code",
   "execution_count": null,
   "id": "e52bacca-0e53-4b63-b4ae-9b2a3fee55eb",
   "metadata": {},
   "outputs": [],
   "source": []
  },
  {
   "cell_type": "code",
   "execution_count": null,
   "id": "71b8fd3d-f9e5-4d85-8983-219e0fdb0b9d",
   "metadata": {
    "execution": {
     "iopub.execute_input": "2022-07-12T21:19:43.692630Z",
     "iopub.status.busy": "2022-07-12T21:19:43.692228Z",
     "iopub.status.idle": "2022-07-12T22:10:05.869578Z",
     "shell.execute_reply": "2022-07-12T22:10:05.867500Z"
    }
   },
   "outputs": [],
   "source": [
    "with open(os.path.join(base_dir, f\"sample_data{suffix}.pickle\"), \"wb\") as f:\n",
    "    pickle.dump(sample_data_final, f)\n",
    "with open(os.path.join(base_dir, f\"annotation{suffix}.pickle\"), \"wb\") as f:\n",
    "    pickle.dump(sample_annotation_final, f)"
   ]
  },
  {
   "cell_type": "code",
   "execution_count": null,
   "id": "de13eeea-57de-4deb-b68b-222d73f14e5b",
   "metadata": {},
   "outputs": [],
   "source": []
  },
  {
   "cell_type": "code",
   "execution_count": null,
   "id": "f141a052-6784-4c1b-bdee-83f9bad1d178",
   "metadata": {
    "execution": {
     "iopub.execute_input": "2022-07-12T22:10:05.879266Z",
     "iopub.status.busy": "2022-07-12T22:10:05.878607Z",
     "iopub.status.idle": "2022-07-12T22:35:14.137260Z",
     "shell.execute_reply": "2022-07-12T22:35:14.135688Z"
    }
   },
   "outputs": [],
   "source": [
    "sample_data_final.to_csv(os.path.join(base_dir, f\"sample_data{suffix}.csv\"), index=False)"
   ]
  },
  {
   "cell_type": "code",
   "execution_count": null,
   "id": "9c84d0dd",
   "metadata": {
    "execution": {
     "iopub.execute_input": "2022-07-12T22:35:14.144521Z",
     "iopub.status.busy": "2022-07-12T22:35:14.144024Z",
     "iopub.status.idle": "2022-07-12T23:09:20.284676Z",
     "shell.execute_reply": "2022-07-12T23:09:20.282875Z"
    }
   },
   "outputs": [],
   "source": [
    "sample_annotation_final.to_csv(os.path.join(base_dir, f\"annotation{suffix}.csv\"), index=False)"
   ]
  },
  {
   "cell_type": "code",
   "execution_count": null,
   "id": "529f8953",
   "metadata": {},
   "outputs": [],
   "source": []
  },
  {
   "cell_type": "code",
   "execution_count": null,
   "id": "44d6c519",
   "metadata": {
    "execution": {
     "iopub.execute_input": "2022-07-12T23:09:20.292765Z",
     "iopub.status.busy": "2022-07-12T23:09:20.292142Z",
     "iopub.status.idle": "2022-07-12T23:09:20.385075Z",
     "shell.execute_reply": "2022-07-12T23:09:20.384431Z"
    },
    "tags": []
   },
   "outputs": [],
   "source": [
    "calibrated_sensor = [\n",
    "    {\n",
    "        **c,\n",
    "        **[s for s in sensor_json if s['token'] == c['sensor_token']][0]\n",
    "    }\n",
    "    for c in calibrated_sensor_json\n",
    "]\n",
    "calibrated_sensor = [\n",
    "    c\n",
    "    for c in calibrated_sensor\n",
    "    if c['modality'] == 'camera'\n",
    "]\n",
    "rot = Quaternion(axis=[1, 0, 0], angle=np.pi / 2)\n",
    "[\n",
    "    normalizeAngle(get_heading(rot.rotate(Quaternion(c['rotation'])))) * 180 / math.pi\n",
    "    for c in calibrated_sensor\n",
    "    if c['channel'] == \"CAM_FRONT\"\n",
    "]"
   ]
  },
  {
   "cell_type": "code",
   "execution_count": null,
   "id": "fcb5b9e5",
   "metadata": {},
   "outputs": [],
   "source": []
  },
  {
   "cell_type": "code",
   "execution_count": null,
   "id": "dcf1d541-6ece-42b0-b6bc-d10381e59687",
   "metadata": {
    "execution": {
     "iopub.execute_input": "2022-07-12T23:09:20.393086Z",
     "iopub.status.busy": "2022-07-12T23:09:20.392742Z",
     "iopub.status.idle": "2022-07-12T23:09:20.446227Z",
     "shell.execute_reply": "2022-07-12T23:09:20.445422Z"
    }
   },
   "outputs": [],
   "source": [
    "sample_data_final"
   ]
  },
  {
   "cell_type": "code",
   "execution_count": null,
   "id": "d1aa2fc8-1b2b-42f2-bc95-5742bf3951fa",
   "metadata": {},
   "outputs": [],
   "source": []
  }
 ],
 "metadata": {
  "interpreter": {
   "hash": "5c9f2372a2bfaf539cf701a38e7f23ab828911ee177c2e7bc9c32aa1f4b546df"
  },
  "kernelspec": {
   "display_name": "Python 3 (ipykernel)",
   "language": "python",
   "name": "python3"
  },
  "language_info": {
   "codemirror_mode": {
    "name": "ipython",
    "version": 3
   },
   "file_extension": ".py",
   "mimetype": "text/x-python",
   "name": "python",
   "nbconvert_exporter": "python",
   "pygments_lexer": "ipython3",
   "version": "3.8.13"
  }
 },
 "nbformat": 4,
 "nbformat_minor": 5
}
