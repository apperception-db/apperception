{
 "cells": [
  {
   "cell_type": "code",
   "execution_count": null,
   "id": "89336544-6b0d-41a0-8ba7-ecb60c64dcb7",
   "metadata": {},
   "outputs": [],
   "source": [
    "import json\n",
    "import os\n",
    "from pyquaternion import Quaternion\n",
    "import pandas as pd\n",
    "import pickle\n",
    "import numpy as np"
   ]
  },
  {
   "cell_type": "code",
   "execution_count": null,
   "id": "0bb6e5ad-ce33-421c-9d11-7aa6a2edcdfd",
   "metadata": {},
   "outputs": [],
   "source": [
    "data_dir = '/work/apperception/data/nuScenes/full-dataset-v1.0/Trainval/'\n",
    "data_folder = 'v1.0-trainval/'\n",
    "partition_folder = 'v1.0-trainval-partitioned/'\n",
    "data_files = [\n",
    "    'calibrated_sensor',\n",
    "    'category',\n",
    "    'sample',\n",
    "    'sample_data',\n",
    "    'sample_annotation',\n",
    "    'instance',\n",
    "    'scene',\n",
    "    'ego_pose'\n",
    "]"
   ]
  },
  {
   "cell_type": "code",
   "execution_count": null,
   "id": "bca93254-35b5-4e10-ba02-b8324643be60",
   "metadata": {},
   "outputs": [],
   "source": [
    "num_part = 20"
   ]
  },
  {
   "cell_type": "code",
   "execution_count": null,
   "id": "bb3733c4-ad7f-4e73-a5b7-2aed59163581",
   "metadata": {},
   "outputs": [],
   "source": [
    "for filename in data_files:\n",
    "    print(\"partitioning:\", filename)\n",
    "    os.mkdir(os.path.join(data_dir, partition_folder, filename))\n",
    "    with open(os.path.join(data_dir, data_folder, filename + '.json'), \"r\") as f:\n",
    "        data = json.load(f)\n",
    "    n = len(data)\n",
    "    part_size = n // num_part\n",
    "    \n",
    "    start = 0\n",
    "    count = 0\n",
    "    while start < n:\n",
    "        print(\"  partitioned\", start, \"of\", n)\n",
    "        end = start + part_size if start + part_size < n else n\n",
    "        partition = data[start:end]\n",
    "        with open(os.path.join(data_dir, partition_folder, filename, 'part_' + str(count) + '.json'), \"w\") as f:\n",
    "            json.dump(partition, f, indent=2)\n",
    "        start += part_size\n",
    "        count += 1\n",
    "            "
   ]
  },
  {
   "cell_type": "code",
   "execution_count": null,
   "id": "fbdc036f-e2e9-425c-9007-e591e9685bb3",
   "metadata": {},
   "outputs": [],
   "source": []
  }
 ],
 "metadata": {
  "kernelspec": {
   "display_name": "Python 3 (ipykernel)",
   "language": "python",
   "name": "python3"
  },
  "language_info": {
   "codemirror_mode": {
    "name": "ipython",
    "version": 3
   },
   "file_extension": ".py",
   "mimetype": "text/x-python",
   "name": "python",
   "nbconvert_exporter": "python",
   "pygments_lexer": "ipython3",
   "version": "3.8.13"
  }
 },
 "nbformat": 4,
 "nbformat_minor": 5
}
