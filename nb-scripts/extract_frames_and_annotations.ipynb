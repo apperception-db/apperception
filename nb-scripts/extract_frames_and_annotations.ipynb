{
 "cells": [
  {
   "cell_type": "code",
   "execution_count": null,
   "id": "c3438e25-6068-447c-94de-8349d221d904",
   "metadata": {},
   "outputs": [],
   "source": [
    "import json\n",
    "import os\n",
    "from pyquaternion import Quaternion\n",
    "import pandas as pd\n",
    "import pickle\n",
    "import numpy as np"
   ]
  },
  {
   "cell_type": "code",
   "execution_count": null,
   "id": "0442a4af-d4b9-4579-b676-ef116abebdf3",
   "metadata": {},
   "outputs": [],
   "source": [
    "EXPERIMENT = False"
   ]
  },
  {
   "cell_type": "code",
   "execution_count": null,
   "id": "6be71947-e2c8-4aef-8468-26e67e7fd25b",
   "metadata": {},
   "outputs": [],
   "source": [
    "if EXPERIMENT:\n",
    "    suffix = '_experiment'\n",
    "else:\n",
    "    suffix = ''"
   ]
  },
  {
   "cell_type": "code",
   "execution_count": null,
   "id": "e5632555-c92f-4a7e-a666-e9d3a47e6b66",
   "metadata": {},
   "outputs": [],
   "source": [
    "full_data_dir = '/work/apperception/data/nuScenes/full-dataset-v1.0/Trainval/'\n",
    "mini_data_dir = '/work/apperception/data/nuScenes/full-dataset-v1.0/Mini/'"
   ]
  },
  {
   "cell_type": "code",
   "execution_count": null,
   "id": "e790dd6b-5409-43de-9a39-e1baa53d3322",
   "metadata": {},
   "outputs": [],
   "source": [
    "# base_dir = full_data_dir\n",
    "# folder = 'v1.0-trainval'"
   ]
  },
  {
   "cell_type": "code",
   "execution_count": null,
   "id": "be90912a-bb15-4a6c-9d9c-a631e3f5a8c5",
   "metadata": {},
   "outputs": [],
   "source": [
    "base_dir = mini_data_dir\n",
    "folder = 'v1.0-mini'"
   ]
  },
  {
   "cell_type": "code",
   "execution_count": null,
   "id": "cda613ba-ae72-4164-a6ab-79b143e9919c",
   "metadata": {},
   "outputs": [],
   "source": [
    "with open(os.path.join(base_dir, folder, 'calibrated_sensor.json')) as f:\n",
    "    calibrated_sensor_json = json.load(f)\n",
    "\n",
    "with open(os.path.join(base_dir, folder, 'category.json')) as f:\n",
    "    category_json = json.load(f)\n",
    "\n",
    "with open(os.path.join(base_dir, folder, 'sample.json')) as f:\n",
    "    sample_json = json.load(f)\n",
    "\n",
    "with open(os.path.join(base_dir, folder, 'sample_data.json')) as f:\n",
    "    sample_data_json = json.load(f)\n",
    "\n",
    "with open(os.path.join(base_dir, folder, 'sample_annotation.json')) as f:\n",
    "    sample_annotation_json = json.load(f)\n",
    "\n",
    "with open(os.path.join(base_dir, folder, 'instance.json')) as f:\n",
    "    instance_json = json.load(f)\n",
    "\n",
    "with open(os.path.join(base_dir, folder, 'scene.json')) as f:\n",
    "    scene_json = json.load(f)\n",
    "\n",
    "with open(os.path.join(base_dir, folder, 'ego_pose.json')) as f:\n",
    "    ego_pose_json = json.load(f)\n",
    "\n",
    "with open(os.path.join(base_dir, folder, 'sensor.json')) as f:\n",
    "    sensor_json = json.load(f)"
   ]
  },
  {
   "cell_type": "code",
   "execution_count": null,
   "id": "554f7783-5a5d-4b62-9f27-1dae60001001",
   "metadata": {},
   "outputs": [],
   "source": [
    "cameras = set([s['token'] for s in sensor_json if s['modality'] == 'camera'])\n",
    "cameras"
   ]
  },
  {
   "cell_type": "code",
   "execution_count": null,
   "id": "00e92a6f-2de7-411b-9785-2560424a27d0",
   "metadata": {},
   "outputs": [],
   "source": []
  }
 ],
 "metadata": {
  "kernelspec": {
   "display_name": "Python 3 (ipykernel)",
   "language": "python",
   "name": "python3"
  },
  "language_info": {
   "codemirror_mode": {
    "name": "ipython",
    "version": 3
   },
   "file_extension": ".py",
   "mimetype": "text/x-python",
   "name": "python",
   "nbconvert_exporter": "python",
   "pygments_lexer": "ipython3",
   "version": "3.8.12"
  }
 },
 "nbformat": 4,
 "nbformat_minor": 5
}
