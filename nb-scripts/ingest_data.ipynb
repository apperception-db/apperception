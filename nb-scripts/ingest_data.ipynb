{
 "cells": [
  {
   "cell_type": "code",
   "execution_count": 1,
   "id": "6bf3bf67-3f34-4643-9fb0-3a57e8aa257f",
   "metadata": {},
   "outputs": [],
   "source": [
    "import os\n",
    "from apperception.database import Database, database\n",
    "from apperception.utils import import_tables, ingest_road"
   ]
  },
  {
   "cell_type": "code",
   "execution_count": 2,
   "id": "fcc8ccef-5a55-4d29-93d5-008cbee20e5d",
   "metadata": {},
   "outputs": [],
   "source": [
    "EXPERIMENT = False"
   ]
  },
  {
   "cell_type": "code",
   "execution_count": 3,
   "id": "8026e645",
   "metadata": {},
   "outputs": [],
   "source": [
    "suffix = \"_experiment\" if EXPERIMENT else \"\""
   ]
  },
  {
   "cell_type": "code",
   "execution_count": 4,
   "id": "9dc53a6d-8d68-4019-8393-ec111690580f",
   "metadata": {},
   "outputs": [],
   "source": [
    "if 'ROAD_DATA' in os.environ:\n",
    "    road_data = os.environ['ROAD_DATA']\n",
    "else:\n",
    "    road_data = '/work/apperception/data/road_network_boston'"
   ]
  },
  {
   "cell_type": "code",
   "execution_count": 5,
   "id": "d7c722d9",
   "metadata": {},
   "outputs": [
    {
     "data": {
      "text/plain": [
       "'/work/apperception/data/road_network_boston'"
      ]
     },
     "execution_count": 5,
     "metadata": {},
     "output_type": "execute_result"
    }
   ],
   "source": [
    "road_data"
   ]
  },
  {
   "cell_type": "code",
   "execution_count": 6,
   "id": "6fd4c4d8-1a23-41e2-9b6d-5dd9d9199018",
   "metadata": {},
   "outputs": [
    {
     "name": "stdout",
     "output_type": "stream",
     "text": [
      "Ingesting polygon\n",
      "Ingesting segment\n",
      "Ingesting laneSection\n",
      "Ingesting lane\n",
      "Ingesting lane_LaneSec\n",
      "Ingesting laneGroup\n",
      "Ingesting laneGroup_Lane\n",
      "Ingesting laneGroup_opposite\n",
      "Ingesting road\n",
      "Ingesting road_laneGroup\n",
      "Ingesting road_roadSec\n",
      "Ingesting roadSection\n",
      "Ingesting roadSec_laneSec\n",
      "Ingesting intersection\n",
      "adding segment types\n",
      "altered table\n",
      "added type: lanesection\n",
      "added type: road\n",
      "added type: lane\n",
      "added type: intersection\n",
      "added type: roadSection\n"
     ]
    }
   ],
   "source": [
    "ingest_road(database, road_data)"
   ]
  },
  {
   "cell_type": "code",
   "execution_count": 7,
   "id": "754710d2-1dae-474f-b1ab-47eb48936b06",
   "metadata": {},
   "outputs": [],
   "source": [
    "from apperception.world import empty_world\n",
    "import os\n",
    "import pickle"
   ]
  },
  {
   "cell_type": "code",
   "execution_count": 8,
   "id": "d5662ae1-35d8-41a1-83c4-64cde21497b1",
   "metadata": {},
   "outputs": [],
   "source": [
    "world = empty_world(\"w\")"
   ]
  },
  {
   "cell_type": "code",
   "execution_count": 9,
   "id": "85ac6942",
   "metadata": {},
   "outputs": [
    {
     "ename": "KeyError",
     "evalue": "'NUSCENE_DATA'",
     "output_type": "error",
     "traceback": [
      "\u001b[0;31m---------------------------------------------------------------------------\u001b[0m",
      "\u001b[0;31mKeyError\u001b[0m                                  Traceback (most recent call last)",
      "Cell \u001b[0;32mIn [9], line 1\u001b[0m\n\u001b[0;32m----> 1\u001b[0m \u001b[38;5;28;01mdel\u001b[39;00m os\u001b[38;5;241m.\u001b[39menviron[\u001b[38;5;124m'\u001b[39m\u001b[38;5;124mNUSCENE_DATA\u001b[39m\u001b[38;5;124m'\u001b[39m]\n",
      "File \u001b[0;32m~/.pyenv/versions/3.10.7/lib/python3.10/os.py:695\u001b[0m, in \u001b[0;36m_Environ.__delitem__\u001b[0;34m(self, key)\u001b[0m\n\u001b[1;32m    692\u001b[0m     \u001b[38;5;28;01mdel\u001b[39;00m \u001b[38;5;28mself\u001b[39m\u001b[38;5;241m.\u001b[39m_data[encodedkey]\n\u001b[1;32m    693\u001b[0m \u001b[38;5;28;01mexcept\u001b[39;00m \u001b[38;5;167;01mKeyError\u001b[39;00m:\n\u001b[1;32m    694\u001b[0m     \u001b[38;5;66;03m# raise KeyError with the original key value\u001b[39;00m\n\u001b[0;32m--> 695\u001b[0m     \u001b[38;5;28;01mraise\u001b[39;00m \u001b[38;5;167;01mKeyError\u001b[39;00m(key) \u001b[38;5;28;01mfrom\u001b[39;00m \u001b[38;5;28mNone\u001b[39m\n",
      "\u001b[0;31mKeyError\u001b[0m: 'NUSCENE_DATA'"
     ]
    }
   ],
   "source": [
    "del os.environ['NUSCENE_DATA']"
   ]
  },
  {
   "cell_type": "code",
   "execution_count": 11,
   "id": "5fac6502-363d-4679-a02e-dd7c0a556298",
   "metadata": {},
   "outputs": [
    {
     "data": {
      "text/plain": [
       "'/work/apperception/data/nuScenes/full-dataset-v1.0/Mini/'"
      ]
     },
     "execution_count": 11,
     "metadata": {},
     "output_type": "execute_result"
    }
   ],
   "source": [
    "if 'NUSCENE_DATA' in os.environ:\n",
    "    base_dir = os.environ['NUSCENE_DATA']\n",
    "else:\n",
    "    base_dir = '/work/apperception/data/nuScenes/full-dataset-v1.0/Mini/'\n",
    "#     base_dir = '/work/apperception/data/nuScenes/full-dataset-v1.0/Trainval'\n",
    "base_dir"
   ]
  },
  {
   "cell_type": "code",
   "execution_count": 12,
   "id": "06dc1625-f3c7-4150-afe3-1ab88f14fa5a",
   "metadata": {},
   "outputs": [],
   "source": [
    "# Or uncomment this cell\n",
    "with open(os.path.join(base_dir, f'sample_data{suffix}.pickle'), \"rb\") as f:\n",
    "    df_sample_data = pickle.loads(f.read())\n",
    "with open(os.path.join(base_dir, f'annotation{suffix}.pickle'), \"rb\") as f:\n",
    "    df_annotation = pickle.loads(f.read())"
   ]
  },
  {
   "cell_type": "code",
   "execution_count": 13,
   "id": "04bcb8d8-4fe4-4de2-b7de-2d59140c07ad",
   "metadata": {},
   "outputs": [],
   "source": [
    "scenes = df_sample_data['scene_name'].drop_duplicates().values.tolist()"
   ]
  },
  {
   "cell_type": "code",
   "execution_count": 14,
   "id": "de5744d6-c391-417e-8646-f29eed6f81f9",
   "metadata": {},
   "outputs": [
    {
     "data": {
      "text/plain": [
       "'[410.9433704785875, 1179.9098624203461, 0.0]'"
      ]
     },
     "execution_count": 14,
     "metadata": {},
     "output_type": "execute_result"
    }
   ],
   "source": [
    "str(df_sample_data['ego_translation'][0])"
   ]
  },
  {
   "cell_type": "code",
   "execution_count": 15,
   "id": "1e0a4d48-6d18-4029-be5a-7b671c9f3411",
   "metadata": {
    "tags": []
   },
   "outputs": [
    {
     "name": "stdout",
     "output_type": "stream",
     "text": [
      "scene-0061 scene-1100\n",
      "scene-0103 scene-1100\n",
      "scene-0553 scene-1100\n",
      "scene-0655 scene-1100\n",
      "scene-0757 scene-1100\n",
      "scene-0796 scene-1100\n",
      "scene-0916 scene-1100\n",
      "scene-1077 scene-1100\n",
      "scene-1094 scene-1100\n",
      "scene-1100 scene-1100\n"
     ]
    }
   ],
   "source": [
    "from apperception.utils import df_to_camera_config\n",
    "from apperception.data_types import Camera\n",
    "database.reset()\n",
    "for scene in scenes:\n",
    "    print(scene, scenes[-1])\n",
    "    config = df_to_camera_config(scene, df_sample_data)\n",
    "    camera = Camera(config=config, id=scene)\n",
    "    world <<= (camera, df_annotation)"
   ]
  },
  {
   "cell_type": "code",
   "execution_count": 16,
   "id": "d80e1adc-a588-458c-aa05-00dd8898ed77",
   "metadata": {
    "tags": []
   },
   "outputs": [
    {
     "name": "stdout",
     "output_type": "stream",
     "text": [
      "execute: insert_cam\n",
      "New camera inserted successfully.........\n",
      "execute: retrieve_cam\n",
      "execute: insert_bbox_traj\n",
      "Recognization done, saving to database......\n",
      "execute: retrieve_bbox\n",
      "execute: retrieve_traj\n",
      "execute: insert_cam\n",
      "New camera inserted successfully.........\n",
      "execute: retrieve_cam\n",
      "execute: insert_bbox_traj\n",
      "Recognization done, saving to database......\n",
      "execute: retrieve_bbox\n",
      "execute: retrieve_traj\n",
      "execute: insert_cam\n",
      "New camera inserted successfully.........\n",
      "execute: retrieve_cam\n",
      "execute: insert_bbox_traj\n",
      "Recognization done, saving to database......\n",
      "execute: retrieve_bbox\n",
      "execute: retrieve_traj\n",
      "execute: insert_cam\n",
      "New camera inserted successfully.........\n",
      "execute: retrieve_cam\n",
      "execute: insert_bbox_traj\n",
      "Recognization done, saving to database......\n",
      "execute: retrieve_bbox\n",
      "execute: retrieve_traj\n",
      "execute: insert_cam\n",
      "New camera inserted successfully.........\n",
      "execute: retrieve_cam\n",
      "execute: insert_bbox_traj\n",
      "Recognization done, saving to database......\n",
      "execute: retrieve_bbox\n",
      "execute: retrieve_traj\n",
      "execute: insert_cam\n",
      "New camera inserted successfully.........\n",
      "execute: retrieve_cam\n",
      "execute: insert_bbox_traj\n",
      "Recognization done, saving to database......\n",
      "execute: retrieve_bbox\n",
      "execute: retrieve_traj\n",
      "execute: insert_cam\n",
      "New camera inserted successfully.........\n",
      "execute: retrieve_cam\n",
      "execute: insert_bbox_traj\n",
      "Recognization done, saving to database......\n",
      "execute: retrieve_bbox\n",
      "execute: retrieve_traj\n",
      "execute: insert_cam\n",
      "New camera inserted successfully.........\n",
      "execute: retrieve_cam\n",
      "execute: insert_bbox_traj\n",
      "Recognization done, saving to database......\n",
      "execute: retrieve_bbox\n",
      "execute: retrieve_traj\n",
      "execute: insert_cam\n",
      "New camera inserted successfully.........\n",
      "execute: retrieve_cam\n",
      "execute: insert_bbox_traj\n",
      "Recognization done, saving to database......\n",
      "execute: retrieve_bbox\n",
      "execute: retrieve_traj\n",
      "execute: insert_cam\n",
      "New camera inserted successfully.........\n",
      "execute: retrieve_cam\n",
      "execute: insert_bbox_traj\n",
      "Recognization done, saving to database......\n",
      "execute: retrieve_bbox\n",
      "execute: retrieve_traj\n",
      "execute: get_traj_key\n",
      "get_traj_key \n",
      "        SELECT itemId FROM ((SELECT * FROM item_general_trajectory) UNION (SELECT * FROM Cameras WHERE cameraId='scene-0061') UNION (SELECT * FROM General_Bbox WHERE cameraId='scene-0061') UNION (SELECT * FROM Item_General_Trajectory WHERE cameraId='scene-0061') UNION (SELECT * FROM Cameras WHERE cameraId='scene-0103') UNION (SELECT * FROM General_Bbox WHERE cameraId='scene-0103') UNION (SELECT * FROM Item_General_Trajectory WHERE cameraId='scene-0103') UNION (SELECT * FROM Cameras WHERE cameraId='scene-0553') UNION (SELECT * FROM General_Bbox WHERE cameraId='scene-0553') UNION (SELECT * FROM Item_General_Trajectory WHERE cameraId='scene-0553') UNION (SELECT * FROM Cameras WHERE cameraId='scene-0655') UNION (SELECT * FROM General_Bbox WHERE cameraId='scene-0655') UNION (SELECT * FROM Item_General_Trajectory WHERE cameraId='scene-0655') UNION (SELECT * FROM Cameras WHERE cameraId='scene-0757') UNION (SELECT * FROM General_Bbox WHERE cameraId='scene-0757') UNION (SELECT * FROM Item_General_Trajectory WHERE cameraId='scene-0757') UNION (SELECT * FROM Cameras WHERE cameraId='scene-0796') UNION (SELECT * FROM General_Bbox WHERE cameraId='scene-0796') UNION (SELECT * FROM Item_General_Trajectory WHERE cameraId='scene-0796') UNION (SELECT * FROM Cameras WHERE cameraId='scene-0916') UNION (SELECT * FROM General_Bbox WHERE cameraId='scene-0916') UNION (SELECT * FROM Item_General_Trajectory WHERE cameraId='scene-0916') UNION (SELECT * FROM Cameras WHERE cameraId='scene-1077') UNION (SELECT * FROM General_Bbox WHERE cameraId='scene-1077') UNION (SELECT * FROM Item_General_Trajectory WHERE cameraId='scene-1077') UNION (SELECT * FROM Cameras WHERE cameraId='scene-1094') UNION (SELECT * FROM General_Bbox WHERE cameraId='scene-1094') UNION (SELECT * FROM Item_General_Trajectory WHERE cameraId='scene-1094') UNION (SELECT * FROM Cameras WHERE cameraId='scene-1100') UNION (SELECT * FROM General_Bbox WHERE cameraId='scene-1100') UNION (SELECT * FROM Item_General_Trajectory WHERE cameraId='scene-1100')) as final\n",
      "        \n"
     ]
    },
    {
     "ename": "SyntaxError",
     "evalue": "each UNION query must have the same number of columns\nLINE 2: ...ECT * FROM item_general_trajectory) UNION (SELECT * FROM Cam...\n                                                             ^\n",
     "output_type": "error",
     "traceback": [
      "\u001b[0;31m---------------------------------------------------------------------------\u001b[0m",
      "\u001b[0;31mSyntaxError\u001b[0m                               Traceback (most recent call last)",
      "Cell \u001b[0;32mIn [16], line 1\u001b[0m\n\u001b[0;32m----> 1\u001b[0m \u001b[43mworld\u001b[49m\u001b[38;5;241;43m.\u001b[39;49m\u001b[43mget_traj_key\u001b[49m\u001b[43m(\u001b[49m\u001b[43m)\u001b[49m\n",
      "File \u001b[0;32m~/Documents/apperception/apperception/world.py:149\u001b[0m, in \u001b[0;36mWorld.get_traj_key\u001b[0;34m(self)\u001b[0m\n\u001b[1;32m    145\u001b[0m \u001b[38;5;28;01mdef\u001b[39;00m \u001b[38;5;21mget_traj_key\u001b[39m(\u001b[38;5;28mself\u001b[39m):\n\u001b[1;32m    146\u001b[0m     \u001b[38;5;28;01mreturn\u001b[39;00m \u001b[43mderive_world\u001b[49m\u001b[43m(\u001b[49m\n\u001b[1;32m    147\u001b[0m \u001b[43m        \u001b[49m\u001b[38;5;28;43mself\u001b[39;49m\u001b[43m,\u001b[49m\n\u001b[1;32m    148\u001b[0m \u001b[43m        \u001b[49m\u001b[43mdatabase\u001b[49m\u001b[38;5;241;43m.\u001b[39;49m\u001b[43mget_traj_key\u001b[49m\u001b[43m,\u001b[49m\n\u001b[0;32m--> 149\u001b[0m \u001b[43m    \u001b[49m\u001b[43m)\u001b[49m\u001b[38;5;241;43m.\u001b[39;49m\u001b[43m_execute_from_root\u001b[49m\u001b[43m(\u001b[49m\u001b[43m)\u001b[49m\n",
      "File \u001b[0;32m~/Documents/apperception/apperception/world.py:280\u001b[0m, in \u001b[0;36mWorld._execute_from_root\u001b[0;34m(self)\u001b[0m\n\u001b[1;32m    278\u001b[0m         \u001b[38;5;28mprint\u001b[39m(\u001b[38;5;124m\"\u001b[39m\u001b[38;5;124mexecute:\u001b[39m\u001b[38;5;124m\"\u001b[39m, node\u001b[38;5;241m.\u001b[39mfn\u001b[38;5;241m.\u001b[39m\u001b[38;5;18m__name__\u001b[39m)\n\u001b[1;32m    279\u001b[0m         \u001b[38;5;66;03m# print(query)\u001b[39;00m\n\u001b[0;32m--> 280\u001b[0m         query \u001b[38;5;241m=\u001b[39m \u001b[43mnode\u001b[49m\u001b[38;5;241;43m.\u001b[39;49m\u001b[43m_execute\u001b[49m\u001b[43m(\u001b[49m\u001b[43mquery\u001b[49m\u001b[38;5;241;43m=\u001b[39;49m\u001b[43mquery\u001b[49m\u001b[43m,\u001b[49m\u001b[43m \u001b[49m\u001b[38;5;241;43m*\u001b[39;49m\u001b[38;5;241;43m*\u001b[39;49m\u001b[43mnode\u001b[49m\u001b[38;5;241;43m.\u001b[39;49m\u001b[43mkwargs\u001b[49m\u001b[43m)\u001b[49m\n\u001b[1;32m    281\u001b[0m \u001b[38;5;28mprint\u001b[39m(\u001b[38;5;124m\"\u001b[39m\u001b[38;5;124mdone execute node\u001b[39m\u001b[38;5;124m\"\u001b[39m)\n\u001b[1;32m    283\u001b[0m res \u001b[38;5;241m=\u001b[39m query\n",
      "File \u001b[0;32m~/Documents/apperception/apperception/world.py:296\u001b[0m, in \u001b[0;36mWorld._execute\u001b[0;34m(self, **kwargs)\u001b[0m\n\u001b[1;32m    294\u001b[0m \u001b[38;5;28;01mif\u001b[39;00m \u001b[38;5;124m\"\u001b[39m\u001b[38;5;124mworld_id\u001b[39m\u001b[38;5;124m\"\u001b[39m \u001b[38;5;129;01min\u001b[39;00m fn_spec\u001b[38;5;241m.\u001b[39margs \u001b[38;5;129;01mor\u001b[39;00m fn_spec\u001b[38;5;241m.\u001b[39mvarkw \u001b[38;5;129;01mis\u001b[39;00m \u001b[38;5;129;01mnot\u001b[39;00m \u001b[38;5;28;01mNone\u001b[39;00m:\n\u001b[1;32m    295\u001b[0m     \u001b[38;5;28;01mreturn\u001b[39;00m fn(\u001b[38;5;241m*\u001b[39m\u001b[38;5;241m*\u001b[39m{\u001b[38;5;124m\"\u001b[39m\u001b[38;5;124mworld_id\u001b[39m\u001b[38;5;124m\"\u001b[39m: \u001b[38;5;28mself\u001b[39m\u001b[38;5;241m.\u001b[39m_world_id, \u001b[38;5;241m*\u001b[39m\u001b[38;5;241m*\u001b[39m\u001b[38;5;28mself\u001b[39m\u001b[38;5;241m.\u001b[39m_kwargs, \u001b[38;5;241m*\u001b[39m\u001b[38;5;241m*\u001b[39mkwargs})\n\u001b[0;32m--> 296\u001b[0m \u001b[38;5;28;01mreturn\u001b[39;00m \u001b[43mfn\u001b[49m\u001b[43m(\u001b[49m\u001b[38;5;241;43m*\u001b[39;49m\u001b[38;5;241;43m*\u001b[39;49m\u001b[43m{\u001b[49m\u001b[38;5;241;43m*\u001b[39;49m\u001b[38;5;241;43m*\u001b[39;49m\u001b[38;5;28;43mself\u001b[39;49m\u001b[38;5;241;43m.\u001b[39;49m\u001b[43m_kwargs\u001b[49m\u001b[43m,\u001b[49m\u001b[43m \u001b[49m\u001b[38;5;241;43m*\u001b[39;49m\u001b[38;5;241;43m*\u001b[39;49m\u001b[43mkwargs\u001b[49m\u001b[43m}\u001b[49m\u001b[43m)\u001b[49m\n",
      "File \u001b[0;32m~/Documents/apperception/apperception/database.py:388\u001b[0m, in \u001b[0;36mDatabase.get_traj_key\u001b[0;34m(self, query)\u001b[0m\n\u001b[1;32m    383\u001b[0m _query \u001b[38;5;241m=\u001b[39m \u001b[38;5;124mf\u001b[39m\u001b[38;5;124m\"\"\"\u001b[39m\n\u001b[1;32m    384\u001b[0m \u001b[38;5;124mSELECT itemId FROM (\u001b[39m\u001b[38;5;132;01m{\u001b[39;00mquery_to_str(query)\u001b[38;5;132;01m}\u001b[39;00m\u001b[38;5;124m) as final\u001b[39m\n\u001b[1;32m    385\u001b[0m \u001b[38;5;124m\u001b[39m\u001b[38;5;124m\"\"\"\u001b[39m\n\u001b[1;32m    387\u001b[0m \u001b[38;5;28mprint\u001b[39m(\u001b[38;5;124m\"\u001b[39m\u001b[38;5;124mget_traj_key\u001b[39m\u001b[38;5;124m\"\u001b[39m, _query)\n\u001b[0;32m--> 388\u001b[0m \u001b[38;5;28;01mreturn\u001b[39;00m \u001b[38;5;28;43mself\u001b[39;49m\u001b[38;5;241;43m.\u001b[39;49m\u001b[43m_execute_query\u001b[49m\u001b[43m(\u001b[49m\u001b[43m_query\u001b[49m\u001b[43m)\u001b[49m\n",
      "File \u001b[0;32m~/Documents/apperception/apperception/database.py:200\u001b[0m, in \u001b[0;36mDatabase._execute_query\u001b[0;34m(self, query)\u001b[0m\n\u001b[1;32m    198\u001b[0m \u001b[38;5;28;01mexcept\u001b[39;00m psycopg2\u001b[38;5;241m.\u001b[39merrors\u001b[38;5;241m.\u001b[39mDatabaseError \u001b[38;5;28;01mas\u001b[39;00m error:\n\u001b[1;32m    199\u001b[0m     \u001b[38;5;28mself\u001b[39m\u001b[38;5;241m.\u001b[39mconnection\u001b[38;5;241m.\u001b[39mrollback()\n\u001b[0;32m--> 200\u001b[0m     \u001b[38;5;28;01mraise\u001b[39;00m error\n",
      "File \u001b[0;32m~/Documents/apperception/apperception/database.py:191\u001b[0m, in \u001b[0;36mDatabase._execute_query\u001b[0;34m(self, query)\u001b[0m\n\u001b[1;32m    189\u001b[0m \u001b[38;5;28;01mdef\u001b[39;00m \u001b[38;5;21m_execute_query\u001b[39m(\u001b[38;5;28mself\u001b[39m, query: \u001b[38;5;28mstr\u001b[39m) \u001b[38;5;241m-\u001b[39m\u001b[38;5;241m>\u001b[39m List[\u001b[38;5;28mtuple\u001b[39m]:\n\u001b[1;32m    190\u001b[0m     \u001b[38;5;28;01mtry\u001b[39;00m:\n\u001b[0;32m--> 191\u001b[0m         \u001b[38;5;28;43mself\u001b[39;49m\u001b[38;5;241;43m.\u001b[39;49m\u001b[43mcursor\u001b[49m\u001b[38;5;241;43m.\u001b[39;49m\u001b[43mexecute\u001b[49m\u001b[43m(\u001b[49m\u001b[43mquery\u001b[49m\u001b[43m)\u001b[49m\n\u001b[1;32m    192\u001b[0m         \u001b[38;5;28;01mfor\u001b[39;00m notice \u001b[38;5;129;01min\u001b[39;00m \u001b[38;5;28mself\u001b[39m\u001b[38;5;241m.\u001b[39mcursor\u001b[38;5;241m.\u001b[39mconnection\u001b[38;5;241m.\u001b[39mnotices:\n\u001b[1;32m    193\u001b[0m             \u001b[38;5;28mprint\u001b[39m(notice)\n",
      "\u001b[0;31mSyntaxError\u001b[0m: each UNION query must have the same number of columns\nLINE 2: ...ECT * FROM item_general_trajectory) UNION (SELECT * FROM Cam...\n                                                             ^\n"
     ]
    }
   ],
   "source": [
    "world.get_traj_key()"
   ]
  },
  {
   "cell_type": "code",
   "execution_count": null,
   "id": "09c9dccc-47e9-4931-a8e1-446c70e8eba6",
   "metadata": {},
   "outputs": [],
   "source": [
    "from apperception.utils import export_tables"
   ]
  },
  {
   "cell_type": "code",
   "execution_count": null,
   "id": "504b379d-bb73-4ee7-9d96-4db355604bee",
   "metadata": {},
   "outputs": [],
   "source": [
    "export_tables(database.connection, \"../data/scenic/database/\")"
   ]
  },
  {
   "cell_type": "code",
   "execution_count": null,
   "id": "37abbe67",
   "metadata": {},
   "outputs": [],
   "source": [
    "!pwd"
   ]
  },
  {
   "cell_type": "code",
   "execution_count": null,
   "id": "e731f2b8",
   "metadata": {},
   "outputs": [],
   "source": []
  }
 ],
 "metadata": {
  "kernelspec": {
   "display_name": "Python 3 (ipykernel)",
   "language": "python",
   "name": "python3"
  },
  "language_info": {
   "codemirror_mode": {
    "name": "ipython",
    "version": 3
   },
   "file_extension": ".py",
   "mimetype": "text/x-python",
   "name": "python",
   "nbconvert_exporter": "python",
   "pygments_lexer": "ipython3",
   "version": "3.10.7"
  }
 },
 "nbformat": 4,
 "nbformat_minor": 5
}
