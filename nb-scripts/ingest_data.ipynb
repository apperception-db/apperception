{
 "cells": [
  {
   "cell_type": "code",
   "execution_count": null,
   "id": "6bf3bf67-3f34-4643-9fb0-3a57e8aa257f",
   "metadata": {},
   "outputs": [],
   "source": [
    "from apperception.database import Database, database\n",
    "from apperception.utils import import_tables, ingest_road"
   ]
  },
  {
   "cell_type": "code",
   "execution_count": null,
   "id": "6fd4c4d8-1a23-41e2-9b6d-5dd9d9199018",
   "metadata": {},
   "outputs": [],
   "source": [
    "ingest_road(database, '/work/apperception/data/road_network')"
   ]
  },
  {
   "cell_type": "code",
   "execution_count": null,
   "id": "754710d2-1dae-474f-b1ab-47eb48936b06",
   "metadata": {},
   "outputs": [],
   "source": [
    "from apperception.world import empty_world\n",
    "import os\n",
    "import pickle"
   ]
  },
  {
   "cell_type": "code",
   "execution_count": null,
   "id": "d5662ae1-35d8-41a1-83c4-64cde21497b1",
   "metadata": {},
   "outputs": [],
   "source": [
    "world = empty_world(\"w\")"
   ]
  },
  {
   "cell_type": "code",
   "execution_count": null,
   "id": "5fac6502-363d-4679-a02e-dd7c0a556298",
   "metadata": {},
   "outputs": [],
   "source": [
    "base_dir = '/work/apperception/data/nuScenes/full-dataset-v1.0/Trainval'"
   ]
  },
  {
   "cell_type": "code",
   "execution_count": null,
   "id": "06dc1625-f3c7-4150-afe3-1ab88f14fa5a",
   "metadata": {},
   "outputs": [],
   "source": [
    "# Or uncomment this cell\n",
    "with open(os.path.join(base_dir, 'sample_data.pickle'), \"rb\") as f:\n",
    "    df_sample_data = pickle.loads(f.read())\n",
    "with open(os.path.join(base_dir, 'annotation.pickle'), \"rb\") as f:\n",
    "    df_annotation = pickle.loads(f.read())"
   ]
  },
  {
   "cell_type": "code",
   "execution_count": null,
   "id": "04bcb8d8-4fe4-4de2-b7de-2d59140c07ad",
   "metadata": {},
   "outputs": [],
   "source": [
    "scenes = df_sample_data['scene_name'].drop_duplicates().values.tolist()"
   ]
  },
  {
   "cell_type": "code",
   "execution_count": null,
   "id": "1e0a4d48-6d18-4029-be5a-7b671c9f3411",
   "metadata": {
    "jupyter": {
     "outputs_hidden": true
    },
    "tags": []
   },
   "outputs": [],
   "source": [
    "from apperception.utils import df_to_camera_config\n",
    "from apperception.data_types import Camera\n",
    "database.reset()\n",
    "for scene in scenes:\n",
    "    print(scene, scenes[-1])\n",
    "    config = df_to_camera_config(scene, df_sample_data)\n",
    "    camera = Camera(config=config, id=scene)\n",
    "    world <<= (camera, df_annotation)"
   ]
  },
  {
   "cell_type": "code",
   "execution_count": null,
   "id": "d80e1adc-a588-458c-aa05-00dd8898ed77",
   "metadata": {
    "tags": []
   },
   "outputs": [],
   "source": [
    "world.get_traj_key()"
   ]
  },
  {
   "cell_type": "code",
   "execution_count": null,
   "id": "09c9dccc-47e9-4931-a8e1-446c70e8eba6",
   "metadata": {},
   "outputs": [],
   "source": []
  },
  {
   "cell_type": "code",
   "execution_count": null,
   "id": "504b379d-bb73-4ee7-9d96-4db355604bee",
   "metadata": {},
   "outputs": [],
   "source": []
  }
 ],
 "metadata": {
  "kernelspec": {
   "display_name": "Python 3 (ipykernel)",
   "language": "python",
   "name": "python3"
  },
  "language_info": {
   "codemirror_mode": {
    "name": "ipython",
    "version": 3
   },
   "file_extension": ".py",
   "mimetype": "text/x-python",
   "name": "python",
   "nbconvert_exporter": "python",
   "pygments_lexer": "ipython3",
   "version": "3.8.13"
  }
 },
 "nbformat": 4,
 "nbformat_minor": 5
}
